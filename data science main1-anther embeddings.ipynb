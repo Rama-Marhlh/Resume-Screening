{
 "cells": [
  {
   "cell_type": "code",
   "execution_count": 209,
   "id": "be604430-9daf-4184-a488-3bb701e55987",
   "metadata": {},
   "outputs": [
    {
     "name": "stderr",
     "output_type": "stream",
     "text": [
      "[nltk_data] Downloading package punkt to\n",
      "[nltk_data]     /Users/ramaalmrahleh/nltk_data...\n",
      "[nltk_data]   Package punkt is already up-to-date!\n",
      "[nltk_data] Downloading package stopwords to\n",
      "[nltk_data]     /Users/ramaalmrahleh/nltk_data...\n",
      "[nltk_data]   Package stopwords is already up-to-date!\n"
     ]
    },
    {
     "data": {
      "text/plain": [
       "True"
      ]
     },
     "execution_count": 209,
     "metadata": {},
     "output_type": "execute_result"
    }
   ],
   "source": [
    "import pandas as pd\n",
    "import matplotlib.pyplot as plt\n",
    "import seaborn as sns\n",
    "import numpy as np\n",
    "import re\n",
    "import torch\n",
    "from rank_bm25 import BM25Okapi\n",
    "from nltk.corpus import stopwords\n",
    "from nltk.tokenize import word_tokenize\n",
    "from nltk.stem import PorterStemmer\n",
    "from nltk.stem import WordNetLemmatizer\n",
    "from transformers import BertTokenizer\n",
    "from rank_bm25 import BM25Okapi\n",
    "from sklearn.metrics import roc_curve, auc\n",
    "from sklearn.preprocessing import MinMaxScaler\n",
    "from sklearn.metrics.pairwise import euclidean_distances\n",
    "from sklearn.neighbors import NearestNeighbors\n",
    "from sentence_transformers import SentenceTransformer, util\n",
    "from sentence_transformers import SentenceTransformer\n",
    "from sklearn.metrics.pairwise import cosine_similarity\n",
    "from sklearn.decomposition import TruncatedSVD\n",
    "from sklearn.feature_extraction.text import TfidfVectorizer\n",
    "from sklearn.svm import SVC\n",
    "from sklearn.ensemble import RandomForestClassifier\n",
    "from sklearn.metrics import classification_report, accuracy_score\n",
    "from xgboost import XGBClassifier\n",
    "from sklearn.metrics import precision_score, recall_score, f1_score, accuracy_score, confusion_matrix\n",
    "import torch\n",
    "from transformers import AutoTokenizer, AutoModelForCausalLM\n",
    "\n",
    "# Download stopwords \n",
    "import nltk\n",
    "nltk.download('punkt')\n",
    "nltk.download('stopwords')"
   ]
  },
  {
   "cell_type": "code",
   "execution_count": 210,
   "id": "b455a2e1-15a6-47b9-a40f-786c0e2a7668",
   "metadata": {},
   "outputs": [],
   "source": [
    "data = pd.read_csv(\"resume_dataset.csv\")"
   ]
  },
  {
   "cell_type": "code",
   "execution_count": 211,
   "id": "8a11aaad-4b54-4cee-8da2-d495a1f31156",
   "metadata": {},
   "outputs": [
    {
     "name": "stdout",
     "output_type": "stream",
     "text": [
      "Displaying the distinct categories of resume and the number of records belonging to each category -\n",
      "Category\n",
      "Java Developer               14\n",
      "Database                     11\n",
      "HR                           11\n",
      "Data Science                 10\n",
      "Advocate                     10\n",
      "DotNet Developer              7\n",
      "Hadoop                        7\n",
      "DevOps Engineer               7\n",
      "Automation Testing            7\n",
      "Testing                       7\n",
      "Civil Engineer                6\n",
      "Business Analyst              6\n",
      "SAP Developer                 6\n",
      "Health and fitness            6\n",
      "Python Developer              6\n",
      "Arts                          6\n",
      "Electrical Engineering        5\n",
      "Sales                         5\n",
      "Network Security Engineer     5\n",
      "Mechanical Engineer           5\n",
      "Web Designing                 5\n",
      "ETL Developer                 5\n",
      "Blockchain                    5\n",
      "Operations Manager            4\n",
      "PMO                           3\n",
      "Name: count, dtype: int64\n"
     ]
    }
   ],
   "source": [
    "print (\"Displaying the distinct categories of resume and the number of records belonging to each category -\")\n",
    "print (data['Category'].value_counts())"
   ]
  },
  {
   "cell_type": "code",
   "execution_count": 212,
   "id": "d19ab842-5ed4-48db-b469-486f78825d5d",
   "metadata": {},
   "outputs": [
    {
     "name": "stdout",
     "output_type": "stream",
     "text": [
      "Number of resumes in HR category: 10\n"
     ]
    }
   ],
   "source": [
    "Data_Science_data = data[data['Category'] == 'Data Science']\n",
    "print(f\"Number of resumes in HR category: {Data_Science_data.shape[0]}\")"
   ]
  },
  {
   "cell_type": "code",
   "execution_count": 213,
   "id": "89666c0e-ac5d-47f5-a84c-59eb683d62c9",
   "metadata": {},
   "outputs": [
    {
     "data": {
      "text/html": [
       "<div>\n",
       "<style scoped>\n",
       "    .dataframe tbody tr th:only-of-type {\n",
       "        vertical-align: middle;\n",
       "    }\n",
       "\n",
       "    .dataframe tbody tr th {\n",
       "        vertical-align: top;\n",
       "    }\n",
       "\n",
       "    .dataframe thead th {\n",
       "        text-align: right;\n",
       "    }\n",
       "</style>\n",
       "<table border=\"1\" class=\"dataframe\">\n",
       "  <thead>\n",
       "    <tr style=\"text-align: right;\">\n",
       "      <th></th>\n",
       "      <th>Category</th>\n",
       "      <th>Resume</th>\n",
       "    </tr>\n",
       "  </thead>\n",
       "  <tbody>\n",
       "    <tr>\n",
       "      <th>0</th>\n",
       "      <td>Data Science</td>\n",
       "      <td>Skills * Programming Languages: Python (pandas...</td>\n",
       "    </tr>\n",
       "    <tr>\n",
       "      <th>1</th>\n",
       "      <td>Data Science</td>\n",
       "      <td>Education Details \\nMay 2013 to May 2017 B.E  ...</td>\n",
       "    </tr>\n",
       "    <tr>\n",
       "      <th>2</th>\n",
       "      <td>Data Science</td>\n",
       "      <td>Areas of Interest Deep Learning, Control Syste...</td>\n",
       "    </tr>\n",
       "    <tr>\n",
       "      <th>3</th>\n",
       "      <td>Data Science</td>\n",
       "      <td>Skills â¢ R â¢ Python â¢ SAP HANA â¢ Table...</td>\n",
       "    </tr>\n",
       "    <tr>\n",
       "      <th>4</th>\n",
       "      <td>Data Science</td>\n",
       "      <td>Education Details \\n MCA   YMCAUST,  Faridabad...</td>\n",
       "    </tr>\n",
       "    <tr>\n",
       "      <th>5</th>\n",
       "      <td>Data Science</td>\n",
       "      <td>SKILLS C Basics, IOT, Python, MATLAB, Data Sci...</td>\n",
       "    </tr>\n",
       "    <tr>\n",
       "      <th>6</th>\n",
       "      <td>Data Science</td>\n",
       "      <td>Skills â¢ Python â¢ Tableau â¢ Data Visuali...</td>\n",
       "    </tr>\n",
       "    <tr>\n",
       "      <th>7</th>\n",
       "      <td>Data Science</td>\n",
       "      <td>Education Details \\n B.Tech   Rayat and Bahra ...</td>\n",
       "    </tr>\n",
       "    <tr>\n",
       "      <th>8</th>\n",
       "      <td>Data Science</td>\n",
       "      <td>Personal Skills â¢ Ability to quickly grasp t...</td>\n",
       "    </tr>\n",
       "    <tr>\n",
       "      <th>9</th>\n",
       "      <td>Data Science</td>\n",
       "      <td>Expertise â Data and Quantitative Analysis â...</td>\n",
       "    </tr>\n",
       "  </tbody>\n",
       "</table>\n",
       "</div>"
      ],
      "text/plain": [
       "       Category                                             Resume\n",
       "0  Data Science  Skills * Programming Languages: Python (pandas...\n",
       "1  Data Science  Education Details \\nMay 2013 to May 2017 B.E  ...\n",
       "2  Data Science  Areas of Interest Deep Learning, Control Syste...\n",
       "3  Data Science  Skills â¢ R â¢ Python â¢ SAP HANA â¢ Table...\n",
       "4  Data Science  Education Details \\n MCA   YMCAUST,  Faridabad...\n",
       "5  Data Science  SKILLS C Basics, IOT, Python, MATLAB, Data Sci...\n",
       "6  Data Science  Skills â¢ Python â¢ Tableau â¢ Data Visuali...\n",
       "7  Data Science  Education Details \\n B.Tech   Rayat and Bahra ...\n",
       "8  Data Science  Personal Skills â¢ Ability to quickly grasp t...\n",
       "9  Data Science  Expertise â Data and Quantitative Analysis â..."
      ]
     },
     "execution_count": 213,
     "metadata": {},
     "output_type": "execute_result"
    }
   ],
   "source": [
    "Data_Science_data"
   ]
  },
  {
   "cell_type": "code",
   "execution_count": 214,
   "id": "806d68f6-789e-41f3-9aa1-25032b9522a3",
   "metadata": {},
   "outputs": [
    {
     "data": {
      "text/plain": [
       "'Skills * Programming Languages: Python (pandas, numpy, scipy, scikit-learn, matplotlib), Sql, Java, JavaScript/JQuery. * Machine learning: Regression, SVM, NaÃ¯ve Bayes, KNN, Random Forest, Decision Trees, Boosting techniques, Cluster Analysis, Word Embedding, Sentiment Analysis, Natural Language processing, Dimensionality reduction, Topic Modelling (LDA, NMF), PCA & Neural Nets. * Database Visualizations: Mysql, SqlServer, Cassandra, Hbase, ElasticSearch D3.js, DC.js, Plotly, kibana, matplotlib, ggplot, Tableau. * Others: Regular Expression, HTML, CSS, Angular 6, Logstash, Kafka, Python Flask, Git, Docker, computer vision - Open CV and understanding of Deep learning.Education Details \\nData Science Assurance AssociateData Science Assurance Associate - Ernst & Young LLPSkill Details \\nJAVASCRIPT- Exprience - 24 months\\njQuery- Exprience - 24 months\\nPython- Exprience - 24 monthsCompany Details \\ncompany - Ernst & Young LLP\\ndescription - Fraud Investigations and Dispute Services   Assurance\\nTECHNOLOGY ASSISTED REVIEW\\nTAR (Technology Assisted Review) assists in accelerating the review process and run analytics and generate reports.\\n* Core member of a team helped in developing automated review platform tool from scratch for assisting E discovery domain, this tool implements predictive coding and topic modelling by automating reviews, resulting in reduced labor costs and time spent during the lawyers review.\\n* Understand the end to end flow of the solution, doing research and development for classification models, predictive analysis and mining of the information present in text data. Worked on analyzing the outputs and precision monitoring for the entire tool.\\n* TAR assists in predictive coding, topic modelling from the evidence by following EY standards. Developed the classifier models in order to identify \"red flags\" and fraud-related issues.\\n\\nTools & Technologies: Python, scikit-learn, tfidf, word2vec, doc2vec, cosine similarity, NaÃ¯ve Bayes, LDA, NMF for topic modelling, Vader and text blob for sentiment analysis. Matplot lib, Tableau dashboard for reporting.\\n\\nMULTIPLE DATA SCIENCE AND ANALYTIC PROJECTS (USA CLIENTS)\\nTEXT ANALYTICS - MOTOR VEHICLE CUSTOMER REVIEW DATA * Received customer feedback survey data for past one year. Performed sentiment (Positive, Negative & Neutral) and time series analysis on customer comments across all 4 categories.\\n* Created heat map of terms by survey category based on frequency of words * Extracted Positive and Negative words across all the Survey categories and plotted Word cloud.\\n* Created customized tableau dashboards for effective reporting and visualizations.\\nCHATBOT * Developed a user friendly chatbot for one of our Products which handle simple questions about hours of operation, reservation options and so on.\\n* This chat bot serves entire product related questions. Giving overview of tool via QA platform and also give recommendation responses so that user question to build chain of relevant answer.\\n* This too has intelligence to build the pipeline of questions as per user requirement and asks the relevant /recommended questions.\\n\\nTools & Technologies: Python, Natural language processing, NLTK, spacy, topic modelling, Sentiment analysis, Word Embedding, scikit-learn, JavaScript/JQuery, SqlServer\\n\\nINFORMATION GOVERNANCE\\nOrganizations to make informed decisions about all of the information they store. The integrated Information Governance portfolio synthesizes intelligence across unstructured data sources and facilitates action to ensure organizations are best positioned to counter information risk.\\n* Scan data from multiple sources of formats and parse different file formats, extract Meta data information, push results for indexing elastic search and created customized, interactive dashboards using kibana.\\n* Preforming ROT Analysis on the data which give information of data which helps identify content that is either Redundant, Outdated, or Trivial.\\n* Preforming full-text search analysis on elastic search with predefined methods which can tag as (PII) personally identifiable information (social security numbers, addresses, names, etc.) which frequently targeted during cyber-attacks.\\nTools & Technologies: Python, Flask, Elastic Search, Kibana\\n\\nFRAUD ANALYTIC PLATFORM\\nFraud Analytics and investigative platform to review all red flag cases.\\nâ\\x80¢ FAP is a Fraud Analytics and investigative platform with inbuilt case manager and suite of Analytics for various ERP systems.\\n* It can be used by clients to interrogate their Accounting systems for identifying the anomalies which can be indicators of fraud by running advanced analytics\\nTools & Technologies: HTML, JavaScript, SqlServer, JQuery, CSS, Bootstrap, Node.js, D3.js, DC.js'"
      ]
     },
     "execution_count": 214,
     "metadata": {},
     "output_type": "execute_result"
    }
   ],
   "source": [
    "Data_Science_data.iloc[0]['Resume'] #yes"
   ]
  },
  {
   "cell_type": "code",
   "execution_count": 215,
   "id": "d0afd401-2405-4560-a2be-120d30c3cc90",
   "metadata": {},
   "outputs": [
    {
     "data": {
      "text/plain": [
       "'Education Details \\nMay 2013 to May 2017 B.E   UIT-RGPVData ScientistData Scientist - MatelabsSkill Details \\nPython- Exprience - Less than 1 year months\\nStatsmodels- Exprience - 12 months\\nAWS- Exprience - Less than 1 year months\\nMachine learning- Exprience - Less than 1 year months\\nSklearn- Exprience - Less than 1 year months\\nScipy- Exprience - Less than 1 year months\\nKeras- Exprience - Less than 1 year monthsCompany Details \\ncompany - Matelabs\\ndescription - ML Platform for business professionals, dummies and enthusiasts.\\n60/A Koramangala 5th block,\\nAchievements/Tasks behind sukh sagar, Bengaluru,\\nIndia                               Developed and deployed auto preprocessing steps of machine learning mainly missing value\\ntreatment, outlier detection, encoding, scaling, feature selection and dimensionality reduction.\\nDeployed automated classification and regression model.\\nlinkedin.com/in/aditya-rathore-\\nb4600b146                           Reasearch and deployed the time series forecasting model ARIMA, SARIMAX, Holt-winter and\\nProphet.\\nWorked on meta-feature extracting problem.\\ngithub.com/rathorology\\nImplemented a state of the art research paper on outlier detection for mixed attributes.\\ncompany - Matelabs\\ndescription - '"
      ]
     },
     "execution_count": 215,
     "metadata": {},
     "output_type": "execute_result"
    }
   ],
   "source": [
    "Data_Science_data.iloc[1]['Resume']"
   ]
  },
  {
   "cell_type": "code",
   "execution_count": 216,
   "id": "afa444e3-b95a-4992-89eb-457d6b20c63a",
   "metadata": {},
   "outputs": [
    {
     "data": {
      "text/plain": [
       "'Areas of Interest Deep Learning, Control System Design, Programming in-Python, Electric Machinery, Web Development, Analytics Technical Activities q Hindustan Aeronautics Limited, Bangalore - For 4 weeks under the guidance of Mr. Satish, Senior Engineer in the hangar of Mirage 2000 fighter aircraft Technical Skills Programming Matlab, Python and Java, LabView, Python WebFrameWork-Django, Flask, LTSPICE-intermediate Languages and and MIPOWER-intermediate, Github (GitBash), Jupyter Notebook, Xampp, MySQL-Basics, Python Software Packages Interpreters-Anaconda, Python2, Python3, Pycharm, Java IDE-Eclipse Operating Systems Windows, Ubuntu, Debian-Kali Linux Education Details \\nJanuary 2019 B.Tech. Electrical and Electronics Engineering  Manipal Institute of Technology\\nJanuary 2015    DEEKSHA CENTER\\nJanuary 2013    Little Flower Public School\\nAugust 2000    Manipal Academy of HigherDATA SCIENCEDATA SCIENCE AND ELECTRICAL ENTHUSIASTSkill Details \\nData Analysis- Exprience - Less than 1 year months\\nexcel- Exprience - Less than 1 year months\\nMachine Learning- Exprience - Less than 1 year months\\nmathematics- Exprience - Less than 1 year months\\nPython- Exprience - Less than 1 year months\\nMatlab- Exprience - Less than 1 year months\\nElectrical Engineering- Exprience - Less than 1 year months\\nSql- Exprience - Less than 1 year monthsCompany Details \\ncompany - THEMATHCOMPANY\\ndescription - I am currently working with a Casino based operator(name not to be disclosed) in Macau.I need to segment the customers who visit their property based on the value the patrons bring into the company.Basically prove that the segmentation can be done in much better way than the current system which they have with proper numbers to back it up.Henceforth they can implement target marketing strategy to attract their customers who add value to the business.'"
      ]
     },
     "execution_count": 216,
     "metadata": {},
     "output_type": "execute_result"
    }
   ],
   "source": [
    "Data_Science_data.iloc[2]['Resume']"
   ]
  },
  {
   "cell_type": "code",
   "execution_count": 217,
   "id": "1bb1623c-f467-4542-abda-df5dcdc55561",
   "metadata": {},
   "outputs": [
    {
     "data": {
      "text/plain": [
       "\"Skills â\\x80¢ R â\\x80¢ Python â\\x80¢ SAP HANA â\\x80¢ Tableau â\\x80¢ SAP HANA SQL â\\x80¢ SAP HANA PAL â\\x80¢ MS SQL â\\x80¢ SAP Lumira â\\x80¢ C# â\\x80¢ Linear Programming â\\x80¢ Data Modelling â\\x80¢ Advance Analytics â\\x80¢ SCM Analytics â\\x80¢ Retail Analytics â\\x80¢Social Media Analytics â\\x80¢ NLP Education Details \\nJanuary 2017 to January 2018 PGDM Business Analytics  Great Lakes Institute of Management & Illinois Institute of Technology\\nJanuary 2013 Bachelor of Engineering Electronics and Communication Bengaluru, Karnataka New Horizon College of Engineering, Bangalore Visvesvaraya Technological UniversityData Science ConsultantConsultant - Deloitte USISkill Details \\nLINEAR PROGRAMMING- Exprience - 6 months\\nRETAIL- Exprience - 6 months\\nRETAIL MARKETING- Exprience - 6 months\\nSCM- Exprience - 6 months\\nSQL- Exprience - Less than 1 year months\\nDeep Learning- Exprience - Less than 1 year months\\nMachine learning- Exprience - Less than 1 year months\\nPython- Exprience - Less than 1 year months\\nR- Exprience - Less than 1 year monthsCompany Details \\ncompany - Deloitte USI\\ndescription - The project involved analysing historic deals and coming with insights to optimize future deals.\\nRole: Was given raw data, carried out end to end analysis and presented insights to client.\\nKey Responsibilities:\\nâ\\x80¢ Extract data from client systems across geographies.\\nâ\\x80¢ Understand and build reports in tableau. Infer meaningful insights to optimize prices and find out process blockades.\\nTechnical Environment: R, Tableau.\\n\\nIndustry: Cross Industry\\nService Area: Cross Industry - Products\\nProject Name: Handwriting recognition\\nConsultant: 3 months.\\nThe project involved taking handwritten images and converting them to digital text images by object detection and sentence creation.\\nRole: I was developing sentence correction functionality.\\nKey Responsibilities:\\nâ\\x80¢ Gather data large enough to capture all English words\\nâ\\x80¢ Train LSTM models on words.\\nTechnical Environment: Python.\\n\\nIndustry: Finance\\nService Area: Financial Services - BI development Project Name: SWIFT\\nConsultant: 8 months.\\nThe project was to develop an analytics infrastructure on top of SAP S/4, it would user to view\\nfinancial reports to respective departments. Reporting also included forecasting expenses.\\nRole: I was leading the offshore team.\\nKey Responsibilities:\\nâ\\x80¢ Design & Develop data models for reporting.\\nâ\\x80¢ Develop ETL for data flow\\nâ\\x80¢ Validate various reports.\\nTechnical Environment: SAP HANA, Tableau, SAP AO.\\n\\nIndustry: Healthcare Analytics\\nService Area: Life Sciences - Product development Project Name: Clinical Healthcare System\\nConsultant: 2 months.\\nThe project was to develop an analytics infrastructure on top of Argus, it would allow users to query faster and provide advance analytics capabilities.\\nRole: I was involved from design to deploy phase, performed a lot of data restructuring and built\\nmodels for insights.\\nKey Responsibilities:\\nâ\\x80¢ Design & Develop data models for reporting.\\nâ\\x80¢ Develop and deploy analytical models.\\nâ\\x80¢ Validate various reports.\\nTechnical Environment: Data Modelling, SAP HANA, Tableau, NLP.\\n\\nIndustry: FMCG\\nService Area: Trade & Promotion\\nProject Name: Consumption Based Planning for Flowers Foods Consultant; 8 months.\\nThe project involved setting up of CRM and CBP modules.\\nRole: I was involved in key data decomposition activities and setting up the base for future year\\nforecast. Over the course of the project I developed various models and carried out key\\nperformance improvements.\\nKey Responsibilities:\\nâ\\x80¢ Design & Develop HANA models for decomposition.\\nâ\\x80¢ Develop data flow for forecast.\\nâ\\x80¢ Developed various views for reporting of Customer/Sales/Funds.\\nâ\\x80¢ Validate various reports in BOBJ.\\nTechnical Environment: Data Modelling, SAP HANA, BOBJ, Time Series Forecasting.\\n\\nInternal Initiative Industry: FMCG\\nCustomer Segmentation and RFM analysis Consultant; 3 months.\\nThe initiative involved setting up of HANA-Python interface and advance analytics on Python. Over the course I had successfully segmented data into five core segments using K-means and carried out RFM analysis in Python. Also developed algorithm to categorize any new customer under the defined buckets.\\nTechnical Environment: Anaconda3, Python3.6, HANA SPS12\\n\\nIndustry: Telecom Invoice state detection Consultant; 1 months.\\nThe initiative was to reduce the manual effort in verifying closed and open invoices manually, it\\ninvolved development to a decision tree to classify open/closed invoices. This enabled effort\\nreduction by 60%.\\nTechnical Environment: R, SAP PAL, SAP HANA SPS12\\n\\nAccenture Experience\\nIndustry: Analytics - Cross Industry\\nIn Process Analytics for SAP Senior Developer; 19 months.\\nAccenture Solutions Pvt. Ltd., India\\nThe project involved development of SAP analytics tool - In Process Analytics (IPA) . My role was to develop database objects and data models to provide operational insights to clients.\\nRole: I have developed various Finance related KPIs and spearheaded various deployments.\\nIntroduced SAP Predictive analytics to reduce development time and reuse functionalities for KPIs and prepared production planning reports.\\nKey Responsibilities:\\nâ\\x80¢ Involved in information gather phase.\\nâ\\x80¢ Designed and implemented SAP HANA data modelling using Attribute View, Analytic View, and\\nCalculation View.\\nâ\\x80¢ Developed various KPI's individually using complex SQL scripts in Calculation views.\\nâ\\x80¢ Created procedures in HANA Database.\\nâ\\x80¢ Took ownership and developed Dashboard functionality.\\nâ\\x80¢ Involved in building data processing algorithms to be executed in R server for cluster analysis.\\nTechnical Environment: R, SAP HANA, T-SQL.\\nIndustry: Cross Industry\\nAccenture Testing Accelerator for SAP Database Developer; 21 months.\\nAccenture Solutions Pvt. Ltd., India\\nRole: I have taken care of all development activities for the ATAS tool and have also completed\\nvarious deployments of the product.\\nApart from these activities I was also actively involved in maintenance of the database servers\\n(Production & Quality)\\nKey Responsibilities:\\nâ\\x80¢ Analyzing business requirements, understanding the scope, getting requirements clarified\\ninteracting with business and further transform all requirements to generate attribute\\nmapping documents and reviewing mapping specification documentation\\nâ\\x80¢ Create / Update database objects like tables, views, stored procedures, function, and packages\\nâ\\x80¢ Monitored SQL Server Error Logs and Application Logs through SQL Server Agent\\nâ\\x80¢ Prepared Data Flow Diagrams, Entity Relationship Diagrams using UML\\nâ\\x80¢ Responsible for Designing, developing and Normalization of database tables\\nâ\\x80¢ Experience in performance tuning using SQL profiler.\\nâ\\x80¢ Involved in QA, UAT, knowledge transfer and support activities\\nTechnical Environment: SQL Server 2008/2014, Visual Studio 2010, Windows Server, Performance\\nMonitor, SQL Server Profiler, C#, PL-SQL, T-SQL.\""
      ]
     },
     "execution_count": 217,
     "metadata": {},
     "output_type": "execute_result"
    }
   ],
   "source": [
    "Data_Science_data.iloc[3]['Resume']"
   ]
  },
  {
   "cell_type": "code",
   "execution_count": 218,
   "id": "075fc97d-0fc5-4c4f-911c-d350f1910435",
   "metadata": {},
   "outputs": [
    {
     "data": {
      "text/plain": [
       "'Education Details \\n MCA   YMCAUST,  Faridabad,  HaryanaData Science internshipSkill Details \\nData Structure- Exprience - Less than 1 year months\\nC- Exprience - Less than 1 year months\\nData Analysis- Exprience - Less than 1 year months\\nPython- Exprience - Less than 1 year months\\nCore Java- Exprience - Less than 1 year months\\nDatabase Management- Exprience - Less than 1 year monthsCompany Details \\ncompany - Itechpower\\ndescription - '"
      ]
     },
     "execution_count": 218,
     "metadata": {},
     "output_type": "execute_result"
    }
   ],
   "source": [
    "Data_Science_data.iloc[4]['Resume']"
   ]
  },
  {
   "cell_type": "code",
   "execution_count": 219,
   "id": "a97d151a-b662-4af2-9821-8cbdd72c8390",
   "metadata": {},
   "outputs": [
    {
     "data": {
      "text/plain": [
       "\"SKILLS C Basics, IOT, Python, MATLAB, Data Science, Machine Learning, HTML, Microsoft Word, Microsoft Excel, Microsoft Powerpoint. RECOGNITION Academic Secured First place in B.Tech.Education Details \\nAugust 2014 to May 2018 B.Tech.  Ghatkesar, Andhra Pradesh Aurora's Scientific and Technological Institute\\nJune 2012 to May 2014  Secondary Education Warangal, Telangana SR Junior CollegeData ScienceSkill Details \\nMS OFFICE- Exprience - Less than 1 year months\\nC- Exprience - Less than 1 year months\\nmachine learning- Exprience - Less than 1 year months\\ndata science- Exprience - Less than 1 year months\\nMatlab- Exprience - Less than 1 year monthsCompany Details \\ncompany - \\ndescription - \""
      ]
     },
     "execution_count": 219,
     "metadata": {},
     "output_type": "execute_result"
    }
   ],
   "source": [
    "Data_Science_data.iloc[5]['Resume']"
   ]
  },
  {
   "cell_type": "code",
   "execution_count": 220,
   "id": "1b3982da-db86-4682-ac11-5ee2bd0a25bd",
   "metadata": {},
   "outputs": [
    {
     "data": {
      "text/plain": [
       "'Skills â\\x80¢ Python â\\x80¢ Tableau â\\x80¢ Data Visualization â\\x80¢ R Studio â\\x80¢ Machine Learning â\\x80¢ Statistics IABAC Certified Data Scientist with versatile experience over 1+ years in managing business, data science consulting and leading innovation projects, bringing business ideas to working real world solutions. Being a strong advocator of augmented era, where human capabilities are enhanced by machines, Fahed is passionate about bringing business concepts in area of machine learning, AI, robotics etc., to real life solutions.Education Details \\nJanuary 2017 B. Tech Computer Science & Engineering Mohali, Punjab Indo Global College of EngineeringData Science ConsultantData Science Consultant - DatamitesSkill Details \\nMACHINE LEARNING- Exprience - 13 months\\nPYTHON- Exprience - 24 months\\nSOLUTIONS- Exprience - 24 months\\nDATA SCIENCE- Exprience - 24 months\\nDATA VISUALIZATION- Exprience - 24 months\\nTableau- Exprience - 24 monthsCompany Details \\ncompany - Datamites\\ndescription - â\\x80¢ Analyzed and processed complex data sets using advanced querying, visualization and analytics tools.\\nâ\\x80¢ Responsible for loading, extracting and validation of client data.\\nâ\\x80¢ Worked on manipulating, cleaning & processing data using python.\\nâ\\x80¢ Used Tableau for data visualization.\\ncompany - Heretic Solutions Pvt Ltd\\ndescription - â\\x80¢ Worked closely with business to identify issues and used data to propose solutions for effective decision making.\\nâ\\x80¢ Manipulating, cleansing & processing data using Python, Excel and R.\\nâ\\x80¢ Analyzed raw data, drawing conclusions & developing recommendations.\\nâ\\x80¢ Used machine learning tools and statistical techniques to produce solutions to problems.'"
      ]
     },
     "execution_count": 220,
     "metadata": {},
     "output_type": "execute_result"
    }
   ],
   "source": [
    "Data_Science_data.iloc[6]['Resume']"
   ]
  },
  {
   "cell_type": "code",
   "execution_count": 221,
   "id": "f45b9f11-fac8-4c53-9b2a-fb34e09e0bdd",
   "metadata": {},
   "outputs": [
    {
     "data": {
      "text/plain": [
       "'Education Details \\n B.Tech   Rayat and Bahra Institute of Engineering and BiotechnologyData ScienceData ScienceSkill Details \\nNumpy- Exprience - Less than 1 year months\\nMachine Learning- Exprience - Less than 1 year months\\nTensorflow- Exprience - Less than 1 year months\\nScikit- Exprience - Less than 1 year months\\nPython- Exprience - Less than 1 year months\\nGCP- Exprience - Less than 1 year months\\nPandas- Exprience - Less than 1 year months\\nNeural Network- Exprience - Less than 1 year monthsCompany Details \\ncompany - Wipro\\ndescription - Bhawana Aggarwal\\nE-Mail:bhawana.chd@gmail.com\\nPhone: 09876971076\\nVVersatile, high-energy professional targeting challenging assignments in Machine\\nPROFILE SUMMARY\\nâ\\x96ª An IT professional with knowledge and experience of 2 years in Wipro Technologies in Machine\\nLearning, Deep Learning, Data Science, Python, Software Development.\\nâ\\x96ª Skilled in managing end-to-end development and software products / projects from inception, requirement\\nspecs, planning, designing, implementation, configuration and documentation.\\nâ\\x96ª Knowledge on Python , Machine Learning, Deep Learning, data Science, Algorithms, Neural Network,\\nNLP, GCP.\\nâ\\x96ª Knowledge on Python Libraries like Numpy, Pandas, Seaborn , Matplotlib, Cufflinks.\\nâ\\x96ª Knowledge on different algorithms in Machine learning like KNN, Decision Tree, Bias variance Trade off,\\nSupport vector Machine(SVM),Logistic Regression, Neural networks.\\nâ\\x96ª Have knowledge on unsupervised, Supervised and reinforcement data.\\nâ\\x96ª Programming experience in relational platforms like MySQL,Oracle.\\nâ\\x96ª Have knowledge on Some programming language like C++,Java.\\nâ\\x96ª Experience in cloud based environment like Google Cloud.\\nâ\\x96ª Working on different Operating System like Linux, Ubuntu, Windows.\\nâ\\x96ª Good interpersonal and communication skills.\\nâ\\x96ª Problem solving skills with the ability to think laterally, and to think with a medium term and long term\\nperspective\\nâ\\x96ª Flexibility and an open attitude to change.\\nâ\\x96ª Ability to create, define and own frameworks with a strong emphasis on code reusability.\\nTECHNICAL SKILLS\\nProgramming Languages Python, C\\nLibraries Seaborn, Numpy, Pandas, Cufflinks, Matplotlib\\nAlgorithms\\nKNN, Decision Tree, Linear regression, Logistic Regression, Neural Networks, K means clustering,\\nTensorflow, SVM\\nDatabases SQL, Oracle\\nOperating Systems Linux, Window\\nDevelopment Environments NetBeans, Notebooks, Sublime\\nTicketing tools Service Now, Remedy\\nEducation\\nUG Education:\\nB.Tech (Computer Science) from Rayat and Bahra Institute of Engineering and Biotechnology passed with 78.4%in\\n2016.\\nSchooling:\\nXII in 2012 from Moti Ram Arya Sr. Secondary School(Passed with 78.4%)\\nX in 2010 from Valley Public School (Passed with 9.4 CGPA)\\nWORK EXPERINCE\\nTitle : Wipro Neural Intelligence Platform\\nTeam Size : 5\\nBrief: Wiproâ\\x80\\x99s Neural Intelligence Platform harnesses the power of automation and artificial intelligence\\ntechnologiesâ\\x80\\x94natural language processing (NLP), cognitive, machine learning, and analytics. The platform\\ncomprises three layers: a data engagement platform that can easily access and manage multiple structured and\\nunstructured data sources; an â\\x80\\x9cintent assessment and reasoningâ\\x80\\x9d engine that includes sentiment and predictive\\nanalytics; and a deep machine learning engine that can sense, act, and learn over time. The project entailed\\nautomating responses to user queries at the earliest. The Monster Bot using the power of Deep Machine Learning,\\nNLP to handle such queries. User can see the how their queries can be answered quickly like allL1 activities can be\\neliminated.\\nEntity Extractor -> This involves text extraction and NLP for fetching out important information from the text like\\ndates, names, places, contact numbers etc. This involves Regex, Bluemix NLU apiâ\\x80\\x99s and machine learning using\\nTensor flow for further learning of new entities.\\nClassifier ->This involves the classifications of classes, training of dataset and predicting the output using the SKLearn\\nclassifier (MNB, SVM, SGD as Classifier) and SGD for the optimization to map the user queries with the best\\nsuited response and make the system efficient.\\nNER: A Deep Learning NER Model is trained to extract the entities from the text. Entities like Roles, Skills,\\nOrganizations can be extracted from raw text. RNN(LSTM) Bidirectional model is trained for extracting such entities\\nusing Keras TensorFlow framework.\\nOTHER PROJECTS\\nTitle : Diabetes Detection\\nBrief : Developed the software which can detect whether the person is suffering from Diabetes or not and got the third\\nprize in it.\\nTRAINING AND CERTIFICATIONS\\nTitle: Python Training, Machine Learning, Data Science, Deep Learning\\nOrganization: Udemy, Coursera (Machine Learning, Deep Learning)\\nPersonal Profile\\nFatherâ\\x80\\x99s Name :Mr. Tirlok Aggarwal\\nLanguage Known : English & Hindi\\nMarital Status :Single\\nDate of Birth(Gender):1993-12-20(YYYY-MM-DD) (F)\\ncompany - Wipro\\ndescription - Developing programs in Python.\\ncompany - Wipro\\ndescription - Title : Wipro Neural Intelligence Platform\\nTeam Size : 5\\nBrief: Wiproâ\\x80\\x99s Neural Intelligence Platform harnesses the power of automation and artificial intelligence\\ntechnologiesâ\\x80\\x94natural language processing (NLP), cognitive, machine learning, and analytics. The platform\\ncomprises three layers: a data engagement platform that can easily access and manage multiple structured and\\nunstructured data sources; an â\\x80\\x9cintent assessment and reasoningâ\\x80\\x9d engine that includes sentiment and predictive\\nanalytics; and a deep machine learning engine that can sense, act, and learn over time. The project entailed\\nautomating responses to user queries at the earliest. The Monster Bot using the power of Deep Machine Learning,\\nNLP to handle such queries. User can see the how their queries can be answered quickly like allL1 activities can be\\neliminated.\\nEntity Extractor -> This involves text extraction and NLP for fetching out important information from the text like\\ndates, names, places, contact numbers etc. This involves Regex, Bluemix NLU apiâ\\x80\\x99s and machine learning using\\nTensor flow for further learning of new entities.\\nClassifier ->This involves the classifications of classes, training of dataset and predicting the output using the SKLearn\\nclassifier (MNB, SVM, SGD as Classifier) and SGD for the optimization to map the user queries with the best\\nsuited response and make the system efficient.\\nNER: A Deep Learning NER Model is trained to extract the entities from the text. Entities like Roles, Skills,\\nOrganizations can be extracted from raw text. RNN(LSTM) Bidirectional model is trained for extracting such entities\\nusing Keras TensorFlow framework.\\ncompany - Wipro Technologies\\ndescription - An IT professional with knowledge and experience of 2 years in Wipro Technologies in Machine\\nLearning, Deep Learning, Data Science, Python, Software Development.\\nâ\\x96ª Skilled in managing end-to-end development and software products / projects from inception, requirement\\nspecs, planning, designing, implementation, configuration and documentation.\\nâ\\x96ª Knowledge on Python , Machine Learning, Deep Learning, data Science, Algorithms, Neural Network,\\nNLP, GCP.\\nâ\\x96ª Knowledge on Python Libraries like Numpy, Pandas, Seaborn , Matplotlib, Cufflinks.\\nâ\\x96ª Knowledge on different algorithms in Machine learning like KNN, Decision Tree, Bias variance Trade off,\\nSupport vector Machine(SVM),Logistic Regression, Neural networks.\\nâ\\x96ª Have knowledge on unsupervised, Supervised and reinforcement data.\\nâ\\x96ª Programming experience in relational platforms like MySQL,Oracle.\\nâ\\x96ª Have knowledge on Some programming language like C++,Java.\\nâ\\x96ª Experience in cloud based environment like Google Cloud.\\nâ\\x96ª Working on different Operating System like Linux, Ubuntu, Windows.\\nâ\\x96ª Good interpersonal and communication skills.\\nâ\\x96ª Problem solving skills with the ability to think laterally, and to think with a medium term and long term\\nperspective\\nâ\\x96ª Flexibility and an open attitude to change.\\nâ\\x96ª Ability to create, define and own frameworks with a strong emphasis on code reusability.'"
      ]
     },
     "execution_count": 221,
     "metadata": {},
     "output_type": "execute_result"
    }
   ],
   "source": [
    "Data_Science_data.iloc[7]['Resume'] #yes"
   ]
  },
  {
   "cell_type": "code",
   "execution_count": 222,
   "id": "35491920-d21e-4884-94f0-da619c81dbd7",
   "metadata": {},
   "outputs": [
    {
     "data": {
      "text/plain": [
       "'Personal Skills â\\x9e¢ Ability to quickly grasp technical aspects and willingness to learn â\\x9e¢ High energy levels & Result oriented. Education Details \\nJanuary 2018 Master of Engineering Computer Technology & Application Bhopal, Madhya Pradesh Truba Institute of Engineering & Information Technology\\nJanuary 2010 B.E. computer science Bhopal, Madhya Pradesh RKDF Institute of Science and Technology College of Engineering\\nJanuary 2006 Polytechnic Information Technology Vidisha, Madhya Pradesh SATI Engineering College in Vidisha\\nJanuary 2003 M.tech Thesis Detail  BMCH School in Ganj basodaData scienceI have six month experience in Data Science. Key Skills: - Experience in Machine Learning, Deep Leaning, NLP, Python, SQL, Web Scraping Good knowledge in computer subjects and ability to updateSkill Details \\nExperience in Machine Learning, Deep Learning, NLP, Python, SQL, Web Crawling, HTML,CSS.- Exprience - Less than 1 year monthsCompany Details \\ncompany - RNT.AI Technology Solution\\ndescription - Text classification using Machine learning Algorithms with python.\\nPractical knowledge of Deep learning algorithms such as Â\\xa0Recurrent Neural Networks(RNN).\\nDevelop custom data models and algorithms to apply to dataset\\nExperience with Python packages like Pandas, Scikit-learn, Tensor Flow, Numpy, Matplotliv, NLTK.\\nComfort with SQL, Â\\xa0MYSQL\\nSentiment analysis.\\nÂ\\xa0Apply leave Dataset using classification technique like Tf--idf , LSA with cosine similarity using Machine learning Algorithms.\\nWeb crawling using Selenium web driver and Beautiful Soup with python.\\ncompany - Life Insurance Corporation of India Bhopal\\ndescription - Ã¼Â\\xa0Explaining policy features and the benefits\\nÃ¼ Updated knowledge of life insurance products and shared with customers'"
      ]
     },
     "execution_count": 222,
     "metadata": {},
     "output_type": "execute_result"
    }
   ],
   "source": [
    "Data_Science_data.iloc[8]['Resume'] #yes"
   ]
  },
  {
   "cell_type": "code",
   "execution_count": 223,
   "id": "9ad4bd21-9064-4fd0-8f13-a1e0c05cbd56",
   "metadata": {
    "scrolled": true
   },
   "outputs": [
    {
     "data": {
      "text/plain": [
       "'Expertise â\\x88\\x92 Data and Quantitative Analysis â\\x88\\x92 Decision Analytics â\\x88\\x92 Predictive Modeling â\\x88\\x92 Data-Driven Personalization â\\x88\\x92 KPI Dashboards â\\x88\\x92 Big Data Queries and Interpretation â\\x88\\x92 Data Mining and Visualization Tools â\\x88\\x92 Machine Learning Algorithms â\\x88\\x92 Business Intelligence (BI) â\\x88\\x92 Research, Reports and Forecasts Education Details \\n PGP in Data Science  Mumbai, Maharashtra Aegis School of data science & Business\\n B.E. in Electronics & Communication Electronics & Communication Indore, Madhya Pradesh IES IPS AcademyData ScientistData Scientist with PR CanadaSkill Details \\nAlgorithms- Exprience - 6 months\\nBI- Exprience - 6 months\\nBusiness Intelligence- Exprience - 6 months\\nMachine Learning- Exprience - 24 months\\nVisualization- Exprience - 24 months\\nspark- Exprience - 24 months\\npython- Exprience - 36 months\\ntableau- Exprience - 36 months\\nData Analysis- Exprience - 24 monthsCompany Details \\ncompany - Aegis school of Data Science & Business\\ndescription - Mostly working on industry project for providing solution along with Teaching Appointments: Teach undergraduate and graduate-level courses in Spark and Machine Learning as an adjunct faculty member at Aegis School of Data Science, Mumbai (2017 to Present)\\ncompany - Aegis school of Data & Business\\ndescription - Data Science Intern, Nov 2015 to Jan 2016\\n\\nFurnish executive leadership team with insights, analytics, reports and recommendations enabling effective strategic planning across all business units, distribution channels and product lines.\\n\\nâ\\x9e\\x94 Chat Bot using AWS LEX and Tensor flow  Python\\nThe goal of project creates a chat bot for an academic institution or university to handle queries related courses offered by that institute. The objective of this task is to reduce human efforts as well as reduce man made errors. Even by this companies handle their client 24x7. In this case companies are academic institutions and clients are participants or students.\\nâ\\x9e\\x94 Web scraping using Selenium web driver   Python\\nThe task is to scrap the data from the online messaging portal in a text format and have to find the pattern form it.\\nâ\\x9e\\x94 Data Visualization and Data insights   Hadoop Eco System, Hive, PySpark, QlikSense\\nThe goal of this project is to build a Business Solutions to a Internet Service Provider Company, like handling data which is generated per day basis, for that we have to visualize that data and find the usage pattern form it and have a generate a reports.\\nâ\\x9e\\x94 Image Based Fraud Detection   Microsoft Face API, PySpark, Open CV\\nThe main goal of project is Recognize similarity for a face to given Database images. Face recognition is the recognizing a special face from set of different faces. Face is extracted and then compared with the database Image if that Image recognized then the person already applied for loan from somewhere else and now hiding his or her identity, this is how we are going to prevent the frauds in the initial stage itself.\\nâ\\x9e\\x94 Churn Analysis for Internet Service Provider   R, Python, Machine Learning, Hadoop\\nThe objective is to identify the customer who is likely to churn in a given period of time; we have to pretend the customer giving incentive offers.\\nâ\\x9e\\x94 Sentiment Analysis   Python, NLP, Apache Spark service in IBM Bluemix.\\nThis project is highly emphasis on tweets from Twitter data were taken for mobile networks service provider to do a sentiment analysis and analyze whether the expressed opinion was positive, negative or neutral, capture the emotions of the tweets and comparative analysis.\\n\\nQuantifiable Results:\\nâ\\x88\\x92 Mentored 7-12 Data Science Enthusiast each year that have all since gone on to graduate school in Data Science and Business Analytics.\\nâ\\x88\\x92 Reviewed and evaluated 20-40 Research Papers on Data Science for one of the largest Data Science Conference called Data Science Congress by Aegis School of Business Mumbai.\\nâ\\x88\\x92 Heading a solution providing organization called Data Science Delivered into Aegis school of Data Science Mumbai and managed 4-5 live projects using Data Science techniques.\\nâ\\x88\\x92 Working for some social cause with the help of Data Science for Social Goods Committee, where our team developed a product called \"Let\\'s find a missing Child\" for helping society.\\ncompany - IBM India pvt ltd\\ndescription - Mostly worked on blumix and IBM Watson for Data science.'"
      ]
     },
     "execution_count": 223,
     "metadata": {},
     "output_type": "execute_result"
    }
   ],
   "source": [
    "Data_Science_data.iloc[9]['Resume'] #yes"
   ]
  },
  {
   "cell_type": "code",
   "execution_count": 224,
   "id": "8f142c64-dd78-4f55-b2a4-b963ae21a505",
   "metadata": {},
   "outputs": [],
   "source": [
    "job_description = \"\"\"\n",
    "Job Title: AI Engineer\n",
    "\n",
    "Job Type: Full-Time\n",
    "\n",
    "Location: Remote\n",
    "\n",
    "About us:\n",
    "micro1 connects exceptional talent to transformative projects. We’re here to provide not just a job, but a platform for you to grow and achieve your career goals. We're proud to work with trusted partners such as Deel, Immutable, O’Gara, and LegalSoft.\n",
    "\n",
    "What We Offer:\n",
    "Work from anywhere\n",
    "Healthcare reimbursement\n",
    "Wi-Fi reimbursement\n",
    "Unlimited learning and more.\n",
    "\n",
    "Job Summary:\n",
    "Join our dynamic team at micro1 as an AI Engineer. You'll have the opportunity to develop cutting-edge machine learning models and AI-driven solutions from anywhere in the world. This role not only offers the chance to work on impactful projects but also provides a supportive environment focused on your career growth.\n",
    "\n",
    "Key Responsibilities:\n",
    "Develop and optimize deep learning models using frameworks like PyTorch and TensorFlow.\n",
    "Collaborate closely with product teams to integrate AI solutions seamlessly.\n",
    "Design and implement Natural Language Processing (NLP) solutions to enhance user experience.\n",
    "Conduct thorough testing and validation of machine learning models.\n",
    "Stay updated with the latest advancements in AI and deep learning technologies.\n",
    "Document processes and findings clearly to support team knowledge sharing.\n",
    "Analyze data sets to extract meaningful insights for business applications.\n",
    "\n",
    "Required Skills and Qualifications:\n",
    "Proficiency in Deep Learning frameworks such as PyTorch and TensorFlow.\n",
    "Strong experience with Natural Language Processing (NLP) models and techniques.\n",
    "Excellent written and verbal communication skills.\n",
    "Demonstrated ability to work independently in a remote setting.\n",
    "Solid understanding of machine learning algorithms and principles.\n",
    "\n",
    "Preferred Qualifications:\n",
    "Experience with Reinforcement Learning.\n",
    "Familiarity with cloud-based AI services and deployment.\"\"\""
   ]
  },
  {
   "cell_type": "code",
   "execution_count": 225,
   "id": "af1b3d64-bea5-4e65-a8fd-711eb6b058df",
   "metadata": {},
   "outputs": [
    {
     "data": {
      "text/html": [
       "<div>\n",
       "<style scoped>\n",
       "    .dataframe tbody tr th:only-of-type {\n",
       "        vertical-align: middle;\n",
       "    }\n",
       "\n",
       "    .dataframe tbody tr th {\n",
       "        vertical-align: top;\n",
       "    }\n",
       "\n",
       "    .dataframe thead th {\n",
       "        text-align: right;\n",
       "    }\n",
       "</style>\n",
       "<table border=\"1\" class=\"dataframe\">\n",
       "  <thead>\n",
       "    <tr style=\"text-align: right;\">\n",
       "      <th></th>\n",
       "      <th>Category</th>\n",
       "      <th>Resume</th>\n",
       "    </tr>\n",
       "  </thead>\n",
       "  <tbody>\n",
       "    <tr>\n",
       "      <th>0</th>\n",
       "      <td>Data Science</td>\n",
       "      <td>Skills * Programming Languages: Python (pandas...</td>\n",
       "    </tr>\n",
       "    <tr>\n",
       "      <th>1</th>\n",
       "      <td>Data Science</td>\n",
       "      <td>Education Details \\nMay 2013 to May 2017 B.E  ...</td>\n",
       "    </tr>\n",
       "    <tr>\n",
       "      <th>2</th>\n",
       "      <td>Data Science</td>\n",
       "      <td>Areas of Interest Deep Learning, Control Syste...</td>\n",
       "    </tr>\n",
       "    <tr>\n",
       "      <th>3</th>\n",
       "      <td>Data Science</td>\n",
       "      <td>Skills â¢ R â¢ Python â¢ SAP HANA â¢ Table...</td>\n",
       "    </tr>\n",
       "    <tr>\n",
       "      <th>4</th>\n",
       "      <td>Data Science</td>\n",
       "      <td>Education Details \\n MCA   YMCAUST,  Faridabad...</td>\n",
       "    </tr>\n",
       "    <tr>\n",
       "      <th>5</th>\n",
       "      <td>Data Science</td>\n",
       "      <td>SKILLS C Basics, IOT, Python, MATLAB, Data Sci...</td>\n",
       "    </tr>\n",
       "    <tr>\n",
       "      <th>6</th>\n",
       "      <td>Data Science</td>\n",
       "      <td>Skills â¢ Python â¢ Tableau â¢ Data Visuali...</td>\n",
       "    </tr>\n",
       "    <tr>\n",
       "      <th>7</th>\n",
       "      <td>Data Science</td>\n",
       "      <td>Education Details \\n B.Tech   Rayat and Bahra ...</td>\n",
       "    </tr>\n",
       "    <tr>\n",
       "      <th>8</th>\n",
       "      <td>Data Science</td>\n",
       "      <td>Personal Skills â¢ Ability to quickly grasp t...</td>\n",
       "    </tr>\n",
       "    <tr>\n",
       "      <th>9</th>\n",
       "      <td>Data Science</td>\n",
       "      <td>Expertise â Data and Quantitative Analysis â...</td>\n",
       "    </tr>\n",
       "  </tbody>\n",
       "</table>\n",
       "</div>"
      ],
      "text/plain": [
       "       Category                                             Resume\n",
       "0  Data Science  Skills * Programming Languages: Python (pandas...\n",
       "1  Data Science  Education Details \\nMay 2013 to May 2017 B.E  ...\n",
       "2  Data Science  Areas of Interest Deep Learning, Control Syste...\n",
       "3  Data Science  Skills â¢ R â¢ Python â¢ SAP HANA â¢ Table...\n",
       "4  Data Science  Education Details \\n MCA   YMCAUST,  Faridabad...\n",
       "5  Data Science  SKILLS C Basics, IOT, Python, MATLAB, Data Sci...\n",
       "6  Data Science  Skills â¢ Python â¢ Tableau â¢ Data Visuali...\n",
       "7  Data Science  Education Details \\n B.Tech   Rayat and Bahra ...\n",
       "8  Data Science  Personal Skills â¢ Ability to quickly grasp t...\n",
       "9  Data Science  Expertise â Data and Quantitative Analysis â..."
      ]
     },
     "execution_count": 225,
     "metadata": {},
     "output_type": "execute_result"
    }
   ],
   "source": [
    "Data_Science_data"
   ]
  },
  {
   "cell_type": "code",
   "execution_count": 226,
   "id": "e3b49ff1-88f5-4ead-a40a-a7a13392a607",
   "metadata": {},
   "outputs": [
    {
     "name": "stdout",
     "output_type": "stream",
     "text": [
      "       Category                                             Resume  chosen\n",
      "0  Data Science  Skills * Programming Languages: Python (pandas...       1\n",
      "1  Data Science  Education Details \\nMay 2013 to May 2017 B.E  ...       0\n",
      "2  Data Science  Areas of Interest Deep Learning, Control Syste...       0\n",
      "3  Data Science  Skills â¢ R â¢ Python â¢ SAP HANA â¢ Table...       0\n",
      "4  Data Science  Education Details \\n MCA   YMCAUST,  Faridabad...       0\n",
      "5  Data Science  SKILLS C Basics, IOT, Python, MATLAB, Data Sci...       0\n",
      "6  Data Science  Skills â¢ Python â¢ Tableau â¢ Data Visuali...       0\n",
      "7  Data Science  Education Details \\n B.Tech   Rayat and Bahra ...       1\n",
      "8  Data Science  Personal Skills â¢ Ability to quickly grasp t...       1\n",
      "9  Data Science  Expertise â Data and Quantitative Analysis â...       1\n"
     ]
    },
    {
     "name": "stderr",
     "output_type": "stream",
     "text": [
      "/var/folders/dm/y1vt4m8j43xbl9qk9zyfh22h0000gn/T/ipykernel_4076/1767284651.py:2: SettingWithCopyWarning: \n",
      "A value is trying to be set on a copy of a slice from a DataFrame.\n",
      "Try using .loc[row_indexer,col_indexer] = value instead\n",
      "\n",
      "See the caveats in the documentation: https://pandas.pydata.org/pandas-docs/stable/user_guide/indexing.html#returning-a-view-versus-a-copy\n",
      "  Data_Science_data['chosen'] = Data_Science_data.index.map(lambda x: 1 if x in [0, 7, 8,9] else 0)\n"
     ]
    }
   ],
   "source": [
    "# Create the 'chosen' feature\n",
    "Data_Science_data['chosen'] = Data_Science_data.index.map(lambda x: 1 if x in [0, 7, 8,9] else 0)\n",
    "\n",
    "print(Data_Science_data)"
   ]
  },
  {
   "cell_type": "code",
   "execution_count": 227,
   "id": "51142c53-e659-4170-96b4-0db48cc0d13b",
   "metadata": {},
   "outputs": [
    {
     "data": {
      "text/html": [
       "<div>\n",
       "<style scoped>\n",
       "    .dataframe tbody tr th:only-of-type {\n",
       "        vertical-align: middle;\n",
       "    }\n",
       "\n",
       "    .dataframe tbody tr th {\n",
       "        vertical-align: top;\n",
       "    }\n",
       "\n",
       "    .dataframe thead th {\n",
       "        text-align: right;\n",
       "    }\n",
       "</style>\n",
       "<table border=\"1\" class=\"dataframe\">\n",
       "  <thead>\n",
       "    <tr style=\"text-align: right;\">\n",
       "      <th></th>\n",
       "      <th>Category</th>\n",
       "      <th>Resume</th>\n",
       "      <th>chosen</th>\n",
       "    </tr>\n",
       "  </thead>\n",
       "  <tbody>\n",
       "    <tr>\n",
       "      <th>0</th>\n",
       "      <td>Data Science</td>\n",
       "      <td>Skills * Programming Languages: Python (pandas...</td>\n",
       "      <td>1</td>\n",
       "    </tr>\n",
       "    <tr>\n",
       "      <th>1</th>\n",
       "      <td>Data Science</td>\n",
       "      <td>Education Details \\nMay 2013 to May 2017 B.E  ...</td>\n",
       "      <td>0</td>\n",
       "    </tr>\n",
       "    <tr>\n",
       "      <th>2</th>\n",
       "      <td>Data Science</td>\n",
       "      <td>Areas of Interest Deep Learning, Control Syste...</td>\n",
       "      <td>0</td>\n",
       "    </tr>\n",
       "    <tr>\n",
       "      <th>3</th>\n",
       "      <td>Data Science</td>\n",
       "      <td>Skills â¢ R â¢ Python â¢ SAP HANA â¢ Table...</td>\n",
       "      <td>0</td>\n",
       "    </tr>\n",
       "    <tr>\n",
       "      <th>4</th>\n",
       "      <td>Data Science</td>\n",
       "      <td>Education Details \\n MCA   YMCAUST,  Faridabad...</td>\n",
       "      <td>0</td>\n",
       "    </tr>\n",
       "    <tr>\n",
       "      <th>5</th>\n",
       "      <td>Data Science</td>\n",
       "      <td>SKILLS C Basics, IOT, Python, MATLAB, Data Sci...</td>\n",
       "      <td>0</td>\n",
       "    </tr>\n",
       "    <tr>\n",
       "      <th>6</th>\n",
       "      <td>Data Science</td>\n",
       "      <td>Skills â¢ Python â¢ Tableau â¢ Data Visuali...</td>\n",
       "      <td>0</td>\n",
       "    </tr>\n",
       "    <tr>\n",
       "      <th>7</th>\n",
       "      <td>Data Science</td>\n",
       "      <td>Education Details \\n B.Tech   Rayat and Bahra ...</td>\n",
       "      <td>1</td>\n",
       "    </tr>\n",
       "    <tr>\n",
       "      <th>8</th>\n",
       "      <td>Data Science</td>\n",
       "      <td>Personal Skills â¢ Ability to quickly grasp t...</td>\n",
       "      <td>1</td>\n",
       "    </tr>\n",
       "    <tr>\n",
       "      <th>9</th>\n",
       "      <td>Data Science</td>\n",
       "      <td>Expertise â Data and Quantitative Analysis â...</td>\n",
       "      <td>1</td>\n",
       "    </tr>\n",
       "  </tbody>\n",
       "</table>\n",
       "</div>"
      ],
      "text/plain": [
       "       Category                                             Resume  chosen\n",
       "0  Data Science  Skills * Programming Languages: Python (pandas...       1\n",
       "1  Data Science  Education Details \\nMay 2013 to May 2017 B.E  ...       0\n",
       "2  Data Science  Areas of Interest Deep Learning, Control Syste...       0\n",
       "3  Data Science  Skills â¢ R â¢ Python â¢ SAP HANA â¢ Table...       0\n",
       "4  Data Science  Education Details \\n MCA   YMCAUST,  Faridabad...       0\n",
       "5  Data Science  SKILLS C Basics, IOT, Python, MATLAB, Data Sci...       0\n",
       "6  Data Science  Skills â¢ Python â¢ Tableau â¢ Data Visuali...       0\n",
       "7  Data Science  Education Details \\n B.Tech   Rayat and Bahra ...       1\n",
       "8  Data Science  Personal Skills â¢ Ability to quickly grasp t...       1\n",
       "9  Data Science  Expertise â Data and Quantitative Analysis â...       1"
      ]
     },
     "execution_count": 227,
     "metadata": {},
     "output_type": "execute_result"
    }
   ],
   "source": [
    "Data_Science_data"
   ]
  },
  {
   "cell_type": "code",
   "execution_count": 228,
   "id": "36960996-a682-4fce-ad93-e065a21a7288",
   "metadata": {},
   "outputs": [
    {
     "name": "stdout",
     "output_type": "stream",
     "text": [
      "        Category                                             Resume  chosen\n",
      "0   Data Science  Skills * Programming Languages: Python (pandas...       1\n",
      "1   Data Science  Education Details \\nMay 2013 to May 2017 B.E  ...       0\n",
      "2   Data Science  Areas of Interest Deep Learning, Control Syste...       0\n",
      "3   Data Science  Skills â¢ R â¢ Python â¢ SAP HANA â¢ Table...       0\n",
      "4   Data Science  Education Details \\n MCA   YMCAUST,  Faridabad...       0\n",
      "5   Data Science  SKILLS C Basics, IOT, Python, MATLAB, Data Sci...       0\n",
      "6   Data Science  Skills â¢ Python â¢ Tableau â¢ Data Visuali...       0\n",
      "7   Data Science  Education Details \\n B.Tech   Rayat and Bahra ...       1\n",
      "8   Data Science  Personal Skills â¢ Ability to quickly grasp t...       1\n",
      "9   Data Science  Expertise â Data and Quantitative Analysis â...       1\n",
      "10            HR  \\n HR CONSULTANT       Summary       Subject m...       0\n"
     ]
    }
   ],
   "source": [
    "# New HR CV\n",
    "hr_cv = \"\"\"\n",
    " HR CONSULTANT       Summary       Subject matter expert in HR Applications, and  highly effective at incorporating creative solutions to achieve business objectives, and improve efficiency.  Energetic HR Business Analyst who is self-motivated and results-driven with strong communication, analytical, problem solving and reasoning skills.        Highlights          Analytical skills  Project management  Process improvement  Quality assurance and control  System Applications implementation  Microsoft Office Suite expert      Working independently  Strong interpersonal skills  Results-oriented  Fluent in English and Portuguese  Detail-oriented  Troubleshooting  Problem solving            Experience      HR Consultant   10/2016       Company Name   City  ,   State      HRIS - Business Analyst:   \n",
    "\n",
    "Process demand analysis, scoping, and gathering of\n",
    "requirements for small and large scale HR projects\n",
    "  \n",
    "Prepare Business Requirement Documents after\n",
    "projects have been approved by PMO  Close the gap communication between businesses\n",
    "and IS \n",
    "\n",
    "Support and coordinate functional testing\n",
    "processes to make sure stakeholders' objectives are met  Document systems and process flows  \n",
    "\n",
    "Document and analyze current and future\n",
    "processes/systems  Deliver and Support user training\n",
    "  \n",
    "Process security internal control on the quarterly\n",
    "basis to assess US HR/Payroll system users.   Send recommendations, and remove/add users\n",
    "per business requests from local and global systems   \n",
    "\n",
    "Investigate, coordinate, and resolve with\n",
    "subject matter experts and/or IS regarding local and Global system issues\n",
    "\n",
    "  Request HR global system back end/portal roles\n",
    "for local HRBPs, COE and Front Office users (Americas)  \n",
    "\n",
    "Responsible to coordinate system applications\n",
    "changes and new requirements with IS       People Analytics lead:   \n",
    "\n",
    "Run and deliver the monthly Department of Labor reports\n",
    "  \n",
    "Create, run and deliver reports that are\n",
    "outside GBS People Analytics India's scope  \n",
    "\n",
    "Support both US Front Office, GBS India, and Americas\n",
    "Region Center of Excellence with reports and analysis requests          Business System Applications Analyst   02/2014   to   04/2016     Company Name   City  ,   State       Served as conduit between internal and external customers including the IS team through several HRIS projects and daily activities such as interface and data input troubleshooting   Provided expertise in business analysis for several HRIS projects  Acted as project lead in several HRIS projects, and supported functional testing processes to ensure that system projects meet the needs of all stakeholders  Support user acceptance testing, and user training  Coordinated communications with business and vendors  Documented and analyzed current and future processes/systems  Identified and mapped business needs  Ensured successful project delivery according to business/vendors expectations    Accomplishments:    Implemented Red Carpet/Silkroad On boarding application for US; which improved significantly the new employees' on boarding experience and open visibility to business eliminating cumbersome manual processes  Acted as project lead for the Master Data and Benefits interface projects for the in house ERP implementation project.  Worked closely with ADP and business to implement Affordable Care Act in ERP          HRIS Master Data Team Lead   06/2011   to   02/2014     Company Name   City  ,   State      •\tTrained the HR Specialists to navigate and maintain new/updated system applications and processes  •\tMonitored data quality and accuracy based on local/global internal controls  •\tResponsible for working with ADP IS to implement new/changes on the HRIS system according to payroll, local and global business requirements.​  •\tRan payroll/non payroll impacting mass loads in SAP for payroll, benefits, or other business purposes.  •\tCreated and ran reports for subject matter experts  •\tCreated and ran monthly/quarterly governmental reports  •\tDesigned and documented HR workflow processes  •\tTrained US HR business partners to navigate and utilize the HR/Payroll system   Accomplishments:      Successfully lead and implemented the Workers Comp report project.   Trained the Canadian team on the Global processes for Organization Management and Personnel Administration, and Global System super users          SAP Timekeeping Analyst   05/2009   to   11/2010     Company Name   City  ,   State       Gathered all the necessary business and government requirements, including approvals to create/modify Time calculations for new sites or policy changes.  Collected all the time files according to payroll schedules for payroll processing  Processed data analysis and reconciliation  Worked closely with business, Employees Services, and IS to resolve issues/troubleshooting       Accomplishments :   Delivered the time files\n",
    "without delay for payroll processing for around 47 sites (9,500 employees and around 1,000 contractors)  Designed and implemented solutions\n",
    "through Access and Excel advanced formulas to validate the data quality, and accuracy\n",
    "of the data and time results before transmitting the files to payroll� This replaced the manual process enabling efficiency and delivery of files timely           HR Data and Applications Specialist   04/2007   to   05/2009     Company Name   City  ,   State       Supported Human Resources Shared Services and act as the subject matter expert for SAP HCM and other HR applications.  Supported Finance, Canada / US Payrolls, and Human Resources Shared Services on bi-weekly and year-end activities   Collaborated with Information Systems, Finance, Canada and US Payroll and Human Resources Business owners on Sarbanes-Oxley requirements and system/process enhancements for key areas of responsibility.  Worked closely with business process owners, smes, benefit vendors and Information Systems to ensure data flow were properly planned and managed, and ensure appropriate data quality controls and standards were developed and maintained globally.  Performed root cause analysis, developed and managed corrective action plans.  Run and analyzed interface error reports for Canada and US payroll systems per Sarbanes-Oxley requirements.  Work closely with process owners and Information Systems to research/ identify/ resolve any interface or data issue identified with vendors or payroll systems  Acted as a project liaison between Human Resources and Information System teams for multiple HR or payroll projects (examples: SAP HCM Compensation project, Canadian Payroll system, European Expat project, US Payroll Year End, Benefits Annual Enrollment, SAP releases)  Provided system training and support for Human Resources Shared Services employees globally for key areas of responsibility  Scheduled release calls, prepared work instructions & Knowledge Base Articles, developed and/or coordinated training for Human Resources Shared Services both locally and regionally   Articulated and identified process improvement opportunities within Human Resources   Analyzed and identify processing issues and escalated to Canada and US Payroll, Human Resources and Quality Assurance teams  Created and run Adhoc reports for all Human Resources Shared Services, Internal and External Auditors per Sarbanes-Oxley requirements   Transferred 60 auditing control activities to Quality Assurance team.  Trained new data integrity processors for Quality Assurance   Developed HR compliance reports for Asia, Europe, Canada and US through SAP and DARE systems   Developed 75 reports for external auditors, and developed data integrity and metric reports for 2008 and 2009 Benefits Annual Enrollment   Coordinated testing, meetings, training and communication for Benefits Annual Enrollment for 2008 and 2009 projects for US and Canada.  Lead the review and training of the Canadian Payroll system for all specialists and processors within HR Shared Services           Education      BBA  :   Business Administration   May 2009       Campbell University   City  ,   State  ,   US             Languages    Portuguese, Spanish and English      Skills    Advanced Excel, Access, Word, Visio, Power Point, VBA, SAP HCM, Success Factors (Compensation), Microsoft Project Management, Service Now (ASKHR), Smartsheet, Panaya, SilkRoad - Red Carpet   \n",
    "\n",
    "Skills    NLP , machine learning , deep learning , Advanced Excel, Access, Word, Visio, Power Point, VBA, SAP HCM, Success Factors (Compensation), Microsoft Project Management, Service Now (ASKHR), Smartsheet, Panaya, SilkRoad - Red Carpet.\"\"\"\n",
    "\n",
    "new_row = {\n",
    "    \"Category\": \"HR\",\n",
    "    \"Resume\": hr_cv,\n",
    "    \"chosen\": 0,\n",
    "}\n",
    "\n",
    "new_row_df = pd.DataFrame([new_row]) \n",
    "Data_Science_data = pd.concat([Data_Science_data, new_row_df], ignore_index=True)\n",
    "print(Data_Science_data)"
   ]
  },
  {
   "cell_type": "code",
   "execution_count": 229,
   "id": "b64fa659-30b1-4b17-9956-5cc525eb68a3",
   "metadata": {},
   "outputs": [],
   "source": [
    "Data_Science_data.to_csv(\"Data_Science_data.csv\", index=False)"
   ]
  },
  {
   "cell_type": "code",
   "execution_count": 230,
   "id": "f65b2eeb-398f-4d38-b45b-92d72031ffca",
   "metadata": {},
   "outputs": [],
   "source": [
    "def compute_cosine_similarity(job_desc_embedding, resume_embeddings, resumes_df):\n",
    "    \"\"\"\n",
    "    Computes the cosine similarity between a job description embedding and resume embeddings.\n",
    "\n",
    "    Args:\n",
    "        job_desc_embedding (array-like): Embedding vector for the job description.\n",
    "        resume_embeddings (array-like): Matrix of embeddings for resumes.\n",
    "        resumes_df (pd.DataFrame): DataFrame containing resume data.\n",
    "\n",
    "    Returns:\n",
    "        pd.DataFrame: Updated DataFrame with similarity scores, sorted in descending order.\n",
    "    \"\"\"\n",
    "    # Ensure job_desc_embedding is a 2D array (1, N)\n",
    "    job_desc_embedding = np.array(job_desc_embedding).reshape(1, -1)\n",
    "\n",
    "    # Compute cosine similarity between job description and all resumes\n",
    "    similarity_scores = cosine_similarity(job_desc_embedding, resume_embeddings)[0]\n",
    "\n",
    "    # Create a copy of the DataFrame to avoid modifying a slice\n",
    "    #resumes_df = resumes_df.copy()\n",
    "\n",
    "    # Add similarity scores to the DataFrame\n",
    "    resumes_df.loc[:, 'similarity_score'] = similarity_scores\n",
    "\n",
    "    # Sort resumes by similarity score in descending order\n",
    "    resumes_df = resumes_df.sort_values(by='similarity_score', ascending=False)\n",
    "\n",
    "    return resumes_df\n"
   ]
  },
  {
   "cell_type": "code",
   "execution_count": 231,
   "id": "8313c071-d2af-493d-a99e-f0a739f782dc",
   "metadata": {},
   "outputs": [],
   "source": [
    "def evaluate_resume_ranking_general(sorted_resumes, true_label_column=\"chosen\", top_n=None):\n",
    "    \"\"\"\n",
    "    Evaluate the ranking of resumes based on a sorted DataFrame (pre-sorted by scoring method).\n",
    "\n",
    "    Args:\n",
    "        sorted_resumes (pd.DataFrame): Pre-sorted DataFrame based on scoring method (e.g., cosine, BM25, hybrid).\n",
    "        true_label_column (str): The column containing the true labels (default is 'chosen').\n",
    "        top_n (int, optional): Number of top resumes to evaluate. If None, use the total number of 'chosen' resumes.\n",
    "\n",
    "    Returns:\n",
    "        dict: Evaluation metrics including precision, recall, ordering accuracy, and detailed metrics (TP, FP, FN, TN).\n",
    "    \"\"\"\n",
    "    # Step 1: Ground truth: Indices of chosen resumes\n",
    "    true_chosen_indices = sorted_resumes[sorted_resumes[true_label_column] == 1].index.tolist()\n",
    "\n",
    "    # Step 2: Use top_n if provided, otherwise default to the number of true chosen resumes\n",
    "    top_n = max(top_n or len(true_chosen_indices), len(true_chosen_indices))\n",
    "    predicted_top_indices = sorted_resumes.head(top_n).index.tolist()\n",
    "\n",
    "    # Step 3: Evaluate precision\n",
    "    correct_predictions = [idx for idx in predicted_top_indices if idx in true_chosen_indices]\n",
    "    precision = len(correct_predictions) / top_n\n",
    "\n",
    "    # Step 4: Evaluate recall\n",
    "    recall = len(correct_predictions) / len(true_chosen_indices)\n",
    "\n",
    "    # Step 5: Evaluate ordering accuracy\n",
    "    true_chosen_order_in_predictions = [idx for idx in predicted_top_indices if idx in true_chosen_indices]\n",
    "    ordering_accuracy = 1 if true_chosen_order_in_predictions == true_chosen_indices else 0\n",
    "\n",
    "    # Step 6: Calculate TP, FP, FN, TN\n",
    "    TP = set(predicted_top_indices) & set(true_chosen_indices)  # True Positives\n",
    "    FP = set(predicted_top_indices) - set(true_chosen_indices)  # False Positives\n",
    "    FN = set(true_chosen_indices) - set(predicted_top_indices)  # False Negatives\n",
    "    total_indices = list(range(len(sorted_resumes)))  # Total dataset indices\n",
    "    covered_indices = TP | FP | FN  # Indices involved in TP, FP, FN\n",
    "    TN = set(total_indices) - covered_indices  # True Negatives\n",
    "\n",
    "    # Convert to counts\n",
    "    TP_count = len(TP)\n",
    "    FP_count = len(FP)\n",
    "    FN_count = len(FN)\n",
    "    TN_count = len(TN)\n",
    "\n",
    "    # Return evaluation metrics\n",
    "    return {\n",
    "        \"precision\": precision,\n",
    "        \"recall\": recall,\n",
    "        \"ordering_accuracy\": ordering_accuracy,\n",
    "        \"true_chosen_indices\": true_chosen_indices,\n",
    "        \"predicted_top_indices\": predicted_top_indices,\n",
    "        \"TP_count\": TP_count,\n",
    "        \"FP_count\": FP_count,\n",
    "        \"FN_count\": FN_count,\n",
    "        \"TN_count\": TN_count,\n",
    "        \"TP\": TP,\n",
    "        \"FP\": FP,\n",
    "        \"FN\": FN,\n",
    "        \"TN\": TN,\n",
    "    }"
   ]
  },
  {
   "cell_type": "code",
   "execution_count": 232,
   "id": "d97d6713-33d3-4b5c-9732-a2c2da697929",
   "metadata": {},
   "outputs": [],
   "source": [
    "def plot_roc_curve(sorted_resumes, true_label_column=\"chosen\", score_column=\"\"):\n",
    "    \"\"\"\n",
    "    Plot ROC Curve based on sorted resume data.\n",
    "    \n",
    "    Args:\n",
    "        sorted_resumes (pd.DataFrame): DataFrame with true labels and similarity scores.\n",
    "        true_label_column (str): Column containing the true labels (default is 'chosen').\n",
    "        score_column (str): Column containing the similarity scores (used for ranking resumes).\n",
    "    \"\"\"\n",
    "    # Extract true labels and predicted scores\n",
    "    y_true = sorted_resumes[true_label_column].values\n",
    "    y_scores = sorted_resumes[score_column].values\n",
    "\n",
    "    # Compute FPR, TPR, and thresholds\n",
    "    fpr, tpr, thresholds = roc_curve(y_true, y_scores)\n",
    "    roc_auc = auc(fpr, tpr)  # Compute the area under the curve (AUC)\n",
    "\n",
    "    # Plot the ROC Curve\n",
    "    plt.figure(figsize=(8, 6))\n",
    "    plt.plot(fpr, tpr, color='blue', lw=2, label=f'ROC curve (AUC = {roc_auc:.2f})')\n",
    "    plt.plot([0, 1], [0, 1], color='gray', linestyle='--', lw=1, label='Random chance')\n",
    "    plt.xlabel('False Positive Rate')\n",
    "    plt.ylabel('True Positive Rate')\n",
    "    plt.title('Receiver Operating Characteristic (ROC) Curve')\n",
    "    plt.legend(loc=\"lower right\")\n",
    "    plt.grid(alpha=0.3)\n",
    "    plt.show()\n",
    "\n",
    "    return {\"fpr\": fpr, \"tpr\": tpr, \"thresholds\": thresholds, \"roc_auc\": roc_auc}"
   ]
  },
  {
   "cell_type": "markdown",
   "id": "ebadf4c5-2762-4897-821a-02a8968b3277",
   "metadata": {
    "jp-MarkdownHeadingCollapsed": true
   },
   "source": [
    "# try 1"
   ]
  },
  {
   "cell_type": "markdown",
   "id": "57d9842a-7a83-451a-984b-30efa8f87c8b",
   "metadata": {},
   "source": [
    "model --> nomic https://huggingface.co/nomic-ai/nomic-embed-text-v1\n"
   ]
  },
  {
   "cell_type": "code",
   "execution_count": 25,
   "id": "80872a76-4e7c-4e80-bcf8-91ec3b724bac",
   "metadata": {},
   "outputs": [],
   "source": [
    "# Text preprocessing function\n",
    "def preprocess_text(text):\n",
    "    # Convert to lowercase \n",
    "    text = text.lower()\n",
    "    # Remove special characters (but keep numbers) keep \n",
    "    text = re.sub(r'[^a-zA-Z0-9-@\\s]', '', text)\n",
    "    # Tokenize text\n",
    "    tokens = word_tokenize(text)\n",
    "    # Remove stopwords\n",
    "    stop_words = set(stopwords.words('english'))\n",
    "    filtered_tokens = [word for word in tokens if word not in stop_words]\n",
    "    return ' '.join(filtered_tokens)"
   ]
  },
  {
   "cell_type": "code",
   "execution_count": 26,
   "id": "6b77f124-d573-4635-889a-cbc3cf08166c",
   "metadata": {},
   "outputs": [
    {
     "data": {
      "text/html": [
       "<div>\n",
       "<style scoped>\n",
       "    .dataframe tbody tr th:only-of-type {\n",
       "        vertical-align: middle;\n",
       "    }\n",
       "\n",
       "    .dataframe tbody tr th {\n",
       "        vertical-align: top;\n",
       "    }\n",
       "\n",
       "    .dataframe thead th {\n",
       "        text-align: right;\n",
       "    }\n",
       "</style>\n",
       "<table border=\"1\" class=\"dataframe\">\n",
       "  <thead>\n",
       "    <tr style=\"text-align: right;\">\n",
       "      <th></th>\n",
       "      <th>Category</th>\n",
       "      <th>Resume</th>\n",
       "      <th>chosen</th>\n",
       "      <th>cleaned_resume</th>\n",
       "    </tr>\n",
       "  </thead>\n",
       "  <tbody>\n",
       "    <tr>\n",
       "      <th>0</th>\n",
       "      <td>Data Science</td>\n",
       "      <td>Skills * Programming Languages: Python (pandas...</td>\n",
       "      <td>1</td>\n",
       "      <td>skills programming languages python pandas num...</td>\n",
       "    </tr>\n",
       "    <tr>\n",
       "      <th>1</th>\n",
       "      <td>Data Science</td>\n",
       "      <td>Education Details \\nMay 2013 to May 2017 B.E  ...</td>\n",
       "      <td>0</td>\n",
       "      <td>education details may 2013 may 2017 uit-rgpvda...</td>\n",
       "    </tr>\n",
       "    <tr>\n",
       "      <th>2</th>\n",
       "      <td>Data Science</td>\n",
       "      <td>Areas of Interest Deep Learning, Control Syste...</td>\n",
       "      <td>0</td>\n",
       "      <td>areas interest deep learning control system de...</td>\n",
       "    </tr>\n",
       "    <tr>\n",
       "      <th>3</th>\n",
       "      <td>Data Science</td>\n",
       "      <td>Skills â¢ R â¢ Python â¢ SAP HANA â¢ Table...</td>\n",
       "      <td>0</td>\n",
       "      <td>skills r python sap hana tableau sap hana sql ...</td>\n",
       "    </tr>\n",
       "    <tr>\n",
       "      <th>4</th>\n",
       "      <td>Data Science</td>\n",
       "      <td>Education Details \\n MCA   YMCAUST,  Faridabad...</td>\n",
       "      <td>0</td>\n",
       "      <td>education details mca ymcaust faridabad haryan...</td>\n",
       "    </tr>\n",
       "    <tr>\n",
       "      <th>5</th>\n",
       "      <td>Data Science</td>\n",
       "      <td>SKILLS C Basics, IOT, Python, MATLAB, Data Sci...</td>\n",
       "      <td>0</td>\n",
       "      <td>skills c basics iot python matlab data science...</td>\n",
       "    </tr>\n",
       "    <tr>\n",
       "      <th>6</th>\n",
       "      <td>Data Science</td>\n",
       "      <td>Skills â¢ Python â¢ Tableau â¢ Data Visuali...</td>\n",
       "      <td>0</td>\n",
       "      <td>skills python tableau data visualization r stu...</td>\n",
       "    </tr>\n",
       "    <tr>\n",
       "      <th>7</th>\n",
       "      <td>Data Science</td>\n",
       "      <td>Education Details \\n B.Tech   Rayat and Bahra ...</td>\n",
       "      <td>1</td>\n",
       "      <td>education details btech rayat bahra institute ...</td>\n",
       "    </tr>\n",
       "    <tr>\n",
       "      <th>8</th>\n",
       "      <td>Data Science</td>\n",
       "      <td>Personal Skills â¢ Ability to quickly grasp t...</td>\n",
       "      <td>1</td>\n",
       "      <td>personal skills ability quickly grasp technica...</td>\n",
       "    </tr>\n",
       "    <tr>\n",
       "      <th>9</th>\n",
       "      <td>Data Science</td>\n",
       "      <td>Expertise â Data and Quantitative Analysis â...</td>\n",
       "      <td>1</td>\n",
       "      <td>expertise data quantitative analysis decision ...</td>\n",
       "    </tr>\n",
       "    <tr>\n",
       "      <th>10</th>\n",
       "      <td>HR</td>\n",
       "      <td>\\n HR CONSULTANT       Summary       Subject m...</td>\n",
       "      <td>0</td>\n",
       "      <td>hr consultant summary subject matter expert hr...</td>\n",
       "    </tr>\n",
       "  </tbody>\n",
       "</table>\n",
       "</div>"
      ],
      "text/plain": [
       "        Category                                             Resume  chosen  \\\n",
       "0   Data Science  Skills * Programming Languages: Python (pandas...       1   \n",
       "1   Data Science  Education Details \\nMay 2013 to May 2017 B.E  ...       0   \n",
       "2   Data Science  Areas of Interest Deep Learning, Control Syste...       0   \n",
       "3   Data Science  Skills â¢ R â¢ Python â¢ SAP HANA â¢ Table...       0   \n",
       "4   Data Science  Education Details \\n MCA   YMCAUST,  Faridabad...       0   \n",
       "5   Data Science  SKILLS C Basics, IOT, Python, MATLAB, Data Sci...       0   \n",
       "6   Data Science  Skills â¢ Python â¢ Tableau â¢ Data Visuali...       0   \n",
       "7   Data Science  Education Details \\n B.Tech   Rayat and Bahra ...       1   \n",
       "8   Data Science  Personal Skills â¢ Ability to quickly grasp t...       1   \n",
       "9   Data Science  Expertise â Data and Quantitative Analysis â...       1   \n",
       "10            HR  \\n HR CONSULTANT       Summary       Subject m...       0   \n",
       "\n",
       "                                       cleaned_resume  \n",
       "0   skills programming languages python pandas num...  \n",
       "1   education details may 2013 may 2017 uit-rgpvda...  \n",
       "2   areas interest deep learning control system de...  \n",
       "3   skills r python sap hana tableau sap hana sql ...  \n",
       "4   education details mca ymcaust faridabad haryan...  \n",
       "5   skills c basics iot python matlab data science...  \n",
       "6   skills python tableau data visualization r stu...  \n",
       "7   education details btech rayat bahra institute ...  \n",
       "8   personal skills ability quickly grasp technica...  \n",
       "9   expertise data quantitative analysis decision ...  \n",
       "10  hr consultant summary subject matter expert hr...  "
      ]
     },
     "execution_count": 26,
     "metadata": {},
     "output_type": "execute_result"
    }
   ],
   "source": [
    "Data_Science_data['cleaned_resume'] = Data_Science_data['Resume'].apply(preprocess_text)\n",
    "Data_Science_data"
   ]
  },
  {
   "cell_type": "code",
   "execution_count": 27,
   "id": "da9db85c-5398-4353-91d4-4af726dd1ace",
   "metadata": {},
   "outputs": [
    {
     "name": "stdout",
     "output_type": "stream",
     "text": [
      "Defaulting to user installation because normal site-packages is not writeable\n",
      "Requirement already satisfied: einops in /Users/ramaalmrahleh/Library/Python/3.9/lib/python/site-packages (0.8.0)\n",
      "\u001b[33mWARNING: You are using pip version 21.2.4; however, version 24.3.1 is available.\n",
      "You should consider upgrading via the '/Library/Developer/CommandLineTools/usr/bin/python3 -m pip install --upgrade pip' command.\u001b[0m\n",
      "Note: you may need to restart the kernel to use updated packages.\n"
     ]
    }
   ],
   "source": [
    "pip install einops"
   ]
  },
  {
   "cell_type": "code",
   "execution_count": 28,
   "id": "58e43c3d-0b54-4a9c-bb90-4eda812ca6d0",
   "metadata": {},
   "outputs": [
    {
     "name": "stderr",
     "output_type": "stream",
     "text": [
      "/Users/ramaalmrahleh/.cache/huggingface/modules/transformers_modules/nomic-ai/nomic-bert-2048/40b98394640e630d5276807046089b233113aa87/modeling_hf_nomic_bert.py:108: FutureWarning: You are using `torch.load` with `weights_only=False` (the current default value), which uses the default pickle module implicitly. It is possible to construct malicious pickle data which will execute arbitrary code during unpickling (See https://github.com/pytorch/pytorch/blob/main/SECURITY.md#untrusted-models for more details). In a future release, the default value for `weights_only` will be flipped to `True`. This limits the functions that could be executed during unpickling. Arbitrary objects will no longer be allowed to be loaded via this mode unless they are explicitly allowlisted by the user via `torch.serialization.add_safe_globals`. We recommend you start setting `weights_only=True` for any use case where you don't have full control of the loaded file. Please open an issue on GitHub for any issues related to this experimental feature.\n",
      "  state_dict = loader(resolved_archive_file)\n",
      "<All keys matched successfully>\n"
     ]
    }
   ],
   "source": [
    "model = SentenceTransformer(\"nomic-ai/nomic-embed-text-v1\", trust_remote_code=True)\n"
   ]
  },
  {
   "cell_type": "code",
   "execution_count": 29,
   "id": "fae3d81f-2d53-427d-b40b-274838fdc21e",
   "metadata": {},
   "outputs": [
    {
     "data": {
      "application/vnd.jupyter.widget-view+json": {
       "model_id": "66a3fb0ed7424e238d0532f47efe0d2e",
       "version_major": 2,
       "version_minor": 0
      },
      "text/plain": [
       "Batches:   0%|          | 0/1 [00:00<?, ?it/s]"
      ]
     },
     "metadata": {},
     "output_type": "display_data"
    }
   ],
   "source": [
    "resume_embeddings = model.encode(Data_Science_data['cleaned_resume'].tolist(), show_progress_bar=True)\n",
    "\n",
    "# Convert embeddings to a NumPy array (for efficient computation)\n",
    "resume_embeddings = np.array(resume_embeddings)"
   ]
  },
  {
   "cell_type": "code",
   "execution_count": 30,
   "id": "40039198-b163-42b3-8448-0d1dace4177e",
   "metadata": {},
   "outputs": [],
   "source": [
    "# Preprocess the job description\n",
    "cleaned_job_desc = preprocess_text(job_description)\n",
    "\n",
    "# Generate BERT embedding for the job description\n",
    "job_desc_embedding = model.encode([cleaned_job_desc])"
   ]
  },
  {
   "cell_type": "code",
   "execution_count": 31,
   "id": "72552b98-c6af-4ef0-824d-90572a60445c",
   "metadata": {},
   "outputs": [
    {
     "name": "stdout",
     "output_type": "stream",
     "text": [
      "Resumes sorted by similarity score:\n",
      "        Category                                             Resume  chosen  \\\n",
      "8   Data Science  Personal Skills â¢ Ability to quickly grasp t...       1   \n",
      "2   Data Science  Areas of Interest Deep Learning, Control Syste...       0   \n",
      "5   Data Science  SKILLS C Basics, IOT, Python, MATLAB, Data Sci...       0   \n",
      "7   Data Science  Education Details \\n B.Tech   Rayat and Bahra ...       1   \n",
      "1   Data Science  Education Details \\nMay 2013 to May 2017 B.E  ...       0   \n",
      "6   Data Science  Skills â¢ Python â¢ Tableau â¢ Data Visuali...       0   \n",
      "0   Data Science  Skills * Programming Languages: Python (pandas...       1   \n",
      "3   Data Science  Skills â¢ R â¢ Python â¢ SAP HANA â¢ Table...       0   \n",
      "9   Data Science  Expertise â Data and Quantitative Analysis â...       1   \n",
      "4   Data Science  Education Details \\n MCA   YMCAUST,  Faridabad...       0   \n",
      "10            HR  \\n HR CONSULTANT       Summary       Subject m...       0   \n",
      "\n",
      "                                       cleaned_resume  similarity_score  \n",
      "8   personal skills ability quickly grasp technica...          0.716689  \n",
      "2   areas interest deep learning control system de...          0.673842  \n",
      "5   skills c basics iot python matlab data science...          0.673198  \n",
      "7   education details btech rayat bahra institute ...          0.658062  \n",
      "1   education details may 2013 may 2017 uit-rgpvda...          0.644775  \n",
      "6   skills python tableau data visualization r stu...          0.643688  \n",
      "0   skills programming languages python pandas num...          0.618397  \n",
      "3   skills r python sap hana tableau sap hana sql ...          0.611145  \n",
      "9   expertise data quantitative analysis decision ...          0.607274  \n",
      "4   education details mca ymcaust faridabad haryan...          0.585908  \n",
      "10  hr consultant summary subject matter expert hr...          0.566901  \n"
     ]
    }
   ],
   "source": [
    "updated_resumes = compute_cosine_similarity(job_desc_embedding, resume_embeddings, Data_Science_data)\n",
    "\n",
    "# Display the results\n",
    "print(\"Resumes sorted by similarity score:\")\n",
    "print(updated_resumes)\n"
   ]
  },
  {
   "cell_type": "code",
   "execution_count": 32,
   "id": "698ce305-0cd9-4d41-a490-47286dca4aba",
   "metadata": {},
   "outputs": [
    {
     "name": "stdout",
     "output_type": "stream",
     "text": [
      "Evaluation Results:\n",
      "{'precision': 0.5, 'recall': 0.5, 'ordering_accuracy': 0, 'true_chosen_indices': [8, 7, 0, 9], 'predicted_top_indices': [8, 2, 5, 7], 'TP_count': 2, 'FP_count': 2, 'FN_count': 2, 'TN_count': 5, 'TP': {8, 7}, 'FP': {2, 5}, 'FN': {0, 9}, 'TN': {1, 3, 4, 6, 10}}\n"
     ]
    }
   ],
   "source": [
    "evaluation_results = evaluate_resume_ranking_general(updated_resumes)\n",
    "print(\"Evaluation Results:\")\n",
    "print(evaluation_results)\n"
   ]
  },
  {
   "cell_type": "code",
   "execution_count": 33,
   "id": "17b656b4-3d21-4757-aac0-6f8168b7e4bb",
   "metadata": {},
   "outputs": [
    {
     "data": {
      "image/png": "[encoded data removed]",
      "text/plain": [
       "<Figure size 800x600 with 1 Axes>"
      ]
     },
     "metadata": {},
     "output_type": "display_data"
    },
    {
     "name": "stdout",
     "output_type": "stream",
     "text": [
      "AUC Score: 0.6071428571428572\n"
     ]
    }
   ],
   "source": [
    "roc_results = plot_roc_curve(updated_resumes, true_label_column=\"chosen\", score_column=\"similarity_score\")\n",
    "print(\"AUC Score:\", roc_results[\"roc_auc\"])"
   ]
  },
  {
   "cell_type": "markdown",
   "id": "f97ffffb-76a1-4a83-ae67-f80fa2514ffb",
   "metadata": {
    "jp-MarkdownHeadingCollapsed": true
   },
   "source": [
    "# try 2  upper()"
   ]
  },
  {
   "cell_type": "code",
   "execution_count": 36,
   "id": "bfdb7b48-d1e5-4881-baa7-3b9f4df478a5",
   "metadata": {},
   "outputs": [],
   "source": [
    "Data_Science_data = pd.read_csv(\"Data_Science_data.csv\")"
   ]
  },
  {
   "cell_type": "code",
   "execution_count": 37,
   "id": "da8e8060-6b47-4310-9fd0-35d1753f0940",
   "metadata": {},
   "outputs": [],
   "source": [
    "# Text preprocessing function\n",
    "def preprocess_text(text):\n",
    "    # Convert to lowercase \n",
    "    text = text.upper()\n",
    "    # Remove special characters (but keep numbers) keep \n",
    "    text = re.sub(r'[^a-zA-Z0-9-@\\s]', '', text)\n",
    "    # Tokenize text\n",
    "    tokens = word_tokenize(text)\n",
    "    # Remove stopwords\n",
    "    stop_words = set(stopwords.words('english'))\n",
    "    filtered_tokens = [word for word in tokens if word not in stop_words]\n",
    "    return ' '.join(filtered_tokens)"
   ]
  },
  {
   "cell_type": "code",
   "execution_count": 38,
   "id": "19a4da29-2e27-439f-b45a-330f0c088a65",
   "metadata": {},
   "outputs": [
    {
     "data": {
      "text/html": [
       "<div>\n",
       "<style scoped>\n",
       "    .dataframe tbody tr th:only-of-type {\n",
       "        vertical-align: middle;\n",
       "    }\n",
       "\n",
       "    .dataframe tbody tr th {\n",
       "        vertical-align: top;\n",
       "    }\n",
       "\n",
       "    .dataframe thead th {\n",
       "        text-align: right;\n",
       "    }\n",
       "</style>\n",
       "<table border=\"1\" class=\"dataframe\">\n",
       "  <thead>\n",
       "    <tr style=\"text-align: right;\">\n",
       "      <th></th>\n",
       "      <th>Category</th>\n",
       "      <th>Resume</th>\n",
       "      <th>chosen</th>\n",
       "      <th>cleaned_resume</th>\n",
       "    </tr>\n",
       "  </thead>\n",
       "  <tbody>\n",
       "    <tr>\n",
       "      <th>0</th>\n",
       "      <td>Data Science</td>\n",
       "      <td>Skills * Programming Languages: Python (pandas...</td>\n",
       "      <td>1</td>\n",
       "      <td>SKILLS PROGRAMMING LANGUAGES PYTHON PANDAS NUM...</td>\n",
       "    </tr>\n",
       "    <tr>\n",
       "      <th>1</th>\n",
       "      <td>Data Science</td>\n",
       "      <td>Education Details \\nMay 2013 to May 2017 B.E  ...</td>\n",
       "      <td>0</td>\n",
       "      <td>EDUCATION DETAILS MAY 2013 TO MAY 2017 BE UIT-...</td>\n",
       "    </tr>\n",
       "    <tr>\n",
       "      <th>2</th>\n",
       "      <td>Data Science</td>\n",
       "      <td>Areas of Interest Deep Learning, Control Syste...</td>\n",
       "      <td>0</td>\n",
       "      <td>AREAS OF INTEREST DEEP LEARNING CONTROL SYSTEM...</td>\n",
       "    </tr>\n",
       "    <tr>\n",
       "      <th>3</th>\n",
       "      <td>Data Science</td>\n",
       "      <td>Skills â¢ R â¢ Python â¢ SAP HANA â¢ Table...</td>\n",
       "      <td>0</td>\n",
       "      <td>SKILLS R PYTHON SAP HANA TABLEAU SAP HANA SQL ...</td>\n",
       "    </tr>\n",
       "    <tr>\n",
       "      <th>4</th>\n",
       "      <td>Data Science</td>\n",
       "      <td>Education Details \\n MCA   YMCAUST,  Faridabad...</td>\n",
       "      <td>0</td>\n",
       "      <td>EDUCATION DETAILS MCA YMCAUST FARIDABAD HARYAN...</td>\n",
       "    </tr>\n",
       "    <tr>\n",
       "      <th>5</th>\n",
       "      <td>Data Science</td>\n",
       "      <td>SKILLS C Basics, IOT, Python, MATLAB, Data Sci...</td>\n",
       "      <td>0</td>\n",
       "      <td>SKILLS C BASICS IOT PYTHON MATLAB DATA SCIENCE...</td>\n",
       "    </tr>\n",
       "    <tr>\n",
       "      <th>6</th>\n",
       "      <td>Data Science</td>\n",
       "      <td>Skills â¢ Python â¢ Tableau â¢ Data Visuali...</td>\n",
       "      <td>0</td>\n",
       "      <td>SKILLS PYTHON TABLEAU DATA VISUALIZATION R STU...</td>\n",
       "    </tr>\n",
       "    <tr>\n",
       "      <th>7</th>\n",
       "      <td>Data Science</td>\n",
       "      <td>Education Details \\n B.Tech   Rayat and Bahra ...</td>\n",
       "      <td>1</td>\n",
       "      <td>EDUCATION DETAILS BTECH RAYAT AND BAHRA INSTIT...</td>\n",
       "    </tr>\n",
       "    <tr>\n",
       "      <th>8</th>\n",
       "      <td>Data Science</td>\n",
       "      <td>Personal Skills â¢ Ability to quickly grasp t...</td>\n",
       "      <td>1</td>\n",
       "      <td>PERSONAL SKILLS ABILITY TO QUICKLY GRASP TECHN...</td>\n",
       "    </tr>\n",
       "    <tr>\n",
       "      <th>9</th>\n",
       "      <td>Data Science</td>\n",
       "      <td>Expertise â Data and Quantitative Analysis â...</td>\n",
       "      <td>1</td>\n",
       "      <td>EXPERTISE DATA AND QUANTITATIVE ANALYSIS DECIS...</td>\n",
       "    </tr>\n",
       "    <tr>\n",
       "      <th>10</th>\n",
       "      <td>HR</td>\n",
       "      <td>\\n HR CONSULTANT       Summary       Subject m...</td>\n",
       "      <td>0</td>\n",
       "      <td>HR CONSULTANT SUMMARY SUBJECT MATTER EXPERT IN...</td>\n",
       "    </tr>\n",
       "  </tbody>\n",
       "</table>\n",
       "</div>"
      ],
      "text/plain": [
       "        Category                                             Resume  chosen  \\\n",
       "0   Data Science  Skills * Programming Languages: Python (pandas...       1   \n",
       "1   Data Science  Education Details \\nMay 2013 to May 2017 B.E  ...       0   \n",
       "2   Data Science  Areas of Interest Deep Learning, Control Syste...       0   \n",
       "3   Data Science  Skills â¢ R â¢ Python â¢ SAP HANA â¢ Table...       0   \n",
       "4   Data Science  Education Details \\n MCA   YMCAUST,  Faridabad...       0   \n",
       "5   Data Science  SKILLS C Basics, IOT, Python, MATLAB, Data Sci...       0   \n",
       "6   Data Science  Skills â¢ Python â¢ Tableau â¢ Data Visuali...       0   \n",
       "7   Data Science  Education Details \\n B.Tech   Rayat and Bahra ...       1   \n",
       "8   Data Science  Personal Skills â¢ Ability to quickly grasp t...       1   \n",
       "9   Data Science  Expertise â Data and Quantitative Analysis â...       1   \n",
       "10            HR  \\n HR CONSULTANT       Summary       Subject m...       0   \n",
       "\n",
       "                                       cleaned_resume  \n",
       "0   SKILLS PROGRAMMING LANGUAGES PYTHON PANDAS NUM...  \n",
       "1   EDUCATION DETAILS MAY 2013 TO MAY 2017 BE UIT-...  \n",
       "2   AREAS OF INTEREST DEEP LEARNING CONTROL SYSTEM...  \n",
       "3   SKILLS R PYTHON SAP HANA TABLEAU SAP HANA SQL ...  \n",
       "4   EDUCATION DETAILS MCA YMCAUST FARIDABAD HARYAN...  \n",
       "5   SKILLS C BASICS IOT PYTHON MATLAB DATA SCIENCE...  \n",
       "6   SKILLS PYTHON TABLEAU DATA VISUALIZATION R STU...  \n",
       "7   EDUCATION DETAILS BTECH RAYAT AND BAHRA INSTIT...  \n",
       "8   PERSONAL SKILLS ABILITY TO QUICKLY GRASP TECHN...  \n",
       "9   EXPERTISE DATA AND QUANTITATIVE ANALYSIS DECIS...  \n",
       "10  HR CONSULTANT SUMMARY SUBJECT MATTER EXPERT IN...  "
      ]
     },
     "execution_count": 38,
     "metadata": {},
     "output_type": "execute_result"
    }
   ],
   "source": [
    "Data_Science_data['cleaned_resume'] = Data_Science_data['Resume'].apply(preprocess_text)\n",
    "Data_Science_data"
   ]
  },
  {
   "cell_type": "code",
   "execution_count": 39,
   "id": "6d9c801f-41ce-4715-844a-5ab053331358",
   "metadata": {},
   "outputs": [
    {
     "name": "stderr",
     "output_type": "stream",
     "text": [
      "/Users/ramaalmrahleh/.cache/huggingface/modules/transformers_modules/nomic-ai/nomic-bert-2048/40b98394640e630d5276807046089b233113aa87/modeling_hf_nomic_bert.py:108: FutureWarning: You are using `torch.load` with `weights_only=False` (the current default value), which uses the default pickle module implicitly. It is possible to construct malicious pickle data which will execute arbitrary code during unpickling (See https://github.com/pytorch/pytorch/blob/main/SECURITY.md#untrusted-models for more details). In a future release, the default value for `weights_only` will be flipped to `True`. This limits the functions that could be executed during unpickling. Arbitrary objects will no longer be allowed to be loaded via this mode unless they are explicitly allowlisted by the user via `torch.serialization.add_safe_globals`. We recommend you start setting `weights_only=True` for any use case where you don't have full control of the loaded file. Please open an issue on GitHub for any issues related to this experimental feature.\n",
      "  state_dict = loader(resolved_archive_file)\n",
      "<All keys matched successfully>\n"
     ]
    }
   ],
   "source": [
    "model = SentenceTransformer(\"nomic-ai/nomic-embed-text-v1\", trust_remote_code=True)\n"
   ]
  },
  {
   "cell_type": "code",
   "execution_count": 40,
   "id": "c014d948-6e86-48d1-906f-d21cf4114366",
   "metadata": {},
   "outputs": [
    {
     "data": {
      "application/vnd.jupyter.widget-view+json": {
       "model_id": "f0e0c03af9054daea8d4c751c746ecf9",
       "version_major": 2,
       "version_minor": 0
      },
      "text/plain": [
       "Batches:   0%|          | 0/1 [00:00<?, ?it/s]"
      ]
     },
     "metadata": {},
     "output_type": "display_data"
    }
   ],
   "source": [
    "resume_embeddings = model.encode(Data_Science_data['cleaned_resume'].tolist(), show_progress_bar=True)\n",
    "\n",
    "# Convert embeddings to a NumPy array (for efficient computation)\n",
    "resume_embeddings = np.array(resume_embeddings)"
   ]
  },
  {
   "cell_type": "code",
   "execution_count": 41,
   "id": "9e8ba0d3-5447-4333-b524-ebb8c8a67a01",
   "metadata": {},
   "outputs": [],
   "source": [
    "# Preprocess the job description\n",
    "cleaned_job_desc = preprocess_text(job_description)\n",
    "job_desc_embedding = model.encode([cleaned_job_desc])"
   ]
  },
  {
   "cell_type": "code",
   "execution_count": 42,
   "id": "69ad5bd1-34b8-4311-b5a5-1ac32eb6cbb9",
   "metadata": {},
   "outputs": [
    {
     "name": "stdout",
     "output_type": "stream",
     "text": [
      "Resumes sorted by similarity score:\n",
      "        Category                                             Resume  chosen  \\\n",
      "8   Data Science  Personal Skills â¢ Ability to quickly grasp t...       1   \n",
      "7   Data Science  Education Details \\n B.Tech   Rayat and Bahra ...       1   \n",
      "5   Data Science  SKILLS C Basics, IOT, Python, MATLAB, Data Sci...       0   \n",
      "2   Data Science  Areas of Interest Deep Learning, Control Syste...       0   \n",
      "1   Data Science  Education Details \\nMay 2013 to May 2017 B.E  ...       0   \n",
      "0   Data Science  Skills * Programming Languages: Python (pandas...       1   \n",
      "6   Data Science  Skills â¢ Python â¢ Tableau â¢ Data Visuali...       0   \n",
      "9   Data Science  Expertise â Data and Quantitative Analysis â...       1   \n",
      "10            HR  \\n HR CONSULTANT       Summary       Subject m...       0   \n",
      "3   Data Science  Skills â¢ R â¢ Python â¢ SAP HANA â¢ Table...       0   \n",
      "4   Data Science  Education Details \\n MCA   YMCAUST,  Faridabad...       0   \n",
      "\n",
      "                                       cleaned_resume  similarity_score  \n",
      "8   PERSONAL SKILLS ABILITY TO QUICKLY GRASP TECHN...          0.691499  \n",
      "7   EDUCATION DETAILS BTECH RAYAT AND BAHRA INSTIT...          0.682729  \n",
      "5   SKILLS C BASICS IOT PYTHON MATLAB DATA SCIENCE...          0.669931  \n",
      "2   AREAS OF INTEREST DEEP LEARNING CONTROL SYSTEM...          0.663699  \n",
      "1   EDUCATION DETAILS MAY 2013 TO MAY 2017 BE UIT-...          0.650881  \n",
      "0   SKILLS PROGRAMMING LANGUAGES PYTHON PANDAS NUM...          0.635813  \n",
      "6   SKILLS PYTHON TABLEAU DATA VISUALIZATION R STU...          0.633386  \n",
      "9   EXPERTISE DATA AND QUANTITATIVE ANALYSIS DECIS...          0.624334  \n",
      "10  HR CONSULTANT SUMMARY SUBJECT MATTER EXPERT IN...          0.606977  \n",
      "3   SKILLS R PYTHON SAP HANA TABLEAU SAP HANA SQL ...          0.602187  \n",
      "4   EDUCATION DETAILS MCA YMCAUST FARIDABAD HARYAN...          0.576872  \n"
     ]
    }
   ],
   "source": [
    "updated_resumes = compute_cosine_similarity(job_desc_embedding, resume_embeddings, Data_Science_data)\n",
    "\n",
    "# Display the results\n",
    "print(\"Resumes sorted by similarity score:\")\n",
    "print(updated_resumes)"
   ]
  },
  {
   "cell_type": "code",
   "execution_count": 43,
   "id": "7a5811c1-b107-4647-b731-96cce6236ff7",
   "metadata": {},
   "outputs": [
    {
     "name": "stdout",
     "output_type": "stream",
     "text": [
      "Evaluation Results:\n",
      "{'precision': 0.5, 'recall': 0.5, 'ordering_accuracy': 0, 'true_chosen_indices': [8, 7, 0, 9], 'predicted_top_indices': [8, 7, 5, 2], 'TP_count': 2, 'FP_count': 2, 'FN_count': 2, 'TN_count': 5, 'TP': {8, 7}, 'FP': {2, 5}, 'FN': {0, 9}, 'TN': {1, 3, 4, 6, 10}}\n"
     ]
    }
   ],
   "source": [
    "evaluation_results = evaluate_resume_ranking_general(updated_resumes)\n",
    "print(\"Evaluation Results:\")\n",
    "print(evaluation_results)"
   ]
  },
  {
   "cell_type": "code",
   "execution_count": 44,
   "id": "ead3ce71-76be-4736-b559-86530dba0b89",
   "metadata": {},
   "outputs": [
    {
     "data": {
      "image/png": "[encoded data removed]",
      "text/plain": [
       "<Figure size 800x600 with 1 Axes>"
      ]
     },
     "metadata": {},
     "output_type": "display_data"
    },
    {
     "name": "stdout",
     "output_type": "stream",
     "text": [
      "AUC Score: 0.75\n"
     ]
    }
   ],
   "source": [
    "roc_results = plot_roc_curve(updated_resumes, true_label_column=\"chosen\", score_column=\"similarity_score\")\n",
    "print(\"AUC Score:\", roc_results[\"roc_auc\"])"
   ]
  },
  {
   "cell_type": "code",
   "execution_count": null,
   "id": "6116ce4c-512e-4bc8-a8a2-91631c7502d2",
   "metadata": {},
   "outputs": [],
   "source": []
  },
  {
   "cell_type": "code",
   "execution_count": 47,
   "id": "ded092f7-786f-4855-b33c-bd8ef55b5119",
   "metadata": {},
   "outputs": [],
   "source": [
    "Data_Science_data = pd.read_csv(\"Data_Science_data.csv\")"
   ]
  },
  {
   "cell_type": "code",
   "execution_count": 48,
   "id": "81356dff-6ad1-4b80-87fe-898b1960e33a",
   "metadata": {},
   "outputs": [],
   "source": [
    "# Text preprocessing function\n",
    "def preprocess_text(text):\n",
    "    # Convert to lowercase\n",
    "    text = text.lower()\n",
    "    # Remove special characters (but keep numbers) keep \n",
    "    text = re.sub(r'[^a-zA-Z0-9-@\\s]', '', text)\n",
    "    # Tokenize text\n",
    "    tokens = word_tokenize(text)\n",
    "    # Remove stopwords\n",
    "    stop_words = set(stopwords.words('english'))\n",
    "    filtered_tokens = [word for word in tokens if word not in stop_words]\n",
    "    return ' '.join(filtered_tokens)"
   ]
  },
  {
   "cell_type": "code",
   "execution_count": 49,
   "id": "36839ba2-c6c6-4b5d-8c01-e2bea23b7bb1",
   "metadata": {},
   "outputs": [
    {
     "data": {
      "text/html": [
       "<div>\n",
       "<style scoped>\n",
       "    .dataframe tbody tr th:only-of-type {\n",
       "        vertical-align: middle;\n",
       "    }\n",
       "\n",
       "    .dataframe tbody tr th {\n",
       "        vertical-align: top;\n",
       "    }\n",
       "\n",
       "    .dataframe thead th {\n",
       "        text-align: right;\n",
       "    }\n",
       "</style>\n",
       "<table border=\"1\" class=\"dataframe\">\n",
       "  <thead>\n",
       "    <tr style=\"text-align: right;\">\n",
       "      <th></th>\n",
       "      <th>Category</th>\n",
       "      <th>Resume</th>\n",
       "      <th>chosen</th>\n",
       "      <th>cleaned_resume</th>\n",
       "    </tr>\n",
       "  </thead>\n",
       "  <tbody>\n",
       "    <tr>\n",
       "      <th>0</th>\n",
       "      <td>Data Science</td>\n",
       "      <td>Skills * Programming Languages: Python (pandas...</td>\n",
       "      <td>1</td>\n",
       "      <td>skills programming languages python pandas num...</td>\n",
       "    </tr>\n",
       "    <tr>\n",
       "      <th>1</th>\n",
       "      <td>Data Science</td>\n",
       "      <td>Education Details \\nMay 2013 to May 2017 B.E  ...</td>\n",
       "      <td>0</td>\n",
       "      <td>education details may 2013 may 2017 uit-rgpvda...</td>\n",
       "    </tr>\n",
       "    <tr>\n",
       "      <th>2</th>\n",
       "      <td>Data Science</td>\n",
       "      <td>Areas of Interest Deep Learning, Control Syste...</td>\n",
       "      <td>0</td>\n",
       "      <td>areas interest deep learning control system de...</td>\n",
       "    </tr>\n",
       "    <tr>\n",
       "      <th>3</th>\n",
       "      <td>Data Science</td>\n",
       "      <td>Skills â¢ R â¢ Python â¢ SAP HANA â¢ Table...</td>\n",
       "      <td>0</td>\n",
       "      <td>skills r python sap hana tableau sap hana sql ...</td>\n",
       "    </tr>\n",
       "    <tr>\n",
       "      <th>4</th>\n",
       "      <td>Data Science</td>\n",
       "      <td>Education Details \\n MCA   YMCAUST,  Faridabad...</td>\n",
       "      <td>0</td>\n",
       "      <td>education details mca ymcaust faridabad haryan...</td>\n",
       "    </tr>\n",
       "    <tr>\n",
       "      <th>5</th>\n",
       "      <td>Data Science</td>\n",
       "      <td>SKILLS C Basics, IOT, Python, MATLAB, Data Sci...</td>\n",
       "      <td>0</td>\n",
       "      <td>skills c basics iot python matlab data science...</td>\n",
       "    </tr>\n",
       "    <tr>\n",
       "      <th>6</th>\n",
       "      <td>Data Science</td>\n",
       "      <td>Skills â¢ Python â¢ Tableau â¢ Data Visuali...</td>\n",
       "      <td>0</td>\n",
       "      <td>skills python tableau data visualization r stu...</td>\n",
       "    </tr>\n",
       "    <tr>\n",
       "      <th>7</th>\n",
       "      <td>Data Science</td>\n",
       "      <td>Education Details \\n B.Tech   Rayat and Bahra ...</td>\n",
       "      <td>1</td>\n",
       "      <td>education details btech rayat bahra institute ...</td>\n",
       "    </tr>\n",
       "    <tr>\n",
       "      <th>8</th>\n",
       "      <td>Data Science</td>\n",
       "      <td>Personal Skills â¢ Ability to quickly grasp t...</td>\n",
       "      <td>1</td>\n",
       "      <td>personal skills ability quickly grasp technica...</td>\n",
       "    </tr>\n",
       "    <tr>\n",
       "      <th>9</th>\n",
       "      <td>Data Science</td>\n",
       "      <td>Expertise â Data and Quantitative Analysis â...</td>\n",
       "      <td>1</td>\n",
       "      <td>expertise data quantitative analysis decision ...</td>\n",
       "    </tr>\n",
       "    <tr>\n",
       "      <th>10</th>\n",
       "      <td>HR</td>\n",
       "      <td>\\n HR CONSULTANT       Summary       Subject m...</td>\n",
       "      <td>0</td>\n",
       "      <td>hr consultant summary subject matter expert hr...</td>\n",
       "    </tr>\n",
       "  </tbody>\n",
       "</table>\n",
       "</div>"
      ],
      "text/plain": [
       "        Category                                             Resume  chosen  \\\n",
       "0   Data Science  Skills * Programming Languages: Python (pandas...       1   \n",
       "1   Data Science  Education Details \\nMay 2013 to May 2017 B.E  ...       0   \n",
       "2   Data Science  Areas of Interest Deep Learning, Control Syste...       0   \n",
       "3   Data Science  Skills â¢ R â¢ Python â¢ SAP HANA â¢ Table...       0   \n",
       "4   Data Science  Education Details \\n MCA   YMCAUST,  Faridabad...       0   \n",
       "5   Data Science  SKILLS C Basics, IOT, Python, MATLAB, Data Sci...       0   \n",
       "6   Data Science  Skills â¢ Python â¢ Tableau â¢ Data Visuali...       0   \n",
       "7   Data Science  Education Details \\n B.Tech   Rayat and Bahra ...       1   \n",
       "8   Data Science  Personal Skills â¢ Ability to quickly grasp t...       1   \n",
       "9   Data Science  Expertise â Data and Quantitative Analysis â...       1   \n",
       "10            HR  \\n HR CONSULTANT       Summary       Subject m...       0   \n",
       "\n",
       "                                       cleaned_resume  \n",
       "0   skills programming languages python pandas num...  \n",
       "1   education details may 2013 may 2017 uit-rgpvda...  \n",
       "2   areas interest deep learning control system de...  \n",
       "3   skills r python sap hana tableau sap hana sql ...  \n",
       "4   education details mca ymcaust faridabad haryan...  \n",
       "5   skills c basics iot python matlab data science...  \n",
       "6   skills python tableau data visualization r stu...  \n",
       "7   education details btech rayat bahra institute ...  \n",
       "8   personal skills ability quickly grasp technica...  \n",
       "9   expertise data quantitative analysis decision ...  \n",
       "10  hr consultant summary subject matter expert hr...  "
      ]
     },
     "execution_count": 49,
     "metadata": {},
     "output_type": "execute_result"
    }
   ],
   "source": [
    "Data_Science_data['cleaned_resume'] = Data_Science_data['Resume'].apply(preprocess_text)\n",
    "Data_Science_data"
   ]
  },
  {
   "cell_type": "code",
   "execution_count": 50,
   "id": "c6876293-a118-484d-9e13-c8297d62d35b",
   "metadata": {},
   "outputs": [
    {
     "name": "stdout",
     "output_type": "stream",
     "text": [
      "                                       cleaned_resume  BM25_Score  chosen\n",
      "3   skills r python sap hana tableau sap hana sql ...   36.149254       0\n",
      "10  hr consultant summary subject matter expert hr...   31.572081       0\n",
      "7   education details btech rayat bahra institute ...   30.681499       1\n",
      "8   personal skills ability quickly grasp technica...   24.336544       1\n",
      "6   skills python tableau data visualization r stu...   20.520494       0\n",
      "9   expertise data quantitative analysis decision ...   17.261120       1\n",
      "0   skills programming languages python pandas num...   16.508494       1\n",
      "2   areas interest deep learning control system de...    8.755708       0\n",
      "1   education details may 2013 may 2017 uit-rgpvda...    7.753676       0\n",
      "5   skills c basics iot python matlab data science...    7.104779       0\n",
      "4   education details mca ymcaust faridabad haryan...    0.833060       0\n"
     ]
    }
   ],
   "source": [
    "# Step 1: BM25 Scoring\n",
    "# Preprocess resumes and job description\n",
    "tokenized_resumes = [resume.split() for resume in Data_Science_data['cleaned_resume']]\n",
    "tokenized_job_description = job_description.split()\n",
    "\n",
    "# BM25 model --> The scores reflect how well each resume matches the job description query.\n",
    "bm25 = BM25Okapi(tokenized_resumes)\n",
    "bm25_scores = bm25.get_scores(tokenized_job_description)\n",
    "\n",
    "# Step 3: Add Results to DataFrame\n",
    "Data_Science_data['BM25_Score'] = bm25_scores  # Ensure BM25 scores are assigned to this column\n",
    "\n",
    "# Step 4: Rank Results by Scaled BM25 Score\n",
    "Data_Science_data_sorted = Data_Science_data.sort_values(by='BM25_Score', ascending=False)\n",
    "\n",
    "# Display the top results\n",
    "print(Data_Science_data_sorted[['cleaned_resume', 'BM25_Score', 'chosen']])"
   ]
  },
  {
   "cell_type": "code",
   "execution_count": 200,
   "id": "f98d2450-8d6f-4562-baa7-31c8e8d2cc78",
   "metadata": {},
   "outputs": [
    {
     "name": "stdout",
     "output_type": "stream",
     "text": [
      "Evaluation Results:\n",
      "{'precision': 0.5, 'recall': 0.5, 'ordering_accuracy': 0, 'true_chosen_indices': [7, 8, 9, 0], 'predicted_top_indices': [3, 10, 7, 8], 'TP_count': 2, 'FP_count': 2, 'FN_count': 2, 'TN_count': 5, 'TP': {8, 7}, 'FP': {10, 3}, 'FN': {0, 9}, 'TN': {1, 2, 4, 5, 6}}\n"
     ]
    }
   ],
   "source": [
    "evaluation_results = evaluate_resume_ranking_general(Data_Science_data_sorted)\n",
    "print(\"Evaluation Results:\")\n",
    "print(evaluation_results)"
   ]
  },
  {
   "cell_type": "code",
   "execution_count": 201,
   "id": "70e9a82c-834d-4bd3-a2d3-09c84d832fa7",
   "metadata": {},
   "outputs": [
    {
     "data": {
      "image/png": "[encoded data removed]",
      "text/plain": [
       "<Figure size 800x600 with 1 Axes>"
      ]
     },
     "metadata": {},
     "output_type": "display_data"
    },
    {
     "name": "stdout",
     "output_type": "stream",
     "text": [
      "AUC Score: 0.6428571428571428\n"
     ]
    }
   ],
   "source": [
    "roc_results = plot_roc_curve(Data_Science_data_sorted, true_label_column=\"chosen\", score_column=\"BM25_Score\")\n",
    "print(\"AUC Score:\", roc_results[\"roc_auc\"])"
   ]
  },
  {
   "cell_type": "code",
   "execution_count": 202,
   "id": "73e4c037-9e93-408c-8cd7-dbdbefbede62",
   "metadata": {},
   "outputs": [],
   "source": [
    "Data_Science_data = pd.read_csv(\"Data_Science_data.csv\")"
   ]
  },
  {
   "cell_type": "code",
   "execution_count": 203,
   "id": "c9a4a1a7-94ec-44af-bda7-d359b4cd8667",
   "metadata": {},
   "outputs": [],
   "source": [
    "# Text preprocessing function\n",
    "def preprocess_text(text):\n",
    "    # Convert to lowercase\n",
    "    text = text.upper()\n",
    "    # Remove special characters (but keep numbers) keep \n",
    "    text = re.sub(r'[^a-zA-Z0-9-@\\s]', '', text)\n",
    "    # Tokenize text\n",
    "    tokens = word_tokenize(text)\n",
    "    # Remove stopwords\n",
    "    stop_words = set(stopwords.words('english'))\n",
    "    filtered_tokens = [word for word in tokens if word not in stop_words]\n",
    "    return ' '.join(filtered_tokens)"
   ]
  },
  {
   "cell_type": "code",
   "execution_count": 204,
   "id": "df59dfee-7efc-4672-96ee-a73bbbe48ab8",
   "metadata": {},
   "outputs": [
    {
     "data": {
      "text/html": [
       "<div>\n",
       "<style scoped>\n",
       "    .dataframe tbody tr th:only-of-type {\n",
       "        vertical-align: middle;\n",
       "    }\n",
       "\n",
       "    .dataframe tbody tr th {\n",
       "        vertical-align: top;\n",
       "    }\n",
       "\n",
       "    .dataframe thead th {\n",
       "        text-align: right;\n",
       "    }\n",
       "</style>\n",
       "<table border=\"1\" class=\"dataframe\">\n",
       "  <thead>\n",
       "    <tr style=\"text-align: right;\">\n",
       "      <th></th>\n",
       "      <th>Category</th>\n",
       "      <th>Resume</th>\n",
       "      <th>chosen</th>\n",
       "      <th>cleaned_resume</th>\n",
       "    </tr>\n",
       "  </thead>\n",
       "  <tbody>\n",
       "    <tr>\n",
       "      <th>0</th>\n",
       "      <td>Data Science</td>\n",
       "      <td>Skills * Programming Languages: Python (pandas...</td>\n",
       "      <td>1</td>\n",
       "      <td>SKILLS PROGRAMMING LANGUAGES PYTHON PANDAS NUM...</td>\n",
       "    </tr>\n",
       "    <tr>\n",
       "      <th>1</th>\n",
       "      <td>Data Science</td>\n",
       "      <td>Education Details \\nMay 2013 to May 2017 B.E  ...</td>\n",
       "      <td>0</td>\n",
       "      <td>EDUCATION DETAILS MAY 2013 TO MAY 2017 BE UIT-...</td>\n",
       "    </tr>\n",
       "    <tr>\n",
       "      <th>2</th>\n",
       "      <td>Data Science</td>\n",
       "      <td>Areas of Interest Deep Learning, Control Syste...</td>\n",
       "      <td>0</td>\n",
       "      <td>AREAS OF INTEREST DEEP LEARNING CONTROL SYSTEM...</td>\n",
       "    </tr>\n",
       "    <tr>\n",
       "      <th>3</th>\n",
       "      <td>Data Science</td>\n",
       "      <td>Skills â¢ R â¢ Python â¢ SAP HANA â¢ Table...</td>\n",
       "      <td>0</td>\n",
       "      <td>SKILLS R PYTHON SAP HANA TABLEAU SAP HANA SQL ...</td>\n",
       "    </tr>\n",
       "    <tr>\n",
       "      <th>4</th>\n",
       "      <td>Data Science</td>\n",
       "      <td>Education Details \\n MCA   YMCAUST,  Faridabad...</td>\n",
       "      <td>0</td>\n",
       "      <td>EDUCATION DETAILS MCA YMCAUST FARIDABAD HARYAN...</td>\n",
       "    </tr>\n",
       "    <tr>\n",
       "      <th>5</th>\n",
       "      <td>Data Science</td>\n",
       "      <td>SKILLS C Basics, IOT, Python, MATLAB, Data Sci...</td>\n",
       "      <td>0</td>\n",
       "      <td>SKILLS C BASICS IOT PYTHON MATLAB DATA SCIENCE...</td>\n",
       "    </tr>\n",
       "    <tr>\n",
       "      <th>6</th>\n",
       "      <td>Data Science</td>\n",
       "      <td>Skills â¢ Python â¢ Tableau â¢ Data Visuali...</td>\n",
       "      <td>0</td>\n",
       "      <td>SKILLS PYTHON TABLEAU DATA VISUALIZATION R STU...</td>\n",
       "    </tr>\n",
       "    <tr>\n",
       "      <th>7</th>\n",
       "      <td>Data Science</td>\n",
       "      <td>Education Details \\n B.Tech   Rayat and Bahra ...</td>\n",
       "      <td>1</td>\n",
       "      <td>EDUCATION DETAILS BTECH RAYAT AND BAHRA INSTIT...</td>\n",
       "    </tr>\n",
       "    <tr>\n",
       "      <th>8</th>\n",
       "      <td>Data Science</td>\n",
       "      <td>Personal Skills â¢ Ability to quickly grasp t...</td>\n",
       "      <td>1</td>\n",
       "      <td>PERSONAL SKILLS ABILITY TO QUICKLY GRASP TECHN...</td>\n",
       "    </tr>\n",
       "    <tr>\n",
       "      <th>9</th>\n",
       "      <td>Data Science</td>\n",
       "      <td>Expertise â Data and Quantitative Analysis â...</td>\n",
       "      <td>1</td>\n",
       "      <td>EXPERTISE DATA AND QUANTITATIVE ANALYSIS DECIS...</td>\n",
       "    </tr>\n",
       "    <tr>\n",
       "      <th>10</th>\n",
       "      <td>HR</td>\n",
       "      <td>\\n HR CONSULTANT       Summary       Subject m...</td>\n",
       "      <td>0</td>\n",
       "      <td>HR CONSULTANT SUMMARY SUBJECT MATTER EXPERT IN...</td>\n",
       "    </tr>\n",
       "  </tbody>\n",
       "</table>\n",
       "</div>"
      ],
      "text/plain": [
       "        Category                                             Resume  chosen  \\\n",
       "0   Data Science  Skills * Programming Languages: Python (pandas...       1   \n",
       "1   Data Science  Education Details \\nMay 2013 to May 2017 B.E  ...       0   \n",
       "2   Data Science  Areas of Interest Deep Learning, Control Syste...       0   \n",
       "3   Data Science  Skills â¢ R â¢ Python â¢ SAP HANA â¢ Table...       0   \n",
       "4   Data Science  Education Details \\n MCA   YMCAUST,  Faridabad...       0   \n",
       "5   Data Science  SKILLS C Basics, IOT, Python, MATLAB, Data Sci...       0   \n",
       "6   Data Science  Skills â¢ Python â¢ Tableau â¢ Data Visuali...       0   \n",
       "7   Data Science  Education Details \\n B.Tech   Rayat and Bahra ...       1   \n",
       "8   Data Science  Personal Skills â¢ Ability to quickly grasp t...       1   \n",
       "9   Data Science  Expertise â Data and Quantitative Analysis â...       1   \n",
       "10            HR  \\n HR CONSULTANT       Summary       Subject m...       0   \n",
       "\n",
       "                                       cleaned_resume  \n",
       "0   SKILLS PROGRAMMING LANGUAGES PYTHON PANDAS NUM...  \n",
       "1   EDUCATION DETAILS MAY 2013 TO MAY 2017 BE UIT-...  \n",
       "2   AREAS OF INTEREST DEEP LEARNING CONTROL SYSTEM...  \n",
       "3   SKILLS R PYTHON SAP HANA TABLEAU SAP HANA SQL ...  \n",
       "4   EDUCATION DETAILS MCA YMCAUST FARIDABAD HARYAN...  \n",
       "5   SKILLS C BASICS IOT PYTHON MATLAB DATA SCIENCE...  \n",
       "6   SKILLS PYTHON TABLEAU DATA VISUALIZATION R STU...  \n",
       "7   EDUCATION DETAILS BTECH RAYAT AND BAHRA INSTIT...  \n",
       "8   PERSONAL SKILLS ABILITY TO QUICKLY GRASP TECHN...  \n",
       "9   EXPERTISE DATA AND QUANTITATIVE ANALYSIS DECIS...  \n",
       "10  HR CONSULTANT SUMMARY SUBJECT MATTER EXPERT IN...  "
      ]
     },
     "execution_count": 204,
     "metadata": {},
     "output_type": "execute_result"
    }
   ],
   "source": [
    "Data_Science_data['cleaned_resume'] = Data_Science_data['Resume'].apply(preprocess_text)\n",
    "Data_Science_data"
   ]
  },
  {
   "cell_type": "code",
   "execution_count": 205,
   "id": "a31b07c5-3e6a-45c5-a567-94a167bc18e5",
   "metadata": {},
   "outputs": [
    {
     "name": "stdout",
     "output_type": "stream",
     "text": [
      "                                       cleaned_resume  BM25_Score  chosen\n",
      "6   SKILLS PYTHON TABLEAU DATA VISUALIZATION R STU...   13.014297       0\n",
      "0   SKILLS PROGRAMMING LANGUAGES PYTHON PANDAS NUM...    0.000000       1\n",
      "1   EDUCATION DETAILS MAY 2013 TO MAY 2017 BE UIT-...    0.000000       0\n",
      "2   AREAS OF INTEREST DEEP LEARNING CONTROL SYSTEM...    0.000000       0\n",
      "3   SKILLS R PYTHON SAP HANA TABLEAU SAP HANA SQL ...    0.000000       0\n",
      "4   EDUCATION DETAILS MCA YMCAUST FARIDABAD HARYAN...    0.000000       0\n",
      "5   SKILLS C BASICS IOT PYTHON MATLAB DATA SCIENCE...    0.000000       0\n",
      "7   EDUCATION DETAILS BTECH RAYAT AND BAHRA INSTIT...    0.000000       1\n",
      "8   PERSONAL SKILLS ABILITY TO QUICKLY GRASP TECHN...    0.000000       1\n",
      "9   EXPERTISE DATA AND QUANTITATIVE ANALYSIS DECIS...    0.000000       1\n",
      "10  HR CONSULTANT SUMMARY SUBJECT MATTER EXPERT IN...    0.000000       0\n"
     ]
    }
   ],
   "source": [
    "# Step 1: BM25 Scoring\n",
    "# Preprocess resumes and job description\n",
    "tokenized_resumes = [resume.split() for resume in Data_Science_data['cleaned_resume']]\n",
    "tokenized_job_description = job_description.split()\n",
    "\n",
    "# BM25 model --> The scores reflect how well each resume matches the job description query.\n",
    "bm25 = BM25Okapi(tokenized_resumes)\n",
    "bm25_scores = bm25.get_scores(tokenized_job_description)\n",
    "\n",
    "# Step 3: Add Results to DataFrame\n",
    "Data_Science_data['BM25_Score'] = bm25_scores  # Ensure BM25 scores are assigned to this column\n",
    "\n",
    "# Step 4: Rank Results by Scaled BM25 Score\n",
    "Data_Science_data_sorted = Data_Science_data.sort_values(by='BM25_Score', ascending=False)\n",
    "\n",
    "# Display the top results\n",
    "print(Data_Science_data_sorted[['cleaned_resume', 'BM25_Score', 'chosen']])"
   ]
  },
  {
   "cell_type": "code",
   "execution_count": 206,
   "id": "0d3f6e57-d1c7-40f4-a343-9709eee00c5c",
   "metadata": {},
   "outputs": [
    {
     "name": "stdout",
     "output_type": "stream",
     "text": [
      "Evaluation Results:\n",
      "{'precision': 0.25, 'recall': 0.25, 'ordering_accuracy': 0, 'true_chosen_indices': [0, 7, 8, 9], 'predicted_top_indices': [6, 0, 1, 2], 'TP_count': 1, 'FP_count': 3, 'FN_count': 3, 'TN_count': 4, 'TP': {0}, 'FP': {1, 2, 6}, 'FN': {8, 9, 7}, 'TN': {10, 3, 4, 5}}\n"
     ]
    }
   ],
   "source": [
    "evaluation_results = evaluate_resume_ranking_general(Data_Science_data_sorted)\n",
    "print(\"Evaluation Results:\")\n",
    "print(evaluation_results)"
   ]
  },
  {
   "cell_type": "code",
   "execution_count": 207,
   "id": "b5d45d62-6283-4820-bd11-2c9caf245e81",
   "metadata": {},
   "outputs": [
    {
     "data": {
      "image/png": "[encoded data removed]",
      "text/plain": [
       "<Figure size 800x600 with 1 Axes>"
      ]
     },
     "metadata": {},
     "output_type": "display_data"
    },
    {
     "name": "stdout",
     "output_type": "stream",
     "text": [
      "AUC Score: 0.4285714285714286\n"
     ]
    }
   ],
   "source": [
    "roc_results = plot_roc_curve(Data_Science_data_sorted, true_label_column=\"chosen\", score_column=\"BM25_Score\")\n",
    "print(\"AUC Score:\", roc_results[\"roc_auc\"])"
   ]
  },
  {
   "cell_type": "code",
   "execution_count": 212,
   "id": "82057af1-7fd5-4ff2-978a-6aed86518dec",
   "metadata": {},
   "outputs": [],
   "source": [
    "Data_Science_data = pd.read_csv(\"Data_Science_data.csv\")"
   ]
  },
  {
   "cell_type": "code",
   "execution_count": 213,
   "id": "e840d6bf-e4ed-47d1-885f-e1e52e9ed61a",
   "metadata": {},
   "outputs": [],
   "source": [
    "# Text preprocessing function\n",
    "def preprocess_text(text):\n",
    "    # Convert to lowercase\n",
    "    text = text.lower()\n",
    "    # Remove special characters (but keep numbers) keep \n",
    "    text = re.sub(r'[^a-zA-Z0-9-@\\s]', '', text)\n",
    "    # Tokenize text\n",
    "    tokens = word_tokenize(text)\n",
    "    # Remove stopwords\n",
    "    stop_words = set(stopwords.words('english'))\n",
    "    filtered_tokens = [word for word in tokens if word not in stop_words]\n",
    "    return ' '.join(filtered_tokens)"
   ]
  },
  {
   "cell_type": "code",
   "execution_count": 214,
   "id": "d2845a01-b3ef-4163-a224-ae053b69795e",
   "metadata": {},
   "outputs": [
    {
     "data": {
      "text/html": [
       "<div>\n",
       "<style scoped>\n",
       "    .dataframe tbody tr th:only-of-type {\n",
       "        vertical-align: middle;\n",
       "    }\n",
       "\n",
       "    .dataframe tbody tr th {\n",
       "        vertical-align: top;\n",
       "    }\n",
       "\n",
       "    .dataframe thead th {\n",
       "        text-align: right;\n",
       "    }\n",
       "</style>\n",
       "<table border=\"1\" class=\"dataframe\">\n",
       "  <thead>\n",
       "    <tr style=\"text-align: right;\">\n",
       "      <th></th>\n",
       "      <th>Category</th>\n",
       "      <th>Resume</th>\n",
       "      <th>chosen</th>\n",
       "      <th>cleaned_resume</th>\n",
       "    </tr>\n",
       "  </thead>\n",
       "  <tbody>\n",
       "    <tr>\n",
       "      <th>0</th>\n",
       "      <td>Data Science</td>\n",
       "      <td>Skills * Programming Languages: Python (pandas...</td>\n",
       "      <td>1</td>\n",
       "      <td>skills programming languages python pandas num...</td>\n",
       "    </tr>\n",
       "    <tr>\n",
       "      <th>1</th>\n",
       "      <td>Data Science</td>\n",
       "      <td>Education Details \\nMay 2013 to May 2017 B.E  ...</td>\n",
       "      <td>0</td>\n",
       "      <td>education details may 2013 may 2017 uit-rgpvda...</td>\n",
       "    </tr>\n",
       "    <tr>\n",
       "      <th>2</th>\n",
       "      <td>Data Science</td>\n",
       "      <td>Areas of Interest Deep Learning, Control Syste...</td>\n",
       "      <td>0</td>\n",
       "      <td>areas interest deep learning control system de...</td>\n",
       "    </tr>\n",
       "    <tr>\n",
       "      <th>3</th>\n",
       "      <td>Data Science</td>\n",
       "      <td>Skills â¢ R â¢ Python â¢ SAP HANA â¢ Table...</td>\n",
       "      <td>0</td>\n",
       "      <td>skills r python sap hana tableau sap hana sql ...</td>\n",
       "    </tr>\n",
       "    <tr>\n",
       "      <th>4</th>\n",
       "      <td>Data Science</td>\n",
       "      <td>Education Details \\n MCA   YMCAUST,  Faridabad...</td>\n",
       "      <td>0</td>\n",
       "      <td>education details mca ymcaust faridabad haryan...</td>\n",
       "    </tr>\n",
       "    <tr>\n",
       "      <th>5</th>\n",
       "      <td>Data Science</td>\n",
       "      <td>SKILLS C Basics, IOT, Python, MATLAB, Data Sci...</td>\n",
       "      <td>0</td>\n",
       "      <td>skills c basics iot python matlab data science...</td>\n",
       "    </tr>\n",
       "    <tr>\n",
       "      <th>6</th>\n",
       "      <td>Data Science</td>\n",
       "      <td>Skills â¢ Python â¢ Tableau â¢ Data Visuali...</td>\n",
       "      <td>0</td>\n",
       "      <td>skills python tableau data visualization r stu...</td>\n",
       "    </tr>\n",
       "    <tr>\n",
       "      <th>7</th>\n",
       "      <td>Data Science</td>\n",
       "      <td>Education Details \\n B.Tech   Rayat and Bahra ...</td>\n",
       "      <td>1</td>\n",
       "      <td>education details btech rayat bahra institute ...</td>\n",
       "    </tr>\n",
       "    <tr>\n",
       "      <th>8</th>\n",
       "      <td>Data Science</td>\n",
       "      <td>Personal Skills â¢ Ability to quickly grasp t...</td>\n",
       "      <td>1</td>\n",
       "      <td>personal skills ability quickly grasp technica...</td>\n",
       "    </tr>\n",
       "    <tr>\n",
       "      <th>9</th>\n",
       "      <td>Data Science</td>\n",
       "      <td>Expertise â Data and Quantitative Analysis â...</td>\n",
       "      <td>1</td>\n",
       "      <td>expertise data quantitative analysis decision ...</td>\n",
       "    </tr>\n",
       "    <tr>\n",
       "      <th>10</th>\n",
       "      <td>HR</td>\n",
       "      <td>\\n HR CONSULTANT       Summary       Subject m...</td>\n",
       "      <td>0</td>\n",
       "      <td>hr consultant summary subject matter expert hr...</td>\n",
       "    </tr>\n",
       "  </tbody>\n",
       "</table>\n",
       "</div>"
      ],
      "text/plain": [
       "        Category                                             Resume  chosen  \\\n",
       "0   Data Science  Skills * Programming Languages: Python (pandas...       1   \n",
       "1   Data Science  Education Details \\nMay 2013 to May 2017 B.E  ...       0   \n",
       "2   Data Science  Areas of Interest Deep Learning, Control Syste...       0   \n",
       "3   Data Science  Skills â¢ R â¢ Python â¢ SAP HANA â¢ Table...       0   \n",
       "4   Data Science  Education Details \\n MCA   YMCAUST,  Faridabad...       0   \n",
       "5   Data Science  SKILLS C Basics, IOT, Python, MATLAB, Data Sci...       0   \n",
       "6   Data Science  Skills â¢ Python â¢ Tableau â¢ Data Visuali...       0   \n",
       "7   Data Science  Education Details \\n B.Tech   Rayat and Bahra ...       1   \n",
       "8   Data Science  Personal Skills â¢ Ability to quickly grasp t...       1   \n",
       "9   Data Science  Expertise â Data and Quantitative Analysis â...       1   \n",
       "10            HR  \\n HR CONSULTANT       Summary       Subject m...       0   \n",
       "\n",
       "                                       cleaned_resume  \n",
       "0   skills programming languages python pandas num...  \n",
       "1   education details may 2013 may 2017 uit-rgpvda...  \n",
       "2   areas interest deep learning control system de...  \n",
       "3   skills r python sap hana tableau sap hana sql ...  \n",
       "4   education details mca ymcaust faridabad haryan...  \n",
       "5   skills c basics iot python matlab data science...  \n",
       "6   skills python tableau data visualization r stu...  \n",
       "7   education details btech rayat bahra institute ...  \n",
       "8   personal skills ability quickly grasp technica...  \n",
       "9   expertise data quantitative analysis decision ...  \n",
       "10  hr consultant summary subject matter expert hr...  "
      ]
     },
     "execution_count": 214,
     "metadata": {},
     "output_type": "execute_result"
    }
   ],
   "source": [
    "Data_Science_data['cleaned_resume'] = Data_Science_data['Resume'].apply(preprocess_text)\n",
    "Data_Science_data"
   ]
  },
  {
   "cell_type": "code",
   "execution_count": 215,
   "id": "4230b7a4-8d3f-4d9c-aa0d-83803e153271",
   "metadata": {},
   "outputs": [
    {
     "data": {
      "application/vnd.jupyter.widget-view+json": {
       "model_id": "8114304f84bb48ca9688e9763b2e0402",
       "version_major": 2,
       "version_minor": 0
      },
      "text/plain": [
       "Batches:   0%|          | 0/1 [00:00<?, ?it/s]"
      ]
     },
     "metadata": {},
     "output_type": "display_data"
    }
   ],
   "source": [
    "# Load the pre-trained BERT model\n",
    "model = SentenceTransformer('all-MiniLM-L6-v2')\n",
    "# Generate BERT embeddings for resumes\n",
    "resume_embeddings = model.encode(Data_Science_data['cleaned_resume'].tolist(), show_progress_bar=True)\n",
    "\n",
    "# Convert embeddings to a NumPy array (for efficient computation)\n",
    "resume_embeddings = np.array(resume_embeddings)\n",
    "# Preprocess the job description\n",
    "cleaned_job_desc = preprocess_text(job_description)\n",
    "\n",
    "# Generate BERT embedding for the job description\n",
    "job_desc_embedding = model.encode([cleaned_job_desc])"
   ]
  },
  {
   "cell_type": "code",
   "execution_count": 216,
   "id": "bad664e3-eab0-4dbb-8d16-ca6b1793153a",
   "metadata": {},
   "outputs": [
    {
     "name": "stdout",
     "output_type": "stream",
     "text": [
      "Resumes sorted by similarity score:\n",
      "        Category                                             Resume  chosen  \\\n",
      "8   Data Science  Personal Skills â¢ Ability to quickly grasp t...       1   \n",
      "7   Data Science  Education Details \\n B.Tech   Rayat and Bahra ...       1   \n",
      "0   Data Science  Skills * Programming Languages: Python (pandas...       1   \n",
      "9   Data Science  Expertise â Data and Quantitative Analysis â...       1   \n",
      "6   Data Science  Skills â¢ Python â¢ Tableau â¢ Data Visuali...       0   \n",
      "1   Data Science  Education Details \\nMay 2013 to May 2017 B.E  ...       0   \n",
      "10            HR  \\n HR CONSULTANT       Summary       Subject m...       0   \n",
      "2   Data Science  Areas of Interest Deep Learning, Control Syste...       0   \n",
      "3   Data Science  Skills â¢ R â¢ Python â¢ SAP HANA â¢ Table...       0   \n",
      "5   Data Science  SKILLS C Basics, IOT, Python, MATLAB, Data Sci...       0   \n",
      "4   Data Science  Education Details \\n MCA   YMCAUST,  Faridabad...       0   \n",
      "\n",
      "                                       cleaned_resume  similarity_score  \n",
      "8   personal skills ability quickly grasp technica...          0.702186  \n",
      "7   education details btech rayat bahra institute ...          0.700334  \n",
      "0   skills programming languages python pandas num...          0.693810  \n",
      "9   expertise data quantitative analysis decision ...          0.681737  \n",
      "6   skills python tableau data visualization r stu...          0.668836  \n",
      "1   education details may 2013 may 2017 uit-rgpvda...          0.609117  \n",
      "10  hr consultant summary subject matter expert hr...          0.604349  \n",
      "2   areas interest deep learning control system de...          0.601863  \n",
      "3   skills r python sap hana tableau sap hana sql ...          0.548185  \n",
      "5   skills c basics iot python matlab data science...          0.535058  \n",
      "4   education details mca ymcaust faridabad haryan...          0.413073  \n"
     ]
    }
   ],
   "source": [
    "updated_resumes = compute_cosine_similarity(job_desc_embedding, resume_embeddings, Data_Science_data)\n",
    "\n",
    "# Display the results\n",
    "print(\"Resumes sorted by similarity score:\")\n",
    "print(updated_resumes)"
   ]
  },
  {
   "cell_type": "code",
   "execution_count": 217,
   "id": "c8caae5d-174f-4dc7-b509-fca7c626eca7",
   "metadata": {},
   "outputs": [
    {
     "data": {
      "text/html": [
       "<div>\n",
       "<style scoped>\n",
       "    .dataframe tbody tr th:only-of-type {\n",
       "        vertical-align: middle;\n",
       "    }\n",
       "\n",
       "    .dataframe tbody tr th {\n",
       "        vertical-align: top;\n",
       "    }\n",
       "\n",
       "    .dataframe thead th {\n",
       "        text-align: right;\n",
       "    }\n",
       "</style>\n",
       "<table border=\"1\" class=\"dataframe\">\n",
       "  <thead>\n",
       "    <tr style=\"text-align: right;\">\n",
       "      <th></th>\n",
       "      <th>Category</th>\n",
       "      <th>Resume</th>\n",
       "      <th>chosen</th>\n",
       "      <th>cleaned_resume</th>\n",
       "      <th>similarity_score</th>\n",
       "    </tr>\n",
       "  </thead>\n",
       "  <tbody>\n",
       "    <tr>\n",
       "      <th>8</th>\n",
       "      <td>Data Science</td>\n",
       "      <td>Personal Skills â¢ Ability to quickly grasp t...</td>\n",
       "      <td>1</td>\n",
       "      <td>personal skills ability quickly grasp technica...</td>\n",
       "      <td>0.702186</td>\n",
       "    </tr>\n",
       "    <tr>\n",
       "      <th>7</th>\n",
       "      <td>Data Science</td>\n",
       "      <td>Education Details \\n B.Tech   Rayat and Bahra ...</td>\n",
       "      <td>1</td>\n",
       "      <td>education details btech rayat bahra institute ...</td>\n",
       "      <td>0.700334</td>\n",
       "    </tr>\n",
       "    <tr>\n",
       "      <th>0</th>\n",
       "      <td>Data Science</td>\n",
       "      <td>Skills * Programming Languages: Python (pandas...</td>\n",
       "      <td>1</td>\n",
       "      <td>skills programming languages python pandas num...</td>\n",
       "      <td>0.693810</td>\n",
       "    </tr>\n",
       "    <tr>\n",
       "      <th>9</th>\n",
       "      <td>Data Science</td>\n",
       "      <td>Expertise â Data and Quantitative Analysis â...</td>\n",
       "      <td>1</td>\n",
       "      <td>expertise data quantitative analysis decision ...</td>\n",
       "      <td>0.681737</td>\n",
       "    </tr>\n",
       "    <tr>\n",
       "      <th>6</th>\n",
       "      <td>Data Science</td>\n",
       "      <td>Skills â¢ Python â¢ Tableau â¢ Data Visuali...</td>\n",
       "      <td>0</td>\n",
       "      <td>skills python tableau data visualization r stu...</td>\n",
       "      <td>0.668836</td>\n",
       "    </tr>\n",
       "    <tr>\n",
       "      <th>1</th>\n",
       "      <td>Data Science</td>\n",
       "      <td>Education Details \\nMay 2013 to May 2017 B.E  ...</td>\n",
       "      <td>0</td>\n",
       "      <td>education details may 2013 may 2017 uit-rgpvda...</td>\n",
       "      <td>0.609117</td>\n",
       "    </tr>\n",
       "    <tr>\n",
       "      <th>10</th>\n",
       "      <td>HR</td>\n",
       "      <td>\\n HR CONSULTANT       Summary       Subject m...</td>\n",
       "      <td>0</td>\n",
       "      <td>hr consultant summary subject matter expert hr...</td>\n",
       "      <td>0.604349</td>\n",
       "    </tr>\n",
       "    <tr>\n",
       "      <th>2</th>\n",
       "      <td>Data Science</td>\n",
       "      <td>Areas of Interest Deep Learning, Control Syste...</td>\n",
       "      <td>0</td>\n",
       "      <td>areas interest deep learning control system de...</td>\n",
       "      <td>0.601863</td>\n",
       "    </tr>\n",
       "    <tr>\n",
       "      <th>3</th>\n",
       "      <td>Data Science</td>\n",
       "      <td>Skills â¢ R â¢ Python â¢ SAP HANA â¢ Table...</td>\n",
       "      <td>0</td>\n",
       "      <td>skills r python sap hana tableau sap hana sql ...</td>\n",
       "      <td>0.548185</td>\n",
       "    </tr>\n",
       "    <tr>\n",
       "      <th>5</th>\n",
       "      <td>Data Science</td>\n",
       "      <td>SKILLS C Basics, IOT, Python, MATLAB, Data Sci...</td>\n",
       "      <td>0</td>\n",
       "      <td>skills c basics iot python matlab data science...</td>\n",
       "      <td>0.535058</td>\n",
       "    </tr>\n",
       "    <tr>\n",
       "      <th>4</th>\n",
       "      <td>Data Science</td>\n",
       "      <td>Education Details \\n MCA   YMCAUST,  Faridabad...</td>\n",
       "      <td>0</td>\n",
       "      <td>education details mca ymcaust faridabad haryan...</td>\n",
       "      <td>0.413073</td>\n",
       "    </tr>\n",
       "  </tbody>\n",
       "</table>\n",
       "</div>"
      ],
      "text/plain": [
       "        Category                                             Resume  chosen  \\\n",
       "8   Data Science  Personal Skills â¢ Ability to quickly grasp t...       1   \n",
       "7   Data Science  Education Details \\n B.Tech   Rayat and Bahra ...       1   \n",
       "0   Data Science  Skills * Programming Languages: Python (pandas...       1   \n",
       "9   Data Science  Expertise â Data and Quantitative Analysis â...       1   \n",
       "6   Data Science  Skills â¢ Python â¢ Tableau â¢ Data Visuali...       0   \n",
       "1   Data Science  Education Details \\nMay 2013 to May 2017 B.E  ...       0   \n",
       "10            HR  \\n HR CONSULTANT       Summary       Subject m...       0   \n",
       "2   Data Science  Areas of Interest Deep Learning, Control Syste...       0   \n",
       "3   Data Science  Skills â¢ R â¢ Python â¢ SAP HANA â¢ Table...       0   \n",
       "5   Data Science  SKILLS C Basics, IOT, Python, MATLAB, Data Sci...       0   \n",
       "4   Data Science  Education Details \\n MCA   YMCAUST,  Faridabad...       0   \n",
       "\n",
       "                                       cleaned_resume  similarity_score  \n",
       "8   personal skills ability quickly grasp technica...          0.702186  \n",
       "7   education details btech rayat bahra institute ...          0.700334  \n",
       "0   skills programming languages python pandas num...          0.693810  \n",
       "9   expertise data quantitative analysis decision ...          0.681737  \n",
       "6   skills python tableau data visualization r stu...          0.668836  \n",
       "1   education details may 2013 may 2017 uit-rgpvda...          0.609117  \n",
       "10  hr consultant summary subject matter expert hr...          0.604349  \n",
       "2   areas interest deep learning control system de...          0.601863  \n",
       "3   skills r python sap hana tableau sap hana sql ...          0.548185  \n",
       "5   skills c basics iot python matlab data science...          0.535058  \n",
       "4   education details mca ymcaust faridabad haryan...          0.413073  "
      ]
     },
     "execution_count": 217,
     "metadata": {},
     "output_type": "execute_result"
    }
   ],
   "source": [
    "updated_resumes"
   ]
  },
  {
   "cell_type": "code",
   "execution_count": 219,
   "id": "2c71686e-b4a4-409c-925c-bf995ad1adf2",
   "metadata": {},
   "outputs": [
    {
     "name": "stdout",
     "output_type": "stream",
     "text": [
      "                                       cleaned_resume  BM25_Score  chosen  \\\n",
      "3   skills r python sap hana tableau sap hana sql ...   36.149254       0   \n",
      "10  hr consultant summary subject matter expert hr...   31.572081       0   \n",
      "7   education details btech rayat bahra institute ...   30.681499       1   \n",
      "8   personal skills ability quickly grasp technica...   24.336544       1   \n",
      "6   skills python tableau data visualization r stu...   20.520494       0   \n",
      "9   expertise data quantitative analysis decision ...   17.261120       1   \n",
      "0   skills programming languages python pandas num...   16.508494       1   \n",
      "2   areas interest deep learning control system de...    8.755708       0   \n",
      "1   education details may 2013 may 2017 uit-rgpvda...    7.753676       0   \n",
      "5   skills c basics iot python matlab data science...    7.104779       0   \n",
      "4   education details mca ymcaust faridabad haryan...    0.833060       0   \n",
      "\n",
      "    similarity_score  \n",
      "3           0.548185  \n",
      "10          0.604349  \n",
      "7           0.700334  \n",
      "8           0.702186  \n",
      "6           0.668836  \n",
      "9           0.681737  \n",
      "0           0.693810  \n",
      "2           0.601863  \n",
      "1           0.609117  \n",
      "5           0.535058  \n",
      "4           0.413073  \n"
     ]
    }
   ],
   "source": [
    "# Step 1: BM25 Scoring\n",
    "# Preprocess resumes and job description\n",
    "tokenized_resumes = [resume.split() for resume in updated_resumes['cleaned_resume']]\n",
    "tokenized_job_description = job_description.split()\n",
    "\n",
    "# BM25 model --> The scores reflect how well each resume matches the job description query.\n",
    "bm25 = BM25Okapi(tokenized_resumes)\n",
    "bm25_scores = bm25.get_scores(tokenized_job_description)\n",
    "\n",
    "# Step 3: Add Results to DataFrame\n",
    "updated_resumes['BM25_Score'] = bm25_scores  # Ensure BM25 scores are assigned to this column\n",
    "\n",
    "# Step 4: Rank Results by Scaled BM25 Score\n",
    "updated_resumes_sorted = updated_resumes.sort_values(by='BM25_Score', ascending=False)\n",
    "\n",
    "# Display the top results\n",
    "print(updated_resumes_sorted[['cleaned_resume', 'BM25_Score', 'chosen',\"similarity_score\"]])"
   ]
  },
  {
   "cell_type": "code",
   "execution_count": 220,
   "id": "0490728a-2d4e-4700-bf08-f8afa3dfdd93",
   "metadata": {},
   "outputs": [
    {
     "data": {
      "text/html": [
       "<div>\n",
       "<style scoped>\n",
       "    .dataframe tbody tr th:only-of-type {\n",
       "        vertical-align: middle;\n",
       "    }\n",
       "\n",
       "    .dataframe tbody tr th {\n",
       "        vertical-align: top;\n",
       "    }\n",
       "\n",
       "    .dataframe thead th {\n",
       "        text-align: right;\n",
       "    }\n",
       "</style>\n",
       "<table border=\"1\" class=\"dataframe\">\n",
       "  <thead>\n",
       "    <tr style=\"text-align: right;\">\n",
       "      <th></th>\n",
       "      <th>Category</th>\n",
       "      <th>Resume</th>\n",
       "      <th>chosen</th>\n",
       "      <th>cleaned_resume</th>\n",
       "      <th>similarity_score</th>\n",
       "      <th>BM25_Score</th>\n",
       "    </tr>\n",
       "  </thead>\n",
       "  <tbody>\n",
       "    <tr>\n",
       "      <th>3</th>\n",
       "      <td>Data Science</td>\n",
       "      <td>Skills â¢ R â¢ Python â¢ SAP HANA â¢ Table...</td>\n",
       "      <td>0</td>\n",
       "      <td>skills r python sap hana tableau sap hana sql ...</td>\n",
       "      <td>0.548185</td>\n",
       "      <td>36.149254</td>\n",
       "    </tr>\n",
       "    <tr>\n",
       "      <th>10</th>\n",
       "      <td>HR</td>\n",
       "      <td>\\n HR CONSULTANT       Summary       Subject m...</td>\n",
       "      <td>0</td>\n",
       "      <td>hr consultant summary subject matter expert hr...</td>\n",
       "      <td>0.604349</td>\n",
       "      <td>31.572081</td>\n",
       "    </tr>\n",
       "    <tr>\n",
       "      <th>7</th>\n",
       "      <td>Data Science</td>\n",
       "      <td>Education Details \\n B.Tech   Rayat and Bahra ...</td>\n",
       "      <td>1</td>\n",
       "      <td>education details btech rayat bahra institute ...</td>\n",
       "      <td>0.700334</td>\n",
       "      <td>30.681499</td>\n",
       "    </tr>\n",
       "    <tr>\n",
       "      <th>8</th>\n",
       "      <td>Data Science</td>\n",
       "      <td>Personal Skills â¢ Ability to quickly grasp t...</td>\n",
       "      <td>1</td>\n",
       "      <td>personal skills ability quickly grasp technica...</td>\n",
       "      <td>0.702186</td>\n",
       "      <td>24.336544</td>\n",
       "    </tr>\n",
       "    <tr>\n",
       "      <th>6</th>\n",
       "      <td>Data Science</td>\n",
       "      <td>Skills â¢ Python â¢ Tableau â¢ Data Visuali...</td>\n",
       "      <td>0</td>\n",
       "      <td>skills python tableau data visualization r stu...</td>\n",
       "      <td>0.668836</td>\n",
       "      <td>20.520494</td>\n",
       "    </tr>\n",
       "    <tr>\n",
       "      <th>9</th>\n",
       "      <td>Data Science</td>\n",
       "      <td>Expertise â Data and Quantitative Analysis â...</td>\n",
       "      <td>1</td>\n",
       "      <td>expertise data quantitative analysis decision ...</td>\n",
       "      <td>0.681737</td>\n",
       "      <td>17.261120</td>\n",
       "    </tr>\n",
       "    <tr>\n",
       "      <th>0</th>\n",
       "      <td>Data Science</td>\n",
       "      <td>Skills * Programming Languages: Python (pandas...</td>\n",
       "      <td>1</td>\n",
       "      <td>skills programming languages python pandas num...</td>\n",
       "      <td>0.693810</td>\n",
       "      <td>16.508494</td>\n",
       "    </tr>\n",
       "    <tr>\n",
       "      <th>2</th>\n",
       "      <td>Data Science</td>\n",
       "      <td>Areas of Interest Deep Learning, Control Syste...</td>\n",
       "      <td>0</td>\n",
       "      <td>areas interest deep learning control system de...</td>\n",
       "      <td>0.601863</td>\n",
       "      <td>8.755708</td>\n",
       "    </tr>\n",
       "    <tr>\n",
       "      <th>1</th>\n",
       "      <td>Data Science</td>\n",
       "      <td>Education Details \\nMay 2013 to May 2017 B.E  ...</td>\n",
       "      <td>0</td>\n",
       "      <td>education details may 2013 may 2017 uit-rgpvda...</td>\n",
       "      <td>0.609117</td>\n",
       "      <td>7.753676</td>\n",
       "    </tr>\n",
       "    <tr>\n",
       "      <th>5</th>\n",
       "      <td>Data Science</td>\n",
       "      <td>SKILLS C Basics, IOT, Python, MATLAB, Data Sci...</td>\n",
       "      <td>0</td>\n",
       "      <td>skills c basics iot python matlab data science...</td>\n",
       "      <td>0.535058</td>\n",
       "      <td>7.104779</td>\n",
       "    </tr>\n",
       "    <tr>\n",
       "      <th>4</th>\n",
       "      <td>Data Science</td>\n",
       "      <td>Education Details \\n MCA   YMCAUST,  Faridabad...</td>\n",
       "      <td>0</td>\n",
       "      <td>education details mca ymcaust faridabad haryan...</td>\n",
       "      <td>0.413073</td>\n",
       "      <td>0.833060</td>\n",
       "    </tr>\n",
       "  </tbody>\n",
       "</table>\n",
       "</div>"
      ],
      "text/plain": [
       "        Category                                             Resume  chosen  \\\n",
       "3   Data Science  Skills â¢ R â¢ Python â¢ SAP HANA â¢ Table...       0   \n",
       "10            HR  \\n HR CONSULTANT       Summary       Subject m...       0   \n",
       "7   Data Science  Education Details \\n B.Tech   Rayat and Bahra ...       1   \n",
       "8   Data Science  Personal Skills â¢ Ability to quickly grasp t...       1   \n",
       "6   Data Science  Skills â¢ Python â¢ Tableau â¢ Data Visuali...       0   \n",
       "9   Data Science  Expertise â Data and Quantitative Analysis â...       1   \n",
       "0   Data Science  Skills * Programming Languages: Python (pandas...       1   \n",
       "2   Data Science  Areas of Interest Deep Learning, Control Syste...       0   \n",
       "1   Data Science  Education Details \\nMay 2013 to May 2017 B.E  ...       0   \n",
       "5   Data Science  SKILLS C Basics, IOT, Python, MATLAB, Data Sci...       0   \n",
       "4   Data Science  Education Details \\n MCA   YMCAUST,  Faridabad...       0   \n",
       "\n",
       "                                       cleaned_resume  similarity_score  \\\n",
       "3   skills r python sap hana tableau sap hana sql ...          0.548185   \n",
       "10  hr consultant summary subject matter expert hr...          0.604349   \n",
       "7   education details btech rayat bahra institute ...          0.700334   \n",
       "8   personal skills ability quickly grasp technica...          0.702186   \n",
       "6   skills python tableau data visualization r stu...          0.668836   \n",
       "9   expertise data quantitative analysis decision ...          0.681737   \n",
       "0   skills programming languages python pandas num...          0.693810   \n",
       "2   areas interest deep learning control system de...          0.601863   \n",
       "1   education details may 2013 may 2017 uit-rgpvda...          0.609117   \n",
       "5   skills c basics iot python matlab data science...          0.535058   \n",
       "4   education details mca ymcaust faridabad haryan...          0.413073   \n",
       "\n",
       "    BM25_Score  \n",
       "3    36.149254  \n",
       "10   31.572081  \n",
       "7    30.681499  \n",
       "8    24.336544  \n",
       "6    20.520494  \n",
       "9    17.261120  \n",
       "0    16.508494  \n",
       "2     8.755708  \n",
       "1     7.753676  \n",
       "5     7.104779  \n",
       "4     0.833060  "
      ]
     },
     "execution_count": 220,
     "metadata": {},
     "output_type": "execute_result"
    }
   ],
   "source": [
    "updated_resumes_sorted"
   ]
  },
  {
   "cell_type": "code",
   "execution_count": 221,
   "id": "9024ce6b-95af-4df7-b56b-a570b1301157",
   "metadata": {},
   "outputs": [
    {
     "name": "stdout",
     "output_type": "stream",
     "text": [
      "<class 'pandas.core.frame.DataFrame'>\n",
      "Index: 11 entries, 3 to 4\n",
      "Data columns (total 6 columns):\n",
      " #   Column            Non-Null Count  Dtype  \n",
      "---  ------            --------------  -----  \n",
      " 0   Category          11 non-null     object \n",
      " 1   Resume            11 non-null     object \n",
      " 2   chosen            11 non-null     int64  \n",
      " 3   cleaned_resume    11 non-null     object \n",
      " 4   similarity_score  11 non-null     float32\n",
      " 5   BM25_Score        11 non-null     float64\n",
      "dtypes: float32(1), float64(1), int64(1), object(3)\n",
      "memory usage: 572.0+ bytes\n"
     ]
    }
   ],
   "source": [
    "updated_resumes_sorted.info()"
   ]
  },
  {
   "cell_type": "code",
   "execution_count": 222,
   "id": "99293097-f015-4e2d-be6e-d414cf6a865a",
   "metadata": {},
   "outputs": [
    {
     "name": "stdout",
     "output_type": "stream",
     "text": [
      "                                       cleaned_resume  similarity_score  \\\n",
      "7   education details btech rayat bahra institute ...          0.700334   \n",
      "8   personal skills ability quickly grasp technica...          0.702186   \n",
      "10  hr consultant summary subject matter expert hr...          0.604349   \n",
      "3   skills r python sap hana tableau sap hana sql ...          0.548185   \n",
      "6   skills python tableau data visualization r stu...          0.668836   \n",
      "0   skills programming languages python pandas num...          0.693810   \n",
      "9   expertise data quantitative analysis decision ...          0.681737   \n",
      "2   areas interest deep learning control system de...          0.601863   \n",
      "1   education details may 2013 may 2017 uit-rgpvda...          0.609117   \n",
      "5   skills c basics iot python matlab data science...          0.535058   \n",
      "4   education details mca ymcaust faridabad haryan...          0.413073   \n",
      "\n",
      "    BM25_Score  hybrid_score  chosen  \n",
      "7    30.681499      0.919386       1  \n",
      "8    24.336544      0.832758       1  \n",
      "10   31.572081      0.765997       0  \n",
      "3    36.149254      0.733667       0  \n",
      "6    20.520494      0.721055       0  \n",
      "0    16.508494      0.707444       1  \n",
      "9    17.261120      0.697220       1  \n",
      "2     8.755708      0.438666       0  \n",
      "1     7.753676      0.437025       0  \n",
      "5     7.104779      0.299759       0  \n",
      "4     0.833060      0.000000       0  \n"
     ]
    }
   ],
   "source": [
    "# Step 1: Normalize Cosine Similarity Scores\n",
    "scaler = MinMaxScaler()\n",
    "updated_resumes_sorted['normalized_cosine'] = scaler.fit_transform(updated_resumes_sorted[['similarity_score']])\n",
    "\n",
    "# Step 2: Normalize BM25 Scores\n",
    "updated_resumes_sorted['normalized_bm25'] = scaler.fit_transform(updated_resumes_sorted[['BM25_Score']])\n",
    "\n",
    "# Step 3: Compute Hybrid Score\n",
    "w1, w2 = 0.5, 0.5\n",
    "updated_resumes_sorted['hybrid_score'] = (\n",
    "    w1 * updated_resumes_sorted['normalized_cosine'] +  w2 * updated_resumes_sorted['normalized_bm25'])\n",
    "\n",
    "# Step 4: Sort by Hybrid Score\n",
    "updated_resumes_sorted = updated_resumes_sorted.sort_values(by='hybrid_score', ascending=False)\n",
    "\n",
    "# Display top results\n",
    "print(updated_resumes_sorted[['cleaned_resume', 'similarity_score', 'BM25_Score', 'hybrid_score', 'chosen']])"
   ]
  },
  {
   "cell_type": "code",
   "execution_count": 223,
   "id": "369658df-946b-4063-a743-b2bf9c463a29",
   "metadata": {},
   "outputs": [
    {
     "name": "stdout",
     "output_type": "stream",
     "text": [
      "Evaluation Results:\n",
      "{'precision': 0.5, 'recall': 0.5, 'ordering_accuracy': 0, 'true_chosen_indices': [7, 8, 0, 9], 'predicted_top_indices': [7, 8, 10, 3], 'TP_count': 2, 'FP_count': 2, 'FN_count': 2, 'TN_count': 5, 'TP': {8, 7}, 'FP': {10, 3}, 'FN': {0, 9}, 'TN': {1, 2, 4, 5, 6}}\n"
     ]
    }
   ],
   "source": [
    "evaluation_results = evaluate_resume_ranking_general(updated_resumes_sorted)\n",
    "print(\"Evaluation Results:\")\n",
    "print(evaluation_results)"
   ]
  },
  {
   "cell_type": "code",
   "execution_count": 224,
   "id": "5a73820b-b391-41f1-9794-03cf5865daa1",
   "metadata": {},
   "outputs": [
    {
     "data": {
      "image/png": "[encoded data removed]",
      "text/plain": [
       "<Figure size 800x600 with 1 Axes>"
      ]
     },
     "metadata": {},
     "output_type": "display_data"
    },
    {
     "name": "stdout",
     "output_type": "stream",
     "text": [
      "AUC Score: 0.7857142857142857\n"
     ]
    }
   ],
   "source": [
    "roc_results = plot_roc_curve(updated_resumes_sorted, true_label_column=\"chosen\", score_column=\"hybrid_score\")\n",
    "print(\"AUC Score:\", roc_results[\"roc_auc\"])"
   ]
  },
  {
   "cell_type": "markdown",
   "id": "46f68dd2-5424-4dd0-83b5-959901dd4775",
   "metadata": {
    "jp-MarkdownHeadingCollapsed": true
   },
   "source": [
    "# try 12 knn metric='cosine' lower text"
   ]
  },
  {
   "cell_type": "code",
   "execution_count": 37,
   "id": "dae8fc1b-106f-4c8e-b825-e0109b45c9a3",
   "metadata": {},
   "outputs": [],
   "source": [
    "Data_Science_data = pd.read_csv(\"Data_Science_data.csv\")"
   ]
  },
  {
   "cell_type": "code",
   "execution_count": 38,
   "id": "b5c1e11e-a979-4415-9eec-74f027d2cd5c",
   "metadata": {},
   "outputs": [
    {
     "data": {
      "text/html": [
       "<div>\n",
       "<style scoped>\n",
       "    .dataframe tbody tr th:only-of-type {\n",
       "        vertical-align: middle;\n",
       "    }\n",
       "\n",
       "    .dataframe tbody tr th {\n",
       "        vertical-align: top;\n",
       "    }\n",
       "\n",
       "    .dataframe thead th {\n",
       "        text-align: right;\n",
       "    }\n",
       "</style>\n",
       "<table border=\"1\" class=\"dataframe\">\n",
       "  <thead>\n",
       "    <tr style=\"text-align: right;\">\n",
       "      <th></th>\n",
       "      <th>Category</th>\n",
       "      <th>Resume</th>\n",
       "      <th>chosen</th>\n",
       "    </tr>\n",
       "  </thead>\n",
       "  <tbody>\n",
       "    <tr>\n",
       "      <th>0</th>\n",
       "      <td>Data Science</td>\n",
       "      <td>Skills * Programming Languages: Python (pandas...</td>\n",
       "      <td>1</td>\n",
       "    </tr>\n",
       "    <tr>\n",
       "      <th>1</th>\n",
       "      <td>Data Science</td>\n",
       "      <td>Education Details \\nMay 2013 to May 2017 B.E  ...</td>\n",
       "      <td>0</td>\n",
       "    </tr>\n",
       "    <tr>\n",
       "      <th>2</th>\n",
       "      <td>Data Science</td>\n",
       "      <td>Areas of Interest Deep Learning, Control Syste...</td>\n",
       "      <td>0</td>\n",
       "    </tr>\n",
       "    <tr>\n",
       "      <th>3</th>\n",
       "      <td>Data Science</td>\n",
       "      <td>Skills â¢ R â¢ Python â¢ SAP HANA â¢ Table...</td>\n",
       "      <td>0</td>\n",
       "    </tr>\n",
       "    <tr>\n",
       "      <th>4</th>\n",
       "      <td>Data Science</td>\n",
       "      <td>Education Details \\n MCA   YMCAUST,  Faridabad...</td>\n",
       "      <td>0</td>\n",
       "    </tr>\n",
       "    <tr>\n",
       "      <th>5</th>\n",
       "      <td>Data Science</td>\n",
       "      <td>SKILLS C Basics, IOT, Python, MATLAB, Data Sci...</td>\n",
       "      <td>0</td>\n",
       "    </tr>\n",
       "    <tr>\n",
       "      <th>6</th>\n",
       "      <td>Data Science</td>\n",
       "      <td>Skills â¢ Python â¢ Tableau â¢ Data Visuali...</td>\n",
       "      <td>0</td>\n",
       "    </tr>\n",
       "    <tr>\n",
       "      <th>7</th>\n",
       "      <td>Data Science</td>\n",
       "      <td>Education Details \\n B.Tech   Rayat and Bahra ...</td>\n",
       "      <td>1</td>\n",
       "    </tr>\n",
       "    <tr>\n",
       "      <th>8</th>\n",
       "      <td>Data Science</td>\n",
       "      <td>Personal Skills â¢ Ability to quickly grasp t...</td>\n",
       "      <td>1</td>\n",
       "    </tr>\n",
       "    <tr>\n",
       "      <th>9</th>\n",
       "      <td>Data Science</td>\n",
       "      <td>Expertise â Data and Quantitative Analysis â...</td>\n",
       "      <td>1</td>\n",
       "    </tr>\n",
       "    <tr>\n",
       "      <th>10</th>\n",
       "      <td>HR</td>\n",
       "      <td>\\n HR CONSULTANT       Summary       Subject m...</td>\n",
       "      <td>0</td>\n",
       "    </tr>\n",
       "  </tbody>\n",
       "</table>\n",
       "</div>"
      ],
      "text/plain": [
       "        Category                                             Resume  chosen\n",
       "0   Data Science  Skills * Programming Languages: Python (pandas...       1\n",
       "1   Data Science  Education Details \\nMay 2013 to May 2017 B.E  ...       0\n",
       "2   Data Science  Areas of Interest Deep Learning, Control Syste...       0\n",
       "3   Data Science  Skills â¢ R â¢ Python â¢ SAP HANA â¢ Table...       0\n",
       "4   Data Science  Education Details \\n MCA   YMCAUST,  Faridabad...       0\n",
       "5   Data Science  SKILLS C Basics, IOT, Python, MATLAB, Data Sci...       0\n",
       "6   Data Science  Skills â¢ Python â¢ Tableau â¢ Data Visuali...       0\n",
       "7   Data Science  Education Details \\n B.Tech   Rayat and Bahra ...       1\n",
       "8   Data Science  Personal Skills â¢ Ability to quickly grasp t...       1\n",
       "9   Data Science  Expertise â Data and Quantitative Analysis â...       1\n",
       "10            HR  \\n HR CONSULTANT       Summary       Subject m...       0"
      ]
     },
     "execution_count": 38,
     "metadata": {},
     "output_type": "execute_result"
    }
   ],
   "source": [
    "Data_Science_data"
   ]
  },
  {
   "cell_type": "code",
   "execution_count": 39,
   "id": "04ec0712-c529-43cd-9b50-a034ab9e0631",
   "metadata": {},
   "outputs": [],
   "source": [
    "# Text preprocessing function\n",
    "def preprocess_text(text):\n",
    "    # Convert to lowercase\n",
    "    text = text.lower()\n",
    "    # Remove special characters (but keep numbers) keep \n",
    "    text = re.sub(r'[^a-zA-Z0-9-@\\s]', '', text)\n",
    "    # Tokenize text\n",
    "    tokens = word_tokenize(text)\n",
    "    # Remove stopwords\n",
    "    stop_words = set(stopwords.words('english'))\n",
    "    filtered_tokens = [word for word in tokens if word not in stop_words]\n",
    "    return ' '.join(filtered_tokens)"
   ]
  },
  {
   "cell_type": "code",
   "execution_count": 40,
   "id": "604c4f58-4da6-4f16-9e5c-036f4e82a176",
   "metadata": {},
   "outputs": [
    {
     "data": {
      "text/html": [
       "<div>\n",
       "<style scoped>\n",
       "    .dataframe tbody tr th:only-of-type {\n",
       "        vertical-align: middle;\n",
       "    }\n",
       "\n",
       "    .dataframe tbody tr th {\n",
       "        vertical-align: top;\n",
       "    }\n",
       "\n",
       "    .dataframe thead th {\n",
       "        text-align: right;\n",
       "    }\n",
       "</style>\n",
       "<table border=\"1\" class=\"dataframe\">\n",
       "  <thead>\n",
       "    <tr style=\"text-align: right;\">\n",
       "      <th></th>\n",
       "      <th>Category</th>\n",
       "      <th>Resume</th>\n",
       "      <th>chosen</th>\n",
       "      <th>cleaned_resume</th>\n",
       "    </tr>\n",
       "  </thead>\n",
       "  <tbody>\n",
       "    <tr>\n",
       "      <th>0</th>\n",
       "      <td>Data Science</td>\n",
       "      <td>Skills * Programming Languages: Python (pandas...</td>\n",
       "      <td>1</td>\n",
       "      <td>skills programming languages python pandas num...</td>\n",
       "    </tr>\n",
       "    <tr>\n",
       "      <th>1</th>\n",
       "      <td>Data Science</td>\n",
       "      <td>Education Details \\nMay 2013 to May 2017 B.E  ...</td>\n",
       "      <td>0</td>\n",
       "      <td>education details may 2013 may 2017 uit-rgpvda...</td>\n",
       "    </tr>\n",
       "    <tr>\n",
       "      <th>2</th>\n",
       "      <td>Data Science</td>\n",
       "      <td>Areas of Interest Deep Learning, Control Syste...</td>\n",
       "      <td>0</td>\n",
       "      <td>areas interest deep learning control system de...</td>\n",
       "    </tr>\n",
       "    <tr>\n",
       "      <th>3</th>\n",
       "      <td>Data Science</td>\n",
       "      <td>Skills â¢ R â¢ Python â¢ SAP HANA â¢ Table...</td>\n",
       "      <td>0</td>\n",
       "      <td>skills r python sap hana tableau sap hana sql ...</td>\n",
       "    </tr>\n",
       "    <tr>\n",
       "      <th>4</th>\n",
       "      <td>Data Science</td>\n",
       "      <td>Education Details \\n MCA   YMCAUST,  Faridabad...</td>\n",
       "      <td>0</td>\n",
       "      <td>education details mca ymcaust faridabad haryan...</td>\n",
       "    </tr>\n",
       "    <tr>\n",
       "      <th>5</th>\n",
       "      <td>Data Science</td>\n",
       "      <td>SKILLS C Basics, IOT, Python, MATLAB, Data Sci...</td>\n",
       "      <td>0</td>\n",
       "      <td>skills c basics iot python matlab data science...</td>\n",
       "    </tr>\n",
       "    <tr>\n",
       "      <th>6</th>\n",
       "      <td>Data Science</td>\n",
       "      <td>Skills â¢ Python â¢ Tableau â¢ Data Visuali...</td>\n",
       "      <td>0</td>\n",
       "      <td>skills python tableau data visualization r stu...</td>\n",
       "    </tr>\n",
       "    <tr>\n",
       "      <th>7</th>\n",
       "      <td>Data Science</td>\n",
       "      <td>Education Details \\n B.Tech   Rayat and Bahra ...</td>\n",
       "      <td>1</td>\n",
       "      <td>education details btech rayat bahra institute ...</td>\n",
       "    </tr>\n",
       "    <tr>\n",
       "      <th>8</th>\n",
       "      <td>Data Science</td>\n",
       "      <td>Personal Skills â¢ Ability to quickly grasp t...</td>\n",
       "      <td>1</td>\n",
       "      <td>personal skills ability quickly grasp technica...</td>\n",
       "    </tr>\n",
       "    <tr>\n",
       "      <th>9</th>\n",
       "      <td>Data Science</td>\n",
       "      <td>Expertise â Data and Quantitative Analysis â...</td>\n",
       "      <td>1</td>\n",
       "      <td>expertise data quantitative analysis decision ...</td>\n",
       "    </tr>\n",
       "    <tr>\n",
       "      <th>10</th>\n",
       "      <td>HR</td>\n",
       "      <td>\\n HR CONSULTANT       Summary       Subject m...</td>\n",
       "      <td>0</td>\n",
       "      <td>hr consultant summary subject matter expert hr...</td>\n",
       "    </tr>\n",
       "  </tbody>\n",
       "</table>\n",
       "</div>"
      ],
      "text/plain": [
       "        Category                                             Resume  chosen  \\\n",
       "0   Data Science  Skills * Programming Languages: Python (pandas...       1   \n",
       "1   Data Science  Education Details \\nMay 2013 to May 2017 B.E  ...       0   \n",
       "2   Data Science  Areas of Interest Deep Learning, Control Syste...       0   \n",
       "3   Data Science  Skills â¢ R â¢ Python â¢ SAP HANA â¢ Table...       0   \n",
       "4   Data Science  Education Details \\n MCA   YMCAUST,  Faridabad...       0   \n",
       "5   Data Science  SKILLS C Basics, IOT, Python, MATLAB, Data Sci...       0   \n",
       "6   Data Science  Skills â¢ Python â¢ Tableau â¢ Data Visuali...       0   \n",
       "7   Data Science  Education Details \\n B.Tech   Rayat and Bahra ...       1   \n",
       "8   Data Science  Personal Skills â¢ Ability to quickly grasp t...       1   \n",
       "9   Data Science  Expertise â Data and Quantitative Analysis â...       1   \n",
       "10            HR  \\n HR CONSULTANT       Summary       Subject m...       0   \n",
       "\n",
       "                                       cleaned_resume  \n",
       "0   skills programming languages python pandas num...  \n",
       "1   education details may 2013 may 2017 uit-rgpvda...  \n",
       "2   areas interest deep learning control system de...  \n",
       "3   skills r python sap hana tableau sap hana sql ...  \n",
       "4   education details mca ymcaust faridabad haryan...  \n",
       "5   skills c basics iot python matlab data science...  \n",
       "6   skills python tableau data visualization r stu...  \n",
       "7   education details btech rayat bahra institute ...  \n",
       "8   personal skills ability quickly grasp technica...  \n",
       "9   expertise data quantitative analysis decision ...  \n",
       "10  hr consultant summary subject matter expert hr...  "
      ]
     },
     "execution_count": 40,
     "metadata": {},
     "output_type": "execute_result"
    }
   ],
   "source": [
    "Data_Science_data['cleaned_resume'] = Data_Science_data['Resume'].apply(preprocess_text)\n",
    "Data_Science_data"
   ]
  },
  {
   "cell_type": "code",
   "execution_count": 41,
   "id": "de387dfe-74f7-41de-ac92-e4aa359b1504",
   "metadata": {},
   "outputs": [
    {
     "data": {
      "application/vnd.jupyter.widget-view+json": {
       "model_id": "bbba9287a58a41a89b404903f41253ac",
       "version_major": 2,
       "version_minor": 0
      },
      "text/plain": [
       "Batches:   0%|          | 0/1 [00:00<?, ?it/s]"
      ]
     },
     "metadata": {},
     "output_type": "display_data"
    }
   ],
   "source": [
    "model = SentenceTransformer(\"nomic-ai/nomic-embed-text-v1\", trust_remote_code=True)\n",
    "resume_embeddings = model.encode(Data_Science_data['cleaned_resume'].tolist(), show_progress_bar=True)\n",
    "\n",
    "# Convert embeddings to a NumPy array (for efficient computation)\n",
    "resume_embeddings = np.array(resume_embeddings)\n",
    "# Preprocess the job description\n",
    "cleaned_job_desc = preprocess_text(job_description)\n",
    "\n",
    "# Generate BERT embedding for the job description\n",
    "job_desc_embedding = model.encode([cleaned_job_desc])"
   ]
  },
  {
   "cell_type": "code",
   "execution_count": 42,
   "id": "f5606d09-199c-43a9-96ee-f2ee71025405",
   "metadata": {},
   "outputs": [
    {
     "name": "stdout",
     "output_type": "stream",
     "text": [
      "Evaluation Results:\n",
      "precision: 0.5\n",
      "recall: 0.5\n",
      "ordering_accuracy: 0\n",
      "true_chosen_indices: [8, 7, 0, 9]\n",
      "predicted_top_indices: [8, 2, 5, 7]\n",
      "TP_count: 2\n",
      "FP_count: 2\n",
      "FN_count: 2\n",
      "TN_count: 5\n",
      "TP: {8, 7}\n",
      "FP: {2, 5}\n",
      "FN: {0, 9}\n",
      "TN: {1, 3, 4, 6, 10}\n"
     ]
    }
   ],
   "source": [
    "# Perform KNN search\n",
    "knn = NearestNeighbors(n_neighbors=10, metric='cosine')  # Using cosine similarity\n",
    "knn.fit(resume_embeddings)\n",
    "\n",
    "# Find the top nearest resumes to the job description\n",
    "distances, indices = knn.kneighbors(job_desc_embedding)\n",
    "\n",
    "# Update the original DataFrame with distances\n",
    "Data_Science_data[\"knn_distance\"] = float('inf')  # Initialize with a high value for all rows\n",
    "for idx, dist in zip(indices[0], distances[0]):\n",
    "    Data_Science_data.loc[idx, \"knn_distance\"] = dist  # Assign distances to the correct indices\n",
    "\n",
    "# Sort the DataFrame by the new 'knn_distance' column\n",
    "sorted_resumes = Data_Science_data.sort_values(by=\"knn_distance\", ascending=True)\n",
    "\n",
    "# Evaluate the ranking\n",
    "evaluation_results = evaluate_resume_ranking_general(\n",
    "    sorted_resumes,\n",
    "    true_label_column=\"chosen\"\n",
    ")\n",
    "# Print the evaluation metrics\n",
    "print(\"Evaluation Results:\")\n",
    "for metric, value in evaluation_results.items():\n",
    "    print(f\"{metric}: {value}\")"
   ]
  },
  {
   "cell_type": "code",
   "execution_count": 43,
   "id": "9125921a-c45e-4758-b953-eccf6fd6e16b",
   "metadata": {},
   "outputs": [
    {
     "data": {
      "text/html": [
       "<div>\n",
       "<style scoped>\n",
       "    .dataframe tbody tr th:only-of-type {\n",
       "        vertical-align: middle;\n",
       "    }\n",
       "\n",
       "    .dataframe tbody tr th {\n",
       "        vertical-align: top;\n",
       "    }\n",
       "\n",
       "    .dataframe thead th {\n",
       "        text-align: right;\n",
       "    }\n",
       "</style>\n",
       "<table border=\"1\" class=\"dataframe\">\n",
       "  <thead>\n",
       "    <tr style=\"text-align: right;\">\n",
       "      <th></th>\n",
       "      <th>Category</th>\n",
       "      <th>Resume</th>\n",
       "      <th>chosen</th>\n",
       "      <th>cleaned_resume</th>\n",
       "      <th>knn_distance</th>\n",
       "    </tr>\n",
       "  </thead>\n",
       "  <tbody>\n",
       "    <tr>\n",
       "      <th>8</th>\n",
       "      <td>Data Science</td>\n",
       "      <td>Personal Skills â¢ Ability to quickly grasp t...</td>\n",
       "      <td>1</td>\n",
       "      <td>personal skills ability quickly grasp technica...</td>\n",
       "      <td>0.283311</td>\n",
       "    </tr>\n",
       "    <tr>\n",
       "      <th>2</th>\n",
       "      <td>Data Science</td>\n",
       "      <td>Areas of Interest Deep Learning, Control Syste...</td>\n",
       "      <td>0</td>\n",
       "      <td>areas interest deep learning control system de...</td>\n",
       "      <td>0.326158</td>\n",
       "    </tr>\n",
       "    <tr>\n",
       "      <th>5</th>\n",
       "      <td>Data Science</td>\n",
       "      <td>SKILLS C Basics, IOT, Python, MATLAB, Data Sci...</td>\n",
       "      <td>0</td>\n",
       "      <td>skills c basics iot python matlab data science...</td>\n",
       "      <td>0.326802</td>\n",
       "    </tr>\n",
       "    <tr>\n",
       "      <th>7</th>\n",
       "      <td>Data Science</td>\n",
       "      <td>Education Details \\n B.Tech   Rayat and Bahra ...</td>\n",
       "      <td>1</td>\n",
       "      <td>education details btech rayat bahra institute ...</td>\n",
       "      <td>0.341938</td>\n",
       "    </tr>\n",
       "    <tr>\n",
       "      <th>1</th>\n",
       "      <td>Data Science</td>\n",
       "      <td>Education Details \\nMay 2013 to May 2017 B.E  ...</td>\n",
       "      <td>0</td>\n",
       "      <td>education details may 2013 may 2017 uit-rgpvda...</td>\n",
       "      <td>0.355225</td>\n",
       "    </tr>\n",
       "    <tr>\n",
       "      <th>6</th>\n",
       "      <td>Data Science</td>\n",
       "      <td>Skills â¢ Python â¢ Tableau â¢ Data Visuali...</td>\n",
       "      <td>0</td>\n",
       "      <td>skills python tableau data visualization r stu...</td>\n",
       "      <td>0.356312</td>\n",
       "    </tr>\n",
       "    <tr>\n",
       "      <th>0</th>\n",
       "      <td>Data Science</td>\n",
       "      <td>Skills * Programming Languages: Python (pandas...</td>\n",
       "      <td>1</td>\n",
       "      <td>skills programming languages python pandas num...</td>\n",
       "      <td>0.381603</td>\n",
       "    </tr>\n",
       "    <tr>\n",
       "      <th>3</th>\n",
       "      <td>Data Science</td>\n",
       "      <td>Skills â¢ R â¢ Python â¢ SAP HANA â¢ Table...</td>\n",
       "      <td>0</td>\n",
       "      <td>skills r python sap hana tableau sap hana sql ...</td>\n",
       "      <td>0.388855</td>\n",
       "    </tr>\n",
       "    <tr>\n",
       "      <th>9</th>\n",
       "      <td>Data Science</td>\n",
       "      <td>Expertise â Data and Quantitative Analysis â...</td>\n",
       "      <td>1</td>\n",
       "      <td>expertise data quantitative analysis decision ...</td>\n",
       "      <td>0.392726</td>\n",
       "    </tr>\n",
       "    <tr>\n",
       "      <th>4</th>\n",
       "      <td>Data Science</td>\n",
       "      <td>Education Details \\n MCA   YMCAUST,  Faridabad...</td>\n",
       "      <td>0</td>\n",
       "      <td>education details mca ymcaust faridabad haryan...</td>\n",
       "      <td>0.414092</td>\n",
       "    </tr>\n",
       "    <tr>\n",
       "      <th>10</th>\n",
       "      <td>HR</td>\n",
       "      <td>\\n HR CONSULTANT       Summary       Subject m...</td>\n",
       "      <td>0</td>\n",
       "      <td>hr consultant summary subject matter expert hr...</td>\n",
       "      <td>inf</td>\n",
       "    </tr>\n",
       "  </tbody>\n",
       "</table>\n",
       "</div>"
      ],
      "text/plain": [
       "        Category                                             Resume  chosen  \\\n",
       "8   Data Science  Personal Skills â¢ Ability to quickly grasp t...       1   \n",
       "2   Data Science  Areas of Interest Deep Learning, Control Syste...       0   \n",
       "5   Data Science  SKILLS C Basics, IOT, Python, MATLAB, Data Sci...       0   \n",
       "7   Data Science  Education Details \\n B.Tech   Rayat and Bahra ...       1   \n",
       "1   Data Science  Education Details \\nMay 2013 to May 2017 B.E  ...       0   \n",
       "6   Data Science  Skills â¢ Python â¢ Tableau â¢ Data Visuali...       0   \n",
       "0   Data Science  Skills * Programming Languages: Python (pandas...       1   \n",
       "3   Data Science  Skills â¢ R â¢ Python â¢ SAP HANA â¢ Table...       0   \n",
       "9   Data Science  Expertise â Data and Quantitative Analysis â...       1   \n",
       "4   Data Science  Education Details \\n MCA   YMCAUST,  Faridabad...       0   \n",
       "10            HR  \\n HR CONSULTANT       Summary       Subject m...       0   \n",
       "\n",
       "                                       cleaned_resume  knn_distance  \n",
       "8   personal skills ability quickly grasp technica...      0.283311  \n",
       "2   areas interest deep learning control system de...      0.326158  \n",
       "5   skills c basics iot python matlab data science...      0.326802  \n",
       "7   education details btech rayat bahra institute ...      0.341938  \n",
       "1   education details may 2013 may 2017 uit-rgpvda...      0.355225  \n",
       "6   skills python tableau data visualization r stu...      0.356312  \n",
       "0   skills programming languages python pandas num...      0.381603  \n",
       "3   skills r python sap hana tableau sap hana sql ...      0.388855  \n",
       "9   expertise data quantitative analysis decision ...      0.392726  \n",
       "4   education details mca ymcaust faridabad haryan...      0.414092  \n",
       "10  hr consultant summary subject matter expert hr...           inf  "
      ]
     },
     "execution_count": 43,
     "metadata": {},
     "output_type": "execute_result"
    }
   ],
   "source": [
    "sorted_resumes"
   ]
  },
  {
   "cell_type": "code",
   "execution_count": 44,
   "id": "d13aba26-19f1-49e7-be3f-25ad655ad7c6",
   "metadata": {},
   "outputs": [],
   "source": [
    "sorted_resumes['knn_distance'] = sorted_resumes['knn_distance'].replace(np.inf, 1.0)\n"
   ]
  },
  {
   "cell_type": "code",
   "execution_count": 45,
   "id": "f7262ac5-6125-4c9c-bfb6-4f087db58865",
   "metadata": {},
   "outputs": [
    {
     "data": {
      "text/html": [
       "<div>\n",
       "<style scoped>\n",
       "    .dataframe tbody tr th:only-of-type {\n",
       "        vertical-align: middle;\n",
       "    }\n",
       "\n",
       "    .dataframe tbody tr th {\n",
       "        vertical-align: top;\n",
       "    }\n",
       "\n",
       "    .dataframe thead th {\n",
       "        text-align: right;\n",
       "    }\n",
       "</style>\n",
       "<table border=\"1\" class=\"dataframe\">\n",
       "  <thead>\n",
       "    <tr style=\"text-align: right;\">\n",
       "      <th></th>\n",
       "      <th>Category</th>\n",
       "      <th>Resume</th>\n",
       "      <th>chosen</th>\n",
       "      <th>cleaned_resume</th>\n",
       "      <th>knn_distance</th>\n",
       "    </tr>\n",
       "  </thead>\n",
       "  <tbody>\n",
       "    <tr>\n",
       "      <th>8</th>\n",
       "      <td>Data Science</td>\n",
       "      <td>Personal Skills â¢ Ability to quickly grasp t...</td>\n",
       "      <td>1</td>\n",
       "      <td>personal skills ability quickly grasp technica...</td>\n",
       "      <td>0.283311</td>\n",
       "    </tr>\n",
       "    <tr>\n",
       "      <th>2</th>\n",
       "      <td>Data Science</td>\n",
       "      <td>Areas of Interest Deep Learning, Control Syste...</td>\n",
       "      <td>0</td>\n",
       "      <td>areas interest deep learning control system de...</td>\n",
       "      <td>0.326158</td>\n",
       "    </tr>\n",
       "    <tr>\n",
       "      <th>5</th>\n",
       "      <td>Data Science</td>\n",
       "      <td>SKILLS C Basics, IOT, Python, MATLAB, Data Sci...</td>\n",
       "      <td>0</td>\n",
       "      <td>skills c basics iot python matlab data science...</td>\n",
       "      <td>0.326802</td>\n",
       "    </tr>\n",
       "    <tr>\n",
       "      <th>7</th>\n",
       "      <td>Data Science</td>\n",
       "      <td>Education Details \\n B.Tech   Rayat and Bahra ...</td>\n",
       "      <td>1</td>\n",
       "      <td>education details btech rayat bahra institute ...</td>\n",
       "      <td>0.341938</td>\n",
       "    </tr>\n",
       "    <tr>\n",
       "      <th>1</th>\n",
       "      <td>Data Science</td>\n",
       "      <td>Education Details \\nMay 2013 to May 2017 B.E  ...</td>\n",
       "      <td>0</td>\n",
       "      <td>education details may 2013 may 2017 uit-rgpvda...</td>\n",
       "      <td>0.355225</td>\n",
       "    </tr>\n",
       "    <tr>\n",
       "      <th>6</th>\n",
       "      <td>Data Science</td>\n",
       "      <td>Skills â¢ Python â¢ Tableau â¢ Data Visuali...</td>\n",
       "      <td>0</td>\n",
       "      <td>skills python tableau data visualization r stu...</td>\n",
       "      <td>0.356312</td>\n",
       "    </tr>\n",
       "    <tr>\n",
       "      <th>0</th>\n",
       "      <td>Data Science</td>\n",
       "      <td>Skills * Programming Languages: Python (pandas...</td>\n",
       "      <td>1</td>\n",
       "      <td>skills programming languages python pandas num...</td>\n",
       "      <td>0.381603</td>\n",
       "    </tr>\n",
       "    <tr>\n",
       "      <th>3</th>\n",
       "      <td>Data Science</td>\n",
       "      <td>Skills â¢ R â¢ Python â¢ SAP HANA â¢ Table...</td>\n",
       "      <td>0</td>\n",
       "      <td>skills r python sap hana tableau sap hana sql ...</td>\n",
       "      <td>0.388855</td>\n",
       "    </tr>\n",
       "    <tr>\n",
       "      <th>9</th>\n",
       "      <td>Data Science</td>\n",
       "      <td>Expertise â Data and Quantitative Analysis â...</td>\n",
       "      <td>1</td>\n",
       "      <td>expertise data quantitative analysis decision ...</td>\n",
       "      <td>0.392726</td>\n",
       "    </tr>\n",
       "    <tr>\n",
       "      <th>4</th>\n",
       "      <td>Data Science</td>\n",
       "      <td>Education Details \\n MCA   YMCAUST,  Faridabad...</td>\n",
       "      <td>0</td>\n",
       "      <td>education details mca ymcaust faridabad haryan...</td>\n",
       "      <td>0.414092</td>\n",
       "    </tr>\n",
       "    <tr>\n",
       "      <th>10</th>\n",
       "      <td>HR</td>\n",
       "      <td>\\n HR CONSULTANT       Summary       Subject m...</td>\n",
       "      <td>0</td>\n",
       "      <td>hr consultant summary subject matter expert hr...</td>\n",
       "      <td>1.000000</td>\n",
       "    </tr>\n",
       "  </tbody>\n",
       "</table>\n",
       "</div>"
      ],
      "text/plain": [
       "        Category                                             Resume  chosen  \\\n",
       "8   Data Science  Personal Skills â¢ Ability to quickly grasp t...       1   \n",
       "2   Data Science  Areas of Interest Deep Learning, Control Syste...       0   \n",
       "5   Data Science  SKILLS C Basics, IOT, Python, MATLAB, Data Sci...       0   \n",
       "7   Data Science  Education Details \\n B.Tech   Rayat and Bahra ...       1   \n",
       "1   Data Science  Education Details \\nMay 2013 to May 2017 B.E  ...       0   \n",
       "6   Data Science  Skills â¢ Python â¢ Tableau â¢ Data Visuali...       0   \n",
       "0   Data Science  Skills * Programming Languages: Python (pandas...       1   \n",
       "3   Data Science  Skills â¢ R â¢ Python â¢ SAP HANA â¢ Table...       0   \n",
       "9   Data Science  Expertise â Data and Quantitative Analysis â...       1   \n",
       "4   Data Science  Education Details \\n MCA   YMCAUST,  Faridabad...       0   \n",
       "10            HR  \\n HR CONSULTANT       Summary       Subject m...       0   \n",
       "\n",
       "                                       cleaned_resume  knn_distance  \n",
       "8   personal skills ability quickly grasp technica...      0.283311  \n",
       "2   areas interest deep learning control system de...      0.326158  \n",
       "5   skills c basics iot python matlab data science...      0.326802  \n",
       "7   education details btech rayat bahra institute ...      0.341938  \n",
       "1   education details may 2013 may 2017 uit-rgpvda...      0.355225  \n",
       "6   skills python tableau data visualization r stu...      0.356312  \n",
       "0   skills programming languages python pandas num...      0.381603  \n",
       "3   skills r python sap hana tableau sap hana sql ...      0.388855  \n",
       "9   expertise data quantitative analysis decision ...      0.392726  \n",
       "4   education details mca ymcaust faridabad haryan...      0.414092  \n",
       "10  hr consultant summary subject matter expert hr...      1.000000  "
      ]
     },
     "execution_count": 45,
     "metadata": {},
     "output_type": "execute_result"
    }
   ],
   "source": [
    "sorted_resumes"
   ]
  },
  {
   "cell_type": "code",
   "execution_count": null,
   "id": "5fb8f17b-7145-4b26-906e-e714edefa393",
   "metadata": {},
   "outputs": [],
   "source": []
  },
  {
   "cell_type": "code",
   "execution_count": 46,
   "id": "29c5f3e3-ea67-4375-a406-1c16252045fc",
   "metadata": {},
   "outputs": [
    {
     "data": {
      "image/png": "[encoded data removed]",
      "text/plain": [
       "<Figure size 800x600 with 1 Axes>"
      ]
     },
     "metadata": {},
     "output_type": "display_data"
    },
    {
     "name": "stdout",
     "output_type": "stream",
     "text": [
      "AUC Score: 0.39285714285714285\n"
     ]
    }
   ],
   "source": [
    "roc_results = plot_roc_curve(sorted_resumes, true_label_column=\"chosen\", score_column=\"knn_distance\")\n",
    "print(\"AUC Score:\", roc_results[\"roc_auc\"])"
   ]
  },
  {
   "cell_type": "markdown",
   "id": "d4ea1cfd-c9e6-4551-96e8-b24975a00700",
   "metadata": {},
   "source": [
    "### **Cosine Distance**\n",
    "- **Cosine similarity** measures how similar two vectors are by calculating the cosine of the angle between them. \n",
    "  - A similarity score closer to **1** means the vectors are highly aligned (similar).\n",
    "  - A score closer to **0** means the vectors are orthogonal (unrelated).\n",
    "  \n",
    "  Cosine **distance** is derived as:  \n",
    "  {Cosine Distance} = 1 - {Cosine Similarity}\n",
    "\n",
    "  Thus, **lower distance values** indicate higher similarity.\n",
    "\n",
    "\n",
    "\n",
    "### Key Points:\n",
    "1. **Lower Distance = Better Match**:\n",
    "   - Resumes with smaller distances are better aligned with the job description's semantic meaning.\n",
    "2. **Index Order Is Based on Proximity**:\n",
    "   - KNN ranks resumes by closeness to the query (job description embedding).\n",
    "3. **Cosine Distance Values**:\n",
    "   - Values closer to **0** are more similar, while values closer to **1** are more dissimilar.\n",
    "\n"
   ]
  },
  {
   "cell_type": "markdown",
   "id": "1c1415fc-d4de-445b-9918-3e53380f1731",
   "metadata": {
    "jp-MarkdownHeadingCollapsed": true
   },
   "source": [
    "# try 13 knn metric='euclidean' lower text"
   ]
  },
  {
   "cell_type": "code",
   "execution_count": 51,
   "id": "d2a79d92-dbab-4a91-8be8-6ab3826f9fb2",
   "metadata": {},
   "outputs": [],
   "source": [
    "Data_Science_data = pd.read_csv(\"Data_Science_data.csv\")"
   ]
  },
  {
   "cell_type": "code",
   "execution_count": 52,
   "id": "42381c3b-f35b-41dc-9ce0-c7f2aa841c76",
   "metadata": {},
   "outputs": [],
   "source": [
    "# Text preprocessing function\n",
    "def preprocess_text(text):\n",
    "    # Convert to lowercase\n",
    "    text = text.lower()\n",
    "    # Remove special characters (but keep numbers) keep \n",
    "    text = re.sub(r'[^a-zA-Z0-9-@\\s]', '', text)\n",
    "    # Tokenize text\n",
    "    tokens = word_tokenize(text)\n",
    "    # Remove stopwords\n",
    "    stop_words = set(stopwords.words('english'))\n",
    "    filtered_tokens = [word for word in tokens if word not in stop_words]\n",
    "    return ' '.join(filtered_tokens)"
   ]
  },
  {
   "cell_type": "code",
   "execution_count": 53,
   "id": "f3ab7693-2d95-4fe2-bd28-c8f7924fb6c0",
   "metadata": {},
   "outputs": [
    {
     "data": {
      "text/html": [
       "<div>\n",
       "<style scoped>\n",
       "    .dataframe tbody tr th:only-of-type {\n",
       "        vertical-align: middle;\n",
       "    }\n",
       "\n",
       "    .dataframe tbody tr th {\n",
       "        vertical-align: top;\n",
       "    }\n",
       "\n",
       "    .dataframe thead th {\n",
       "        text-align: right;\n",
       "    }\n",
       "</style>\n",
       "<table border=\"1\" class=\"dataframe\">\n",
       "  <thead>\n",
       "    <tr style=\"text-align: right;\">\n",
       "      <th></th>\n",
       "      <th>Category</th>\n",
       "      <th>Resume</th>\n",
       "      <th>chosen</th>\n",
       "      <th>cleaned_resume</th>\n",
       "    </tr>\n",
       "  </thead>\n",
       "  <tbody>\n",
       "    <tr>\n",
       "      <th>0</th>\n",
       "      <td>Data Science</td>\n",
       "      <td>Skills * Programming Languages: Python (pandas...</td>\n",
       "      <td>1</td>\n",
       "      <td>skills programming languages python pandas num...</td>\n",
       "    </tr>\n",
       "    <tr>\n",
       "      <th>1</th>\n",
       "      <td>Data Science</td>\n",
       "      <td>Education Details \\nMay 2013 to May 2017 B.E  ...</td>\n",
       "      <td>0</td>\n",
       "      <td>education details may 2013 may 2017 uit-rgpvda...</td>\n",
       "    </tr>\n",
       "    <tr>\n",
       "      <th>2</th>\n",
       "      <td>Data Science</td>\n",
       "      <td>Areas of Interest Deep Learning, Control Syste...</td>\n",
       "      <td>0</td>\n",
       "      <td>areas interest deep learning control system de...</td>\n",
       "    </tr>\n",
       "    <tr>\n",
       "      <th>3</th>\n",
       "      <td>Data Science</td>\n",
       "      <td>Skills â¢ R â¢ Python â¢ SAP HANA â¢ Table...</td>\n",
       "      <td>0</td>\n",
       "      <td>skills r python sap hana tableau sap hana sql ...</td>\n",
       "    </tr>\n",
       "    <tr>\n",
       "      <th>4</th>\n",
       "      <td>Data Science</td>\n",
       "      <td>Education Details \\n MCA   YMCAUST,  Faridabad...</td>\n",
       "      <td>0</td>\n",
       "      <td>education details mca ymcaust faridabad haryan...</td>\n",
       "    </tr>\n",
       "    <tr>\n",
       "      <th>5</th>\n",
       "      <td>Data Science</td>\n",
       "      <td>SKILLS C Basics, IOT, Python, MATLAB, Data Sci...</td>\n",
       "      <td>0</td>\n",
       "      <td>skills c basics iot python matlab data science...</td>\n",
       "    </tr>\n",
       "    <tr>\n",
       "      <th>6</th>\n",
       "      <td>Data Science</td>\n",
       "      <td>Skills â¢ Python â¢ Tableau â¢ Data Visuali...</td>\n",
       "      <td>0</td>\n",
       "      <td>skills python tableau data visualization r stu...</td>\n",
       "    </tr>\n",
       "    <tr>\n",
       "      <th>7</th>\n",
       "      <td>Data Science</td>\n",
       "      <td>Education Details \\n B.Tech   Rayat and Bahra ...</td>\n",
       "      <td>1</td>\n",
       "      <td>education details btech rayat bahra institute ...</td>\n",
       "    </tr>\n",
       "    <tr>\n",
       "      <th>8</th>\n",
       "      <td>Data Science</td>\n",
       "      <td>Personal Skills â¢ Ability to quickly grasp t...</td>\n",
       "      <td>1</td>\n",
       "      <td>personal skills ability quickly grasp technica...</td>\n",
       "    </tr>\n",
       "    <tr>\n",
       "      <th>9</th>\n",
       "      <td>Data Science</td>\n",
       "      <td>Expertise â Data and Quantitative Analysis â...</td>\n",
       "      <td>1</td>\n",
       "      <td>expertise data quantitative analysis decision ...</td>\n",
       "    </tr>\n",
       "    <tr>\n",
       "      <th>10</th>\n",
       "      <td>HR</td>\n",
       "      <td>\\n HR CONSULTANT       Summary       Subject m...</td>\n",
       "      <td>0</td>\n",
       "      <td>hr consultant summary subject matter expert hr...</td>\n",
       "    </tr>\n",
       "  </tbody>\n",
       "</table>\n",
       "</div>"
      ],
      "text/plain": [
       "        Category                                             Resume  chosen  \\\n",
       "0   Data Science  Skills * Programming Languages: Python (pandas...       1   \n",
       "1   Data Science  Education Details \\nMay 2013 to May 2017 B.E  ...       0   \n",
       "2   Data Science  Areas of Interest Deep Learning, Control Syste...       0   \n",
       "3   Data Science  Skills â¢ R â¢ Python â¢ SAP HANA â¢ Table...       0   \n",
       "4   Data Science  Education Details \\n MCA   YMCAUST,  Faridabad...       0   \n",
       "5   Data Science  SKILLS C Basics, IOT, Python, MATLAB, Data Sci...       0   \n",
       "6   Data Science  Skills â¢ Python â¢ Tableau â¢ Data Visuali...       0   \n",
       "7   Data Science  Education Details \\n B.Tech   Rayat and Bahra ...       1   \n",
       "8   Data Science  Personal Skills â¢ Ability to quickly grasp t...       1   \n",
       "9   Data Science  Expertise â Data and Quantitative Analysis â...       1   \n",
       "10            HR  \\n HR CONSULTANT       Summary       Subject m...       0   \n",
       "\n",
       "                                       cleaned_resume  \n",
       "0   skills programming languages python pandas num...  \n",
       "1   education details may 2013 may 2017 uit-rgpvda...  \n",
       "2   areas interest deep learning control system de...  \n",
       "3   skills r python sap hana tableau sap hana sql ...  \n",
       "4   education details mca ymcaust faridabad haryan...  \n",
       "5   skills c basics iot python matlab data science...  \n",
       "6   skills python tableau data visualization r stu...  \n",
       "7   education details btech rayat bahra institute ...  \n",
       "8   personal skills ability quickly grasp technica...  \n",
       "9   expertise data quantitative analysis decision ...  \n",
       "10  hr consultant summary subject matter expert hr...  "
      ]
     },
     "execution_count": 53,
     "metadata": {},
     "output_type": "execute_result"
    }
   ],
   "source": [
    "Data_Science_data['cleaned_resume'] = Data_Science_data['Resume'].apply(preprocess_text)\n",
    "Data_Science_data"
   ]
  },
  {
   "cell_type": "code",
   "execution_count": 54,
   "id": "f9a06bc1-65ba-4135-ade4-dc38de5315d9",
   "metadata": {},
   "outputs": [
    {
     "data": {
      "application/vnd.jupyter.widget-view+json": {
       "model_id": "8d3bc452f31f44baa7ce7b0292b0ce43",
       "version_major": 2,
       "version_minor": 0
      },
      "text/plain": [
       "Batches:   0%|          | 0/1 [00:00<?, ?it/s]"
      ]
     },
     "metadata": {},
     "output_type": "display_data"
    }
   ],
   "source": [
    "# Load the pre-trained BERT model\n",
    "model = SentenceTransformer(\"nomic-ai/nomic-embed-text-v1\", trust_remote_code=True)\n",
    "\n",
    "resume_embeddings = model.encode(Data_Science_data['cleaned_resume'].tolist(), show_progress_bar=True)\n",
    "\n",
    "# Convert embeddings to a NumPy array (for efficient computation)\n",
    "resume_embeddings = np.array(resume_embeddings)\n",
    "# Preprocess the job description\n",
    "cleaned_job_desc = preprocess_text(job_description)\n",
    "\n",
    "# Generate BERT embedding for the job description\n",
    "job_desc_embedding = model.encode([cleaned_job_desc])"
   ]
  },
  {
   "cell_type": "code",
   "execution_count": 55,
   "id": "d902f36c-7e6c-457d-b00b-88474f358e21",
   "metadata": {},
   "outputs": [
    {
     "name": "stdout",
     "output_type": "stream",
     "text": [
      "Evaluation Results:\n",
      "precision: 0.5\n",
      "recall: 0.5\n",
      "ordering_accuracy: 0\n",
      "true_chosen_indices: [8, 7, 0, 9]\n",
      "predicted_top_indices: [8, 2, 5, 7]\n",
      "TP_count: 2\n",
      "FP_count: 2\n",
      "FN_count: 2\n",
      "TN_count: 5\n",
      "TP: {8, 7}\n",
      "FP: {2, 5}\n",
      "FN: {0, 9}\n",
      "TN: {1, 3, 4, 6, 10}\n"
     ]
    }
   ],
   "source": [
    "# Perform KNN search\n",
    "knn = NearestNeighbors(n_neighbors=10, metric='euclidean')  # Using cosine similarity\n",
    "knn.fit(resume_embeddings)\n",
    "\n",
    "# Find the top nearest resumes to the job description\n",
    "distances, indices = knn.kneighbors(job_desc_embedding)\n",
    "\n",
    "# Update the original DataFrame with distances\n",
    "Data_Science_data[\"euclidean_distance\"] = float('inf')  # Initialize with a high value for all rows\n",
    "for idx, dist in zip(indices[0], distances[0]):\n",
    "    Data_Science_data.loc[idx, \"euclidean_distance\"] = dist  # Assign distances to the correct indices\n",
    "\n",
    "# Sort the DataFrame by the new 'knn_distance' column\n",
    "sorted_resumes = Data_Science_data.sort_values(by=\"euclidean_distance\", ascending=True)\n",
    "\n",
    "# Evaluate the ranking\n",
    "evaluation_results = evaluate_resume_ranking_general(\n",
    "    sorted_resumes,\n",
    "    true_label_column=\"chosen\"\n",
    ")\n",
    "# Print the evaluation metrics\n",
    "print(\"Evaluation Results:\")\n",
    "for metric, value in evaluation_results.items():\n",
    "    print(f\"{metric}: {value}\")\n"
   ]
  },
  {
   "cell_type": "code",
   "execution_count": 56,
   "id": "874d4dcc-b43a-4883-a110-cf2923608b15",
   "metadata": {},
   "outputs": [],
   "source": [
    "sorted_resumes['euclidean_distance'] = sorted_resumes['euclidean_distance'].replace(np.inf, 1.0)"
   ]
  },
  {
   "cell_type": "markdown",
   "id": "a2c0c380-303c-4ba0-83d2-9ba00128a644",
   "metadata": {},
   "source": [
    "Iam using the **KNeighborsClassifier** with Euclidean distance to rank the resumes based on their similarity to the job description. \n",
    "### 1. **KNeighborsClassifier and Euclidean Distance**:\n",
    "   - **KNeighborsClassifier** is used for classification tasks, and it finds the `k` nearest neighbors of a given point (in this case, the job description embedding) in a feature space (the resume embeddings).\n",
    "   - **Euclidean distance** is the metric used to measure the \"closeness\" or similarity between the job description and the resumes. The smaller the Euclidean distance, the more similar the resume is to the job description.\n",
    "   - The **Euclidean distance** between two points is calculated as the square root of the sum of the squared differences of their corresponding coordinates\n",
    "   - **Smaller Euclidean distances indicate that the resumes are more similar to the job description.**\n"
   ]
  },
  {
   "cell_type": "code",
   "execution_count": 57,
   "id": "136aa16f-03e9-4438-8a98-01782d733d59",
   "metadata": {},
   "outputs": [
    {
     "data": {
      "text/html": [
       "<div>\n",
       "<style scoped>\n",
       "    .dataframe tbody tr th:only-of-type {\n",
       "        vertical-align: middle;\n",
       "    }\n",
       "\n",
       "    .dataframe tbody tr th {\n",
       "        vertical-align: top;\n",
       "    }\n",
       "\n",
       "    .dataframe thead th {\n",
       "        text-align: right;\n",
       "    }\n",
       "</style>\n",
       "<table border=\"1\" class=\"dataframe\">\n",
       "  <thead>\n",
       "    <tr style=\"text-align: right;\">\n",
       "      <th></th>\n",
       "      <th>Category</th>\n",
       "      <th>Resume</th>\n",
       "      <th>chosen</th>\n",
       "      <th>cleaned_resume</th>\n",
       "      <th>euclidean_distance</th>\n",
       "    </tr>\n",
       "  </thead>\n",
       "  <tbody>\n",
       "    <tr>\n",
       "      <th>8</th>\n",
       "      <td>Data Science</td>\n",
       "      <td>Personal Skills â¢ Ability to quickly grasp t...</td>\n",
       "      <td>1</td>\n",
       "      <td>personal skills ability quickly grasp technica...</td>\n",
       "      <td>0.752743</td>\n",
       "    </tr>\n",
       "    <tr>\n",
       "      <th>2</th>\n",
       "      <td>Data Science</td>\n",
       "      <td>Areas of Interest Deep Learning, Control Syste...</td>\n",
       "      <td>0</td>\n",
       "      <td>areas interest deep learning control system de...</td>\n",
       "      <td>0.807661</td>\n",
       "    </tr>\n",
       "    <tr>\n",
       "      <th>5</th>\n",
       "      <td>Data Science</td>\n",
       "      <td>SKILLS C Basics, IOT, Python, MATLAB, Data Sci...</td>\n",
       "      <td>0</td>\n",
       "      <td>skills c basics iot python matlab data science...</td>\n",
       "      <td>0.808458</td>\n",
       "    </tr>\n",
       "    <tr>\n",
       "      <th>7</th>\n",
       "      <td>Data Science</td>\n",
       "      <td>Education Details \\n B.Tech   Rayat and Bahra ...</td>\n",
       "      <td>1</td>\n",
       "      <td>education details btech rayat bahra institute ...</td>\n",
       "      <td>0.826968</td>\n",
       "    </tr>\n",
       "    <tr>\n",
       "      <th>1</th>\n",
       "      <td>Data Science</td>\n",
       "      <td>Education Details \\nMay 2013 to May 2017 B.E  ...</td>\n",
       "      <td>0</td>\n",
       "      <td>education details may 2013 may 2017 uit-rgpvda...</td>\n",
       "      <td>0.842882</td>\n",
       "    </tr>\n",
       "    <tr>\n",
       "      <th>6</th>\n",
       "      <td>Data Science</td>\n",
       "      <td>Skills â¢ Python â¢ Tableau â¢ Data Visuali...</td>\n",
       "      <td>0</td>\n",
       "      <td>skills python tableau data visualization r stu...</td>\n",
       "      <td>0.844171</td>\n",
       "    </tr>\n",
       "    <tr>\n",
       "      <th>0</th>\n",
       "      <td>Data Science</td>\n",
       "      <td>Skills * Programming Languages: Python (pandas...</td>\n",
       "      <td>1</td>\n",
       "      <td>skills programming languages python pandas num...</td>\n",
       "      <td>0.873617</td>\n",
       "    </tr>\n",
       "    <tr>\n",
       "      <th>3</th>\n",
       "      <td>Data Science</td>\n",
       "      <td>Skills â¢ R â¢ Python â¢ SAP HANA â¢ Table...</td>\n",
       "      <td>0</td>\n",
       "      <td>skills r python sap hana tableau sap hana sql ...</td>\n",
       "      <td>0.881879</td>\n",
       "    </tr>\n",
       "    <tr>\n",
       "      <th>9</th>\n",
       "      <td>Data Science</td>\n",
       "      <td>Expertise â Data and Quantitative Analysis â...</td>\n",
       "      <td>1</td>\n",
       "      <td>expertise data quantitative analysis decision ...</td>\n",
       "      <td>0.886257</td>\n",
       "    </tr>\n",
       "    <tr>\n",
       "      <th>4</th>\n",
       "      <td>Data Science</td>\n",
       "      <td>Education Details \\n MCA   YMCAUST,  Faridabad...</td>\n",
       "      <td>0</td>\n",
       "      <td>education details mca ymcaust faridabad haryan...</td>\n",
       "      <td>0.910046</td>\n",
       "    </tr>\n",
       "    <tr>\n",
       "      <th>10</th>\n",
       "      <td>HR</td>\n",
       "      <td>\\n HR CONSULTANT       Summary       Subject m...</td>\n",
       "      <td>0</td>\n",
       "      <td>hr consultant summary subject matter expert hr...</td>\n",
       "      <td>1.000000</td>\n",
       "    </tr>\n",
       "  </tbody>\n",
       "</table>\n",
       "</div>"
      ],
      "text/plain": [
       "        Category                                             Resume  chosen  \\\n",
       "8   Data Science  Personal Skills â¢ Ability to quickly grasp t...       1   \n",
       "2   Data Science  Areas of Interest Deep Learning, Control Syste...       0   \n",
       "5   Data Science  SKILLS C Basics, IOT, Python, MATLAB, Data Sci...       0   \n",
       "7   Data Science  Education Details \\n B.Tech   Rayat and Bahra ...       1   \n",
       "1   Data Science  Education Details \\nMay 2013 to May 2017 B.E  ...       0   \n",
       "6   Data Science  Skills â¢ Python â¢ Tableau â¢ Data Visuali...       0   \n",
       "0   Data Science  Skills * Programming Languages: Python (pandas...       1   \n",
       "3   Data Science  Skills â¢ R â¢ Python â¢ SAP HANA â¢ Table...       0   \n",
       "9   Data Science  Expertise â Data and Quantitative Analysis â...       1   \n",
       "4   Data Science  Education Details \\n MCA   YMCAUST,  Faridabad...       0   \n",
       "10            HR  \\n HR CONSULTANT       Summary       Subject m...       0   \n",
       "\n",
       "                                       cleaned_resume  euclidean_distance  \n",
       "8   personal skills ability quickly grasp technica...            0.752743  \n",
       "2   areas interest deep learning control system de...            0.807661  \n",
       "5   skills c basics iot python matlab data science...            0.808458  \n",
       "7   education details btech rayat bahra institute ...            0.826968  \n",
       "1   education details may 2013 may 2017 uit-rgpvda...            0.842882  \n",
       "6   skills python tableau data visualization r stu...            0.844171  \n",
       "0   skills programming languages python pandas num...            0.873617  \n",
       "3   skills r python sap hana tableau sap hana sql ...            0.881879  \n",
       "9   expertise data quantitative analysis decision ...            0.886257  \n",
       "4   education details mca ymcaust faridabad haryan...            0.910046  \n",
       "10  hr consultant summary subject matter expert hr...            1.000000  "
      ]
     },
     "execution_count": 57,
     "metadata": {},
     "output_type": "execute_result"
    }
   ],
   "source": [
    "sorted_resumes"
   ]
  },
  {
   "cell_type": "code",
   "execution_count": 58,
   "id": "6b7ac0a1-492c-4c34-a16e-db518723d473",
   "metadata": {},
   "outputs": [
    {
     "data": {
      "image/png": "[encoded data removed]",
      "text/plain": [
       "<Figure size 800x600 with 1 Axes>"
      ]
     },
     "metadata": {},
     "output_type": "display_data"
    },
    {
     "name": "stdout",
     "output_type": "stream",
     "text": [
      "AUC Score: 0.39285714285714285\n"
     ]
    }
   ],
   "source": [
    "roc_results = plot_roc_curve(sorted_resumes, true_label_column=\"chosen\", score_column=\"euclidean_distance\")\n",
    "print(\"AUC Score:\", roc_results[\"roc_auc\"])"
   ]
  },
  {
   "cell_type": "code",
   "execution_count": null,
   "id": "9f089054-c8eb-4193-87f0-8b2b00ad252d",
   "metadata": {},
   "outputs": [],
   "source": []
  },
  {
   "cell_type": "markdown",
   "id": "10f33181-966a-4275-a744-89442102cae9",
   "metadata": {
    "jp-MarkdownHeadingCollapsed": true
   },
   "source": [
    "# try 15 knn metric='cosin' lower text wih lemmatizer"
   ]
  },
  {
   "cell_type": "code",
   "execution_count": 59,
   "id": "7e54e8d4-9f20-42ea-bd19-7c81c1eaea88",
   "metadata": {},
   "outputs": [],
   "source": [
    "Data_Science_data = pd.read_csv(\"Data_Science_data.csv\")"
   ]
  },
  {
   "cell_type": "code",
   "execution_count": 60,
   "id": "14f65853-abfa-4a10-b345-092b5bd84c26",
   "metadata": {},
   "outputs": [],
   "source": [
    "# Text preprocessing function\n",
    "def preprocess_text(text):\n",
    "    # Convert to lowercase\n",
    "    text = text.lower()\n",
    "    \n",
    "    # Remove special characters (but keep numbers and certain symbols like - and @)\n",
    "    text = re.sub(r'[^a-zA-Z0-9-@\\s]', '', text)\n",
    "    \n",
    "    # Tokenize text\n",
    "    tokens = word_tokenize(text)\n",
    "    \n",
    "    # Remove stopwords\n",
    "    stop_words = set(stopwords.words('english'))\n",
    "    filtered_tokens = [word for word in tokens if word not in stop_words]\n",
    "    \n",
    "    # Perform lemmatization \n",
    "    lemmatizer = WordNetLemmatizer()\n",
    "    lemmatized_tokens = [lemmatizer.lemmatize(word) for word in filtered_tokens]\n",
    "    \n",
    "    # Remove short tokens \n",
    "    cleaned_tokens = [word for word in lemmatized_tokens if len(word) > 1]\n",
    "    \n",
    "    return ' '.join(cleaned_tokens)\n"
   ]
  },
  {
   "cell_type": "code",
   "execution_count": 61,
   "id": "d19da55e-4de7-414e-9d1d-bd38ff65b2b2",
   "metadata": {
    "scrolled": true
   },
   "outputs": [
    {
     "data": {
      "text/html": [
       "<div>\n",
       "<style scoped>\n",
       "    .dataframe tbody tr th:only-of-type {\n",
       "        vertical-align: middle;\n",
       "    }\n",
       "\n",
       "    .dataframe tbody tr th {\n",
       "        vertical-align: top;\n",
       "    }\n",
       "\n",
       "    .dataframe thead th {\n",
       "        text-align: right;\n",
       "    }\n",
       "</style>\n",
       "<table border=\"1\" class=\"dataframe\">\n",
       "  <thead>\n",
       "    <tr style=\"text-align: right;\">\n",
       "      <th></th>\n",
       "      <th>Category</th>\n",
       "      <th>Resume</th>\n",
       "      <th>chosen</th>\n",
       "      <th>cleaned_resume</th>\n",
       "    </tr>\n",
       "  </thead>\n",
       "  <tbody>\n",
       "    <tr>\n",
       "      <th>0</th>\n",
       "      <td>Data Science</td>\n",
       "      <td>Skills * Programming Languages: Python (pandas...</td>\n",
       "      <td>1</td>\n",
       "      <td>skill programming language python panda numpy ...</td>\n",
       "    </tr>\n",
       "    <tr>\n",
       "      <th>1</th>\n",
       "      <td>Data Science</td>\n",
       "      <td>Education Details \\nMay 2013 to May 2017 B.E  ...</td>\n",
       "      <td>0</td>\n",
       "      <td>education detail may 2013 may 2017 uit-rgpvdat...</td>\n",
       "    </tr>\n",
       "    <tr>\n",
       "      <th>2</th>\n",
       "      <td>Data Science</td>\n",
       "      <td>Areas of Interest Deep Learning, Control Syste...</td>\n",
       "      <td>0</td>\n",
       "      <td>area interest deep learning control system des...</td>\n",
       "    </tr>\n",
       "    <tr>\n",
       "      <th>3</th>\n",
       "      <td>Data Science</td>\n",
       "      <td>Skills â¢ R â¢ Python â¢ SAP HANA â¢ Table...</td>\n",
       "      <td>0</td>\n",
       "      <td>skill python sap hana tableau sap hana sql sap...</td>\n",
       "    </tr>\n",
       "    <tr>\n",
       "      <th>4</th>\n",
       "      <td>Data Science</td>\n",
       "      <td>Education Details \\n MCA   YMCAUST,  Faridabad...</td>\n",
       "      <td>0</td>\n",
       "      <td>education detail mca ymcaust faridabad haryana...</td>\n",
       "    </tr>\n",
       "    <tr>\n",
       "      <th>5</th>\n",
       "      <td>Data Science</td>\n",
       "      <td>SKILLS C Basics, IOT, Python, MATLAB, Data Sci...</td>\n",
       "      <td>0</td>\n",
       "      <td>skill basic iot python matlab data science mac...</td>\n",
       "    </tr>\n",
       "    <tr>\n",
       "      <th>6</th>\n",
       "      <td>Data Science</td>\n",
       "      <td>Skills â¢ Python â¢ Tableau â¢ Data Visuali...</td>\n",
       "      <td>0</td>\n",
       "      <td>skill python tableau data visualization studio...</td>\n",
       "    </tr>\n",
       "    <tr>\n",
       "      <th>7</th>\n",
       "      <td>Data Science</td>\n",
       "      <td>Education Details \\n B.Tech   Rayat and Bahra ...</td>\n",
       "      <td>1</td>\n",
       "      <td>education detail btech rayat bahra institute e...</td>\n",
       "    </tr>\n",
       "    <tr>\n",
       "      <th>8</th>\n",
       "      <td>Data Science</td>\n",
       "      <td>Personal Skills â¢ Ability to quickly grasp t...</td>\n",
       "      <td>1</td>\n",
       "      <td>personal skill ability quickly grasp technical...</td>\n",
       "    </tr>\n",
       "    <tr>\n",
       "      <th>9</th>\n",
       "      <td>Data Science</td>\n",
       "      <td>Expertise â Data and Quantitative Analysis â...</td>\n",
       "      <td>1</td>\n",
       "      <td>expertise data quantitative analysis decision ...</td>\n",
       "    </tr>\n",
       "    <tr>\n",
       "      <th>10</th>\n",
       "      <td>HR</td>\n",
       "      <td>\\n HR CONSULTANT       Summary       Subject m...</td>\n",
       "      <td>0</td>\n",
       "      <td>hr consultant summary subject matter expert hr...</td>\n",
       "    </tr>\n",
       "  </tbody>\n",
       "</table>\n",
       "</div>"
      ],
      "text/plain": [
       "        Category                                             Resume  chosen  \\\n",
       "0   Data Science  Skills * Programming Languages: Python (pandas...       1   \n",
       "1   Data Science  Education Details \\nMay 2013 to May 2017 B.E  ...       0   \n",
       "2   Data Science  Areas of Interest Deep Learning, Control Syste...       0   \n",
       "3   Data Science  Skills â¢ R â¢ Python â¢ SAP HANA â¢ Table...       0   \n",
       "4   Data Science  Education Details \\n MCA   YMCAUST,  Faridabad...       0   \n",
       "5   Data Science  SKILLS C Basics, IOT, Python, MATLAB, Data Sci...       0   \n",
       "6   Data Science  Skills â¢ Python â¢ Tableau â¢ Data Visuali...       0   \n",
       "7   Data Science  Education Details \\n B.Tech   Rayat and Bahra ...       1   \n",
       "8   Data Science  Personal Skills â¢ Ability to quickly grasp t...       1   \n",
       "9   Data Science  Expertise â Data and Quantitative Analysis â...       1   \n",
       "10            HR  \\n HR CONSULTANT       Summary       Subject m...       0   \n",
       "\n",
       "                                       cleaned_resume  \n",
       "0   skill programming language python panda numpy ...  \n",
       "1   education detail may 2013 may 2017 uit-rgpvdat...  \n",
       "2   area interest deep learning control system des...  \n",
       "3   skill python sap hana tableau sap hana sql sap...  \n",
       "4   education detail mca ymcaust faridabad haryana...  \n",
       "5   skill basic iot python matlab data science mac...  \n",
       "6   skill python tableau data visualization studio...  \n",
       "7   education detail btech rayat bahra institute e...  \n",
       "8   personal skill ability quickly grasp technical...  \n",
       "9   expertise data quantitative analysis decision ...  \n",
       "10  hr consultant summary subject matter expert hr...  "
      ]
     },
     "execution_count": 61,
     "metadata": {},
     "output_type": "execute_result"
    }
   ],
   "source": [
    "Data_Science_data['cleaned_resume'] = Data_Science_data['Resume'].apply(preprocess_text)\n",
    "Data_Science_data"
   ]
  },
  {
   "cell_type": "code",
   "execution_count": 62,
   "id": "13c1572c-538c-49e5-89aa-54c634d3069b",
   "metadata": {},
   "outputs": [
    {
     "data": {
      "application/vnd.jupyter.widget-view+json": {
       "model_id": "11e06b6e2f7f4b0896e2b3b72ea55f31",
       "version_major": 2,
       "version_minor": 0
      },
      "text/plain": [
       "Batches:   0%|          | 0/1 [00:00<?, ?it/s]"
      ]
     },
     "metadata": {},
     "output_type": "display_data"
    }
   ],
   "source": [
    "\n",
    "model = SentenceTransformer(\"nomic-ai/nomic-embed-text-v1\", trust_remote_code=True)\n",
    "\n",
    "resume_embeddings = model.encode(Data_Science_data['cleaned_resume'].tolist(), show_progress_bar=True)\n",
    "\n",
    "# Convert embeddings to a NumPy array (for efficient computation)\n",
    "resume_embeddings = np.array(resume_embeddings)\n",
    "# Preprocess the job description\n",
    "cleaned_job_desc = preprocess_text(job_description)\n",
    "\n",
    "# Generate BERT embedding for the job description\n",
    "job_desc_embedding = model.encode([cleaned_job_desc])"
   ]
  },
  {
   "cell_type": "code",
   "execution_count": 63,
   "id": "f1a6cc45-e6ce-463b-bc5a-1df3f1a94ede",
   "metadata": {},
   "outputs": [
    {
     "name": "stdout",
     "output_type": "stream",
     "text": [
      "Evaluation Results:\n",
      "precision: 0.5\n",
      "recall: 0.5\n",
      "ordering_accuracy: 0\n",
      "true_chosen_indices: [8, 7, 9, 0]\n",
      "predicted_top_indices: [8, 5, 2, 7]\n",
      "TP_count: 2\n",
      "FP_count: 2\n",
      "FN_count: 2\n",
      "TN_count: 5\n",
      "TP: {8, 7}\n",
      "FP: {2, 5}\n",
      "FN: {0, 9}\n",
      "TN: {1, 3, 4, 6, 10}\n"
     ]
    }
   ],
   "source": [
    "# Perform KNN search\n",
    "knn = NearestNeighbors(n_neighbors=10, metric='cosine')  # Using cosine similarity\n",
    "knn.fit(resume_embeddings)\n",
    "\n",
    "# Find the top nearest resumes to the job description\n",
    "distances, indices = knn.kneighbors(job_desc_embedding)\n",
    "\n",
    "# Update the original DataFrame with distances\n",
    "Data_Science_data[\"knn_distance\"] = float('inf')  # Initialize with a high value for all rows\n",
    "for idx, dist in zip(indices[0], distances[0]):\n",
    "    Data_Science_data.loc[idx, \"knn_distance\"] = dist  # Assign distances to the correct indices\n",
    "\n",
    "# Sort the DataFrame by the new 'knn_distance' column\n",
    "sorted_resumes = Data_Science_data.sort_values(by=\"knn_distance\", ascending=True)\n",
    "\n",
    "# Evaluate the ranking\n",
    "evaluation_results = evaluate_resume_ranking_general(\n",
    "    sorted_resumes,\n",
    "    true_label_column=\"chosen\"\n",
    ")\n",
    "# Print the evaluation metrics\n",
    "print(\"Evaluation Results:\")\n",
    "for metric, value in evaluation_results.items():\n",
    "    print(f\"{metric}: {value}\")"
   ]
  },
  {
   "cell_type": "code",
   "execution_count": 64,
   "id": "7f5ec5bc-b8cf-461c-97e2-d5360d841277",
   "metadata": {},
   "outputs": [
    {
     "data": {
      "text/html": [
       "<div>\n",
       "<style scoped>\n",
       "    .dataframe tbody tr th:only-of-type {\n",
       "        vertical-align: middle;\n",
       "    }\n",
       "\n",
       "    .dataframe tbody tr th {\n",
       "        vertical-align: top;\n",
       "    }\n",
       "\n",
       "    .dataframe thead th {\n",
       "        text-align: right;\n",
       "    }\n",
       "</style>\n",
       "<table border=\"1\" class=\"dataframe\">\n",
       "  <thead>\n",
       "    <tr style=\"text-align: right;\">\n",
       "      <th></th>\n",
       "      <th>Category</th>\n",
       "      <th>Resume</th>\n",
       "      <th>chosen</th>\n",
       "      <th>cleaned_resume</th>\n",
       "      <th>knn_distance</th>\n",
       "    </tr>\n",
       "  </thead>\n",
       "  <tbody>\n",
       "    <tr>\n",
       "      <th>8</th>\n",
       "      <td>Data Science</td>\n",
       "      <td>Personal Skills â¢ Ability to quickly grasp t...</td>\n",
       "      <td>1</td>\n",
       "      <td>personal skill ability quickly grasp technical...</td>\n",
       "      <td>0.299909</td>\n",
       "    </tr>\n",
       "    <tr>\n",
       "      <th>5</th>\n",
       "      <td>Data Science</td>\n",
       "      <td>SKILLS C Basics, IOT, Python, MATLAB, Data Sci...</td>\n",
       "      <td>0</td>\n",
       "      <td>skill basic iot python matlab data science mac...</td>\n",
       "      <td>0.320900</td>\n",
       "    </tr>\n",
       "    <tr>\n",
       "      <th>2</th>\n",
       "      <td>Data Science</td>\n",
       "      <td>Areas of Interest Deep Learning, Control Syste...</td>\n",
       "      <td>0</td>\n",
       "      <td>area interest deep learning control system des...</td>\n",
       "      <td>0.333237</td>\n",
       "    </tr>\n",
       "    <tr>\n",
       "      <th>7</th>\n",
       "      <td>Data Science</td>\n",
       "      <td>Education Details \\n B.Tech   Rayat and Bahra ...</td>\n",
       "      <td>1</td>\n",
       "      <td>education detail btech rayat bahra institute e...</td>\n",
       "      <td>0.355147</td>\n",
       "    </tr>\n",
       "    <tr>\n",
       "      <th>1</th>\n",
       "      <td>Data Science</td>\n",
       "      <td>Education Details \\nMay 2013 to May 2017 B.E  ...</td>\n",
       "      <td>0</td>\n",
       "      <td>education detail may 2013 may 2017 uit-rgpvdat...</td>\n",
       "      <td>0.364754</td>\n",
       "    </tr>\n",
       "    <tr>\n",
       "      <th>6</th>\n",
       "      <td>Data Science</td>\n",
       "      <td>Skills â¢ Python â¢ Tableau â¢ Data Visuali...</td>\n",
       "      <td>0</td>\n",
       "      <td>skill python tableau data visualization studio...</td>\n",
       "      <td>0.375603</td>\n",
       "    </tr>\n",
       "    <tr>\n",
       "      <th>9</th>\n",
       "      <td>Data Science</td>\n",
       "      <td>Expertise â Data and Quantitative Analysis â...</td>\n",
       "      <td>1</td>\n",
       "      <td>expertise data quantitative analysis decision ...</td>\n",
       "      <td>0.408950</td>\n",
       "    </tr>\n",
       "    <tr>\n",
       "      <th>0</th>\n",
       "      <td>Data Science</td>\n",
       "      <td>Skills * Programming Languages: Python (pandas...</td>\n",
       "      <td>1</td>\n",
       "      <td>skill programming language python panda numpy ...</td>\n",
       "      <td>0.413462</td>\n",
       "    </tr>\n",
       "    <tr>\n",
       "      <th>3</th>\n",
       "      <td>Data Science</td>\n",
       "      <td>Skills â¢ R â¢ Python â¢ SAP HANA â¢ Table...</td>\n",
       "      <td>0</td>\n",
       "      <td>skill python sap hana tableau sap hana sql sap...</td>\n",
       "      <td>0.426798</td>\n",
       "    </tr>\n",
       "    <tr>\n",
       "      <th>10</th>\n",
       "      <td>HR</td>\n",
       "      <td>\\n HR CONSULTANT       Summary       Subject m...</td>\n",
       "      <td>0</td>\n",
       "      <td>hr consultant summary subject matter expert hr...</td>\n",
       "      <td>0.432833</td>\n",
       "    </tr>\n",
       "    <tr>\n",
       "      <th>4</th>\n",
       "      <td>Data Science</td>\n",
       "      <td>Education Details \\n MCA   YMCAUST,  Faridabad...</td>\n",
       "      <td>0</td>\n",
       "      <td>education detail mca ymcaust faridabad haryana...</td>\n",
       "      <td>inf</td>\n",
       "    </tr>\n",
       "  </tbody>\n",
       "</table>\n",
       "</div>"
      ],
      "text/plain": [
       "        Category                                             Resume  chosen  \\\n",
       "8   Data Science  Personal Skills â¢ Ability to quickly grasp t...       1   \n",
       "5   Data Science  SKILLS C Basics, IOT, Python, MATLAB, Data Sci...       0   \n",
       "2   Data Science  Areas of Interest Deep Learning, Control Syste...       0   \n",
       "7   Data Science  Education Details \\n B.Tech   Rayat and Bahra ...       1   \n",
       "1   Data Science  Education Details \\nMay 2013 to May 2017 B.E  ...       0   \n",
       "6   Data Science  Skills â¢ Python â¢ Tableau â¢ Data Visuali...       0   \n",
       "9   Data Science  Expertise â Data and Quantitative Analysis â...       1   \n",
       "0   Data Science  Skills * Programming Languages: Python (pandas...       1   \n",
       "3   Data Science  Skills â¢ R â¢ Python â¢ SAP HANA â¢ Table...       0   \n",
       "10            HR  \\n HR CONSULTANT       Summary       Subject m...       0   \n",
       "4   Data Science  Education Details \\n MCA   YMCAUST,  Faridabad...       0   \n",
       "\n",
       "                                       cleaned_resume  knn_distance  \n",
       "8   personal skill ability quickly grasp technical...      0.299909  \n",
       "5   skill basic iot python matlab data science mac...      0.320900  \n",
       "2   area interest deep learning control system des...      0.333237  \n",
       "7   education detail btech rayat bahra institute e...      0.355147  \n",
       "1   education detail may 2013 may 2017 uit-rgpvdat...      0.364754  \n",
       "6   skill python tableau data visualization studio...      0.375603  \n",
       "9   expertise data quantitative analysis decision ...      0.408950  \n",
       "0   skill programming language python panda numpy ...      0.413462  \n",
       "3   skill python sap hana tableau sap hana sql sap...      0.426798  \n",
       "10  hr consultant summary subject matter expert hr...      0.432833  \n",
       "4   education detail mca ymcaust faridabad haryana...           inf  "
      ]
     },
     "execution_count": 64,
     "metadata": {},
     "output_type": "execute_result"
    }
   ],
   "source": [
    "sorted_resumes"
   ]
  },
  {
   "cell_type": "code",
   "execution_count": 65,
   "id": "adae7517-b183-4022-bad2-de9950a62cdb",
   "metadata": {},
   "outputs": [
    {
     "data": {
      "image/png": "[encoded data removed]",
      "text/plain": [
       "<Figure size 800x600 with 1 Axes>"
      ]
     },
     "metadata": {},
     "output_type": "display_data"
    },
    {
     "name": "stdout",
     "output_type": "stream",
     "text": [
      "AUC Score: 0.35714285714285715\n"
     ]
    }
   ],
   "source": [
    "sorted_resumes['knn_distance'] = sorted_resumes['knn_distance'].replace(np.inf, 1.0)\n",
    "roc_results = plot_roc_curve(sorted_resumes, true_label_column=\"chosen\", score_column=\"knn_distance\")\n",
    "print(\"AUC Score:\", roc_results[\"roc_auc\"])"
   ]
  },
  {
   "cell_type": "markdown",
   "id": "9adacd12-8042-420d-b1ed-7e4e0e73d679",
   "metadata": {
    "jp-MarkdownHeadingCollapsed": true
   },
   "source": [
    "# try ANN FAISS (Facebook AI Similarity Search)  the distance metric used is the L2 (Euclidean) distance. This is determined by the type of FAISS , annoy , hnswlib ,  NearestNeighbors euclidean ,  nomic-ai/nomic-embed-text-v1"
   ]
  },
  {
   "cell_type": "code",
   "execution_count": 190,
   "id": "320e93d4-4b0d-47ec-82b5-2d4cdd59f16d",
   "metadata": {},
   "outputs": [],
   "source": [
    "Data_Science_data = pd.read_csv(\"Data_Science_data.csv\")"
   ]
  },
  {
   "cell_type": "code",
   "execution_count": 191,
   "id": "eeadcd24-8f12-42a7-a465-f5042d1bfbaa",
   "metadata": {},
   "outputs": [],
   "source": [
    "# Text preprocessing function\n",
    "def preprocess_text(text):\n",
    "    # Convert to lowercase\n",
    "    text = text.lower()\n",
    "    # Remove special characters (but keep numbers) keep \n",
    "    text = re.sub(r'[^a-zA-Z0-9-@\\s]', '', text)\n",
    "    # Tokenize text\n",
    "    tokens = word_tokenize(text)\n",
    "    # Remove stopwords\n",
    "    stop_words = set(stopwords.words('english'))\n",
    "    filtered_tokens = [word for word in tokens if word not in stop_words]\n",
    "    return ' '.join(filtered_tokens)"
   ]
  },
  {
   "cell_type": "code",
   "execution_count": 192,
   "id": "902a15c3-bab7-4050-be8e-835528ded43c",
   "metadata": {},
   "outputs": [
    {
     "data": {
      "text/html": [
       "<div>\n",
       "<style scoped>\n",
       "    .dataframe tbody tr th:only-of-type {\n",
       "        vertical-align: middle;\n",
       "    }\n",
       "\n",
       "    .dataframe tbody tr th {\n",
       "        vertical-align: top;\n",
       "    }\n",
       "\n",
       "    .dataframe thead th {\n",
       "        text-align: right;\n",
       "    }\n",
       "</style>\n",
       "<table border=\"1\" class=\"dataframe\">\n",
       "  <thead>\n",
       "    <tr style=\"text-align: right;\">\n",
       "      <th></th>\n",
       "      <th>Category</th>\n",
       "      <th>Resume</th>\n",
       "      <th>chosen</th>\n",
       "      <th>cleaned_resume</th>\n",
       "    </tr>\n",
       "  </thead>\n",
       "  <tbody>\n",
       "    <tr>\n",
       "      <th>0</th>\n",
       "      <td>Data Science</td>\n",
       "      <td>Skills * Programming Languages: Python (pandas...</td>\n",
       "      <td>1</td>\n",
       "      <td>skills programming languages python pandas num...</td>\n",
       "    </tr>\n",
       "    <tr>\n",
       "      <th>1</th>\n",
       "      <td>Data Science</td>\n",
       "      <td>Education Details \\nMay 2013 to May 2017 B.E  ...</td>\n",
       "      <td>0</td>\n",
       "      <td>education details may 2013 may 2017 uit-rgpvda...</td>\n",
       "    </tr>\n",
       "    <tr>\n",
       "      <th>2</th>\n",
       "      <td>Data Science</td>\n",
       "      <td>Areas of Interest Deep Learning, Control Syste...</td>\n",
       "      <td>0</td>\n",
       "      <td>areas interest deep learning control system de...</td>\n",
       "    </tr>\n",
       "    <tr>\n",
       "      <th>3</th>\n",
       "      <td>Data Science</td>\n",
       "      <td>Skills â¢ R â¢ Python â¢ SAP HANA â¢ Table...</td>\n",
       "      <td>0</td>\n",
       "      <td>skills r python sap hana tableau sap hana sql ...</td>\n",
       "    </tr>\n",
       "    <tr>\n",
       "      <th>4</th>\n",
       "      <td>Data Science</td>\n",
       "      <td>Education Details \\n MCA   YMCAUST,  Faridabad...</td>\n",
       "      <td>0</td>\n",
       "      <td>education details mca ymcaust faridabad haryan...</td>\n",
       "    </tr>\n",
       "    <tr>\n",
       "      <th>5</th>\n",
       "      <td>Data Science</td>\n",
       "      <td>SKILLS C Basics, IOT, Python, MATLAB, Data Sci...</td>\n",
       "      <td>0</td>\n",
       "      <td>skills c basics iot python matlab data science...</td>\n",
       "    </tr>\n",
       "    <tr>\n",
       "      <th>6</th>\n",
       "      <td>Data Science</td>\n",
       "      <td>Skills â¢ Python â¢ Tableau â¢ Data Visuali...</td>\n",
       "      <td>0</td>\n",
       "      <td>skills python tableau data visualization r stu...</td>\n",
       "    </tr>\n",
       "    <tr>\n",
       "      <th>7</th>\n",
       "      <td>Data Science</td>\n",
       "      <td>Education Details \\n B.Tech   Rayat and Bahra ...</td>\n",
       "      <td>1</td>\n",
       "      <td>education details btech rayat bahra institute ...</td>\n",
       "    </tr>\n",
       "    <tr>\n",
       "      <th>8</th>\n",
       "      <td>Data Science</td>\n",
       "      <td>Personal Skills â¢ Ability to quickly grasp t...</td>\n",
       "      <td>1</td>\n",
       "      <td>personal skills ability quickly grasp technica...</td>\n",
       "    </tr>\n",
       "    <tr>\n",
       "      <th>9</th>\n",
       "      <td>Data Science</td>\n",
       "      <td>Expertise â Data and Quantitative Analysis â...</td>\n",
       "      <td>1</td>\n",
       "      <td>expertise data quantitative analysis decision ...</td>\n",
       "    </tr>\n",
       "    <tr>\n",
       "      <th>10</th>\n",
       "      <td>HR</td>\n",
       "      <td>\\n HR CONSULTANT       Summary       Subject m...</td>\n",
       "      <td>0</td>\n",
       "      <td>hr consultant summary subject matter expert hr...</td>\n",
       "    </tr>\n",
       "  </tbody>\n",
       "</table>\n",
       "</div>"
      ],
      "text/plain": [
       "        Category                                             Resume  chosen  \\\n",
       "0   Data Science  Skills * Programming Languages: Python (pandas...       1   \n",
       "1   Data Science  Education Details \\nMay 2013 to May 2017 B.E  ...       0   \n",
       "2   Data Science  Areas of Interest Deep Learning, Control Syste...       0   \n",
       "3   Data Science  Skills â¢ R â¢ Python â¢ SAP HANA â¢ Table...       0   \n",
       "4   Data Science  Education Details \\n MCA   YMCAUST,  Faridabad...       0   \n",
       "5   Data Science  SKILLS C Basics, IOT, Python, MATLAB, Data Sci...       0   \n",
       "6   Data Science  Skills â¢ Python â¢ Tableau â¢ Data Visuali...       0   \n",
       "7   Data Science  Education Details \\n B.Tech   Rayat and Bahra ...       1   \n",
       "8   Data Science  Personal Skills â¢ Ability to quickly grasp t...       1   \n",
       "9   Data Science  Expertise â Data and Quantitative Analysis â...       1   \n",
       "10            HR  \\n HR CONSULTANT       Summary       Subject m...       0   \n",
       "\n",
       "                                       cleaned_resume  \n",
       "0   skills programming languages python pandas num...  \n",
       "1   education details may 2013 may 2017 uit-rgpvda...  \n",
       "2   areas interest deep learning control system de...  \n",
       "3   skills r python sap hana tableau sap hana sql ...  \n",
       "4   education details mca ymcaust faridabad haryan...  \n",
       "5   skills c basics iot python matlab data science...  \n",
       "6   skills python tableau data visualization r stu...  \n",
       "7   education details btech rayat bahra institute ...  \n",
       "8   personal skills ability quickly grasp technica...  \n",
       "9   expertise data quantitative analysis decision ...  \n",
       "10  hr consultant summary subject matter expert hr...  "
      ]
     },
     "execution_count": 192,
     "metadata": {},
     "output_type": "execute_result"
    }
   ],
   "source": [
    "Data_Science_data['cleaned_resume'] = Data_Science_data['Resume'].apply(preprocess_text)\n",
    "Data_Science_data"
   ]
  },
  {
   "cell_type": "code",
   "execution_count": 193,
   "id": "32280b51-7a28-4b45-ad96-d4e272cb1ffe",
   "metadata": {},
   "outputs": [
    {
     "name": "stderr",
     "output_type": "stream",
     "text": [
      "/Users/ramaalmrahleh/.cache/huggingface/modules/transformers_modules/nomic-ai/nomic-bert-2048/40b98394640e630d5276807046089b233113aa87/modeling_hf_nomic_bert.py:108: FutureWarning: You are using `torch.load` with `weights_only=False` (the current default value), which uses the default pickle module implicitly. It is possible to construct malicious pickle data which will execute arbitrary code during unpickling (See https://github.com/pytorch/pytorch/blob/main/SECURITY.md#untrusted-models for more details). In a future release, the default value for `weights_only` will be flipped to `True`. This limits the functions that could be executed during unpickling. Arbitrary objects will no longer be allowed to be loaded via this mode unless they are explicitly allowlisted by the user via `torch.serialization.add_safe_globals`. We recommend you start setting `weights_only=True` for any use case where you don't have full control of the loaded file. Please open an issue on GitHub for any issues related to this experimental feature.\n",
      "  state_dict = loader(resolved_archive_file)\n",
      "<All keys matched successfully>\n"
     ]
    },
    {
     "data": {
      "application/vnd.jupyter.widget-view+json": {
       "model_id": "5131db467e674872a768159e2fa77600",
       "version_major": 2,
       "version_minor": 0
      },
      "text/plain": [
       "Batches:   0%|          | 0/1 [00:00<?, ?it/s]"
      ]
     },
     "metadata": {},
     "output_type": "display_data"
    }
   ],
   "source": [
    "model = SentenceTransformer(\"nomic-ai/nomic-embed-text-v1\", trust_remote_code=True)\n",
    "resume_embeddings = model.encode(Data_Science_data['cleaned_resume'].tolist(), show_progress_bar=True)\n",
    "\n",
    "# Convert embeddings to a NumPy array (for efficient computation)\n",
    "resume_embeddings = np.array(resume_embeddings)\n",
    "# Preprocess the job description\n",
    "cleaned_job_desc = preprocess_text(job_description)\n",
    "\n",
    "# Generate BERT embedding for the job description\n",
    "job_desc_embedding = model.encode([cleaned_job_desc])"
   ]
  },
  {
   "cell_type": "code",
   "execution_count": 194,
   "id": "30f5ce1a-bdbe-4ae2-a35c-bdef8b6df16f",
   "metadata": {},
   "outputs": [],
   "source": [
    "import faiss\n",
    "# Dimension of embeddings\n",
    "embedding_dim = resume_embeddings.shape[1]\n",
    "\n",
    "# Create a FAISS index (FlatL2 index for simplicity)\n",
    "index = faiss.IndexFlatL2(embedding_dim)\n",
    "\n",
    "# Add resume embeddings to the index\n",
    "index.add(resume_embeddings)\n"
   ]
  },
  {
   "cell_type": "code",
   "execution_count": 195,
   "id": "c7fc1e8d-194e-406c-8af0-57529a3d2a07",
   "metadata": {},
   "outputs": [
    {
     "data": {
      "text/plain": [
       "(array([[0.5666219 , 0.6523157 , 0.65360487, 0.68387604, 0.71045095,\n",
       "         0.7126242 , 0.7632064 , 0.7777109 , 0.78545153, 0.8281841 ,\n",
       "         0.866198  ]], dtype=float32),\n",
       " array([[ 8,  2,  5,  7,  1,  6,  0,  3,  9,  4, 10]]))"
      ]
     },
     "execution_count": 195,
     "metadata": {},
     "output_type": "execute_result"
    }
   ],
   "source": [
    "# Query the index with job description embedding\n",
    "top_k = 11  # Number of resumes to retrieve\n",
    "distances, indices = index.search(job_desc_embedding, top_k)\n",
    "\n",
    "# `distances` gives the distances (lower is better)\n",
    "distances, indices"
   ]
  },
  {
   "cell_type": "code",
   "execution_count": null,
   "id": "dff9501e-6d2a-42df-8f9b-fb2f09435a66",
   "metadata": {},
   "outputs": [],
   "source": [
    "# annoy"
   ]
  },
  {
   "cell_type": "code",
   "execution_count": 45,
   "id": "e01e7647-7ebc-4673-8ed6-ba0b616fe7c5",
   "metadata": {},
   "outputs": [
    {
     "name": "stderr",
     "output_type": "stream",
     "text": [
      "huggingface/tokenizers: The current process just got forked, after parallelism has already been used. Disabling parallelism to avoid deadlocks...\n",
      "To disable this warning, you can either:\n",
      "\t- Avoid using `tokenizers` before the fork if possible\n",
      "\t- Explicitly set the environment variable TOKENIZERS_PARALLELISM=(true | false)\n"
     ]
    },
    {
     "name": "stdout",
     "output_type": "stream",
     "text": [
      "Defaulting to user installation because normal site-packages is not writeable\n",
      "Collecting annoy\n",
      "  Downloading annoy-1.17.3.tar.gz (647 kB)\n",
      "\u001b[K     |████████████████████████████████| 647 kB 1.0 MB/s eta 0:00:01\n",
      "\u001b[?25hBuilding wheels for collected packages: annoy\n",
      "  Building wheel for annoy (setup.py) ... \u001b[?25ldone\n",
      "\u001b[?25h  Created wheel for annoy: filename=annoy-1.17.3-cp39-cp39-macosx_10_12_universal2.whl size=116254 sha256=ee92183bbbaa99ebc066d6ecabde9105494a2c4801b619b3ce15d97ad5e55a78\n",
      "  Stored in directory: /Users/ramaalmrahleh/Library/Caches/pip/wheels/09/a9/54/37478e65995fe712f7da465749da9ddb21db6b1a599d591ac7\n",
      "Successfully built annoy\n",
      "Installing collected packages: annoy\n",
      "Successfully installed annoy-1.17.3\n",
      "\u001b[33mWARNING: You are using pip version 21.2.4; however, version 24.3.1 is available.\n",
      "You should consider upgrading via the '/Library/Developer/CommandLineTools/usr/bin/python3 -m pip install --upgrade pip' command.\u001b[0m\n",
      "Note: you may need to restart the kernel to use updated packages.\n"
     ]
    }
   ],
   "source": [
    "pip install annoy\n"
   ]
  },
  {
   "cell_type": "code",
   "execution_count": 56,
   "id": "8b6b6914-2d33-43b9-a548-d6131866fd49",
   "metadata": {},
   "outputs": [
    {
     "name": "stdout",
     "output_type": "stream",
     "text": [
      "([8, 2, 5, 7, 1, 6, 0, 3, 9, 4], [0.7527428865432739, 0.8076606392860413, 0.8084584474563599, 0.8269678950309753, 0.842882513999939, 0.8441705107688904, 0.8736169934272766, 0.8818795084953308, 0.8862570524215698, 0.910046398639679])\n"
     ]
    }
   ],
   "source": [
    "from annoy import AnnoyIndex\n",
    "\n",
    "# Initialize Annoy index\n",
    "embedding_dim = resume_embeddings.shape[1]\n",
    "annoy_index = AnnoyIndex(embedding_dim, metric='euclidean')\n",
    "\n",
    "# Add embeddings to the index\n",
    "for i, embedding in enumerate(resume_embeddings):\n",
    "    annoy_index.add_item(i, embedding)\n",
    "\n",
    "# Build the index\n",
    "annoy_index.build(n_trees=10)\n",
    "\n",
    "# Query the index\n",
    "nearest_neighbors = annoy_index.get_nns_by_vector(job_desc_embedding[0], top_k, include_distances=True)\n",
    "print(nearest_neighbors)\n"
   ]
  },
  {
   "cell_type": "code",
   "execution_count": null,
   "id": "a65127f0-1b19-40c1-962b-ebfbf70eea17",
   "metadata": {},
   "outputs": [],
   "source": []
  },
  {
   "cell_type": "code",
   "execution_count": 57,
   "id": "47713b32-c695-49e4-be03-a0371c78c683",
   "metadata": {},
   "outputs": [
    {
     "name": "stdout",
     "output_type": "stream",
     "text": [
      "Defaulting to user installation because normal site-packages is not writeable\n",
      "Collecting hnswlib\n",
      "  Downloading hnswlib-0.8.0.tar.gz (36 kB)\n",
      "  Installing build dependencies ... \u001b[?25ldone\n",
      "\u001b[?25h  Getting requirements to build wheel ... \u001b[?25ldone\n",
      "\u001b[?25h  Preparing metadata (pyproject.toml) ... \u001b[?25ldone\n",
      "\u001b[?25hRequirement already satisfied: numpy in /Users/ramaalmrahleh/Library/Python/3.9/lib/python/site-packages (from hnswlib) (1.26.4)\n",
      "Building wheels for collected packages: hnswlib\n",
      "  Building wheel for hnswlib (pyproject.toml) ... \u001b[?25ldone\n",
      "\u001b[?25h  Created wheel for hnswlib: filename=hnswlib-0.8.0-cp39-cp39-macosx_10_9_universal2.whl size=365382 sha256=62f18eda23aefa127206a8a4b936d7ad47ebe7bb60635dc7fab9b4d6598bf771\n",
      "  Stored in directory: /Users/ramaalmrahleh/Library/Caches/pip/wheels/81/b3/1d/920a1ed1f9ede20be60d1108445e5789eef54c5144c9d746f6\n",
      "Successfully built hnswlib\n",
      "Installing collected packages: hnswlib\n",
      "Successfully installed hnswlib-0.8.0\n",
      "Note: you may need to restart the kernel to use updated packages.\n"
     ]
    }
   ],
   "source": [
    "pip install hnswlib\n"
   ]
  },
  {
   "cell_type": "code",
   "execution_count": 59,
   "id": "ca88fe26-f791-4151-b521-c23e8061e8f8",
   "metadata": {},
   "outputs": [
    {
     "name": "stdout",
     "output_type": "stream",
     "text": [
      "Indices of nearest neighbors: [[8 2 5 7 1 6 0 3 9 4]]\n",
      "Distances of nearest neighbors: [[0.56662184 0.6523157  0.65360504 0.68387586 0.71045095 0.7126239\n",
      "  0.7632066  0.7777115  0.7854516  0.8281845 ]]\n"
     ]
    }
   ],
   "source": [
    "import hnswlib\n",
    "import numpy as np\n",
    "\n",
    "# Initialize the HNSW index\n",
    "embedding_dim = resume_embeddings.shape[1]\n",
    "num_elements = len(resume_embeddings)\n",
    "\n",
    "# Create the index\n",
    "index = hnswlib.Index(space='l2', dim=embedding_dim)  # 'l2' for Euclidean distance\n",
    "index.init_index(max_elements=num_elements, ef_construction=200, M=16)\n",
    "\n",
    "# Add embeddings\n",
    "index.add_items(resume_embeddings)\n",
    "\n",
    "# Query the index with the job description embedding\n",
    "top_k = 10\n",
    "labels, distances = index.knn_query(job_desc_embedding, k=top_k)\n",
    "\n",
    "print(\"Indices of nearest neighbors:\", labels)\n",
    "print(\"Distances of nearest neighbors:\", distances)\n"
   ]
  },
  {
   "cell_type": "code",
   "execution_count": null,
   "id": "a10ae84b-d937-494c-aef6-6eab20da42c3",
   "metadata": {},
   "outputs": [],
   "source": [
    "# NearestNeighbors euclidean"
   ]
  },
  {
   "cell_type": "code",
   "execution_count": 62,
   "id": "6e14df52-1161-488d-afc2-2583dd4283a7",
   "metadata": {},
   "outputs": [
    {
     "name": "stdout",
     "output_type": "stream",
     "text": [
      "Indices: [[8 2 5 7 1 6 0 3 9 4]]\n",
      "Distances: [[0.75274288 0.80766058 0.80845829 0.82696798 0.84288249 0.84417071\n",
      "  0.87361686 0.88187916 0.88625703 0.91004622]]\n"
     ]
    }
   ],
   "source": [
    "from sklearn.neighbors import NearestNeighbors\n",
    "\n",
    "# Initialize NearestNeighbors\n",
    "nn = NearestNeighbors(n_neighbors=10, metric='euclidean')  \n",
    "\n",
    "# Fit the model\n",
    "nn.fit(resume_embeddings)\n",
    "\n",
    "# Query with the job description embedding\n",
    "distances, indices = nn.kneighbors(job_desc_embedding)\n",
    "print(\"Indices:\", indices)\n",
    "print(\"Distances:\", distances)\n"
   ]
  },
  {
   "cell_type": "code",
   "execution_count": null,
   "id": "174bf9bb-5544-44ff-8497-3e84bfd403b5",
   "metadata": {},
   "outputs": [],
   "source": []
  },
  {
   "cell_type": "code",
   "execution_count": 63,
   "id": "2c97585d-5544-4808-bc97-e2cf0ace44ac",
   "metadata": {},
   "outputs": [
    {
     "name": "stdout",
     "output_type": "stream",
     "text": [
      "Indices: [[8 2 5 7 1 6 0 3 9 4]]\n",
      "Distances: [[0.2833109  0.3261578  0.32680243 0.34193802 0.35522538 0.35631204\n",
      "  0.38160324 0.38885546 0.3927257  0.41409206]]\n"
     ]
    }
   ],
   "source": [
    "from sklearn.neighbors import NearestNeighbors\n",
    "\n",
    "# Initialize NearestNeighbors\n",
    "nn = NearestNeighbors(n_neighbors=10, metric='cosine') \n",
    "\n",
    "# Fit the model\n",
    "nn.fit(resume_embeddings)\n",
    "\n",
    "# Query with the job description embedding\n",
    "distances, indices = nn.kneighbors(job_desc_embedding)\n",
    "print(\"Indices:\", indices)\n",
    "print(\"Distances:\", distances)\n"
   ]
  },
  {
   "cell_type": "markdown",
   "id": "ae6ffd47-2421-4d36-b445-67c1ada7db07",
   "metadata": {
    "jp-MarkdownHeadingCollapsed": true
   },
   "source": [
    "# all-MiniLM-L6-v2 with annoy , faiss , nn cosine "
   ]
  },
  {
   "cell_type": "code",
   "execution_count": 73,
   "id": "f5707edd-796c-4b50-9f3c-a7af389a3226",
   "metadata": {},
   "outputs": [],
   "source": [
    "Data_Science_data = pd.read_csv(\"Data_Science_data.csv\")"
   ]
  },
  {
   "cell_type": "code",
   "execution_count": 74,
   "id": "252cfc9c-0a3e-4eeb-b0c5-059bd3e17463",
   "metadata": {},
   "outputs": [],
   "source": [
    "# Text preprocessing function\n",
    "def preprocess_text(text):\n",
    "    # Convert to lowercase\n",
    "    text = text.lower()\n",
    "    # Remove special characters (but keep numbers) keep \n",
    "    text = re.sub(r'[^a-zA-Z0-9-@\\s]', '', text)\n",
    "    # Tokenize text\n",
    "    tokens = word_tokenize(text)\n",
    "    # Remove stopwords\n",
    "    stop_words = set(stopwords.words('english'))\n",
    "    filtered_tokens = [word for word in tokens if word not in stop_words]\n",
    "    return ' '.join(filtered_tokens)"
   ]
  },
  {
   "cell_type": "code",
   "execution_count": 75,
   "id": "18796f5c-77e9-46c2-a729-c37bc1d046e8",
   "metadata": {},
   "outputs": [
    {
     "data": {
      "text/html": [
       "<div>\n",
       "<style scoped>\n",
       "    .dataframe tbody tr th:only-of-type {\n",
       "        vertical-align: middle;\n",
       "    }\n",
       "\n",
       "    .dataframe tbody tr th {\n",
       "        vertical-align: top;\n",
       "    }\n",
       "\n",
       "    .dataframe thead th {\n",
       "        text-align: right;\n",
       "    }\n",
       "</style>\n",
       "<table border=\"1\" class=\"dataframe\">\n",
       "  <thead>\n",
       "    <tr style=\"text-align: right;\">\n",
       "      <th></th>\n",
       "      <th>Category</th>\n",
       "      <th>Resume</th>\n",
       "      <th>chosen</th>\n",
       "      <th>cleaned_resume</th>\n",
       "    </tr>\n",
       "  </thead>\n",
       "  <tbody>\n",
       "    <tr>\n",
       "      <th>0</th>\n",
       "      <td>Data Science</td>\n",
       "      <td>Skills * Programming Languages: Python (pandas...</td>\n",
       "      <td>1</td>\n",
       "      <td>skills programming languages python pandas num...</td>\n",
       "    </tr>\n",
       "    <tr>\n",
       "      <th>1</th>\n",
       "      <td>Data Science</td>\n",
       "      <td>Education Details \\nMay 2013 to May 2017 B.E  ...</td>\n",
       "      <td>0</td>\n",
       "      <td>education details may 2013 may 2017 uit-rgpvda...</td>\n",
       "    </tr>\n",
       "    <tr>\n",
       "      <th>2</th>\n",
       "      <td>Data Science</td>\n",
       "      <td>Areas of Interest Deep Learning, Control Syste...</td>\n",
       "      <td>0</td>\n",
       "      <td>areas interest deep learning control system de...</td>\n",
       "    </tr>\n",
       "    <tr>\n",
       "      <th>3</th>\n",
       "      <td>Data Science</td>\n",
       "      <td>Skills â¢ R â¢ Python â¢ SAP HANA â¢ Table...</td>\n",
       "      <td>0</td>\n",
       "      <td>skills r python sap hana tableau sap hana sql ...</td>\n",
       "    </tr>\n",
       "    <tr>\n",
       "      <th>4</th>\n",
       "      <td>Data Science</td>\n",
       "      <td>Education Details \\n MCA   YMCAUST,  Faridabad...</td>\n",
       "      <td>0</td>\n",
       "      <td>education details mca ymcaust faridabad haryan...</td>\n",
       "    </tr>\n",
       "    <tr>\n",
       "      <th>5</th>\n",
       "      <td>Data Science</td>\n",
       "      <td>SKILLS C Basics, IOT, Python, MATLAB, Data Sci...</td>\n",
       "      <td>0</td>\n",
       "      <td>skills c basics iot python matlab data science...</td>\n",
       "    </tr>\n",
       "    <tr>\n",
       "      <th>6</th>\n",
       "      <td>Data Science</td>\n",
       "      <td>Skills â¢ Python â¢ Tableau â¢ Data Visuali...</td>\n",
       "      <td>0</td>\n",
       "      <td>skills python tableau data visualization r stu...</td>\n",
       "    </tr>\n",
       "    <tr>\n",
       "      <th>7</th>\n",
       "      <td>Data Science</td>\n",
       "      <td>Education Details \\n B.Tech   Rayat and Bahra ...</td>\n",
       "      <td>1</td>\n",
       "      <td>education details btech rayat bahra institute ...</td>\n",
       "    </tr>\n",
       "    <tr>\n",
       "      <th>8</th>\n",
       "      <td>Data Science</td>\n",
       "      <td>Personal Skills â¢ Ability to quickly grasp t...</td>\n",
       "      <td>1</td>\n",
       "      <td>personal skills ability quickly grasp technica...</td>\n",
       "    </tr>\n",
       "    <tr>\n",
       "      <th>9</th>\n",
       "      <td>Data Science</td>\n",
       "      <td>Expertise â Data and Quantitative Analysis â...</td>\n",
       "      <td>1</td>\n",
       "      <td>expertise data quantitative analysis decision ...</td>\n",
       "    </tr>\n",
       "    <tr>\n",
       "      <th>10</th>\n",
       "      <td>HR</td>\n",
       "      <td>\\n HR CONSULTANT       Summary       Subject m...</td>\n",
       "      <td>0</td>\n",
       "      <td>hr consultant summary subject matter expert hr...</td>\n",
       "    </tr>\n",
       "  </tbody>\n",
       "</table>\n",
       "</div>"
      ],
      "text/plain": [
       "        Category                                             Resume  chosen  \\\n",
       "0   Data Science  Skills * Programming Languages: Python (pandas...       1   \n",
       "1   Data Science  Education Details \\nMay 2013 to May 2017 B.E  ...       0   \n",
       "2   Data Science  Areas of Interest Deep Learning, Control Syste...       0   \n",
       "3   Data Science  Skills â¢ R â¢ Python â¢ SAP HANA â¢ Table...       0   \n",
       "4   Data Science  Education Details \\n MCA   YMCAUST,  Faridabad...       0   \n",
       "5   Data Science  SKILLS C Basics, IOT, Python, MATLAB, Data Sci...       0   \n",
       "6   Data Science  Skills â¢ Python â¢ Tableau â¢ Data Visuali...       0   \n",
       "7   Data Science  Education Details \\n B.Tech   Rayat and Bahra ...       1   \n",
       "8   Data Science  Personal Skills â¢ Ability to quickly grasp t...       1   \n",
       "9   Data Science  Expertise â Data and Quantitative Analysis â...       1   \n",
       "10            HR  \\n HR CONSULTANT       Summary       Subject m...       0   \n",
       "\n",
       "                                       cleaned_resume  \n",
       "0   skills programming languages python pandas num...  \n",
       "1   education details may 2013 may 2017 uit-rgpvda...  \n",
       "2   areas interest deep learning control system de...  \n",
       "3   skills r python sap hana tableau sap hana sql ...  \n",
       "4   education details mca ymcaust faridabad haryan...  \n",
       "5   skills c basics iot python matlab data science...  \n",
       "6   skills python tableau data visualization r stu...  \n",
       "7   education details btech rayat bahra institute ...  \n",
       "8   personal skills ability quickly grasp technica...  \n",
       "9   expertise data quantitative analysis decision ...  \n",
       "10  hr consultant summary subject matter expert hr...  "
      ]
     },
     "execution_count": 75,
     "metadata": {},
     "output_type": "execute_result"
    }
   ],
   "source": [
    "Data_Science_data['cleaned_resume'] = Data_Science_data['Resume'].apply(preprocess_text)\n",
    "Data_Science_data"
   ]
  },
  {
   "cell_type": "code",
   "execution_count": 66,
   "id": "c3d412c5-9f1e-4341-8fd5-ffd0d234088a",
   "metadata": {},
   "outputs": [
    {
     "data": {
      "text/plain": [
       "518.2727272727273"
      ]
     },
     "execution_count": 66,
     "metadata": {},
     "output_type": "execute_result"
    }
   ],
   "source": [
    "# Calculate the average number of words per resume\n",
    "average_words = Data_Science_data['Resume'].apply(lambda x: len(x.split())).mean()\n",
    "average_words"
   ]
  },
  {
   "cell_type": "code",
   "execution_count": 67,
   "id": "f63e52e1-e6b5-4169-be6d-204d0d43eded",
   "metadata": {},
   "outputs": [
    {
     "data": {
      "text/plain": [
       "389.09090909090907"
      ]
     },
     "execution_count": 67,
     "metadata": {},
     "output_type": "execute_result"
    }
   ],
   "source": [
    "# Calculate the average number of words per resume\n",
    "average_words = Data_Science_data['cleaned_resume'].apply(lambda x: len(x.split())).mean()\n",
    "average_words"
   ]
  },
  {
   "cell_type": "code",
   "execution_count": 76,
   "id": "c10e1d4a-df2e-4bcb-ba18-887ca10ca986",
   "metadata": {},
   "outputs": [
    {
     "data": {
      "application/vnd.jupyter.widget-view+json": {
       "model_id": "2da051d0e66d4eada89dbb02099a1fb6",
       "version_major": 2,
       "version_minor": 0
      },
      "text/plain": [
       "Batches:   0%|          | 0/1 [00:00<?, ?it/s]"
      ]
     },
     "metadata": {},
     "output_type": "display_data"
    }
   ],
   "source": [
    "# Load the pre-trained BERT model\n",
    "model = SentenceTransformer('all-MiniLM-L6-v2')\n",
    "# Generate BERT embeddings for resumes\n",
    "resume_embeddings = model.encode(Data_Science_data['cleaned_resume'].tolist(), show_progress_bar=True)\n",
    "\n",
    "# Convert embeddings to a NumPy array (for efficient computation)\n",
    "resume_embeddings = np.array(resume_embeddings)\n",
    "# Preprocess the job description\n",
    "cleaned_job_desc = preprocess_text(job_description)\n",
    "\n",
    "# Generate BERT embedding for the job description\n",
    "job_desc_embedding = model.encode([cleaned_job_desc])"
   ]
  },
  {
   "cell_type": "code",
   "execution_count": 77,
   "id": "6322c2ef-1046-4491-9eca-31b13631aa91",
   "metadata": {},
   "outputs": [],
   "source": [
    "\n",
    "# Dimension of embeddings\n",
    "embedding_dim = resume_embeddings.shape[1]\n",
    "\n",
    "# Create a FAISS index (FlatL2 index for simplicity)\n",
    "index = faiss.IndexFlatL2(embedding_dim)\n",
    "\n",
    "# Add resume embeddings to the index\n",
    "index.add(resume_embeddings)\n"
   ]
  },
  {
   "cell_type": "code",
   "execution_count": 78,
   "id": "bedd416d-754e-4390-b5ad-2c5f320657ec",
   "metadata": {},
   "outputs": [
    {
     "data": {
      "text/plain": [
       "(array([[1.2246914, 1.2745034, 1.2897259, 1.3166844, 1.3555219, 1.3567922,\n",
       "         1.3998139, 1.4032832, 1.4199699, 1.4254329]], dtype=float32),\n",
       " array([[ 3, 10,  4,  9,  6,  0,  7,  8,  5,  1]]))"
      ]
     },
     "execution_count": 78,
     "metadata": {},
     "output_type": "execute_result"
    }
   ],
   "source": [
    "# Query the index with job description embedding\n",
    "top_k = 10  # Number of resumes to retrieve\n",
    "distances, indices = index.search(job_desc_embedding, top_k)\n",
    "\n",
    "# `distances` gives the distances (lower is better)\n",
    "distances, indices"
   ]
  },
  {
   "cell_type": "code",
   "execution_count": 79,
   "id": "e969412e-c33d-4cab-8512-6b83344047bb",
   "metadata": {},
   "outputs": [
    {
     "name": "stdout",
     "output_type": "stream",
     "text": [
      "Indices of nearest neighbors: [[ 3 10  4  9  6  0  7  8  5  1]]\n",
      "Distances of nearest neighbors: [[1.2246915 1.2745034 1.289726  1.316684  1.3555224 1.3567926 1.3998141\n",
      "  1.4032828 1.4199694 1.4254322]]\n"
     ]
    }
   ],
   "source": [
    "\n",
    "# Initialize the HNSW index\n",
    "embedding_dim = resume_embeddings.shape[1]\n",
    "num_elements = len(resume_embeddings)\n",
    "\n",
    "# Create the index\n",
    "index = hnswlib.Index(space='l2', dim=embedding_dim)  # 'l2' for Euclidean distance\n",
    "index.init_index(max_elements=num_elements, ef_construction=200, M=16)\n",
    "\n",
    "# Add embeddings\n",
    "index.add_items(resume_embeddings)\n",
    "\n",
    "# Query the index with the job description embedding\n",
    "top_k = 10\n",
    "labels, distances = index.knn_query(job_desc_embedding, k=top_k)\n",
    "\n",
    "print(\"Indices of nearest neighbors:\", labels)\n",
    "print(\"Distances of nearest neighbors:\", distances)\n"
   ]
  },
  {
   "cell_type": "code",
   "execution_count": 80,
   "id": "edd772c0-f337-43c8-a696-3604419e3379",
   "metadata": {},
   "outputs": [
    {
     "name": "stdout",
     "output_type": "stream",
     "text": [
      "Indices: [[ 3 10  4  9  6  0  7  8  5  1]]\n",
      "Distances: [[0.6123457  0.6372517  0.64486295 0.6583421  0.67776096 0.6783961\n",
      "  0.69990695 0.70164156 0.70998496 0.71271634]]\n"
     ]
    }
   ],
   "source": [
    "# Initialize NearestNeighbors\n",
    "nn = NearestNeighbors(n_neighbors=10, metric='cosine') \n",
    "\n",
    "# Fit the model\n",
    "nn.fit(resume_embeddings)\n",
    "\n",
    "# Query with the job description embedding\n",
    "distances, indices = nn.kneighbors(job_desc_embedding)\n",
    "print(\"Indices:\", indices)\n",
    "print(\"Distances:\", distances)\n"
   ]
  },
  {
   "cell_type": "code",
   "execution_count": null,
   "id": "fc67c2ba-d5a8-4e85-b445-9bd4c05ae00d",
   "metadata": {},
   "outputs": [],
   "source": []
  },
  {
   "cell_type": "markdown",
   "id": "a013a478-86ae-4df8-98f6-ec8c6cd1880a",
   "metadata": {
    "jp-MarkdownHeadingCollapsed": true
   },
   "source": [
    "# anther emb Qwen/QwQ-32B-Preview"
   ]
  },
  {
   "cell_type": "code",
   "execution_count": 86,
   "id": "c3af9e65-c4af-4e56-9f66-d2fe678ec777",
   "metadata": {},
   "outputs": [],
   "source": [
    "Data_Science_data = pd.read_csv(\"Data_Science_data.csv\")"
   ]
  },
  {
   "cell_type": "code",
   "execution_count": 87,
   "id": "7903c4aa-d8a3-4197-afed-b799dc24e940",
   "metadata": {},
   "outputs": [],
   "source": [
    "# Text preprocessing function\n",
    "def preprocess_text(text):\n",
    "    # Convert to lowercase\n",
    "    text = text.lower()\n",
    "    # Remove special characters (but keep numbers) keep \n",
    "    text = re.sub(r'[^a-zA-Z0-9-@\\s]', '', text)\n",
    "    # Tokenize text\n",
    "    tokens = word_tokenize(text)\n",
    "    # Remove stopwords\n",
    "    stop_words = set(stopwords.words('english'))\n",
    "    filtered_tokens = [word for word in tokens if word not in stop_words]\n",
    "    return ' '.join(filtered_tokens)"
   ]
  },
  {
   "cell_type": "code",
   "execution_count": 88,
   "id": "d1be64a7-af08-48df-a7fc-d3461d3a48cc",
   "metadata": {},
   "outputs": [
    {
     "data": {
      "text/html": [
       "<div>\n",
       "<style scoped>\n",
       "    .dataframe tbody tr th:only-of-type {\n",
       "        vertical-align: middle;\n",
       "    }\n",
       "\n",
       "    .dataframe tbody tr th {\n",
       "        vertical-align: top;\n",
       "    }\n",
       "\n",
       "    .dataframe thead th {\n",
       "        text-align: right;\n",
       "    }\n",
       "</style>\n",
       "<table border=\"1\" class=\"dataframe\">\n",
       "  <thead>\n",
       "    <tr style=\"text-align: right;\">\n",
       "      <th></th>\n",
       "      <th>Category</th>\n",
       "      <th>Resume</th>\n",
       "      <th>chosen</th>\n",
       "      <th>cleaned_resume</th>\n",
       "    </tr>\n",
       "  </thead>\n",
       "  <tbody>\n",
       "    <tr>\n",
       "      <th>0</th>\n",
       "      <td>Data Science</td>\n",
       "      <td>Skills * Programming Languages: Python (pandas...</td>\n",
       "      <td>1</td>\n",
       "      <td>skills programming languages python pandas num...</td>\n",
       "    </tr>\n",
       "    <tr>\n",
       "      <th>1</th>\n",
       "      <td>Data Science</td>\n",
       "      <td>Education Details \\nMay 2013 to May 2017 B.E  ...</td>\n",
       "      <td>0</td>\n",
       "      <td>education details may 2013 may 2017 uit-rgpvda...</td>\n",
       "    </tr>\n",
       "    <tr>\n",
       "      <th>2</th>\n",
       "      <td>Data Science</td>\n",
       "      <td>Areas of Interest Deep Learning, Control Syste...</td>\n",
       "      <td>0</td>\n",
       "      <td>areas interest deep learning control system de...</td>\n",
       "    </tr>\n",
       "    <tr>\n",
       "      <th>3</th>\n",
       "      <td>Data Science</td>\n",
       "      <td>Skills â¢ R â¢ Python â¢ SAP HANA â¢ Table...</td>\n",
       "      <td>0</td>\n",
       "      <td>skills r python sap hana tableau sap hana sql ...</td>\n",
       "    </tr>\n",
       "    <tr>\n",
       "      <th>4</th>\n",
       "      <td>Data Science</td>\n",
       "      <td>Education Details \\n MCA   YMCAUST,  Faridabad...</td>\n",
       "      <td>0</td>\n",
       "      <td>education details mca ymcaust faridabad haryan...</td>\n",
       "    </tr>\n",
       "    <tr>\n",
       "      <th>5</th>\n",
       "      <td>Data Science</td>\n",
       "      <td>SKILLS C Basics, IOT, Python, MATLAB, Data Sci...</td>\n",
       "      <td>0</td>\n",
       "      <td>skills c basics iot python matlab data science...</td>\n",
       "    </tr>\n",
       "    <tr>\n",
       "      <th>6</th>\n",
       "      <td>Data Science</td>\n",
       "      <td>Skills â¢ Python â¢ Tableau â¢ Data Visuali...</td>\n",
       "      <td>0</td>\n",
       "      <td>skills python tableau data visualization r stu...</td>\n",
       "    </tr>\n",
       "    <tr>\n",
       "      <th>7</th>\n",
       "      <td>Data Science</td>\n",
       "      <td>Education Details \\n B.Tech   Rayat and Bahra ...</td>\n",
       "      <td>1</td>\n",
       "      <td>education details btech rayat bahra institute ...</td>\n",
       "    </tr>\n",
       "    <tr>\n",
       "      <th>8</th>\n",
       "      <td>Data Science</td>\n",
       "      <td>Personal Skills â¢ Ability to quickly grasp t...</td>\n",
       "      <td>1</td>\n",
       "      <td>personal skills ability quickly grasp technica...</td>\n",
       "    </tr>\n",
       "    <tr>\n",
       "      <th>9</th>\n",
       "      <td>Data Science</td>\n",
       "      <td>Expertise â Data and Quantitative Analysis â...</td>\n",
       "      <td>1</td>\n",
       "      <td>expertise data quantitative analysis decision ...</td>\n",
       "    </tr>\n",
       "    <tr>\n",
       "      <th>10</th>\n",
       "      <td>HR</td>\n",
       "      <td>\\n HR CONSULTANT       Summary       Subject m...</td>\n",
       "      <td>0</td>\n",
       "      <td>hr consultant summary subject matter expert hr...</td>\n",
       "    </tr>\n",
       "  </tbody>\n",
       "</table>\n",
       "</div>"
      ],
      "text/plain": [
       "        Category                                             Resume  chosen  \\\n",
       "0   Data Science  Skills * Programming Languages: Python (pandas...       1   \n",
       "1   Data Science  Education Details \\nMay 2013 to May 2017 B.E  ...       0   \n",
       "2   Data Science  Areas of Interest Deep Learning, Control Syste...       0   \n",
       "3   Data Science  Skills â¢ R â¢ Python â¢ SAP HANA â¢ Table...       0   \n",
       "4   Data Science  Education Details \\n MCA   YMCAUST,  Faridabad...       0   \n",
       "5   Data Science  SKILLS C Basics, IOT, Python, MATLAB, Data Sci...       0   \n",
       "6   Data Science  Skills â¢ Python â¢ Tableau â¢ Data Visuali...       0   \n",
       "7   Data Science  Education Details \\n B.Tech   Rayat and Bahra ...       1   \n",
       "8   Data Science  Personal Skills â¢ Ability to quickly grasp t...       1   \n",
       "9   Data Science  Expertise â Data and Quantitative Analysis â...       1   \n",
       "10            HR  \\n HR CONSULTANT       Summary       Subject m...       0   \n",
       "\n",
       "                                       cleaned_resume  \n",
       "0   skills programming languages python pandas num...  \n",
       "1   education details may 2013 may 2017 uit-rgpvda...  \n",
       "2   areas interest deep learning control system de...  \n",
       "3   skills r python sap hana tableau sap hana sql ...  \n",
       "4   education details mca ymcaust faridabad haryan...  \n",
       "5   skills c basics iot python matlab data science...  \n",
       "6   skills python tableau data visualization r stu...  \n",
       "7   education details btech rayat bahra institute ...  \n",
       "8   personal skills ability quickly grasp technica...  \n",
       "9   expertise data quantitative analysis decision ...  \n",
       "10  hr consultant summary subject matter expert hr...  "
      ]
     },
     "execution_count": 88,
     "metadata": {},
     "output_type": "execute_result"
    }
   ],
   "source": [
    "Data_Science_data['cleaned_resume'] = Data_Science_data['Resume'].apply(preprocess_text)\n",
    "Data_Science_data"
   ]
  },
  {
   "cell_type": "code",
   "execution_count": null,
   "id": "5742a92c-4030-45e3-bb31-400563939f19",
   "metadata": {},
   "outputs": [
    {
     "data": {
      "application/vnd.jupyter.widget-view+json": {
       "model_id": "93d7fcf0573d4aa796bcbeed1a99451a",
       "version_major": 2,
       "version_minor": 0
      },
      "text/plain": [
       "Loading checkpoint shards:   0%|          | 0/17 [00:00<?, ?it/s]"
      ]
     },
     "metadata": {},
     "output_type": "display_data"
    }
   ],
   "source": [
    "import torch\n",
    "from transformers import AutoTokenizer, AutoModelForCausalLM\n",
    "import pandas as pd\n",
    "import re\n",
    "from nltk.tokenize import word_tokenize\n",
    "from nltk.corpus import stopwords\n",
    "import numpy as np\n",
    "\n",
    "# Load the tokenizer and model for Qwen/QwQ-32B-Preview\n",
    "tokenizer = AutoTokenizer.from_pretrained(\"Qwen/QwQ-32B-Preview\")\n",
    "model = AutoModelForCausalLM.from_pretrained(\"Qwen/QwQ-32B-Preview\")\n",
    "\n",
    "# Text preprocessing function\n",
    "def preprocess_text(text):\n",
    "    text = text.lower()  # Convert to lowercase\n",
    "    text = re.sub(r'[^a-zA-Z0-9-@\\s]', '', text)  # Remove special characters (but keep numbers)\n",
    "    tokens = word_tokenize(text)  # Tokenize text\n",
    "    stop_words = set(stopwords.words('english'))  # Define stopwords\n",
    "    filtered_tokens = [word for word in tokens if word not in stop_words]  # Remove stopwords\n",
    "    return ' '.join(filtered_tokens)\n",
    "\n",
    "# Load the dataset\n",
    "Data_Science_data = pd.read_csv(\"Data_Science_data.csv\")\n",
    "\n",
    "# Preprocess the resumes\n",
    "Data_Science_data['cleaned_resume'] = Data_Science_data['Resume'].apply(preprocess_text)\n",
    "\n",
    "# Function to generate embeddings using the Qwen model\n",
    "def generate_embeddings(texts):\n",
    "    # Tokenize the input texts\n",
    "    inputs = tokenizer(texts, padding=True, truncation=True, return_tensors=\"pt\", max_length=512)\n",
    "\n",
    "    # Generate the hidden states\n",
    "    with torch.no_grad():\n",
    "        outputs = model(**inputs, output_hidden_states=True)  # Ensure correct inputs are passed\n",
    "\n",
    "    # Get the last hidden state (the final layer's output)\n",
    "    hidden_states = outputs.hidden_states[-1]  # (batch_size, seq_length, hidden_size)\n",
    "\n",
    "    # You can take the mean of the hidden states across the sequence length dimension to get a sentence embedding\n",
    "    embeddings = hidden_states.mean(dim=1)  # Averaging over the token sequence\n",
    "    return embeddings.numpy()\n",
    "\n",
    "# Generate BERT-style embeddings for the resumes\n",
    "resume_embeddings = generate_embeddings(Data_Science_data['cleaned_resume'].tolist())\n",
    "\n",
    "# Convert embeddings to a NumPy array for efficient computation\n",
    "resume_embeddings = np.array(resume_embeddings)\n",
    "\n",
    "# Preprocess the job description\n",
    "cleaned_job_desc = preprocess_text(job_description)\n",
    "\n",
    "# Generate embedding for the job description\n",
    "job_desc_embedding = generate_embeddings([cleaned_job_desc])\n",
    "\n",
    "# Example: Printing the shape of embeddings to check\n",
    "print(f\"Shape of resume embeddings: {resume_embeddings.shape}\")\n",
    "print(f\"Shape of job description embedding: {job_desc_embedding.shape}\")\n"
   ]
  },
  {
   "cell_type": "code",
   "execution_count": null,
   "id": "af0f7475-0494-4866-ad0e-41a1848ca73e",
   "metadata": {},
   "outputs": [],
   "source": []
  },
  {
   "cell_type": "markdown",
   "id": "69bfbd7d-15a5-4b21-be87-3f6bb322d363",
   "metadata": {
    "jp-MarkdownHeadingCollapsed": true
   },
   "source": [
    "# anther emb bert-base-uncased https://huggingface.co/docs/transformers/en/model_doc/bert"
   ]
  },
  {
   "cell_type": "code",
   "execution_count": 26,
   "id": "3950670b-9a60-4595-974c-21d74cec6888",
   "metadata": {},
   "outputs": [],
   "source": [
    "Data_Science_data = pd.read_csv(\"Data_Science_data.csv\")"
   ]
  },
  {
   "cell_type": "code",
   "execution_count": 27,
   "id": "b92210ab-f2af-4933-9b77-4e57ab4b0984",
   "metadata": {},
   "outputs": [],
   "source": [
    "# Text preprocessing function\n",
    "def preprocess_text(text):\n",
    "    # Convert to lowercase\n",
    "    text = text.lower()\n",
    "    # Remove special characters (but keep numbers) keep \n",
    "    text = re.sub(r'[^a-zA-Z0-9-@\\s]', '', text)\n",
    "    # Tokenize text\n",
    "    tokens = word_tokenize(text)\n",
    "    # Remove stopwords\n",
    "    stop_words = set(stopwords.words('english'))\n",
    "    filtered_tokens = [word for word in tokens if word not in stop_words]\n",
    "    return ' '.join(filtered_tokens)"
   ]
  },
  {
   "cell_type": "code",
   "execution_count": 28,
   "id": "f46fff69-8e4c-46e6-a3d9-fa7245d32cfc",
   "metadata": {},
   "outputs": [
    {
     "data": {
      "text/html": [
       "<div>\n",
       "<style scoped>\n",
       "    .dataframe tbody tr th:only-of-type {\n",
       "        vertical-align: middle;\n",
       "    }\n",
       "\n",
       "    .dataframe tbody tr th {\n",
       "        vertical-align: top;\n",
       "    }\n",
       "\n",
       "    .dataframe thead th {\n",
       "        text-align: right;\n",
       "    }\n",
       "</style>\n",
       "<table border=\"1\" class=\"dataframe\">\n",
       "  <thead>\n",
       "    <tr style=\"text-align: right;\">\n",
       "      <th></th>\n",
       "      <th>Category</th>\n",
       "      <th>Resume</th>\n",
       "      <th>chosen</th>\n",
       "      <th>cleaned_resume</th>\n",
       "    </tr>\n",
       "  </thead>\n",
       "  <tbody>\n",
       "    <tr>\n",
       "      <th>0</th>\n",
       "      <td>Data Science</td>\n",
       "      <td>Skills * Programming Languages: Python (pandas...</td>\n",
       "      <td>1</td>\n",
       "      <td>skills programming languages python pandas num...</td>\n",
       "    </tr>\n",
       "    <tr>\n",
       "      <th>1</th>\n",
       "      <td>Data Science</td>\n",
       "      <td>Education Details \\nMay 2013 to May 2017 B.E  ...</td>\n",
       "      <td>0</td>\n",
       "      <td>education details may 2013 may 2017 uit-rgpvda...</td>\n",
       "    </tr>\n",
       "    <tr>\n",
       "      <th>2</th>\n",
       "      <td>Data Science</td>\n",
       "      <td>Areas of Interest Deep Learning, Control Syste...</td>\n",
       "      <td>0</td>\n",
       "      <td>areas interest deep learning control system de...</td>\n",
       "    </tr>\n",
       "    <tr>\n",
       "      <th>3</th>\n",
       "      <td>Data Science</td>\n",
       "      <td>Skills â¢ R â¢ Python â¢ SAP HANA â¢ Table...</td>\n",
       "      <td>0</td>\n",
       "      <td>skills r python sap hana tableau sap hana sql ...</td>\n",
       "    </tr>\n",
       "    <tr>\n",
       "      <th>4</th>\n",
       "      <td>Data Science</td>\n",
       "      <td>Education Details \\n MCA   YMCAUST,  Faridabad...</td>\n",
       "      <td>0</td>\n",
       "      <td>education details mca ymcaust faridabad haryan...</td>\n",
       "    </tr>\n",
       "    <tr>\n",
       "      <th>5</th>\n",
       "      <td>Data Science</td>\n",
       "      <td>SKILLS C Basics, IOT, Python, MATLAB, Data Sci...</td>\n",
       "      <td>0</td>\n",
       "      <td>skills c basics iot python matlab data science...</td>\n",
       "    </tr>\n",
       "    <tr>\n",
       "      <th>6</th>\n",
       "      <td>Data Science</td>\n",
       "      <td>Skills â¢ Python â¢ Tableau â¢ Data Visuali...</td>\n",
       "      <td>0</td>\n",
       "      <td>skills python tableau data visualization r stu...</td>\n",
       "    </tr>\n",
       "    <tr>\n",
       "      <th>7</th>\n",
       "      <td>Data Science</td>\n",
       "      <td>Education Details \\n B.Tech   Rayat and Bahra ...</td>\n",
       "      <td>1</td>\n",
       "      <td>education details btech rayat bahra institute ...</td>\n",
       "    </tr>\n",
       "    <tr>\n",
       "      <th>8</th>\n",
       "      <td>Data Science</td>\n",
       "      <td>Personal Skills â¢ Ability to quickly grasp t...</td>\n",
       "      <td>1</td>\n",
       "      <td>personal skills ability quickly grasp technica...</td>\n",
       "    </tr>\n",
       "    <tr>\n",
       "      <th>9</th>\n",
       "      <td>Data Science</td>\n",
       "      <td>Expertise â Data and Quantitative Analysis â...</td>\n",
       "      <td>1</td>\n",
       "      <td>expertise data quantitative analysis decision ...</td>\n",
       "    </tr>\n",
       "    <tr>\n",
       "      <th>10</th>\n",
       "      <td>HR</td>\n",
       "      <td>\\n HR CONSULTANT       Summary       Subject m...</td>\n",
       "      <td>0</td>\n",
       "      <td>hr consultant summary subject matter expert hr...</td>\n",
       "    </tr>\n",
       "  </tbody>\n",
       "</table>\n",
       "</div>"
      ],
      "text/plain": [
       "        Category                                             Resume  chosen  \\\n",
       "0   Data Science  Skills * Programming Languages: Python (pandas...       1   \n",
       "1   Data Science  Education Details \\nMay 2013 to May 2017 B.E  ...       0   \n",
       "2   Data Science  Areas of Interest Deep Learning, Control Syste...       0   \n",
       "3   Data Science  Skills â¢ R â¢ Python â¢ SAP HANA â¢ Table...       0   \n",
       "4   Data Science  Education Details \\n MCA   YMCAUST,  Faridabad...       0   \n",
       "5   Data Science  SKILLS C Basics, IOT, Python, MATLAB, Data Sci...       0   \n",
       "6   Data Science  Skills â¢ Python â¢ Tableau â¢ Data Visuali...       0   \n",
       "7   Data Science  Education Details \\n B.Tech   Rayat and Bahra ...       1   \n",
       "8   Data Science  Personal Skills â¢ Ability to quickly grasp t...       1   \n",
       "9   Data Science  Expertise â Data and Quantitative Analysis â...       1   \n",
       "10            HR  \\n HR CONSULTANT       Summary       Subject m...       0   \n",
       "\n",
       "                                       cleaned_resume  \n",
       "0   skills programming languages python pandas num...  \n",
       "1   education details may 2013 may 2017 uit-rgpvda...  \n",
       "2   areas interest deep learning control system de...  \n",
       "3   skills r python sap hana tableau sap hana sql ...  \n",
       "4   education details mca ymcaust faridabad haryan...  \n",
       "5   skills c basics iot python matlab data science...  \n",
       "6   skills python tableau data visualization r stu...  \n",
       "7   education details btech rayat bahra institute ...  \n",
       "8   personal skills ability quickly grasp technica...  \n",
       "9   expertise data quantitative analysis decision ...  \n",
       "10  hr consultant summary subject matter expert hr...  "
      ]
     },
     "execution_count": 28,
     "metadata": {},
     "output_type": "execute_result"
    }
   ],
   "source": [
    "Data_Science_data['cleaned_resume'] = Data_Science_data['Resume'].apply(preprocess_text)\n",
    "Data_Science_data"
   ]
  },
  {
   "cell_type": "code",
   "execution_count": 41,
   "id": "4965a85f-3e5c-4475-94a6-4fad5160af9e",
   "metadata": {},
   "outputs": [
    {
     "name": "stdout",
     "output_type": "stream",
     "text": [
      "Ranking of Resumes by Similarity Score:\n",
      "Rank 1: Resume 6 - Similarity Score: 0.8269\n",
      "Rank 2: Resume 7 - Similarity Score: 0.8118\n",
      "Rank 3: Resume 1 - Similarity Score: 0.8061\n",
      "Rank 4: Resume 2 - Similarity Score: 0.8033\n",
      "Rank 5: Resume 8 - Similarity Score: 0.8021\n",
      "Rank 6: Resume 4 - Similarity Score: 0.7969\n",
      "Rank 7: Resume 5 - Similarity Score: 0.7965\n",
      "Rank 8: Resume 0 - Similarity Score: 0.7757\n",
      "Rank 9: Resume 9 - Similarity Score: 0.7728\n",
      "Rank 10: Resume 3 - Similarity Score: 0.7553\n",
      "Rank 11: Resume 10 - Similarity Score: 0.7104\n"
     ]
    }
   ],
   "source": [
    "from transformers import BertModel, BertTokenizer\n",
    "import torch\n",
    "\n",
    "tokenizer = BertTokenizer.from_pretrained('bert-base-uncased')\n",
    "model = BertModel.from_pretrained('bert-base-uncased')\n",
    "\n",
    "# Function to get embeddings\n",
    "def get_embedding(text):\n",
    "    inputs = tokenizer(text, return_tensors='pt', truncation=True, padding=True, max_length=512)\n",
    "    with torch.no_grad():\n",
    "        outputs = model(**inputs)\n",
    "    # Take the mean of the last hidden state as the sentence embedding\n",
    "    return outputs.last_hidden_state.mean(dim=1).squeeze()\n",
    "\n",
    "# Example CV and job description for similarity calculation\n",
    "cv_text = Data_Science_data['cleaned_resume'].iloc[0]  # First cleaned resume\n",
    "\n",
    "# Generate embeddings for the CV and job description\n",
    "cv_embedding = get_embedding(cv_text)\n",
    "job_desc_embedding = get_embedding(job_description)\n",
    "\n",
    "# List to store similarity scores\n",
    "similarity_scores = []\n",
    "\n",
    "# Iterate over all resumes and calculate the cosine similarity with the job description\n",
    "for index, row in Data_Science_data.iterrows():\n",
    "    cv_text = row['cleaned_resume']  # Resume text\n",
    "    cv_embedding = get_embedding(cv_text)  # Get CV embedding\n",
    "    \n",
    "    # Calculate cosine similarity between the resume embedding and job description embedding\n",
    "    similarity = cosine_similarity([cv_embedding.numpy()], [job_desc_embedding.numpy()])\n",
    "    \n",
    "    # Store the similarity score along with the index (resume number)\n",
    "    similarity_scores.append((index , similarity[0][0]))\n",
    "\n",
    "# Sort the similarity scores in descending order (highest to lowest)\n",
    "sorted_similarity_scores = sorted(similarity_scores, key=lambda x: x[1], reverse=True)\n",
    "\n",
    "# Print the sorted similarity scores\n",
    "print(\"Ranking of Resumes by Similarity Score:\")\n",
    "for rank, (resume_index, score) in enumerate(sorted_similarity_scores, start=1):\n",
    "    print(f\"Rank {rank}: Resume {resume_index} - Similarity Score: {score:.4f}\")"
   ]
  },
  {
   "cell_type": "code",
   "execution_count": null,
   "id": "c24e423c-8ebd-4ae4-a6de-ff8f05da3214",
   "metadata": {},
   "outputs": [],
   "source": []
  },
  {
   "cell_type": "markdown",
   "id": "21326715-6395-473e-b3f6-cf297a5a4617",
   "metadata": {},
   "source": [
    "# lets try all-MiniLM-L6-v2 form microsoft with chunk the cv cosin similarity"
   ]
  },
  {
   "cell_type": "code",
   "execution_count": 233,
   "id": "b8158b67-7bc6-4c9f-8900-5e966c155c88",
   "metadata": {},
   "outputs": [],
   "source": [
    "Data_Science_data = pd.read_csv(\"Data_Science_data.csv\")"
   ]
  },
  {
   "cell_type": "code",
   "execution_count": 234,
   "id": "546c39cb-b50d-495b-a055-7b46d28720ae",
   "metadata": {},
   "outputs": [],
   "source": [
    "# Text preprocessing function\n",
    "def preprocess_text(text):\n",
    "    # Convert to lowercase\n",
    "    text = text.lower()\n",
    "    # Remove special characters (but keep numbers) keep \n",
    "    text = re.sub(r'[^a-zA-Z0-9-@\\s]', '', text)\n",
    "    # Tokenize text\n",
    "    tokens = word_tokenize(text)\n",
    "    # Remove stopwords\n",
    "    stop_words = set(stopwords.words('english'))\n",
    "    filtered_tokens = [word for word in tokens if word not in stop_words]\n",
    "    return ' '.join(filtered_tokens)"
   ]
  },
  {
   "cell_type": "code",
   "execution_count": 235,
   "id": "873ee2e1-81a2-4274-996a-2681505fe3eb",
   "metadata": {},
   "outputs": [
    {
     "data": {
      "text/html": [
       "<div>\n",
       "<style scoped>\n",
       "    .dataframe tbody tr th:only-of-type {\n",
       "        vertical-align: middle;\n",
       "    }\n",
       "\n",
       "    .dataframe tbody tr th {\n",
       "        vertical-align: top;\n",
       "    }\n",
       "\n",
       "    .dataframe thead th {\n",
       "        text-align: right;\n",
       "    }\n",
       "</style>\n",
       "<table border=\"1\" class=\"dataframe\">\n",
       "  <thead>\n",
       "    <tr style=\"text-align: right;\">\n",
       "      <th></th>\n",
       "      <th>Category</th>\n",
       "      <th>Resume</th>\n",
       "      <th>chosen</th>\n",
       "      <th>cleaned_resume</th>\n",
       "    </tr>\n",
       "  </thead>\n",
       "  <tbody>\n",
       "    <tr>\n",
       "      <th>0</th>\n",
       "      <td>Data Science</td>\n",
       "      <td>Skills * Programming Languages: Python (pandas...</td>\n",
       "      <td>1</td>\n",
       "      <td>skills programming languages python pandas num...</td>\n",
       "    </tr>\n",
       "    <tr>\n",
       "      <th>1</th>\n",
       "      <td>Data Science</td>\n",
       "      <td>Education Details \\nMay 2013 to May 2017 B.E  ...</td>\n",
       "      <td>0</td>\n",
       "      <td>education details may 2013 may 2017 uit-rgpvda...</td>\n",
       "    </tr>\n",
       "    <tr>\n",
       "      <th>2</th>\n",
       "      <td>Data Science</td>\n",
       "      <td>Areas of Interest Deep Learning, Control Syste...</td>\n",
       "      <td>0</td>\n",
       "      <td>areas interest deep learning control system de...</td>\n",
       "    </tr>\n",
       "    <tr>\n",
       "      <th>3</th>\n",
       "      <td>Data Science</td>\n",
       "      <td>Skills â¢ R â¢ Python â¢ SAP HANA â¢ Table...</td>\n",
       "      <td>0</td>\n",
       "      <td>skills r python sap hana tableau sap hana sql ...</td>\n",
       "    </tr>\n",
       "    <tr>\n",
       "      <th>4</th>\n",
       "      <td>Data Science</td>\n",
       "      <td>Education Details \\n MCA   YMCAUST,  Faridabad...</td>\n",
       "      <td>0</td>\n",
       "      <td>education details mca ymcaust faridabad haryan...</td>\n",
       "    </tr>\n",
       "    <tr>\n",
       "      <th>5</th>\n",
       "      <td>Data Science</td>\n",
       "      <td>SKILLS C Basics, IOT, Python, MATLAB, Data Sci...</td>\n",
       "      <td>0</td>\n",
       "      <td>skills c basics iot python matlab data science...</td>\n",
       "    </tr>\n",
       "    <tr>\n",
       "      <th>6</th>\n",
       "      <td>Data Science</td>\n",
       "      <td>Skills â¢ Python â¢ Tableau â¢ Data Visuali...</td>\n",
       "      <td>0</td>\n",
       "      <td>skills python tableau data visualization r stu...</td>\n",
       "    </tr>\n",
       "    <tr>\n",
       "      <th>7</th>\n",
       "      <td>Data Science</td>\n",
       "      <td>Education Details \\n B.Tech   Rayat and Bahra ...</td>\n",
       "      <td>1</td>\n",
       "      <td>education details btech rayat bahra institute ...</td>\n",
       "    </tr>\n",
       "    <tr>\n",
       "      <th>8</th>\n",
       "      <td>Data Science</td>\n",
       "      <td>Personal Skills â¢ Ability to quickly grasp t...</td>\n",
       "      <td>1</td>\n",
       "      <td>personal skills ability quickly grasp technica...</td>\n",
       "    </tr>\n",
       "    <tr>\n",
       "      <th>9</th>\n",
       "      <td>Data Science</td>\n",
       "      <td>Expertise â Data and Quantitative Analysis â...</td>\n",
       "      <td>1</td>\n",
       "      <td>expertise data quantitative analysis decision ...</td>\n",
       "    </tr>\n",
       "    <tr>\n",
       "      <th>10</th>\n",
       "      <td>HR</td>\n",
       "      <td>\\n HR CONSULTANT       Summary       Subject m...</td>\n",
       "      <td>0</td>\n",
       "      <td>hr consultant summary subject matter expert hr...</td>\n",
       "    </tr>\n",
       "  </tbody>\n",
       "</table>\n",
       "</div>"
      ],
      "text/plain": [
       "        Category                                             Resume  chosen  \\\n",
       "0   Data Science  Skills * Programming Languages: Python (pandas...       1   \n",
       "1   Data Science  Education Details \\nMay 2013 to May 2017 B.E  ...       0   \n",
       "2   Data Science  Areas of Interest Deep Learning, Control Syste...       0   \n",
       "3   Data Science  Skills â¢ R â¢ Python â¢ SAP HANA â¢ Table...       0   \n",
       "4   Data Science  Education Details \\n MCA   YMCAUST,  Faridabad...       0   \n",
       "5   Data Science  SKILLS C Basics, IOT, Python, MATLAB, Data Sci...       0   \n",
       "6   Data Science  Skills â¢ Python â¢ Tableau â¢ Data Visuali...       0   \n",
       "7   Data Science  Education Details \\n B.Tech   Rayat and Bahra ...       1   \n",
       "8   Data Science  Personal Skills â¢ Ability to quickly grasp t...       1   \n",
       "9   Data Science  Expertise â Data and Quantitative Analysis â...       1   \n",
       "10            HR  \\n HR CONSULTANT       Summary       Subject m...       0   \n",
       "\n",
       "                                       cleaned_resume  \n",
       "0   skills programming languages python pandas num...  \n",
       "1   education details may 2013 may 2017 uit-rgpvda...  \n",
       "2   areas interest deep learning control system de...  \n",
       "3   skills r python sap hana tableau sap hana sql ...  \n",
       "4   education details mca ymcaust faridabad haryan...  \n",
       "5   skills c basics iot python matlab data science...  \n",
       "6   skills python tableau data visualization r stu...  \n",
       "7   education details btech rayat bahra institute ...  \n",
       "8   personal skills ability quickly grasp technica...  \n",
       "9   expertise data quantitative analysis decision ...  \n",
       "10  hr consultant summary subject matter expert hr...  "
      ]
     },
     "execution_count": 235,
     "metadata": {},
     "output_type": "execute_result"
    }
   ],
   "source": [
    "Data_Science_data['cleaned_resume'] = Data_Science_data['Resume'].apply(preprocess_text)\n",
    "Data_Science_data"
   ]
  },
  {
   "cell_type": "code",
   "execution_count": 236,
   "id": "612bc902-05fc-4e6e-975e-51c0ca9c2dac",
   "metadata": {},
   "outputs": [
    {
     "data": {
      "application/vnd.jupyter.widget-view+json": {
       "model_id": "ba5d5c3e19b84d039a8c99c19846f04e",
       "version_major": 2,
       "version_minor": 0
      },
      "text/plain": [
       "Batches:   0%|          | 0/1 [00:00<?, ?it/s]"
      ]
     },
     "metadata": {},
     "output_type": "display_data"
    },
    {
     "data": {
      "application/vnd.jupyter.widget-view+json": {
       "model_id": "6951b371fdb144df9ea27d91ae99ba50",
       "version_major": 2,
       "version_minor": 0
      },
      "text/plain": [
       "Batches:   0%|          | 0/1 [00:00<?, ?it/s]"
      ]
     },
     "metadata": {},
     "output_type": "display_data"
    },
    {
     "data": {
      "application/vnd.jupyter.widget-view+json": {
       "model_id": "f926901893f542b7b3efb8bd122d544e",
       "version_major": 2,
       "version_minor": 0
      },
      "text/plain": [
       "Batches:   0%|          | 0/1 [00:00<?, ?it/s]"
      ]
     },
     "metadata": {},
     "output_type": "display_data"
    },
    {
     "data": {
      "application/vnd.jupyter.widget-view+json": {
       "model_id": "4d7b49c86826441ab787518df2b48584",
       "version_major": 2,
       "version_minor": 0
      },
      "text/plain": [
       "Batches:   0%|          | 0/1 [00:00<?, ?it/s]"
      ]
     },
     "metadata": {},
     "output_type": "display_data"
    },
    {
     "data": {
      "application/vnd.jupyter.widget-view+json": {
       "model_id": "ca397eaba7544df583b0c0ba553457a7",
       "version_major": 2,
       "version_minor": 0
      },
      "text/plain": [
       "Batches:   0%|          | 0/1 [00:00<?, ?it/s]"
      ]
     },
     "metadata": {},
     "output_type": "display_data"
    },
    {
     "data": {
      "application/vnd.jupyter.widget-view+json": {
       "model_id": "54d7cf6bbad84dada2856b1b1ef0c600",
       "version_major": 2,
       "version_minor": 0
      },
      "text/plain": [
       "Batches:   0%|          | 0/1 [00:00<?, ?it/s]"
      ]
     },
     "metadata": {},
     "output_type": "display_data"
    },
    {
     "data": {
      "application/vnd.jupyter.widget-view+json": {
       "model_id": "3b8f751398364391919df53bc73a7ac4",
       "version_major": 2,
       "version_minor": 0
      },
      "text/plain": [
       "Batches:   0%|          | 0/1 [00:00<?, ?it/s]"
      ]
     },
     "metadata": {},
     "output_type": "display_data"
    },
    {
     "data": {
      "application/vnd.jupyter.widget-view+json": {
       "model_id": "260af0d4542b40c5a9ee8720554996d2",
       "version_major": 2,
       "version_minor": 0
      },
      "text/plain": [
       "Batches:   0%|          | 0/1 [00:00<?, ?it/s]"
      ]
     },
     "metadata": {},
     "output_type": "display_data"
    },
    {
     "data": {
      "application/vnd.jupyter.widget-view+json": {
       "model_id": "35cb24cc71da47ddba2a6aa6b4c16bac",
       "version_major": 2,
       "version_minor": 0
      },
      "text/plain": [
       "Batches:   0%|          | 0/1 [00:00<?, ?it/s]"
      ]
     },
     "metadata": {},
     "output_type": "display_data"
    },
    {
     "data": {
      "application/vnd.jupyter.widget-view+json": {
       "model_id": "59b173b68c7643c6b9d8cb9748214032",
       "version_major": 2,
       "version_minor": 0
      },
      "text/plain": [
       "Batches:   0%|          | 0/1 [00:00<?, ?it/s]"
      ]
     },
     "metadata": {},
     "output_type": "display_data"
    },
    {
     "data": {
      "application/vnd.jupyter.widget-view+json": {
       "model_id": "fd3e0917f7d94bff90a968102b039674",
       "version_major": 2,
       "version_minor": 0
      },
      "text/plain": [
       "Batches:   0%|          | 0/1 [00:00<?, ?it/s]"
      ]
     },
     "metadata": {},
     "output_type": "display_data"
    },
    {
     "data": {
      "application/vnd.jupyter.widget-view+json": {
       "model_id": "e8bd68d493d04524954ef4dd00980637",
       "version_major": 2,
       "version_minor": 0
      },
      "text/plain": [
       "Batches:   0%|          | 0/1 [00:00<?, ?it/s]"
      ]
     },
     "metadata": {},
     "output_type": "display_data"
    },
    {
     "name": "stdout",
     "output_type": "stream",
     "text": [
      "Ranking of Resumes by Similarity Score:\n",
      "Rank 1: Resume 7 - Similarity Score: 0.7961\n",
      "Rank 2: Resume 8 - Similarity Score: 0.7022\n",
      "Rank 3: Resume 9 - Similarity Score: 0.6992\n",
      "Rank 4: Resume 0 - Similarity Score: 0.6721\n",
      "Rank 5: Resume 6 - Similarity Score: 0.6688\n",
      "Rank 6: Resume 10 - Similarity Score: 0.6352\n",
      "Rank 7: Resume 1 - Similarity Score: 0.6091\n",
      "Rank 8: Resume 3 - Similarity Score: 0.6065\n",
      "Rank 9: Resume 2 - Similarity Score: 0.6019\n",
      "Rank 10: Resume 5 - Similarity Score: 0.5351\n",
      "Rank 11: Resume 4 - Similarity Score: 0.4131\n"
     ]
    }
   ],
   "source": [
    "# Function to split text into chunks of max size `chunk_size`\n",
    "def split_text_into_chunks(text, chunk_size=256):\n",
    "    tokens = word_tokenize(text)\n",
    "    # Split tokens into chunks of `chunk_size`\n",
    "    chunks = [tokens[i:i + chunk_size] for i in range(0, len(tokens), chunk_size)]\n",
    "    return [' '.join(chunk) for chunk in chunks]\n",
    "\n",
    "model = SentenceTransformer('all-MiniLM-L6-v2')\n",
    "\n",
    "# Preprocess the job description\n",
    "cleaned_job_desc = preprocess_text(job_description)\n",
    "\n",
    "# Split the job description into chunks\n",
    "job_desc_chunks = split_text_into_chunks(cleaned_job_desc)\n",
    "\n",
    "job_desc_chunk_embeddings = model.encode(job_desc_chunks, show_progress_bar=True)\n",
    "\n",
    "# Aggregate the embeddings (e.g., by averaging) for the job description\n",
    "job_desc_embedding = np.mean(job_desc_chunk_embeddings, axis=0)\n",
    "\n",
    "# Function to calculate similarity for all resumes\n",
    "def calculate_similarity_for_all_resumes(data, model, job_desc_embedding):\n",
    "    similarity_scores = []\n",
    "    for resume in data['cleaned_resume']:\n",
    "        cleaned_resume = preprocess_text(resume)\n",
    "\n",
    "        # Split the resume into chunks\n",
    "        resume_chunks = split_text_into_chunks(cleaned_resume)\n",
    "\n",
    "        # Generate embeddings for each chunk of the resume\n",
    "        resume_chunk_embeddings = model.encode(resume_chunks, show_progress_bar=True)\n",
    "\n",
    "        # Convert embeddings to a NumPy array (for efficient computation)\n",
    "        resume_chunk_embeddings = np.array(resume_chunk_embeddings)\n",
    "\n",
    "        # Aggregate the embeddings (e.g., by averaging)\n",
    "        final_resume_embedding = np.mean(resume_chunk_embeddings, axis=0)\n",
    "\n",
    "        # Ensure embeddings are 2D arrays (shape: (1, embedding_dimension))\n",
    "        job_desc_embedding_2d = np.array(job_desc_embedding).reshape(1, -1)\n",
    "        final_resume_embedding_2d = np.array(final_resume_embedding).reshape(1, -1)\n",
    "\n",
    "        # Compute cosine similarity between the job description and resume embeddings\n",
    "        similarity_score = cosine_similarity(job_desc_embedding_2d, final_resume_embedding_2d)\n",
    "        similarity_scores.append(similarity_score[0][0])\n",
    "\n",
    "    return similarity_scores\n",
    "\n",
    "# Assuming you have a DataFrame `Data_Science_data` containing a 'cleaned_resume' column\n",
    "similarity_scores = calculate_similarity_for_all_resumes(Data_Science_data, model, job_desc_embedding)\n",
    "\n",
    "# Rank the resumes by similarity score in descending order\n",
    "ranked_resumes = sorted(enumerate(similarity_scores), key=lambda x: x[1], reverse=True)\n",
    "\n",
    "# Print the ranking of resumes\n",
    "print(\"Ranking of Resumes by Similarity Score:\")\n",
    "for rank, (idx, score) in enumerate(ranked_resumes, start=1):\n",
    "    print(f\"Rank {rank}: Resume {idx} - Similarity Score: {score:.4f}\")\n"
   ]
  },
  {
   "cell_type": "markdown",
   "id": "9d6b5336-58c9-4add-bc36-07e06e7aef63",
   "metadata": {},
   "source": [
    "# lets try all-MiniLM-L6-v2 form microsoft with chunk the cv knn cosin"
   ]
  },
  {
   "cell_type": "code",
   "execution_count": 238,
   "id": "1a705b12-4cd7-4261-a2f9-3807c02a4fab",
   "metadata": {},
   "outputs": [
    {
     "data": {
      "application/vnd.jupyter.widget-view+json": {
       "model_id": "59a1ca03828b4adca8c283a7cc8c2804",
       "version_major": 2,
       "version_minor": 0
      },
      "text/plain": [
       "Batches:   0%|          | 0/1 [00:00<?, ?it/s]"
      ]
     },
     "metadata": {},
     "output_type": "display_data"
    },
    {
     "data": {
      "application/vnd.jupyter.widget-view+json": {
       "model_id": "ce8d9cf64eb144d89e1c0e68ff2a2ac5",
       "version_major": 2,
       "version_minor": 0
      },
      "text/plain": [
       "Batches:   0%|          | 0/1 [00:00<?, ?it/s]"
      ]
     },
     "metadata": {},
     "output_type": "display_data"
    },
    {
     "data": {
      "application/vnd.jupyter.widget-view+json": {
       "model_id": "e86cadcef3604c5f84615c080aefbd15",
       "version_major": 2,
       "version_minor": 0
      },
      "text/plain": [
       "Batches:   0%|          | 0/1 [00:00<?, ?it/s]"
      ]
     },
     "metadata": {},
     "output_type": "display_data"
    },
    {
     "data": {
      "application/vnd.jupyter.widget-view+json": {
       "model_id": "d2e88ea0cee847debd6df3645f1d21d1",
       "version_major": 2,
       "version_minor": 0
      },
      "text/plain": [
       "Batches:   0%|          | 0/1 [00:00<?, ?it/s]"
      ]
     },
     "metadata": {},
     "output_type": "display_data"
    },
    {
     "data": {
      "application/vnd.jupyter.widget-view+json": {
       "model_id": "64a9c06f65f84ca2bcb1aa7420c7c34e",
       "version_major": 2,
       "version_minor": 0
      },
      "text/plain": [
       "Batches:   0%|          | 0/1 [00:00<?, ?it/s]"
      ]
     },
     "metadata": {},
     "output_type": "display_data"
    },
    {
     "data": {
      "application/vnd.jupyter.widget-view+json": {
       "model_id": "6302cdc73f2649b390f24032e4a22a16",
       "version_major": 2,
       "version_minor": 0
      },
      "text/plain": [
       "Batches:   0%|          | 0/1 [00:00<?, ?it/s]"
      ]
     },
     "metadata": {},
     "output_type": "display_data"
    },
    {
     "data": {
      "application/vnd.jupyter.widget-view+json": {
       "model_id": "4883b3081a5648aaba00b2096aa97551",
       "version_major": 2,
       "version_minor": 0
      },
      "text/plain": [
       "Batches:   0%|          | 0/1 [00:00<?, ?it/s]"
      ]
     },
     "metadata": {},
     "output_type": "display_data"
    },
    {
     "data": {
      "application/vnd.jupyter.widget-view+json": {
       "model_id": "9b22a69f0d984604a1d090e3ac5dfe66",
       "version_major": 2,
       "version_minor": 0
      },
      "text/plain": [
       "Batches:   0%|          | 0/1 [00:00<?, ?it/s]"
      ]
     },
     "metadata": {},
     "output_type": "display_data"
    },
    {
     "data": {
      "application/vnd.jupyter.widget-view+json": {
       "model_id": "07adeabd463146d5a282d1251cc8d2e2",
       "version_major": 2,
       "version_minor": 0
      },
      "text/plain": [
       "Batches:   0%|          | 0/1 [00:00<?, ?it/s]"
      ]
     },
     "metadata": {},
     "output_type": "display_data"
    },
    {
     "data": {
      "application/vnd.jupyter.widget-view+json": {
       "model_id": "4d3e5f9d485f40fba7ce56eebcca5947",
       "version_major": 2,
       "version_minor": 0
      },
      "text/plain": [
       "Batches:   0%|          | 0/1 [00:00<?, ?it/s]"
      ]
     },
     "metadata": {},
     "output_type": "display_data"
    },
    {
     "data": {
      "application/vnd.jupyter.widget-view+json": {
       "model_id": "b3301abf670448b1955e290d7428f652",
       "version_major": 2,
       "version_minor": 0
      },
      "text/plain": [
       "Batches:   0%|          | 0/1 [00:00<?, ?it/s]"
      ]
     },
     "metadata": {},
     "output_type": "display_data"
    },
    {
     "data": {
      "application/vnd.jupyter.widget-view+json": {
       "model_id": "95287aeb7343406cbb6329fe449b4da6",
       "version_major": 2,
       "version_minor": 0
      },
      "text/plain": [
       "Batches:   0%|          | 0/1 [00:00<?, ?it/s]"
      ]
     },
     "metadata": {},
     "output_type": "display_data"
    },
    {
     "name": "stdout",
     "output_type": "stream",
     "text": [
      "Ranking of Resumes by KNN (Cosine Distance):\n",
      "Rank 1: Resume 7 - Cosine Distance: 0.2039\n",
      "Rank 2: Resume 8 - Cosine Distance: 0.2978\n",
      "Rank 3: Resume 9 - Cosine Distance: 0.3008\n",
      "Rank 4: Resume 0 - Cosine Distance: 0.3279\n",
      "Rank 5: Resume 6 - Cosine Distance: 0.3312\n",
      "Rank 6: Resume 10 - Cosine Distance: 0.3648\n",
      "Rank 7: Resume 1 - Cosine Distance: 0.3909\n",
      "Rank 8: Resume 3 - Cosine Distance: 0.3935\n",
      "Rank 9: Resume 2 - Cosine Distance: 0.3981\n",
      "Rank 10: Resume 5 - Cosine Distance: 0.4649\n"
     ]
    }
   ],
   "source": [
    "# Function to split text into chunks of max size `chunk_size`\n",
    "def split_text_into_chunks(text, chunk_size=256):\n",
    "    tokens = word_tokenize(text)\n",
    "    # Split tokens into chunks of `chunk_size`\n",
    "    chunks = [tokens[i:i + chunk_size] for i in range(0, len(tokens), chunk_size)]\n",
    "    return [' '.join(chunk) for chunk in chunks]\n",
    "\n",
    "model = SentenceTransformer('all-MiniLM-L6-v2')\n",
    "\n",
    "# Preprocess the job description\n",
    "cleaned_job_desc = preprocess_text(job_description)\n",
    "\n",
    "# Split the job description into chunks\n",
    "job_desc_chunks = split_text_into_chunks(cleaned_job_desc)\n",
    "\n",
    "job_desc_chunk_embeddings = model.encode(job_desc_chunks, show_progress_bar=True)\n",
    "\n",
    "# Aggregate the embeddings (e.g., by averaging) for the job description\n",
    "job_desc_embedding = np.mean(job_desc_chunk_embeddings, axis=0)\n",
    "\n",
    "# Function to calculate similarity for all resumes using KNN\n",
    "def calculate_knn_for_resumes(data, model, job_desc_embedding, n_neighbors=10):\n",
    "    resume_embeddings = []\n",
    "\n",
    "    for resume in data['cleaned_resume']:\n",
    "        cleaned_resume = preprocess_text(resume)\n",
    "\n",
    "        # Split the resume into chunks\n",
    "        resume_chunks = split_text_into_chunks(cleaned_resume)\n",
    "\n",
    "        # Generate embeddings for each chunk of the resume\n",
    "        resume_chunk_embeddings = model.encode(resume_chunks, show_progress_bar=True)\n",
    "\n",
    "        # Convert embeddings to a NumPy array (for efficient computation)\n",
    "        resume_chunk_embeddings = np.array(resume_chunk_embeddings)\n",
    "\n",
    "        # Aggregate the embeddings (e.g., by averaging)\n",
    "        final_resume_embedding = np.mean(resume_chunk_embeddings, axis=0)\n",
    "\n",
    "        # Add the final resume embedding to the list\n",
    "        resume_embeddings.append(final_resume_embedding)\n",
    "\n",
    "    # Convert to NumPy array\n",
    "    resume_embeddings = np.array(resume_embeddings)\n",
    "\n",
    "    # Fit KNN on resume embeddings with the job description as a query\n",
    "    knn = NearestNeighbors(n_neighbors=n_neighbors, metric='cosine')\n",
    "    knn.fit(resume_embeddings)\n",
    "\n",
    "    # Find the nearest neighbors based on the job description embedding\n",
    "    distances, indices = knn.kneighbors([job_desc_embedding])\n",
    "\n",
    "    return distances, indices\n",
    "\n",
    "# Assuming you have a DataFrame `Data_Science_data` containing a 'cleaned_resume' column\n",
    "distances, indices = calculate_knn_for_resumes(Data_Science_data, model, job_desc_embedding)\n",
    "\n",
    "# Print the ranking of resumes based on KNN\n",
    "print(\"Ranking of Resumes by KNN (Cosine Distance):\")\n",
    "for rank, (idx, dist) in enumerate(zip(indices[0], distances[0]), start=1):\n",
    "    print(f\"Rank {rank}: Resume {idx} - Cosine Distance: {dist:.4f}\")\n"
   ]
  },
  {
   "cell_type": "markdown",
   "id": "af030871-dae6-477f-924d-3bf3b7ae1639",
   "metadata": {},
   "source": [
    "# lets try all-MiniLM-L6-v2 form microsoft with chunk the cv knn euclidean"
   ]
  },
  {
   "cell_type": "code",
   "execution_count": 239,
   "id": "2fb2e2b5-c20a-4a5d-b8dd-2bc602043a08",
   "metadata": {},
   "outputs": [
    {
     "data": {
      "application/vnd.jupyter.widget-view+json": {
       "model_id": "e6e328675ec949308cf5575165b9457f",
       "version_major": 2,
       "version_minor": 0
      },
      "text/plain": [
       "Batches:   0%|          | 0/1 [00:00<?, ?it/s]"
      ]
     },
     "metadata": {},
     "output_type": "display_data"
    },
    {
     "data": {
      "application/vnd.jupyter.widget-view+json": {
       "model_id": "d66923ec3eb64560a3fa7e44f094cfd0",
       "version_major": 2,
       "version_minor": 0
      },
      "text/plain": [
       "Batches:   0%|          | 0/1 [00:00<?, ?it/s]"
      ]
     },
     "metadata": {},
     "output_type": "display_data"
    },
    {
     "data": {
      "application/vnd.jupyter.widget-view+json": {
       "model_id": "d5b9203e28294e3fb09346bd658d5178",
       "version_major": 2,
       "version_minor": 0
      },
      "text/plain": [
       "Batches:   0%|          | 0/1 [00:00<?, ?it/s]"
      ]
     },
     "metadata": {},
     "output_type": "display_data"
    },
    {
     "data": {
      "application/vnd.jupyter.widget-view+json": {
       "model_id": "4530df8b2cbe4083be6c9a19e0cf490d",
       "version_major": 2,
       "version_minor": 0
      },
      "text/plain": [
       "Batches:   0%|          | 0/1 [00:00<?, ?it/s]"
      ]
     },
     "metadata": {},
     "output_type": "display_data"
    },
    {
     "data": {
      "application/vnd.jupyter.widget-view+json": {
       "model_id": "b53a521ff83a42409c7d24f130598690",
       "version_major": 2,
       "version_minor": 0
      },
      "text/plain": [
       "Batches:   0%|          | 0/1 [00:00<?, ?it/s]"
      ]
     },
     "metadata": {},
     "output_type": "display_data"
    },
    {
     "data": {
      "application/vnd.jupyter.widget-view+json": {
       "model_id": "5ed3a20e55014d0da35ce7024ee7ea7a",
       "version_major": 2,
       "version_minor": 0
      },
      "text/plain": [
       "Batches:   0%|          | 0/1 [00:00<?, ?it/s]"
      ]
     },
     "metadata": {},
     "output_type": "display_data"
    },
    {
     "data": {
      "application/vnd.jupyter.widget-view+json": {
       "model_id": "17b6581dceb14942b2479aeb4a7dc983",
       "version_major": 2,
       "version_minor": 0
      },
      "text/plain": [
       "Batches:   0%|          | 0/1 [00:00<?, ?it/s]"
      ]
     },
     "metadata": {},
     "output_type": "display_data"
    },
    {
     "data": {
      "application/vnd.jupyter.widget-view+json": {
       "model_id": "4d58a4a995ef4f4d8c0ce0e0c400d733",
       "version_major": 2,
       "version_minor": 0
      },
      "text/plain": [
       "Batches:   0%|          | 0/1 [00:00<?, ?it/s]"
      ]
     },
     "metadata": {},
     "output_type": "display_data"
    },
    {
     "data": {
      "application/vnd.jupyter.widget-view+json": {
       "model_id": "a7aad3276e8143fd9e2c4dcc8708f2f6",
       "version_major": 2,
       "version_minor": 0
      },
      "text/plain": [
       "Batches:   0%|          | 0/1 [00:00<?, ?it/s]"
      ]
     },
     "metadata": {},
     "output_type": "display_data"
    },
    {
     "data": {
      "application/vnd.jupyter.widget-view+json": {
       "model_id": "604120afc12e4a509b8e0857c50f75ee",
       "version_major": 2,
       "version_minor": 0
      },
      "text/plain": [
       "Batches:   0%|          | 0/1 [00:00<?, ?it/s]"
      ]
     },
     "metadata": {},
     "output_type": "display_data"
    },
    {
     "data": {
      "application/vnd.jupyter.widget-view+json": {
       "model_id": "56bf277eb83f466f87c59b7a53ace550",
       "version_major": 2,
       "version_minor": 0
      },
      "text/plain": [
       "Batches:   0%|          | 0/1 [00:00<?, ?it/s]"
      ]
     },
     "metadata": {},
     "output_type": "display_data"
    },
    {
     "data": {
      "application/vnd.jupyter.widget-view+json": {
       "model_id": "d59e0e0ed0454b99bd260672d47d3950",
       "version_major": 2,
       "version_minor": 0
      },
      "text/plain": [
       "Batches:   0%|          | 0/1 [00:00<?, ?it/s]"
      ]
     },
     "metadata": {},
     "output_type": "display_data"
    },
    {
     "name": "stdout",
     "output_type": "stream",
     "text": [
      "Ranking of Resumes by KNN (Euclidean Distance):\n",
      "Rank 1: Resume 7 - Euclidean Distance: 0.6098\n",
      "Rank 2: Resume 9 - Euclidean Distance: 0.7509\n",
      "Rank 3: Resume 8 - Euclidean Distance: 0.7718\n",
      "Rank 4: Resume 0 - Euclidean Distance: 0.7862\n",
      "Rank 5: Resume 6 - Euclidean Distance: 0.8138\n",
      "Rank 6: Resume 10 - Euclidean Distance: 0.8145\n",
      "Rank 7: Resume 3 - Euclidean Distance: 0.8594\n",
      "Rank 8: Resume 1 - Euclidean Distance: 0.8842\n",
      "Rank 9: Resume 2 - Euclidean Distance: 0.8923\n",
      "Rank 10: Resume 5 - Euclidean Distance: 0.9643\n"
     ]
    }
   ],
   "source": [
    "# Function to split text into chunks of max size `chunk_size`\n",
    "def split_text_into_chunks(text, chunk_size=256):\n",
    "    tokens = word_tokenize(text)\n",
    "    # Split tokens into chunks of `chunk_size`\n",
    "    chunks = [tokens[i:i + chunk_size] for i in range(0, len(tokens), chunk_size)]\n",
    "    return [' '.join(chunk) for chunk in chunks]\n",
    "\n",
    "model = SentenceTransformer('all-MiniLM-L6-v2')\n",
    "\n",
    "# Preprocess the job description\n",
    "cleaned_job_desc = preprocess_text(job_description)\n",
    "\n",
    "# Split the job description into chunks\n",
    "job_desc_chunks = split_text_into_chunks(cleaned_job_desc)\n",
    "\n",
    "job_desc_chunk_embeddings = model.encode(job_desc_chunks, show_progress_bar=True)\n",
    "\n",
    "# Aggregate the embeddings (e.g., by averaging) for the job description\n",
    "job_desc_embedding = np.mean(job_desc_chunk_embeddings, axis=0)\n",
    "\n",
    "# Function to calculate similarity for all resumes using KNN\n",
    "def calculate_knn_for_resumes(data, model, job_desc_embedding, n_neighbors=10):\n",
    "    resume_embeddings = []\n",
    "\n",
    "    for resume in data['cleaned_resume']:\n",
    "        cleaned_resume = preprocess_text(resume)\n",
    "\n",
    "        # Split the resume into chunks\n",
    "        resume_chunks = split_text_into_chunks(cleaned_resume)\n",
    "\n",
    "        # Generate embeddings for each chunk of the resume\n",
    "        resume_chunk_embeddings = model.encode(resume_chunks, show_progress_bar=True)\n",
    "\n",
    "        # Convert embeddings to a NumPy array (for efficient computation)\n",
    "        resume_chunk_embeddings = np.array(resume_chunk_embeddings)\n",
    "\n",
    "        # Aggregate the embeddings (e.g., by averaging)\n",
    "        final_resume_embedding = np.mean(resume_chunk_embeddings, axis=0)\n",
    "\n",
    "        # Add the final resume embedding to the list\n",
    "        resume_embeddings.append(final_resume_embedding)\n",
    "\n",
    "    # Convert to NumPy array\n",
    "    resume_embeddings = np.array(resume_embeddings)\n",
    "\n",
    "    # Fit KNN on resume embeddings with the job description as a query\n",
    "    knn = NearestNeighbors(n_neighbors=n_neighbors, metric='euclidean')  # Using 'euclidean' distance\n",
    "    knn.fit(resume_embeddings)\n",
    "\n",
    "    # Find the nearest neighbors based on the job description embedding\n",
    "    distances, indices = knn.kneighbors([job_desc_embedding])\n",
    "\n",
    "    return distances, indices\n",
    "\n",
    "# Assuming you have a DataFrame `Data_Science_data` containing a 'cleaned_resume' column\n",
    "distances, indices = calculate_knn_for_resumes(Data_Science_data, model, job_desc_embedding)\n",
    "\n",
    "# Print the ranking of resumes based on KNN\n",
    "print(\"Ranking of Resumes by KNN (Euclidean Distance):\")\n",
    "for rank, (idx, dist) in enumerate(zip(indices[0], distances[0]), start=1):\n",
    "    print(f\"Rank {rank}: Resume {idx} - Euclidean Distance: {dist:.4f}\")\n",
    "\n"
   ]
  },
  {
   "cell_type": "markdown",
   "id": "00c2d718-b279-46ac-84da-9f59a7a78d33",
   "metadata": {},
   "source": [
    "# edit hr text and try calculate cosin similarity with chunck the cvs"
   ]
  },
  {
   "cell_type": "code",
   "execution_count": null,
   "id": "6c88993b-1e31-430d-bc5d-1b294a4d82f1",
   "metadata": {},
   "outputs": [],
   "source": []
  },
  {
   "cell_type": "code",
   "execution_count": 240,
   "id": "ce3a099a-086e-475f-a9c5-ac8e21916df9",
   "metadata": {},
   "outputs": [],
   "source": [
    "Data_Science_data = pd.read_csv(\"Data_Science_data.csv\")"
   ]
  },
  {
   "cell_type": "code",
   "execution_count": 241,
   "id": "0585926a-8082-4cf5-ae39-6d4c28c05ae3",
   "metadata": {},
   "outputs": [],
   "source": [
    "# remove data word and nlp , ml that i put into the text \n",
    "edited_text = \"\"\"\n",
    "HR CONSULTANT       Summary       Subject matter expert in HR Applications, and  highly effective at incorporating creative solutions to achieve business objectives, and improve efficiency.  Energetic HR Business  who is self-motivated and results-driven with strong communication, , problem solving and reasoning skills.        Highlights           skills  Project management  Process improvement  Quality assurance and control  System Applications implementation  Microsoft Office Suite expert      Working independently  Strong interpersonal skills  Results-oriented  Fluent in English and Portuguese  Detail-oriented  Troubleshooting  Problem solving            Experience      HR Consultant   10/2016       Company Name   City  ,   State      HRIS - Business :   \n",
    "\n",
    "Process demand , scoping, and gathering of\n",
    "requirements for small and large scale HR projects\n",
    "  \n",
    "Prepare Business Requirement Documents after\n",
    "projects have been approved by PMO  Close the gap communication between businesses\n",
    "and IS \n",
    "\n",
    "Support and coordinate functional testing\n",
    "processes to make sure stakeholders' objectives are met  Document systems and process flows  \n",
    "\n",
    "Document and  current and future\n",
    "processes/systems  Deliver and Support user training\n",
    "  \n",
    "Process security internal control on the quarterly\n",
    "basis to assess US HR/Payroll system users.   Send recommendations, and remove/add users\n",
    "per business requests from local and global systems   \n",
    "\n",
    "Investigate, coordinate, and resolve with\n",
    "subject matter experts and/or IS regarding local and Global system issues\n",
    "\n",
    "  Request HR global system back end/portal roles\n",
    "for local HRBPs, COE and Front Office users (Americas)  \n",
    "\n",
    "Responsible to coordinate system applications\n",
    "changes and new requirements with IS       People  lead:   \n",
    "\n",
    "Run and deliver the monthly Department of Labor reports\n",
    "  \n",
    "Create, run and deliver reports that are\n",
    "outside GBS People  India's scope  \n",
    "\n",
    "Support both US Front Office, GBS India, and Americas\n",
    "Region Center of Excellence with reports and  requests          Business System Applications    02/2014   to   04/2016     Company Name   City  ,   State       Served as conduit between internal and external customers including the IS team through several HRIS projects and daily activities such as interface and  input troubleshooting   Provided expertise in business  for several HRIS projects  Acted as project lead in several HRIS projects, and supported functional testing processes to ensure that system projects meet the needs of all stakeholders  Support user acceptance testing, and user training  Coordinated communications with business and vendors  Documented and d current and future processes/systems  Identified and mapped business needs  Ensured successful project delivery according to business/vendors expectations    Accomplishments:    Implemented Red Carpet/Silkroad On boarding application for US; which improved significantly the new employees' on boarding experience and open visibility to business eliminating cumbersome manual processes  Acted as project lead for the Master  and Benefits interface projects for the in house ERP implementation project.  Worked closely with ADP and business to implement Affordable Care Act in ERP          HRIS Master  Team Lead   06/2011   to   02/2014     Company Name   City  ,   State      •\tTrained the HR Specialists to navigate and maintain new/updated system applications and processes  •\tMonitored  quality and accuracy based on local/global internal controls  •\tResponsible for working with ADP IS to implement new/changes on the HRIS system according to payroll, local and global business requirements.​  •\tRan payroll/non payroll impacting mass loads in SAP for payroll, benefits, or other business purposes.  •\tCreated and ran reports for subject matter experts  •\tCreated and ran monthly/quarterly governmental reports  •\tDesigned and documented HR workflow processes  •\tTrained US HR business partners to navigate and utilize the HR/Payroll system   Accomplishments:      Successfully lead and implemented the Workers Comp report project.   Trained the Canadian team on the Global processes for Organization Management and Personnel Administration, and Global System super users          SAP Timekeeping    05/2009   to   11/2010     Company Name   City  ,   State       Gathered all the necessary business and government requirements, including approvals to create/modify Time calculations for new sites or policy changes.  Collected all the time files according to payroll schedules for payroll processing  Processed   and reconciliation  Worked closely with business, Employees Services, and IS to resolve issues/troubleshooting       Accomplishments :   Delivered the time files\n",
    "without delay for payroll processing for around 47 sites (9,500 employees and around 1,000 contractors)  Designed and implemented solutions\n",
    "through Access and Excel advanced formulas to validate the  quality, and accuracy\n",
    "of the  and time results before transmitting the files to payroll� This replaced the manual process enabling efficiency and delivery of files timely           HR  and Applications Specialist   04/2007   to   05/2009     Company Name   City  ,   State       Supported Human Resources Shared Services and act as the subject matter expert for SAP HCM and other HR applications.  Supported Finance, Canada / US Payrolls, and Human Resources Shared Services on bi-weekly and year-end activities   Collaborated with Information Systems, Finance, Canada and US Payroll and Human Resources Business owners on Sarbanes-Oxley requirements and system/process enhancements for key areas of responsibility.  Worked closely with business process owners, smes, benefit vendors and Information Systems to ensure  flow were properly planned and managed, and ensure appropriate  quality controls and standards were developed and maintained globally.  Performed root cause , developed and managed corrective action plans.  Run and d interface error reports for Canada and US payroll systems per Sarbanes-Oxley requirements.  Work closely with process owners and Information Systems to research/ identify/ resolve any interface or  issue identified with vendors or payroll systems  Acted as a project liaison between Human Resources and Information System teams for multiple HR or payroll projects (examples: SAP HCM Compensation project, Canadian Payroll system, European Expat project, US Payroll Year End, Benefits Annual Enrollment, SAP releases)  Provided system training and support for Human Resources Shared Services employees globally for key areas of responsibility  Scheduled release calls, prepared work instructions & Knowledge Base Articles, developed and/or coordinated training for Human Resources Shared Services both locally and regionally   Articulated and identified process improvement opportunities within Human Resources   d and identify processing issues and escalated to Canada and US Payroll, Human Resources and Quality Assurance teams  Created and run Adhoc reports for all Human Resources Shared Services, Internal and External Auditors per Sarbanes-Oxley requirements   Transferred 60 auditing control activities to Quality Assurance team.  Trained new  integrity processors for Quality Assurance   Developed HR compliance reports for Asia, Europe, Canada and US through SAP and DARE systems   Developed 75 reports for external auditors, and developed  integrity and metric reports for 2008 and 2009 Benefits Annual Enrollment   Coordinated testing, meetings, training and communication for Benefits Annual Enrollment for 2008 and 2009 projects for US and Canada.  Lead the review and training of the Canadian Payroll system for all specialists and processors within HR Shared Services           Education      BBA  :   Business Administration   May 2009       Campbell University   City  ,   State  ,   US             Languages    Portuguese, Spanish and English      Skills    Advanced Excel, Access, Word, Visio, Power Point, VBA, SAP HCM, Success Factors (Compensation), Microsoft Project Management, Service Now (ASKHR), Smartsheet, Panaya, SilkRoad - Red Carpet   \n",
    "\n",
    "Skills  Advanced Excel, Access, Word, Visio, Power Point, VBA, SAP HCM, Success Factors (Compensation), Microsoft Project Management, Service Now (ASKHR), Smartsheet, Panaya, SilkRoad - Red Carpet.\"\"\"\n",
    "\n",
    "Data_Science_data.iloc[10, Data_Science_data.columns.get_loc('Resume')] = edited_text"
   ]
  },
  {
   "cell_type": "code",
   "execution_count": 242,
   "id": "c22a3898-7d1f-4dec-83e7-b0ba7b403828",
   "metadata": {},
   "outputs": [],
   "source": [
    "# Text preprocessing function\n",
    "def preprocess_text(text):\n",
    "    # Convert to lowercase\n",
    "    text = text.lower()\n",
    "    # Remove special characters (but keep numbers) keep \n",
    "    text = re.sub(r'[^a-zA-Z0-9-@\\s]', '', text)\n",
    "    # Tokenize text\n",
    "    tokens = word_tokenize(text)\n",
    "    # Remove stopwords\n",
    "    stop_words = set(stopwords.words('english'))\n",
    "    filtered_tokens = [word for word in tokens if word not in stop_words]\n",
    "    return ' '.join(filtered_tokens)"
   ]
  },
  {
   "cell_type": "code",
   "execution_count": 243,
   "id": "c4ada91a-ce97-4704-b067-81dc56269c37",
   "metadata": {},
   "outputs": [
    {
     "data": {
      "text/html": [
       "<div>\n",
       "<style scoped>\n",
       "    .dataframe tbody tr th:only-of-type {\n",
       "        vertical-align: middle;\n",
       "    }\n",
       "\n",
       "    .dataframe tbody tr th {\n",
       "        vertical-align: top;\n",
       "    }\n",
       "\n",
       "    .dataframe thead th {\n",
       "        text-align: right;\n",
       "    }\n",
       "</style>\n",
       "<table border=\"1\" class=\"dataframe\">\n",
       "  <thead>\n",
       "    <tr style=\"text-align: right;\">\n",
       "      <th></th>\n",
       "      <th>Category</th>\n",
       "      <th>Resume</th>\n",
       "      <th>chosen</th>\n",
       "      <th>cleaned_resume</th>\n",
       "    </tr>\n",
       "  </thead>\n",
       "  <tbody>\n",
       "    <tr>\n",
       "      <th>0</th>\n",
       "      <td>Data Science</td>\n",
       "      <td>Skills * Programming Languages: Python (pandas...</td>\n",
       "      <td>1</td>\n",
       "      <td>skills programming languages python pandas num...</td>\n",
       "    </tr>\n",
       "    <tr>\n",
       "      <th>1</th>\n",
       "      <td>Data Science</td>\n",
       "      <td>Education Details \\nMay 2013 to May 2017 B.E  ...</td>\n",
       "      <td>0</td>\n",
       "      <td>education details may 2013 may 2017 uit-rgpvda...</td>\n",
       "    </tr>\n",
       "    <tr>\n",
       "      <th>2</th>\n",
       "      <td>Data Science</td>\n",
       "      <td>Areas of Interest Deep Learning, Control Syste...</td>\n",
       "      <td>0</td>\n",
       "      <td>areas interest deep learning control system de...</td>\n",
       "    </tr>\n",
       "    <tr>\n",
       "      <th>3</th>\n",
       "      <td>Data Science</td>\n",
       "      <td>Skills â¢ R â¢ Python â¢ SAP HANA â¢ Table...</td>\n",
       "      <td>0</td>\n",
       "      <td>skills r python sap hana tableau sap hana sql ...</td>\n",
       "    </tr>\n",
       "    <tr>\n",
       "      <th>4</th>\n",
       "      <td>Data Science</td>\n",
       "      <td>Education Details \\n MCA   YMCAUST,  Faridabad...</td>\n",
       "      <td>0</td>\n",
       "      <td>education details mca ymcaust faridabad haryan...</td>\n",
       "    </tr>\n",
       "    <tr>\n",
       "      <th>5</th>\n",
       "      <td>Data Science</td>\n",
       "      <td>SKILLS C Basics, IOT, Python, MATLAB, Data Sci...</td>\n",
       "      <td>0</td>\n",
       "      <td>skills c basics iot python matlab data science...</td>\n",
       "    </tr>\n",
       "    <tr>\n",
       "      <th>6</th>\n",
       "      <td>Data Science</td>\n",
       "      <td>Skills â¢ Python â¢ Tableau â¢ Data Visuali...</td>\n",
       "      <td>0</td>\n",
       "      <td>skills python tableau data visualization r stu...</td>\n",
       "    </tr>\n",
       "    <tr>\n",
       "      <th>7</th>\n",
       "      <td>Data Science</td>\n",
       "      <td>Education Details \\n B.Tech   Rayat and Bahra ...</td>\n",
       "      <td>1</td>\n",
       "      <td>education details btech rayat bahra institute ...</td>\n",
       "    </tr>\n",
       "    <tr>\n",
       "      <th>8</th>\n",
       "      <td>Data Science</td>\n",
       "      <td>Personal Skills â¢ Ability to quickly grasp t...</td>\n",
       "      <td>1</td>\n",
       "      <td>personal skills ability quickly grasp technica...</td>\n",
       "    </tr>\n",
       "    <tr>\n",
       "      <th>9</th>\n",
       "      <td>Data Science</td>\n",
       "      <td>Expertise â Data and Quantitative Analysis â...</td>\n",
       "      <td>1</td>\n",
       "      <td>expertise data quantitative analysis decision ...</td>\n",
       "    </tr>\n",
       "    <tr>\n",
       "      <th>10</th>\n",
       "      <td>HR</td>\n",
       "      <td>\\nHR CONSULTANT       Summary       Subject ma...</td>\n",
       "      <td>0</td>\n",
       "      <td>hr consultant summary subject matter expert hr...</td>\n",
       "    </tr>\n",
       "  </tbody>\n",
       "</table>\n",
       "</div>"
      ],
      "text/plain": [
       "        Category                                             Resume  chosen  \\\n",
       "0   Data Science  Skills * Programming Languages: Python (pandas...       1   \n",
       "1   Data Science  Education Details \\nMay 2013 to May 2017 B.E  ...       0   \n",
       "2   Data Science  Areas of Interest Deep Learning, Control Syste...       0   \n",
       "3   Data Science  Skills â¢ R â¢ Python â¢ SAP HANA â¢ Table...       0   \n",
       "4   Data Science  Education Details \\n MCA   YMCAUST,  Faridabad...       0   \n",
       "5   Data Science  SKILLS C Basics, IOT, Python, MATLAB, Data Sci...       0   \n",
       "6   Data Science  Skills â¢ Python â¢ Tableau â¢ Data Visuali...       0   \n",
       "7   Data Science  Education Details \\n B.Tech   Rayat and Bahra ...       1   \n",
       "8   Data Science  Personal Skills â¢ Ability to quickly grasp t...       1   \n",
       "9   Data Science  Expertise â Data and Quantitative Analysis â...       1   \n",
       "10            HR  \\nHR CONSULTANT       Summary       Subject ma...       0   \n",
       "\n",
       "                                       cleaned_resume  \n",
       "0   skills programming languages python pandas num...  \n",
       "1   education details may 2013 may 2017 uit-rgpvda...  \n",
       "2   areas interest deep learning control system de...  \n",
       "3   skills r python sap hana tableau sap hana sql ...  \n",
       "4   education details mca ymcaust faridabad haryan...  \n",
       "5   skills c basics iot python matlab data science...  \n",
       "6   skills python tableau data visualization r stu...  \n",
       "7   education details btech rayat bahra institute ...  \n",
       "8   personal skills ability quickly grasp technica...  \n",
       "9   expertise data quantitative analysis decision ...  \n",
       "10  hr consultant summary subject matter expert hr...  "
      ]
     },
     "execution_count": 243,
     "metadata": {},
     "output_type": "execute_result"
    }
   ],
   "source": [
    "Data_Science_data['cleaned_resume'] = Data_Science_data['Resume'].apply(preprocess_text)\n",
    "Data_Science_data"
   ]
  },
  {
   "cell_type": "code",
   "execution_count": 244,
   "id": "e7994310-2fa4-4500-a2a3-2a04a4e7d166",
   "metadata": {},
   "outputs": [
    {
     "data": {
      "application/vnd.jupyter.widget-view+json": {
       "model_id": "3317dd4d5ede49888c31e1a168d9ac09",
       "version_major": 2,
       "version_minor": 0
      },
      "text/plain": [
       "Batches:   0%|          | 0/1 [00:00<?, ?it/s]"
      ]
     },
     "metadata": {},
     "output_type": "display_data"
    },
    {
     "data": {
      "application/vnd.jupyter.widget-view+json": {
       "model_id": "080a719039124a458cf1003e5c708b5b",
       "version_major": 2,
       "version_minor": 0
      },
      "text/plain": [
       "Batches:   0%|          | 0/1 [00:00<?, ?it/s]"
      ]
     },
     "metadata": {},
     "output_type": "display_data"
    },
    {
     "data": {
      "application/vnd.jupyter.widget-view+json": {
       "model_id": "8bf757a0a659424ca23238bdf1a0f591",
       "version_major": 2,
       "version_minor": 0
      },
      "text/plain": [
       "Batches:   0%|          | 0/1 [00:00<?, ?it/s]"
      ]
     },
     "metadata": {},
     "output_type": "display_data"
    },
    {
     "data": {
      "application/vnd.jupyter.widget-view+json": {
       "model_id": "a1a229e1209b4c1391bd864409134bd7",
       "version_major": 2,
       "version_minor": 0
      },
      "text/plain": [
       "Batches:   0%|          | 0/1 [00:00<?, ?it/s]"
      ]
     },
     "metadata": {},
     "output_type": "display_data"
    },
    {
     "data": {
      "application/vnd.jupyter.widget-view+json": {
       "model_id": "3b5e40aac6ae48719206f9f7c6a23b7d",
       "version_major": 2,
       "version_minor": 0
      },
      "text/plain": [
       "Batches:   0%|          | 0/1 [00:00<?, ?it/s]"
      ]
     },
     "metadata": {},
     "output_type": "display_data"
    },
    {
     "data": {
      "application/vnd.jupyter.widget-view+json": {
       "model_id": "af3531bde02b4bc2932b30b0bcdcd2e4",
       "version_major": 2,
       "version_minor": 0
      },
      "text/plain": [
       "Batches:   0%|          | 0/1 [00:00<?, ?it/s]"
      ]
     },
     "metadata": {},
     "output_type": "display_data"
    },
    {
     "data": {
      "application/vnd.jupyter.widget-view+json": {
       "model_id": "41fcd852bd83454181d5ac90b55c391d",
       "version_major": 2,
       "version_minor": 0
      },
      "text/plain": [
       "Batches:   0%|          | 0/1 [00:00<?, ?it/s]"
      ]
     },
     "metadata": {},
     "output_type": "display_data"
    },
    {
     "data": {
      "application/vnd.jupyter.widget-view+json": {
       "model_id": "43256d36ec7248ed8ac9a5bcc1ccb973",
       "version_major": 2,
       "version_minor": 0
      },
      "text/plain": [
       "Batches:   0%|          | 0/1 [00:00<?, ?it/s]"
      ]
     },
     "metadata": {},
     "output_type": "display_data"
    },
    {
     "data": {
      "application/vnd.jupyter.widget-view+json": {
       "model_id": "74589cc7f16f4880959e1dac9105dca1",
       "version_major": 2,
       "version_minor": 0
      },
      "text/plain": [
       "Batches:   0%|          | 0/1 [00:00<?, ?it/s]"
      ]
     },
     "metadata": {},
     "output_type": "display_data"
    },
    {
     "data": {
      "application/vnd.jupyter.widget-view+json": {
       "model_id": "0dff829ad65a45389f05fc6e8c2520ce",
       "version_major": 2,
       "version_minor": 0
      },
      "text/plain": [
       "Batches:   0%|          | 0/1 [00:00<?, ?it/s]"
      ]
     },
     "metadata": {},
     "output_type": "display_data"
    },
    {
     "data": {
      "application/vnd.jupyter.widget-view+json": {
       "model_id": "4dd349e016fe410ca3ec3dec17782a72",
       "version_major": 2,
       "version_minor": 0
      },
      "text/plain": [
       "Batches:   0%|          | 0/1 [00:00<?, ?it/s]"
      ]
     },
     "metadata": {},
     "output_type": "display_data"
    },
    {
     "data": {
      "application/vnd.jupyter.widget-view+json": {
       "model_id": "6ff0359f315f49c9a96f97e93a82bad5",
       "version_major": 2,
       "version_minor": 0
      },
      "text/plain": [
       "Batches:   0%|          | 0/1 [00:00<?, ?it/s]"
      ]
     },
     "metadata": {},
     "output_type": "display_data"
    },
    {
     "name": "stdout",
     "output_type": "stream",
     "text": [
      "Ranking of Resumes by Similarity Score:\n",
      "Rank 1: Resume 7 - Similarity Score: 0.7961\n",
      "Rank 2: Resume 8 - Similarity Score: 0.7022\n",
      "Rank 3: Resume 9 - Similarity Score: 0.6992\n",
      "Rank 4: Resume 0 - Similarity Score: 0.6721\n",
      "Rank 5: Resume 6 - Similarity Score: 0.6688\n",
      "Rank 6: Resume 1 - Similarity Score: 0.6091\n",
      "Rank 7: Resume 3 - Similarity Score: 0.6065\n",
      "Rank 8: Resume 2 - Similarity Score: 0.6019\n",
      "Rank 9: Resume 10 - Similarity Score: 0.5923\n",
      "Rank 10: Resume 5 - Similarity Score: 0.5351\n",
      "Rank 11: Resume 4 - Similarity Score: 0.4131\n"
     ]
    }
   ],
   "source": [
    "# Function to split text into chunks of max size `chunk_size`\n",
    "def split_text_into_chunks(text, chunk_size=256):\n",
    "    tokens = word_tokenize(text)\n",
    "    # Split tokens into chunks of `chunk_size`\n",
    "    chunks = [tokens[i:i + chunk_size] for i in range(0, len(tokens), chunk_size)]\n",
    "    return [' '.join(chunk) for chunk in chunks]\n",
    "\n",
    "model = SentenceTransformer('all-MiniLM-L6-v2')\n",
    "\n",
    "# Preprocess the job description\n",
    "cleaned_job_desc = preprocess_text(job_description)\n",
    "\n",
    "# Split the job description into chunks\n",
    "job_desc_chunks = split_text_into_chunks(cleaned_job_desc)\n",
    "\n",
    "job_desc_chunk_embeddings = model.encode(job_desc_chunks, show_progress_bar=True)\n",
    "\n",
    "# Aggregate the embeddings (e.g., by averaging) for the job description\n",
    "job_desc_embedding = np.mean(job_desc_chunk_embeddings, axis=0)\n",
    "\n",
    "# Function to calculate similarity for all resumes\n",
    "def calculate_similarity_for_all_resumes(data, model, job_desc_embedding):\n",
    "    similarity_scores = []\n",
    "    for resume in data['cleaned_resume']:\n",
    "        cleaned_resume = preprocess_text(resume)\n",
    "\n",
    "        # Split the resume into chunks\n",
    "        resume_chunks = split_text_into_chunks(cleaned_resume)\n",
    "\n",
    "        # Generate embeddings for each chunk of the resume\n",
    "        resume_chunk_embeddings = model.encode(resume_chunks, show_progress_bar=True)\n",
    "\n",
    "        # Convert embeddings to a NumPy array (for efficient computation)\n",
    "        resume_chunk_embeddings = np.array(resume_chunk_embeddings)\n",
    "\n",
    "        # Aggregate the embeddings (e.g., by averaging)\n",
    "        final_resume_embedding = np.mean(resume_chunk_embeddings, axis=0)\n",
    "\n",
    "        # Ensure embeddings are 2D arrays (shape: (1, embedding_dimension))\n",
    "        job_desc_embedding_2d = np.array(job_desc_embedding).reshape(1, -1)\n",
    "        final_resume_embedding_2d = np.array(final_resume_embedding).reshape(1, -1)\n",
    "\n",
    "        # Compute cosine similarity between the job description and resume embeddings\n",
    "        similarity_score = cosine_similarity(job_desc_embedding_2d, final_resume_embedding_2d)\n",
    "        similarity_scores.append(similarity_score[0][0])\n",
    "\n",
    "    return similarity_scores\n",
    "\n",
    "# Assuming you have a DataFrame `Data_Science_data` containing a 'cleaned_resume' column\n",
    "similarity_scores = calculate_similarity_for_all_resumes(Data_Science_data, model, job_desc_embedding)\n",
    "\n",
    "# Rank the resumes by similarity score in descending order\n",
    "ranked_resumes = sorted(enumerate(similarity_scores), key=lambda x: x[1], reverse=True)\n",
    "\n",
    "# Print the ranking of resumes\n",
    "print(\"Ranking of Resumes by Similarity Score:\")\n",
    "for rank, (idx, score) in enumerate(ranked_resumes, start=1):\n",
    "    print(f\"Rank {rank}: Resume {idx} - Similarity Score: {score:.4f}\")\n"
   ]
  },
  {
   "cell_type": "markdown",
   "id": "01099b47-76fb-46e1-aa39-fcf6487d349a",
   "metadata": {},
   "source": [
    "# with the hr and data ---  \n",
    "Ranking of Resumes by Similarity Score:\n",
    "Rank 1: Resume 7 - Similarity Score: 0.7961\n",
    "Rank 2: Resume 8 - Similarity Score: 0.7022\n",
    "Rank 3: Resume 9 - Similarity Score: 0.6992\n",
    "Rank 4: Resume 0 - Similarity Score: 0.6721\n",
    "Rank 5: Resume 6 - Similarity Score: 0.6688\n",
    "Rank 6: Resume 10 - Similarity Score: 0.6352\n",
    "Rank 7: Resume 1 - Similarity Score: 0.6091\n",
    "Rank 8: Resume 3 - Similarity Score: 0.6065\n",
    "Rank 9: Resume 2 - Similarity Score: 0.6019\n",
    "Rank 10: Resume 5 - Similarity Score: 0.5351\n",
    "Rank 11: Resume 4 - Similarity Score: 0.4131"
   ]
  },
  {
   "cell_type": "markdown",
   "id": "62ec2f08-c73f-4daf-a1aa-78979bdf8a0a",
   "metadata": {},
   "source": [
    "# removing the data , analysis , nlp , ml , dl\n",
    "Ranking of Resumes by Similarity Score:\n",
    "Rank 1: Resume 7 - Similarity Score: 0.7961\n",
    "Rank 2: Resume 8 - Similarity Score: 0.7022\n",
    "Rank 3: Resume 9 - Similarity Score: 0.6992\n",
    "Rank 4: Resume 0 - Similarity Score: 0.6721\n",
    "Rank 5: Resume 6 - Similarity Score: 0.6688\n",
    "Rank 6: Resume 1 - Similarity Score: 0.6091\n",
    "Rank 7: Resume 3 - Similarity Score: 0.6065\n",
    "Rank 8: Resume 2 - Similarity Score: 0.6019\n",
    "Rank 9: Resume 10 - Similarity Score: 0.5923\n",
    "Rank 10: Resume 5 - Similarity Score: 0.5351\n",
    "Rank 11: Resume 4 - Similarity Score: 0.4131"
   ]
  },
  {
   "cell_type": "markdown",
   "id": "b83d6b4e-45b7-4d69-91c6-66ae7ccd7a11",
   "metadata": {},
   "source": [
    "# edit hr text and try calculate cosin similarity with chunck the cvs with overlap"
   ]
  },
  {
   "cell_type": "code",
   "execution_count": 247,
   "id": "a7a3f236-2b86-48e3-a48b-f4dfc42921b5",
   "metadata": {},
   "outputs": [
    {
     "data": {
      "application/vnd.jupyter.widget-view+json": {
       "model_id": "86e61d7dac984ef5ad479c27184a8b98",
       "version_major": 2,
       "version_minor": 0
      },
      "text/plain": [
       "Batches:   0%|          | 0/1 [00:00<?, ?it/s]"
      ]
     },
     "metadata": {},
     "output_type": "display_data"
    },
    {
     "data": {
      "application/vnd.jupyter.widget-view+json": {
       "model_id": "18657fa6c0ef48d0a6fbaf640d8c80eb",
       "version_major": 2,
       "version_minor": 0
      },
      "text/plain": [
       "Batches:   0%|          | 0/1 [00:00<?, ?it/s]"
      ]
     },
     "metadata": {},
     "output_type": "display_data"
    },
    {
     "data": {
      "application/vnd.jupyter.widget-view+json": {
       "model_id": "f50ca1c7003e4c7abf54e14141b10f4b",
       "version_major": 2,
       "version_minor": 0
      },
      "text/plain": [
       "Batches:   0%|          | 0/1 [00:00<?, ?it/s]"
      ]
     },
     "metadata": {},
     "output_type": "display_data"
    },
    {
     "data": {
      "application/vnd.jupyter.widget-view+json": {
       "model_id": "7ab0ac0863654ff8ba876c76261f3264",
       "version_major": 2,
       "version_minor": 0
      },
      "text/plain": [
       "Batches:   0%|          | 0/1 [00:00<?, ?it/s]"
      ]
     },
     "metadata": {},
     "output_type": "display_data"
    },
    {
     "data": {
      "application/vnd.jupyter.widget-view+json": {
       "model_id": "3d40fea83b0f4ee1bb02276936cec22c",
       "version_major": 2,
       "version_minor": 0
      },
      "text/plain": [
       "Batches:   0%|          | 0/1 [00:00<?, ?it/s]"
      ]
     },
     "metadata": {},
     "output_type": "display_data"
    },
    {
     "data": {
      "application/vnd.jupyter.widget-view+json": {
       "model_id": "34a77a82649d405c976e58f258039412",
       "version_major": 2,
       "version_minor": 0
      },
      "text/plain": [
       "Batches:   0%|          | 0/1 [00:00<?, ?it/s]"
      ]
     },
     "metadata": {},
     "output_type": "display_data"
    },
    {
     "data": {
      "application/vnd.jupyter.widget-view+json": {
       "model_id": "56affe543c46482586ab25b0d8a03c6c",
       "version_major": 2,
       "version_minor": 0
      },
      "text/plain": [
       "Batches:   0%|          | 0/1 [00:00<?, ?it/s]"
      ]
     },
     "metadata": {},
     "output_type": "display_data"
    },
    {
     "data": {
      "application/vnd.jupyter.widget-view+json": {
       "model_id": "45f12a0b36c44af69e95f143cb2ea9c3",
       "version_major": 2,
       "version_minor": 0
      },
      "text/plain": [
       "Batches:   0%|          | 0/1 [00:00<?, ?it/s]"
      ]
     },
     "metadata": {},
     "output_type": "display_data"
    },
    {
     "data": {
      "application/vnd.jupyter.widget-view+json": {
       "model_id": "730f948c86a04a6b948ea305e4dc5a2e",
       "version_major": 2,
       "version_minor": 0
      },
      "text/plain": [
       "Batches:   0%|          | 0/1 [00:00<?, ?it/s]"
      ]
     },
     "metadata": {},
     "output_type": "display_data"
    },
    {
     "data": {
      "application/vnd.jupyter.widget-view+json": {
       "model_id": "240b7993950f49a2a6fabb7eb1d3697a",
       "version_major": 2,
       "version_minor": 0
      },
      "text/plain": [
       "Batches:   0%|          | 0/1 [00:00<?, ?it/s]"
      ]
     },
     "metadata": {},
     "output_type": "display_data"
    },
    {
     "data": {
      "application/vnd.jupyter.widget-view+json": {
       "model_id": "bc63e450a8e84187959d7ed0bdd9dbfd",
       "version_major": 2,
       "version_minor": 0
      },
      "text/plain": [
       "Batches:   0%|          | 0/1 [00:00<?, ?it/s]"
      ]
     },
     "metadata": {},
     "output_type": "display_data"
    },
    {
     "data": {
      "application/vnd.jupyter.widget-view+json": {
       "model_id": "a19e256de0584f69abe5f65bad21d103",
       "version_major": 2,
       "version_minor": 0
      },
      "text/plain": [
       "Batches:   0%|          | 0/1 [00:00<?, ?it/s]"
      ]
     },
     "metadata": {},
     "output_type": "display_data"
    },
    {
     "name": "stdout",
     "output_type": "stream",
     "text": [
      "Ranking of Resumes by Similarity Score:\n",
      "Rank 1: Resume 7 - Similarity Score: 0.6844\n",
      "Rank 2: Resume 8 - Similarity Score: 0.6443\n",
      "Rank 3: Resume 6 - Similarity Score: 0.6213\n",
      "Rank 4: Resume 9 - Similarity Score: 0.5911\n",
      "Rank 5: Resume 1 - Similarity Score: 0.5835\n",
      "Rank 6: Resume 5 - Similarity Score: 0.5765\n",
      "Rank 7: Resume 2 - Similarity Score: 0.5500\n",
      "Rank 8: Resume 0 - Similarity Score: 0.5461\n",
      "Rank 9: Resume 3 - Similarity Score: 0.5299\n",
      "Rank 10: Resume 10 - Similarity Score: 0.5051\n",
      "Rank 11: Resume 4 - Similarity Score: 0.3795\n"
     ]
    }
   ],
   "source": [
    "\n",
    "# Function to split text into chunks with overlap\n",
    "def split_text_into_chunks_with_overlap(text, chunk_size=256, overlap_size=50):\n",
    "    tokens = word_tokenize(text)\n",
    "    # Split tokens into chunks with overlap\n",
    "    chunks = [tokens[i:i + chunk_size] for i in range(0, len(tokens), chunk_size - overlap_size)]\n",
    "    return [' '.join(chunk) for chunk in chunks]\n",
    "\n",
    "model = SentenceTransformer('all-MiniLM-L6-v2')\n",
    "\n",
    "# Preprocess the job description\n",
    "cleaned_job_desc = preprocess_text(job_description)\n",
    "\n",
    "# Split the job description into chunks with overlap\n",
    "job_desc_chunks = split_text_into_chunks_with_overlap(cleaned_job_desc, chunk_size=256, overlap_size=100)\n",
    "\n",
    "job_desc_chunk_embeddings = model.encode(job_desc_chunks, show_progress_bar=True)\n",
    "\n",
    "# Aggregate the embeddings (e.g., by averaging) for the job description\n",
    "job_desc_embedding = np.mean(job_desc_chunk_embeddings, axis=0)\n",
    "\n",
    "# Function to calculate similarity for all resumes\n",
    "def calculate_similarity_for_all_resumes(data, model, job_desc_embedding, chunk_size=256, overlap_size=100):\n",
    "    similarity_scores = []\n",
    "    for resume in data['cleaned_resume']:\n",
    "        cleaned_resume = preprocess_text(resume)\n",
    "\n",
    "        # Split the resume into chunks with overlap\n",
    "        resume_chunks = split_text_into_chunks_with_overlap(cleaned_resume, chunk_size, overlap_size)\n",
    "\n",
    "        # Generate embeddings for each chunk of the resume\n",
    "        resume_chunk_embeddings = model.encode(resume_chunks, show_progress_bar=True)\n",
    "\n",
    "        # Convert embeddings to a NumPy array (for efficient computation)\n",
    "        resume_chunk_embeddings = np.array(resume_chunk_embeddings)\n",
    "\n",
    "        # Aggregate the embeddings (e.g., by averaging)\n",
    "        final_resume_embedding = np.mean(resume_chunk_embeddings, axis=0)\n",
    "\n",
    "        # Ensure embeddings are 2D arrays (shape: (1, embedding_dimension))\n",
    "        job_desc_embedding_2d = np.array(job_desc_embedding).reshape(1, -1)\n",
    "        final_resume_embedding_2d = np.array(final_resume_embedding).reshape(1, -1)\n",
    "\n",
    "        # Compute cosine similarity between the job description and resume embeddings\n",
    "        similarity_score = cosine_similarity(job_desc_embedding_2d, final_resume_embedding_2d)\n",
    "        similarity_scores.append(similarity_score[0][0])\n",
    "\n",
    "    return similarity_scores\n",
    "\n",
    "# Calculate similarity scores for all resumes\n",
    "similarity_scores = calculate_similarity_for_all_resumes(\n",
    "    Data_Science_data,\n",
    "    model,\n",
    "    job_desc_embedding,\n",
    "    chunk_size=256,\n",
    "    overlap_size=50\n",
    ")\n",
    "\n",
    "# Rank the resumes by similarity score in descending order\n",
    "ranked_resumes = sorted(enumerate(similarity_scores), key=lambda x: x[1], reverse=True)\n",
    "\n",
    "# Print the ranking of resumes\n",
    "print(\"Ranking of Resumes by Similarity Score:\")\n",
    "for rank, (idx, score) in enumerate(ranked_resumes, start=1):\n",
    "    print(f\"Rank {rank}: Resume {idx} - Similarity Score: {score:.4f}\")\n"
   ]
  },
  {
   "cell_type": "markdown",
   "id": "2b6053f0-1bb4-4ddf-b84e-d1064255f30a",
   "metadata": {},
   "source": [
    "over lap 50\n",
    "Ranking of Resumes by Similarity Score:\n",
    "Rank 1: Resume 7 - Similarity Score: 0.6844\n",
    "Rank 2: Resume 8 - Similarity Score: 0.6443\n",
    "Rank 3: Resume 6 - Similarity Score: 0.6213\n",
    "Rank 4: Resume 9 - Similarity Score: 0.5911\n",
    "Rank 5: Resume 1 - Similarity Score: 0.5835\n",
    "Rank 6: Resume 5 - Similarity Score: 0.5765\n",
    "Rank 7: Resume 2 - Similarity Score: 0.5500\n",
    "Rank 8: Resume 0 - Similarity Score: 0.5461\n",
    "Rank 9: Resume 3 - Similarity Score: 0.5299\n",
    "Rank 10: Resume 10 - Similarity Score: 0.5051\n",
    "Rank 11: Resume 4 - Similarity Score: 0.3795"
   ]
  },
  {
   "cell_type": "markdown",
   "id": "b1c1ea82-39a5-4632-a915-ca69a7dd7e36",
   "metadata": {},
   "source": [
    "overlap 10\n",
    "Ranking of Resumes by Similarity Score:\n",
    "Rank 1: Resume 7 - Similarity Score: 0.7162\n",
    "Rank 2: Resume 8 - Similarity Score: 0.6443\n",
    "Rank 3: Resume 6 - Similarity Score: 0.6213\n",
    "Rank 4: Resume 9 - Similarity Score: 0.6194\n",
    "Rank 5: Resume 1 - Similarity Score: 0.5835\n",
    "Rank 6: Resume 5 - Similarity Score: 0.5765\n",
    "Rank 7: Resume 2 - Similarity Score: 0.5500\n",
    "Rank 8: Resume 10 - Similarity Score: 0.5193\n",
    "Rank 9: Resume 0 - Similarity Score: 0.5147\n",
    "Rank 10: Resume 3 - Similarity Score: 0.4822\n",
    "Rank 11: Resume 4 - Similarity Score: 0.3795"
   ]
  },
  {
   "cell_type": "markdown",
   "id": "adddbe2c-e41b-41c5-ac00-05b92aa236fd",
   "metadata": {},
   "source": [
    "overlap 100\n",
    "Ranking of Resumes by Similarity Score:\n",
    "Rank 1: Resume 7 - Similarity Score: 0.7222\n",
    "Rank 2: Resume 9 - Similarity Score: 0.5929\n",
    "Rank 3: Resume 1 - Similarity Score: 0.5835\n",
    "Rank 4: Resume 5 - Similarity Score: 0.5765\n",
    "Rank 5: Resume 8 - Similarity Score: 0.5501\n",
    "Rank 6: Resume 6 - Similarity Score: 0.5461\n",
    "Rank 7: Resume 0 - Similarity Score: 0.5304\n",
    "Rank 8: Resume 3 - Similarity Score: 0.5241\n",
    "Rank 9: Resume 10 - Similarity Score: 0.5182\n",
    "Rank 10: Resume 2 - Similarity Score: 0.4728\n",
    "Rank 11: Resume 4 - Similarity Score: 0.3795"
   ]
  },
  {
   "cell_type": "code",
   "execution_count": null,
   "id": "0b94c2f8-43d7-4bee-ac25-a066cbcbc747",
   "metadata": {},
   "outputs": [],
   "source": []
  },
  {
   "cell_type": "code",
   "execution_count": null,
   "id": "e87f1d43-5d87-4483-a680-8ed7d4e33c39",
   "metadata": {},
   "outputs": [],
   "source": []
  },
  {
   "cell_type": "code",
   "execution_count": null,
   "id": "f10a7717-74e2-4991-aad3-d8973f6b4554",
   "metadata": {},
   "outputs": [],
   "source": []
  },
  {
   "cell_type": "code",
   "execution_count": null,
   "id": "012e77a4-a5e7-4b23-9f2f-e395286de87f",
   "metadata": {},
   "outputs": [],
   "source": []
  },
  {
   "cell_type": "markdown",
   "id": "b07eecdd-f5cb-4820-887c-a71ecfc09eea",
   "metadata": {
    "jp-MarkdownHeadingCollapsed": true
   },
   "source": [
    "# SVM"
   ]
  },
  {
   "cell_type": "code",
   "execution_count": 98,
   "id": "2bce60b0-dac7-4910-ab2a-baa06f59c2e1",
   "metadata": {},
   "outputs": [
    {
     "data": {
      "text/html": [
       "<div>\n",
       "<style scoped>\n",
       "    .dataframe tbody tr th:only-of-type {\n",
       "        vertical-align: middle;\n",
       "    }\n",
       "\n",
       "    .dataframe tbody tr th {\n",
       "        vertical-align: top;\n",
       "    }\n",
       "\n",
       "    .dataframe thead th {\n",
       "        text-align: right;\n",
       "    }\n",
       "</style>\n",
       "<table border=\"1\" class=\"dataframe\">\n",
       "  <thead>\n",
       "    <tr style=\"text-align: right;\">\n",
       "      <th></th>\n",
       "      <th>Category</th>\n",
       "      <th>Resume</th>\n",
       "      <th>chosen</th>\n",
       "      <th>cleaned_resume</th>\n",
       "    </tr>\n",
       "  </thead>\n",
       "  <tbody>\n",
       "    <tr>\n",
       "      <th>0</th>\n",
       "      <td>Data Science</td>\n",
       "      <td>Skills * Programming Languages: Python (pandas...</td>\n",
       "      <td>1</td>\n",
       "      <td>skills programming languages python pandas num...</td>\n",
       "    </tr>\n",
       "    <tr>\n",
       "      <th>1</th>\n",
       "      <td>Data Science</td>\n",
       "      <td>Education Details \\nMay 2013 to May 2017 B.E  ...</td>\n",
       "      <td>0</td>\n",
       "      <td>education details may 2013 may 2017 uit-rgpvda...</td>\n",
       "    </tr>\n",
       "    <tr>\n",
       "      <th>2</th>\n",
       "      <td>Data Science</td>\n",
       "      <td>Areas of Interest Deep Learning, Control Syste...</td>\n",
       "      <td>0</td>\n",
       "      <td>areas interest deep learning control system de...</td>\n",
       "    </tr>\n",
       "    <tr>\n",
       "      <th>3</th>\n",
       "      <td>Data Science</td>\n",
       "      <td>Skills â¢ R â¢ Python â¢ SAP HANA â¢ Table...</td>\n",
       "      <td>0</td>\n",
       "      <td>skills r python sap hana tableau sap hana sql ...</td>\n",
       "    </tr>\n",
       "    <tr>\n",
       "      <th>4</th>\n",
       "      <td>Data Science</td>\n",
       "      <td>Education Details \\n MCA   YMCAUST,  Faridabad...</td>\n",
       "      <td>0</td>\n",
       "      <td>education details mca ymcaust faridabad haryan...</td>\n",
       "    </tr>\n",
       "    <tr>\n",
       "      <th>5</th>\n",
       "      <td>Data Science</td>\n",
       "      <td>SKILLS C Basics, IOT, Python, MATLAB, Data Sci...</td>\n",
       "      <td>0</td>\n",
       "      <td>skills c basics iot python matlab data science...</td>\n",
       "    </tr>\n",
       "    <tr>\n",
       "      <th>6</th>\n",
       "      <td>Data Science</td>\n",
       "      <td>Skills â¢ Python â¢ Tableau â¢ Data Visuali...</td>\n",
       "      <td>0</td>\n",
       "      <td>skills python tableau data visualization r stu...</td>\n",
       "    </tr>\n",
       "    <tr>\n",
       "      <th>7</th>\n",
       "      <td>Data Science</td>\n",
       "      <td>Education Details \\n B.Tech   Rayat and Bahra ...</td>\n",
       "      <td>1</td>\n",
       "      <td>education details btech rayat bahra institute ...</td>\n",
       "    </tr>\n",
       "    <tr>\n",
       "      <th>8</th>\n",
       "      <td>Data Science</td>\n",
       "      <td>Personal Skills â¢ Ability to quickly grasp t...</td>\n",
       "      <td>1</td>\n",
       "      <td>personal skills ability quickly grasp technica...</td>\n",
       "    </tr>\n",
       "    <tr>\n",
       "      <th>9</th>\n",
       "      <td>Data Science</td>\n",
       "      <td>Expertise â Data and Quantitative Analysis â...</td>\n",
       "      <td>1</td>\n",
       "      <td>expertise data quantitative analysis decision ...</td>\n",
       "    </tr>\n",
       "    <tr>\n",
       "      <th>10</th>\n",
       "      <td>HR</td>\n",
       "      <td>\\nHR CONSULTANT       Summary       Subject ma...</td>\n",
       "      <td>0</td>\n",
       "      <td>hr consultant summary subject matter expert hr...</td>\n",
       "    </tr>\n",
       "  </tbody>\n",
       "</table>\n",
       "</div>"
      ],
      "text/plain": [
       "        Category                                             Resume  chosen  \\\n",
       "0   Data Science  Skills * Programming Languages: Python (pandas...       1   \n",
       "1   Data Science  Education Details \\nMay 2013 to May 2017 B.E  ...       0   \n",
       "2   Data Science  Areas of Interest Deep Learning, Control Syste...       0   \n",
       "3   Data Science  Skills â¢ R â¢ Python â¢ SAP HANA â¢ Table...       0   \n",
       "4   Data Science  Education Details \\n MCA   YMCAUST,  Faridabad...       0   \n",
       "5   Data Science  SKILLS C Basics, IOT, Python, MATLAB, Data Sci...       0   \n",
       "6   Data Science  Skills â¢ Python â¢ Tableau â¢ Data Visuali...       0   \n",
       "7   Data Science  Education Details \\n B.Tech   Rayat and Bahra ...       1   \n",
       "8   Data Science  Personal Skills â¢ Ability to quickly grasp t...       1   \n",
       "9   Data Science  Expertise â Data and Quantitative Analysis â...       1   \n",
       "10            HR  \\nHR CONSULTANT       Summary       Subject ma...       0   \n",
       "\n",
       "                                       cleaned_resume  \n",
       "0   skills programming languages python pandas num...  \n",
       "1   education details may 2013 may 2017 uit-rgpvda...  \n",
       "2   areas interest deep learning control system de...  \n",
       "3   skills r python sap hana tableau sap hana sql ...  \n",
       "4   education details mca ymcaust faridabad haryan...  \n",
       "5   skills c basics iot python matlab data science...  \n",
       "6   skills python tableau data visualization r stu...  \n",
       "7   education details btech rayat bahra institute ...  \n",
       "8   personal skills ability quickly grasp technica...  \n",
       "9   expertise data quantitative analysis decision ...  \n",
       "10  hr consultant summary subject matter expert hr...  "
      ]
     },
     "execution_count": 98,
     "metadata": {},
     "output_type": "execute_result"
    }
   ],
   "source": [
    "Data_Science_data"
   ]
  },
  {
   "cell_type": "code",
   "execution_count": 185,
   "id": "f4fd171e-589c-4eaa-804e-58050bdba26c",
   "metadata": {},
   "outputs": [],
   "source": [
    "job_description = \"\"\"\n",
    "Job Title: AI Engineer\n",
    "\n",
    "Job Type: Full-Time\n",
    "\n",
    "Location: Remote\n",
    "\n",
    "About us:\n",
    "micro1 connects exceptional talent to transformative projects. We’re here to provide not just a job, but a platform for you to grow and achieve your career goals. We're proud to work with trusted partners such as Deel, Immutable, O’Gara, and LegalSoft.\n",
    "\n",
    "What We Offer:\n",
    "Work from anywhere\n",
    "Healthcare reimbursement\n",
    "Wi-Fi reimbursement\n",
    "Unlimited learning and more.\n",
    "\n",
    "Job Summary:\n",
    "Join our dynamic team at micro1 as an AI Engineer. You'll have the opportunity to develop cutting-edge machine learning models and AI-driven solutions from anywhere in the world. This role not only offers the chance to work on impactful projects but also provides a supportive environment focused on your career growth.\n",
    "\n",
    "Key Responsibilities:\n",
    "Develop and optimize deep learning models using frameworks like PyTorch and TensorFlow.\n",
    "Collaborate closely with product teams to integrate AI solutions seamlessly.\n",
    "Design and implement Natural Language Processing (NLP) solutions to enhance user experience.\n",
    "Conduct thorough testing and validation of machine learning models.\n",
    "Stay updated with the latest advancements in AI and deep learning technologies.\n",
    "Document processes and findings clearly to support team knowledge sharing.\n",
    "Analyze data sets to extract meaningful insights for business applications.\n",
    "\n",
    "Required Skills and Qualifications:\n",
    "Proficiency in Deep Learning frameworks such as PyTorch and TensorFlow.\n",
    "Strong experience with Natural Language Processing (NLP) models and techniques.\n",
    "Excellent written and verbal communication skills.\n",
    "Demonstrated ability to work independently in a remote setting.\n",
    "Solid understanding of machine learning algorithms and principles.\n",
    "\n",
    "Preferred Qualifications:\n",
    "Experience with Reinforcement Learning.\n",
    "Familiarity with cloud-based AI services and deployment.\"\"\""
   ]
  },
  {
   "cell_type": "code",
   "execution_count": 186,
   "id": "0c3db022-a5f4-4226-a691-ebbbd7c53732",
   "metadata": {},
   "outputs": [
    {
     "name": "stdout",
     "output_type": "stream",
     "text": [
      "           Category                                             Resume  chosen\n",
      "0      Data Science  Skills * Programming Languages: Python (pandas...       1\n",
      "1      Data Science  Education Details \\nMay 2013 to May 2017 B.E  ...       0\n",
      "2      Data Science  Areas of Interest Deep Learning, Control Syste...       0\n",
      "3      Data Science  Skills â¢ R â¢ Python â¢ SAP HANA â¢ Table...       0\n",
      "4      Data Science  Education Details \\n MCA   YMCAUST,  Faridabad...       0\n",
      "5      Data Science  SKILLS C Basics, IOT, Python, MATLAB, Data Sci...       0\n",
      "6      Data Science  Skills â¢ Python â¢ Tableau â¢ Data Visuali...       0\n",
      "7      Data Science  Education Details \\n B.Tech   Rayat and Bahra ...       1\n",
      "8      Data Science  Personal Skills â¢ Ability to quickly grasp t...       1\n",
      "9      Data Science  Expertise â Data and Quantitative Analysis â...       1\n",
      "10               HR  \\nHR CONSULTANT       Summary       Subject ma...       0\n",
      "11  job_description  \\nJob Title: AI Engineer\\n\\nJob Type: Full-Tim...       1\n"
     ]
    }
   ],
   "source": [
    "\n",
    "new_row = {\n",
    "    \"Category\": \"job_description\",\n",
    "    \"Resume\": job_description,\n",
    "    \"chosen\": 1,\n",
    "}\n",
    "\n",
    "new_row_df = pd.DataFrame([new_row]) \n",
    "Data_Science_data = pd.concat([Data_Science_data, new_row_df], ignore_index=True)\n",
    "print(Data_Science_data)"
   ]
  },
  {
   "cell_type": "code",
   "execution_count": 187,
   "id": "2dff0ba0-4b26-4178-88d0-d6efab9dcca0",
   "metadata": {},
   "outputs": [
    {
     "data": {
      "text/html": [
       "<div>\n",
       "<style scoped>\n",
       "    .dataframe tbody tr th:only-of-type {\n",
       "        vertical-align: middle;\n",
       "    }\n",
       "\n",
       "    .dataframe tbody tr th {\n",
       "        vertical-align: top;\n",
       "    }\n",
       "\n",
       "    .dataframe thead th {\n",
       "        text-align: right;\n",
       "    }\n",
       "</style>\n",
       "<table border=\"1\" class=\"dataframe\">\n",
       "  <thead>\n",
       "    <tr style=\"text-align: right;\">\n",
       "      <th></th>\n",
       "      <th>Category</th>\n",
       "      <th>Resume</th>\n",
       "      <th>chosen</th>\n",
       "      <th>cleaned_resume</th>\n",
       "    </tr>\n",
       "  </thead>\n",
       "  <tbody>\n",
       "    <tr>\n",
       "      <th>0</th>\n",
       "      <td>Data Science</td>\n",
       "      <td>Skills * Programming Languages: Python (pandas...</td>\n",
       "      <td>1</td>\n",
       "      <td>skills programming languages python pandas num...</td>\n",
       "    </tr>\n",
       "    <tr>\n",
       "      <th>1</th>\n",
       "      <td>Data Science</td>\n",
       "      <td>Education Details \\nMay 2013 to May 2017 B.E  ...</td>\n",
       "      <td>0</td>\n",
       "      <td>education details may 2013 may 2017 uit-rgpvda...</td>\n",
       "    </tr>\n",
       "    <tr>\n",
       "      <th>2</th>\n",
       "      <td>Data Science</td>\n",
       "      <td>Areas of Interest Deep Learning, Control Syste...</td>\n",
       "      <td>0</td>\n",
       "      <td>areas interest deep learning control system de...</td>\n",
       "    </tr>\n",
       "    <tr>\n",
       "      <th>3</th>\n",
       "      <td>Data Science</td>\n",
       "      <td>Skills â¢ R â¢ Python â¢ SAP HANA â¢ Table...</td>\n",
       "      <td>0</td>\n",
       "      <td>skills r python sap hana tableau sap hana sql ...</td>\n",
       "    </tr>\n",
       "    <tr>\n",
       "      <th>4</th>\n",
       "      <td>Data Science</td>\n",
       "      <td>Education Details \\n MCA   YMCAUST,  Faridabad...</td>\n",
       "      <td>0</td>\n",
       "      <td>education details mca ymcaust faridabad haryan...</td>\n",
       "    </tr>\n",
       "    <tr>\n",
       "      <th>5</th>\n",
       "      <td>Data Science</td>\n",
       "      <td>SKILLS C Basics, IOT, Python, MATLAB, Data Sci...</td>\n",
       "      <td>0</td>\n",
       "      <td>skills c basics iot python matlab data science...</td>\n",
       "    </tr>\n",
       "    <tr>\n",
       "      <th>6</th>\n",
       "      <td>Data Science</td>\n",
       "      <td>Skills â¢ Python â¢ Tableau â¢ Data Visuali...</td>\n",
       "      <td>0</td>\n",
       "      <td>skills python tableau data visualization r stu...</td>\n",
       "    </tr>\n",
       "    <tr>\n",
       "      <th>7</th>\n",
       "      <td>Data Science</td>\n",
       "      <td>Education Details \\n B.Tech   Rayat and Bahra ...</td>\n",
       "      <td>1</td>\n",
       "      <td>education details btech rayat bahra institute ...</td>\n",
       "    </tr>\n",
       "    <tr>\n",
       "      <th>8</th>\n",
       "      <td>Data Science</td>\n",
       "      <td>Personal Skills â¢ Ability to quickly grasp t...</td>\n",
       "      <td>1</td>\n",
       "      <td>personal skills ability quickly grasp technica...</td>\n",
       "    </tr>\n",
       "    <tr>\n",
       "      <th>9</th>\n",
       "      <td>Data Science</td>\n",
       "      <td>Expertise â Data and Quantitative Analysis â...</td>\n",
       "      <td>1</td>\n",
       "      <td>expertise data quantitative analysis decision ...</td>\n",
       "    </tr>\n",
       "    <tr>\n",
       "      <th>10</th>\n",
       "      <td>HR</td>\n",
       "      <td>\\nHR CONSULTANT       Summary       Subject ma...</td>\n",
       "      <td>0</td>\n",
       "      <td>hr consultant summary subject matter expert hr...</td>\n",
       "    </tr>\n",
       "    <tr>\n",
       "      <th>11</th>\n",
       "      <td>job_description</td>\n",
       "      <td>\\nJob Title: AI Engineer\\n\\nJob Type: Full-Tim...</td>\n",
       "      <td>1</td>\n",
       "      <td>job title ai engineer job type full-time locat...</td>\n",
       "    </tr>\n",
       "  </tbody>\n",
       "</table>\n",
       "</div>"
      ],
      "text/plain": [
       "           Category                                             Resume  \\\n",
       "0      Data Science  Skills * Programming Languages: Python (pandas...   \n",
       "1      Data Science  Education Details \\nMay 2013 to May 2017 B.E  ...   \n",
       "2      Data Science  Areas of Interest Deep Learning, Control Syste...   \n",
       "3      Data Science  Skills â¢ R â¢ Python â¢ SAP HANA â¢ Table...   \n",
       "4      Data Science  Education Details \\n MCA   YMCAUST,  Faridabad...   \n",
       "5      Data Science  SKILLS C Basics, IOT, Python, MATLAB, Data Sci...   \n",
       "6      Data Science  Skills â¢ Python â¢ Tableau â¢ Data Visuali...   \n",
       "7      Data Science  Education Details \\n B.Tech   Rayat and Bahra ...   \n",
       "8      Data Science  Personal Skills â¢ Ability to quickly grasp t...   \n",
       "9      Data Science  Expertise â Data and Quantitative Analysis â...   \n",
       "10               HR  \\nHR CONSULTANT       Summary       Subject ma...   \n",
       "11  job_description  \\nJob Title: AI Engineer\\n\\nJob Type: Full-Tim...   \n",
       "\n",
       "    chosen                                     cleaned_resume  \n",
       "0        1  skills programming languages python pandas num...  \n",
       "1        0  education details may 2013 may 2017 uit-rgpvda...  \n",
       "2        0  areas interest deep learning control system de...  \n",
       "3        0  skills r python sap hana tableau sap hana sql ...  \n",
       "4        0  education details mca ymcaust faridabad haryan...  \n",
       "5        0  skills c basics iot python matlab data science...  \n",
       "6        0  skills python tableau data visualization r stu...  \n",
       "7        1  education details btech rayat bahra institute ...  \n",
       "8        1  personal skills ability quickly grasp technica...  \n",
       "9        1  expertise data quantitative analysis decision ...  \n",
       "10       0  hr consultant summary subject matter expert hr...  \n",
       "11       1  job title ai engineer job type full-time locat...  "
      ]
     },
     "execution_count": 187,
     "metadata": {},
     "output_type": "execute_result"
    }
   ],
   "source": [
    "Data_Science_data['cleaned_resume'] = Data_Science_data['Resume'].apply(preprocess_text)\n",
    "Data_Science_data"
   ]
  },
  {
   "cell_type": "code",
   "execution_count": null,
   "id": "1032b457-d8e6-4bc2-84e6-60ff9b4c8d5f",
   "metadata": {},
   "outputs": [],
   "source": []
  },
  {
   "cell_type": "code",
   "execution_count": 188,
   "id": "ab3688a6-3cfe-4de9-bb92-1a68c4149526",
   "metadata": {},
   "outputs": [
    {
     "data": {
      "application/vnd.jupyter.widget-view+json": {
       "model_id": "aa394dd17e81428e824be6f5652f305d",
       "version_major": 2,
       "version_minor": 0
      },
      "text/plain": [
       "Batches:   0%|          | 0/1 [00:00<?, ?it/s]"
      ]
     },
     "metadata": {},
     "output_type": "display_data"
    },
    {
     "name": "stdout",
     "output_type": "stream",
     "text": [
      "Top matching CVs (indices): [4, 10, 3, 0, 1]\n"
     ]
    },
    {
     "data": {
      "image/png": "[encoded data removed]",
      "text/plain": [
       "<Figure size 1000x600 with 1 Axes>"
      ]
     },
     "metadata": {},
     "output_type": "display_data"
    }
   ],
   "source": [
    "from sentence_transformers import SentenceTransformer\n",
    "import numpy as np\n",
    "from sklearn.svm import SVC\n",
    "from sklearn.decomposition import PCA\n",
    "import matplotlib.pyplot as plt\n",
    "\n",
    "# Initialize the SentenceTransformer model\n",
    "model = SentenceTransformer('all-MiniLM-L6-v2')\n",
    "\n",
    "# Assuming you have your cleaned resumes in the Data_Science_data['cleaned_resume'] column\n",
    "# Encode the resumes and the job description\n",
    "resumes = Data_Science_data['cleaned_resume'].tolist()  # CVs\n",
    "job_description = Data_Science_data.loc[11, 'cleaned_resume']  # Job description (index 11, 0-based)\n",
    "\n",
    "# Generate embeddings for resumes and job description\n",
    "resume_embeddings = model.encode(resumes, show_progress_bar=True)\n",
    "job_desc_embedding = model.encode([job_description])  # Wrap it in a list to match the input format\n",
    "\n",
    "# Append the job description embedding to the resume embeddings\n",
    "all_embeddings = np.vstack([resume_embeddings, job_desc_embedding])\n",
    "\n",
    "# Convert embeddings to a NumPy array (for efficient computation)\n",
    "all_embeddings = np.array(all_embeddings)\n",
    "\n",
    "# Labels: 1 for resumes, 0 for job description (last entry at index 11)\n",
    "labels = np.array([1] * len(resume_embeddings) + [0])  # 1 for resumes, 0 for the job description\n",
    "\n",
    "# Fit the SVM model\n",
    "svm = SVC(kernel='linear')\n",
    "svm.fit(all_embeddings, labels)\n",
    "\n",
    "# Get the decision function scores for all embeddings\n",
    "decision_scores = svm.decision_function(all_embeddings)\n",
    "\n",
    "# Get the score for the job description (which is the last element at index 11)\n",
    "job_desc_score = decision_scores[-1]  # Index 11, 0-based, so it's the last element\n",
    "\n",
    "# Find the CVs closest to the job description by sorting based on the decision scores\n",
    "cv_scores = decision_scores[:-1]  # Exclude the job description score (the last one)\n",
    "sorted_indices = sorted(range(len(cv_scores)), key=lambda i: abs(cv_scores[i] - job_desc_score), reverse=True)\n",
    "\n",
    "# Get the top 5 most similar CVs\n",
    "top_matches = sorted_indices[:5]\n",
    "\n",
    "# Print the indices of the top matching CVs\n",
    "print(\"Top matching CVs (indices):\", top_matches)\n",
    "\n",
    "# For visualizing the decision boundary and the points\n",
    "# Reduce the embeddings to 2D using PCA (for visualization purposes)\n",
    "pca = PCA(n_components=2)\n",
    "reduced_embeddings = pca.fit_transform(all_embeddings)\n",
    "\n",
    "# Get the coefficients (for plotting the hyperplane)\n",
    "coef = svm.coef_[0]\n",
    "intercept = svm.intercept_[0]\n",
    "\n",
    "# Create the decision boundary (hyperplane) equation: w1*x + w2*y + b = 0\n",
    "x_min, x_max = reduced_embeddings[:, 0].min() - 1, reduced_embeddings[:, 0].max() + 1\n",
    "y_min, y_max = reduced_embeddings[:, 1].min() - 1, reduced_embeddings[:, 1].max() + 1\n",
    "\n",
    "xx, yy = np.meshgrid(np.linspace(x_min, x_max, 50), np.linspace(y_min, y_max, 50))\n",
    "Z = coef[0] * xx + coef[1] * yy + intercept\n",
    "\n",
    "# Plotting the results\n",
    "plt.figure(figsize=(10, 6))\n",
    "\n",
    "# Plot the decision boundary\n",
    "plt.contour(xx, yy, Z, levels=[0], cmap='coolwarm', linewidths=2)\n",
    "\n",
    "# Plot the data points (resumes and job description)\n",
    "scatter = plt.scatter(reduced_embeddings[:, 0], reduced_embeddings[:, 1], c=labels, cmap='coolwarm', s=100, edgecolors='k', marker='o')\n",
    "\n",
    "# Highlight the job description\n",
    "plt.scatter(reduced_embeddings[-1, 0], reduced_embeddings[-1, 1], color='blue', label='Job Description', s=200, edgecolors='k', marker='X')\n",
    "\n",
    "# Annotate the indices of each data point\n",
    "for i, txt in enumerate(range(len(reduced_embeddings))):\n",
    "    plt.text(reduced_embeddings[i, 0] + 0.05, reduced_embeddings[i, 1] + 0.05, str(i), fontsize=9)\n",
    "\n",
    "# Add labels and title\n",
    "plt.title(\"SVM Hyperplane and Data Points\", fontsize=16)\n",
    "plt.xlabel(\"Principal Component 1\", fontsize=14)\n",
    "plt.ylabel(\"Principal Component 2\", fontsize=14)\n",
    "plt.legend(loc='best')\n",
    "plt.grid(True)\n",
    "\n",
    "# Show the plot\n",
    "plt.show()\n"
   ]
  },
  {
   "cell_type": "code",
   "execution_count": null,
   "id": "bdfee756-73f4-436b-8853-58130e9d9cfa",
   "metadata": {},
   "outputs": [],
   "source": []
  }
 ],
 "metadata": {
  "kernelspec": {
   "display_name": "Python 3 (ipykernel)",
   "language": "python",
   "name": "python3"
  },
  "language_info": {
   "codemirror_mode": {
    "name": "ipython",
    "version": 3
   },
   "file_extension": ".py",
   "mimetype": "text/x-python",
   "name": "python",
   "nbconvert_exporter": "python",
   "pygments_lexer": "ipython3",
   "version": "3.9.6"
  }
 },
 "nbformat": 4,
 "nbformat_minor": 5
}
