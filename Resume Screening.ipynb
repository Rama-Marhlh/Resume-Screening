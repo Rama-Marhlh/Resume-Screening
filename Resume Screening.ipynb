{
 "cells": [
  {
   "cell_type": "code",
   "execution_count": 87,
   "id": "649d767e-aa1b-4158-98d0-88808d707459",
   "metadata": {},
   "outputs": [
    {
     "name": "stderr",
     "output_type": "stream",
     "text": [
      "[nltk_data] Downloading package punkt to\n",
      "[nltk_data]     /Users/ramaalmrahleh/nltk_data...\n",
      "[nltk_data]   Package punkt is already up-to-date!\n",
      "[nltk_data] Downloading package stopwords to\n",
      "[nltk_data]     /Users/ramaalmrahleh/nltk_data...\n",
      "[nltk_data]   Package stopwords is already up-to-date!\n"
     ]
    },
    {
     "data": {
      "text/plain": [
       "True"
      ]
     },
     "execution_count": 87,
     "metadata": {},
     "output_type": "execute_result"
    }
   ],
   "source": [
    "import pandas as pd\n",
    "import matplotlib.pyplot as plt\n",
    "import seaborn as sns\n",
    "import numpy as np\n",
    "import re\n",
    "from nltk.corpus import stopwords\n",
    "from nltk.tokenize import word_tokenize\n",
    "from sentence_transformers import SentenceTransformer\n",
    "\n",
    "# Download stopwords \n",
    "import nltk\n",
    "nltk.download('punkt')\n",
    "nltk.download('stopwords')"
   ]
  },
  {
   "cell_type": "code",
   "execution_count": 99,
   "id": "ad82a24c-794d-4ce3-b4de-96116b2eeda6",
   "metadata": {},
   "outputs": [],
   "source": [
    "data = pd.read_csv(\"Resume.csv\")"
   ]
  },
  {
   "cell_type": "code",
   "execution_count": 100,
   "id": "57558a0b-6683-4c47-8be6-94c69adab8a5",
   "metadata": {},
   "outputs": [
    {
     "data": {
      "text/html": [
       "<div>\n",
       "<style scoped>\n",
       "    .dataframe tbody tr th:only-of-type {\n",
       "        vertical-align: middle;\n",
       "    }\n",
       "\n",
       "    .dataframe tbody tr th {\n",
       "        vertical-align: top;\n",
       "    }\n",
       "\n",
       "    .dataframe thead th {\n",
       "        text-align: right;\n",
       "    }\n",
       "</style>\n",
       "<table border=\"1\" class=\"dataframe\">\n",
       "  <thead>\n",
       "    <tr style=\"text-align: right;\">\n",
       "      <th></th>\n",
       "      <th>ID</th>\n",
       "      <th>Resume_str</th>\n",
       "      <th>Resume_html</th>\n",
       "      <th>Category</th>\n",
       "    </tr>\n",
       "  </thead>\n",
       "  <tbody>\n",
       "    <tr>\n",
       "      <th>0</th>\n",
       "      <td>16852973</td>\n",
       "      <td>HR ADMINISTRATOR/MARKETING ASSOCIATE\\...</td>\n",
       "      <td>&lt;div class=\"fontsize fontface vmargins hmargin...</td>\n",
       "      <td>HR</td>\n",
       "    </tr>\n",
       "    <tr>\n",
       "      <th>1</th>\n",
       "      <td>22323967</td>\n",
       "      <td>HR SPECIALIST, US HR OPERATIONS      ...</td>\n",
       "      <td>&lt;div class=\"fontsize fontface vmargins hmargin...</td>\n",
       "      <td>HR</td>\n",
       "    </tr>\n",
       "    <tr>\n",
       "      <th>2</th>\n",
       "      <td>33176873</td>\n",
       "      <td>HR DIRECTOR       Summary      Over 2...</td>\n",
       "      <td>&lt;div class=\"fontsize fontface vmargins hmargin...</td>\n",
       "      <td>HR</td>\n",
       "    </tr>\n",
       "    <tr>\n",
       "      <th>3</th>\n",
       "      <td>27018550</td>\n",
       "      <td>HR SPECIALIST       Summary    Dedica...</td>\n",
       "      <td>&lt;div class=\"fontsize fontface vmargins hmargin...</td>\n",
       "      <td>HR</td>\n",
       "    </tr>\n",
       "    <tr>\n",
       "      <th>4</th>\n",
       "      <td>17812897</td>\n",
       "      <td>HR MANAGER         Skill Highlights  ...</td>\n",
       "      <td>&lt;div class=\"fontsize fontface vmargins hmargin...</td>\n",
       "      <td>HR</td>\n",
       "    </tr>\n",
       "    <tr>\n",
       "      <th>...</th>\n",
       "      <td>...</td>\n",
       "      <td>...</td>\n",
       "      <td>...</td>\n",
       "      <td>...</td>\n",
       "    </tr>\n",
       "    <tr>\n",
       "      <th>2479</th>\n",
       "      <td>99416532</td>\n",
       "      <td>RANK: SGT/E-5 NON- COMMISSIONED OFFIC...</td>\n",
       "      <td>&lt;div class=\"fontsize fontface vmargins hmargin...</td>\n",
       "      <td>AVIATION</td>\n",
       "    </tr>\n",
       "    <tr>\n",
       "      <th>2480</th>\n",
       "      <td>24589765</td>\n",
       "      <td>GOVERNMENT RELATIONS, COMMUNICATIONS ...</td>\n",
       "      <td>&lt;div class=\"fontsize fontface vmargins hmargin...</td>\n",
       "      <td>AVIATION</td>\n",
       "    </tr>\n",
       "    <tr>\n",
       "      <th>2481</th>\n",
       "      <td>31605080</td>\n",
       "      <td>GEEK SQUAD AGENT         Professional...</td>\n",
       "      <td>&lt;div class=\"fontsize fontface vmargins hmargin...</td>\n",
       "      <td>AVIATION</td>\n",
       "    </tr>\n",
       "    <tr>\n",
       "      <th>2482</th>\n",
       "      <td>21190805</td>\n",
       "      <td>PROGRAM DIRECTOR / OFFICE MANAGER    ...</td>\n",
       "      <td>&lt;div class=\"fontsize fontface vmargins hmargin...</td>\n",
       "      <td>AVIATION</td>\n",
       "    </tr>\n",
       "    <tr>\n",
       "      <th>2483</th>\n",
       "      <td>37473139</td>\n",
       "      <td>STOREKEEPER II       Professional Sum...</td>\n",
       "      <td>&lt;div class=\"fontsize fontface vmargins hmargin...</td>\n",
       "      <td>AVIATION</td>\n",
       "    </tr>\n",
       "  </tbody>\n",
       "</table>\n",
       "<p>2484 rows × 4 columns</p>\n",
       "</div>"
      ],
      "text/plain": [
       "            ID                                         Resume_str  \\\n",
       "0     16852973           HR ADMINISTRATOR/MARKETING ASSOCIATE\\...   \n",
       "1     22323967           HR SPECIALIST, US HR OPERATIONS      ...   \n",
       "2     33176873           HR DIRECTOR       Summary      Over 2...   \n",
       "3     27018550           HR SPECIALIST       Summary    Dedica...   \n",
       "4     17812897           HR MANAGER         Skill Highlights  ...   \n",
       "...        ...                                                ...   \n",
       "2479  99416532           RANK: SGT/E-5 NON- COMMISSIONED OFFIC...   \n",
       "2480  24589765           GOVERNMENT RELATIONS, COMMUNICATIONS ...   \n",
       "2481  31605080           GEEK SQUAD AGENT         Professional...   \n",
       "2482  21190805           PROGRAM DIRECTOR / OFFICE MANAGER    ...   \n",
       "2483  37473139           STOREKEEPER II       Professional Sum...   \n",
       "\n",
       "                                            Resume_html  Category  \n",
       "0     <div class=\"fontsize fontface vmargins hmargin...        HR  \n",
       "1     <div class=\"fontsize fontface vmargins hmargin...        HR  \n",
       "2     <div class=\"fontsize fontface vmargins hmargin...        HR  \n",
       "3     <div class=\"fontsize fontface vmargins hmargin...        HR  \n",
       "4     <div class=\"fontsize fontface vmargins hmargin...        HR  \n",
       "...                                                 ...       ...  \n",
       "2479  <div class=\"fontsize fontface vmargins hmargin...  AVIATION  \n",
       "2480  <div class=\"fontsize fontface vmargins hmargin...  AVIATION  \n",
       "2481  <div class=\"fontsize fontface vmargins hmargin...  AVIATION  \n",
       "2482  <div class=\"fontsize fontface vmargins hmargin...  AVIATION  \n",
       "2483  <div class=\"fontsize fontface vmargins hmargin...  AVIATION  \n",
       "\n",
       "[2484 rows x 4 columns]"
      ]
     },
     "execution_count": 100,
     "metadata": {},
     "output_type": "execute_result"
    }
   ],
   "source": [
    "data"
   ]
  },
  {
   "cell_type": "code",
   "execution_count": 102,
   "id": "f33a1617-969e-4ea4-a74b-1323b7ee9a92",
   "metadata": {},
   "outputs": [
    {
     "name": "stdout",
     "output_type": "stream",
     "text": [
      "Updated Resume for ID 17150707:\n",
      "          HR GENERALIST           Experience     04/2015   to   Current       Provide general administrative support such as preparing correspondence, forms,\n",
      "          and reports\n",
      "          Scheduling and coordinating staff meetings, maintaining meeting minutes and\n",
      "          notes\n",
      "          Generate confidential ad hoc statistical reporting data and documentation\n",
      "          regarding turnover, new hires, birthdays, anniversaries, benefits, and other\n",
      "          relevant HR metrics\n",
      "          Collect onboarding documentation to ensure benefit enrollment in a timely\n",
      "          manner and follow up with employees to ensure their electronic enrollment has\n",
      "          been processed in the HRIS portal\n",
      "          Source documentation to process new hire setups in HR systems, process\n",
      "          changes in pay rate, status, and initial/qualifying life event benefit changes\n",
      "          Establish, maintain and audit employee data and files\n",
      "          Manually process background checks entries, employment verifications, and\n",
      "          other full-cycle HR related items for onboarding and departures\n",
      "          Assist with maintenance updates to the organizational chart\n",
      "          Facilitate and assist in new hire orientation presentations\n",
      "          Maintain highest level of confidentiality and data security to protect employee\n",
      "          privacy related to employee relations issues, organizational changes, planning\n",
      "          with a strict adherence to privacy and confidentiality per company policy\n",
      "          Respond to various inquiries from internal and external stakeholders, employees,\n",
      "          management, and senior leadership team\n",
      "          Participate on several committees to enhance employee engagement, manager\n",
      "          training, and creating strategic HR initiatives.         09/2012   to   06/2014     HR Generalist    Company Name   －   City  ,   State           08/2008   to   04/2015     HR Staffing Coordinator    Company Name   －   City  ,   State      Processed background checks and drug screens on potential candidates.  Schedule interviews for Managers and candidates\n",
      "          Meet and greet potential candidates that come for onsite interviews.  Run Bi-weekly reports for the VP of Human Resources\n",
      "          Ensure all Empire markets stay in compliance with state and federal posters.  Audit new hire files for 99 different markets\n",
      "          Maintain all employee files and ensure confidentiality\n",
      "          Maintain different databases such as ADP, Payforce and Siebel\n",
      "          Conduct new hire orientation weekly\n",
      "          Manage WOTC Program for all markets\n",
      "          Inform all Office managers, HR Generalist, and HR managers about various\n",
      "          procedures to increase job efficiency\n",
      "          Answer phone and email inquiries regarding Company policies and procedures\n",
      "          Work with Recruiters on job descriptions to find qualified candidates for open\n",
      "          positions\n",
      "          Schedule employees for Sexual Harassment and EEO Basic Supervisor training\n",
      "          courses\n",
      "          Assist with various projects and meet multiple deadlines\n",
      "          Perform general administrative duties such as filing, faxing, copying, and ordering\n",
      "          offices supplies\n",
      "          Assist Corporate Recruiters with scheduling and setting up interviews\n",
      "          Assist benefits manager with enrollment for new and current employees\n",
      "          Process verification of employment for current and terminated employees.         08/2008   to   04/2015     Executive Technical Associate    Company Name   －   City  ,   State      Assist Directors, Executives, and Senior Managers with scheduling meetings and\n",
      "          calendar maintenance, monitoring voicemail and email, typing correspondence,\n",
      "          and expense reports\n",
      "          Travel between offices to assist managers with various matters\n",
      "          Maintain weekly and monthly utilization reports for department staff\n",
      "          Maintain weekly scheduling and training database within a call center\n",
      "          environment for over 100 Customer Advocates\n",
      "          Facilitate office-wide access to various systems\n",
      "          Assign and reset passwords and handle monthly database updates.  Schedule contractual and appointment time via IEX/Totalview, and monitor IEX to\n",
      "          ensure office-wide adherence, conformance and service level results are\n",
      "          received\n",
      "          Perform complex and specialized work related to the preparation, processing,\n",
      "          and maintenance of payroll\n",
      "          Generate weekly schedules in Totalview and make available for viewing in Agent\n",
      "          Webstation\n",
      "          Facilitate departmental moves and arrange new telephone extensions, cubicles,\n",
      "          and location of office space\n",
      "          Perform general administrative duties such as filing, faxing, copying, and ordering\n",
      "          offices supplies\n",
      "Strengths          Familiarity with various HRIS Systems\n",
      "          Proficient with Microsoft Office Suite\n",
      "          Attention to detail\n",
      "          Multi-tasking, data analysis, and research.          Education and Training     05/2016     MBA  :   Business Administration    Benedictine University          Business Administration            Bachelor of Arts  :   Business Administration    Benedictine University          Business Administration          Skills    administrative duties, administrative support, ADP, ad, Attention to detail, Basic, benefits, Bi, calendar maintenance, call center, copying, data analysis, databases, database, documentation, email, employee relations, expense reports, faxing, filing, forms, HRIS, Human Resources, HR, leadership, notes, meetings, access, Microsoft Office Suite, Office, Multi-tasking, organizational, payroll, policies, posters, presentations, reporting, research, Scheduling, Siebel, strategic, Supervisor, telephone, phone, typing   \n"
     ]
    }
   ],
   "source": [
    "# Verify the update\n",
    "updated_resume = data.loc[data['ID'] == 19867922, 'Resume_str'].iloc[0]\n",
    "print(\"Updated Resume for ID 17150707:\\n\", updated_resume)\n"
   ]
  },
  {
   "cell_type": "code",
   "execution_count": 91,
   "id": "61b191dd-bc9d-4c87-85fe-5fed59f7bfe5",
   "metadata": {},
   "outputs": [
    {
     "name": "stdout",
     "output_type": "stream",
     "text": [
      "<class 'pandas.core.frame.DataFrame'>\n",
      "RangeIndex: 2484 entries, 0 to 2483\n",
      "Data columns (total 4 columns):\n",
      " #   Column       Non-Null Count  Dtype \n",
      "---  ------       --------------  ----- \n",
      " 0   ID           2484 non-null   int64 \n",
      " 1   Resume_str   2484 non-null   object\n",
      " 2   Resume_html  2484 non-null   object\n",
      " 3   Category     2484 non-null   object\n",
      "dtypes: int64(1), object(3)\n",
      "memory usage: 77.8+ KB\n"
     ]
    }
   ],
   "source": [
    "data.info()"
   ]
  },
  {
   "cell_type": "code",
   "execution_count": 103,
   "id": "84486ac7-8764-4e86-b6ca-f9c9657d02f9",
   "metadata": {},
   "outputs": [],
   "source": [
    "# Remove the 'Resume_html' column\n",
    "data.drop(columns=['Resume_html'], inplace=True)"
   ]
  },
  {
   "cell_type": "code",
   "execution_count": 104,
   "id": "4dda5628-a514-4fa0-b749-0882477c1b4c",
   "metadata": {},
   "outputs": [
    {
     "data": {
      "text/html": [
       "<div>\n",
       "<style scoped>\n",
       "    .dataframe tbody tr th:only-of-type {\n",
       "        vertical-align: middle;\n",
       "    }\n",
       "\n",
       "    .dataframe tbody tr th {\n",
       "        vertical-align: top;\n",
       "    }\n",
       "\n",
       "    .dataframe thead th {\n",
       "        text-align: right;\n",
       "    }\n",
       "</style>\n",
       "<table border=\"1\" class=\"dataframe\">\n",
       "  <thead>\n",
       "    <tr style=\"text-align: right;\">\n",
       "      <th></th>\n",
       "      <th>ID</th>\n",
       "      <th>Resume_str</th>\n",
       "      <th>Category</th>\n",
       "    </tr>\n",
       "  </thead>\n",
       "  <tbody>\n",
       "    <tr>\n",
       "      <th>0</th>\n",
       "      <td>16852973</td>\n",
       "      <td>HR ADMINISTRATOR/MARKETING ASSOCIATE\\...</td>\n",
       "      <td>HR</td>\n",
       "    </tr>\n",
       "    <tr>\n",
       "      <th>1</th>\n",
       "      <td>22323967</td>\n",
       "      <td>HR SPECIALIST, US HR OPERATIONS      ...</td>\n",
       "      <td>HR</td>\n",
       "    </tr>\n",
       "    <tr>\n",
       "      <th>2</th>\n",
       "      <td>33176873</td>\n",
       "      <td>HR DIRECTOR       Summary      Over 2...</td>\n",
       "      <td>HR</td>\n",
       "    </tr>\n",
       "    <tr>\n",
       "      <th>3</th>\n",
       "      <td>27018550</td>\n",
       "      <td>HR SPECIALIST       Summary    Dedica...</td>\n",
       "      <td>HR</td>\n",
       "    </tr>\n",
       "    <tr>\n",
       "      <th>4</th>\n",
       "      <td>17812897</td>\n",
       "      <td>HR MANAGER         Skill Highlights  ...</td>\n",
       "      <td>HR</td>\n",
       "    </tr>\n",
       "    <tr>\n",
       "      <th>...</th>\n",
       "      <td>...</td>\n",
       "      <td>...</td>\n",
       "      <td>...</td>\n",
       "    </tr>\n",
       "    <tr>\n",
       "      <th>2479</th>\n",
       "      <td>99416532</td>\n",
       "      <td>RANK: SGT/E-5 NON- COMMISSIONED OFFIC...</td>\n",
       "      <td>AVIATION</td>\n",
       "    </tr>\n",
       "    <tr>\n",
       "      <th>2480</th>\n",
       "      <td>24589765</td>\n",
       "      <td>GOVERNMENT RELATIONS, COMMUNICATIONS ...</td>\n",
       "      <td>AVIATION</td>\n",
       "    </tr>\n",
       "    <tr>\n",
       "      <th>2481</th>\n",
       "      <td>31605080</td>\n",
       "      <td>GEEK SQUAD AGENT         Professional...</td>\n",
       "      <td>AVIATION</td>\n",
       "    </tr>\n",
       "    <tr>\n",
       "      <th>2482</th>\n",
       "      <td>21190805</td>\n",
       "      <td>PROGRAM DIRECTOR / OFFICE MANAGER    ...</td>\n",
       "      <td>AVIATION</td>\n",
       "    </tr>\n",
       "    <tr>\n",
       "      <th>2483</th>\n",
       "      <td>37473139</td>\n",
       "      <td>STOREKEEPER II       Professional Sum...</td>\n",
       "      <td>AVIATION</td>\n",
       "    </tr>\n",
       "  </tbody>\n",
       "</table>\n",
       "<p>2484 rows × 3 columns</p>\n",
       "</div>"
      ],
      "text/plain": [
       "            ID                                         Resume_str  Category\n",
       "0     16852973           HR ADMINISTRATOR/MARKETING ASSOCIATE\\...        HR\n",
       "1     22323967           HR SPECIALIST, US HR OPERATIONS      ...        HR\n",
       "2     33176873           HR DIRECTOR       Summary      Over 2...        HR\n",
       "3     27018550           HR SPECIALIST       Summary    Dedica...        HR\n",
       "4     17812897           HR MANAGER         Skill Highlights  ...        HR\n",
       "...        ...                                                ...       ...\n",
       "2479  99416532           RANK: SGT/E-5 NON- COMMISSIONED OFFIC...  AVIATION\n",
       "2480  24589765           GOVERNMENT RELATIONS, COMMUNICATIONS ...  AVIATION\n",
       "2481  31605080           GEEK SQUAD AGENT         Professional...  AVIATION\n",
       "2482  21190805           PROGRAM DIRECTOR / OFFICE MANAGER    ...  AVIATION\n",
       "2483  37473139           STOREKEEPER II       Professional Sum...  AVIATION\n",
       "\n",
       "[2484 rows x 3 columns]"
      ]
     },
     "execution_count": 104,
     "metadata": {},
     "output_type": "execute_result"
    }
   ],
   "source": [
    "data"
   ]
  },
  {
   "cell_type": "code",
   "execution_count": 94,
   "id": "cce11bf9-abbe-4b79-9db6-8243e81f3280",
   "metadata": {},
   "outputs": [
    {
     "name": "stderr",
     "output_type": "stream",
     "text": [
      "/var/folders/dm/y1vt4m8j43xbl9qk9zyfh22h0000gn/T/ipykernel_59661/3725897554.py:2: FutureWarning: \n",
      "\n",
      "Passing `palette` without assigning `hue` is deprecated and will be removed in v0.14.0. Assign the `x` variable to `hue` and set `legend=False` for the same effect.\n",
      "\n",
      "  sns.countplot(x=data['Category'], palette='viridis')\n"
     ]
    },
    {
     "data": {
      "image/png": "[encoded data removed]",
      "text/plain": [
       "<Figure size 1200x600 with 1 Axes>"
      ]
     },
     "metadata": {},
     "output_type": "display_data"
    }
   ],
   "source": [
    "plt.figure(figsize=(12, 6))\n",
    "sns.countplot(x=data['Category'], palette='viridis') \n",
    "plt.xticks(rotation=90)\n",
    "plt.title('Category Distribution')\n",
    "plt.show()\n"
   ]
  },
  {
   "cell_type": "code",
   "execution_count": 97,
   "id": "3dce0366-0291-4cf8-988b-837d8a546ccd",
   "metadata": {},
   "outputs": [
    {
     "data": {
      "text/plain": [
       "Category\n",
       "INFORMATION-TECHNOLOGY    120\n",
       "BUSINESS-DEVELOPMENT      120\n",
       "FINANCE                   118\n",
       "ADVOCATE                  118\n",
       "ACCOUNTANT                118\n",
       "ENGINEERING               118\n",
       "CHEF                      118\n",
       "AVIATION                  117\n",
       "FITNESS                   117\n",
       "SALES                     116\n",
       "BANKING                   115\n",
       "HEALTHCARE                115\n",
       "CONSULTANT                115\n",
       "CONSTRUCTION              112\n",
       "PUBLIC-RELATIONS          111\n",
       "HR                        110\n",
       "DESIGNER                  107\n",
       "ARTS                      103\n",
       "TEACHER                   102\n",
       "APPAREL                    97\n",
       "DIGITAL-MEDIA              96\n",
       "AGRICULTURE                63\n",
       "AUTOMOBILE                 36\n",
       "BPO                        22\n",
       "Name: count, dtype: int64"
      ]
     },
     "execution_count": 97,
     "metadata": {},
     "output_type": "execute_result"
    }
   ],
   "source": [
    "data['Category'].value_counts()"
   ]
  },
  {
   "cell_type": "code",
   "execution_count": 96,
   "id": "ba2f407c-6df9-471e-b06d-675c1396a1d4",
   "metadata": {},
   "outputs": [],
   "source": [
    "# Text preprocessing function\n",
    "def preprocess_text(text):\n",
    "    # Convert to lowercase , try upper \n",
    "    text = text.lower()\n",
    "    # Remove special characters (but keep numbers) keep \n",
    "    text = re.sub(r'[^a-zA-Z0-9\\s]', '', text)\n",
    "    # Tokenize text\n",
    "    tokens = word_tokenize(text)\n",
    "    # Remove stopwords\n",
    "    stop_words = set(stopwords.words('english'))\n",
    "    filtered_tokens = [word for word in tokens if word not in stop_words]\n",
    "    return ' '.join(filtered_tokens)"
   ]
  },
  {
   "cell_type": "code",
   "execution_count": null,
   "id": "ff07af6a-95d6-4144-9bd9-d3e2d61d4715",
   "metadata": {},
   "outputs": [],
   "source": []
  },
  {
   "cell_type": "code",
   "execution_count": 50,
   "id": "6f86f879-98a7-4632-ac3a-b7de49fa16d0",
   "metadata": {},
   "outputs": [
    {
     "data": {
      "text/html": [
       "<div>\n",
       "<style scoped>\n",
       "    .dataframe tbody tr th:only-of-type {\n",
       "        vertical-align: middle;\n",
       "    }\n",
       "\n",
       "    .dataframe tbody tr th {\n",
       "        vertical-align: top;\n",
       "    }\n",
       "\n",
       "    .dataframe thead th {\n",
       "        text-align: right;\n",
       "    }\n",
       "</style>\n",
       "<table border=\"1\" class=\"dataframe\">\n",
       "  <thead>\n",
       "    <tr style=\"text-align: right;\">\n",
       "      <th></th>\n",
       "      <th>ID</th>\n",
       "      <th>Resume_str</th>\n",
       "      <th>Category</th>\n",
       "      <th>cleaned_resume</th>\n",
       "    </tr>\n",
       "  </thead>\n",
       "  <tbody>\n",
       "    <tr>\n",
       "      <th>0</th>\n",
       "      <td>16852973</td>\n",
       "      <td>HR ADMINISTRATOR/MARKETING ASSOCIATE\\...</td>\n",
       "      <td>HR</td>\n",
       "      <td>hr administratormarketing associate hr adminis...</td>\n",
       "    </tr>\n",
       "    <tr>\n",
       "      <th>1</th>\n",
       "      <td>22323967</td>\n",
       "      <td>HR SPECIALIST, US HR OPERATIONS      ...</td>\n",
       "      <td>HR</td>\n",
       "      <td>hr specialist us hr operations summary versati...</td>\n",
       "    </tr>\n",
       "    <tr>\n",
       "      <th>2</th>\n",
       "      <td>33176873</td>\n",
       "      <td>HR DIRECTOR       Summary      Over 2...</td>\n",
       "      <td>HR</td>\n",
       "      <td>hr director summary 20 years experience recrui...</td>\n",
       "    </tr>\n",
       "    <tr>\n",
       "      <th>3</th>\n",
       "      <td>27018550</td>\n",
       "      <td>HR SPECIALIST       Summary    Dedica...</td>\n",
       "      <td>HR</td>\n",
       "      <td>hr specialist summary dedicated driven dynamic...</td>\n",
       "    </tr>\n",
       "    <tr>\n",
       "      <th>4</th>\n",
       "      <td>17812897</td>\n",
       "      <td>HR MANAGER         Skill Highlights  ...</td>\n",
       "      <td>HR</td>\n",
       "      <td>hr manager skill highlights hr skills hr depar...</td>\n",
       "    </tr>\n",
       "    <tr>\n",
       "      <th>...</th>\n",
       "      <td>...</td>\n",
       "      <td>...</td>\n",
       "      <td>...</td>\n",
       "      <td>...</td>\n",
       "    </tr>\n",
       "    <tr>\n",
       "      <th>2479</th>\n",
       "      <td>99416532</td>\n",
       "      <td>RANK: SGT/E-5 NON- COMMISSIONED OFFIC...</td>\n",
       "      <td>AVIATION</td>\n",
       "      <td>rank sgte5 non commissioned officer charge bri...</td>\n",
       "    </tr>\n",
       "    <tr>\n",
       "      <th>2480</th>\n",
       "      <td>24589765</td>\n",
       "      <td>GOVERNMENT RELATIONS, COMMUNICATIONS ...</td>\n",
       "      <td>AVIATION</td>\n",
       "      <td>government relations communications organizati...</td>\n",
       "    </tr>\n",
       "    <tr>\n",
       "      <th>2481</th>\n",
       "      <td>31605080</td>\n",
       "      <td>GEEK SQUAD AGENT         Professional...</td>\n",
       "      <td>AVIATION</td>\n",
       "      <td>geek squad agent professional profile support ...</td>\n",
       "    </tr>\n",
       "    <tr>\n",
       "      <th>2482</th>\n",
       "      <td>21190805</td>\n",
       "      <td>PROGRAM DIRECTOR / OFFICE MANAGER    ...</td>\n",
       "      <td>AVIATION</td>\n",
       "      <td>program director office manager summary highly...</td>\n",
       "    </tr>\n",
       "    <tr>\n",
       "      <th>2483</th>\n",
       "      <td>37473139</td>\n",
       "      <td>STOREKEEPER II       Professional Sum...</td>\n",
       "      <td>AVIATION</td>\n",
       "      <td>storekeeper ii professional summary purpose do...</td>\n",
       "    </tr>\n",
       "  </tbody>\n",
       "</table>\n",
       "<p>2484 rows × 4 columns</p>\n",
       "</div>"
      ],
      "text/plain": [
       "            ID                                         Resume_str  Category  \\\n",
       "0     16852973           HR ADMINISTRATOR/MARKETING ASSOCIATE\\...        HR   \n",
       "1     22323967           HR SPECIALIST, US HR OPERATIONS      ...        HR   \n",
       "2     33176873           HR DIRECTOR       Summary      Over 2...        HR   \n",
       "3     27018550           HR SPECIALIST       Summary    Dedica...        HR   \n",
       "4     17812897           HR MANAGER         Skill Highlights  ...        HR   \n",
       "...        ...                                                ...       ...   \n",
       "2479  99416532           RANK: SGT/E-5 NON- COMMISSIONED OFFIC...  AVIATION   \n",
       "2480  24589765           GOVERNMENT RELATIONS, COMMUNICATIONS ...  AVIATION   \n",
       "2481  31605080           GEEK SQUAD AGENT         Professional...  AVIATION   \n",
       "2482  21190805           PROGRAM DIRECTOR / OFFICE MANAGER    ...  AVIATION   \n",
       "2483  37473139           STOREKEEPER II       Professional Sum...  AVIATION   \n",
       "\n",
       "                                         cleaned_resume  \n",
       "0     hr administratormarketing associate hr adminis...  \n",
       "1     hr specialist us hr operations summary versati...  \n",
       "2     hr director summary 20 years experience recrui...  \n",
       "3     hr specialist summary dedicated driven dynamic...  \n",
       "4     hr manager skill highlights hr skills hr depar...  \n",
       "...                                                 ...  \n",
       "2479  rank sgte5 non commissioned officer charge bri...  \n",
       "2480  government relations communications organizati...  \n",
       "2481  geek squad agent professional profile support ...  \n",
       "2482  program director office manager summary highly...  \n",
       "2483  storekeeper ii professional summary purpose do...  \n",
       "\n",
       "[2484 rows x 4 columns]"
      ]
     },
     "execution_count": 50,
     "metadata": {},
     "output_type": "execute_result"
    }
   ],
   "source": [
    "data['cleaned_resume'] = data['Resume_str'].apply(preprocess_text)\n",
    "data"
   ]
  },
  {
   "cell_type": "code",
   "execution_count": null,
   "id": "f0073242-47f9-452b-a6ac-eddeaa0d622f",
   "metadata": {},
   "outputs": [],
   "source": []
  },
  {
   "cell_type": "code",
   "execution_count": 51,
   "id": "f8e8e332-13ab-49cb-9281-96769325b978",
   "metadata": {},
   "outputs": [],
   "source": [
    "#data.drop(columns=['Resume_str'], inplace=True)"
   ]
  },
  {
   "cell_type": "code",
   "execution_count": 105,
   "id": "3fc31587-2e45-416b-880c-a10bafe02b73",
   "metadata": {},
   "outputs": [],
   "source": [
    "# Load the pre-trained BERT model\n",
    "model = SentenceTransformer('all-MiniLM-L6-v2')\n"
   ]
  },
  {
   "cell_type": "code",
   "execution_count": null,
   "id": "0378806f-1a5b-4945-bc40-1427afac14fe",
   "metadata": {},
   "outputs": [],
   "source": []
  },
  {
   "cell_type": "code",
   "execution_count": null,
   "id": "6b8fe172-9eee-4ef4-aedb-f602102a99c0",
   "metadata": {},
   "outputs": [],
   "source": []
  },
  {
   "cell_type": "code",
   "execution_count": 106,
   "id": "64578a9e-165a-4c8a-9509-2dfa5bb4418f",
   "metadata": {},
   "outputs": [
    {
     "data": {
      "application/vnd.jupyter.widget-view+json": {
       "model_id": "c79738cb23da40989bddf0ab7c6fd4a7",
       "version_major": 2,
       "version_minor": 0
      },
      "text/plain": [
       "Batches:   0%|          | 0/78 [00:00<?, ?it/s]"
      ]
     },
     "metadata": {},
     "output_type": "display_data"
    }
   ],
   "source": [
    "# Generate BERT embeddings for resumes\n",
    "resume_embeddings = model.encode(data['Resume_str'].tolist(), show_progress_bar=True)\n",
    "\n",
    "# Convert embeddings to a NumPy array (for efficient computation)\n",
    "resume_embeddings = np.array(resume_embeddings)\n",
    "\n",
    "#The embeddings are now stored as a 2D array where:\n",
    "#Each row corresponds to a single resume.\n",
    "#Each column corresponds to a dimension of the embedding space (e.g., 768 dimensions for BERT-base)."
   ]
  },
  {
   "cell_type": "code",
   "execution_count": 107,
   "id": "d4d41347-227a-430c-824b-cb6c836c368c",
   "metadata": {},
   "outputs": [
    {
     "data": {
      "text/plain": [
       "array([[-0.04447836,  0.02122916,  0.00516216, ..., -0.02918888,\n",
       "        -0.01593215,  0.02303096],\n",
       "       [-0.05166395,  0.01624672,  0.00266194, ..., -0.07939675,\n",
       "         0.02150689,  0.06587211],\n",
       "       [-0.04784507,  0.01932192, -0.03659413, ..., -0.05162014,\n",
       "        -0.02907958,  0.06904536],\n",
       "       ...,\n",
       "       [-0.09692761, -0.04854787,  0.03496129, ...,  0.01022121,\n",
       "        -0.00914932, -0.06547123],\n",
       "       [-0.0715894 , -0.08503081,  0.03720783, ..., -0.06783954,\n",
       "        -0.00590126,  0.0110207 ],\n",
       "       [-0.05464254,  0.04835892,  0.01896026, ..., -0.04076725,\n",
       "        -0.03409773,  0.03269792]], dtype=float32)"
      ]
     },
     "execution_count": 107,
     "metadata": {},
     "output_type": "execute_result"
    }
   ],
   "source": [
    "resume_embeddings"
   ]
  },
  {
   "cell_type": "code",
   "execution_count": 108,
   "id": "a73ccc54-0446-49a3-bbe6-52c783f1a95d",
   "metadata": {},
   "outputs": [
    {
     "name": "stdout",
     "output_type": "stream",
     "text": [
      "<class 'pandas.core.frame.DataFrame'>\n",
      "RangeIndex: 2484 entries, 0 to 2483\n",
      "Data columns (total 3 columns):\n",
      " #   Column      Non-Null Count  Dtype \n",
      "---  ------      --------------  ----- \n",
      " 0   ID          2484 non-null   int64 \n",
      " 1   Resume_str  2484 non-null   object\n",
      " 2   Category    2484 non-null   object\n",
      "dtypes: int64(1), object(2)\n",
      "memory usage: 58.3+ KB\n"
     ]
    }
   ],
   "source": [
    "data.info()"
   ]
  },
  {
   "cell_type": "code",
   "execution_count": 55,
   "id": "759fa8f8-0bc1-42c2-941d-b9ebcea7e8c7",
   "metadata": {},
   "outputs": [],
   "source": [
    "job_description = \"Looking for a software engineer with expertise in Python, machine learning, and data science.\"\n",
    "\n",
    "cleaned_job_desc = preprocess_text(job_description)\n",
    "\n",
    "# Generate BERT embedding \n",
    "job_desc_embedding = model.encode([cleaned_job_desc])\n"
   ]
  },
  {
   "cell_type": "code",
   "execution_count": 62,
   "id": "6823acf2-f1c6-4de3-b5fa-a21b9cf07b70",
   "metadata": {},
   "outputs": [
    {
     "name": "stdout",
     "output_type": "stream",
     "text": [
      "            ID                                     cleaned_resume  \\\n",
      "1762  12011623  engineering quality technician career overview...   \n",
      "1717  50328713  engineering intern skills c python matlab git ...   \n",
      "\n",
      "         Category  similarity_score  \n",
      "1762  ENGINEERING          0.526398  \n",
      "1717  ENGINEERING          0.453897  \n"
     ]
    }
   ],
   "source": [
    "# cosine similarity\n",
    "similarity_scores = cosine_similarity(job_desc_embedding, resume_embeddings)\n",
    "\n",
    "# Top 2 most similar resumes\n",
    "top_2_indices = similarity_scores[0].argsort()[-2:][::-1]\n",
    "\n",
    "# Retrieve the top 2 resumes\n",
    "recommended_resumes = data.iloc[top_2_indices].copy()  # Use `.copy()` to avoid warnings\n",
    "\n",
    "# Retrieve the scores for the top 2 resumes\n",
    "top_2_scores = similarity_scores[0][top_2_indices]\n",
    "\n",
    "# Assign similarity scores explicitly using `.loc`\n",
    "recommended_resumes.loc[:, 'similarity_score'] = top_2_scores\n",
    "\n",
    "# Display the result\n",
    "print(recommended_resumes[['ID', 'cleaned_resume', 'Category', 'similarity_score']])\n",
    "\n"
   ]
  },
  {
   "cell_type": "code",
   "execution_count": 57,
   "id": "20526f0f-761f-4da7-a9ca-f847658da3b3",
   "metadata": {},
   "outputs": [
    {
     "name": "stdout",
     "output_type": "stream",
     "text": [
      "Cleaned Resume for ID 12011623:\n",
      "engineering quality technician career overview highly experienced skilled graduate analytics degree good experience sas web scraping sql predictive modelling data visualization excellent ability identifying data requirements analysis data cleaning munging model building ensures organization uses effectively reach profit growth objectives comfortable data handling modeling coding appreciation makes sense business standpoint six years experience working researcher data analyst environmental science technology instructor experience sql data warehousing maintaining securing stabilizing data layers testing identify data product defects introduced system customer segmentation product positioning mapping conjoint analysis modelling design implement statistical predictive models cutting edge algorithms utilizing diverse sources data predict diversified experience engineering manufacturing retailing higher education data related companies fascinated learning cutting edge technologies data mining machine learning handled team 4 3 years tech experience managed 200 students effectively evaluated performance student utilize assessment methods judge overall progress teaching experience qualifications ability identify uncovered information hidden data convert story communicate effectively visualization modelling using r sas python using pandas web scraping using beautiful soup python databases like oracle microsoft sql experience aspnet 45 c html statistical software like jmp spss gis visualization software like tableau ggplot r experience database design data warehousing environments modelling using random forests decision trees boosted trees etc modelling using shrinkage methods including ridge lasso elastic net regression models dimension reduction using pca outlier analysis linear regression clustering techniques logistic regression work experience 012013 012016 engineering quality technician company name city state planned performed conducted semiconductor production process development engineering designs well managed small projects prepared statements monitored project schedules identified product defects introduced data warehouse performing quality tests using sql jmp coordinated scientists engineers manager analysts understand impacts due defects provided valuable information product shipping customer satisfaction managed multiple tasks accomplished goals efficiently per schedule strong work performance meet goals department monitored adjusted semiconductor production process orand equipment improving quality productivity achieved 10 higher performance rate fiscal year 2014 provided technical support developing building testing prototypes new products processes procedures provided training advice engineering technicians applied database management data analysis methods helped enhancing production efficiency reduced costs department 5 every quarter 012007 012012 company name lecturer environmental science technology effectively engaged course curriculum development taught courses engaged research projects community services areas statistics gis natural resource management developed course material support goal course including design curriculum schedule instructions provided student guidance regards grades progress course work elected best instructor college 2008 established gis laboratory facility staff members provided technical support environmental remediation projects legal actions used sql spss managing student database analysis data 012004 012006 company name assistant lecturer natural resource management assisted teaching researching developing methods helps improving university students performance highly engaged curricular extracurricular activities community services established coordinated nature environmental protection club university developed teaching methodologies techniques added knowledge base understanding resource management preparing teaching materials handouts laboratory manuals engaged major research projects resources management undertaken collaboration universities ngos engineering consulting companies served lead colleges audiovisual center arranged workshops meetings documented academic resources education training may 2017 master science analytics university new hampshire usa analytics 4040 currently working project mapping clustering student success using clustering data mining machine learning predictive modeling techniques granite state college gsc objective project identifying factors help students become successful academic achievements finding ways improve students retention rates working unh hockey team project team 6 people predicting players performance undertaken summer project mapping clustering chicago seattle city crime could successfully classify categories 90 accuracy yitayew anteneh workineh graduate student city state april 2010 master science environmental science technology unescoihe city netherlands environmental science technology july 2004 bachelor science resource management debub university ethiopia resource management skills aspnet 45 academic clustering consulting curriculum development customer satisfaction data analysis data mining data warehouse databases database database design database management data warehousing environmental protection environmental science gis html instructor lecturer legal machine learning managing materials meetings c microsoft sql modeling natural oracle process development engineering processes progress python quality researching research sas shipping spss sql statistics tableau teaching technical support workshops\n"
     ]
    }
   ],
   "source": [
    "# Filter the resume by ID\n",
    "resume_text = data.loc[data['ID'] == 12011623, 'cleaned_resume'].values[0]\n",
    "# Print the cleaned resume\n",
    "print(\"Cleaned Resume for ID 12011623:\")\n",
    "print(resume_text)\n"
   ]
  },
  {
   "cell_type": "code",
   "execution_count": null,
   "id": "e6e0038e-bc83-4cc9-bcae-281e85ebd6d3",
   "metadata": {},
   "outputs": [],
   "source": []
  },
  {
   "cell_type": "code",
   "execution_count": null,
   "id": "a510c5eb-7f61-4fb0-abe9-06bd3dbd0c36",
   "metadata": {},
   "outputs": [],
   "source": []
  },
  {
   "cell_type": "code",
   "execution_count": null,
   "id": "13b3d1b7-f148-4f24-91b4-ebf1a7ecdf5e",
   "metadata": {},
   "outputs": [],
   "source": []
  },
  {
   "cell_type": "code",
   "execution_count": null,
   "id": "fc3d742d-abf0-41ee-9c6a-ddfead59693f",
   "metadata": {},
   "outputs": [],
   "source": []
  },
  {
   "cell_type": "code",
   "execution_count": 109,
   "id": "0044b711-b40b-40df-8425-9237e9f6299a",
   "metadata": {},
   "outputs": [],
   "source": [
    "job_description2 = \"\"\"Job Summary:\n",
    "We are looking for HR candidate - senior role at the HR department in Amman.\n",
    "Qualified candidates will have experience at the senior level and effectively manage all processes relating to employee relations, compliance, staffing, training, and culture.\n",
    "Education\n",
    "• Bachelor's degree in Human Resources Management or a business-related subject.\n",
    "\n",
    "Job Requirements:\n",
    "• Good knowledge of employment regulations.\n",
    "• Excellent knowledge of HR practices.\n",
    "• Vast working knowledge of all HR departmental areas, including reward and recognition, welfare, learning, and development, as well as HR systems and budgets.\n",
    "• Knowledge of Jordan, KSA, and UAE labor law. \n",
    "• The ability to develop and nurture relationships across departments.\n",
    "• The confidence to provide sound professional advice.\n",
    "• The ability to lead the development of effective employment policies.\n",
    "• Excellent knowledge and understanding of regulations, accepted professional standards, policies, procedures, and legislation.\n",
    "• The ability to analyze and review HR data to identify trends.\n",
    "• Candidates should have high negotiation and strong persuasive skills with the customers.\n",
    "\n",
    "Duties & responsibilities:\n",
    "• Provide reports on all areas of HR, onboarding, payroll, learning and development, HR policy, best practices, and workforce development.\n",
    "• Advise and strategize on developing effective employment policies across the company. \n",
    "• Provide professional leadership, support, and development to HR staff to increase knowledge, share best practices, and ensure that relevant professional standards are met.\n",
    "• Ensure that the company complies with current regulations, accepted professional standards, policies and procedures, and legislation\n",
    "• Manage the execution of the HR strategy and core areas of the HR department, including recruitment, employee relations, workforce administration, employee engagement, payroll, reward, and recognition, as well as maintaining and improving HR systems and management of the HR budget. \n",
    "• Drive the continuous improvement agenda with a focus on engagement & welfare activities, maximizing productivity, devolving HR responsibilities to line managers, and building leadership capability.\n",
    "• Ensure managers are sufficiently skilled and enabled to access appropriate guidance and information to manage workforce issues.\n",
    "Minimum Requirements:\n",
    "\n",
    "• 5–7 years of experience in the HR role.\n",
    "• A pro-active attitude and a passion for leading with integrity.\n",
    "• Experience in managing a skilled team and making quick but rational decisions.\n",
    "• Good time management skills and the ability to prioritize, problem-solve, and use your initiative.\n",
    "• Fluent in English & Arabic is a must\n",
    "Knowledge, Skills, Attitude:\n",
    "• Self-disciplined\n",
    "• Able to solve problems in a positive manner in short time\n",
    "• Strong persuasive skills and ability to exercise influence beyond the direct authority\n",
    "• Presentable and good general communication skills\n",
    "• Able to work in a fast-paced environment.\n",
    "\n",
    "Employment Type\n",
    "• Full-time\"\"\"\n",
    "# Preprocess the job description\n",
    "cleaned_job_desc2 = preprocess_text(job_description2)\n",
    "\n",
    "# Generate BERT embedding for the job description\n",
    "job_desc_embedding2 = model.encode([cleaned_job_desc2])\n"
   ]
  },
  {
   "cell_type": "code",
   "execution_count": 111,
   "id": "4c1824a2-c583-4df3-8001-a199fdee39e9",
   "metadata": {},
   "outputs": [
    {
     "name": "stdout",
     "output_type": "stream",
     "text": [
      "            ID                                         Resume_str    Category  \\\n",
      "17    24184357           HR DIRECTOR           Summary    Huma...          HR   \n",
      "1170  27726066           CONSULTANT           Summary    HR Pr...  CONSULTANT   \n",
      "\n",
      "      similarity_score  \n",
      "17            0.722440  \n",
      "1170          0.712201  \n"
     ]
    }
   ],
   "source": [
    "# Compute cosine similarity\n",
    "similarity_scores2 = cosine_similarity(job_desc_embedding2, resume_embeddings)\n",
    "\n",
    "# Top 2 most similar resumes\n",
    "top_2_indices2 = similarity_scores2[0].argsort()[-2:][::-1]\n",
    "\n",
    "# Retrieve the top 2 resumes\n",
    "recommended_resumes2 = data.iloc[top_2_indices2].copy()  # Use `.copy()` to avoid warnings\n",
    "\n",
    "# Retrieve the scores for the top 2 resumes\n",
    "top_2_scores2 = similarity_scores2[0][top_2_indices2]\n",
    "\n",
    "# Assign similarity scores explicitly using `.loc`\n",
    "recommended_resumes2.loc[:, 'similarity_score'] = top_2_scores2\n",
    "\n",
    "# Display the result\n",
    "print(recommended_resumes2[['ID', 'Resume_str', 'Category', 'similarity_score']])\n"
   ]
  },
  {
   "cell_type": "code",
   "execution_count": 112,
   "id": "294c34f2-bf1a-4ddc-8ae5-3844d2ff60f4",
   "metadata": {},
   "outputs": [
    {
     "name": "stdout",
     "output_type": "stream",
     "text": [
      "Updated Resume for ID 17150707:\n",
      "          HR DIRECTOR           Summary    Human Resource Professional\n",
      "Confident, Resourceful Human Resources professional, with academic background in human  resources management and hands-on experience hiring, training, orientating, and developing employees that currently serve in a one person role managing 63 employees for a fast growing organization.      Highlights          Analytical Skills\t\tGood Interpersonal Skills\t\tOrganizational Skills\t\tCommunication Skills  Recruiting and Staffing\tPerformance Management \t\tEmployee Relations\t\tSelection/Recruiting  Employee Orientation\tTraining & Development\t\tPolicy & Procedure Writing\tDetail Organization  Staff Supervision\t\tEmployee Records System\t\tOn-the-job Training\t\tJob Analysis  Cold Calling\t\tInternet Sourcing\t\t\tCompensation\t\t\tLabor Laws  Labor Policies\t\tEqual Employment Opportunity\tInterviewing\t\t\tDiscipline Issues  Social Networking\tRecruitment Advertising\t\tCampus Recruiting\t\tOSHA Standards  Employee Grievance\tEmployee Verification\t\tScreen/Schedule Candidates\tCommunity Outreach  Computer Skills  Microsoft Office Word\tExcel\t\tOutlook\t   PowerPoint\t \t   Publisher\t    Health Care IS  HRIS Systems\t\tPeopleSoft\tChild Care IS\t   Day Care Software\t   QuickBooks\t    Data Input              Accomplishments     Devised a successful recruiting plan for my employer, which resulted in 25 new employees in 2-months.       Experience      Company Name     January 2014   to   January 2015     HR Director     State      Communicate orally and written with children, parents, staff, volunteers, guardians, therapist, case workers with a variety of economic backgrounds, with clear and precise understanding withholding confidential or sensitive information with discretion.  Develop, implement, and monitor training programs suitable for employee retention.  Skilled in identifying problems, and determining accurate and relevance of information, by using sound judgment to generate and evaluate an alternative while making a decision.  Develop policies and procedures, to include researching, drafting, editing and revising according to the federal, state, and county laws as well as assuring these policies and procedures are met.  Pre-screen to ensure candidate is a strong fit for the position by matching individuals skills with the needs of the organization.  Knowledge of federal laws eligibility status and procedures pertaining to the full array of benefits in order to provide advice and support to claimants.  Provide facility with classroom training, demonstrations, on-the-job training, meetings, conferences, and workshops and leadership development education.  Ability to interpret and analyze material and make well adjusted decisions from the analysis.  Hiring staff and managing the overall image of the facility; developing job descriptions, interviewing candidates, maintaining staff development and education and, as well as, managing disciplinary processes.  Ability to work with individuals to access needs, provide assistant, resolve problems, as well as satisfy any expectations.  Ability to use data input software, methods, and procedures to meet the needs of the consumer; input and data retrieval and provide correspondences.  Enter employee data accurately and efficiently into recruiting database; employee sick leave, vacation, work hours, pay, and annual leave.  Served as Liaison between the agency and media/ advertising/sponsorships Create a budget and provide budget reports for events.  Coordinates and administers the new hire on-boarding process.  This includes ensuring all new hires have gone through all pre-employment requirements, maintains contact through the process with new hires and greets and reviews first day requirements with new hires and conducts new hire orientation.  Responsible for operational and technical HR duties to include: computer entry and file maintenance; new hire orientation; maintenance of confidential personnel files and personnel actions in compliance with applicable legal requirements; maintain computer employee data information; miscellaneous employee requests; assist in exit process.  Makes copies, faxes documents, prepares and processes mail and performs other clerical functions.  Review for accuracy and completeness all data and documents required to process new hires, pay transactions, terminations, leave of absences, and other employee transactions for employees.  Ensure that the appropriate forms and documents have been initiated for all of these transactions in a timely manner.  Contributes to team efforts by accomplishing related results in a cooperative and supportive manner.  Reviewing current organizational effectiveness and making recommendations for improvements.  Answers routine payroll/Kronos questions for managers and employees, and assists with problem solving.  Acts as a liaison between employees and the service center to resolve problems and clarify questions or concerns Facilitate updates and random notifications for drug testing programs Responsible for overseeing personnel functions including compensation, benefits administration, FMLA, and compliance with Federal/State employment regulations.  Works collaboratively with the management team to solve problems, set directions, and respond to health care business challenges.  Ensures the development of departmental plans, goals, mission, policies/procedures, and budget.  Managing and motivating staff to increase productivity and ensure business efficiency.  Practices open-door policy to encourage employees to discuss grievances.  Facilitates peer-to-peer and employee-manager discussion/mediations.  Recommends and facilitates employee recognition, efforts, and events.  Analyzed employment-related data and prepared required reports.  Developed creative recruiting strategies that met anticipated staffing needs.  Managed all phases of recruitment, including defining hiring management needs and posting available positions.  Contacted all job applicants to inform them of their application status.  Thoroughly explained the employee handbook during new employee orientations.  Conducted more than 60 interviews.  Conducted reference and background checks on all job applicants.          Company Name     January 2010   to   January 2014     Administrator\t\tFarrow     State            Company Name     January 2005   to   January 2008     Event Specialist     State            Company Name     January 1996   to   January 2005     Assistant Director     State      South Carolina Notary Public.  CPR and First Aid.          Education      Webster University     2015       Financial Accounting * Managerial Accounting * Business Statistics * Business Law * Business Applications/Software * Finance * Business Communications * Business Management * Marketing * Marketing\n",
      "*Management * Quantitative Methods * Human Resources Management * Contemporary Issues In Management * Organizational Theory * Business Policy * International Business * Production Management * Microeconomics * Macroeconomics * Labor Relations * Accounting Information Systems * Entrepreneurship.  :   Human Resources Management / Management and Leadership    GPA:   GPA: 3.45    GPA: 3.45 Human Resources Management / Management and Leadership Managing Human Resource * Organizational Behavior * Basic Finance for Managers * Training and Development *\n",
      "Employment Law * Staffing and Selection * Compensation * Labor-Management Relations *Integrated Studies in Human Resource Management * Management * Management and Strategy * Managerial Leadership * Organization Development and Change * Integrated Studies in Management.        Benedict College     2013       BS  :   Business Administration Business    GPA:   Management Honors Graduate Cum Laude GPA: 3.5    Business Administration Management Honors Graduate Cum Laude GPA: 3.5 Business        Skills     Accounting, Advertising, Analytical Skills, agency, Basic, benefits, benefits administration, budget, Business Communications, Business Law, Business Management, Child Care, clarify, clerical, Cold Calling, Communication Skills, Interpersonal Skills, conferences, Makes copies, CPR, database, drafting, editing, Employee Relations, faxes documents, Finance, Financial Accounting, First Aid, forms, Government, Hiring, HRIS, Human Resource Management, Human Resource, HR, Human Resources Management, image, Information Systems, International Business, Job Analysis, Kronos, Labor Relations, Leadership, leadership development, Law, legal, Managerial, Managing, Managerial Accounting, Marketing, meetings, access, Excel, mail, Microsoft Office, Outlook, PowerPoint, Publisher, Word, Works, Negotiations, Networking, Notary Public, Organization Development, Organizational Skills, Organizational, payroll, PeopleSoft, Performance Management, personnel, Policies, Develop policies, Pricing, problem solving, Procedure Writing, processes, Procurement, Production Management, QuickBooks, file maintenance, Recruiting, Recruitment, researching, sound, staff development, Staff Supervision, Staffing, Statistics, Strategy, training programs, workshops, written    \n"
     ]
    }
   ],
   "source": [
    "updated_resume = data.loc[data['ID'] == 24184357, 'Resume_str'].iloc[0]\n",
    "print(\"Updated Resume for ID 17150707:\\n\", updated_resume)"
   ]
  },
  {
   "cell_type": "code",
   "execution_count": 67,
   "id": "b651f357-2855-4c68-8bfe-4f16d38ba66c",
   "metadata": {},
   "outputs": [
    {
     "name": "stdout",
     "output_type": "stream",
     "text": [
      "           ID                                     cleaned_resume  Category  \\\n",
      "4    17812897  hr manager skill highlights hr skills hr depar...        HR   \n",
      "7    15375009  hr manager professional summary senior hr prof...        HR   \n",
      "8    11847784  hr specialist summary possess 15 years experie...        HR   \n",
      "11   11480899  hr manager summary human resources manager pra...        HR   \n",
      "12   23155093  hr manager summary obtain position offers many...        HR   \n",
      "22   25676643  hr specialist summary human resources speciali...        HR   \n",
      "24   87968870  hr generalist summary energetic bilingual huma...        HR   \n",
      "30   49937469  hr assistant highlights interviewing expertise...        HR   \n",
      "31   18316239  hr generalist professional profile responsible...        HR   \n",
      "35   32947778  hr manager summary human resources professiona...        HR   \n",
      "36   23914451  hr generalist summary human resource manager a...        HR   \n",
      "40   41523474  hr executive summary dual specialization domai...        HR   \n",
      "41   59962788  hr executive professional summary forwardthink...        HR   \n",
      "45   26780935  hr coordinator summary motivated professional ...        HR   \n",
      "48   19867922  hr generalist experience 042015 current provid...        HR   \n",
      "54   18422164  hr specialist summary resultsdriven profession...        HR   \n",
      "57   28828844  hr generalist professional summary dependable ...        HR   \n",
      "58   21830565  hr consultant summary certified human resource...        HR   \n",
      "67   93112113  hr manager summary human resources professiona...        HR   \n",
      "69   80162314  hr professional summary dependable selfmotivat...        HR   \n",
      "75   18084150  sr hr generalist summary qualitydriven analyti...        HR   \n",
      "77   44476983  hr business partner summary proactive human re...        HR   \n",
      "106  24402267  designation hr assistant professional summary ...        HR   \n",
      "108  27847081  hr specialist horizontal engineer professional...        HR   \n",
      "538  38059130  human resources manager summary continue profe...  ADVOCATE   \n",
      "\n",
      "     similarity_score  \n",
      "4            0.897052  \n",
      "7            0.863195  \n",
      "8            0.854876  \n",
      "11           0.905159  \n",
      "12           0.867300  \n",
      "22           0.881834  \n",
      "24           0.856821  \n",
      "30           0.855289  \n",
      "31           0.872681  \n",
      "35           0.854924  \n",
      "36           0.875953  \n",
      "40           0.861027  \n",
      "41           0.870561  \n",
      "45           0.851797  \n",
      "48           0.864574  \n",
      "54           0.868583  \n",
      "57           0.863766  \n",
      "58           0.861471  \n",
      "67           0.855939  \n",
      "69           0.878125  \n",
      "75           0.851081  \n",
      "77           0.886754  \n",
      "106          0.872801  \n",
      "108          0.867016  \n",
      "538          0.855636  \n"
     ]
    }
   ],
   "source": [
    "# Compute cosine similarity\n",
    "similarity_scores = cosine_similarity(job_desc_embedding2, resume_embeddings)\n",
    "\n",
    "# Extract resumes that meet the threshold\n",
    "threshold = 0.85\n",
    "matching_indices = [i for i, score in enumerate(similarity_scores[0]) if score > threshold]\n",
    "\n",
    "# Retrieve the resumes that meet the threshold\n",
    "matching_resumes = data.iloc[matching_indices]\n",
    "\n",
    "# Retrieve the similarity scores for the matching resumes\n",
    "matching_scores = similarity_scores[0][matching_indices]\n",
    "\n",
    "# Add similarity scores to the matching resumes\n",
    "matching_resumes = matching_resumes.copy()\n",
    "matching_resumes['similarity_score'] = matching_scores\n",
    "\n",
    "# Display the matching resumes with their similarity scores\n",
    "print(matching_resumes[['ID', 'cleaned_resume', 'Category', 'similarity_score']])\n"
   ]
  },
  {
   "cell_type": "markdown",
   "id": "955d456b-ddf3-4b93-83a1-29d8ffde2221",
   "metadata": {},
   "source": [
    "### modify on the data "
   ]
  },
  {
   "cell_type": "code",
   "execution_count": 66,
   "id": "1969ba2c-6185-4ccf-8439-c800cdc7f1d2",
   "metadata": {},
   "outputs": [
    {
     "data": {
      "text/html": [
       "<div>\n",
       "<style scoped>\n",
       "    .dataframe tbody tr th:only-of-type {\n",
       "        vertical-align: middle;\n",
       "    }\n",
       "\n",
       "    .dataframe tbody tr th {\n",
       "        vertical-align: top;\n",
       "    }\n",
       "\n",
       "    .dataframe thead th {\n",
       "        text-align: right;\n",
       "    }\n",
       "</style>\n",
       "<table border=\"1\" class=\"dataframe\">\n",
       "  <thead>\n",
       "    <tr style=\"text-align: right;\">\n",
       "      <th></th>\n",
       "      <th>ID</th>\n",
       "      <th>Category</th>\n",
       "      <th>cleaned_resume</th>\n",
       "    </tr>\n",
       "  </thead>\n",
       "  <tbody>\n",
       "    <tr>\n",
       "      <th>0</th>\n",
       "      <td>16852973</td>\n",
       "      <td>HR</td>\n",
       "      <td>hr administratormarketing associate hr adminis...</td>\n",
       "    </tr>\n",
       "    <tr>\n",
       "      <th>1</th>\n",
       "      <td>22323967</td>\n",
       "      <td>HR</td>\n",
       "      <td>hr specialist us hr operations summary versati...</td>\n",
       "    </tr>\n",
       "    <tr>\n",
       "      <th>2</th>\n",
       "      <td>33176873</td>\n",
       "      <td>HR</td>\n",
       "      <td>hr director summary 20 years experience recrui...</td>\n",
       "    </tr>\n",
       "    <tr>\n",
       "      <th>3</th>\n",
       "      <td>27018550</td>\n",
       "      <td>HR</td>\n",
       "      <td>hr specialist summary dedicated driven dynamic...</td>\n",
       "    </tr>\n",
       "    <tr>\n",
       "      <th>4</th>\n",
       "      <td>17812897</td>\n",
       "      <td>HR</td>\n",
       "      <td>hr manager skill highlights hr skills hr depar...</td>\n",
       "    </tr>\n",
       "    <tr>\n",
       "      <th>...</th>\n",
       "      <td>...</td>\n",
       "      <td>...</td>\n",
       "      <td>...</td>\n",
       "    </tr>\n",
       "    <tr>\n",
       "      <th>2479</th>\n",
       "      <td>99416532</td>\n",
       "      <td>AVIATION</td>\n",
       "      <td>rank sgte5 non commissioned officer charge bri...</td>\n",
       "    </tr>\n",
       "    <tr>\n",
       "      <th>2480</th>\n",
       "      <td>24589765</td>\n",
       "      <td>AVIATION</td>\n",
       "      <td>government relations communications organizati...</td>\n",
       "    </tr>\n",
       "    <tr>\n",
       "      <th>2481</th>\n",
       "      <td>31605080</td>\n",
       "      <td>AVIATION</td>\n",
       "      <td>geek squad agent professional profile support ...</td>\n",
       "    </tr>\n",
       "    <tr>\n",
       "      <th>2482</th>\n",
       "      <td>21190805</td>\n",
       "      <td>AVIATION</td>\n",
       "      <td>program director office manager summary highly...</td>\n",
       "    </tr>\n",
       "    <tr>\n",
       "      <th>2483</th>\n",
       "      <td>37473139</td>\n",
       "      <td>AVIATION</td>\n",
       "      <td>storekeeper ii professional summary purpose do...</td>\n",
       "    </tr>\n",
       "  </tbody>\n",
       "</table>\n",
       "<p>2484 rows × 3 columns</p>\n",
       "</div>"
      ],
      "text/plain": [
       "            ID  Category                                     cleaned_resume\n",
       "0     16852973        HR  hr administratormarketing associate hr adminis...\n",
       "1     22323967        HR  hr specialist us hr operations summary versati...\n",
       "2     33176873        HR  hr director summary 20 years experience recrui...\n",
       "3     27018550        HR  hr specialist summary dedicated driven dynamic...\n",
       "4     17812897        HR  hr manager skill highlights hr skills hr depar...\n",
       "...        ...       ...                                                ...\n",
       "2479  99416532  AVIATION  rank sgte5 non commissioned officer charge bri...\n",
       "2480  24589765  AVIATION  government relations communications organizati...\n",
       "2481  31605080  AVIATION  geek squad agent professional profile support ...\n",
       "2482  21190805  AVIATION  program director office manager summary highly...\n",
       "2483  37473139  AVIATION  storekeeper ii professional summary purpose do...\n",
       "\n",
       "[2484 rows x 3 columns]"
      ]
     },
     "execution_count": 66,
     "metadata": {},
     "output_type": "execute_result"
    }
   ],
   "source": [
    "data"
   ]
  },
  {
   "cell_type": "code",
   "execution_count": 98,
   "id": "bfda4c1f-2665-4602-8c76-fb16f34bb680",
   "metadata": {},
   "outputs": [
    {
     "name": "stdout",
     "output_type": "stream",
     "text": [
      "Updated Resume for ID 17150707:\n",
      " hr generalist experience 042015 current provide general administrative support preparing correspondence forms reports scheduling coordinating staff meetings maintaining meeting minutes notes generate confidential ad hoc statistical reporting data documentation regarding turnover new hires birthdays anniversaries benefits relevant hr metrics collect onboarding documentation ensure benefit enrollment timely manner follow employees ensure electronic enrollment processed hris portal source documentation process new hire setups hr systems process changes pay rate status initialqualifying life event benefit changes establish maintain audit employee data files manually process background checks entries employment verifications fullcycle hr related items onboarding departures assist maintenance updates organizational chart facilitate assist new hire orientation presentations maintain highest level confidentiality data security protect employee privacy related employee relations issues organizational changes planning strict adherence privacy confidentiality per company policy respond various inquiries internal external stakeholders employees management senior leadership team participate several committees enhance employee engagement manager training creating strategic hr initiatives 092012 062014 hr generalist company name city state 082008 042015 hr staffing coordinator company name city state processed background checks drug screens potential candidates schedule interviews managers candidates meet greet potential candidates come onsite interviews run biweekly reports vp human resources ensure empire markets stay compliance state federal posters audit new hire files 99 different markets maintain employee files ensure confidentiality maintain different databases adp payforce siebel conduct new hire orientation weekly manage wotc program markets inform office managers hr generalist hr managers various procedures increase job efficiency answer phone email inquiries regarding company policies procedures work recruiters job descriptions find qualified candidates open positions schedule employees sexual harassment eeo basic supervisor training courses assist various projects meet multiple deadlines perform general administrative duties filing faxing copying ordering offices supplies assist corporate recruiters scheduling setting interviews assist benefits manager enrollment new current employees process verification employment current terminated employees 082008 042015 executive technical associate company name city state assist directors executives senior managers scheduling meetings calendar maintenance monitoring voicemail email typing correspondence expense reports travel offices assist managers various matters maintain weekly monthly utilization reports department staff maintain weekly scheduling training database within call center environment 100 customer advocates facilitate officewide access various systems assign reset passwords handle monthly database updates schedule contractual appointment time via iextotalview monitor iex ensure officewide adherence conformance service level results received perform complex specialized work related preparation processing maintenance payroll generate weekly schedules totalview make available viewing agent webstation facilitate departmental moves arrange new telephone extensions cubicles location office space perform general administrative duties filing faxing copying ordering offices supplies strengths familiarity various hris systems proficient microsoft office suite attention detail multitasking data analysis research education training 052016 mba business administration benedictine university business administration bachelor arts business administration benedictine university business administration skills administrative duties administrative support adp ad attention detail basic benefits bi calendar maintenance call center copying data analysis databases database documentation email employee relations expense reports faxing filing forms hris human resources hr leadership notes meetings access microsoft office suite office multitasking organizational payroll policies posters presentations reporting research scheduling siebel strategic supervisor telephone phone typing\n"
     ]
    }
   ],
   "source": [
    "# Verify the update\n",
    "updated_resume = data.loc[data['ID'] == 19867922, 'cleaned_resume'].iloc[0]\n",
    "print(\"Updated Resume for ID 17150707:\\n\", updated_resume)\n"
   ]
  },
  {
   "cell_type": "code",
   "execution_count": null,
   "id": "7c3b0f5e-f72b-42fc-bce9-73fa128bc3c7",
   "metadata": {},
   "outputs": [],
   "source": []
  },
  {
   "cell_type": "code",
   "execution_count": 68,
   "id": "3ccffa10-22b8-48d7-8df6-e25e390b8495",
   "metadata": {},
   "outputs": [
    {
     "name": "stdout",
     "output_type": "stream",
     "text": [
      "Updated Resume for ID 17150707:\n",
      " hr generalist experience 042015 current provide general administrative support preparing correspondence forms reports scheduling coordinating staff meetings maintaining meeting minutes notes generate confidential ad hoc statistical reporting data documentation regarding turnover new hires birthdays anniversaries benefits relevant hr metrics collect onboarding documentation ensure benefit enrollment timely manner follow employees ensure electronic enrollment processed hris portal source documentation process new hire setups hr systems process changes pay rate status initialqualifying life event benefit changes establish maintain audit employee data files manually process background checks entries employment verifications fullcycle hr related items onboarding departures assist maintenance updates organizational chart facilitate assist new hire orientation presentations maintain highest level confidentiality data security protect employee privacy related employee relations issues organizational changes planning strict adherence privacy confidentiality per company policy respond various inquiries internal external stakeholders employees management senior leadership team participate several committees enhance employee engagement manager training creating strategic hr initiatives 092012 062014 hr generalist company name city state 082008 042015 hr staffing coordinator company name city state processed background checks drug screens potential candidates schedule interviews managers candidates meet greet potential candidates come onsite interviews run biweekly reports vp human resources ensure empire markets stay compliance state federal posters audit new hire files 99 different markets maintain employee files ensure confidentiality maintain different databases adp payforce siebel conduct new hire orientation weekly manage wotc program markets inform office managers hr generalist hr managers various procedures increase job efficiency answer phone email inquiries regarding company policies procedures work recruiters job descriptions find qualified candidates open positions schedule employees sexual harassment eeo basic supervisor training courses assist various projects meet multiple deadlines perform general administrative duties filing faxing copying ordering offices supplies assist corporate recruiters scheduling setting interviews assist benefits manager enrollment new current employees process verification employment current terminated employees 082008 042015 executive technical associate company name city state assist directors executives senior managers scheduling meetings calendar maintenance monitoring voicemail email typing correspondence expense reports travel offices assist managers various matters maintain weekly monthly utilization reports department staff maintain weekly scheduling training database within call center environment 100 customer advocates facilitate officewide access various systems assign reset passwords handle monthly database updates schedule contractual appointment time via iextotalview monitor iex ensure officewide adherence conformance service level results received perform complex specialized work related preparation processing maintenance payroll generate weekly schedules totalview make available viewing agent webstation facilitate departmental moves arrange new telephone extensions cubicles location office space perform general administrative duties filing faxing copying ordering offices supplies strengths familiarity various hris systems proficient microsoft office suite attention detail multitasking data analysis research education training 052016 mba business administration benedictine university business administration bachelor arts business administration benedictine university business administration skills administrative duties administrative support adp ad attention detail basic benefits bi calendar maintenance call center copying data analysis databases database documentation email employee relations expense reports faxing filing forms hris human resources hr leadership notes meetings access microsoft office suite office multitasking organizational payroll policies posters presentations reporting research scheduling siebel strategic supervisor telephone phone typing\n",
      "Provide reports on all areas of HR, onboarding, payroll, learning and development, HR policy, best practices, and workforce development.\n",
      "Advise and strategize on developing effective employment policies across the company. \n",
      "Provide professional leadership, support, and development to HR staff to increase knowledge, share best practices, and ensure that relevant professional standards are met.\n",
      "Ensure that the company complies with current regulations, accepted professional standards, policies and procedures, and legislation.\n",
      "Manage the execution of the HR strategy and core areas of the HR department, including recruitment, employee relations, workforce administration, employee engagement, payroll, reward, and recognition, as well as maintaining and improving HR systems and management of the HR budget. \n",
      "Drive the continuous improvement agenda with a focus on engagement & welfare activities, maximizing productivity, devolving HR responsibilities to line managers, and building leadership capability.\n",
      "Ensure managers are sufficiently skilled and enabled to access appropriate guidance and information to manage workforce issues.\n",
      "\n"
     ]
    }
   ],
   "source": [
    "# Define the additional responsibilities to be added\n",
    "additional_responsibilities = \"\"\"\n",
    "Provide reports on all areas of HR, onboarding, payroll, learning and development, HR policy, best practices, and workforce development.\n",
    "Advise and strategize on developing effective employment policies across the company. \n",
    "Provide professional leadership, support, and development to HR staff to increase knowledge, share best practices, and ensure that relevant professional standards are met.\n",
    "Ensure that the company complies with current regulations, accepted professional standards, policies and procedures, and legislation.\n",
    "Manage the execution of the HR strategy and core areas of the HR department, including recruitment, employee relations, workforce administration, employee engagement, payroll, reward, and recognition, as well as maintaining and improving HR systems and management of the HR budget. \n",
    "Drive the continuous improvement agenda with a focus on engagement & welfare activities, maximizing productivity, devolving HR responsibilities to line managers, and building leadership capability.\n",
    "Ensure managers are sufficiently skilled and enabled to access appropriate guidance and information to manage workforce issues.\n",
    "\"\"\"\n",
    "\n",
    "# Locate the row with ID 17150707 and update the 'cleaned_resume' field\n",
    "data.loc[data['ID'] == 19867922, 'cleaned_resume'] = data.loc[data['ID'] == 19867922, 'cleaned_resume'].iloc[0] + additional_responsibilities\n",
    "\n",
    "# Verify the update\n",
    "updated_resume = data.loc[data['ID'] == 19867922, 'cleaned_resume'].iloc[0]\n",
    "print(\"Updated Resume for ID 17150707:\\n\", updated_resume)\n"
   ]
  },
  {
   "cell_type": "code",
   "execution_count": 69,
   "id": "902c75a1-2b42-4a76-a9d8-ecc158180c4f",
   "metadata": {},
   "outputs": [
    {
     "name": "stdout",
     "output_type": "stream",
     "text": [
      "Cleaned Resume for ID 19867922:\n",
      "hr generalist experience 042015 current provide general administrative support preparing correspondence forms reports scheduling coordinating staff meetings maintaining meeting minutes notes generate confidential ad hoc statistical reporting data documentation regarding turnover new hires birthdays anniversaries benefits relevant hr metrics collect onboarding documentation ensure benefit enrollment timely manner follow employees ensure electronic enrollment processed hris portal source documentation process new hire setups hr systems process changes pay rate status initialqualifying life event benefit changes establish maintain audit employee data files manually process background checks entries employment verifications fullcycle hr related items onboarding departures assist maintenance updates organizational chart facilitate assist new hire orientation presentations maintain highest level confidentiality data security protect employee privacy related employee relations issues organizational changes planning strict adherence privacy confidentiality per company policy respond various inquiries internal external stakeholders employees management senior leadership team participate several committees enhance employee engagement manager training creating strategic hr initiatives 092012 062014 hr generalist company name city state 082008 042015 hr staffing coordinator company name city state processed background checks drug screens potential candidates schedule interviews managers candidates meet greet potential candidates come onsite interviews run biweekly reports vp human resources ensure empire markets stay compliance state federal posters audit new hire files 99 different markets maintain employee files ensure confidentiality maintain different databases adp payforce siebel conduct new hire orientation weekly manage wotc program markets inform office managers hr generalist hr managers various procedures increase job efficiency answer phone email inquiries regarding company policies procedures work recruiters job descriptions find qualified candidates open positions schedule employees sexual harassment eeo basic supervisor training courses assist various projects meet multiple deadlines perform general administrative duties filing faxing copying ordering offices supplies assist corporate recruiters scheduling setting interviews assist benefits manager enrollment new current employees process verification employment current terminated employees 082008 042015 executive technical associate company name city state assist directors executives senior managers scheduling meetings calendar maintenance monitoring voicemail email typing correspondence expense reports travel offices assist managers various matters maintain weekly monthly utilization reports department staff maintain weekly scheduling training database within call center environment 100 customer advocates facilitate officewide access various systems assign reset passwords handle monthly database updates schedule contractual appointment time via iextotalview monitor iex ensure officewide adherence conformance service level results received perform complex specialized work related preparation processing maintenance payroll generate weekly schedules totalview make available viewing agent webstation facilitate departmental moves arrange new telephone extensions cubicles location office space perform general administrative duties filing faxing copying ordering offices supplies strengths familiarity various hris systems proficient microsoft office suite attention detail multitasking data analysis research education training 052016 mba business administration benedictine university business administration bachelor arts business administration benedictine university business administration skills administrative duties administrative support adp ad attention detail basic benefits bi calendar maintenance call center copying data analysis databases database documentation email employee relations expense reports faxing filing forms hris human resources hr leadership notes meetings access microsoft office suite office multitasking organizational payroll policies posters presentations reporting research scheduling siebel strategic supervisor telephone phone typing\n",
      "Provide reports on all areas of HR, onboarding, payroll, learning and development, HR policy, best practices, and workforce development.\n",
      "Advise and strategize on developing effective employment policies across the company. \n",
      "Provide professional leadership, support, and development to HR staff to increase knowledge, share best practices, and ensure that relevant professional standards are met.\n",
      "Ensure that the company complies with current regulations, accepted professional standards, policies and procedures, and legislation.\n",
      "Manage the execution of the HR strategy and core areas of the HR department, including recruitment, employee relations, workforce administration, employee engagement, payroll, reward, and recognition, as well as maintaining and improving HR systems and management of the HR budget. \n",
      "Drive the continuous improvement agenda with a focus on engagement & welfare activities, maximizing productivity, devolving HR responsibilities to line managers, and building leadership capability.\n",
      "Ensure managers are sufficiently skilled and enabled to access appropriate guidance and information to manage workforce issues.\n",
      "\n"
     ]
    }
   ],
   "source": [
    "resume_text = data.loc[data['ID'] == 19867922, 'cleaned_resume'].values[0]\n",
    "# Print the cleaned resume\n",
    "print(\"Cleaned Resume for ID 19867922:\")\n",
    "print(resume_text)"
   ]
  },
  {
   "cell_type": "code",
   "execution_count": 70,
   "id": "675708a7-2797-4fc3-b840-9faa8baa7568",
   "metadata": {},
   "outputs": [
    {
     "data": {
      "application/vnd.jupyter.widget-view+json": {
       "model_id": "99d6ddc2161641b0b337545c8af6774b",
       "version_major": 2,
       "version_minor": 0
      },
      "text/plain": [
       "Batches:   0%|          | 0/78 [00:00<?, ?it/s]"
      ]
     },
     "metadata": {},
     "output_type": "display_data"
    }
   ],
   "source": [
    "resume_embeddings2 = model.encode(data['cleaned_resume'].tolist(), show_progress_bar=True)\n",
    "resume_embeddings2 = np.array(resume_embeddings2)\n"
   ]
  },
  {
   "cell_type": "code",
   "execution_count": 71,
   "id": "e606afc4-e06d-4963-b9bd-b21c67549bc8",
   "metadata": {},
   "outputs": [
    {
     "name": "stdout",
     "output_type": "stream",
     "text": [
      "           ID                                     cleaned_resume  Category  \\\n",
      "4    17812897  hr manager skill highlights hr skills hr depar...        HR   \n",
      "7    15375009  hr manager professional summary senior hr prof...        HR   \n",
      "8    11847784  hr specialist summary possess 15 years experie...        HR   \n",
      "11   11480899  hr manager summary human resources manager pra...        HR   \n",
      "12   23155093  hr manager summary obtain position offers many...        HR   \n",
      "22   25676643  hr specialist summary human resources speciali...        HR   \n",
      "24   87968870  hr generalist summary energetic bilingual huma...        HR   \n",
      "30   49937469  hr assistant highlights interviewing expertise...        HR   \n",
      "31   18316239  hr generalist professional profile responsible...        HR   \n",
      "35   32947778  hr manager summary human resources professiona...        HR   \n",
      "36   23914451  hr generalist summary human resource manager a...        HR   \n",
      "40   41523474  hr executive summary dual specialization domai...        HR   \n",
      "41   59962788  hr executive professional summary forwardthink...        HR   \n",
      "45   26780935  hr coordinator summary motivated professional ...        HR   \n",
      "48   19867922  hr generalist experience 042015 current provid...        HR   \n",
      "54   18422164  hr specialist summary resultsdriven profession...        HR   \n",
      "57   28828844  hr generalist professional summary dependable ...        HR   \n",
      "58   21830565  hr consultant summary certified human resource...        HR   \n",
      "67   93112113  hr manager summary human resources professiona...        HR   \n",
      "69   80162314  hr professional summary dependable selfmotivat...        HR   \n",
      "75   18084150  sr hr generalist summary qualitydriven analyti...        HR   \n",
      "77   44476983  hr business partner summary proactive human re...        HR   \n",
      "106  24402267  designation hr assistant professional summary ...        HR   \n",
      "108  27847081  hr specialist horizontal engineer professional...        HR   \n",
      "538  38059130  human resources manager summary continue profe...  ADVOCATE   \n",
      "\n",
      "     similarity_score  \n",
      "4            0.897052  \n",
      "7            0.863195  \n",
      "8            0.854876  \n",
      "11           0.905159  \n",
      "12           0.867300  \n",
      "22           0.881834  \n",
      "24           0.856821  \n",
      "30           0.855289  \n",
      "31           0.872681  \n",
      "35           0.854924  \n",
      "36           0.875953  \n",
      "40           0.861027  \n",
      "41           0.870561  \n",
      "45           0.851797  \n",
      "48           0.864574  \n",
      "54           0.868583  \n",
      "57           0.863766  \n",
      "58           0.861471  \n",
      "67           0.855939  \n",
      "69           0.878125  \n",
      "75           0.851081  \n",
      "77           0.886754  \n",
      "106          0.872801  \n",
      "108          0.867016  \n",
      "538          0.855636  \n"
     ]
    }
   ],
   "source": [
    "# Compute cosine similarity\n",
    "similarity_scores3 = cosine_similarity(job_desc_embedding2, resume_embeddings2)\n",
    "\n",
    "# Extract resumes that meet the threshold\n",
    "threshold = 0.85  \n",
    "matching_indices3 = [i for i, score in enumerate(similarity_scores3[0]) if score > threshold]\n",
    "\n",
    "# Retrieve the resumes that meet the threshold\n",
    "matching_resumes3 = data.iloc[matching_indices3]\n",
    "\n",
    "# Retrieve the similarity scores for the matching resumes\n",
    "matching_scores3 = similarity_scores[0][matching_indices3]\n",
    "\n",
    "# Add similarity scores to the matching resumes\n",
    "matching_resumes3 = matching_resumes3.copy()\n",
    "matching_resumes3['similarity_score'] = matching_scores3\n",
    "\n",
    "# Display the matching resumes with their similarity scores\n",
    "print(matching_resumes3[['ID', 'cleaned_resume', 'Category', 'similarity_score']])"
   ]
  },
  {
   "cell_type": "code",
   "execution_count": null,
   "id": "f96dac5f-7138-4aac-92db-6a51fc92a890",
   "metadata": {},
   "outputs": [],
   "source": []
  }
 ],
 "metadata": {
  "kernelspec": {
   "display_name": "Python 3 (ipykernel)",
   "language": "python",
   "name": "python3"
  },
  "language_info": {
   "codemirror_mode": {
    "name": "ipython",
    "version": 3
   },
   "file_extension": ".py",
   "mimetype": "text/x-python",
   "name": "python",
   "nbconvert_exporter": "python",
   "pygments_lexer": "ipython3",
   "version": "3.9.6"
  }
 },
 "nbformat": 4,
 "nbformat_minor": 5
}
