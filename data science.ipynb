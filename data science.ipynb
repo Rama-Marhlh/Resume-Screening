{
 "cells": [
  {
   "cell_type": "code",
   "execution_count": 93,
   "id": "be604430-9daf-4184-a488-3bb701e55987",
   "metadata": {},
   "outputs": [
    {
     "name": "stderr",
     "output_type": "stream",
     "text": [
      "[nltk_data] Downloading package punkt to\n",
      "[nltk_data]     /Users/ramaalmrahleh/nltk_data...\n",
      "[nltk_data]   Package punkt is already up-to-date!\n",
      "[nltk_data] Downloading package stopwords to\n",
      "[nltk_data]     /Users/ramaalmrahleh/nltk_data...\n",
      "[nltk_data]   Package stopwords is already up-to-date!\n"
     ]
    },
    {
     "data": {
      "text/plain": [
       "True"
      ]
     },
     "execution_count": 93,
     "metadata": {},
     "output_type": "execute_result"
    }
   ],
   "source": [
    "import pandas as pd\n",
    "import matplotlib.pyplot as plt\n",
    "import seaborn as sns\n",
    "import numpy as np\n",
    "import re\n",
    "import torch\n",
    "from rank_bm25 import BM25Okapi\n",
    "from nltk.corpus import stopwords\n",
    "from nltk.tokenize import word_tokenize\n",
    "from nltk.stem import PorterStemmer\n",
    "from nltk.stem import WordNetLemmatizer\n",
    "from transformers import BertTokenizer\n",
    "from rank_bm25 import BM25Okapi\n",
    "from sklearn.metrics import roc_curve, auc\n",
    "from sklearn.preprocessing import MinMaxScaler\n",
    "from sklearn.metrics.pairwise import euclidean_distances\n",
    "from sklearn.neighbors import NearestNeighbors\n",
    "from sentence_transformers import SentenceTransformer, util\n",
    "from sentence_transformers import SentenceTransformer\n",
    "from sklearn.metrics.pairwise import cosine_similarity\n",
    "from sklearn.metrics import precision_score, recall_score, f1_score, accuracy_score, confusion_matrix\n",
    "\n",
    "# Download stopwords \n",
    "import nltk\n",
    "nltk.download('punkt')\n",
    "nltk.download('stopwords')"
   ]
  },
  {
   "cell_type": "code",
   "execution_count": 94,
   "id": "b455a2e1-15a6-47b9-a40f-786c0e2a7668",
   "metadata": {},
   "outputs": [],
   "source": [
    "data = pd.read_csv(\"resume_dataset.csv\")"
   ]
  },
  {
   "cell_type": "code",
   "execution_count": 95,
   "id": "8a11aaad-4b54-4cee-8da2-d495a1f31156",
   "metadata": {},
   "outputs": [
    {
     "name": "stdout",
     "output_type": "stream",
     "text": [
      "Displaying the distinct categories of resume and the number of records belonging to each category -\n",
      "Category\n",
      "Java Developer               14\n",
      "Database                     11\n",
      "HR                           11\n",
      "Data Science                 10\n",
      "Advocate                     10\n",
      "DotNet Developer              7\n",
      "Hadoop                        7\n",
      "DevOps Engineer               7\n",
      "Automation Testing            7\n",
      "Testing                       7\n",
      "Civil Engineer                6\n",
      "Business Analyst              6\n",
      "SAP Developer                 6\n",
      "Health and fitness            6\n",
      "Python Developer              6\n",
      "Arts                          6\n",
      "Electrical Engineering        5\n",
      "Sales                         5\n",
      "Network Security Engineer     5\n",
      "Mechanical Engineer           5\n",
      "Web Designing                 5\n",
      "ETL Developer                 5\n",
      "Blockchain                    5\n",
      "Operations Manager            4\n",
      "PMO                           3\n",
      "Name: count, dtype: int64\n"
     ]
    }
   ],
   "source": [
    "print (\"Displaying the distinct categories of resume and the number of records belonging to each category -\")\n",
    "print (data['Category'].value_counts())"
   ]
  },
  {
   "cell_type": "code",
   "execution_count": 96,
   "id": "d19ab842-5ed4-48db-b469-486f78825d5d",
   "metadata": {},
   "outputs": [
    {
     "name": "stdout",
     "output_type": "stream",
     "text": [
      "Number of resumes in HR category: 10\n"
     ]
    }
   ],
   "source": [
    "# Filter data for the \"HR\" category\n",
    "Data_Science_data = data[data['Category'] == 'Data Science']\n",
    "print(f\"Number of resumes in HR category: {Data_Science_data.shape[0]}\")"
   ]
  },
  {
   "cell_type": "code",
   "execution_count": 97,
   "id": "89666c0e-ac5d-47f5-a84c-59eb683d62c9",
   "metadata": {},
   "outputs": [
    {
     "data": {
      "text/html": [
       "<div>\n",
       "<style scoped>\n",
       "    .dataframe tbody tr th:only-of-type {\n",
       "        vertical-align: middle;\n",
       "    }\n",
       "\n",
       "    .dataframe tbody tr th {\n",
       "        vertical-align: top;\n",
       "    }\n",
       "\n",
       "    .dataframe thead th {\n",
       "        text-align: right;\n",
       "    }\n",
       "</style>\n",
       "<table border=\"1\" class=\"dataframe\">\n",
       "  <thead>\n",
       "    <tr style=\"text-align: right;\">\n",
       "      <th></th>\n",
       "      <th>Category</th>\n",
       "      <th>Resume</th>\n",
       "    </tr>\n",
       "  </thead>\n",
       "  <tbody>\n",
       "    <tr>\n",
       "      <th>0</th>\n",
       "      <td>Data Science</td>\n",
       "      <td>Skills * Programming Languages: Python (pandas...</td>\n",
       "    </tr>\n",
       "    <tr>\n",
       "      <th>1</th>\n",
       "      <td>Data Science</td>\n",
       "      <td>Education Details \\nMay 2013 to May 2017 B.E  ...</td>\n",
       "    </tr>\n",
       "    <tr>\n",
       "      <th>2</th>\n",
       "      <td>Data Science</td>\n",
       "      <td>Areas of Interest Deep Learning, Control Syste...</td>\n",
       "    </tr>\n",
       "    <tr>\n",
       "      <th>3</th>\n",
       "      <td>Data Science</td>\n",
       "      <td>Skills â¢ R â¢ Python â¢ SAP HANA â¢ Table...</td>\n",
       "    </tr>\n",
       "    <tr>\n",
       "      <th>4</th>\n",
       "      <td>Data Science</td>\n",
       "      <td>Education Details \\n MCA   YMCAUST,  Faridabad...</td>\n",
       "    </tr>\n",
       "    <tr>\n",
       "      <th>5</th>\n",
       "      <td>Data Science</td>\n",
       "      <td>SKILLS C Basics, IOT, Python, MATLAB, Data Sci...</td>\n",
       "    </tr>\n",
       "    <tr>\n",
       "      <th>6</th>\n",
       "      <td>Data Science</td>\n",
       "      <td>Skills â¢ Python â¢ Tableau â¢ Data Visuali...</td>\n",
       "    </tr>\n",
       "    <tr>\n",
       "      <th>7</th>\n",
       "      <td>Data Science</td>\n",
       "      <td>Education Details \\n B.Tech   Rayat and Bahra ...</td>\n",
       "    </tr>\n",
       "    <tr>\n",
       "      <th>8</th>\n",
       "      <td>Data Science</td>\n",
       "      <td>Personal Skills â¢ Ability to quickly grasp t...</td>\n",
       "    </tr>\n",
       "    <tr>\n",
       "      <th>9</th>\n",
       "      <td>Data Science</td>\n",
       "      <td>Expertise â Data and Quantitative Analysis â...</td>\n",
       "    </tr>\n",
       "  </tbody>\n",
       "</table>\n",
       "</div>"
      ],
      "text/plain": [
       "       Category                                             Resume\n",
       "0  Data Science  Skills * Programming Languages: Python (pandas...\n",
       "1  Data Science  Education Details \\nMay 2013 to May 2017 B.E  ...\n",
       "2  Data Science  Areas of Interest Deep Learning, Control Syste...\n",
       "3  Data Science  Skills â¢ R â¢ Python â¢ SAP HANA â¢ Table...\n",
       "4  Data Science  Education Details \\n MCA   YMCAUST,  Faridabad...\n",
       "5  Data Science  SKILLS C Basics, IOT, Python, MATLAB, Data Sci...\n",
       "6  Data Science  Skills â¢ Python â¢ Tableau â¢ Data Visuali...\n",
       "7  Data Science  Education Details \\n B.Tech   Rayat and Bahra ...\n",
       "8  Data Science  Personal Skills â¢ Ability to quickly grasp t...\n",
       "9  Data Science  Expertise â Data and Quantitative Analysis â..."
      ]
     },
     "execution_count": 97,
     "metadata": {},
     "output_type": "execute_result"
    }
   ],
   "source": [
    "Data_Science_data"
   ]
  },
  {
   "cell_type": "code",
   "execution_count": 98,
   "id": "806d68f6-789e-41f3-9aa1-25032b9522a3",
   "metadata": {},
   "outputs": [
    {
     "data": {
      "text/plain": [
       "'Skills * Programming Languages: Python (pandas, numpy, scipy, scikit-learn, matplotlib), Sql, Java, JavaScript/JQuery. * Machine learning: Regression, SVM, NaÃ¯ve Bayes, KNN, Random Forest, Decision Trees, Boosting techniques, Cluster Analysis, Word Embedding, Sentiment Analysis, Natural Language processing, Dimensionality reduction, Topic Modelling (LDA, NMF), PCA & Neural Nets. * Database Visualizations: Mysql, SqlServer, Cassandra, Hbase, ElasticSearch D3.js, DC.js, Plotly, kibana, matplotlib, ggplot, Tableau. * Others: Regular Expression, HTML, CSS, Angular 6, Logstash, Kafka, Python Flask, Git, Docker, computer vision - Open CV and understanding of Deep learning.Education Details \\nData Science Assurance AssociateData Science Assurance Associate - Ernst & Young LLPSkill Details \\nJAVASCRIPT- Exprience - 24 months\\njQuery- Exprience - 24 months\\nPython- Exprience - 24 monthsCompany Details \\ncompany - Ernst & Young LLP\\ndescription - Fraud Investigations and Dispute Services   Assurance\\nTECHNOLOGY ASSISTED REVIEW\\nTAR (Technology Assisted Review) assists in accelerating the review process and run analytics and generate reports.\\n* Core member of a team helped in developing automated review platform tool from scratch for assisting E discovery domain, this tool implements predictive coding and topic modelling by automating reviews, resulting in reduced labor costs and time spent during the lawyers review.\\n* Understand the end to end flow of the solution, doing research and development for classification models, predictive analysis and mining of the information present in text data. Worked on analyzing the outputs and precision monitoring for the entire tool.\\n* TAR assists in predictive coding, topic modelling from the evidence by following EY standards. Developed the classifier models in order to identify \"red flags\" and fraud-related issues.\\n\\nTools & Technologies: Python, scikit-learn, tfidf, word2vec, doc2vec, cosine similarity, NaÃ¯ve Bayes, LDA, NMF for topic modelling, Vader and text blob for sentiment analysis. Matplot lib, Tableau dashboard for reporting.\\n\\nMULTIPLE DATA SCIENCE AND ANALYTIC PROJECTS (USA CLIENTS)\\nTEXT ANALYTICS - MOTOR VEHICLE CUSTOMER REVIEW DATA * Received customer feedback survey data for past one year. Performed sentiment (Positive, Negative & Neutral) and time series analysis on customer comments across all 4 categories.\\n* Created heat map of terms by survey category based on frequency of words * Extracted Positive and Negative words across all the Survey categories and plotted Word cloud.\\n* Created customized tableau dashboards for effective reporting and visualizations.\\nCHATBOT * Developed a user friendly chatbot for one of our Products which handle simple questions about hours of operation, reservation options and so on.\\n* This chat bot serves entire product related questions. Giving overview of tool via QA platform and also give recommendation responses so that user question to build chain of relevant answer.\\n* This too has intelligence to build the pipeline of questions as per user requirement and asks the relevant /recommended questions.\\n\\nTools & Technologies: Python, Natural language processing, NLTK, spacy, topic modelling, Sentiment analysis, Word Embedding, scikit-learn, JavaScript/JQuery, SqlServer\\n\\nINFORMATION GOVERNANCE\\nOrganizations to make informed decisions about all of the information they store. The integrated Information Governance portfolio synthesizes intelligence across unstructured data sources and facilitates action to ensure organizations are best positioned to counter information risk.\\n* Scan data from multiple sources of formats and parse different file formats, extract Meta data information, push results for indexing elastic search and created customized, interactive dashboards using kibana.\\n* Preforming ROT Analysis on the data which give information of data which helps identify content that is either Redundant, Outdated, or Trivial.\\n* Preforming full-text search analysis on elastic search with predefined methods which can tag as (PII) personally identifiable information (social security numbers, addresses, names, etc.) which frequently targeted during cyber-attacks.\\nTools & Technologies: Python, Flask, Elastic Search, Kibana\\n\\nFRAUD ANALYTIC PLATFORM\\nFraud Analytics and investigative platform to review all red flag cases.\\nâ\\x80¢ FAP is a Fraud Analytics and investigative platform with inbuilt case manager and suite of Analytics for various ERP systems.\\n* It can be used by clients to interrogate their Accounting systems for identifying the anomalies which can be indicators of fraud by running advanced analytics\\nTools & Technologies: HTML, JavaScript, SqlServer, JQuery, CSS, Bootstrap, Node.js, D3.js, DC.js'"
      ]
     },
     "execution_count": 98,
     "metadata": {},
     "output_type": "execute_result"
    }
   ],
   "source": [
    "Data_Science_data.iloc[0]['Resume'] #yes"
   ]
  },
  {
   "cell_type": "code",
   "execution_count": 99,
   "id": "d0afd401-2405-4560-a2be-120d30c3cc90",
   "metadata": {},
   "outputs": [
    {
     "data": {
      "text/plain": [
       "'Education Details \\nMay 2013 to May 2017 B.E   UIT-RGPVData ScientistData Scientist - MatelabsSkill Details \\nPython- Exprience - Less than 1 year months\\nStatsmodels- Exprience - 12 months\\nAWS- Exprience - Less than 1 year months\\nMachine learning- Exprience - Less than 1 year months\\nSklearn- Exprience - Less than 1 year months\\nScipy- Exprience - Less than 1 year months\\nKeras- Exprience - Less than 1 year monthsCompany Details \\ncompany - Matelabs\\ndescription - ML Platform for business professionals, dummies and enthusiasts.\\n60/A Koramangala 5th block,\\nAchievements/Tasks behind sukh sagar, Bengaluru,\\nIndia                               Developed and deployed auto preprocessing steps of machine learning mainly missing value\\ntreatment, outlier detection, encoding, scaling, feature selection and dimensionality reduction.\\nDeployed automated classification and regression model.\\nlinkedin.com/in/aditya-rathore-\\nb4600b146                           Reasearch and deployed the time series forecasting model ARIMA, SARIMAX, Holt-winter and\\nProphet.\\nWorked on meta-feature extracting problem.\\ngithub.com/rathorology\\nImplemented a state of the art research paper on outlier detection for mixed attributes.\\ncompany - Matelabs\\ndescription - '"
      ]
     },
     "execution_count": 99,
     "metadata": {},
     "output_type": "execute_result"
    }
   ],
   "source": [
    "Data_Science_data.iloc[1]['Resume']"
   ]
  },
  {
   "cell_type": "code",
   "execution_count": 100,
   "id": "afa444e3-b95a-4992-89eb-457d6b20c63a",
   "metadata": {},
   "outputs": [
    {
     "data": {
      "text/plain": [
       "'Areas of Interest Deep Learning, Control System Design, Programming in-Python, Electric Machinery, Web Development, Analytics Technical Activities q Hindustan Aeronautics Limited, Bangalore - For 4 weeks under the guidance of Mr. Satish, Senior Engineer in the hangar of Mirage 2000 fighter aircraft Technical Skills Programming Matlab, Python and Java, LabView, Python WebFrameWork-Django, Flask, LTSPICE-intermediate Languages and and MIPOWER-intermediate, Github (GitBash), Jupyter Notebook, Xampp, MySQL-Basics, Python Software Packages Interpreters-Anaconda, Python2, Python3, Pycharm, Java IDE-Eclipse Operating Systems Windows, Ubuntu, Debian-Kali Linux Education Details \\nJanuary 2019 B.Tech. Electrical and Electronics Engineering  Manipal Institute of Technology\\nJanuary 2015    DEEKSHA CENTER\\nJanuary 2013    Little Flower Public School\\nAugust 2000    Manipal Academy of HigherDATA SCIENCEDATA SCIENCE AND ELECTRICAL ENTHUSIASTSkill Details \\nData Analysis- Exprience - Less than 1 year months\\nexcel- Exprience - Less than 1 year months\\nMachine Learning- Exprience - Less than 1 year months\\nmathematics- Exprience - Less than 1 year months\\nPython- Exprience - Less than 1 year months\\nMatlab- Exprience - Less than 1 year months\\nElectrical Engineering- Exprience - Less than 1 year months\\nSql- Exprience - Less than 1 year monthsCompany Details \\ncompany - THEMATHCOMPANY\\ndescription - I am currently working with a Casino based operator(name not to be disclosed) in Macau.I need to segment the customers who visit their property based on the value the patrons bring into the company.Basically prove that the segmentation can be done in much better way than the current system which they have with proper numbers to back it up.Henceforth they can implement target marketing strategy to attract their customers who add value to the business.'"
      ]
     },
     "execution_count": 100,
     "metadata": {},
     "output_type": "execute_result"
    }
   ],
   "source": [
    "Data_Science_data.iloc[2]['Resume']"
   ]
  },
  {
   "cell_type": "code",
   "execution_count": 101,
   "id": "1bb1623c-f467-4542-abda-df5dcdc55561",
   "metadata": {},
   "outputs": [
    {
     "data": {
      "text/plain": [
       "\"Skills â\\x80¢ R â\\x80¢ Python â\\x80¢ SAP HANA â\\x80¢ Tableau â\\x80¢ SAP HANA SQL â\\x80¢ SAP HANA PAL â\\x80¢ MS SQL â\\x80¢ SAP Lumira â\\x80¢ C# â\\x80¢ Linear Programming â\\x80¢ Data Modelling â\\x80¢ Advance Analytics â\\x80¢ SCM Analytics â\\x80¢ Retail Analytics â\\x80¢Social Media Analytics â\\x80¢ NLP Education Details \\nJanuary 2017 to January 2018 PGDM Business Analytics  Great Lakes Institute of Management & Illinois Institute of Technology\\nJanuary 2013 Bachelor of Engineering Electronics and Communication Bengaluru, Karnataka New Horizon College of Engineering, Bangalore Visvesvaraya Technological UniversityData Science ConsultantConsultant - Deloitte USISkill Details \\nLINEAR PROGRAMMING- Exprience - 6 months\\nRETAIL- Exprience - 6 months\\nRETAIL MARKETING- Exprience - 6 months\\nSCM- Exprience - 6 months\\nSQL- Exprience - Less than 1 year months\\nDeep Learning- Exprience - Less than 1 year months\\nMachine learning- Exprience - Less than 1 year months\\nPython- Exprience - Less than 1 year months\\nR- Exprience - Less than 1 year monthsCompany Details \\ncompany - Deloitte USI\\ndescription - The project involved analysing historic deals and coming with insights to optimize future deals.\\nRole: Was given raw data, carried out end to end analysis and presented insights to client.\\nKey Responsibilities:\\nâ\\x80¢ Extract data from client systems across geographies.\\nâ\\x80¢ Understand and build reports in tableau. Infer meaningful insights to optimize prices and find out process blockades.\\nTechnical Environment: R, Tableau.\\n\\nIndustry: Cross Industry\\nService Area: Cross Industry - Products\\nProject Name: Handwriting recognition\\nConsultant: 3 months.\\nThe project involved taking handwritten images and converting them to digital text images by object detection and sentence creation.\\nRole: I was developing sentence correction functionality.\\nKey Responsibilities:\\nâ\\x80¢ Gather data large enough to capture all English words\\nâ\\x80¢ Train LSTM models on words.\\nTechnical Environment: Python.\\n\\nIndustry: Finance\\nService Area: Financial Services - BI development Project Name: SWIFT\\nConsultant: 8 months.\\nThe project was to develop an analytics infrastructure on top of SAP S/4, it would user to view\\nfinancial reports to respective departments. Reporting also included forecasting expenses.\\nRole: I was leading the offshore team.\\nKey Responsibilities:\\nâ\\x80¢ Design & Develop data models for reporting.\\nâ\\x80¢ Develop ETL for data flow\\nâ\\x80¢ Validate various reports.\\nTechnical Environment: SAP HANA, Tableau, SAP AO.\\n\\nIndustry: Healthcare Analytics\\nService Area: Life Sciences - Product development Project Name: Clinical Healthcare System\\nConsultant: 2 months.\\nThe project was to develop an analytics infrastructure on top of Argus, it would allow users to query faster and provide advance analytics capabilities.\\nRole: I was involved from design to deploy phase, performed a lot of data restructuring and built\\nmodels for insights.\\nKey Responsibilities:\\nâ\\x80¢ Design & Develop data models for reporting.\\nâ\\x80¢ Develop and deploy analytical models.\\nâ\\x80¢ Validate various reports.\\nTechnical Environment: Data Modelling, SAP HANA, Tableau, NLP.\\n\\nIndustry: FMCG\\nService Area: Trade & Promotion\\nProject Name: Consumption Based Planning for Flowers Foods Consultant; 8 months.\\nThe project involved setting up of CRM and CBP modules.\\nRole: I was involved in key data decomposition activities and setting up the base for future year\\nforecast. Over the course of the project I developed various models and carried out key\\nperformance improvements.\\nKey Responsibilities:\\nâ\\x80¢ Design & Develop HANA models for decomposition.\\nâ\\x80¢ Develop data flow for forecast.\\nâ\\x80¢ Developed various views for reporting of Customer/Sales/Funds.\\nâ\\x80¢ Validate various reports in BOBJ.\\nTechnical Environment: Data Modelling, SAP HANA, BOBJ, Time Series Forecasting.\\n\\nInternal Initiative Industry: FMCG\\nCustomer Segmentation and RFM analysis Consultant; 3 months.\\nThe initiative involved setting up of HANA-Python interface and advance analytics on Python. Over the course I had successfully segmented data into five core segments using K-means and carried out RFM analysis in Python. Also developed algorithm to categorize any new customer under the defined buckets.\\nTechnical Environment: Anaconda3, Python3.6, HANA SPS12\\n\\nIndustry: Telecom Invoice state detection Consultant; 1 months.\\nThe initiative was to reduce the manual effort in verifying closed and open invoices manually, it\\ninvolved development to a decision tree to classify open/closed invoices. This enabled effort\\nreduction by 60%.\\nTechnical Environment: R, SAP PAL, SAP HANA SPS12\\n\\nAccenture Experience\\nIndustry: Analytics - Cross Industry\\nIn Process Analytics for SAP Senior Developer; 19 months.\\nAccenture Solutions Pvt. Ltd., India\\nThe project involved development of SAP analytics tool - In Process Analytics (IPA) . My role was to develop database objects and data models to provide operational insights to clients.\\nRole: I have developed various Finance related KPIs and spearheaded various deployments.\\nIntroduced SAP Predictive analytics to reduce development time and reuse functionalities for KPIs and prepared production planning reports.\\nKey Responsibilities:\\nâ\\x80¢ Involved in information gather phase.\\nâ\\x80¢ Designed and implemented SAP HANA data modelling using Attribute View, Analytic View, and\\nCalculation View.\\nâ\\x80¢ Developed various KPI's individually using complex SQL scripts in Calculation views.\\nâ\\x80¢ Created procedures in HANA Database.\\nâ\\x80¢ Took ownership and developed Dashboard functionality.\\nâ\\x80¢ Involved in building data processing algorithms to be executed in R server for cluster analysis.\\nTechnical Environment: R, SAP HANA, T-SQL.\\nIndustry: Cross Industry\\nAccenture Testing Accelerator for SAP Database Developer; 21 months.\\nAccenture Solutions Pvt. Ltd., India\\nRole: I have taken care of all development activities for the ATAS tool and have also completed\\nvarious deployments of the product.\\nApart from these activities I was also actively involved in maintenance of the database servers\\n(Production & Quality)\\nKey Responsibilities:\\nâ\\x80¢ Analyzing business requirements, understanding the scope, getting requirements clarified\\ninteracting with business and further transform all requirements to generate attribute\\nmapping documents and reviewing mapping specification documentation\\nâ\\x80¢ Create / Update database objects like tables, views, stored procedures, function, and packages\\nâ\\x80¢ Monitored SQL Server Error Logs and Application Logs through SQL Server Agent\\nâ\\x80¢ Prepared Data Flow Diagrams, Entity Relationship Diagrams using UML\\nâ\\x80¢ Responsible for Designing, developing and Normalization of database tables\\nâ\\x80¢ Experience in performance tuning using SQL profiler.\\nâ\\x80¢ Involved in QA, UAT, knowledge transfer and support activities\\nTechnical Environment: SQL Server 2008/2014, Visual Studio 2010, Windows Server, Performance\\nMonitor, SQL Server Profiler, C#, PL-SQL, T-SQL.\""
      ]
     },
     "execution_count": 101,
     "metadata": {},
     "output_type": "execute_result"
    }
   ],
   "source": [
    "Data_Science_data.iloc[3]['Resume']"
   ]
  },
  {
   "cell_type": "code",
   "execution_count": 102,
   "id": "075fc97d-0fc5-4c4f-911c-d350f1910435",
   "metadata": {},
   "outputs": [
    {
     "data": {
      "text/plain": [
       "'Education Details \\n MCA   YMCAUST,  Faridabad,  HaryanaData Science internshipSkill Details \\nData Structure- Exprience - Less than 1 year months\\nC- Exprience - Less than 1 year months\\nData Analysis- Exprience - Less than 1 year months\\nPython- Exprience - Less than 1 year months\\nCore Java- Exprience - Less than 1 year months\\nDatabase Management- Exprience - Less than 1 year monthsCompany Details \\ncompany - Itechpower\\ndescription - '"
      ]
     },
     "execution_count": 102,
     "metadata": {},
     "output_type": "execute_result"
    }
   ],
   "source": [
    "Data_Science_data.iloc[4]['Resume']"
   ]
  },
  {
   "cell_type": "code",
   "execution_count": 103,
   "id": "a97d151a-b662-4af2-9821-8cbdd72c8390",
   "metadata": {},
   "outputs": [
    {
     "data": {
      "text/plain": [
       "\"SKILLS C Basics, IOT, Python, MATLAB, Data Science, Machine Learning, HTML, Microsoft Word, Microsoft Excel, Microsoft Powerpoint. RECOGNITION Academic Secured First place in B.Tech.Education Details \\nAugust 2014 to May 2018 B.Tech.  Ghatkesar, Andhra Pradesh Aurora's Scientific and Technological Institute\\nJune 2012 to May 2014  Secondary Education Warangal, Telangana SR Junior CollegeData ScienceSkill Details \\nMS OFFICE- Exprience - Less than 1 year months\\nC- Exprience - Less than 1 year months\\nmachine learning- Exprience - Less than 1 year months\\ndata science- Exprience - Less than 1 year months\\nMatlab- Exprience - Less than 1 year monthsCompany Details \\ncompany - \\ndescription - \""
      ]
     },
     "execution_count": 103,
     "metadata": {},
     "output_type": "execute_result"
    }
   ],
   "source": [
    "Data_Science_data.iloc[5]['Resume']"
   ]
  },
  {
   "cell_type": "code",
   "execution_count": 104,
   "id": "1b3982da-db86-4682-ac11-5ee2bd0a25bd",
   "metadata": {},
   "outputs": [
    {
     "data": {
      "text/plain": [
       "'Skills â\\x80¢ Python â\\x80¢ Tableau â\\x80¢ Data Visualization â\\x80¢ R Studio â\\x80¢ Machine Learning â\\x80¢ Statistics IABAC Certified Data Scientist with versatile experience over 1+ years in managing business, data science consulting and leading innovation projects, bringing business ideas to working real world solutions. Being a strong advocator of augmented era, where human capabilities are enhanced by machines, Fahed is passionate about bringing business concepts in area of machine learning, AI, robotics etc., to real life solutions.Education Details \\nJanuary 2017 B. Tech Computer Science & Engineering Mohali, Punjab Indo Global College of EngineeringData Science ConsultantData Science Consultant - DatamitesSkill Details \\nMACHINE LEARNING- Exprience - 13 months\\nPYTHON- Exprience - 24 months\\nSOLUTIONS- Exprience - 24 months\\nDATA SCIENCE- Exprience - 24 months\\nDATA VISUALIZATION- Exprience - 24 months\\nTableau- Exprience - 24 monthsCompany Details \\ncompany - Datamites\\ndescription - â\\x80¢ Analyzed and processed complex data sets using advanced querying, visualization and analytics tools.\\nâ\\x80¢ Responsible for loading, extracting and validation of client data.\\nâ\\x80¢ Worked on manipulating, cleaning & processing data using python.\\nâ\\x80¢ Used Tableau for data visualization.\\ncompany - Heretic Solutions Pvt Ltd\\ndescription - â\\x80¢ Worked closely with business to identify issues and used data to propose solutions for effective decision making.\\nâ\\x80¢ Manipulating, cleansing & processing data using Python, Excel and R.\\nâ\\x80¢ Analyzed raw data, drawing conclusions & developing recommendations.\\nâ\\x80¢ Used machine learning tools and statistical techniques to produce solutions to problems.'"
      ]
     },
     "execution_count": 104,
     "metadata": {},
     "output_type": "execute_result"
    }
   ],
   "source": [
    "Data_Science_data.iloc[6]['Resume']"
   ]
  },
  {
   "cell_type": "code",
   "execution_count": 105,
   "id": "f45b9f11-fac8-4c53-9b2a-fb34e09e0bdd",
   "metadata": {},
   "outputs": [
    {
     "data": {
      "text/plain": [
       "'Education Details \\n B.Tech   Rayat and Bahra Institute of Engineering and BiotechnologyData ScienceData ScienceSkill Details \\nNumpy- Exprience - Less than 1 year months\\nMachine Learning- Exprience - Less than 1 year months\\nTensorflow- Exprience - Less than 1 year months\\nScikit- Exprience - Less than 1 year months\\nPython- Exprience - Less than 1 year months\\nGCP- Exprience - Less than 1 year months\\nPandas- Exprience - Less than 1 year months\\nNeural Network- Exprience - Less than 1 year monthsCompany Details \\ncompany - Wipro\\ndescription - Bhawana Aggarwal\\nE-Mail:bhawana.chd@gmail.com\\nPhone: 09876971076\\nVVersatile, high-energy professional targeting challenging assignments in Machine\\nPROFILE SUMMARY\\nâ\\x96ª An IT professional with knowledge and experience of 2 years in Wipro Technologies in Machine\\nLearning, Deep Learning, Data Science, Python, Software Development.\\nâ\\x96ª Skilled in managing end-to-end development and software products / projects from inception, requirement\\nspecs, planning, designing, implementation, configuration and documentation.\\nâ\\x96ª Knowledge on Python , Machine Learning, Deep Learning, data Science, Algorithms, Neural Network,\\nNLP, GCP.\\nâ\\x96ª Knowledge on Python Libraries like Numpy, Pandas, Seaborn , Matplotlib, Cufflinks.\\nâ\\x96ª Knowledge on different algorithms in Machine learning like KNN, Decision Tree, Bias variance Trade off,\\nSupport vector Machine(SVM),Logistic Regression, Neural networks.\\nâ\\x96ª Have knowledge on unsupervised, Supervised and reinforcement data.\\nâ\\x96ª Programming experience in relational platforms like MySQL,Oracle.\\nâ\\x96ª Have knowledge on Some programming language like C++,Java.\\nâ\\x96ª Experience in cloud based environment like Google Cloud.\\nâ\\x96ª Working on different Operating System like Linux, Ubuntu, Windows.\\nâ\\x96ª Good interpersonal and communication skills.\\nâ\\x96ª Problem solving skills with the ability to think laterally, and to think with a medium term and long term\\nperspective\\nâ\\x96ª Flexibility and an open attitude to change.\\nâ\\x96ª Ability to create, define and own frameworks with a strong emphasis on code reusability.\\nTECHNICAL SKILLS\\nProgramming Languages Python, C\\nLibraries Seaborn, Numpy, Pandas, Cufflinks, Matplotlib\\nAlgorithms\\nKNN, Decision Tree, Linear regression, Logistic Regression, Neural Networks, K means clustering,\\nTensorflow, SVM\\nDatabases SQL, Oracle\\nOperating Systems Linux, Window\\nDevelopment Environments NetBeans, Notebooks, Sublime\\nTicketing tools Service Now, Remedy\\nEducation\\nUG Education:\\nB.Tech (Computer Science) from Rayat and Bahra Institute of Engineering and Biotechnology passed with 78.4%in\\n2016.\\nSchooling:\\nXII in 2012 from Moti Ram Arya Sr. Secondary School(Passed with 78.4%)\\nX in 2010 from Valley Public School (Passed with 9.4 CGPA)\\nWORK EXPERINCE\\nTitle : Wipro Neural Intelligence Platform\\nTeam Size : 5\\nBrief: Wiproâ\\x80\\x99s Neural Intelligence Platform harnesses the power of automation and artificial intelligence\\ntechnologiesâ\\x80\\x94natural language processing (NLP), cognitive, machine learning, and analytics. The platform\\ncomprises three layers: a data engagement platform that can easily access and manage multiple structured and\\nunstructured data sources; an â\\x80\\x9cintent assessment and reasoningâ\\x80\\x9d engine that includes sentiment and predictive\\nanalytics; and a deep machine learning engine that can sense, act, and learn over time. The project entailed\\nautomating responses to user queries at the earliest. The Monster Bot using the power of Deep Machine Learning,\\nNLP to handle such queries. User can see the how their queries can be answered quickly like allL1 activities can be\\neliminated.\\nEntity Extractor -> This involves text extraction and NLP for fetching out important information from the text like\\ndates, names, places, contact numbers etc. This involves Regex, Bluemix NLU apiâ\\x80\\x99s and machine learning using\\nTensor flow for further learning of new entities.\\nClassifier ->This involves the classifications of classes, training of dataset and predicting the output using the SKLearn\\nclassifier (MNB, SVM, SGD as Classifier) and SGD for the optimization to map the user queries with the best\\nsuited response and make the system efficient.\\nNER: A Deep Learning NER Model is trained to extract the entities from the text. Entities like Roles, Skills,\\nOrganizations can be extracted from raw text. RNN(LSTM) Bidirectional model is trained for extracting such entities\\nusing Keras TensorFlow framework.\\nOTHER PROJECTS\\nTitle : Diabetes Detection\\nBrief : Developed the software which can detect whether the person is suffering from Diabetes or not and got the third\\nprize in it.\\nTRAINING AND CERTIFICATIONS\\nTitle: Python Training, Machine Learning, Data Science, Deep Learning\\nOrganization: Udemy, Coursera (Machine Learning, Deep Learning)\\nPersonal Profile\\nFatherâ\\x80\\x99s Name :Mr. Tirlok Aggarwal\\nLanguage Known : English & Hindi\\nMarital Status :Single\\nDate of Birth(Gender):1993-12-20(YYYY-MM-DD) (F)\\ncompany - Wipro\\ndescription - Developing programs in Python.\\ncompany - Wipro\\ndescription - Title : Wipro Neural Intelligence Platform\\nTeam Size : 5\\nBrief: Wiproâ\\x80\\x99s Neural Intelligence Platform harnesses the power of automation and artificial intelligence\\ntechnologiesâ\\x80\\x94natural language processing (NLP), cognitive, machine learning, and analytics. The platform\\ncomprises three layers: a data engagement platform that can easily access and manage multiple structured and\\nunstructured data sources; an â\\x80\\x9cintent assessment and reasoningâ\\x80\\x9d engine that includes sentiment and predictive\\nanalytics; and a deep machine learning engine that can sense, act, and learn over time. The project entailed\\nautomating responses to user queries at the earliest. The Monster Bot using the power of Deep Machine Learning,\\nNLP to handle such queries. User can see the how their queries can be answered quickly like allL1 activities can be\\neliminated.\\nEntity Extractor -> This involves text extraction and NLP for fetching out important information from the text like\\ndates, names, places, contact numbers etc. This involves Regex, Bluemix NLU apiâ\\x80\\x99s and machine learning using\\nTensor flow for further learning of new entities.\\nClassifier ->This involves the classifications of classes, training of dataset and predicting the output using the SKLearn\\nclassifier (MNB, SVM, SGD as Classifier) and SGD for the optimization to map the user queries with the best\\nsuited response and make the system efficient.\\nNER: A Deep Learning NER Model is trained to extract the entities from the text. Entities like Roles, Skills,\\nOrganizations can be extracted from raw text. RNN(LSTM) Bidirectional model is trained for extracting such entities\\nusing Keras TensorFlow framework.\\ncompany - Wipro Technologies\\ndescription - An IT professional with knowledge and experience of 2 years in Wipro Technologies in Machine\\nLearning, Deep Learning, Data Science, Python, Software Development.\\nâ\\x96ª Skilled in managing end-to-end development and software products / projects from inception, requirement\\nspecs, planning, designing, implementation, configuration and documentation.\\nâ\\x96ª Knowledge on Python , Machine Learning, Deep Learning, data Science, Algorithms, Neural Network,\\nNLP, GCP.\\nâ\\x96ª Knowledge on Python Libraries like Numpy, Pandas, Seaborn , Matplotlib, Cufflinks.\\nâ\\x96ª Knowledge on different algorithms in Machine learning like KNN, Decision Tree, Bias variance Trade off,\\nSupport vector Machine(SVM),Logistic Regression, Neural networks.\\nâ\\x96ª Have knowledge on unsupervised, Supervised and reinforcement data.\\nâ\\x96ª Programming experience in relational platforms like MySQL,Oracle.\\nâ\\x96ª Have knowledge on Some programming language like C++,Java.\\nâ\\x96ª Experience in cloud based environment like Google Cloud.\\nâ\\x96ª Working on different Operating System like Linux, Ubuntu, Windows.\\nâ\\x96ª Good interpersonal and communication skills.\\nâ\\x96ª Problem solving skills with the ability to think laterally, and to think with a medium term and long term\\nperspective\\nâ\\x96ª Flexibility and an open attitude to change.\\nâ\\x96ª Ability to create, define and own frameworks with a strong emphasis on code reusability.'"
      ]
     },
     "execution_count": 105,
     "metadata": {},
     "output_type": "execute_result"
    }
   ],
   "source": [
    "Data_Science_data.iloc[7]['Resume'] #yes"
   ]
  },
  {
   "cell_type": "code",
   "execution_count": 106,
   "id": "35491920-d21e-4884-94f0-da619c81dbd7",
   "metadata": {},
   "outputs": [
    {
     "data": {
      "text/plain": [
       "'Personal Skills â\\x9e¢ Ability to quickly grasp technical aspects and willingness to learn â\\x9e¢ High energy levels & Result oriented. Education Details \\nJanuary 2018 Master of Engineering Computer Technology & Application Bhopal, Madhya Pradesh Truba Institute of Engineering & Information Technology\\nJanuary 2010 B.E. computer science Bhopal, Madhya Pradesh RKDF Institute of Science and Technology College of Engineering\\nJanuary 2006 Polytechnic Information Technology Vidisha, Madhya Pradesh SATI Engineering College in Vidisha\\nJanuary 2003 M.tech Thesis Detail  BMCH School in Ganj basodaData scienceI have six month experience in Data Science. Key Skills: - Experience in Machine Learning, Deep Leaning, NLP, Python, SQL, Web Scraping Good knowledge in computer subjects and ability to updateSkill Details \\nExperience in Machine Learning, Deep Learning, NLP, Python, SQL, Web Crawling, HTML,CSS.- Exprience - Less than 1 year monthsCompany Details \\ncompany - RNT.AI Technology Solution\\ndescription - Text classification using Machine learning Algorithms with python.\\nPractical knowledge of Deep learning algorithms such as Â\\xa0Recurrent Neural Networks(RNN).\\nDevelop custom data models and algorithms to apply to dataset\\nExperience with Python packages like Pandas, Scikit-learn, Tensor Flow, Numpy, Matplotliv, NLTK.\\nComfort with SQL, Â\\xa0MYSQL\\nSentiment analysis.\\nÂ\\xa0Apply leave Dataset using classification technique like Tf--idf , LSA with cosine similarity using Machine learning Algorithms.\\nWeb crawling using Selenium web driver and Beautiful Soup with python.\\ncompany - Life Insurance Corporation of India Bhopal\\ndescription - Ã¼Â\\xa0Explaining policy features and the benefits\\nÃ¼ Updated knowledge of life insurance products and shared with customers'"
      ]
     },
     "execution_count": 106,
     "metadata": {},
     "output_type": "execute_result"
    }
   ],
   "source": [
    "Data_Science_data.iloc[8]['Resume'] #yes"
   ]
  },
  {
   "cell_type": "code",
   "execution_count": 107,
   "id": "9ad4bd21-9064-4fd0-8f13-a1e0c05cbd56",
   "metadata": {},
   "outputs": [
    {
     "data": {
      "text/plain": [
       "'Expertise â\\x88\\x92 Data and Quantitative Analysis â\\x88\\x92 Decision Analytics â\\x88\\x92 Predictive Modeling â\\x88\\x92 Data-Driven Personalization â\\x88\\x92 KPI Dashboards â\\x88\\x92 Big Data Queries and Interpretation â\\x88\\x92 Data Mining and Visualization Tools â\\x88\\x92 Machine Learning Algorithms â\\x88\\x92 Business Intelligence (BI) â\\x88\\x92 Research, Reports and Forecasts Education Details \\n PGP in Data Science  Mumbai, Maharashtra Aegis School of data science & Business\\n B.E. in Electronics & Communication Electronics & Communication Indore, Madhya Pradesh IES IPS AcademyData ScientistData Scientist with PR CanadaSkill Details \\nAlgorithms- Exprience - 6 months\\nBI- Exprience - 6 months\\nBusiness Intelligence- Exprience - 6 months\\nMachine Learning- Exprience - 24 months\\nVisualization- Exprience - 24 months\\nspark- Exprience - 24 months\\npython- Exprience - 36 months\\ntableau- Exprience - 36 months\\nData Analysis- Exprience - 24 monthsCompany Details \\ncompany - Aegis school of Data Science & Business\\ndescription - Mostly working on industry project for providing solution along with Teaching Appointments: Teach undergraduate and graduate-level courses in Spark and Machine Learning as an adjunct faculty member at Aegis School of Data Science, Mumbai (2017 to Present)\\ncompany - Aegis school of Data & Business\\ndescription - Data Science Intern, Nov 2015 to Jan 2016\\n\\nFurnish executive leadership team with insights, analytics, reports and recommendations enabling effective strategic planning across all business units, distribution channels and product lines.\\n\\nâ\\x9e\\x94 Chat Bot using AWS LEX and Tensor flow  Python\\nThe goal of project creates a chat bot for an academic institution or university to handle queries related courses offered by that institute. The objective of this task is to reduce human efforts as well as reduce man made errors. Even by this companies handle their client 24x7. In this case companies are academic institutions and clients are participants or students.\\nâ\\x9e\\x94 Web scraping using Selenium web driver   Python\\nThe task is to scrap the data from the online messaging portal in a text format and have to find the pattern form it.\\nâ\\x9e\\x94 Data Visualization and Data insights   Hadoop Eco System, Hive, PySpark, QlikSense\\nThe goal of this project is to build a Business Solutions to a Internet Service Provider Company, like handling data which is generated per day basis, for that we have to visualize that data and find the usage pattern form it and have a generate a reports.\\nâ\\x9e\\x94 Image Based Fraud Detection   Microsoft Face API, PySpark, Open CV\\nThe main goal of project is Recognize similarity for a face to given Database images. Face recognition is the recognizing a special face from set of different faces. Face is extracted and then compared with the database Image if that Image recognized then the person already applied for loan from somewhere else and now hiding his or her identity, this is how we are going to prevent the frauds in the initial stage itself.\\nâ\\x9e\\x94 Churn Analysis for Internet Service Provider   R, Python, Machine Learning, Hadoop\\nThe objective is to identify the customer who is likely to churn in a given period of time; we have to pretend the customer giving incentive offers.\\nâ\\x9e\\x94 Sentiment Analysis   Python, NLP, Apache Spark service in IBM Bluemix.\\nThis project is highly emphasis on tweets from Twitter data were taken for mobile networks service provider to do a sentiment analysis and analyze whether the expressed opinion was positive, negative or neutral, capture the emotions of the tweets and comparative analysis.\\n\\nQuantifiable Results:\\nâ\\x88\\x92 Mentored 7-12 Data Science Enthusiast each year that have all since gone on to graduate school in Data Science and Business Analytics.\\nâ\\x88\\x92 Reviewed and evaluated 20-40 Research Papers on Data Science for one of the largest Data Science Conference called Data Science Congress by Aegis School of Business Mumbai.\\nâ\\x88\\x92 Heading a solution providing organization called Data Science Delivered into Aegis school of Data Science Mumbai and managed 4-5 live projects using Data Science techniques.\\nâ\\x88\\x92 Working for some social cause with the help of Data Science for Social Goods Committee, where our team developed a product called \"Let\\'s find a missing Child\" for helping society.\\ncompany - IBM India pvt ltd\\ndescription - Mostly worked on blumix and IBM Watson for Data science.'"
      ]
     },
     "execution_count": 107,
     "metadata": {},
     "output_type": "execute_result"
    }
   ],
   "source": [
    "Data_Science_data.iloc[9]['Resume'] #yes"
   ]
  },
  {
   "cell_type": "code",
   "execution_count": 108,
   "id": "8f142c64-dd78-4f55-b2a4-b963ae21a505",
   "metadata": {},
   "outputs": [],
   "source": [
    "job_description = \"\"\"\n",
    "Job Title: AI Engineer\n",
    "\n",
    "Job Type: Full-Time\n",
    "\n",
    "Location: Remote\n",
    "\n",
    "About us:\n",
    "micro1 connects exceptional talent to transformative projects. We’re here to provide not just a job, but a platform for you to grow and achieve your career goals. We're proud to work with trusted partners such as Deel, Immutable, O’Gara, and LegalSoft.\n",
    "\n",
    "What We Offer:\n",
    "Work from anywhere\n",
    "Healthcare reimbursement\n",
    "Wi-Fi reimbursement\n",
    "Unlimited learning and more.\n",
    "\n",
    "Job Summary:\n",
    "Join our dynamic team at micro1 as an AI Engineer. You'll have the opportunity to develop cutting-edge machine learning models and AI-driven solutions from anywhere in the world. This role not only offers the chance to work on impactful projects but also provides a supportive environment focused on your career growth.\n",
    "\n",
    "Key Responsibilities:\n",
    "Develop and optimize deep learning models using frameworks like PyTorch and TensorFlow.\n",
    "Collaborate closely with product teams to integrate AI solutions seamlessly.\n",
    "Design and implement Natural Language Processing (NLP) solutions to enhance user experience.\n",
    "Conduct thorough testing and validation of machine learning models.\n",
    "Stay updated with the latest advancements in AI and deep learning technologies.\n",
    "Document processes and findings clearly to support team knowledge sharing.\n",
    "Analyze data sets to extract meaningful insights for business applications.\n",
    "\n",
    "Required Skills and Qualifications:\n",
    "Proficiency in Deep Learning frameworks such as PyTorch and TensorFlow.\n",
    "Strong experience with Natural Language Processing (NLP) models and techniques.\n",
    "Excellent written and verbal communication skills.\n",
    "Demonstrated ability to work independently in a remote setting.\n",
    "Solid understanding of machine learning algorithms and principles.\n",
    "\n",
    "Preferred Qualifications:\n",
    "Experience with Reinforcement Learning.\n",
    "Familiarity with cloud-based AI services and deployment.\"\"\""
   ]
  },
  {
   "cell_type": "code",
   "execution_count": 109,
   "id": "af1b3d64-bea5-4e65-a8fd-711eb6b058df",
   "metadata": {},
   "outputs": [
    {
     "data": {
      "text/html": [
       "<div>\n",
       "<style scoped>\n",
       "    .dataframe tbody tr th:only-of-type {\n",
       "        vertical-align: middle;\n",
       "    }\n",
       "\n",
       "    .dataframe tbody tr th {\n",
       "        vertical-align: top;\n",
       "    }\n",
       "\n",
       "    .dataframe thead th {\n",
       "        text-align: right;\n",
       "    }\n",
       "</style>\n",
       "<table border=\"1\" class=\"dataframe\">\n",
       "  <thead>\n",
       "    <tr style=\"text-align: right;\">\n",
       "      <th></th>\n",
       "      <th>Category</th>\n",
       "      <th>Resume</th>\n",
       "    </tr>\n",
       "  </thead>\n",
       "  <tbody>\n",
       "    <tr>\n",
       "      <th>0</th>\n",
       "      <td>Data Science</td>\n",
       "      <td>Skills * Programming Languages: Python (pandas...</td>\n",
       "    </tr>\n",
       "    <tr>\n",
       "      <th>1</th>\n",
       "      <td>Data Science</td>\n",
       "      <td>Education Details \\nMay 2013 to May 2017 B.E  ...</td>\n",
       "    </tr>\n",
       "    <tr>\n",
       "      <th>2</th>\n",
       "      <td>Data Science</td>\n",
       "      <td>Areas of Interest Deep Learning, Control Syste...</td>\n",
       "    </tr>\n",
       "    <tr>\n",
       "      <th>3</th>\n",
       "      <td>Data Science</td>\n",
       "      <td>Skills â¢ R â¢ Python â¢ SAP HANA â¢ Table...</td>\n",
       "    </tr>\n",
       "    <tr>\n",
       "      <th>4</th>\n",
       "      <td>Data Science</td>\n",
       "      <td>Education Details \\n MCA   YMCAUST,  Faridabad...</td>\n",
       "    </tr>\n",
       "    <tr>\n",
       "      <th>5</th>\n",
       "      <td>Data Science</td>\n",
       "      <td>SKILLS C Basics, IOT, Python, MATLAB, Data Sci...</td>\n",
       "    </tr>\n",
       "    <tr>\n",
       "      <th>6</th>\n",
       "      <td>Data Science</td>\n",
       "      <td>Skills â¢ Python â¢ Tableau â¢ Data Visuali...</td>\n",
       "    </tr>\n",
       "    <tr>\n",
       "      <th>7</th>\n",
       "      <td>Data Science</td>\n",
       "      <td>Education Details \\n B.Tech   Rayat and Bahra ...</td>\n",
       "    </tr>\n",
       "    <tr>\n",
       "      <th>8</th>\n",
       "      <td>Data Science</td>\n",
       "      <td>Personal Skills â¢ Ability to quickly grasp t...</td>\n",
       "    </tr>\n",
       "    <tr>\n",
       "      <th>9</th>\n",
       "      <td>Data Science</td>\n",
       "      <td>Expertise â Data and Quantitative Analysis â...</td>\n",
       "    </tr>\n",
       "  </tbody>\n",
       "</table>\n",
       "</div>"
      ],
      "text/plain": [
       "       Category                                             Resume\n",
       "0  Data Science  Skills * Programming Languages: Python (pandas...\n",
       "1  Data Science  Education Details \\nMay 2013 to May 2017 B.E  ...\n",
       "2  Data Science  Areas of Interest Deep Learning, Control Syste...\n",
       "3  Data Science  Skills â¢ R â¢ Python â¢ SAP HANA â¢ Table...\n",
       "4  Data Science  Education Details \\n MCA   YMCAUST,  Faridabad...\n",
       "5  Data Science  SKILLS C Basics, IOT, Python, MATLAB, Data Sci...\n",
       "6  Data Science  Skills â¢ Python â¢ Tableau â¢ Data Visuali...\n",
       "7  Data Science  Education Details \\n B.Tech   Rayat and Bahra ...\n",
       "8  Data Science  Personal Skills â¢ Ability to quickly grasp t...\n",
       "9  Data Science  Expertise â Data and Quantitative Analysis â..."
      ]
     },
     "execution_count": 109,
     "metadata": {},
     "output_type": "execute_result"
    }
   ],
   "source": [
    "Data_Science_data"
   ]
  },
  {
   "cell_type": "code",
   "execution_count": 110,
   "id": "e3b49ff1-88f5-4ead-a40a-a7a13392a607",
   "metadata": {},
   "outputs": [
    {
     "name": "stdout",
     "output_type": "stream",
     "text": [
      "       Category                                             Resume  chosen\n",
      "0  Data Science  Skills * Programming Languages: Python (pandas...       1\n",
      "1  Data Science  Education Details \\nMay 2013 to May 2017 B.E  ...       0\n",
      "2  Data Science  Areas of Interest Deep Learning, Control Syste...       0\n",
      "3  Data Science  Skills â¢ R â¢ Python â¢ SAP HANA â¢ Table...       0\n",
      "4  Data Science  Education Details \\n MCA   YMCAUST,  Faridabad...       0\n",
      "5  Data Science  SKILLS C Basics, IOT, Python, MATLAB, Data Sci...       0\n",
      "6  Data Science  Skills â¢ Python â¢ Tableau â¢ Data Visuali...       0\n",
      "7  Data Science  Education Details \\n B.Tech   Rayat and Bahra ...       1\n",
      "8  Data Science  Personal Skills â¢ Ability to quickly grasp t...       1\n",
      "9  Data Science  Expertise â Data and Quantitative Analysis â...       1\n"
     ]
    },
    {
     "name": "stderr",
     "output_type": "stream",
     "text": [
      "/var/folders/dm/y1vt4m8j43xbl9qk9zyfh22h0000gn/T/ipykernel_85439/1767284651.py:2: SettingWithCopyWarning: \n",
      "A value is trying to be set on a copy of a slice from a DataFrame.\n",
      "Try using .loc[row_indexer,col_indexer] = value instead\n",
      "\n",
      "See the caveats in the documentation: https://pandas.pydata.org/pandas-docs/stable/user_guide/indexing.html#returning-a-view-versus-a-copy\n",
      "  Data_Science_data['chosen'] = Data_Science_data.index.map(lambda x: 1 if x in [0, 7, 8,9] else 0)\n"
     ]
    }
   ],
   "source": [
    "# Create the 'chosen' feature\n",
    "Data_Science_data['chosen'] = Data_Science_data.index.map(lambda x: 1 if x in [0, 7, 8,9] else 0)\n",
    "\n",
    "print(Data_Science_data)"
   ]
  },
  {
   "cell_type": "code",
   "execution_count": 111,
   "id": "51142c53-e659-4170-96b4-0db48cc0d13b",
   "metadata": {},
   "outputs": [
    {
     "data": {
      "text/html": [
       "<div>\n",
       "<style scoped>\n",
       "    .dataframe tbody tr th:only-of-type {\n",
       "        vertical-align: middle;\n",
       "    }\n",
       "\n",
       "    .dataframe tbody tr th {\n",
       "        vertical-align: top;\n",
       "    }\n",
       "\n",
       "    .dataframe thead th {\n",
       "        text-align: right;\n",
       "    }\n",
       "</style>\n",
       "<table border=\"1\" class=\"dataframe\">\n",
       "  <thead>\n",
       "    <tr style=\"text-align: right;\">\n",
       "      <th></th>\n",
       "      <th>Category</th>\n",
       "      <th>Resume</th>\n",
       "      <th>chosen</th>\n",
       "    </tr>\n",
       "  </thead>\n",
       "  <tbody>\n",
       "    <tr>\n",
       "      <th>0</th>\n",
       "      <td>Data Science</td>\n",
       "      <td>Skills * Programming Languages: Python (pandas...</td>\n",
       "      <td>1</td>\n",
       "    </tr>\n",
       "    <tr>\n",
       "      <th>1</th>\n",
       "      <td>Data Science</td>\n",
       "      <td>Education Details \\nMay 2013 to May 2017 B.E  ...</td>\n",
       "      <td>0</td>\n",
       "    </tr>\n",
       "    <tr>\n",
       "      <th>2</th>\n",
       "      <td>Data Science</td>\n",
       "      <td>Areas of Interest Deep Learning, Control Syste...</td>\n",
       "      <td>0</td>\n",
       "    </tr>\n",
       "    <tr>\n",
       "      <th>3</th>\n",
       "      <td>Data Science</td>\n",
       "      <td>Skills â¢ R â¢ Python â¢ SAP HANA â¢ Table...</td>\n",
       "      <td>0</td>\n",
       "    </tr>\n",
       "    <tr>\n",
       "      <th>4</th>\n",
       "      <td>Data Science</td>\n",
       "      <td>Education Details \\n MCA   YMCAUST,  Faridabad...</td>\n",
       "      <td>0</td>\n",
       "    </tr>\n",
       "    <tr>\n",
       "      <th>5</th>\n",
       "      <td>Data Science</td>\n",
       "      <td>SKILLS C Basics, IOT, Python, MATLAB, Data Sci...</td>\n",
       "      <td>0</td>\n",
       "    </tr>\n",
       "    <tr>\n",
       "      <th>6</th>\n",
       "      <td>Data Science</td>\n",
       "      <td>Skills â¢ Python â¢ Tableau â¢ Data Visuali...</td>\n",
       "      <td>0</td>\n",
       "    </tr>\n",
       "    <tr>\n",
       "      <th>7</th>\n",
       "      <td>Data Science</td>\n",
       "      <td>Education Details \\n B.Tech   Rayat and Bahra ...</td>\n",
       "      <td>1</td>\n",
       "    </tr>\n",
       "    <tr>\n",
       "      <th>8</th>\n",
       "      <td>Data Science</td>\n",
       "      <td>Personal Skills â¢ Ability to quickly grasp t...</td>\n",
       "      <td>1</td>\n",
       "    </tr>\n",
       "    <tr>\n",
       "      <th>9</th>\n",
       "      <td>Data Science</td>\n",
       "      <td>Expertise â Data and Quantitative Analysis â...</td>\n",
       "      <td>1</td>\n",
       "    </tr>\n",
       "  </tbody>\n",
       "</table>\n",
       "</div>"
      ],
      "text/plain": [
       "       Category                                             Resume  chosen\n",
       "0  Data Science  Skills * Programming Languages: Python (pandas...       1\n",
       "1  Data Science  Education Details \\nMay 2013 to May 2017 B.E  ...       0\n",
       "2  Data Science  Areas of Interest Deep Learning, Control Syste...       0\n",
       "3  Data Science  Skills â¢ R â¢ Python â¢ SAP HANA â¢ Table...       0\n",
       "4  Data Science  Education Details \\n MCA   YMCAUST,  Faridabad...       0\n",
       "5  Data Science  SKILLS C Basics, IOT, Python, MATLAB, Data Sci...       0\n",
       "6  Data Science  Skills â¢ Python â¢ Tableau â¢ Data Visuali...       0\n",
       "7  Data Science  Education Details \\n B.Tech   Rayat and Bahra ...       1\n",
       "8  Data Science  Personal Skills â¢ Ability to quickly grasp t...       1\n",
       "9  Data Science  Expertise â Data and Quantitative Analysis â...       1"
      ]
     },
     "execution_count": 111,
     "metadata": {},
     "output_type": "execute_result"
    }
   ],
   "source": [
    "Data_Science_data"
   ]
  },
  {
   "cell_type": "code",
   "execution_count": 112,
   "id": "36960996-a682-4fce-ad93-e065a21a7288",
   "metadata": {},
   "outputs": [
    {
     "name": "stdout",
     "output_type": "stream",
     "text": [
      "        Category                                             Resume  chosen\n",
      "0   Data Science  Skills * Programming Languages: Python (pandas...       1\n",
      "1   Data Science  Education Details \\nMay 2013 to May 2017 B.E  ...       0\n",
      "2   Data Science  Areas of Interest Deep Learning, Control Syste...       0\n",
      "3   Data Science  Skills â¢ R â¢ Python â¢ SAP HANA â¢ Table...       0\n",
      "4   Data Science  Education Details \\n MCA   YMCAUST,  Faridabad...       0\n",
      "5   Data Science  SKILLS C Basics, IOT, Python, MATLAB, Data Sci...       0\n",
      "6   Data Science  Skills â¢ Python â¢ Tableau â¢ Data Visuali...       0\n",
      "7   Data Science  Education Details \\n B.Tech   Rayat and Bahra ...       1\n",
      "8   Data Science  Personal Skills â¢ Ability to quickly grasp t...       1\n",
      "9   Data Science  Expertise â Data and Quantitative Analysis â...       1\n",
      "10            HR  \\n HR CONSULTANT       Summary       Subject m...       0\n"
     ]
    }
   ],
   "source": [
    "\n",
    "# New HR CV\n",
    "hr_cv = \"\"\"\n",
    " HR CONSULTANT       Summary       Subject matter expert in HR Applications, and  highly effective at incorporating creative solutions to achieve business objectives, and improve efficiency.  Energetic HR Business Analyst who is self-motivated and results-driven with strong communication, analytical, problem solving and reasoning skills.        Highlights          Analytical skills  Project management  Process improvement  Quality assurance and control  System Applications implementation  Microsoft Office Suite expert      Working independently  Strong interpersonal skills  Results-oriented  Fluent in English and Portuguese  Detail-oriented  Troubleshooting  Problem solving            Experience      HR Consultant   10/2016       Company Name   City  ,   State      HRIS - Business Analyst:   \n",
    "\n",
    "Process demand analysis, scoping, and gathering of\n",
    "requirements for small and large scale HR projects\n",
    "  \n",
    "Prepare Business Requirement Documents after\n",
    "projects have been approved by PMO  Close the gap communication between businesses\n",
    "and IS \n",
    "\n",
    "Support and coordinate functional testing\n",
    "processes to make sure stakeholders' objectives are met  Document systems and process flows  \n",
    "\n",
    "Document and analyze current and future\n",
    "processes/systems  Deliver and Support user training\n",
    "  \n",
    "Process security internal control on the quarterly\n",
    "basis to assess US HR/Payroll system users.   Send recommendations, and remove/add users\n",
    "per business requests from local and global systems   \n",
    "\n",
    "Investigate, coordinate, and resolve with\n",
    "subject matter experts and/or IS regarding local and Global system issues\n",
    "\n",
    "  Request HR global system back end/portal roles\n",
    "for local HRBPs, COE and Front Office users (Americas)  \n",
    "\n",
    "Responsible to coordinate system applications\n",
    "changes and new requirements with IS       People Analytics lead:   \n",
    "\n",
    "Run and deliver the monthly Department of Labor reports\n",
    "  \n",
    "Create, run and deliver reports that are\n",
    "outside GBS People Analytics India's scope  \n",
    "\n",
    "Support both US Front Office, GBS India, and Americas\n",
    "Region Center of Excellence with reports and analysis requests          Business System Applications Analyst   02/2014   to   04/2016     Company Name   City  ,   State       Served as conduit between internal and external customers including the IS team through several HRIS projects and daily activities such as interface and data input troubleshooting   Provided expertise in business analysis for several HRIS projects  Acted as project lead in several HRIS projects, and supported functional testing processes to ensure that system projects meet the needs of all stakeholders  Support user acceptance testing, and user training  Coordinated communications with business and vendors  Documented and analyzed current and future processes/systems  Identified and mapped business needs  Ensured successful project delivery according to business/vendors expectations    Accomplishments:    Implemented Red Carpet/Silkroad On boarding application for US; which improved significantly the new employees' on boarding experience and open visibility to business eliminating cumbersome manual processes  Acted as project lead for the Master Data and Benefits interface projects for the in house ERP implementation project.  Worked closely with ADP and business to implement Affordable Care Act in ERP          HRIS Master Data Team Lead   06/2011   to   02/2014     Company Name   City  ,   State      •\tTrained the HR Specialists to navigate and maintain new/updated system applications and processes  •\tMonitored data quality and accuracy based on local/global internal controls  •\tResponsible for working with ADP IS to implement new/changes on the HRIS system according to payroll, local and global business requirements.​  •\tRan payroll/non payroll impacting mass loads in SAP for payroll, benefits, or other business purposes.  •\tCreated and ran reports for subject matter experts  •\tCreated and ran monthly/quarterly governmental reports  •\tDesigned and documented HR workflow processes  •\tTrained US HR business partners to navigate and utilize the HR/Payroll system   Accomplishments:      Successfully lead and implemented the Workers Comp report project.   Trained the Canadian team on the Global processes for Organization Management and Personnel Administration, and Global System super users          SAP Timekeeping Analyst   05/2009   to   11/2010     Company Name   City  ,   State       Gathered all the necessary business and government requirements, including approvals to create/modify Time calculations for new sites or policy changes.  Collected all the time files according to payroll schedules for payroll processing  Processed data analysis and reconciliation  Worked closely with business, Employees Services, and IS to resolve issues/troubleshooting       Accomplishments :   Delivered the time files\n",
    "without delay for payroll processing for around 47 sites (9,500 employees and around 1,000 contractors)  Designed and implemented solutions\n",
    "through Access and Excel advanced formulas to validate the data quality, and accuracy\n",
    "of the data and time results before transmitting the files to payroll� This replaced the manual process enabling efficiency and delivery of files timely           HR Data and Applications Specialist   04/2007   to   05/2009     Company Name   City  ,   State       Supported Human Resources Shared Services and act as the subject matter expert for SAP HCM and other HR applications.  Supported Finance, Canada / US Payrolls, and Human Resources Shared Services on bi-weekly and year-end activities   Collaborated with Information Systems, Finance, Canada and US Payroll and Human Resources Business owners on Sarbanes-Oxley requirements and system/process enhancements for key areas of responsibility.  Worked closely with business process owners, smes, benefit vendors and Information Systems to ensure data flow were properly planned and managed, and ensure appropriate data quality controls and standards were developed and maintained globally.  Performed root cause analysis, developed and managed corrective action plans.  Run and analyzed interface error reports for Canada and US payroll systems per Sarbanes-Oxley requirements.  Work closely with process owners and Information Systems to research/ identify/ resolve any interface or data issue identified with vendors or payroll systems  Acted as a project liaison between Human Resources and Information System teams for multiple HR or payroll projects (examples: SAP HCM Compensation project, Canadian Payroll system, European Expat project, US Payroll Year End, Benefits Annual Enrollment, SAP releases)  Provided system training and support for Human Resources Shared Services employees globally for key areas of responsibility  Scheduled release calls, prepared work instructions & Knowledge Base Articles, developed and/or coordinated training for Human Resources Shared Services both locally and regionally   Articulated and identified process improvement opportunities within Human Resources   Analyzed and identify processing issues and escalated to Canada and US Payroll, Human Resources and Quality Assurance teams  Created and run Adhoc reports for all Human Resources Shared Services, Internal and External Auditors per Sarbanes-Oxley requirements   Transferred 60 auditing control activities to Quality Assurance team.  Trained new data integrity processors for Quality Assurance   Developed HR compliance reports for Asia, Europe, Canada and US through SAP and DARE systems   Developed 75 reports for external auditors, and developed data integrity and metric reports for 2008 and 2009 Benefits Annual Enrollment   Coordinated testing, meetings, training and communication for Benefits Annual Enrollment for 2008 and 2009 projects for US and Canada.  Lead the review and training of the Canadian Payroll system for all specialists and processors within HR Shared Services           Education      BBA  :   Business Administration   May 2009       Campbell University   City  ,   State  ,   US             Languages    Portuguese, Spanish and English      Skills    Advanced Excel, Access, Word, Visio, Power Point, VBA, SAP HCM, Success Factors (Compensation), Microsoft Project Management, Service Now (ASKHR), Smartsheet, Panaya, SilkRoad - Red Carpet   \n",
    "\n",
    "Skills    NLP , machine learning , deep learning , Advanced Excel, Access, Word, Visio, Power Point, VBA, SAP HCM, Success Factors (Compensation), Microsoft Project Management, Service Now (ASKHR), Smartsheet, Panaya, SilkRoad - Red Carpet.\"\"\"\n",
    "\n",
    "new_row = {\n",
    "    \"Category\": \"HR\",\n",
    "    \"Resume\": hr_cv,\n",
    "    \"chosen\": 0,\n",
    "}\n",
    "\n",
    "new_row_df = pd.DataFrame([new_row]) \n",
    "Data_Science_data = pd.concat([Data_Science_data, new_row_df], ignore_index=True)\n",
    "print(Data_Science_data)"
   ]
  },
  {
   "cell_type": "code",
   "execution_count": 113,
   "id": "b64fa659-30b1-4b17-9956-5cc525eb68a3",
   "metadata": {},
   "outputs": [],
   "source": [
    "Data_Science_data.to_csv(\"Data_Science_data.csv\", index=False)"
   ]
  },
  {
   "cell_type": "code",
   "execution_count": 114,
   "id": "f65b2eeb-398f-4d38-b45b-92d72031ffca",
   "metadata": {},
   "outputs": [],
   "source": [
    "def compute_cosine_similarity(job_desc_embedding, resume_embeddings, resumes_df):\n",
    "    \"\"\"\n",
    "    Computes the cosine similarity between a job description embedding and resume embeddings.\n",
    "\n",
    "    Args:\n",
    "        job_desc_embedding (array-like): Embedding vector for the job description.\n",
    "        resume_embeddings (array-like): Matrix of embeddings for resumes.\n",
    "        resumes_df (pd.DataFrame): DataFrame containing resume data.\n",
    "\n",
    "    Returns:\n",
    "        pd.DataFrame: Updated DataFrame with similarity scores, sorted in descending order.\n",
    "    \"\"\"\n",
    "    # Ensure job_desc_embedding is a 2D array (1, N)\n",
    "    job_desc_embedding = np.array(job_desc_embedding).reshape(1, -1)\n",
    "\n",
    "    # Compute cosine similarity between job description and all resumes\n",
    "    similarity_scores = cosine_similarity(job_desc_embedding, resume_embeddings)[0]\n",
    "\n",
    "    # Create a copy of the DataFrame to avoid modifying a slice\n",
    "    resumes_df = resumes_df.copy()\n",
    "\n",
    "    # Add similarity scores to the DataFrame\n",
    "    resumes_df.loc[:, 'similarity_score'] = similarity_scores\n",
    "\n",
    "    # Sort resumes by similarity score in descending order\n",
    "    resumes_df = resumes_df.sort_values(by='similarity_score', ascending=False)\n",
    "\n",
    "    return resumes_df\n"
   ]
  },
  {
   "cell_type": "code",
   "execution_count": 115,
   "id": "8313c071-d2af-493d-a99e-f0a739f782dc",
   "metadata": {},
   "outputs": [],
   "source": [
    "def evaluate_resume_ranking_general(sorted_resumes, true_label_column=\"chosen\", top_n=None):\n",
    "    \"\"\"\n",
    "    Evaluate the ranking of resumes based on a sorted DataFrame (pre-sorted by scoring method).\n",
    "\n",
    "    Args:\n",
    "        sorted_resumes (pd.DataFrame): Pre-sorted DataFrame based on scoring method (e.g., cosine, BM25, hybrid).\n",
    "        true_label_column (str): The column containing the true labels (default is 'chosen').\n",
    "        top_n (int, optional): Number of top resumes to evaluate. If None, use the total number of 'chosen' resumes.\n",
    "\n",
    "    Returns:\n",
    "        dict: Evaluation metrics including precision, recall, ordering accuracy, and detailed metrics (TP, FP, FN, TN).\n",
    "    \"\"\"\n",
    "    # Step 1: Ground truth: Indices of chosen resumes\n",
    "    true_chosen_indices = sorted_resumes[sorted_resumes[true_label_column] == 1].index.tolist()\n",
    "\n",
    "    # Step 2: Use top_n if provided, otherwise default to the number of true chosen resumes\n",
    "    top_n = max(top_n or len(true_chosen_indices), len(true_chosen_indices))\n",
    "    predicted_top_indices = sorted_resumes.head(top_n).index.tolist()\n",
    "\n",
    "    # Step 3: Evaluate precision\n",
    "    correct_predictions = [idx for idx in predicted_top_indices if idx in true_chosen_indices]\n",
    "    precision = len(correct_predictions) / top_n\n",
    "\n",
    "    # Step 4: Evaluate recall\n",
    "    recall = len(correct_predictions) / len(true_chosen_indices)\n",
    "\n",
    "    # Step 5: Evaluate ordering accuracy\n",
    "    true_chosen_order_in_predictions = [idx for idx in predicted_top_indices if idx in true_chosen_indices]\n",
    "    ordering_accuracy = 1 if true_chosen_order_in_predictions == true_chosen_indices else 0\n",
    "\n",
    "    # Step 6: Calculate TP, FP, FN, TN\n",
    "    TP = set(predicted_top_indices) & set(true_chosen_indices)  # True Positives\n",
    "    FP = set(predicted_top_indices) - set(true_chosen_indices)  # False Positives\n",
    "    FN = set(true_chosen_indices) - set(predicted_top_indices)  # False Negatives\n",
    "    total_indices = list(range(len(sorted_resumes)))  # Total dataset indices\n",
    "    covered_indices = TP | FP | FN  # Indices involved in TP, FP, FN\n",
    "    TN = set(total_indices) - covered_indices  # True Negatives\n",
    "\n",
    "    # Convert to counts\n",
    "    TP_count = len(TP)\n",
    "    FP_count = len(FP)\n",
    "    FN_count = len(FN)\n",
    "    TN_count = len(TN)\n",
    "\n",
    "    # Return evaluation metrics\n",
    "    return {\n",
    "        \"precision\": precision,\n",
    "        \"recall\": recall,\n",
    "        \"ordering_accuracy\": ordering_accuracy,\n",
    "        \"true_chosen_indices\": true_chosen_indices,\n",
    "        \"predicted_top_indices\": predicted_top_indices,\n",
    "        \"TP_count\": TP_count,\n",
    "        \"FP_count\": FP_count,\n",
    "        \"FN_count\": FN_count,\n",
    "        \"TN_count\": TN_count,\n",
    "        \"TP\": TP,\n",
    "        \"FP\": FP,\n",
    "        \"FN\": FN,\n",
    "        \"TN\": TN,\n",
    "    }"
   ]
  },
  {
   "cell_type": "code",
   "execution_count": 280,
   "id": "d97d6713-33d3-4b5c-9732-a2c2da697929",
   "metadata": {},
   "outputs": [],
   "source": [
    "def plot_roc_curve(sorted_resumes, true_label_column=\"chosen\", score_column=\"\"):\n",
    "    \"\"\"\n",
    "    Plot ROC Curve based on sorted resume data.\n",
    "    \n",
    "    Args:\n",
    "        sorted_resumes (pd.DataFrame): DataFrame with true labels and similarity scores.\n",
    "        true_label_column (str): Column containing the true labels (default is 'chosen').\n",
    "        score_column (str): Column containing the similarity scores (used for ranking resumes).\n",
    "    \"\"\"\n",
    "    # Extract true labels and predicted scores\n",
    "    y_true = sorted_resumes[true_label_column].values\n",
    "    y_scores = sorted_resumes[score_column].values\n",
    "\n",
    "    # Compute FPR, TPR, and thresholds\n",
    "    fpr, tpr, thresholds = roc_curve(y_true, y_scores)\n",
    "    roc_auc = auc(fpr, tpr)  # Compute the area under the curve (AUC)\n",
    "\n",
    "    # Plot the ROC Curve\n",
    "    plt.figure(figsize=(8, 6))\n",
    "    plt.plot(fpr, tpr, color='blue', lw=2, label=f'ROC curve (AUC = {roc_auc:.2f})')\n",
    "    plt.plot([0, 1], [0, 1], color='gray', linestyle='--', lw=1, label='Random chance')\n",
    "    plt.xlabel('False Positive Rate')\n",
    "    plt.ylabel('True Positive Rate')\n",
    "    plt.title('Receiver Operating Characteristic (ROC) Curve')\n",
    "    plt.legend(loc=\"lower right\")\n",
    "    plt.grid(alpha=0.3)\n",
    "    plt.show()\n",
    "\n",
    "    return {\"fpr\": fpr, \"tpr\": tpr, \"thresholds\": thresholds, \"roc_auc\": roc_auc}"
   ]
  },
  {
   "cell_type": "markdown",
   "id": "ebadf4c5-2762-4897-821a-02a8968b3277",
   "metadata": {
    "jp-MarkdownHeadingCollapsed": true
   },
   "source": [
    "# try 1"
   ]
  },
  {
   "cell_type": "code",
   "execution_count": 116,
   "id": "80872a76-4e7c-4e80-bcf8-91ec3b724bac",
   "metadata": {},
   "outputs": [],
   "source": [
    "# Text preprocessing function\n",
    "def preprocess_text(text):\n",
    "    # Convert to lowercase \n",
    "    text = text.lower()\n",
    "    # Remove special characters (but keep numbers) keep \n",
    "    text = re.sub(r'[^a-zA-Z0-9-@\\s]', '', text)\n",
    "    # Tokenize text\n",
    "    tokens = word_tokenize(text)\n",
    "    # Remove stopwords\n",
    "    stop_words = set(stopwords.words('english'))\n",
    "    filtered_tokens = [word for word in tokens if word not in stop_words]\n",
    "    return ' '.join(filtered_tokens)"
   ]
  },
  {
   "cell_type": "code",
   "execution_count": 117,
   "id": "6b77f124-d573-4635-889a-cbc3cf08166c",
   "metadata": {},
   "outputs": [
    {
     "data": {
      "text/html": [
       "<div>\n",
       "<style scoped>\n",
       "    .dataframe tbody tr th:only-of-type {\n",
       "        vertical-align: middle;\n",
       "    }\n",
       "\n",
       "    .dataframe tbody tr th {\n",
       "        vertical-align: top;\n",
       "    }\n",
       "\n",
       "    .dataframe thead th {\n",
       "        text-align: right;\n",
       "    }\n",
       "</style>\n",
       "<table border=\"1\" class=\"dataframe\">\n",
       "  <thead>\n",
       "    <tr style=\"text-align: right;\">\n",
       "      <th></th>\n",
       "      <th>Category</th>\n",
       "      <th>Resume</th>\n",
       "      <th>chosen</th>\n",
       "      <th>cleaned_resume</th>\n",
       "    </tr>\n",
       "  </thead>\n",
       "  <tbody>\n",
       "    <tr>\n",
       "      <th>0</th>\n",
       "      <td>Data Science</td>\n",
       "      <td>Skills * Programming Languages: Python (pandas...</td>\n",
       "      <td>1</td>\n",
       "      <td>skills programming languages python pandas num...</td>\n",
       "    </tr>\n",
       "    <tr>\n",
       "      <th>1</th>\n",
       "      <td>Data Science</td>\n",
       "      <td>Education Details \\nMay 2013 to May 2017 B.E  ...</td>\n",
       "      <td>0</td>\n",
       "      <td>education details may 2013 may 2017 uit-rgpvda...</td>\n",
       "    </tr>\n",
       "    <tr>\n",
       "      <th>2</th>\n",
       "      <td>Data Science</td>\n",
       "      <td>Areas of Interest Deep Learning, Control Syste...</td>\n",
       "      <td>0</td>\n",
       "      <td>areas interest deep learning control system de...</td>\n",
       "    </tr>\n",
       "    <tr>\n",
       "      <th>3</th>\n",
       "      <td>Data Science</td>\n",
       "      <td>Skills â¢ R â¢ Python â¢ SAP HANA â¢ Table...</td>\n",
       "      <td>0</td>\n",
       "      <td>skills r python sap hana tableau sap hana sql ...</td>\n",
       "    </tr>\n",
       "    <tr>\n",
       "      <th>4</th>\n",
       "      <td>Data Science</td>\n",
       "      <td>Education Details \\n MCA   YMCAUST,  Faridabad...</td>\n",
       "      <td>0</td>\n",
       "      <td>education details mca ymcaust faridabad haryan...</td>\n",
       "    </tr>\n",
       "    <tr>\n",
       "      <th>5</th>\n",
       "      <td>Data Science</td>\n",
       "      <td>SKILLS C Basics, IOT, Python, MATLAB, Data Sci...</td>\n",
       "      <td>0</td>\n",
       "      <td>skills c basics iot python matlab data science...</td>\n",
       "    </tr>\n",
       "    <tr>\n",
       "      <th>6</th>\n",
       "      <td>Data Science</td>\n",
       "      <td>Skills â¢ Python â¢ Tableau â¢ Data Visuali...</td>\n",
       "      <td>0</td>\n",
       "      <td>skills python tableau data visualization r stu...</td>\n",
       "    </tr>\n",
       "    <tr>\n",
       "      <th>7</th>\n",
       "      <td>Data Science</td>\n",
       "      <td>Education Details \\n B.Tech   Rayat and Bahra ...</td>\n",
       "      <td>1</td>\n",
       "      <td>education details btech rayat bahra institute ...</td>\n",
       "    </tr>\n",
       "    <tr>\n",
       "      <th>8</th>\n",
       "      <td>Data Science</td>\n",
       "      <td>Personal Skills â¢ Ability to quickly grasp t...</td>\n",
       "      <td>1</td>\n",
       "      <td>personal skills ability quickly grasp technica...</td>\n",
       "    </tr>\n",
       "    <tr>\n",
       "      <th>9</th>\n",
       "      <td>Data Science</td>\n",
       "      <td>Expertise â Data and Quantitative Analysis â...</td>\n",
       "      <td>1</td>\n",
       "      <td>expertise data quantitative analysis decision ...</td>\n",
       "    </tr>\n",
       "    <tr>\n",
       "      <th>10</th>\n",
       "      <td>HR</td>\n",
       "      <td>\\n HR CONSULTANT       Summary       Subject m...</td>\n",
       "      <td>0</td>\n",
       "      <td>hr consultant summary subject matter expert hr...</td>\n",
       "    </tr>\n",
       "  </tbody>\n",
       "</table>\n",
       "</div>"
      ],
      "text/plain": [
       "        Category                                             Resume  chosen  \\\n",
       "0   Data Science  Skills * Programming Languages: Python (pandas...       1   \n",
       "1   Data Science  Education Details \\nMay 2013 to May 2017 B.E  ...       0   \n",
       "2   Data Science  Areas of Interest Deep Learning, Control Syste...       0   \n",
       "3   Data Science  Skills â¢ R â¢ Python â¢ SAP HANA â¢ Table...       0   \n",
       "4   Data Science  Education Details \\n MCA   YMCAUST,  Faridabad...       0   \n",
       "5   Data Science  SKILLS C Basics, IOT, Python, MATLAB, Data Sci...       0   \n",
       "6   Data Science  Skills â¢ Python â¢ Tableau â¢ Data Visuali...       0   \n",
       "7   Data Science  Education Details \\n B.Tech   Rayat and Bahra ...       1   \n",
       "8   Data Science  Personal Skills â¢ Ability to quickly grasp t...       1   \n",
       "9   Data Science  Expertise â Data and Quantitative Analysis â...       1   \n",
       "10            HR  \\n HR CONSULTANT       Summary       Subject m...       0   \n",
       "\n",
       "                                       cleaned_resume  \n",
       "0   skills programming languages python pandas num...  \n",
       "1   education details may 2013 may 2017 uit-rgpvda...  \n",
       "2   areas interest deep learning control system de...  \n",
       "3   skills r python sap hana tableau sap hana sql ...  \n",
       "4   education details mca ymcaust faridabad haryan...  \n",
       "5   skills c basics iot python matlab data science...  \n",
       "6   skills python tableau data visualization r stu...  \n",
       "7   education details btech rayat bahra institute ...  \n",
       "8   personal skills ability quickly grasp technica...  \n",
       "9   expertise data quantitative analysis decision ...  \n",
       "10  hr consultant summary subject matter expert hr...  "
      ]
     },
     "execution_count": 117,
     "metadata": {},
     "output_type": "execute_result"
    }
   ],
   "source": [
    "Data_Science_data['cleaned_resume'] = Data_Science_data['Resume'].apply(preprocess_text)\n",
    "Data_Science_data"
   ]
  },
  {
   "cell_type": "code",
   "execution_count": 118,
   "id": "58e43c3d-0b54-4a9c-bb90-4eda812ca6d0",
   "metadata": {},
   "outputs": [],
   "source": [
    "# Load the pre-trained BERT model\n",
    "model = SentenceTransformer('bert-base-nli-mean-tokens')"
   ]
  },
  {
   "cell_type": "code",
   "execution_count": 119,
   "id": "fae3d81f-2d53-427d-b40b-274838fdc21e",
   "metadata": {},
   "outputs": [
    {
     "data": {
      "application/vnd.jupyter.widget-view+json": {
       "model_id": "0cc878d90de14ce89d9880ebd58e4a3e",
       "version_major": 2,
       "version_minor": 0
      },
      "text/plain": [
       "Batches:   0%|          | 0/1 [00:00<?, ?it/s]"
      ]
     },
     "metadata": {},
     "output_type": "display_data"
    }
   ],
   "source": [
    "# Generate BERT embeddings for resumes\n",
    "resume_embeddings = model.encode(Data_Science_data['cleaned_resume'].tolist(), show_progress_bar=True)\n",
    "\n",
    "# Convert embeddings to a NumPy array (for efficient computation)\n",
    "resume_embeddings = np.array(resume_embeddings)"
   ]
  },
  {
   "cell_type": "code",
   "execution_count": 120,
   "id": "40039198-b163-42b3-8448-0d1dace4177e",
   "metadata": {},
   "outputs": [],
   "source": [
    "# Preprocess the job description\n",
    "cleaned_job_desc = preprocess_text(job_description)\n",
    "\n",
    "# Generate BERT embedding for the job description\n",
    "job_desc_embedding = model.encode([cleaned_job_desc])"
   ]
  },
  {
   "cell_type": "code",
   "execution_count": 121,
   "id": "72552b98-c6af-4ef0-824d-90572a60445c",
   "metadata": {},
   "outputs": [
    {
     "name": "stdout",
     "output_type": "stream",
     "text": [
      "Resumes sorted by similarity score:\n",
      "        Category                                             Resume  chosen  \\\n",
      "6   Data Science  Skills â¢ Python â¢ Tableau â¢ Data Visuali...       0   \n",
      "10            HR  \\n HR CONSULTANT       Summary       Subject m...       0   \n",
      "8   Data Science  Personal Skills â¢ Ability to quickly grasp t...       1   \n",
      "9   Data Science  Expertise â Data and Quantitative Analysis â...       1   \n",
      "3   Data Science  Skills â¢ R â¢ Python â¢ SAP HANA â¢ Table...       0   \n",
      "5   Data Science  SKILLS C Basics, IOT, Python, MATLAB, Data Sci...       0   \n",
      "2   Data Science  Areas of Interest Deep Learning, Control Syste...       0   \n",
      "0   Data Science  Skills * Programming Languages: Python (pandas...       1   \n",
      "1   Data Science  Education Details \\nMay 2013 to May 2017 B.E  ...       0   \n",
      "7   Data Science  Education Details \\n B.Tech   Rayat and Bahra ...       1   \n",
      "4   Data Science  Education Details \\n MCA   YMCAUST,  Faridabad...       0   \n",
      "\n",
      "                                       cleaned_resume  similarity_score  \n",
      "6   skills python tableau data visualization r stu...          0.803582  \n",
      "10  hr consultant summary subject matter expert hr...          0.767886  \n",
      "8   personal skills ability quickly grasp technica...          0.740443  \n",
      "9   expertise data quantitative analysis decision ...          0.689926  \n",
      "3   skills r python sap hana tableau sap hana sql ...          0.648497  \n",
      "5   skills c basics iot python matlab data science...          0.627218  \n",
      "2   areas interest deep learning control system de...          0.608804  \n",
      "0   skills programming languages python pandas num...          0.605583  \n",
      "1   education details may 2013 may 2017 uit-rgpvda...          0.509810  \n",
      "7   education details btech rayat bahra institute ...          0.449183  \n",
      "4   education details mca ymcaust faridabad haryan...          0.411005  \n"
     ]
    }
   ],
   "source": [
    "updated_resumes = compute_cosine_similarity(job_desc_embedding, resume_embeddings, Data_Science_data)\n",
    "\n",
    "# Display the results\n",
    "print(\"Resumes sorted by similarity score:\")\n",
    "print(updated_resumes)\n"
   ]
  },
  {
   "cell_type": "code",
   "execution_count": 123,
   "id": "698ce305-0cd9-4d41-a490-47286dca4aba",
   "metadata": {},
   "outputs": [
    {
     "name": "stdout",
     "output_type": "stream",
     "text": [
      "Evaluation Results:\n",
      "{'precision': 0.5, 'recall': 0.5, 'ordering_accuracy': 0, 'true_chosen_indices': [8, 9, 0, 7], 'predicted_top_indices': [6, 10, 8, 9], 'TP_count': 2, 'FP_count': 2, 'FN_count': 2, 'TN_count': 5, 'TP': {8, 9}, 'FP': {10, 6}, 'FN': {0, 7}, 'TN': {1, 2, 3, 4, 5}}\n"
     ]
    }
   ],
   "source": [
    "evaluation_results = evaluate_resume_ranking_general(updated_resumes)\n",
    "print(\"Evaluation Results:\")\n",
    "print(evaluation_results)\n"
   ]
  },
  {
   "cell_type": "code",
   "execution_count": 124,
   "id": "d4af9317-60a9-49e5-b318-6fa37248ecd7",
   "metadata": {},
   "outputs": [
    {
     "data": {
      "text/plain": [
       "[8, 9, 0, 7]"
      ]
     },
     "execution_count": 124,
     "metadata": {},
     "output_type": "execute_result"
    }
   ],
   "source": [
    " # Ground truth: Indices of chosen resumes\n",
    "top_n=None\n",
    "true_chosen_indices = updated_resumes[updated_resumes['chosen'] == 1].index.tolist()\n",
    "predicted_indices = updated_resumes.sort_values(by='similarity_score', ascending=False).index.tolist()\n",
    "top_n = top_n or len(true_chosen_indices)\n",
    "predicted_top_indices = predicted_indices[:top_n]\n",
    "correct_predictions = [idx for idx in predicted_top_indices if idx in true_chosen_indices]\n",
    "precision = len(correct_predictions) / top_n\n",
    "true_chosen_ordered = [idx for idx in predicted_indices if idx in true_chosen_indices]\n",
    "true_chosen_indices"
   ]
  },
  {
   "cell_type": "code",
   "execution_count": 125,
   "id": "17b656b4-3d21-4757-aac0-6f8168b7e4bb",
   "metadata": {},
   "outputs": [
    {
     "data": {
      "image/png": "[encoded data removed]",
      "text/plain": [
       "<Figure size 800x600 with 1 Axes>"
      ]
     },
     "metadata": {},
     "output_type": "display_data"
    },
    {
     "name": "stdout",
     "output_type": "stream",
     "text": [
      "AUC Score: 0.4642857142857143\n"
     ]
    }
   ],
   "source": [
    "roc_results = plot_roc_curve(updated_resumes, true_label_column=\"chosen\", score_column=\"similarity_score\")\n",
    "print(\"AUC Score:\", roc_results[\"roc_auc\"])"
   ]
  },
  {
   "cell_type": "markdown",
   "id": "f97ffffb-76a1-4a83-ae67-f80fa2514ffb",
   "metadata": {
    "jp-MarkdownHeadingCollapsed": true
   },
   "source": [
    "# try 2  upper()"
   ]
  },
  {
   "cell_type": "code",
   "execution_count": 134,
   "id": "bfdb7b48-d1e5-4881-baa7-3b9f4df478a5",
   "metadata": {},
   "outputs": [],
   "source": [
    "Data_Science_data = pd.read_csv(\"Data_Science_data.csv\")"
   ]
  },
  {
   "cell_type": "code",
   "execution_count": 135,
   "id": "da8e8060-6b47-4310-9fd0-35d1753f0940",
   "metadata": {},
   "outputs": [],
   "source": [
    "# Text preprocessing function\n",
    "def preprocess_text(text):\n",
    "    # Convert to lowercase \n",
    "    text = text.upper()\n",
    "    # Remove special characters (but keep numbers) keep \n",
    "    text = re.sub(r'[^a-zA-Z0-9-@\\s]', '', text)\n",
    "    # Tokenize text\n",
    "    tokens = word_tokenize(text)\n",
    "    # Remove stopwords\n",
    "    stop_words = set(stopwords.words('english'))\n",
    "    filtered_tokens = [word for word in tokens if word not in stop_words]\n",
    "    return ' '.join(filtered_tokens)"
   ]
  },
  {
   "cell_type": "code",
   "execution_count": 136,
   "id": "19a4da29-2e27-439f-b45a-330f0c088a65",
   "metadata": {},
   "outputs": [
    {
     "data": {
      "text/html": [
       "<div>\n",
       "<style scoped>\n",
       "    .dataframe tbody tr th:only-of-type {\n",
       "        vertical-align: middle;\n",
       "    }\n",
       "\n",
       "    .dataframe tbody tr th {\n",
       "        vertical-align: top;\n",
       "    }\n",
       "\n",
       "    .dataframe thead th {\n",
       "        text-align: right;\n",
       "    }\n",
       "</style>\n",
       "<table border=\"1\" class=\"dataframe\">\n",
       "  <thead>\n",
       "    <tr style=\"text-align: right;\">\n",
       "      <th></th>\n",
       "      <th>Category</th>\n",
       "      <th>Resume</th>\n",
       "      <th>chosen</th>\n",
       "      <th>cleaned_resume</th>\n",
       "    </tr>\n",
       "  </thead>\n",
       "  <tbody>\n",
       "    <tr>\n",
       "      <th>0</th>\n",
       "      <td>Data Science</td>\n",
       "      <td>Skills * Programming Languages: Python (pandas...</td>\n",
       "      <td>1</td>\n",
       "      <td>SKILLS PROGRAMMING LANGUAGES PYTHON PANDAS NUM...</td>\n",
       "    </tr>\n",
       "    <tr>\n",
       "      <th>1</th>\n",
       "      <td>Data Science</td>\n",
       "      <td>Education Details \\nMay 2013 to May 2017 B.E  ...</td>\n",
       "      <td>0</td>\n",
       "      <td>EDUCATION DETAILS MAY 2013 TO MAY 2017 BE UIT-...</td>\n",
       "    </tr>\n",
       "    <tr>\n",
       "      <th>2</th>\n",
       "      <td>Data Science</td>\n",
       "      <td>Areas of Interest Deep Learning, Control Syste...</td>\n",
       "      <td>0</td>\n",
       "      <td>AREAS OF INTEREST DEEP LEARNING CONTROL SYSTEM...</td>\n",
       "    </tr>\n",
       "    <tr>\n",
       "      <th>3</th>\n",
       "      <td>Data Science</td>\n",
       "      <td>Skills â¢ R â¢ Python â¢ SAP HANA â¢ Table...</td>\n",
       "      <td>0</td>\n",
       "      <td>SKILLS R PYTHON SAP HANA TABLEAU SAP HANA SQL ...</td>\n",
       "    </tr>\n",
       "    <tr>\n",
       "      <th>4</th>\n",
       "      <td>Data Science</td>\n",
       "      <td>Education Details \\n MCA   YMCAUST,  Faridabad...</td>\n",
       "      <td>0</td>\n",
       "      <td>EDUCATION DETAILS MCA YMCAUST FARIDABAD HARYAN...</td>\n",
       "    </tr>\n",
       "    <tr>\n",
       "      <th>5</th>\n",
       "      <td>Data Science</td>\n",
       "      <td>SKILLS C Basics, IOT, Python, MATLAB, Data Sci...</td>\n",
       "      <td>0</td>\n",
       "      <td>SKILLS C BASICS IOT PYTHON MATLAB DATA SCIENCE...</td>\n",
       "    </tr>\n",
       "    <tr>\n",
       "      <th>6</th>\n",
       "      <td>Data Science</td>\n",
       "      <td>Skills â¢ Python â¢ Tableau â¢ Data Visuali...</td>\n",
       "      <td>0</td>\n",
       "      <td>SKILLS PYTHON TABLEAU DATA VISUALIZATION R STU...</td>\n",
       "    </tr>\n",
       "    <tr>\n",
       "      <th>7</th>\n",
       "      <td>Data Science</td>\n",
       "      <td>Education Details \\n B.Tech   Rayat and Bahra ...</td>\n",
       "      <td>1</td>\n",
       "      <td>EDUCATION DETAILS BTECH RAYAT AND BAHRA INSTIT...</td>\n",
       "    </tr>\n",
       "    <tr>\n",
       "      <th>8</th>\n",
       "      <td>Data Science</td>\n",
       "      <td>Personal Skills â¢ Ability to quickly grasp t...</td>\n",
       "      <td>1</td>\n",
       "      <td>PERSONAL SKILLS ABILITY TO QUICKLY GRASP TECHN...</td>\n",
       "    </tr>\n",
       "    <tr>\n",
       "      <th>9</th>\n",
       "      <td>Data Science</td>\n",
       "      <td>Expertise â Data and Quantitative Analysis â...</td>\n",
       "      <td>1</td>\n",
       "      <td>EXPERTISE DATA AND QUANTITATIVE ANALYSIS DECIS...</td>\n",
       "    </tr>\n",
       "    <tr>\n",
       "      <th>10</th>\n",
       "      <td>HR</td>\n",
       "      <td>\\n HR CONSULTANT       Summary       Subject m...</td>\n",
       "      <td>0</td>\n",
       "      <td>HR CONSULTANT SUMMARY SUBJECT MATTER EXPERT IN...</td>\n",
       "    </tr>\n",
       "  </tbody>\n",
       "</table>\n",
       "</div>"
      ],
      "text/plain": [
       "        Category                                             Resume  chosen  \\\n",
       "0   Data Science  Skills * Programming Languages: Python (pandas...       1   \n",
       "1   Data Science  Education Details \\nMay 2013 to May 2017 B.E  ...       0   \n",
       "2   Data Science  Areas of Interest Deep Learning, Control Syste...       0   \n",
       "3   Data Science  Skills â¢ R â¢ Python â¢ SAP HANA â¢ Table...       0   \n",
       "4   Data Science  Education Details \\n MCA   YMCAUST,  Faridabad...       0   \n",
       "5   Data Science  SKILLS C Basics, IOT, Python, MATLAB, Data Sci...       0   \n",
       "6   Data Science  Skills â¢ Python â¢ Tableau â¢ Data Visuali...       0   \n",
       "7   Data Science  Education Details \\n B.Tech   Rayat and Bahra ...       1   \n",
       "8   Data Science  Personal Skills â¢ Ability to quickly grasp t...       1   \n",
       "9   Data Science  Expertise â Data and Quantitative Analysis â...       1   \n",
       "10            HR  \\n HR CONSULTANT       Summary       Subject m...       0   \n",
       "\n",
       "                                       cleaned_resume  \n",
       "0   SKILLS PROGRAMMING LANGUAGES PYTHON PANDAS NUM...  \n",
       "1   EDUCATION DETAILS MAY 2013 TO MAY 2017 BE UIT-...  \n",
       "2   AREAS OF INTEREST DEEP LEARNING CONTROL SYSTEM...  \n",
       "3   SKILLS R PYTHON SAP HANA TABLEAU SAP HANA SQL ...  \n",
       "4   EDUCATION DETAILS MCA YMCAUST FARIDABAD HARYAN...  \n",
       "5   SKILLS C BASICS IOT PYTHON MATLAB DATA SCIENCE...  \n",
       "6   SKILLS PYTHON TABLEAU DATA VISUALIZATION R STU...  \n",
       "7   EDUCATION DETAILS BTECH RAYAT AND BAHRA INSTIT...  \n",
       "8   PERSONAL SKILLS ABILITY TO QUICKLY GRASP TECHN...  \n",
       "9   EXPERTISE DATA AND QUANTITATIVE ANALYSIS DECIS...  \n",
       "10  HR CONSULTANT SUMMARY SUBJECT MATTER EXPERT IN...  "
      ]
     },
     "execution_count": 136,
     "metadata": {},
     "output_type": "execute_result"
    }
   ],
   "source": [
    "Data_Science_data['cleaned_resume'] = Data_Science_data['Resume'].apply(preprocess_text)\n",
    "Data_Science_data"
   ]
  },
  {
   "cell_type": "code",
   "execution_count": 137,
   "id": "6d9c801f-41ce-4715-844a-5ab053331358",
   "metadata": {},
   "outputs": [],
   "source": [
    "# Load the pre-trained BERT model\n",
    "model = SentenceTransformer('bert-base-nli-mean-tokens')"
   ]
  },
  {
   "cell_type": "code",
   "execution_count": 138,
   "id": "c014d948-6e86-48d1-906f-d21cf4114366",
   "metadata": {},
   "outputs": [
    {
     "data": {
      "application/vnd.jupyter.widget-view+json": {
       "model_id": "06699b7dae1f4f1782b544c503b6cca2",
       "version_major": 2,
       "version_minor": 0
      },
      "text/plain": [
       "Batches:   0%|          | 0/1 [00:00<?, ?it/s]"
      ]
     },
     "metadata": {},
     "output_type": "display_data"
    }
   ],
   "source": [
    "# Generate BERT embeddings for resumes\n",
    "resume_embeddings = model.encode(Data_Science_data['cleaned_resume'].tolist(), show_progress_bar=True)\n",
    "\n",
    "# Convert embeddings to a NumPy array (for efficient computation)\n",
    "resume_embeddings = np.array(resume_embeddings)"
   ]
  },
  {
   "cell_type": "code",
   "execution_count": 139,
   "id": "9e8ba0d3-5447-4333-b524-ebb8c8a67a01",
   "metadata": {},
   "outputs": [],
   "source": [
    "# Preprocess the job description\n",
    "cleaned_job_desc = preprocess_text(job_description)\n",
    "\n",
    "# Generate BERT embedding for the job description\n",
    "job_desc_embedding = model.encode([cleaned_job_desc])"
   ]
  },
  {
   "cell_type": "code",
   "execution_count": 140,
   "id": "69ad5bd1-34b8-4311-b5a5-1ac32eb6cbb9",
   "metadata": {},
   "outputs": [
    {
     "name": "stdout",
     "output_type": "stream",
     "text": [
      "Resumes sorted by similarity score:\n",
      "        Category                                             Resume  chosen  \\\n",
      "6   Data Science  Skills â¢ Python â¢ Tableau â¢ Data Visuali...       0   \n",
      "10            HR  \\n HR CONSULTANT       Summary       Subject m...       0   \n",
      "8   Data Science  Personal Skills â¢ Ability to quickly grasp t...       1   \n",
      "9   Data Science  Expertise â Data and Quantitative Analysis â...       1   \n",
      "3   Data Science  Skills â¢ R â¢ Python â¢ SAP HANA â¢ Table...       0   \n",
      "5   Data Science  SKILLS C Basics, IOT, Python, MATLAB, Data Sci...       0   \n",
      "0   Data Science  Skills * Programming Languages: Python (pandas...       1   \n",
      "2   Data Science  Areas of Interest Deep Learning, Control Syste...       0   \n",
      "1   Data Science  Education Details \\nMay 2013 to May 2017 B.E  ...       0   \n",
      "7   Data Science  Education Details \\n B.Tech   Rayat and Bahra ...       1   \n",
      "4   Data Science  Education Details \\n MCA   YMCAUST,  Faridabad...       0   \n",
      "\n",
      "                                       cleaned_resume  similarity_score  \n",
      "6   SKILLS PYTHON TABLEAU DATA VISUALIZATION R STU...          0.790673  \n",
      "10  HR CONSULTANT SUMMARY SUBJECT MATTER EXPERT IN...          0.753414  \n",
      "8   PERSONAL SKILLS ABILITY TO QUICKLY GRASP TECHN...          0.713435  \n",
      "9   EXPERTISE DATA AND QUANTITATIVE ANALYSIS DECIS...          0.631243  \n",
      "3   SKILLS R PYTHON SAP HANA TABLEAU SAP HANA SQL ...          0.601220  \n",
      "5   SKILLS C BASICS IOT PYTHON MATLAB DATA SCIENCE...          0.579986  \n",
      "0   SKILLS PROGRAMMING LANGUAGES PYTHON PANDAS NUM...          0.542634  \n",
      "2   AREAS OF INTEREST DEEP LEARNING CONTROL SYSTEM...          0.542384  \n",
      "1   EDUCATION DETAILS MAY 2013 TO MAY 2017 BE UIT-...          0.462342  \n",
      "7   EDUCATION DETAILS BTECH RAYAT AND BAHRA INSTIT...          0.377276  \n",
      "4   EDUCATION DETAILS MCA YMCAUST FARIDABAD HARYAN...          0.372178  \n"
     ]
    }
   ],
   "source": [
    "updated_resumes = compute_cosine_similarity(job_desc_embedding, resume_embeddings, Data_Science_data)\n",
    "\n",
    "# Display the results\n",
    "print(\"Resumes sorted by similarity score:\")\n",
    "print(updated_resumes)"
   ]
  },
  {
   "cell_type": "code",
   "execution_count": 141,
   "id": "7a5811c1-b107-4647-b731-96cce6236ff7",
   "metadata": {},
   "outputs": [
    {
     "name": "stdout",
     "output_type": "stream",
     "text": [
      "Evaluation Results:\n",
      "{'precision': 0.5, 'recall': 0.5, 'ordering_accuracy': 0, 'true_chosen_indices': [8, 9, 0, 7], 'predicted_top_indices': [6, 10, 8, 9], 'TP_count': 2, 'FP_count': 2, 'FN_count': 2, 'TN_count': 5, 'TP': {8, 9}, 'FP': {10, 6}, 'FN': {0, 7}, 'TN': {1, 2, 3, 4, 5}}\n"
     ]
    }
   ],
   "source": [
    "evaluation_results = evaluate_resume_ranking_general(updated_resumes)\n",
    "print(\"Evaluation Results:\")\n",
    "print(evaluation_results)"
   ]
  },
  {
   "cell_type": "code",
   "execution_count": 142,
   "id": "ead3ce71-76be-4736-b559-86530dba0b89",
   "metadata": {},
   "outputs": [
    {
     "data": {
      "image/png": "[encoded data removed]",
      "text/plain": [
       "<Figure size 800x600 with 1 Axes>"
      ]
     },
     "metadata": {},
     "output_type": "display_data"
    },
    {
     "name": "stdout",
     "output_type": "stream",
     "text": [
      "AUC Score: 0.5\n"
     ]
    }
   ],
   "source": [
    "roc_results = plot_roc_curve(updated_resumes, true_label_column=\"chosen\", score_column=\"similarity_score\")\n",
    "print(\"AUC Score:\", roc_results[\"roc_auc\"])"
   ]
  },
  {
   "cell_type": "markdown",
   "id": "82a948b9-1355-4f32-87f3-4397f1baedbc",
   "metadata": {
    "jp-MarkdownHeadingCollapsed": true
   },
   "source": [
    "# try 3  ( with out Preprocessing)"
   ]
  },
  {
   "cell_type": "code",
   "execution_count": 143,
   "id": "762c6cf7-f2f0-4423-ba13-8ceacd3f62e5",
   "metadata": {},
   "outputs": [],
   "source": [
    "Data_Science_data = pd.read_csv(\"Data_Science_data.csv\")"
   ]
  },
  {
   "cell_type": "code",
   "execution_count": 144,
   "id": "cb586cde-fb0b-4d21-92d4-24eed0a3371c",
   "metadata": {},
   "outputs": [
    {
     "data": {
      "application/vnd.jupyter.widget-view+json": {
       "model_id": "0add4e3d75ac4e7da056cf1954d1273c",
       "version_major": 2,
       "version_minor": 0
      },
      "text/plain": [
       "Batches:   0%|          | 0/1 [00:00<?, ?it/s]"
      ]
     },
     "metadata": {},
     "output_type": "display_data"
    }
   ],
   "source": [
    "# Load the pre-trained BERT model\n",
    "model = SentenceTransformer('bert-base-nli-mean-tokens')\n",
    "# Generate BERT embeddings for resumes\n",
    "resume_embeddings = model.encode(Data_Science_data['Resume'].tolist(), show_progress_bar=True)\n",
    "\n",
    "# Convert embeddings to a NumPy array (for efficient computation)\n",
    "resume_embeddings = np.array(resume_embeddings)\n",
    "# Generate BERT embedding for the job description\n",
    "job_desc_embedding = model.encode([job_description])"
   ]
  },
  {
   "cell_type": "code",
   "execution_count": 145,
   "id": "988867de-1e01-4258-910c-1ca80bbdea5e",
   "metadata": {},
   "outputs": [
    {
     "name": "stdout",
     "output_type": "stream",
     "text": [
      "Resumes sorted by similarity score:\n",
      "        Category                                             Resume  chosen  \\\n",
      "6   Data Science  Skills â¢ Python â¢ Tableau â¢ Data Visuali...       0   \n",
      "10            HR  \\n HR CONSULTANT       Summary       Subject m...       0   \n",
      "8   Data Science  Personal Skills â¢ Ability to quickly grasp t...       1   \n",
      "9   Data Science  Expertise â Data and Quantitative Analysis â...       1   \n",
      "5   Data Science  SKILLS C Basics, IOT, Python, MATLAB, Data Sci...       0   \n",
      "3   Data Science  Skills â¢ R â¢ Python â¢ SAP HANA â¢ Table...       0   \n",
      "2   Data Science  Areas of Interest Deep Learning, Control Syste...       0   \n",
      "0   Data Science  Skills * Programming Languages: Python (pandas...       1   \n",
      "1   Data Science  Education Details \\nMay 2013 to May 2017 B.E  ...       0   \n",
      "7   Data Science  Education Details \\n B.Tech   Rayat and Bahra ...       1   \n",
      "4   Data Science  Education Details \\n MCA   YMCAUST,  Faridabad...       0   \n",
      "\n",
      "    similarity_score  \n",
      "6           0.793481  \n",
      "10          0.758973  \n",
      "8           0.675265  \n",
      "9           0.627562  \n",
      "5           0.619737  \n",
      "3           0.609181  \n",
      "2           0.532214  \n",
      "0           0.500902  \n",
      "1           0.477447  \n",
      "7           0.389063  \n",
      "4           0.383648  \n"
     ]
    }
   ],
   "source": [
    "updated_resumes = compute_cosine_similarity(job_desc_embedding, resume_embeddings, Data_Science_data)\n",
    "\n",
    "# Display the results\n",
    "print(\"Resumes sorted by similarity score:\")\n",
    "print(updated_resumes)"
   ]
  },
  {
   "cell_type": "code",
   "execution_count": 146,
   "id": "c25acaaa-0241-4a8e-95b3-77916f25b9d8",
   "metadata": {},
   "outputs": [
    {
     "name": "stdout",
     "output_type": "stream",
     "text": [
      "Evaluation Results:\n",
      "{'precision': 0.5, 'recall': 0.5, 'ordering_accuracy': 0, 'true_chosen_indices': [8, 9, 0, 7], 'predicted_top_indices': [6, 10, 8, 9], 'TP_count': 2, 'FP_count': 2, 'FN_count': 2, 'TN_count': 5, 'TP': {8, 9}, 'FP': {10, 6}, 'FN': {0, 7}, 'TN': {1, 2, 3, 4, 5}}\n"
     ]
    }
   ],
   "source": [
    "evaluation_results = evaluate_resume_ranking_general(updated_resumes)\n",
    "print(\"Evaluation Results:\")\n",
    "print(evaluation_results)"
   ]
  },
  {
   "cell_type": "code",
   "execution_count": 147,
   "id": "8301b945-aad3-4f14-8dbc-96aff3ea70c2",
   "metadata": {},
   "outputs": [
    {
     "data": {
      "image/png": "[encoded data removed]",
      "text/plain": [
       "<Figure size 800x600 with 1 Axes>"
      ]
     },
     "metadata": {},
     "output_type": "display_data"
    },
    {
     "name": "stdout",
     "output_type": "stream",
     "text": [
      "AUC Score: 0.4642857142857143\n"
     ]
    }
   ],
   "source": [
    "roc_results = plot_roc_curve(updated_resumes, true_label_column=\"chosen\", score_column=\"similarity_score\")\n",
    "print(\"AUC Score:\", roc_results[\"roc_auc\"])"
   ]
  },
  {
   "cell_type": "markdown",
   "id": "701348e7-6074-4418-b3d4-e141ee33ee7c",
   "metadata": {
    "jp-MarkdownHeadingCollapsed": true
   },
   "source": [
    "# try 4 with all-MiniLM-L6-v2 model embedding lower"
   ]
  },
  {
   "cell_type": "code",
   "execution_count": 148,
   "id": "f0289fbd-885d-4eee-9570-ad5e29b0c0ec",
   "metadata": {},
   "outputs": [],
   "source": [
    "Data_Science_data = pd.read_csv(\"Data_Science_data.csv\")"
   ]
  },
  {
   "cell_type": "code",
   "execution_count": 149,
   "id": "b583691f-d8ec-4edf-9a40-75be438666e7",
   "metadata": {},
   "outputs": [],
   "source": [
    "# Text preprocessing function\n",
    "def preprocess_text(text):\n",
    "    # Convert to lowercase\n",
    "    text = text.lower()\n",
    "    # Remove special characters (but keep numbers) keep \n",
    "    text = re.sub(r'[^a-zA-Z0-9-@\\s]', '', text)\n",
    "    # Tokenize text\n",
    "    tokens = word_tokenize(text)\n",
    "    # Remove stopwords\n",
    "    stop_words = set(stopwords.words('english'))\n",
    "    filtered_tokens = [word for word in tokens if word not in stop_words]\n",
    "    return ' '.join(filtered_tokens)"
   ]
  },
  {
   "cell_type": "code",
   "execution_count": 150,
   "id": "c2a11899-0bc5-4871-a664-91e6bd5924a0",
   "metadata": {},
   "outputs": [
    {
     "data": {
      "text/html": [
       "<div>\n",
       "<style scoped>\n",
       "    .dataframe tbody tr th:only-of-type {\n",
       "        vertical-align: middle;\n",
       "    }\n",
       "\n",
       "    .dataframe tbody tr th {\n",
       "        vertical-align: top;\n",
       "    }\n",
       "\n",
       "    .dataframe thead th {\n",
       "        text-align: right;\n",
       "    }\n",
       "</style>\n",
       "<table border=\"1\" class=\"dataframe\">\n",
       "  <thead>\n",
       "    <tr style=\"text-align: right;\">\n",
       "      <th></th>\n",
       "      <th>Category</th>\n",
       "      <th>Resume</th>\n",
       "      <th>chosen</th>\n",
       "      <th>cleaned_resume</th>\n",
       "    </tr>\n",
       "  </thead>\n",
       "  <tbody>\n",
       "    <tr>\n",
       "      <th>0</th>\n",
       "      <td>Data Science</td>\n",
       "      <td>Skills * Programming Languages: Python (pandas...</td>\n",
       "      <td>1</td>\n",
       "      <td>skills programming languages python pandas num...</td>\n",
       "    </tr>\n",
       "    <tr>\n",
       "      <th>1</th>\n",
       "      <td>Data Science</td>\n",
       "      <td>Education Details \\nMay 2013 to May 2017 B.E  ...</td>\n",
       "      <td>0</td>\n",
       "      <td>education details may 2013 may 2017 uit-rgpvda...</td>\n",
       "    </tr>\n",
       "    <tr>\n",
       "      <th>2</th>\n",
       "      <td>Data Science</td>\n",
       "      <td>Areas of Interest Deep Learning, Control Syste...</td>\n",
       "      <td>0</td>\n",
       "      <td>areas interest deep learning control system de...</td>\n",
       "    </tr>\n",
       "    <tr>\n",
       "      <th>3</th>\n",
       "      <td>Data Science</td>\n",
       "      <td>Skills â¢ R â¢ Python â¢ SAP HANA â¢ Table...</td>\n",
       "      <td>0</td>\n",
       "      <td>skills r python sap hana tableau sap hana sql ...</td>\n",
       "    </tr>\n",
       "    <tr>\n",
       "      <th>4</th>\n",
       "      <td>Data Science</td>\n",
       "      <td>Education Details \\n MCA   YMCAUST,  Faridabad...</td>\n",
       "      <td>0</td>\n",
       "      <td>education details mca ymcaust faridabad haryan...</td>\n",
       "    </tr>\n",
       "    <tr>\n",
       "      <th>5</th>\n",
       "      <td>Data Science</td>\n",
       "      <td>SKILLS C Basics, IOT, Python, MATLAB, Data Sci...</td>\n",
       "      <td>0</td>\n",
       "      <td>skills c basics iot python matlab data science...</td>\n",
       "    </tr>\n",
       "    <tr>\n",
       "      <th>6</th>\n",
       "      <td>Data Science</td>\n",
       "      <td>Skills â¢ Python â¢ Tableau â¢ Data Visuali...</td>\n",
       "      <td>0</td>\n",
       "      <td>skills python tableau data visualization r stu...</td>\n",
       "    </tr>\n",
       "    <tr>\n",
       "      <th>7</th>\n",
       "      <td>Data Science</td>\n",
       "      <td>Education Details \\n B.Tech   Rayat and Bahra ...</td>\n",
       "      <td>1</td>\n",
       "      <td>education details btech rayat bahra institute ...</td>\n",
       "    </tr>\n",
       "    <tr>\n",
       "      <th>8</th>\n",
       "      <td>Data Science</td>\n",
       "      <td>Personal Skills â¢ Ability to quickly grasp t...</td>\n",
       "      <td>1</td>\n",
       "      <td>personal skills ability quickly grasp technica...</td>\n",
       "    </tr>\n",
       "    <tr>\n",
       "      <th>9</th>\n",
       "      <td>Data Science</td>\n",
       "      <td>Expertise â Data and Quantitative Analysis â...</td>\n",
       "      <td>1</td>\n",
       "      <td>expertise data quantitative analysis decision ...</td>\n",
       "    </tr>\n",
       "    <tr>\n",
       "      <th>10</th>\n",
       "      <td>HR</td>\n",
       "      <td>\\n HR CONSULTANT       Summary       Subject m...</td>\n",
       "      <td>0</td>\n",
       "      <td>hr consultant summary subject matter expert hr...</td>\n",
       "    </tr>\n",
       "  </tbody>\n",
       "</table>\n",
       "</div>"
      ],
      "text/plain": [
       "        Category                                             Resume  chosen  \\\n",
       "0   Data Science  Skills * Programming Languages: Python (pandas...       1   \n",
       "1   Data Science  Education Details \\nMay 2013 to May 2017 B.E  ...       0   \n",
       "2   Data Science  Areas of Interest Deep Learning, Control Syste...       0   \n",
       "3   Data Science  Skills â¢ R â¢ Python â¢ SAP HANA â¢ Table...       0   \n",
       "4   Data Science  Education Details \\n MCA   YMCAUST,  Faridabad...       0   \n",
       "5   Data Science  SKILLS C Basics, IOT, Python, MATLAB, Data Sci...       0   \n",
       "6   Data Science  Skills â¢ Python â¢ Tableau â¢ Data Visuali...       0   \n",
       "7   Data Science  Education Details \\n B.Tech   Rayat and Bahra ...       1   \n",
       "8   Data Science  Personal Skills â¢ Ability to quickly grasp t...       1   \n",
       "9   Data Science  Expertise â Data and Quantitative Analysis â...       1   \n",
       "10            HR  \\n HR CONSULTANT       Summary       Subject m...       0   \n",
       "\n",
       "                                       cleaned_resume  \n",
       "0   skills programming languages python pandas num...  \n",
       "1   education details may 2013 may 2017 uit-rgpvda...  \n",
       "2   areas interest deep learning control system de...  \n",
       "3   skills r python sap hana tableau sap hana sql ...  \n",
       "4   education details mca ymcaust faridabad haryan...  \n",
       "5   skills c basics iot python matlab data science...  \n",
       "6   skills python tableau data visualization r stu...  \n",
       "7   education details btech rayat bahra institute ...  \n",
       "8   personal skills ability quickly grasp technica...  \n",
       "9   expertise data quantitative analysis decision ...  \n",
       "10  hr consultant summary subject matter expert hr...  "
      ]
     },
     "execution_count": 150,
     "metadata": {},
     "output_type": "execute_result"
    }
   ],
   "source": [
    "Data_Science_data['cleaned_resume'] = Data_Science_data['Resume'].apply(preprocess_text)\n",
    "Data_Science_data"
   ]
  },
  {
   "cell_type": "code",
   "execution_count": 151,
   "id": "86ad9630-e8b2-4d8c-b0e5-713605ca25b1",
   "metadata": {},
   "outputs": [
    {
     "data": {
      "application/vnd.jupyter.widget-view+json": {
       "model_id": "ce10ace87c2b4c5fa8261807fdbff928",
       "version_major": 2,
       "version_minor": 0
      },
      "text/plain": [
       "Batches:   0%|          | 0/1 [00:00<?, ?it/s]"
      ]
     },
     "metadata": {},
     "output_type": "display_data"
    }
   ],
   "source": [
    "# Load the pre-trained BERT model\n",
    "model = SentenceTransformer('all-MiniLM-L6-v2')\n",
    "# Generate BERT embeddings for resumes\n",
    "resume_embeddings = model.encode(Data_Science_data['cleaned_resume'].tolist(), show_progress_bar=True)\n",
    "\n",
    "# Convert embeddings to a NumPy array (for efficient computation)\n",
    "resume_embeddings = np.array(resume_embeddings)\n",
    "# Preprocess the job description\n",
    "cleaned_job_desc = preprocess_text(job_description)\n",
    "\n",
    "# Generate BERT embedding for the job description\n",
    "job_desc_embedding = model.encode([cleaned_job_desc])"
   ]
  },
  {
   "cell_type": "code",
   "execution_count": 152,
   "id": "a3736a64-cefe-47d2-aac5-a8698c33872f",
   "metadata": {},
   "outputs": [
    {
     "name": "stdout",
     "output_type": "stream",
     "text": [
      "Resumes sorted by similarity score:\n",
      "        Category                                             Resume  chosen  \\\n",
      "8   Data Science  Personal Skills â¢ Ability to quickly grasp t...       1   \n",
      "7   Data Science  Education Details \\n B.Tech   Rayat and Bahra ...       1   \n",
      "0   Data Science  Skills * Programming Languages: Python (pandas...       1   \n",
      "9   Data Science  Expertise â Data and Quantitative Analysis â...       1   \n",
      "6   Data Science  Skills â¢ Python â¢ Tableau â¢ Data Visuali...       0   \n",
      "1   Data Science  Education Details \\nMay 2013 to May 2017 B.E  ...       0   \n",
      "10            HR  \\n HR CONSULTANT       Summary       Subject m...       0   \n",
      "2   Data Science  Areas of Interest Deep Learning, Control Syste...       0   \n",
      "3   Data Science  Skills â¢ R â¢ Python â¢ SAP HANA â¢ Table...       0   \n",
      "5   Data Science  SKILLS C Basics, IOT, Python, MATLAB, Data Sci...       0   \n",
      "4   Data Science  Education Details \\n MCA   YMCAUST,  Faridabad...       0   \n",
      "\n",
      "                                       cleaned_resume  similarity_score  \n",
      "8   personal skills ability quickly grasp technica...          0.702186  \n",
      "7   education details btech rayat bahra institute ...          0.700334  \n",
      "0   skills programming languages python pandas num...          0.693810  \n",
      "9   expertise data quantitative analysis decision ...          0.681737  \n",
      "6   skills python tableau data visualization r stu...          0.668836  \n",
      "1   education details may 2013 may 2017 uit-rgpvda...          0.609117  \n",
      "10  hr consultant summary subject matter expert hr...          0.604349  \n",
      "2   areas interest deep learning control system de...          0.601863  \n",
      "3   skills r python sap hana tableau sap hana sql ...          0.548185  \n",
      "5   skills c basics iot python matlab data science...          0.535058  \n",
      "4   education details mca ymcaust faridabad haryan...          0.413073  \n"
     ]
    }
   ],
   "source": [
    "updated_resumes = compute_cosine_similarity(job_desc_embedding, resume_embeddings, Data_Science_data)\n",
    "\n",
    "# Display the results\n",
    "print(\"Resumes sorted by similarity score:\")\n",
    "print(updated_resumes)"
   ]
  },
  {
   "cell_type": "code",
   "execution_count": 153,
   "id": "3ae4e41c-0401-4f41-a839-0ad5ad58f2f4",
   "metadata": {},
   "outputs": [
    {
     "name": "stdout",
     "output_type": "stream",
     "text": [
      "Evaluation Results:\n",
      "{'precision': 1.0, 'recall': 1.0, 'ordering_accuracy': 1, 'true_chosen_indices': [8, 7, 0, 9], 'predicted_top_indices': [8, 7, 0, 9], 'TP_count': 4, 'FP_count': 0, 'FN_count': 0, 'TN_count': 7, 'TP': {8, 0, 9, 7}, 'FP': set(), 'FN': set(), 'TN': {1, 2, 3, 4, 5, 6, 10}}\n"
     ]
    }
   ],
   "source": [
    "evaluation_results = evaluate_resume_ranking_general(updated_resumes)\n",
    "print(\"Evaluation Results:\")\n",
    "print(evaluation_results)"
   ]
  },
  {
   "cell_type": "code",
   "execution_count": 154,
   "id": "713cacb2-c66e-4c7d-8cb5-6fcad93a0d32",
   "metadata": {},
   "outputs": [
    {
     "data": {
      "image/png": "[encoded data removed]",
      "text/plain": [
       "<Figure size 800x600 with 1 Axes>"
      ]
     },
     "metadata": {},
     "output_type": "display_data"
    },
    {
     "name": "stdout",
     "output_type": "stream",
     "text": [
      "AUC Score: 1.0\n"
     ]
    }
   ],
   "source": [
    "roc_results = plot_roc_curve(updated_resumes, true_label_column=\"chosen\", score_column=\"similarity_score\")\n",
    "print(\"AUC Score:\", roc_results[\"roc_auc\"])"
   ]
  },
  {
   "cell_type": "markdown",
   "id": "3b999a8a-8556-482a-9847-e40446c838fa",
   "metadata": {
    "jp-MarkdownHeadingCollapsed": true
   },
   "source": [
    "# try 5 with all-MiniLM-L6-v2 model embedding upper"
   ]
  },
  {
   "cell_type": "code",
   "execution_count": 155,
   "id": "9386f883-59a0-434b-8f4e-56ca4adc3f6f",
   "metadata": {},
   "outputs": [],
   "source": [
    "# Text preprocessing function\n",
    "def preprocess_text(text):\n",
    "    # Convert to lowercase , try upper \n",
    "    text = text.upper()\n",
    "    # Remove special characters (but keep numbers) keep \n",
    "    text = re.sub(r'[^a-zA-Z0-9-@\\s]', '', text)\n",
    "    # Tokenize text\n",
    "    tokens = word_tokenize(text)\n",
    "    # Remove stopwords\n",
    "    stop_words = set(stopwords.words('english'))\n",
    "    filtered_tokens = [word for word in tokens if word not in stop_words]\n",
    "    return ' '.join(filtered_tokens)"
   ]
  },
  {
   "cell_type": "code",
   "execution_count": 156,
   "id": "620ef183-7200-41c5-8135-e39d397e9644",
   "metadata": {},
   "outputs": [
    {
     "data": {
      "text/html": [
       "<div>\n",
       "<style scoped>\n",
       "    .dataframe tbody tr th:only-of-type {\n",
       "        vertical-align: middle;\n",
       "    }\n",
       "\n",
       "    .dataframe tbody tr th {\n",
       "        vertical-align: top;\n",
       "    }\n",
       "\n",
       "    .dataframe thead th {\n",
       "        text-align: right;\n",
       "    }\n",
       "</style>\n",
       "<table border=\"1\" class=\"dataframe\">\n",
       "  <thead>\n",
       "    <tr style=\"text-align: right;\">\n",
       "      <th></th>\n",
       "      <th>Category</th>\n",
       "      <th>Resume</th>\n",
       "      <th>chosen</th>\n",
       "      <th>cleaned_resume</th>\n",
       "    </tr>\n",
       "  </thead>\n",
       "  <tbody>\n",
       "    <tr>\n",
       "      <th>0</th>\n",
       "      <td>Data Science</td>\n",
       "      <td>Skills * Programming Languages: Python (pandas...</td>\n",
       "      <td>1</td>\n",
       "      <td>SKILLS PROGRAMMING LANGUAGES PYTHON PANDAS NUM...</td>\n",
       "    </tr>\n",
       "    <tr>\n",
       "      <th>1</th>\n",
       "      <td>Data Science</td>\n",
       "      <td>Education Details \\nMay 2013 to May 2017 B.E  ...</td>\n",
       "      <td>0</td>\n",
       "      <td>EDUCATION DETAILS MAY 2013 TO MAY 2017 BE UIT-...</td>\n",
       "    </tr>\n",
       "    <tr>\n",
       "      <th>2</th>\n",
       "      <td>Data Science</td>\n",
       "      <td>Areas of Interest Deep Learning, Control Syste...</td>\n",
       "      <td>0</td>\n",
       "      <td>AREAS OF INTEREST DEEP LEARNING CONTROL SYSTEM...</td>\n",
       "    </tr>\n",
       "    <tr>\n",
       "      <th>3</th>\n",
       "      <td>Data Science</td>\n",
       "      <td>Skills â¢ R â¢ Python â¢ SAP HANA â¢ Table...</td>\n",
       "      <td>0</td>\n",
       "      <td>SKILLS R PYTHON SAP HANA TABLEAU SAP HANA SQL ...</td>\n",
       "    </tr>\n",
       "    <tr>\n",
       "      <th>4</th>\n",
       "      <td>Data Science</td>\n",
       "      <td>Education Details \\n MCA   YMCAUST,  Faridabad...</td>\n",
       "      <td>0</td>\n",
       "      <td>EDUCATION DETAILS MCA YMCAUST FARIDABAD HARYAN...</td>\n",
       "    </tr>\n",
       "    <tr>\n",
       "      <th>5</th>\n",
       "      <td>Data Science</td>\n",
       "      <td>SKILLS C Basics, IOT, Python, MATLAB, Data Sci...</td>\n",
       "      <td>0</td>\n",
       "      <td>SKILLS C BASICS IOT PYTHON MATLAB DATA SCIENCE...</td>\n",
       "    </tr>\n",
       "    <tr>\n",
       "      <th>6</th>\n",
       "      <td>Data Science</td>\n",
       "      <td>Skills â¢ Python â¢ Tableau â¢ Data Visuali...</td>\n",
       "      <td>0</td>\n",
       "      <td>SKILLS PYTHON TABLEAU DATA VISUALIZATION R STU...</td>\n",
       "    </tr>\n",
       "    <tr>\n",
       "      <th>7</th>\n",
       "      <td>Data Science</td>\n",
       "      <td>Education Details \\n B.Tech   Rayat and Bahra ...</td>\n",
       "      <td>1</td>\n",
       "      <td>EDUCATION DETAILS BTECH RAYAT AND BAHRA INSTIT...</td>\n",
       "    </tr>\n",
       "    <tr>\n",
       "      <th>8</th>\n",
       "      <td>Data Science</td>\n",
       "      <td>Personal Skills â¢ Ability to quickly grasp t...</td>\n",
       "      <td>1</td>\n",
       "      <td>PERSONAL SKILLS ABILITY TO QUICKLY GRASP TECHN...</td>\n",
       "    </tr>\n",
       "    <tr>\n",
       "      <th>9</th>\n",
       "      <td>Data Science</td>\n",
       "      <td>Expertise â Data and Quantitative Analysis â...</td>\n",
       "      <td>1</td>\n",
       "      <td>EXPERTISE DATA AND QUANTITATIVE ANALYSIS DECIS...</td>\n",
       "    </tr>\n",
       "    <tr>\n",
       "      <th>10</th>\n",
       "      <td>HR</td>\n",
       "      <td>\\n HR CONSULTANT       Summary       Subject m...</td>\n",
       "      <td>0</td>\n",
       "      <td>HR CONSULTANT SUMMARY SUBJECT MATTER EXPERT IN...</td>\n",
       "    </tr>\n",
       "  </tbody>\n",
       "</table>\n",
       "</div>"
      ],
      "text/plain": [
       "        Category                                             Resume  chosen  \\\n",
       "0   Data Science  Skills * Programming Languages: Python (pandas...       1   \n",
       "1   Data Science  Education Details \\nMay 2013 to May 2017 B.E  ...       0   \n",
       "2   Data Science  Areas of Interest Deep Learning, Control Syste...       0   \n",
       "3   Data Science  Skills â¢ R â¢ Python â¢ SAP HANA â¢ Table...       0   \n",
       "4   Data Science  Education Details \\n MCA   YMCAUST,  Faridabad...       0   \n",
       "5   Data Science  SKILLS C Basics, IOT, Python, MATLAB, Data Sci...       0   \n",
       "6   Data Science  Skills â¢ Python â¢ Tableau â¢ Data Visuali...       0   \n",
       "7   Data Science  Education Details \\n B.Tech   Rayat and Bahra ...       1   \n",
       "8   Data Science  Personal Skills â¢ Ability to quickly grasp t...       1   \n",
       "9   Data Science  Expertise â Data and Quantitative Analysis â...       1   \n",
       "10            HR  \\n HR CONSULTANT       Summary       Subject m...       0   \n",
       "\n",
       "                                       cleaned_resume  \n",
       "0   SKILLS PROGRAMMING LANGUAGES PYTHON PANDAS NUM...  \n",
       "1   EDUCATION DETAILS MAY 2013 TO MAY 2017 BE UIT-...  \n",
       "2   AREAS OF INTEREST DEEP LEARNING CONTROL SYSTEM...  \n",
       "3   SKILLS R PYTHON SAP HANA TABLEAU SAP HANA SQL ...  \n",
       "4   EDUCATION DETAILS MCA YMCAUST FARIDABAD HARYAN...  \n",
       "5   SKILLS C BASICS IOT PYTHON MATLAB DATA SCIENCE...  \n",
       "6   SKILLS PYTHON TABLEAU DATA VISUALIZATION R STU...  \n",
       "7   EDUCATION DETAILS BTECH RAYAT AND BAHRA INSTIT...  \n",
       "8   PERSONAL SKILLS ABILITY TO QUICKLY GRASP TECHN...  \n",
       "9   EXPERTISE DATA AND QUANTITATIVE ANALYSIS DECIS...  \n",
       "10  HR CONSULTANT SUMMARY SUBJECT MATTER EXPERT IN...  "
      ]
     },
     "execution_count": 156,
     "metadata": {},
     "output_type": "execute_result"
    }
   ],
   "source": [
    "Data_Science_data['cleaned_resume'] = Data_Science_data['Resume'].apply(preprocess_text)\n",
    "Data_Science_data"
   ]
  },
  {
   "cell_type": "code",
   "execution_count": 157,
   "id": "aef04800-2a34-4a8a-bbf0-b989f6ea7a37",
   "metadata": {},
   "outputs": [
    {
     "data": {
      "application/vnd.jupyter.widget-view+json": {
       "model_id": "7488e4fca5eb4ecf94899d902307a6b8",
       "version_major": 2,
       "version_minor": 0
      },
      "text/plain": [
       "Batches:   0%|          | 0/1 [00:00<?, ?it/s]"
      ]
     },
     "metadata": {},
     "output_type": "display_data"
    }
   ],
   "source": [
    "# Load the pre-trained BERT model\n",
    "model = SentenceTransformer('all-MiniLM-L6-v2')\n",
    "# Generate BERT embeddings for resumes\n",
    "resume_embeddings = model.encode(Data_Science_data['cleaned_resume'].tolist(), show_progress_bar=True)\n",
    "\n",
    "# Convert embeddings to a NumPy array (for efficient computation)\n",
    "resume_embeddings = np.array(resume_embeddings)\n",
    "# Preprocess the job description\n",
    "cleaned_job_desc = preprocess_text(job_description)\n",
    "\n",
    "# Generate BERT embedding for the job description\n",
    "job_desc_embedding = model.encode([cleaned_job_desc])"
   ]
  },
  {
   "cell_type": "code",
   "execution_count": 158,
   "id": "4cd122f1-68e3-4e11-af93-7fdff9e8a0d7",
   "metadata": {},
   "outputs": [
    {
     "name": "stdout",
     "output_type": "stream",
     "text": [
      "Resumes sorted by similarity score:\n",
      "        Category                                             Resume  chosen  \\\n",
      "7   Data Science  Education Details \\n B.Tech   Rayat and Bahra ...       1   \n",
      "8   Data Science  Personal Skills â¢ Ability to quickly grasp t...       1   \n",
      "9   Data Science  Expertise â Data and Quantitative Analysis â...       1   \n",
      "1   Data Science  Education Details \\nMay 2013 to May 2017 B.E  ...       0   \n",
      "5   Data Science  SKILLS C Basics, IOT, Python, MATLAB, Data Sci...       0   \n",
      "0   Data Science  Skills * Programming Languages: Python (pandas...       1   \n",
      "6   Data Science  Skills â¢ Python â¢ Tableau â¢ Data Visuali...       0   \n",
      "2   Data Science  Areas of Interest Deep Learning, Control Syste...       0   \n",
      "3   Data Science  Skills â¢ R â¢ Python â¢ SAP HANA â¢ Table...       0   \n",
      "10            HR  \\n HR CONSULTANT       Summary       Subject m...       0   \n",
      "4   Data Science  Education Details \\n MCA   YMCAUST,  Faridabad...       0   \n",
      "\n",
      "                                       cleaned_resume  similarity_score  \n",
      "7   EDUCATION DETAILS BTECH RAYAT AND BAHRA INSTIT...          0.671469  \n",
      "8   PERSONAL SKILLS ABILITY TO QUICKLY GRASP TECHN...          0.586641  \n",
      "9   EXPERTISE DATA AND QUANTITATIVE ANALYSIS DECIS...          0.516333  \n",
      "1   EDUCATION DETAILS MAY 2013 TO MAY 2017 BE UIT-...          0.514922  \n",
      "5   SKILLS C BASICS IOT PYTHON MATLAB DATA SCIENCE...          0.496882  \n",
      "0   SKILLS PROGRAMMING LANGUAGES PYTHON PANDAS NUM...          0.490891  \n",
      "6   SKILLS PYTHON TABLEAU DATA VISUALIZATION R STU...          0.483707  \n",
      "2   AREAS OF INTEREST DEEP LEARNING CONTROL SYSTEM...          0.479465  \n",
      "3   SKILLS R PYTHON SAP HANA TABLEAU SAP HANA SQL ...          0.451775  \n",
      "10  HR CONSULTANT SUMMARY SUBJECT MATTER EXPERT IN...          0.404773  \n",
      "4   EDUCATION DETAILS MCA YMCAUST FARIDABAD HARYAN...          0.333688  \n"
     ]
    }
   ],
   "source": [
    "updated_resumes = compute_cosine_similarity(job_desc_embedding, resume_embeddings, Data_Science_data)\n",
    "\n",
    "# Display the results\n",
    "print(\"Resumes sorted by similarity score:\")\n",
    "print(updated_resumes)"
   ]
  },
  {
   "cell_type": "code",
   "execution_count": 159,
   "id": "d3f324d5-34d6-4459-a4f9-6b2dec0a32ba",
   "metadata": {},
   "outputs": [
    {
     "name": "stdout",
     "output_type": "stream",
     "text": [
      "Evaluation Results:\n",
      "{'precision': 0.75, 'recall': 0.75, 'ordering_accuracy': 0, 'true_chosen_indices': [7, 8, 9, 0], 'predicted_top_indices': [7, 8, 9, 1], 'TP_count': 3, 'FP_count': 1, 'FN_count': 1, 'TN_count': 6, 'TP': {8, 9, 7}, 'FP': {1}, 'FN': {0}, 'TN': {2, 3, 4, 5, 6, 10}}\n"
     ]
    }
   ],
   "source": [
    "evaluation_results = evaluate_resume_ranking_general(updated_resumes)\n",
    "print(\"Evaluation Results:\")\n",
    "print(evaluation_results)"
   ]
  },
  {
   "cell_type": "code",
   "execution_count": 160,
   "id": "6b1059d1-90f8-4525-91b4-00e6520bae3c",
   "metadata": {},
   "outputs": [
    {
     "data": {
      "image/png": "[encoded data removed]",
      "text/plain": [
       "<Figure size 800x600 with 1 Axes>"
      ]
     },
     "metadata": {},
     "output_type": "display_data"
    },
    {
     "name": "stdout",
     "output_type": "stream",
     "text": [
      "AUC Score: 0.9285714285714286\n"
     ]
    }
   ],
   "source": [
    "roc_results = plot_roc_curve(updated_resumes, true_label_column=\"chosen\", score_column=\"similarity_score\")\n",
    "print(\"AUC Score:\", roc_results[\"roc_auc\"])"
   ]
  },
  {
   "cell_type": "markdown",
   "id": "6081c278-bd8a-4b76-84b5-3d8c27d732fb",
   "metadata": {
    "jp-MarkdownHeadingCollapsed": true
   },
   "source": [
    "# try 6 with all-MiniLM-L6-v2 model embedding ( with out Preprocessing)"
   ]
  },
  {
   "cell_type": "code",
   "execution_count": 161,
   "id": "7cef5a7a-183d-4d2f-9334-3a42a4dc967f",
   "metadata": {},
   "outputs": [],
   "source": [
    "Data_Science_data = pd.read_csv(\"Data_Science_data.csv\")"
   ]
  },
  {
   "cell_type": "code",
   "execution_count": 162,
   "id": "1a798d53-64c1-4393-ae29-6acbb675fd08",
   "metadata": {},
   "outputs": [
    {
     "data": {
      "application/vnd.jupyter.widget-view+json": {
       "model_id": "f6f499fad7c64f519dc2a7a60d59f717",
       "version_major": 2,
       "version_minor": 0
      },
      "text/plain": [
       "Batches:   0%|          | 0/1 [00:00<?, ?it/s]"
      ]
     },
     "metadata": {},
     "output_type": "display_data"
    }
   ],
   "source": [
    "# Load the pre-trained BERT model\n",
    "model = SentenceTransformer('all-MiniLM-L6-v2')\n",
    "# Generate BERT embeddings for resumes\n",
    "resume_embeddings = model.encode(Data_Science_data['Resume'].tolist(), show_progress_bar=True)\n",
    "\n",
    "# Convert embeddings to a NumPy array (for efficient computation)\n",
    "resume_embeddings = np.array(resume_embeddings)\n",
    "# Generate BERT embedding for the job description\n",
    "job_desc_embedding = model.encode([cleaned_job_desc])"
   ]
  },
  {
   "cell_type": "code",
   "execution_count": 163,
   "id": "22a93706-b523-4edc-868b-62364708121e",
   "metadata": {},
   "outputs": [
    {
     "name": "stdout",
     "output_type": "stream",
     "text": [
      "Resumes sorted by similarity score:\n",
      "        Category                                             Resume  chosen  \\\n",
      "8   Data Science  Personal Skills â¢ Ability to quickly grasp t...       1   \n",
      "7   Data Science  Education Details \\n B.Tech   Rayat and Bahra ...       1   \n",
      "0   Data Science  Skills * Programming Languages: Python (pandas...       1   \n",
      "3   Data Science  Skills â¢ R â¢ Python â¢ SAP HANA â¢ Table...       0   \n",
      "6   Data Science  Skills â¢ Python â¢ Tableau â¢ Data Visuali...       0   \n",
      "2   Data Science  Areas of Interest Deep Learning, Control Syste...       0   \n",
      "9   Data Science  Expertise â Data and Quantitative Analysis â...       1   \n",
      "1   Data Science  Education Details \\nMay 2013 to May 2017 B.E  ...       0   \n",
      "5   Data Science  SKILLS C Basics, IOT, Python, MATLAB, Data Sci...       0   \n",
      "10            HR  \\n HR CONSULTANT       Summary       Subject m...       0   \n",
      "4   Data Science  Education Details \\n MCA   YMCAUST,  Faridabad...       0   \n",
      "\n",
      "    similarity_score  \n",
      "8           0.624288  \n",
      "7           0.606203  \n",
      "0           0.515606  \n",
      "3           0.479428  \n",
      "6           0.475822  \n",
      "2           0.472908  \n",
      "9           0.471966  \n",
      "1           0.471800  \n",
      "5           0.462441  \n",
      "10          0.408543  \n",
      "4           0.316363  \n"
     ]
    }
   ],
   "source": [
    "updated_resumes = compute_cosine_similarity(job_desc_embedding, resume_embeddings, Data_Science_data)\n",
    "\n",
    "# Display the results\n",
    "print(\"Resumes sorted by similarity score:\")\n",
    "print(updated_resumes)"
   ]
  },
  {
   "cell_type": "code",
   "execution_count": 164,
   "id": "e6e7a320-1167-4b02-b8aa-3c873b60d2b6",
   "metadata": {},
   "outputs": [
    {
     "name": "stdout",
     "output_type": "stream",
     "text": [
      "Evaluation Results:\n",
      "{'precision': 0.75, 'recall': 0.75, 'ordering_accuracy': 0, 'true_chosen_indices': [8, 7, 0, 9], 'predicted_top_indices': [8, 7, 0, 3], 'TP_count': 3, 'FP_count': 1, 'FN_count': 1, 'TN_count': 6, 'TP': {8, 0, 7}, 'FP': {3}, 'FN': {9}, 'TN': {1, 2, 4, 5, 6, 10}}\n"
     ]
    }
   ],
   "source": [
    "evaluation_results = evaluate_resume_ranking_general(updated_resumes)\n",
    "print(\"Evaluation Results:\")\n",
    "print(evaluation_results)"
   ]
  },
  {
   "cell_type": "code",
   "execution_count": 165,
   "id": "5f5bbd43-ce92-4364-ba97-9f68ec5e0d81",
   "metadata": {},
   "outputs": [
    {
     "data": {
      "image/png": "[encoded data removed]",
      "text/plain": [
       "<Figure size 800x600 with 1 Axes>"
      ]
     },
     "metadata": {},
     "output_type": "display_data"
    },
    {
     "name": "stdout",
     "output_type": "stream",
     "text": [
      "AUC Score: 0.8928571428571428\n"
     ]
    }
   ],
   "source": [
    "roc_results = plot_roc_curve(updated_resumes, true_label_column=\"chosen\", score_column=\"similarity_score\")\n",
    "print(\"AUC Score:\", roc_results[\"roc_auc\"])"
   ]
  },
  {
   "cell_type": "markdown",
   "id": "7214619f-5fb9-464e-b7e4-654785b684a7",
   "metadata": {
    "jp-MarkdownHeadingCollapsed": true
   },
   "source": [
    "# try 7 with all-MiniLM-L6-v2 model embedding lower with normlize the embedding"
   ]
  },
  {
   "cell_type": "code",
   "execution_count": 173,
   "id": "7c3435a6-7779-4297-8a5c-05aef1b61497",
   "metadata": {},
   "outputs": [],
   "source": [
    "Data_Science_data = pd.read_csv(\"Data_Science_data.csv\")"
   ]
  },
  {
   "cell_type": "code",
   "execution_count": 174,
   "id": "a04eda8e-5a93-4e0c-a0a4-8aba54831f60",
   "metadata": {},
   "outputs": [],
   "source": [
    "# Text preprocessing function\n",
    "def preprocess_text(text):\n",
    "    # Convert to lowercase\n",
    "    text = text.lower()\n",
    "    # Remove special characters (but keep numbers) keep \n",
    "    text = re.sub(r'[^a-zA-Z0-9-@\\s]', '', text)\n",
    "    # Tokenize text\n",
    "    tokens = word_tokenize(text)\n",
    "    # Remove stopwords\n",
    "    stop_words = set(stopwords.words('english'))\n",
    "    filtered_tokens = [word for word in tokens if word not in stop_words]\n",
    "    return ' '.join(filtered_tokens)"
   ]
  },
  {
   "cell_type": "code",
   "execution_count": 175,
   "id": "6f123b8c-3e8d-4374-a669-b74f33f2fc49",
   "metadata": {},
   "outputs": [
    {
     "data": {
      "text/html": [
       "<div>\n",
       "<style scoped>\n",
       "    .dataframe tbody tr th:only-of-type {\n",
       "        vertical-align: middle;\n",
       "    }\n",
       "\n",
       "    .dataframe tbody tr th {\n",
       "        vertical-align: top;\n",
       "    }\n",
       "\n",
       "    .dataframe thead th {\n",
       "        text-align: right;\n",
       "    }\n",
       "</style>\n",
       "<table border=\"1\" class=\"dataframe\">\n",
       "  <thead>\n",
       "    <tr style=\"text-align: right;\">\n",
       "      <th></th>\n",
       "      <th>Category</th>\n",
       "      <th>Resume</th>\n",
       "      <th>chosen</th>\n",
       "      <th>cleaned_resume</th>\n",
       "    </tr>\n",
       "  </thead>\n",
       "  <tbody>\n",
       "    <tr>\n",
       "      <th>0</th>\n",
       "      <td>Data Science</td>\n",
       "      <td>Skills * Programming Languages: Python (pandas...</td>\n",
       "      <td>1</td>\n",
       "      <td>skills programming languages python pandas num...</td>\n",
       "    </tr>\n",
       "    <tr>\n",
       "      <th>1</th>\n",
       "      <td>Data Science</td>\n",
       "      <td>Education Details \\nMay 2013 to May 2017 B.E  ...</td>\n",
       "      <td>0</td>\n",
       "      <td>education details may 2013 may 2017 uit-rgpvda...</td>\n",
       "    </tr>\n",
       "    <tr>\n",
       "      <th>2</th>\n",
       "      <td>Data Science</td>\n",
       "      <td>Areas of Interest Deep Learning, Control Syste...</td>\n",
       "      <td>0</td>\n",
       "      <td>areas interest deep learning control system de...</td>\n",
       "    </tr>\n",
       "    <tr>\n",
       "      <th>3</th>\n",
       "      <td>Data Science</td>\n",
       "      <td>Skills â¢ R â¢ Python â¢ SAP HANA â¢ Table...</td>\n",
       "      <td>0</td>\n",
       "      <td>skills r python sap hana tableau sap hana sql ...</td>\n",
       "    </tr>\n",
       "    <tr>\n",
       "      <th>4</th>\n",
       "      <td>Data Science</td>\n",
       "      <td>Education Details \\n MCA   YMCAUST,  Faridabad...</td>\n",
       "      <td>0</td>\n",
       "      <td>education details mca ymcaust faridabad haryan...</td>\n",
       "    </tr>\n",
       "    <tr>\n",
       "      <th>5</th>\n",
       "      <td>Data Science</td>\n",
       "      <td>SKILLS C Basics, IOT, Python, MATLAB, Data Sci...</td>\n",
       "      <td>0</td>\n",
       "      <td>skills c basics iot python matlab data science...</td>\n",
       "    </tr>\n",
       "    <tr>\n",
       "      <th>6</th>\n",
       "      <td>Data Science</td>\n",
       "      <td>Skills â¢ Python â¢ Tableau â¢ Data Visuali...</td>\n",
       "      <td>0</td>\n",
       "      <td>skills python tableau data visualization r stu...</td>\n",
       "    </tr>\n",
       "    <tr>\n",
       "      <th>7</th>\n",
       "      <td>Data Science</td>\n",
       "      <td>Education Details \\n B.Tech   Rayat and Bahra ...</td>\n",
       "      <td>1</td>\n",
       "      <td>education details btech rayat bahra institute ...</td>\n",
       "    </tr>\n",
       "    <tr>\n",
       "      <th>8</th>\n",
       "      <td>Data Science</td>\n",
       "      <td>Personal Skills â¢ Ability to quickly grasp t...</td>\n",
       "      <td>1</td>\n",
       "      <td>personal skills ability quickly grasp technica...</td>\n",
       "    </tr>\n",
       "    <tr>\n",
       "      <th>9</th>\n",
       "      <td>Data Science</td>\n",
       "      <td>Expertise â Data and Quantitative Analysis â...</td>\n",
       "      <td>1</td>\n",
       "      <td>expertise data quantitative analysis decision ...</td>\n",
       "    </tr>\n",
       "    <tr>\n",
       "      <th>10</th>\n",
       "      <td>HR</td>\n",
       "      <td>\\n HR CONSULTANT       Summary       Subject m...</td>\n",
       "      <td>0</td>\n",
       "      <td>hr consultant summary subject matter expert hr...</td>\n",
       "    </tr>\n",
       "  </tbody>\n",
       "</table>\n",
       "</div>"
      ],
      "text/plain": [
       "        Category                                             Resume  chosen  \\\n",
       "0   Data Science  Skills * Programming Languages: Python (pandas...       1   \n",
       "1   Data Science  Education Details \\nMay 2013 to May 2017 B.E  ...       0   \n",
       "2   Data Science  Areas of Interest Deep Learning, Control Syste...       0   \n",
       "3   Data Science  Skills â¢ R â¢ Python â¢ SAP HANA â¢ Table...       0   \n",
       "4   Data Science  Education Details \\n MCA   YMCAUST,  Faridabad...       0   \n",
       "5   Data Science  SKILLS C Basics, IOT, Python, MATLAB, Data Sci...       0   \n",
       "6   Data Science  Skills â¢ Python â¢ Tableau â¢ Data Visuali...       0   \n",
       "7   Data Science  Education Details \\n B.Tech   Rayat and Bahra ...       1   \n",
       "8   Data Science  Personal Skills â¢ Ability to quickly grasp t...       1   \n",
       "9   Data Science  Expertise â Data and Quantitative Analysis â...       1   \n",
       "10            HR  \\n HR CONSULTANT       Summary       Subject m...       0   \n",
       "\n",
       "                                       cleaned_resume  \n",
       "0   skills programming languages python pandas num...  \n",
       "1   education details may 2013 may 2017 uit-rgpvda...  \n",
       "2   areas interest deep learning control system de...  \n",
       "3   skills r python sap hana tableau sap hana sql ...  \n",
       "4   education details mca ymcaust faridabad haryan...  \n",
       "5   skills c basics iot python matlab data science...  \n",
       "6   skills python tableau data visualization r stu...  \n",
       "7   education details btech rayat bahra institute ...  \n",
       "8   personal skills ability quickly grasp technica...  \n",
       "9   expertise data quantitative analysis decision ...  \n",
       "10  hr consultant summary subject matter expert hr...  "
      ]
     },
     "execution_count": 175,
     "metadata": {},
     "output_type": "execute_result"
    }
   ],
   "source": [
    "Data_Science_data['cleaned_resume'] = Data_Science_data['Resume'].apply(preprocess_text)\n",
    "Data_Science_data"
   ]
  },
  {
   "cell_type": "code",
   "execution_count": 176,
   "id": "0ff257dc-0972-4a98-aeae-cdb96ec8e1f8",
   "metadata": {},
   "outputs": [
    {
     "data": {
      "application/vnd.jupyter.widget-view+json": {
       "model_id": "2eef77b4756247f6b6b9a233953f0c53",
       "version_major": 2,
       "version_minor": 0
      },
      "text/plain": [
       "Batches:   0%|          | 0/1 [00:00<?, ?it/s]"
      ]
     },
     "metadata": {},
     "output_type": "display_data"
    }
   ],
   "source": [
    "\n",
    "# Load the pre-trained BERT model\n",
    "model = SentenceTransformer('all-MiniLM-L6-v2')\n",
    "\n",
    "# Generate BERT embeddings for resumes\n",
    "resume_embeddings = model.encode(Data_Science_data['cleaned_resume'].tolist(), show_progress_bar=True)\n",
    "\n",
    "# Convert the embeddings to a PyTorch tensor\n",
    "resume_embeddings = torch.tensor(resume_embeddings)\n",
    "\n",
    "# Normalize the resume embeddings (using PyTorch's normalize function)\n",
    "resume_embeddings = torch.nn.functional.normalize(resume_embeddings, p=2, dim=1)\n"
   ]
  },
  {
   "cell_type": "code",
   "execution_count": 177,
   "id": "538fe77f-0206-4ef5-9619-b1ad83fea143",
   "metadata": {},
   "outputs": [],
   "source": [
    "# Preprocess the job description\n",
    "cleaned_job_desc = preprocess_text(job_description)\n",
    "\n",
    "# Generate BERT embedding for the job description\n",
    "job_desc_embedding = model.encode([cleaned_job_desc])\n",
    "\n",
    "# Convert the job description embedding to a PyTorch tensor\n",
    "job_desc_embedding = torch.tensor(job_desc_embedding)\n",
    "\n",
    "# Normalize the job description embedding\n",
    "job_desc_embedding = torch.nn.functional.normalize(job_desc_embedding, p=2, dim=1)\n"
   ]
  },
  {
   "cell_type": "code",
   "execution_count": 178,
   "id": "84e038c9-ff6f-4e5e-94c3-04933e88c30d",
   "metadata": {},
   "outputs": [
    {
     "name": "stdout",
     "output_type": "stream",
     "text": [
      "Resumes sorted by similarity score:\n",
      "                                               Resume  similarity_score  \\\n",
      "8   Personal Skills â¢ Ability to quickly grasp t...          0.702185   \n",
      "7   Education Details \\n B.Tech   Rayat and Bahra ...          0.700333   \n",
      "0   Skills * Programming Languages: Python (pandas...          0.693809   \n",
      "9   Expertise â Data and Quantitative Analysis â...          0.681737   \n",
      "6   Skills â¢ Python â¢ Tableau â¢ Data Visuali...          0.668836   \n",
      "1   Education Details \\nMay 2013 to May 2017 B.E  ...          0.609117   \n",
      "10  \\n HR CONSULTANT       Summary       Subject m...          0.604349   \n",
      "2   Areas of Interest Deep Learning, Control Syste...          0.601863   \n",
      "3   Skills â¢ R â¢ Python â¢ SAP HANA â¢ Table...          0.548185   \n",
      "5   SKILLS C Basics, IOT, Python, MATLAB, Data Sci...          0.535058   \n",
      "4   Education Details \\n MCA   YMCAUST,  Faridabad...          0.413073   \n",
      "\n",
      "    chosen  \n",
      "8        1  \n",
      "7        1  \n",
      "0        1  \n",
      "9        1  \n",
      "6        0  \n",
      "1        0  \n",
      "10       0  \n",
      "2        0  \n",
      "3        0  \n",
      "5        0  \n",
      "4        0  \n",
      "Evaluation Results:\n",
      "{'precision': 1.0, 'recall': 1.0, 'ordering_accuracy': 1, 'true_chosen_indices': [8, 7, 0, 9], 'predicted_top_indices': [8, 7, 0, 9], 'TP_count': 4, 'FP_count': 0, 'FN_count': 0, 'TN_count': 7, 'TP': {8, 0, 9, 7}, 'FP': set(), 'FN': set(), 'TN': {1, 2, 3, 4, 5, 6, 10}}\n"
     ]
    }
   ],
   "source": [
    "# Compute the cosine similarity and update the resumes DataFrame\n",
    "updated_resumes = compute_cosine_similarity(job_desc_embedding.detach().numpy(), resume_embeddings.detach().numpy(), Data_Science_data)\n",
    "\n",
    "# Display the results\n",
    "print(\"Resumes sorted by similarity score:\")\n",
    "print(updated_resumes[['Resume', 'similarity_score',\"chosen\"]])\n",
    "\n",
    "evaluation_results = evaluate_resume_ranking_general(updated_resumes)\n",
    "print(\"Evaluation Results:\")\n",
    "print(evaluation_results)"
   ]
  },
  {
   "cell_type": "code",
   "execution_count": 179,
   "id": "9dbe450d-2dd4-4495-9d6f-86513d997520",
   "metadata": {},
   "outputs": [
    {
     "data": {
      "image/png": "[encoded data removed]",
      "text/plain": [
       "<Figure size 800x600 with 1 Axes>"
      ]
     },
     "metadata": {},
     "output_type": "display_data"
    },
    {
     "name": "stdout",
     "output_type": "stream",
     "text": [
      "AUC Score: 1.0\n"
     ]
    }
   ],
   "source": [
    "roc_results = plot_roc_curve(updated_resumes, true_label_column=\"chosen\", score_column=\"similarity_score\")\n",
    "print(\"AUC Score:\", roc_results[\"roc_auc\"])"
   ]
  },
  {
   "cell_type": "markdown",
   "id": "52e22892-ff85-449b-b289-1d3f0eedc5f6",
   "metadata": {
    "jp-MarkdownHeadingCollapsed": true
   },
   "source": [
    "# try 8   with bm25 and without Preprocessing"
   ]
  },
  {
   "cell_type": "code",
   "execution_count": 193,
   "id": "ac5ef23a-2fc3-4637-9a00-84192f37b57d",
   "metadata": {},
   "outputs": [],
   "source": [
    "Data_Science_data = pd.read_csv(\"Data_Science_data.csv\")"
   ]
  },
  {
   "cell_type": "code",
   "execution_count": 194,
   "id": "50385c8f-623a-4620-8fbd-1df74df82786",
   "metadata": {},
   "outputs": [
    {
     "name": "stdout",
     "output_type": "stream",
     "text": [
      "                                               Resume  BM25_Score  chosen\n",
      "10  \\n HR CONSULTANT       Summary       Subject m...   90.493429       0\n",
      "7   Education Details \\n B.Tech   Rayat and Bahra ...   87.721851       1\n",
      "3   Skills â¢ R â¢ Python â¢ SAP HANA â¢ Table...   85.804243       0\n",
      "0   Skills * Programming Languages: Python (pandas...   68.810643       1\n",
      "9   Expertise â Data and Quantitative Analysis â...   64.378905       1\n",
      "8   Personal Skills â¢ Ability to quickly grasp t...   61.494081       1\n",
      "6   Skills â¢ Python â¢ Tableau â¢ Data Visuali...   61.212156       0\n",
      "2   Areas of Interest Deep Learning, Control Syste...   50.024071       0\n",
      "1   Education Details \\nMay 2013 to May 2017 B.E  ...   35.712254       0\n",
      "5   SKILLS C Basics, IOT, Python, MATLAB, Data Sci...   24.544670       0\n",
      "4   Education Details \\n MCA   YMCAUST,  Faridabad...    0.000000       0\n"
     ]
    }
   ],
   "source": [
    "# Step 1: BM25 Scoring\n",
    "# Preprocess resumes and job description\n",
    "tokenized_resumes = [resume.split() for resume in Data_Science_data['Resume']]\n",
    "tokenized_job_description = job_description.split()\n",
    "\n",
    "# BM25 model --> The scores reflect how well each resume matches the job description query.\n",
    "bm25 = BM25Okapi(tokenized_resumes)\n",
    "bm25_scores = bm25.get_scores(tokenized_job_description)\n",
    "\n",
    "# Step 3: Add Results to DataFrame\n",
    "Data_Science_data['BM25_Score'] = bm25_scores  # Ensure BM25 scores are assigned to this column\n",
    "\n",
    "# Step 4: Rank Results by Scaled BM25 Score\n",
    "Data_Science_data_sorted = Data_Science_data.sort_values(by='BM25_Score', ascending=False)\n",
    "\n",
    "# Display the top results\n",
    "print(Data_Science_data_sorted[['Resume', 'BM25_Score', 'chosen']])\n"
   ]
  },
  {
   "cell_type": "code",
   "execution_count": 191,
   "id": "5d96c5e6-41db-4f92-9be8-96e3af8693fa",
   "metadata": {},
   "outputs": [
    {
     "name": "stdout",
     "output_type": "stream",
     "text": [
      "Evaluation Results:\n",
      "{'precision': 0.5, 'recall': 0.5, 'ordering_accuracy': 0, 'true_chosen_indices': [7, 0, 9, 8], 'predicted_top_indices': [10, 7, 3, 0], 'TP_count': 2, 'FP_count': 2, 'FN_count': 2, 'TN_count': 5, 'TP': {0, 7}, 'FP': {10, 3}, 'FN': {8, 9}, 'TN': {1, 2, 4, 5, 6}}\n"
     ]
    }
   ],
   "source": [
    "evaluation_results = evaluate_resume_ranking_general(Data_Science_data_sorted)\n",
    "print(\"Evaluation Results:\")\n",
    "print(evaluation_results)"
   ]
  },
  {
   "cell_type": "code",
   "execution_count": 195,
   "id": "1aa386bd-00a3-4734-b85e-a54d3a2c06a5",
   "metadata": {},
   "outputs": [
    {
     "data": {
      "image/png": "[encoded data removed]",
      "text/plain": [
       "<Figure size 800x600 with 1 Axes>"
      ]
     },
     "metadata": {},
     "output_type": "display_data"
    },
    {
     "name": "stdout",
     "output_type": "stream",
     "text": [
      "AUC Score: 0.75\n"
     ]
    }
   ],
   "source": [
    "roc_results = plot_roc_curve(Data_Science_data_sorted, true_label_column=\"chosen\", score_column=\"BM25_Score\")\n",
    "print(\"AUC Score:\", roc_results[\"roc_auc\"])"
   ]
  },
  {
   "cell_type": "code",
   "execution_count": null,
   "id": "6116ce4c-512e-4bc8-a8a2-91631c7502d2",
   "metadata": {},
   "outputs": [],
   "source": []
  },
  {
   "cell_type": "markdown",
   "id": "c2474f6a-5227-44f4-9d77-09b5405e2d7b",
   "metadata": {
    "jp-MarkdownHeadingCollapsed": true
   },
   "source": [
    "# try 9   with bm25 and with Preprocessing"
   ]
  },
  {
   "cell_type": "code",
   "execution_count": 196,
   "id": "ded092f7-786f-4855-b33c-bd8ef55b5119",
   "metadata": {},
   "outputs": [],
   "source": [
    "Data_Science_data = pd.read_csv(\"Data_Science_data.csv\")"
   ]
  },
  {
   "cell_type": "code",
   "execution_count": 197,
   "id": "81356dff-6ad1-4b80-87fe-898b1960e33a",
   "metadata": {},
   "outputs": [],
   "source": [
    "# Text preprocessing function\n",
    "def preprocess_text(text):\n",
    "    # Convert to lowercase\n",
    "    text = text.lower()\n",
    "    # Remove special characters (but keep numbers) keep \n",
    "    text = re.sub(r'[^a-zA-Z0-9-@\\s]', '', text)\n",
    "    # Tokenize text\n",
    "    tokens = word_tokenize(text)\n",
    "    # Remove stopwords\n",
    "    stop_words = set(stopwords.words('english'))\n",
    "    filtered_tokens = [word for word in tokens if word not in stop_words]\n",
    "    return ' '.join(filtered_tokens)"
   ]
  },
  {
   "cell_type": "code",
   "execution_count": 198,
   "id": "36839ba2-c6c6-4b5d-8c01-e2bea23b7bb1",
   "metadata": {},
   "outputs": [
    {
     "data": {
      "text/html": [
       "<div>\n",
       "<style scoped>\n",
       "    .dataframe tbody tr th:only-of-type {\n",
       "        vertical-align: middle;\n",
       "    }\n",
       "\n",
       "    .dataframe tbody tr th {\n",
       "        vertical-align: top;\n",
       "    }\n",
       "\n",
       "    .dataframe thead th {\n",
       "        text-align: right;\n",
       "    }\n",
       "</style>\n",
       "<table border=\"1\" class=\"dataframe\">\n",
       "  <thead>\n",
       "    <tr style=\"text-align: right;\">\n",
       "      <th></th>\n",
       "      <th>Category</th>\n",
       "      <th>Resume</th>\n",
       "      <th>chosen</th>\n",
       "      <th>cleaned_resume</th>\n",
       "    </tr>\n",
       "  </thead>\n",
       "  <tbody>\n",
       "    <tr>\n",
       "      <th>0</th>\n",
       "      <td>Data Science</td>\n",
       "      <td>Skills * Programming Languages: Python (pandas...</td>\n",
       "      <td>1</td>\n",
       "      <td>skills programming languages python pandas num...</td>\n",
       "    </tr>\n",
       "    <tr>\n",
       "      <th>1</th>\n",
       "      <td>Data Science</td>\n",
       "      <td>Education Details \\nMay 2013 to May 2017 B.E  ...</td>\n",
       "      <td>0</td>\n",
       "      <td>education details may 2013 may 2017 uit-rgpvda...</td>\n",
       "    </tr>\n",
       "    <tr>\n",
       "      <th>2</th>\n",
       "      <td>Data Science</td>\n",
       "      <td>Areas of Interest Deep Learning, Control Syste...</td>\n",
       "      <td>0</td>\n",
       "      <td>areas interest deep learning control system de...</td>\n",
       "    </tr>\n",
       "    <tr>\n",
       "      <th>3</th>\n",
       "      <td>Data Science</td>\n",
       "      <td>Skills â¢ R â¢ Python â¢ SAP HANA â¢ Table...</td>\n",
       "      <td>0</td>\n",
       "      <td>skills r python sap hana tableau sap hana sql ...</td>\n",
       "    </tr>\n",
       "    <tr>\n",
       "      <th>4</th>\n",
       "      <td>Data Science</td>\n",
       "      <td>Education Details \\n MCA   YMCAUST,  Faridabad...</td>\n",
       "      <td>0</td>\n",
       "      <td>education details mca ymcaust faridabad haryan...</td>\n",
       "    </tr>\n",
       "    <tr>\n",
       "      <th>5</th>\n",
       "      <td>Data Science</td>\n",
       "      <td>SKILLS C Basics, IOT, Python, MATLAB, Data Sci...</td>\n",
       "      <td>0</td>\n",
       "      <td>skills c basics iot python matlab data science...</td>\n",
       "    </tr>\n",
       "    <tr>\n",
       "      <th>6</th>\n",
       "      <td>Data Science</td>\n",
       "      <td>Skills â¢ Python â¢ Tableau â¢ Data Visuali...</td>\n",
       "      <td>0</td>\n",
       "      <td>skills python tableau data visualization r stu...</td>\n",
       "    </tr>\n",
       "    <tr>\n",
       "      <th>7</th>\n",
       "      <td>Data Science</td>\n",
       "      <td>Education Details \\n B.Tech   Rayat and Bahra ...</td>\n",
       "      <td>1</td>\n",
       "      <td>education details btech rayat bahra institute ...</td>\n",
       "    </tr>\n",
       "    <tr>\n",
       "      <th>8</th>\n",
       "      <td>Data Science</td>\n",
       "      <td>Personal Skills â¢ Ability to quickly grasp t...</td>\n",
       "      <td>1</td>\n",
       "      <td>personal skills ability quickly grasp technica...</td>\n",
       "    </tr>\n",
       "    <tr>\n",
       "      <th>9</th>\n",
       "      <td>Data Science</td>\n",
       "      <td>Expertise â Data and Quantitative Analysis â...</td>\n",
       "      <td>1</td>\n",
       "      <td>expertise data quantitative analysis decision ...</td>\n",
       "    </tr>\n",
       "    <tr>\n",
       "      <th>10</th>\n",
       "      <td>HR</td>\n",
       "      <td>\\n HR CONSULTANT       Summary       Subject m...</td>\n",
       "      <td>0</td>\n",
       "      <td>hr consultant summary subject matter expert hr...</td>\n",
       "    </tr>\n",
       "  </tbody>\n",
       "</table>\n",
       "</div>"
      ],
      "text/plain": [
       "        Category                                             Resume  chosen  \\\n",
       "0   Data Science  Skills * Programming Languages: Python (pandas...       1   \n",
       "1   Data Science  Education Details \\nMay 2013 to May 2017 B.E  ...       0   \n",
       "2   Data Science  Areas of Interest Deep Learning, Control Syste...       0   \n",
       "3   Data Science  Skills â¢ R â¢ Python â¢ SAP HANA â¢ Table...       0   \n",
       "4   Data Science  Education Details \\n MCA   YMCAUST,  Faridabad...       0   \n",
       "5   Data Science  SKILLS C Basics, IOT, Python, MATLAB, Data Sci...       0   \n",
       "6   Data Science  Skills â¢ Python â¢ Tableau â¢ Data Visuali...       0   \n",
       "7   Data Science  Education Details \\n B.Tech   Rayat and Bahra ...       1   \n",
       "8   Data Science  Personal Skills â¢ Ability to quickly grasp t...       1   \n",
       "9   Data Science  Expertise â Data and Quantitative Analysis â...       1   \n",
       "10            HR  \\n HR CONSULTANT       Summary       Subject m...       0   \n",
       "\n",
       "                                       cleaned_resume  \n",
       "0   skills programming languages python pandas num...  \n",
       "1   education details may 2013 may 2017 uit-rgpvda...  \n",
       "2   areas interest deep learning control system de...  \n",
       "3   skills r python sap hana tableau sap hana sql ...  \n",
       "4   education details mca ymcaust faridabad haryan...  \n",
       "5   skills c basics iot python matlab data science...  \n",
       "6   skills python tableau data visualization r stu...  \n",
       "7   education details btech rayat bahra institute ...  \n",
       "8   personal skills ability quickly grasp technica...  \n",
       "9   expertise data quantitative analysis decision ...  \n",
       "10  hr consultant summary subject matter expert hr...  "
      ]
     },
     "execution_count": 198,
     "metadata": {},
     "output_type": "execute_result"
    }
   ],
   "source": [
    "Data_Science_data['cleaned_resume'] = Data_Science_data['Resume'].apply(preprocess_text)\n",
    "Data_Science_data"
   ]
  },
  {
   "cell_type": "code",
   "execution_count": 199,
   "id": "c6876293-a118-484d-9e13-c8297d62d35b",
   "metadata": {},
   "outputs": [
    {
     "name": "stdout",
     "output_type": "stream",
     "text": [
      "                                       cleaned_resume  BM25_Score  chosen\n",
      "3   skills r python sap hana tableau sap hana sql ...   36.149254       0\n",
      "10  hr consultant summary subject matter expert hr...   31.572081       0\n",
      "7   education details btech rayat bahra institute ...   30.681499       1\n",
      "8   personal skills ability quickly grasp technica...   24.336544       1\n",
      "6   skills python tableau data visualization r stu...   20.520494       0\n",
      "9   expertise data quantitative analysis decision ...   17.261120       1\n",
      "0   skills programming languages python pandas num...   16.508494       1\n",
      "2   areas interest deep learning control system de...    8.755708       0\n",
      "1   education details may 2013 may 2017 uit-rgpvda...    7.753676       0\n",
      "5   skills c basics iot python matlab data science...    7.104779       0\n",
      "4   education details mca ymcaust faridabad haryan...    0.833060       0\n"
     ]
    }
   ],
   "source": [
    "# Step 1: BM25 Scoring\n",
    "# Preprocess resumes and job description\n",
    "tokenized_resumes = [resume.split() for resume in Data_Science_data['cleaned_resume']]\n",
    "tokenized_job_description = job_description.split()\n",
    "\n",
    "# BM25 model --> The scores reflect how well each resume matches the job description query.\n",
    "bm25 = BM25Okapi(tokenized_resumes)\n",
    "bm25_scores = bm25.get_scores(tokenized_job_description)\n",
    "\n",
    "# Step 3: Add Results to DataFrame\n",
    "Data_Science_data['BM25_Score'] = bm25_scores  # Ensure BM25 scores are assigned to this column\n",
    "\n",
    "# Step 4: Rank Results by Scaled BM25 Score\n",
    "Data_Science_data_sorted = Data_Science_data.sort_values(by='BM25_Score', ascending=False)\n",
    "\n",
    "# Display the top results\n",
    "print(Data_Science_data_sorted[['cleaned_resume', 'BM25_Score', 'chosen']])"
   ]
  },
  {
   "cell_type": "code",
   "execution_count": 200,
   "id": "f98d2450-8d6f-4562-baa7-31c8e8d2cc78",
   "metadata": {},
   "outputs": [
    {
     "name": "stdout",
     "output_type": "stream",
     "text": [
      "Evaluation Results:\n",
      "{'precision': 0.5, 'recall': 0.5, 'ordering_accuracy': 0, 'true_chosen_indices': [7, 8, 9, 0], 'predicted_top_indices': [3, 10, 7, 8], 'TP_count': 2, 'FP_count': 2, 'FN_count': 2, 'TN_count': 5, 'TP': {8, 7}, 'FP': {10, 3}, 'FN': {0, 9}, 'TN': {1, 2, 4, 5, 6}}\n"
     ]
    }
   ],
   "source": [
    "evaluation_results = evaluate_resume_ranking_general(Data_Science_data_sorted)\n",
    "print(\"Evaluation Results:\")\n",
    "print(evaluation_results)"
   ]
  },
  {
   "cell_type": "code",
   "execution_count": 201,
   "id": "70e9a82c-834d-4bd3-a2d3-09c84d832fa7",
   "metadata": {},
   "outputs": [
    {
     "data": {
      "image/png": "[encoded data removed]",
      "text/plain": [
       "<Figure size 800x600 with 1 Axes>"
      ]
     },
     "metadata": {},
     "output_type": "display_data"
    },
    {
     "name": "stdout",
     "output_type": "stream",
     "text": [
      "AUC Score: 0.6428571428571428\n"
     ]
    }
   ],
   "source": [
    "roc_results = plot_roc_curve(Data_Science_data_sorted, true_label_column=\"chosen\", score_column=\"BM25_Score\")\n",
    "print(\"AUC Score:\", roc_results[\"roc_auc\"])"
   ]
  },
  {
   "cell_type": "markdown",
   "id": "b036995b-6c1a-468a-8c7f-f070bf8f8d25",
   "metadata": {
    "jp-MarkdownHeadingCollapsed": true
   },
   "source": [
    "# try 10   with bm25 and with Preprocessing upper"
   ]
  },
  {
   "cell_type": "code",
   "execution_count": 202,
   "id": "73e4c037-9e93-408c-8cd7-dbdbefbede62",
   "metadata": {},
   "outputs": [],
   "source": [
    "Data_Science_data = pd.read_csv(\"Data_Science_data.csv\")"
   ]
  },
  {
   "cell_type": "code",
   "execution_count": 203,
   "id": "c9a4a1a7-94ec-44af-bda7-d359b4cd8667",
   "metadata": {},
   "outputs": [],
   "source": [
    "# Text preprocessing function\n",
    "def preprocess_text(text):\n",
    "    # Convert to lowercase\n",
    "    text = text.upper()\n",
    "    # Remove special characters (but keep numbers) keep \n",
    "    text = re.sub(r'[^a-zA-Z0-9-@\\s]', '', text)\n",
    "    # Tokenize text\n",
    "    tokens = word_tokenize(text)\n",
    "    # Remove stopwords\n",
    "    stop_words = set(stopwords.words('english'))\n",
    "    filtered_tokens = [word for word in tokens if word not in stop_words]\n",
    "    return ' '.join(filtered_tokens)"
   ]
  },
  {
   "cell_type": "code",
   "execution_count": 204,
   "id": "df59dfee-7efc-4672-96ee-a73bbbe48ab8",
   "metadata": {},
   "outputs": [
    {
     "data": {
      "text/html": [
       "<div>\n",
       "<style scoped>\n",
       "    .dataframe tbody tr th:only-of-type {\n",
       "        vertical-align: middle;\n",
       "    }\n",
       "\n",
       "    .dataframe tbody tr th {\n",
       "        vertical-align: top;\n",
       "    }\n",
       "\n",
       "    .dataframe thead th {\n",
       "        text-align: right;\n",
       "    }\n",
       "</style>\n",
       "<table border=\"1\" class=\"dataframe\">\n",
       "  <thead>\n",
       "    <tr style=\"text-align: right;\">\n",
       "      <th></th>\n",
       "      <th>Category</th>\n",
       "      <th>Resume</th>\n",
       "      <th>chosen</th>\n",
       "      <th>cleaned_resume</th>\n",
       "    </tr>\n",
       "  </thead>\n",
       "  <tbody>\n",
       "    <tr>\n",
       "      <th>0</th>\n",
       "      <td>Data Science</td>\n",
       "      <td>Skills * Programming Languages: Python (pandas...</td>\n",
       "      <td>1</td>\n",
       "      <td>SKILLS PROGRAMMING LANGUAGES PYTHON PANDAS NUM...</td>\n",
       "    </tr>\n",
       "    <tr>\n",
       "      <th>1</th>\n",
       "      <td>Data Science</td>\n",
       "      <td>Education Details \\nMay 2013 to May 2017 B.E  ...</td>\n",
       "      <td>0</td>\n",
       "      <td>EDUCATION DETAILS MAY 2013 TO MAY 2017 BE UIT-...</td>\n",
       "    </tr>\n",
       "    <tr>\n",
       "      <th>2</th>\n",
       "      <td>Data Science</td>\n",
       "      <td>Areas of Interest Deep Learning, Control Syste...</td>\n",
       "      <td>0</td>\n",
       "      <td>AREAS OF INTEREST DEEP LEARNING CONTROL SYSTEM...</td>\n",
       "    </tr>\n",
       "    <tr>\n",
       "      <th>3</th>\n",
       "      <td>Data Science</td>\n",
       "      <td>Skills â¢ R â¢ Python â¢ SAP HANA â¢ Table...</td>\n",
       "      <td>0</td>\n",
       "      <td>SKILLS R PYTHON SAP HANA TABLEAU SAP HANA SQL ...</td>\n",
       "    </tr>\n",
       "    <tr>\n",
       "      <th>4</th>\n",
       "      <td>Data Science</td>\n",
       "      <td>Education Details \\n MCA   YMCAUST,  Faridabad...</td>\n",
       "      <td>0</td>\n",
       "      <td>EDUCATION DETAILS MCA YMCAUST FARIDABAD HARYAN...</td>\n",
       "    </tr>\n",
       "    <tr>\n",
       "      <th>5</th>\n",
       "      <td>Data Science</td>\n",
       "      <td>SKILLS C Basics, IOT, Python, MATLAB, Data Sci...</td>\n",
       "      <td>0</td>\n",
       "      <td>SKILLS C BASICS IOT PYTHON MATLAB DATA SCIENCE...</td>\n",
       "    </tr>\n",
       "    <tr>\n",
       "      <th>6</th>\n",
       "      <td>Data Science</td>\n",
       "      <td>Skills â¢ Python â¢ Tableau â¢ Data Visuali...</td>\n",
       "      <td>0</td>\n",
       "      <td>SKILLS PYTHON TABLEAU DATA VISUALIZATION R STU...</td>\n",
       "    </tr>\n",
       "    <tr>\n",
       "      <th>7</th>\n",
       "      <td>Data Science</td>\n",
       "      <td>Education Details \\n B.Tech   Rayat and Bahra ...</td>\n",
       "      <td>1</td>\n",
       "      <td>EDUCATION DETAILS BTECH RAYAT AND BAHRA INSTIT...</td>\n",
       "    </tr>\n",
       "    <tr>\n",
       "      <th>8</th>\n",
       "      <td>Data Science</td>\n",
       "      <td>Personal Skills â¢ Ability to quickly grasp t...</td>\n",
       "      <td>1</td>\n",
       "      <td>PERSONAL SKILLS ABILITY TO QUICKLY GRASP TECHN...</td>\n",
       "    </tr>\n",
       "    <tr>\n",
       "      <th>9</th>\n",
       "      <td>Data Science</td>\n",
       "      <td>Expertise â Data and Quantitative Analysis â...</td>\n",
       "      <td>1</td>\n",
       "      <td>EXPERTISE DATA AND QUANTITATIVE ANALYSIS DECIS...</td>\n",
       "    </tr>\n",
       "    <tr>\n",
       "      <th>10</th>\n",
       "      <td>HR</td>\n",
       "      <td>\\n HR CONSULTANT       Summary       Subject m...</td>\n",
       "      <td>0</td>\n",
       "      <td>HR CONSULTANT SUMMARY SUBJECT MATTER EXPERT IN...</td>\n",
       "    </tr>\n",
       "  </tbody>\n",
       "</table>\n",
       "</div>"
      ],
      "text/plain": [
       "        Category                                             Resume  chosen  \\\n",
       "0   Data Science  Skills * Programming Languages: Python (pandas...       1   \n",
       "1   Data Science  Education Details \\nMay 2013 to May 2017 B.E  ...       0   \n",
       "2   Data Science  Areas of Interest Deep Learning, Control Syste...       0   \n",
       "3   Data Science  Skills â¢ R â¢ Python â¢ SAP HANA â¢ Table...       0   \n",
       "4   Data Science  Education Details \\n MCA   YMCAUST,  Faridabad...       0   \n",
       "5   Data Science  SKILLS C Basics, IOT, Python, MATLAB, Data Sci...       0   \n",
       "6   Data Science  Skills â¢ Python â¢ Tableau â¢ Data Visuali...       0   \n",
       "7   Data Science  Education Details \\n B.Tech   Rayat and Bahra ...       1   \n",
       "8   Data Science  Personal Skills â¢ Ability to quickly grasp t...       1   \n",
       "9   Data Science  Expertise â Data and Quantitative Analysis â...       1   \n",
       "10            HR  \\n HR CONSULTANT       Summary       Subject m...       0   \n",
       "\n",
       "                                       cleaned_resume  \n",
       "0   SKILLS PROGRAMMING LANGUAGES PYTHON PANDAS NUM...  \n",
       "1   EDUCATION DETAILS MAY 2013 TO MAY 2017 BE UIT-...  \n",
       "2   AREAS OF INTEREST DEEP LEARNING CONTROL SYSTEM...  \n",
       "3   SKILLS R PYTHON SAP HANA TABLEAU SAP HANA SQL ...  \n",
       "4   EDUCATION DETAILS MCA YMCAUST FARIDABAD HARYAN...  \n",
       "5   SKILLS C BASICS IOT PYTHON MATLAB DATA SCIENCE...  \n",
       "6   SKILLS PYTHON TABLEAU DATA VISUALIZATION R STU...  \n",
       "7   EDUCATION DETAILS BTECH RAYAT AND BAHRA INSTIT...  \n",
       "8   PERSONAL SKILLS ABILITY TO QUICKLY GRASP TECHN...  \n",
       "9   EXPERTISE DATA AND QUANTITATIVE ANALYSIS DECIS...  \n",
       "10  HR CONSULTANT SUMMARY SUBJECT MATTER EXPERT IN...  "
      ]
     },
     "execution_count": 204,
     "metadata": {},
     "output_type": "execute_result"
    }
   ],
   "source": [
    "Data_Science_data['cleaned_resume'] = Data_Science_data['Resume'].apply(preprocess_text)\n",
    "Data_Science_data"
   ]
  },
  {
   "cell_type": "code",
   "execution_count": 205,
   "id": "a31b07c5-3e6a-45c5-a567-94a167bc18e5",
   "metadata": {},
   "outputs": [
    {
     "name": "stdout",
     "output_type": "stream",
     "text": [
      "                                       cleaned_resume  BM25_Score  chosen\n",
      "6   SKILLS PYTHON TABLEAU DATA VISUALIZATION R STU...   13.014297       0\n",
      "0   SKILLS PROGRAMMING LANGUAGES PYTHON PANDAS NUM...    0.000000       1\n",
      "1   EDUCATION DETAILS MAY 2013 TO MAY 2017 BE UIT-...    0.000000       0\n",
      "2   AREAS OF INTEREST DEEP LEARNING CONTROL SYSTEM...    0.000000       0\n",
      "3   SKILLS R PYTHON SAP HANA TABLEAU SAP HANA SQL ...    0.000000       0\n",
      "4   EDUCATION DETAILS MCA YMCAUST FARIDABAD HARYAN...    0.000000       0\n",
      "5   SKILLS C BASICS IOT PYTHON MATLAB DATA SCIENCE...    0.000000       0\n",
      "7   EDUCATION DETAILS BTECH RAYAT AND BAHRA INSTIT...    0.000000       1\n",
      "8   PERSONAL SKILLS ABILITY TO QUICKLY GRASP TECHN...    0.000000       1\n",
      "9   EXPERTISE DATA AND QUANTITATIVE ANALYSIS DECIS...    0.000000       1\n",
      "10  HR CONSULTANT SUMMARY SUBJECT MATTER EXPERT IN...    0.000000       0\n"
     ]
    }
   ],
   "source": [
    "# Step 1: BM25 Scoring\n",
    "# Preprocess resumes and job description\n",
    "tokenized_resumes = [resume.split() for resume in Data_Science_data['cleaned_resume']]\n",
    "tokenized_job_description = job_description.split()\n",
    "\n",
    "# BM25 model --> The scores reflect how well each resume matches the job description query.\n",
    "bm25 = BM25Okapi(tokenized_resumes)\n",
    "bm25_scores = bm25.get_scores(tokenized_job_description)\n",
    "\n",
    "# Step 3: Add Results to DataFrame\n",
    "Data_Science_data['BM25_Score'] = bm25_scores  # Ensure BM25 scores are assigned to this column\n",
    "\n",
    "# Step 4: Rank Results by Scaled BM25 Score\n",
    "Data_Science_data_sorted = Data_Science_data.sort_values(by='BM25_Score', ascending=False)\n",
    "\n",
    "# Display the top results\n",
    "print(Data_Science_data_sorted[['cleaned_resume', 'BM25_Score', 'chosen']])"
   ]
  },
  {
   "cell_type": "code",
   "execution_count": 206,
   "id": "0d3f6e57-d1c7-40f4-a343-9709eee00c5c",
   "metadata": {},
   "outputs": [
    {
     "name": "stdout",
     "output_type": "stream",
     "text": [
      "Evaluation Results:\n",
      "{'precision': 0.25, 'recall': 0.25, 'ordering_accuracy': 0, 'true_chosen_indices': [0, 7, 8, 9], 'predicted_top_indices': [6, 0, 1, 2], 'TP_count': 1, 'FP_count': 3, 'FN_count': 3, 'TN_count': 4, 'TP': {0}, 'FP': {1, 2, 6}, 'FN': {8, 9, 7}, 'TN': {10, 3, 4, 5}}\n"
     ]
    }
   ],
   "source": [
    "evaluation_results = evaluate_resume_ranking_general(Data_Science_data_sorted)\n",
    "print(\"Evaluation Results:\")\n",
    "print(evaluation_results)"
   ]
  },
  {
   "cell_type": "code",
   "execution_count": 207,
   "id": "b5d45d62-6283-4820-bd11-2c9caf245e81",
   "metadata": {},
   "outputs": [
    {
     "data": {
      "image/png": "[encoded data removed]",
      "text/plain": [
       "<Figure size 800x600 with 1 Axes>"
      ]
     },
     "metadata": {},
     "output_type": "display_data"
    },
    {
     "name": "stdout",
     "output_type": "stream",
     "text": [
      "AUC Score: 0.4285714285714286\n"
     ]
    }
   ],
   "source": [
    "roc_results = plot_roc_curve(Data_Science_data_sorted, true_label_column=\"chosen\", score_column=\"BM25_Score\")\n",
    "print(\"AUC Score:\", roc_results[\"roc_auc\"])"
   ]
  },
  {
   "cell_type": "markdown",
   "id": "44521f23-2d93-4a16-8408-333e99991ab8",
   "metadata": {},
   "source": [
    "# try 11: cosin + BM25 --> hybrid approach"
   ]
  },
  {
   "cell_type": "code",
   "execution_count": 212,
   "id": "82057af1-7fd5-4ff2-978a-6aed86518dec",
   "metadata": {},
   "outputs": [],
   "source": [
    "Data_Science_data = pd.read_csv(\"Data_Science_data.csv\")"
   ]
  },
  {
   "cell_type": "code",
   "execution_count": 213,
   "id": "e840d6bf-e4ed-47d1-885f-e1e52e9ed61a",
   "metadata": {},
   "outputs": [],
   "source": [
    "# Text preprocessing function\n",
    "def preprocess_text(text):\n",
    "    # Convert to lowercase\n",
    "    text = text.lower()\n",
    "    # Remove special characters (but keep numbers) keep \n",
    "    text = re.sub(r'[^a-zA-Z0-9-@\\s]', '', text)\n",
    "    # Tokenize text\n",
    "    tokens = word_tokenize(text)\n",
    "    # Remove stopwords\n",
    "    stop_words = set(stopwords.words('english'))\n",
    "    filtered_tokens = [word for word in tokens if word not in stop_words]\n",
    "    return ' '.join(filtered_tokens)"
   ]
  },
  {
   "cell_type": "code",
   "execution_count": 214,
   "id": "d2845a01-b3ef-4163-a224-ae053b69795e",
   "metadata": {},
   "outputs": [
    {
     "data": {
      "text/html": [
       "<div>\n",
       "<style scoped>\n",
       "    .dataframe tbody tr th:only-of-type {\n",
       "        vertical-align: middle;\n",
       "    }\n",
       "\n",
       "    .dataframe tbody tr th {\n",
       "        vertical-align: top;\n",
       "    }\n",
       "\n",
       "    .dataframe thead th {\n",
       "        text-align: right;\n",
       "    }\n",
       "</style>\n",
       "<table border=\"1\" class=\"dataframe\">\n",
       "  <thead>\n",
       "    <tr style=\"text-align: right;\">\n",
       "      <th></th>\n",
       "      <th>Category</th>\n",
       "      <th>Resume</th>\n",
       "      <th>chosen</th>\n",
       "      <th>cleaned_resume</th>\n",
       "    </tr>\n",
       "  </thead>\n",
       "  <tbody>\n",
       "    <tr>\n",
       "      <th>0</th>\n",
       "      <td>Data Science</td>\n",
       "      <td>Skills * Programming Languages: Python (pandas...</td>\n",
       "      <td>1</td>\n",
       "      <td>skills programming languages python pandas num...</td>\n",
       "    </tr>\n",
       "    <tr>\n",
       "      <th>1</th>\n",
       "      <td>Data Science</td>\n",
       "      <td>Education Details \\nMay 2013 to May 2017 B.E  ...</td>\n",
       "      <td>0</td>\n",
       "      <td>education details may 2013 may 2017 uit-rgpvda...</td>\n",
       "    </tr>\n",
       "    <tr>\n",
       "      <th>2</th>\n",
       "      <td>Data Science</td>\n",
       "      <td>Areas of Interest Deep Learning, Control Syste...</td>\n",
       "      <td>0</td>\n",
       "      <td>areas interest deep learning control system de...</td>\n",
       "    </tr>\n",
       "    <tr>\n",
       "      <th>3</th>\n",
       "      <td>Data Science</td>\n",
       "      <td>Skills â¢ R â¢ Python â¢ SAP HANA â¢ Table...</td>\n",
       "      <td>0</td>\n",
       "      <td>skills r python sap hana tableau sap hana sql ...</td>\n",
       "    </tr>\n",
       "    <tr>\n",
       "      <th>4</th>\n",
       "      <td>Data Science</td>\n",
       "      <td>Education Details \\n MCA   YMCAUST,  Faridabad...</td>\n",
       "      <td>0</td>\n",
       "      <td>education details mca ymcaust faridabad haryan...</td>\n",
       "    </tr>\n",
       "    <tr>\n",
       "      <th>5</th>\n",
       "      <td>Data Science</td>\n",
       "      <td>SKILLS C Basics, IOT, Python, MATLAB, Data Sci...</td>\n",
       "      <td>0</td>\n",
       "      <td>skills c basics iot python matlab data science...</td>\n",
       "    </tr>\n",
       "    <tr>\n",
       "      <th>6</th>\n",
       "      <td>Data Science</td>\n",
       "      <td>Skills â¢ Python â¢ Tableau â¢ Data Visuali...</td>\n",
       "      <td>0</td>\n",
       "      <td>skills python tableau data visualization r stu...</td>\n",
       "    </tr>\n",
       "    <tr>\n",
       "      <th>7</th>\n",
       "      <td>Data Science</td>\n",
       "      <td>Education Details \\n B.Tech   Rayat and Bahra ...</td>\n",
       "      <td>1</td>\n",
       "      <td>education details btech rayat bahra institute ...</td>\n",
       "    </tr>\n",
       "    <tr>\n",
       "      <th>8</th>\n",
       "      <td>Data Science</td>\n",
       "      <td>Personal Skills â¢ Ability to quickly grasp t...</td>\n",
       "      <td>1</td>\n",
       "      <td>personal skills ability quickly grasp technica...</td>\n",
       "    </tr>\n",
       "    <tr>\n",
       "      <th>9</th>\n",
       "      <td>Data Science</td>\n",
       "      <td>Expertise â Data and Quantitative Analysis â...</td>\n",
       "      <td>1</td>\n",
       "      <td>expertise data quantitative analysis decision ...</td>\n",
       "    </tr>\n",
       "    <tr>\n",
       "      <th>10</th>\n",
       "      <td>HR</td>\n",
       "      <td>\\n HR CONSULTANT       Summary       Subject m...</td>\n",
       "      <td>0</td>\n",
       "      <td>hr consultant summary subject matter expert hr...</td>\n",
       "    </tr>\n",
       "  </tbody>\n",
       "</table>\n",
       "</div>"
      ],
      "text/plain": [
       "        Category                                             Resume  chosen  \\\n",
       "0   Data Science  Skills * Programming Languages: Python (pandas...       1   \n",
       "1   Data Science  Education Details \\nMay 2013 to May 2017 B.E  ...       0   \n",
       "2   Data Science  Areas of Interest Deep Learning, Control Syste...       0   \n",
       "3   Data Science  Skills â¢ R â¢ Python â¢ SAP HANA â¢ Table...       0   \n",
       "4   Data Science  Education Details \\n MCA   YMCAUST,  Faridabad...       0   \n",
       "5   Data Science  SKILLS C Basics, IOT, Python, MATLAB, Data Sci...       0   \n",
       "6   Data Science  Skills â¢ Python â¢ Tableau â¢ Data Visuali...       0   \n",
       "7   Data Science  Education Details \\n B.Tech   Rayat and Bahra ...       1   \n",
       "8   Data Science  Personal Skills â¢ Ability to quickly grasp t...       1   \n",
       "9   Data Science  Expertise â Data and Quantitative Analysis â...       1   \n",
       "10            HR  \\n HR CONSULTANT       Summary       Subject m...       0   \n",
       "\n",
       "                                       cleaned_resume  \n",
       "0   skills programming languages python pandas num...  \n",
       "1   education details may 2013 may 2017 uit-rgpvda...  \n",
       "2   areas interest deep learning control system de...  \n",
       "3   skills r python sap hana tableau sap hana sql ...  \n",
       "4   education details mca ymcaust faridabad haryan...  \n",
       "5   skills c basics iot python matlab data science...  \n",
       "6   skills python tableau data visualization r stu...  \n",
       "7   education details btech rayat bahra institute ...  \n",
       "8   personal skills ability quickly grasp technica...  \n",
       "9   expertise data quantitative analysis decision ...  \n",
       "10  hr consultant summary subject matter expert hr...  "
      ]
     },
     "execution_count": 214,
     "metadata": {},
     "output_type": "execute_result"
    }
   ],
   "source": [
    "Data_Science_data['cleaned_resume'] = Data_Science_data['Resume'].apply(preprocess_text)\n",
    "Data_Science_data"
   ]
  },
  {
   "cell_type": "code",
   "execution_count": 215,
   "id": "4230b7a4-8d3f-4d9c-aa0d-83803e153271",
   "metadata": {},
   "outputs": [
    {
     "data": {
      "application/vnd.jupyter.widget-view+json": {
       "model_id": "8114304f84bb48ca9688e9763b2e0402",
       "version_major": 2,
       "version_minor": 0
      },
      "text/plain": [
       "Batches:   0%|          | 0/1 [00:00<?, ?it/s]"
      ]
     },
     "metadata": {},
     "output_type": "display_data"
    }
   ],
   "source": [
    "# Load the pre-trained BERT model\n",
    "model = SentenceTransformer('all-MiniLM-L6-v2')\n",
    "# Generate BERT embeddings for resumes\n",
    "resume_embeddings = model.encode(Data_Science_data['cleaned_resume'].tolist(), show_progress_bar=True)\n",
    "\n",
    "# Convert embeddings to a NumPy array (for efficient computation)\n",
    "resume_embeddings = np.array(resume_embeddings)\n",
    "# Preprocess the job description\n",
    "cleaned_job_desc = preprocess_text(job_description)\n",
    "\n",
    "# Generate BERT embedding for the job description\n",
    "job_desc_embedding = model.encode([cleaned_job_desc])"
   ]
  },
  {
   "cell_type": "code",
   "execution_count": 216,
   "id": "bad664e3-eab0-4dbb-8d16-ca6b1793153a",
   "metadata": {},
   "outputs": [
    {
     "name": "stdout",
     "output_type": "stream",
     "text": [
      "Resumes sorted by similarity score:\n",
      "        Category                                             Resume  chosen  \\\n",
      "8   Data Science  Personal Skills â¢ Ability to quickly grasp t...       1   \n",
      "7   Data Science  Education Details \\n B.Tech   Rayat and Bahra ...       1   \n",
      "0   Data Science  Skills * Programming Languages: Python (pandas...       1   \n",
      "9   Data Science  Expertise â Data and Quantitative Analysis â...       1   \n",
      "6   Data Science  Skills â¢ Python â¢ Tableau â¢ Data Visuali...       0   \n",
      "1   Data Science  Education Details \\nMay 2013 to May 2017 B.E  ...       0   \n",
      "10            HR  \\n HR CONSULTANT       Summary       Subject m...       0   \n",
      "2   Data Science  Areas of Interest Deep Learning, Control Syste...       0   \n",
      "3   Data Science  Skills â¢ R â¢ Python â¢ SAP HANA â¢ Table...       0   \n",
      "5   Data Science  SKILLS C Basics, IOT, Python, MATLAB, Data Sci...       0   \n",
      "4   Data Science  Education Details \\n MCA   YMCAUST,  Faridabad...       0   \n",
      "\n",
      "                                       cleaned_resume  similarity_score  \n",
      "8   personal skills ability quickly grasp technica...          0.702186  \n",
      "7   education details btech rayat bahra institute ...          0.700334  \n",
      "0   skills programming languages python pandas num...          0.693810  \n",
      "9   expertise data quantitative analysis decision ...          0.681737  \n",
      "6   skills python tableau data visualization r stu...          0.668836  \n",
      "1   education details may 2013 may 2017 uit-rgpvda...          0.609117  \n",
      "10  hr consultant summary subject matter expert hr...          0.604349  \n",
      "2   areas interest deep learning control system de...          0.601863  \n",
      "3   skills r python sap hana tableau sap hana sql ...          0.548185  \n",
      "5   skills c basics iot python matlab data science...          0.535058  \n",
      "4   education details mca ymcaust faridabad haryan...          0.413073  \n"
     ]
    }
   ],
   "source": [
    "updated_resumes = compute_cosine_similarity(job_desc_embedding, resume_embeddings, Data_Science_data)\n",
    "\n",
    "# Display the results\n",
    "print(\"Resumes sorted by similarity score:\")\n",
    "print(updated_resumes)"
   ]
  },
  {
   "cell_type": "code",
   "execution_count": 217,
   "id": "c8caae5d-174f-4dc7-b509-fca7c626eca7",
   "metadata": {},
   "outputs": [
    {
     "data": {
      "text/html": [
       "<div>\n",
       "<style scoped>\n",
       "    .dataframe tbody tr th:only-of-type {\n",
       "        vertical-align: middle;\n",
       "    }\n",
       "\n",
       "    .dataframe tbody tr th {\n",
       "        vertical-align: top;\n",
       "    }\n",
       "\n",
       "    .dataframe thead th {\n",
       "        text-align: right;\n",
       "    }\n",
       "</style>\n",
       "<table border=\"1\" class=\"dataframe\">\n",
       "  <thead>\n",
       "    <tr style=\"text-align: right;\">\n",
       "      <th></th>\n",
       "      <th>Category</th>\n",
       "      <th>Resume</th>\n",
       "      <th>chosen</th>\n",
       "      <th>cleaned_resume</th>\n",
       "      <th>similarity_score</th>\n",
       "    </tr>\n",
       "  </thead>\n",
       "  <tbody>\n",
       "    <tr>\n",
       "      <th>8</th>\n",
       "      <td>Data Science</td>\n",
       "      <td>Personal Skills â¢ Ability to quickly grasp t...</td>\n",
       "      <td>1</td>\n",
       "      <td>personal skills ability quickly grasp technica...</td>\n",
       "      <td>0.702186</td>\n",
       "    </tr>\n",
       "    <tr>\n",
       "      <th>7</th>\n",
       "      <td>Data Science</td>\n",
       "      <td>Education Details \\n B.Tech   Rayat and Bahra ...</td>\n",
       "      <td>1</td>\n",
       "      <td>education details btech rayat bahra institute ...</td>\n",
       "      <td>0.700334</td>\n",
       "    </tr>\n",
       "    <tr>\n",
       "      <th>0</th>\n",
       "      <td>Data Science</td>\n",
       "      <td>Skills * Programming Languages: Python (pandas...</td>\n",
       "      <td>1</td>\n",
       "      <td>skills programming languages python pandas num...</td>\n",
       "      <td>0.693810</td>\n",
       "    </tr>\n",
       "    <tr>\n",
       "      <th>9</th>\n",
       "      <td>Data Science</td>\n",
       "      <td>Expertise â Data and Quantitative Analysis â...</td>\n",
       "      <td>1</td>\n",
       "      <td>expertise data quantitative analysis decision ...</td>\n",
       "      <td>0.681737</td>\n",
       "    </tr>\n",
       "    <tr>\n",
       "      <th>6</th>\n",
       "      <td>Data Science</td>\n",
       "      <td>Skills â¢ Python â¢ Tableau â¢ Data Visuali...</td>\n",
       "      <td>0</td>\n",
       "      <td>skills python tableau data visualization r stu...</td>\n",
       "      <td>0.668836</td>\n",
       "    </tr>\n",
       "    <tr>\n",
       "      <th>1</th>\n",
       "      <td>Data Science</td>\n",
       "      <td>Education Details \\nMay 2013 to May 2017 B.E  ...</td>\n",
       "      <td>0</td>\n",
       "      <td>education details may 2013 may 2017 uit-rgpvda...</td>\n",
       "      <td>0.609117</td>\n",
       "    </tr>\n",
       "    <tr>\n",
       "      <th>10</th>\n",
       "      <td>HR</td>\n",
       "      <td>\\n HR CONSULTANT       Summary       Subject m...</td>\n",
       "      <td>0</td>\n",
       "      <td>hr consultant summary subject matter expert hr...</td>\n",
       "      <td>0.604349</td>\n",
       "    </tr>\n",
       "    <tr>\n",
       "      <th>2</th>\n",
       "      <td>Data Science</td>\n",
       "      <td>Areas of Interest Deep Learning, Control Syste...</td>\n",
       "      <td>0</td>\n",
       "      <td>areas interest deep learning control system de...</td>\n",
       "      <td>0.601863</td>\n",
       "    </tr>\n",
       "    <tr>\n",
       "      <th>3</th>\n",
       "      <td>Data Science</td>\n",
       "      <td>Skills â¢ R â¢ Python â¢ SAP HANA â¢ Table...</td>\n",
       "      <td>0</td>\n",
       "      <td>skills r python sap hana tableau sap hana sql ...</td>\n",
       "      <td>0.548185</td>\n",
       "    </tr>\n",
       "    <tr>\n",
       "      <th>5</th>\n",
       "      <td>Data Science</td>\n",
       "      <td>SKILLS C Basics, IOT, Python, MATLAB, Data Sci...</td>\n",
       "      <td>0</td>\n",
       "      <td>skills c basics iot python matlab data science...</td>\n",
       "      <td>0.535058</td>\n",
       "    </tr>\n",
       "    <tr>\n",
       "      <th>4</th>\n",
       "      <td>Data Science</td>\n",
       "      <td>Education Details \\n MCA   YMCAUST,  Faridabad...</td>\n",
       "      <td>0</td>\n",
       "      <td>education details mca ymcaust faridabad haryan...</td>\n",
       "      <td>0.413073</td>\n",
       "    </tr>\n",
       "  </tbody>\n",
       "</table>\n",
       "</div>"
      ],
      "text/plain": [
       "        Category                                             Resume  chosen  \\\n",
       "8   Data Science  Personal Skills â¢ Ability to quickly grasp t...       1   \n",
       "7   Data Science  Education Details \\n B.Tech   Rayat and Bahra ...       1   \n",
       "0   Data Science  Skills * Programming Languages: Python (pandas...       1   \n",
       "9   Data Science  Expertise â Data and Quantitative Analysis â...       1   \n",
       "6   Data Science  Skills â¢ Python â¢ Tableau â¢ Data Visuali...       0   \n",
       "1   Data Science  Education Details \\nMay 2013 to May 2017 B.E  ...       0   \n",
       "10            HR  \\n HR CONSULTANT       Summary       Subject m...       0   \n",
       "2   Data Science  Areas of Interest Deep Learning, Control Syste...       0   \n",
       "3   Data Science  Skills â¢ R â¢ Python â¢ SAP HANA â¢ Table...       0   \n",
       "5   Data Science  SKILLS C Basics, IOT, Python, MATLAB, Data Sci...       0   \n",
       "4   Data Science  Education Details \\n MCA   YMCAUST,  Faridabad...       0   \n",
       "\n",
       "                                       cleaned_resume  similarity_score  \n",
       "8   personal skills ability quickly grasp technica...          0.702186  \n",
       "7   education details btech rayat bahra institute ...          0.700334  \n",
       "0   skills programming languages python pandas num...          0.693810  \n",
       "9   expertise data quantitative analysis decision ...          0.681737  \n",
       "6   skills python tableau data visualization r stu...          0.668836  \n",
       "1   education details may 2013 may 2017 uit-rgpvda...          0.609117  \n",
       "10  hr consultant summary subject matter expert hr...          0.604349  \n",
       "2   areas interest deep learning control system de...          0.601863  \n",
       "3   skills r python sap hana tableau sap hana sql ...          0.548185  \n",
       "5   skills c basics iot python matlab data science...          0.535058  \n",
       "4   education details mca ymcaust faridabad haryan...          0.413073  "
      ]
     },
     "execution_count": 217,
     "metadata": {},
     "output_type": "execute_result"
    }
   ],
   "source": [
    "updated_resumes"
   ]
  },
  {
   "cell_type": "code",
   "execution_count": 219,
   "id": "2c71686e-b4a4-409c-925c-bf995ad1adf2",
   "metadata": {},
   "outputs": [
    {
     "name": "stdout",
     "output_type": "stream",
     "text": [
      "                                       cleaned_resume  BM25_Score  chosen  \\\n",
      "3   skills r python sap hana tableau sap hana sql ...   36.149254       0   \n",
      "10  hr consultant summary subject matter expert hr...   31.572081       0   \n",
      "7   education details btech rayat bahra institute ...   30.681499       1   \n",
      "8   personal skills ability quickly grasp technica...   24.336544       1   \n",
      "6   skills python tableau data visualization r stu...   20.520494       0   \n",
      "9   expertise data quantitative analysis decision ...   17.261120       1   \n",
      "0   skills programming languages python pandas num...   16.508494       1   \n",
      "2   areas interest deep learning control system de...    8.755708       0   \n",
      "1   education details may 2013 may 2017 uit-rgpvda...    7.753676       0   \n",
      "5   skills c basics iot python matlab data science...    7.104779       0   \n",
      "4   education details mca ymcaust faridabad haryan...    0.833060       0   \n",
      "\n",
      "    similarity_score  \n",
      "3           0.548185  \n",
      "10          0.604349  \n",
      "7           0.700334  \n",
      "8           0.702186  \n",
      "6           0.668836  \n",
      "9           0.681737  \n",
      "0           0.693810  \n",
      "2           0.601863  \n",
      "1           0.609117  \n",
      "5           0.535058  \n",
      "4           0.413073  \n"
     ]
    }
   ],
   "source": [
    "# Step 1: BM25 Scoring\n",
    "# Preprocess resumes and job description\n",
    "tokenized_resumes = [resume.split() for resume in updated_resumes['cleaned_resume']]\n",
    "tokenized_job_description = job_description.split()\n",
    "\n",
    "# BM25 model --> The scores reflect how well each resume matches the job description query.\n",
    "bm25 = BM25Okapi(tokenized_resumes)\n",
    "bm25_scores = bm25.get_scores(tokenized_job_description)\n",
    "\n",
    "# Step 3: Add Results to DataFrame\n",
    "updated_resumes['BM25_Score'] = bm25_scores  # Ensure BM25 scores are assigned to this column\n",
    "\n",
    "# Step 4: Rank Results by Scaled BM25 Score\n",
    "updated_resumes_sorted = updated_resumes.sort_values(by='BM25_Score', ascending=False)\n",
    "\n",
    "# Display the top results\n",
    "print(updated_resumes_sorted[['cleaned_resume', 'BM25_Score', 'chosen',\"similarity_score\"]])"
   ]
  },
  {
   "cell_type": "code",
   "execution_count": 220,
   "id": "0490728a-2d4e-4700-bf08-f8afa3dfdd93",
   "metadata": {},
   "outputs": [
    {
     "data": {
      "text/html": [
       "<div>\n",
       "<style scoped>\n",
       "    .dataframe tbody tr th:only-of-type {\n",
       "        vertical-align: middle;\n",
       "    }\n",
       "\n",
       "    .dataframe tbody tr th {\n",
       "        vertical-align: top;\n",
       "    }\n",
       "\n",
       "    .dataframe thead th {\n",
       "        text-align: right;\n",
       "    }\n",
       "</style>\n",
       "<table border=\"1\" class=\"dataframe\">\n",
       "  <thead>\n",
       "    <tr style=\"text-align: right;\">\n",
       "      <th></th>\n",
       "      <th>Category</th>\n",
       "      <th>Resume</th>\n",
       "      <th>chosen</th>\n",
       "      <th>cleaned_resume</th>\n",
       "      <th>similarity_score</th>\n",
       "      <th>BM25_Score</th>\n",
       "    </tr>\n",
       "  </thead>\n",
       "  <tbody>\n",
       "    <tr>\n",
       "      <th>3</th>\n",
       "      <td>Data Science</td>\n",
       "      <td>Skills â¢ R â¢ Python â¢ SAP HANA â¢ Table...</td>\n",
       "      <td>0</td>\n",
       "      <td>skills r python sap hana tableau sap hana sql ...</td>\n",
       "      <td>0.548185</td>\n",
       "      <td>36.149254</td>\n",
       "    </tr>\n",
       "    <tr>\n",
       "      <th>10</th>\n",
       "      <td>HR</td>\n",
       "      <td>\\n HR CONSULTANT       Summary       Subject m...</td>\n",
       "      <td>0</td>\n",
       "      <td>hr consultant summary subject matter expert hr...</td>\n",
       "      <td>0.604349</td>\n",
       "      <td>31.572081</td>\n",
       "    </tr>\n",
       "    <tr>\n",
       "      <th>7</th>\n",
       "      <td>Data Science</td>\n",
       "      <td>Education Details \\n B.Tech   Rayat and Bahra ...</td>\n",
       "      <td>1</td>\n",
       "      <td>education details btech rayat bahra institute ...</td>\n",
       "      <td>0.700334</td>\n",
       "      <td>30.681499</td>\n",
       "    </tr>\n",
       "    <tr>\n",
       "      <th>8</th>\n",
       "      <td>Data Science</td>\n",
       "      <td>Personal Skills â¢ Ability to quickly grasp t...</td>\n",
       "      <td>1</td>\n",
       "      <td>personal skills ability quickly grasp technica...</td>\n",
       "      <td>0.702186</td>\n",
       "      <td>24.336544</td>\n",
       "    </tr>\n",
       "    <tr>\n",
       "      <th>6</th>\n",
       "      <td>Data Science</td>\n",
       "      <td>Skills â¢ Python â¢ Tableau â¢ Data Visuali...</td>\n",
       "      <td>0</td>\n",
       "      <td>skills python tableau data visualization r stu...</td>\n",
       "      <td>0.668836</td>\n",
       "      <td>20.520494</td>\n",
       "    </tr>\n",
       "    <tr>\n",
       "      <th>9</th>\n",
       "      <td>Data Science</td>\n",
       "      <td>Expertise â Data and Quantitative Analysis â...</td>\n",
       "      <td>1</td>\n",
       "      <td>expertise data quantitative analysis decision ...</td>\n",
       "      <td>0.681737</td>\n",
       "      <td>17.261120</td>\n",
       "    </tr>\n",
       "    <tr>\n",
       "      <th>0</th>\n",
       "      <td>Data Science</td>\n",
       "      <td>Skills * Programming Languages: Python (pandas...</td>\n",
       "      <td>1</td>\n",
       "      <td>skills programming languages python pandas num...</td>\n",
       "      <td>0.693810</td>\n",
       "      <td>16.508494</td>\n",
       "    </tr>\n",
       "    <tr>\n",
       "      <th>2</th>\n",
       "      <td>Data Science</td>\n",
       "      <td>Areas of Interest Deep Learning, Control Syste...</td>\n",
       "      <td>0</td>\n",
       "      <td>areas interest deep learning control system de...</td>\n",
       "      <td>0.601863</td>\n",
       "      <td>8.755708</td>\n",
       "    </tr>\n",
       "    <tr>\n",
       "      <th>1</th>\n",
       "      <td>Data Science</td>\n",
       "      <td>Education Details \\nMay 2013 to May 2017 B.E  ...</td>\n",
       "      <td>0</td>\n",
       "      <td>education details may 2013 may 2017 uit-rgpvda...</td>\n",
       "      <td>0.609117</td>\n",
       "      <td>7.753676</td>\n",
       "    </tr>\n",
       "    <tr>\n",
       "      <th>5</th>\n",
       "      <td>Data Science</td>\n",
       "      <td>SKILLS C Basics, IOT, Python, MATLAB, Data Sci...</td>\n",
       "      <td>0</td>\n",
       "      <td>skills c basics iot python matlab data science...</td>\n",
       "      <td>0.535058</td>\n",
       "      <td>7.104779</td>\n",
       "    </tr>\n",
       "    <tr>\n",
       "      <th>4</th>\n",
       "      <td>Data Science</td>\n",
       "      <td>Education Details \\n MCA   YMCAUST,  Faridabad...</td>\n",
       "      <td>0</td>\n",
       "      <td>education details mca ymcaust faridabad haryan...</td>\n",
       "      <td>0.413073</td>\n",
       "      <td>0.833060</td>\n",
       "    </tr>\n",
       "  </tbody>\n",
       "</table>\n",
       "</div>"
      ],
      "text/plain": [
       "        Category                                             Resume  chosen  \\\n",
       "3   Data Science  Skills â¢ R â¢ Python â¢ SAP HANA â¢ Table...       0   \n",
       "10            HR  \\n HR CONSULTANT       Summary       Subject m...       0   \n",
       "7   Data Science  Education Details \\n B.Tech   Rayat and Bahra ...       1   \n",
       "8   Data Science  Personal Skills â¢ Ability to quickly grasp t...       1   \n",
       "6   Data Science  Skills â¢ Python â¢ Tableau â¢ Data Visuali...       0   \n",
       "9   Data Science  Expertise â Data and Quantitative Analysis â...       1   \n",
       "0   Data Science  Skills * Programming Languages: Python (pandas...       1   \n",
       "2   Data Science  Areas of Interest Deep Learning, Control Syste...       0   \n",
       "1   Data Science  Education Details \\nMay 2013 to May 2017 B.E  ...       0   \n",
       "5   Data Science  SKILLS C Basics, IOT, Python, MATLAB, Data Sci...       0   \n",
       "4   Data Science  Education Details \\n MCA   YMCAUST,  Faridabad...       0   \n",
       "\n",
       "                                       cleaned_resume  similarity_score  \\\n",
       "3   skills r python sap hana tableau sap hana sql ...          0.548185   \n",
       "10  hr consultant summary subject matter expert hr...          0.604349   \n",
       "7   education details btech rayat bahra institute ...          0.700334   \n",
       "8   personal skills ability quickly grasp technica...          0.702186   \n",
       "6   skills python tableau data visualization r stu...          0.668836   \n",
       "9   expertise data quantitative analysis decision ...          0.681737   \n",
       "0   skills programming languages python pandas num...          0.693810   \n",
       "2   areas interest deep learning control system de...          0.601863   \n",
       "1   education details may 2013 may 2017 uit-rgpvda...          0.609117   \n",
       "5   skills c basics iot python matlab data science...          0.535058   \n",
       "4   education details mca ymcaust faridabad haryan...          0.413073   \n",
       "\n",
       "    BM25_Score  \n",
       "3    36.149254  \n",
       "10   31.572081  \n",
       "7    30.681499  \n",
       "8    24.336544  \n",
       "6    20.520494  \n",
       "9    17.261120  \n",
       "0    16.508494  \n",
       "2     8.755708  \n",
       "1     7.753676  \n",
       "5     7.104779  \n",
       "4     0.833060  "
      ]
     },
     "execution_count": 220,
     "metadata": {},
     "output_type": "execute_result"
    }
   ],
   "source": [
    "updated_resumes_sorted"
   ]
  },
  {
   "cell_type": "code",
   "execution_count": 221,
   "id": "9024ce6b-95af-4df7-b56b-a570b1301157",
   "metadata": {},
   "outputs": [
    {
     "name": "stdout",
     "output_type": "stream",
     "text": [
      "<class 'pandas.core.frame.DataFrame'>\n",
      "Index: 11 entries, 3 to 4\n",
      "Data columns (total 6 columns):\n",
      " #   Column            Non-Null Count  Dtype  \n",
      "---  ------            --------------  -----  \n",
      " 0   Category          11 non-null     object \n",
      " 1   Resume            11 non-null     object \n",
      " 2   chosen            11 non-null     int64  \n",
      " 3   cleaned_resume    11 non-null     object \n",
      " 4   similarity_score  11 non-null     float32\n",
      " 5   BM25_Score        11 non-null     float64\n",
      "dtypes: float32(1), float64(1), int64(1), object(3)\n",
      "memory usage: 572.0+ bytes\n"
     ]
    }
   ],
   "source": [
    "updated_resumes_sorted.info()"
   ]
  },
  {
   "cell_type": "code",
   "execution_count": 222,
   "id": "99293097-f015-4e2d-be6e-d414cf6a865a",
   "metadata": {},
   "outputs": [
    {
     "name": "stdout",
     "output_type": "stream",
     "text": [
      "                                       cleaned_resume  similarity_score  \\\n",
      "7   education details btech rayat bahra institute ...          0.700334   \n",
      "8   personal skills ability quickly grasp technica...          0.702186   \n",
      "10  hr consultant summary subject matter expert hr...          0.604349   \n",
      "3   skills r python sap hana tableau sap hana sql ...          0.548185   \n",
      "6   skills python tableau data visualization r stu...          0.668836   \n",
      "0   skills programming languages python pandas num...          0.693810   \n",
      "9   expertise data quantitative analysis decision ...          0.681737   \n",
      "2   areas interest deep learning control system de...          0.601863   \n",
      "1   education details may 2013 may 2017 uit-rgpvda...          0.609117   \n",
      "5   skills c basics iot python matlab data science...          0.535058   \n",
      "4   education details mca ymcaust faridabad haryan...          0.413073   \n",
      "\n",
      "    BM25_Score  hybrid_score  chosen  \n",
      "7    30.681499      0.919386       1  \n",
      "8    24.336544      0.832758       1  \n",
      "10   31.572081      0.765997       0  \n",
      "3    36.149254      0.733667       0  \n",
      "6    20.520494      0.721055       0  \n",
      "0    16.508494      0.707444       1  \n",
      "9    17.261120      0.697220       1  \n",
      "2     8.755708      0.438666       0  \n",
      "1     7.753676      0.437025       0  \n",
      "5     7.104779      0.299759       0  \n",
      "4     0.833060      0.000000       0  \n"
     ]
    }
   ],
   "source": [
    "# Step 1: Normalize Cosine Similarity Scores\n",
    "scaler = MinMaxScaler()\n",
    "updated_resumes_sorted['normalized_cosine'] = scaler.fit_transform(updated_resumes_sorted[['similarity_score']])\n",
    "\n",
    "# Step 2: Normalize BM25 Scores\n",
    "updated_resumes_sorted['normalized_bm25'] = scaler.fit_transform(updated_resumes_sorted[['BM25_Score']])\n",
    "\n",
    "# Step 3: Compute Hybrid Score\n",
    "w1, w2 = 0.5, 0.5\n",
    "updated_resumes_sorted['hybrid_score'] = (\n",
    "    w1 * updated_resumes_sorted['normalized_cosine'] +  w2 * updated_resumes_sorted['normalized_bm25'])\n",
    "\n",
    "# Step 4: Sort by Hybrid Score\n",
    "updated_resumes_sorted = updated_resumes_sorted.sort_values(by='hybrid_score', ascending=False)\n",
    "\n",
    "# Display top results\n",
    "print(updated_resumes_sorted[['cleaned_resume', 'similarity_score', 'BM25_Score', 'hybrid_score', 'chosen']])"
   ]
  },
  {
   "cell_type": "code",
   "execution_count": 223,
   "id": "369658df-946b-4063-a743-b2bf9c463a29",
   "metadata": {},
   "outputs": [
    {
     "name": "stdout",
     "output_type": "stream",
     "text": [
      "Evaluation Results:\n",
      "{'precision': 0.5, 'recall': 0.5, 'ordering_accuracy': 0, 'true_chosen_indices': [7, 8, 0, 9], 'predicted_top_indices': [7, 8, 10, 3], 'TP_count': 2, 'FP_count': 2, 'FN_count': 2, 'TN_count': 5, 'TP': {8, 7}, 'FP': {10, 3}, 'FN': {0, 9}, 'TN': {1, 2, 4, 5, 6}}\n"
     ]
    }
   ],
   "source": [
    "evaluation_results = evaluate_resume_ranking_general(updated_resumes_sorted)\n",
    "print(\"Evaluation Results:\")\n",
    "print(evaluation_results)"
   ]
  },
  {
   "cell_type": "code",
   "execution_count": 224,
   "id": "5a73820b-b391-41f1-9794-03cf5865daa1",
   "metadata": {},
   "outputs": [
    {
     "data": {
      "image/png": "[encoded data removed]",
      "text/plain": [
       "<Figure size 800x600 with 1 Axes>"
      ]
     },
     "metadata": {},
     "output_type": "display_data"
    },
    {
     "name": "stdout",
     "output_type": "stream",
     "text": [
      "AUC Score: 0.7857142857142857\n"
     ]
    }
   ],
   "source": [
    "roc_results = plot_roc_curve(updated_resumes_sorted, true_label_column=\"chosen\", score_column=\"hybrid_score\")\n",
    "print(\"AUC Score:\", roc_results[\"roc_auc\"])"
   ]
  },
  {
   "cell_type": "markdown",
   "id": "46f68dd2-5424-4dd0-83b5-959901dd4775",
   "metadata": {
    "jp-MarkdownHeadingCollapsed": true
   },
   "source": [
    "# try 12 knn metric='cosine' lower text"
   ]
  },
  {
   "cell_type": "code",
   "execution_count": 272,
   "id": "dae8fc1b-106f-4c8e-b825-e0109b45c9a3",
   "metadata": {},
   "outputs": [],
   "source": [
    "Data_Science_data = pd.read_csv(\"Data_Science_data.csv\")"
   ]
  },
  {
   "cell_type": "code",
   "execution_count": 273,
   "id": "b5c1e11e-a979-4415-9eec-74f027d2cd5c",
   "metadata": {},
   "outputs": [
    {
     "data": {
      "text/html": [
       "<div>\n",
       "<style scoped>\n",
       "    .dataframe tbody tr th:only-of-type {\n",
       "        vertical-align: middle;\n",
       "    }\n",
       "\n",
       "    .dataframe tbody tr th {\n",
       "        vertical-align: top;\n",
       "    }\n",
       "\n",
       "    .dataframe thead th {\n",
       "        text-align: right;\n",
       "    }\n",
       "</style>\n",
       "<table border=\"1\" class=\"dataframe\">\n",
       "  <thead>\n",
       "    <tr style=\"text-align: right;\">\n",
       "      <th></th>\n",
       "      <th>Category</th>\n",
       "      <th>Resume</th>\n",
       "      <th>chosen</th>\n",
       "    </tr>\n",
       "  </thead>\n",
       "  <tbody>\n",
       "    <tr>\n",
       "      <th>0</th>\n",
       "      <td>Data Science</td>\n",
       "      <td>Skills * Programming Languages: Python (pandas...</td>\n",
       "      <td>1</td>\n",
       "    </tr>\n",
       "    <tr>\n",
       "      <th>1</th>\n",
       "      <td>Data Science</td>\n",
       "      <td>Education Details \\nMay 2013 to May 2017 B.E  ...</td>\n",
       "      <td>0</td>\n",
       "    </tr>\n",
       "    <tr>\n",
       "      <th>2</th>\n",
       "      <td>Data Science</td>\n",
       "      <td>Areas of Interest Deep Learning, Control Syste...</td>\n",
       "      <td>0</td>\n",
       "    </tr>\n",
       "    <tr>\n",
       "      <th>3</th>\n",
       "      <td>Data Science</td>\n",
       "      <td>Skills â¢ R â¢ Python â¢ SAP HANA â¢ Table...</td>\n",
       "      <td>0</td>\n",
       "    </tr>\n",
       "    <tr>\n",
       "      <th>4</th>\n",
       "      <td>Data Science</td>\n",
       "      <td>Education Details \\n MCA   YMCAUST,  Faridabad...</td>\n",
       "      <td>0</td>\n",
       "    </tr>\n",
       "    <tr>\n",
       "      <th>5</th>\n",
       "      <td>Data Science</td>\n",
       "      <td>SKILLS C Basics, IOT, Python, MATLAB, Data Sci...</td>\n",
       "      <td>0</td>\n",
       "    </tr>\n",
       "    <tr>\n",
       "      <th>6</th>\n",
       "      <td>Data Science</td>\n",
       "      <td>Skills â¢ Python â¢ Tableau â¢ Data Visuali...</td>\n",
       "      <td>0</td>\n",
       "    </tr>\n",
       "    <tr>\n",
       "      <th>7</th>\n",
       "      <td>Data Science</td>\n",
       "      <td>Education Details \\n B.Tech   Rayat and Bahra ...</td>\n",
       "      <td>1</td>\n",
       "    </tr>\n",
       "    <tr>\n",
       "      <th>8</th>\n",
       "      <td>Data Science</td>\n",
       "      <td>Personal Skills â¢ Ability to quickly grasp t...</td>\n",
       "      <td>1</td>\n",
       "    </tr>\n",
       "    <tr>\n",
       "      <th>9</th>\n",
       "      <td>Data Science</td>\n",
       "      <td>Expertise â Data and Quantitative Analysis â...</td>\n",
       "      <td>1</td>\n",
       "    </tr>\n",
       "    <tr>\n",
       "      <th>10</th>\n",
       "      <td>HR</td>\n",
       "      <td>\\n HR CONSULTANT       Summary       Subject m...</td>\n",
       "      <td>0</td>\n",
       "    </tr>\n",
       "  </tbody>\n",
       "</table>\n",
       "</div>"
      ],
      "text/plain": [
       "        Category                                             Resume  chosen\n",
       "0   Data Science  Skills * Programming Languages: Python (pandas...       1\n",
       "1   Data Science  Education Details \\nMay 2013 to May 2017 B.E  ...       0\n",
       "2   Data Science  Areas of Interest Deep Learning, Control Syste...       0\n",
       "3   Data Science  Skills â¢ R â¢ Python â¢ SAP HANA â¢ Table...       0\n",
       "4   Data Science  Education Details \\n MCA   YMCAUST,  Faridabad...       0\n",
       "5   Data Science  SKILLS C Basics, IOT, Python, MATLAB, Data Sci...       0\n",
       "6   Data Science  Skills â¢ Python â¢ Tableau â¢ Data Visuali...       0\n",
       "7   Data Science  Education Details \\n B.Tech   Rayat and Bahra ...       1\n",
       "8   Data Science  Personal Skills â¢ Ability to quickly grasp t...       1\n",
       "9   Data Science  Expertise â Data and Quantitative Analysis â...       1\n",
       "10            HR  \\n HR CONSULTANT       Summary       Subject m...       0"
      ]
     },
     "execution_count": 273,
     "metadata": {},
     "output_type": "execute_result"
    }
   ],
   "source": [
    "Data_Science_data"
   ]
  },
  {
   "cell_type": "code",
   "execution_count": 274,
   "id": "04ec0712-c529-43cd-9b50-a034ab9e0631",
   "metadata": {},
   "outputs": [],
   "source": [
    "# Text preprocessing function\n",
    "def preprocess_text(text):\n",
    "    # Convert to lowercase\n",
    "    text = text.lower()\n",
    "    # Remove special characters (but keep numbers) keep \n",
    "    text = re.sub(r'[^a-zA-Z0-9-@\\s]', '', text)\n",
    "    # Tokenize text\n",
    "    tokens = word_tokenize(text)\n",
    "    # Remove stopwords\n",
    "    stop_words = set(stopwords.words('english'))\n",
    "    filtered_tokens = [word for word in tokens if word not in stop_words]\n",
    "    return ' '.join(filtered_tokens)"
   ]
  },
  {
   "cell_type": "code",
   "execution_count": 275,
   "id": "604c4f58-4da6-4f16-9e5c-036f4e82a176",
   "metadata": {},
   "outputs": [
    {
     "data": {
      "text/html": [
       "<div>\n",
       "<style scoped>\n",
       "    .dataframe tbody tr th:only-of-type {\n",
       "        vertical-align: middle;\n",
       "    }\n",
       "\n",
       "    .dataframe tbody tr th {\n",
       "        vertical-align: top;\n",
       "    }\n",
       "\n",
       "    .dataframe thead th {\n",
       "        text-align: right;\n",
       "    }\n",
       "</style>\n",
       "<table border=\"1\" class=\"dataframe\">\n",
       "  <thead>\n",
       "    <tr style=\"text-align: right;\">\n",
       "      <th></th>\n",
       "      <th>Category</th>\n",
       "      <th>Resume</th>\n",
       "      <th>chosen</th>\n",
       "      <th>cleaned_resume</th>\n",
       "    </tr>\n",
       "  </thead>\n",
       "  <tbody>\n",
       "    <tr>\n",
       "      <th>0</th>\n",
       "      <td>Data Science</td>\n",
       "      <td>Skills * Programming Languages: Python (pandas...</td>\n",
       "      <td>1</td>\n",
       "      <td>skills programming languages python pandas num...</td>\n",
       "    </tr>\n",
       "    <tr>\n",
       "      <th>1</th>\n",
       "      <td>Data Science</td>\n",
       "      <td>Education Details \\nMay 2013 to May 2017 B.E  ...</td>\n",
       "      <td>0</td>\n",
       "      <td>education details may 2013 may 2017 uit-rgpvda...</td>\n",
       "    </tr>\n",
       "    <tr>\n",
       "      <th>2</th>\n",
       "      <td>Data Science</td>\n",
       "      <td>Areas of Interest Deep Learning, Control Syste...</td>\n",
       "      <td>0</td>\n",
       "      <td>areas interest deep learning control system de...</td>\n",
       "    </tr>\n",
       "    <tr>\n",
       "      <th>3</th>\n",
       "      <td>Data Science</td>\n",
       "      <td>Skills â¢ R â¢ Python â¢ SAP HANA â¢ Table...</td>\n",
       "      <td>0</td>\n",
       "      <td>skills r python sap hana tableau sap hana sql ...</td>\n",
       "    </tr>\n",
       "    <tr>\n",
       "      <th>4</th>\n",
       "      <td>Data Science</td>\n",
       "      <td>Education Details \\n MCA   YMCAUST,  Faridabad...</td>\n",
       "      <td>0</td>\n",
       "      <td>education details mca ymcaust faridabad haryan...</td>\n",
       "    </tr>\n",
       "    <tr>\n",
       "      <th>5</th>\n",
       "      <td>Data Science</td>\n",
       "      <td>SKILLS C Basics, IOT, Python, MATLAB, Data Sci...</td>\n",
       "      <td>0</td>\n",
       "      <td>skills c basics iot python matlab data science...</td>\n",
       "    </tr>\n",
       "    <tr>\n",
       "      <th>6</th>\n",
       "      <td>Data Science</td>\n",
       "      <td>Skills â¢ Python â¢ Tableau â¢ Data Visuali...</td>\n",
       "      <td>0</td>\n",
       "      <td>skills python tableau data visualization r stu...</td>\n",
       "    </tr>\n",
       "    <tr>\n",
       "      <th>7</th>\n",
       "      <td>Data Science</td>\n",
       "      <td>Education Details \\n B.Tech   Rayat and Bahra ...</td>\n",
       "      <td>1</td>\n",
       "      <td>education details btech rayat bahra institute ...</td>\n",
       "    </tr>\n",
       "    <tr>\n",
       "      <th>8</th>\n",
       "      <td>Data Science</td>\n",
       "      <td>Personal Skills â¢ Ability to quickly grasp t...</td>\n",
       "      <td>1</td>\n",
       "      <td>personal skills ability quickly grasp technica...</td>\n",
       "    </tr>\n",
       "    <tr>\n",
       "      <th>9</th>\n",
       "      <td>Data Science</td>\n",
       "      <td>Expertise â Data and Quantitative Analysis â...</td>\n",
       "      <td>1</td>\n",
       "      <td>expertise data quantitative analysis decision ...</td>\n",
       "    </tr>\n",
       "    <tr>\n",
       "      <th>10</th>\n",
       "      <td>HR</td>\n",
       "      <td>\\n HR CONSULTANT       Summary       Subject m...</td>\n",
       "      <td>0</td>\n",
       "      <td>hr consultant summary subject matter expert hr...</td>\n",
       "    </tr>\n",
       "  </tbody>\n",
       "</table>\n",
       "</div>"
      ],
      "text/plain": [
       "        Category                                             Resume  chosen  \\\n",
       "0   Data Science  Skills * Programming Languages: Python (pandas...       1   \n",
       "1   Data Science  Education Details \\nMay 2013 to May 2017 B.E  ...       0   \n",
       "2   Data Science  Areas of Interest Deep Learning, Control Syste...       0   \n",
       "3   Data Science  Skills â¢ R â¢ Python â¢ SAP HANA â¢ Table...       0   \n",
       "4   Data Science  Education Details \\n MCA   YMCAUST,  Faridabad...       0   \n",
       "5   Data Science  SKILLS C Basics, IOT, Python, MATLAB, Data Sci...       0   \n",
       "6   Data Science  Skills â¢ Python â¢ Tableau â¢ Data Visuali...       0   \n",
       "7   Data Science  Education Details \\n B.Tech   Rayat and Bahra ...       1   \n",
       "8   Data Science  Personal Skills â¢ Ability to quickly grasp t...       1   \n",
       "9   Data Science  Expertise â Data and Quantitative Analysis â...       1   \n",
       "10            HR  \\n HR CONSULTANT       Summary       Subject m...       0   \n",
       "\n",
       "                                       cleaned_resume  \n",
       "0   skills programming languages python pandas num...  \n",
       "1   education details may 2013 may 2017 uit-rgpvda...  \n",
       "2   areas interest deep learning control system de...  \n",
       "3   skills r python sap hana tableau sap hana sql ...  \n",
       "4   education details mca ymcaust faridabad haryan...  \n",
       "5   skills c basics iot python matlab data science...  \n",
       "6   skills python tableau data visualization r stu...  \n",
       "7   education details btech rayat bahra institute ...  \n",
       "8   personal skills ability quickly grasp technica...  \n",
       "9   expertise data quantitative analysis decision ...  \n",
       "10  hr consultant summary subject matter expert hr...  "
      ]
     },
     "execution_count": 275,
     "metadata": {},
     "output_type": "execute_result"
    }
   ],
   "source": [
    "Data_Science_data['cleaned_resume'] = Data_Science_data['Resume'].apply(preprocess_text)\n",
    "Data_Science_data"
   ]
  },
  {
   "cell_type": "code",
   "execution_count": 276,
   "id": "de387dfe-74f7-41de-ac92-e4aa359b1504",
   "metadata": {},
   "outputs": [
    {
     "data": {
      "application/vnd.jupyter.widget-view+json": {
       "model_id": "24af3488cf574ef5b299a05b008b8872",
       "version_major": 2,
       "version_minor": 0
      },
      "text/plain": [
       "Batches:   0%|          | 0/1 [00:00<?, ?it/s]"
      ]
     },
     "metadata": {},
     "output_type": "display_data"
    }
   ],
   "source": [
    "# Load the pre-trained BERT model\n",
    "model = SentenceTransformer('all-MiniLM-L6-v2')\n",
    "# Generate BERT embeddings for resumes\n",
    "resume_embeddings = model.encode(Data_Science_data['cleaned_resume'].tolist(), show_progress_bar=True)\n",
    "\n",
    "# Convert embeddings to a NumPy array (for efficient computation)\n",
    "resume_embeddings = np.array(resume_embeddings)\n",
    "# Preprocess the job description\n",
    "cleaned_job_desc = preprocess_text(job_description)\n",
    "\n",
    "# Generate BERT embedding for the job description\n",
    "job_desc_embedding = model.encode([cleaned_job_desc])"
   ]
  },
  {
   "cell_type": "code",
   "execution_count": 277,
   "id": "f5606d09-199c-43a9-96ee-f2ee71025405",
   "metadata": {},
   "outputs": [
    {
     "name": "stdout",
     "output_type": "stream",
     "text": [
      "Evaluation Results:\n",
      "precision: 1.0\n",
      "recall: 1.0\n",
      "ordering_accuracy: 1\n",
      "true_chosen_indices: [8, 7, 0, 9]\n",
      "predicted_top_indices: [8, 7, 0, 9]\n",
      "TP_count: 4\n",
      "FP_count: 0\n",
      "FN_count: 0\n",
      "TN_count: 7\n",
      "TP: {8, 0, 9, 7}\n",
      "FP: set()\n",
      "FN: set()\n",
      "TN: {1, 2, 3, 4, 5, 6, 10}\n"
     ]
    }
   ],
   "source": [
    "# Perform KNN search\n",
    "knn = NearestNeighbors(n_neighbors=10, metric='cosine')  # Using cosine similarity\n",
    "knn.fit(resume_embeddings)\n",
    "\n",
    "# Find the top nearest resumes to the job description\n",
    "distances, indices = knn.kneighbors(job_desc_embedding)\n",
    "\n",
    "# Update the original DataFrame with distances\n",
    "Data_Science_data[\"knn_distance\"] = float('inf')  # Initialize with a high value for all rows\n",
    "for idx, dist in zip(indices[0], distances[0]):\n",
    "    Data_Science_data.loc[idx, \"knn_distance\"] = dist  # Assign distances to the correct indices\n",
    "\n",
    "# Sort the DataFrame by the new 'knn_distance' column\n",
    "sorted_resumes = Data_Science_data.sort_values(by=\"knn_distance\", ascending=True)\n",
    "\n",
    "# Evaluate the ranking\n",
    "evaluation_results = evaluate_resume_ranking_general(\n",
    "    sorted_resumes,\n",
    "    true_label_column=\"chosen\"\n",
    ")\n",
    "# Print the evaluation metrics\n",
    "print(\"Evaluation Results:\")\n",
    "for metric, value in evaluation_results.items():\n",
    "    print(f\"{metric}: {value}\")"
   ]
  },
  {
   "cell_type": "code",
   "execution_count": 278,
   "id": "9125921a-c45e-4758-b953-eccf6fd6e16b",
   "metadata": {},
   "outputs": [
    {
     "data": {
      "text/html": [
       "<div>\n",
       "<style scoped>\n",
       "    .dataframe tbody tr th:only-of-type {\n",
       "        vertical-align: middle;\n",
       "    }\n",
       "\n",
       "    .dataframe tbody tr th {\n",
       "        vertical-align: top;\n",
       "    }\n",
       "\n",
       "    .dataframe thead th {\n",
       "        text-align: right;\n",
       "    }\n",
       "</style>\n",
       "<table border=\"1\" class=\"dataframe\">\n",
       "  <thead>\n",
       "    <tr style=\"text-align: right;\">\n",
       "      <th></th>\n",
       "      <th>Category</th>\n",
       "      <th>Resume</th>\n",
       "      <th>chosen</th>\n",
       "      <th>cleaned_resume</th>\n",
       "      <th>knn_distance</th>\n",
       "    </tr>\n",
       "  </thead>\n",
       "  <tbody>\n",
       "    <tr>\n",
       "      <th>8</th>\n",
       "      <td>Data Science</td>\n",
       "      <td>Personal Skills â¢ Ability to quickly grasp t...</td>\n",
       "      <td>1</td>\n",
       "      <td>personal skills ability quickly grasp technica...</td>\n",
       "      <td>0.297814</td>\n",
       "    </tr>\n",
       "    <tr>\n",
       "      <th>7</th>\n",
       "      <td>Data Science</td>\n",
       "      <td>Education Details \\n B.Tech   Rayat and Bahra ...</td>\n",
       "      <td>1</td>\n",
       "      <td>education details btech rayat bahra institute ...</td>\n",
       "      <td>0.299666</td>\n",
       "    </tr>\n",
       "    <tr>\n",
       "      <th>0</th>\n",
       "      <td>Data Science</td>\n",
       "      <td>Skills * Programming Languages: Python (pandas...</td>\n",
       "      <td>1</td>\n",
       "      <td>skills programming languages python pandas num...</td>\n",
       "      <td>0.306190</td>\n",
       "    </tr>\n",
       "    <tr>\n",
       "      <th>9</th>\n",
       "      <td>Data Science</td>\n",
       "      <td>Expertise â Data and Quantitative Analysis â...</td>\n",
       "      <td>1</td>\n",
       "      <td>expertise data quantitative analysis decision ...</td>\n",
       "      <td>0.318263</td>\n",
       "    </tr>\n",
       "    <tr>\n",
       "      <th>6</th>\n",
       "      <td>Data Science</td>\n",
       "      <td>Skills â¢ Python â¢ Tableau â¢ Data Visuali...</td>\n",
       "      <td>0</td>\n",
       "      <td>skills python tableau data visualization r stu...</td>\n",
       "      <td>0.331164</td>\n",
       "    </tr>\n",
       "    <tr>\n",
       "      <th>1</th>\n",
       "      <td>Data Science</td>\n",
       "      <td>Education Details \\nMay 2013 to May 2017 B.E  ...</td>\n",
       "      <td>0</td>\n",
       "      <td>education details may 2013 may 2017 uit-rgpvda...</td>\n",
       "      <td>0.390883</td>\n",
       "    </tr>\n",
       "    <tr>\n",
       "      <th>10</th>\n",
       "      <td>HR</td>\n",
       "      <td>\\n HR CONSULTANT       Summary       Subject m...</td>\n",
       "      <td>0</td>\n",
       "      <td>hr consultant summary subject matter expert hr...</td>\n",
       "      <td>0.395651</td>\n",
       "    </tr>\n",
       "    <tr>\n",
       "      <th>2</th>\n",
       "      <td>Data Science</td>\n",
       "      <td>Areas of Interest Deep Learning, Control Syste...</td>\n",
       "      <td>0</td>\n",
       "      <td>areas interest deep learning control system de...</td>\n",
       "      <td>0.398137</td>\n",
       "    </tr>\n",
       "    <tr>\n",
       "      <th>3</th>\n",
       "      <td>Data Science</td>\n",
       "      <td>Skills â¢ R â¢ Python â¢ SAP HANA â¢ Table...</td>\n",
       "      <td>0</td>\n",
       "      <td>skills r python sap hana tableau sap hana sql ...</td>\n",
       "      <td>0.451815</td>\n",
       "    </tr>\n",
       "    <tr>\n",
       "      <th>5</th>\n",
       "      <td>Data Science</td>\n",
       "      <td>SKILLS C Basics, IOT, Python, MATLAB, Data Sci...</td>\n",
       "      <td>0</td>\n",
       "      <td>skills c basics iot python matlab data science...</td>\n",
       "      <td>0.464942</td>\n",
       "    </tr>\n",
       "    <tr>\n",
       "      <th>4</th>\n",
       "      <td>Data Science</td>\n",
       "      <td>Education Details \\n MCA   YMCAUST,  Faridabad...</td>\n",
       "      <td>0</td>\n",
       "      <td>education details mca ymcaust faridabad haryan...</td>\n",
       "      <td>inf</td>\n",
       "    </tr>\n",
       "  </tbody>\n",
       "</table>\n",
       "</div>"
      ],
      "text/plain": [
       "        Category                                             Resume  chosen  \\\n",
       "8   Data Science  Personal Skills â¢ Ability to quickly grasp t...       1   \n",
       "7   Data Science  Education Details \\n B.Tech   Rayat and Bahra ...       1   \n",
       "0   Data Science  Skills * Programming Languages: Python (pandas...       1   \n",
       "9   Data Science  Expertise â Data and Quantitative Analysis â...       1   \n",
       "6   Data Science  Skills â¢ Python â¢ Tableau â¢ Data Visuali...       0   \n",
       "1   Data Science  Education Details \\nMay 2013 to May 2017 B.E  ...       0   \n",
       "10            HR  \\n HR CONSULTANT       Summary       Subject m...       0   \n",
       "2   Data Science  Areas of Interest Deep Learning, Control Syste...       0   \n",
       "3   Data Science  Skills â¢ R â¢ Python â¢ SAP HANA â¢ Table...       0   \n",
       "5   Data Science  SKILLS C Basics, IOT, Python, MATLAB, Data Sci...       0   \n",
       "4   Data Science  Education Details \\n MCA   YMCAUST,  Faridabad...       0   \n",
       "\n",
       "                                       cleaned_resume  knn_distance  \n",
       "8   personal skills ability quickly grasp technica...      0.297814  \n",
       "7   education details btech rayat bahra institute ...      0.299666  \n",
       "0   skills programming languages python pandas num...      0.306190  \n",
       "9   expertise data quantitative analysis decision ...      0.318263  \n",
       "6   skills python tableau data visualization r stu...      0.331164  \n",
       "1   education details may 2013 may 2017 uit-rgpvda...      0.390883  \n",
       "10  hr consultant summary subject matter expert hr...      0.395651  \n",
       "2   areas interest deep learning control system de...      0.398137  \n",
       "3   skills r python sap hana tableau sap hana sql ...      0.451815  \n",
       "5   skills c basics iot python matlab data science...      0.464942  \n",
       "4   education details mca ymcaust faridabad haryan...           inf  "
      ]
     },
     "execution_count": 278,
     "metadata": {},
     "output_type": "execute_result"
    }
   ],
   "source": [
    "sorted_resumes"
   ]
  },
  {
   "cell_type": "markdown",
   "id": "d4ea1cfd-c9e6-4551-96e8-b24975a00700",
   "metadata": {},
   "source": [
    "### **Cosine Distance**\n",
    "- **Cosine similarity** measures how similar two vectors are by calculating the cosine of the angle between them. \n",
    "  - A similarity score closer to **1** means the vectors are highly aligned (similar).\n",
    "  - A score closer to **0** means the vectors are orthogonal (unrelated).\n",
    "  \n",
    "  Cosine **distance** is derived as:  \n",
    "  {Cosine Distance} = 1 - {Cosine Similarity}\n",
    "\n",
    "  Thus, **lower distance values** indicate higher similarity.\n",
    "\n",
    "\n",
    "\n",
    "### Key Points:\n",
    "1. **Lower Distance = Better Match**:\n",
    "   - Resumes with smaller distances are better aligned with the job description's semantic meaning.\n",
    "2. **Index Order Is Based on Proximity**:\n",
    "   - KNN ranks resumes by closeness to the query (job description embedding).\n",
    "3. **Cosine Distance Values**:\n",
    "   - Values closer to **0** are more similar, while values closer to **1** are more dissimilar.\n",
    "\n"
   ]
  },
  {
   "cell_type": "markdown",
   "id": "1c1415fc-d4de-445b-9918-3e53380f1731",
   "metadata": {
    "jp-MarkdownHeadingCollapsed": true
   },
   "source": [
    "# try 13 knn metric='euclidean' lower text"
   ]
  },
  {
   "cell_type": "code",
   "execution_count": 28,
   "id": "d2a79d92-dbab-4a91-8be8-6ab3826f9fb2",
   "metadata": {},
   "outputs": [],
   "source": [
    "Data_Science_data = pd.read_csv(\"Data_Science_data.csv\")"
   ]
  },
  {
   "cell_type": "code",
   "execution_count": 29,
   "id": "42381c3b-f35b-41dc-9ce0-c7f2aa841c76",
   "metadata": {},
   "outputs": [],
   "source": [
    "# Text preprocessing function\n",
    "def preprocess_text(text):\n",
    "    # Convert to lowercase\n",
    "    text = text.lower()\n",
    "    # Remove special characters (but keep numbers) keep \n",
    "    text = re.sub(r'[^a-zA-Z0-9-@\\s]', '', text)\n",
    "    # Tokenize text\n",
    "    tokens = word_tokenize(text)\n",
    "    # Remove stopwords\n",
    "    stop_words = set(stopwords.words('english'))\n",
    "    filtered_tokens = [word for word in tokens if word not in stop_words]\n",
    "    return ' '.join(filtered_tokens)"
   ]
  },
  {
   "cell_type": "code",
   "execution_count": 30,
   "id": "f3ab7693-2d95-4fe2-bd28-c8f7924fb6c0",
   "metadata": {},
   "outputs": [
    {
     "data": {
      "text/html": [
       "<div>\n",
       "<style scoped>\n",
       "    .dataframe tbody tr th:only-of-type {\n",
       "        vertical-align: middle;\n",
       "    }\n",
       "\n",
       "    .dataframe tbody tr th {\n",
       "        vertical-align: top;\n",
       "    }\n",
       "\n",
       "    .dataframe thead th {\n",
       "        text-align: right;\n",
       "    }\n",
       "</style>\n",
       "<table border=\"1\" class=\"dataframe\">\n",
       "  <thead>\n",
       "    <tr style=\"text-align: right;\">\n",
       "      <th></th>\n",
       "      <th>Category</th>\n",
       "      <th>Resume</th>\n",
       "      <th>chosen</th>\n",
       "      <th>cleaned_resume</th>\n",
       "    </tr>\n",
       "  </thead>\n",
       "  <tbody>\n",
       "    <tr>\n",
       "      <th>0</th>\n",
       "      <td>Data Science</td>\n",
       "      <td>Skills * Programming Languages: Python (pandas...</td>\n",
       "      <td>1</td>\n",
       "      <td>skills programming languages python pandas num...</td>\n",
       "    </tr>\n",
       "    <tr>\n",
       "      <th>1</th>\n",
       "      <td>Data Science</td>\n",
       "      <td>Education Details \\nMay 2013 to May 2017 B.E  ...</td>\n",
       "      <td>0</td>\n",
       "      <td>education details may 2013 may 2017 uit-rgpvda...</td>\n",
       "    </tr>\n",
       "    <tr>\n",
       "      <th>2</th>\n",
       "      <td>Data Science</td>\n",
       "      <td>Areas of Interest Deep Learning, Control Syste...</td>\n",
       "      <td>0</td>\n",
       "      <td>areas interest deep learning control system de...</td>\n",
       "    </tr>\n",
       "    <tr>\n",
       "      <th>3</th>\n",
       "      <td>Data Science</td>\n",
       "      <td>Skills â¢ R â¢ Python â¢ SAP HANA â¢ Table...</td>\n",
       "      <td>0</td>\n",
       "      <td>skills r python sap hana tableau sap hana sql ...</td>\n",
       "    </tr>\n",
       "    <tr>\n",
       "      <th>4</th>\n",
       "      <td>Data Science</td>\n",
       "      <td>Education Details \\n MCA   YMCAUST,  Faridabad...</td>\n",
       "      <td>0</td>\n",
       "      <td>education details mca ymcaust faridabad haryan...</td>\n",
       "    </tr>\n",
       "    <tr>\n",
       "      <th>5</th>\n",
       "      <td>Data Science</td>\n",
       "      <td>SKILLS C Basics, IOT, Python, MATLAB, Data Sci...</td>\n",
       "      <td>0</td>\n",
       "      <td>skills c basics iot python matlab data science...</td>\n",
       "    </tr>\n",
       "    <tr>\n",
       "      <th>6</th>\n",
       "      <td>Data Science</td>\n",
       "      <td>Skills â¢ Python â¢ Tableau â¢ Data Visuali...</td>\n",
       "      <td>0</td>\n",
       "      <td>skills python tableau data visualization r stu...</td>\n",
       "    </tr>\n",
       "    <tr>\n",
       "      <th>7</th>\n",
       "      <td>Data Science</td>\n",
       "      <td>Education Details \\n B.Tech   Rayat and Bahra ...</td>\n",
       "      <td>1</td>\n",
       "      <td>education details btech rayat bahra institute ...</td>\n",
       "    </tr>\n",
       "    <tr>\n",
       "      <th>8</th>\n",
       "      <td>Data Science</td>\n",
       "      <td>Personal Skills â¢ Ability to quickly grasp t...</td>\n",
       "      <td>1</td>\n",
       "      <td>personal skills ability quickly grasp technica...</td>\n",
       "    </tr>\n",
       "    <tr>\n",
       "      <th>9</th>\n",
       "      <td>Data Science</td>\n",
       "      <td>Expertise â Data and Quantitative Analysis â...</td>\n",
       "      <td>1</td>\n",
       "      <td>expertise data quantitative analysis decision ...</td>\n",
       "    </tr>\n",
       "    <tr>\n",
       "      <th>10</th>\n",
       "      <td>HR</td>\n",
       "      <td>\\n HR CONSULTANT       Summary       Subject m...</td>\n",
       "      <td>0</td>\n",
       "      <td>hr consultant summary subject matter expert hr...</td>\n",
       "    </tr>\n",
       "  </tbody>\n",
       "</table>\n",
       "</div>"
      ],
      "text/plain": [
       "        Category                                             Resume  chosen  \\\n",
       "0   Data Science  Skills * Programming Languages: Python (pandas...       1   \n",
       "1   Data Science  Education Details \\nMay 2013 to May 2017 B.E  ...       0   \n",
       "2   Data Science  Areas of Interest Deep Learning, Control Syste...       0   \n",
       "3   Data Science  Skills â¢ R â¢ Python â¢ SAP HANA â¢ Table...       0   \n",
       "4   Data Science  Education Details \\n MCA   YMCAUST,  Faridabad...       0   \n",
       "5   Data Science  SKILLS C Basics, IOT, Python, MATLAB, Data Sci...       0   \n",
       "6   Data Science  Skills â¢ Python â¢ Tableau â¢ Data Visuali...       0   \n",
       "7   Data Science  Education Details \\n B.Tech   Rayat and Bahra ...       1   \n",
       "8   Data Science  Personal Skills â¢ Ability to quickly grasp t...       1   \n",
       "9   Data Science  Expertise â Data and Quantitative Analysis â...       1   \n",
       "10            HR  \\n HR CONSULTANT       Summary       Subject m...       0   \n",
       "\n",
       "                                       cleaned_resume  \n",
       "0   skills programming languages python pandas num...  \n",
       "1   education details may 2013 may 2017 uit-rgpvda...  \n",
       "2   areas interest deep learning control system de...  \n",
       "3   skills r python sap hana tableau sap hana sql ...  \n",
       "4   education details mca ymcaust faridabad haryan...  \n",
       "5   skills c basics iot python matlab data science...  \n",
       "6   skills python tableau data visualization r stu...  \n",
       "7   education details btech rayat bahra institute ...  \n",
       "8   personal skills ability quickly grasp technica...  \n",
       "9   expertise data quantitative analysis decision ...  \n",
       "10  hr consultant summary subject matter expert hr...  "
      ]
     },
     "execution_count": 30,
     "metadata": {},
     "output_type": "execute_result"
    }
   ],
   "source": [
    "Data_Science_data['cleaned_resume'] = Data_Science_data['Resume'].apply(preprocess_text)\n",
    "Data_Science_data"
   ]
  },
  {
   "cell_type": "code",
   "execution_count": 32,
   "id": "f9a06bc1-65ba-4135-ade4-dc38de5315d9",
   "metadata": {},
   "outputs": [
    {
     "data": {
      "application/vnd.jupyter.widget-view+json": {
       "model_id": "4d25d70d10ec49fa92d3f58b42e4430e",
       "version_major": 2,
       "version_minor": 0
      },
      "text/plain": [
       "Batches:   0%|          | 0/1 [00:00<?, ?it/s]"
      ]
     },
     "metadata": {},
     "output_type": "display_data"
    }
   ],
   "source": [
    "# Load the pre-trained BERT model\n",
    "model = SentenceTransformer('all-MiniLM-L6-v2')\n",
    "# Generate BERT embeddings for resumes\n",
    "resume_embeddings = model.encode(Data_Science_data['cleaned_resume'].tolist(), show_progress_bar=True)\n",
    "\n",
    "# Convert embeddings to a NumPy array (for efficient computation)\n",
    "resume_embeddings = np.array(resume_embeddings)\n",
    "# Preprocess the job description\n",
    "cleaned_job_desc = preprocess_text(job_description)\n",
    "\n",
    "# Generate BERT embedding for the job description\n",
    "job_desc_embedding = model.encode([cleaned_job_desc])"
   ]
  },
  {
   "cell_type": "code",
   "execution_count": 33,
   "id": "d902f36c-7e6c-457d-b00b-88474f358e21",
   "metadata": {},
   "outputs": [
    {
     "name": "stdout",
     "output_type": "stream",
     "text": [
      "Evaluation Results:\n",
      "precision: 1.0\n",
      "recall: 1.0\n",
      "ordering_accuracy: 1\n",
      "true_chosen_indices: [8, 7, 0, 9]\n",
      "predicted_top_indices: [8, 7, 0, 9]\n",
      "TP_count: 4\n",
      "FP_count: 0\n",
      "FN_count: 0\n",
      "TN_count: 7\n",
      "TP: {8, 0, 9, 7}\n",
      "FP: set()\n",
      "FN: set()\n",
      "TN: {1, 2, 3, 4, 5, 6, 10}\n"
     ]
    },
    {
     "name": "stderr",
     "output_type": "stream",
     "text": [
      "huggingface/tokenizers: The current process just got forked, after parallelism has already been used. Disabling parallelism to avoid deadlocks...\n",
      "To disable this warning, you can either:\n",
      "\t- Avoid using `tokenizers` before the fork if possible\n",
      "\t- Explicitly set the environment variable TOKENIZERS_PARALLELISM=(true | false)\n"
     ]
    }
   ],
   "source": [
    "# Perform KNN search\n",
    "knn = NearestNeighbors(n_neighbors=10, metric='euclidean')  # Using cosine similarity\n",
    "knn.fit(resume_embeddings)\n",
    "\n",
    "# Find the top nearest resumes to the job description\n",
    "distances, indices = knn.kneighbors(job_desc_embedding)\n",
    "\n",
    "# Update the original DataFrame with distances\n",
    "Data_Science_data[\"euclidean_distance\"] = float('inf')  # Initialize with a high value for all rows\n",
    "for idx, dist in zip(indices[0], distances[0]):\n",
    "    Data_Science_data.loc[idx, \"euclidean_distance\"] = dist  # Assign distances to the correct indices\n",
    "\n",
    "# Sort the DataFrame by the new 'knn_distance' column\n",
    "sorted_resumes = Data_Science_data.sort_values(by=\"euclidean_distance\", ascending=True)\n",
    "\n",
    "# Evaluate the ranking\n",
    "evaluation_results = evaluate_resume_ranking_general(\n",
    "    sorted_resumes,\n",
    "    true_label_column=\"chosen\"\n",
    ")\n",
    "# Print the evaluation metrics\n",
    "print(\"Evaluation Results:\")\n",
    "for metric, value in evaluation_results.items():\n",
    "    print(f\"{metric}: {value}\")\n"
   ]
  },
  {
   "cell_type": "code",
   "execution_count": null,
   "id": "874d4dcc-b43a-4883-a110-cf2923608b15",
   "metadata": {},
   "outputs": [],
   "source": []
  },
  {
   "cell_type": "markdown",
   "id": "a2c0c380-303c-4ba0-83d2-9ba00128a644",
   "metadata": {},
   "source": [
    "Iam using the **KNeighborsClassifier** with Euclidean distance to rank the resumes based on their similarity to the job description. \n",
    "### 1. **KNeighborsClassifier and Euclidean Distance**:\n",
    "   - **KNeighborsClassifier** is used for classification tasks, and it finds the `k` nearest neighbors of a given point (in this case, the job description embedding) in a feature space (the resume embeddings).\n",
    "   - **Euclidean distance** is the metric used to measure the \"closeness\" or similarity between the job description and the resumes. The smaller the Euclidean distance, the more similar the resume is to the job description.\n",
    "   - The **Euclidean distance** between two points is calculated as the square root of the sum of the squared differences of their corresponding coordinates\n",
    "   - **Smaller Euclidean distances indicate that the resumes are more similar to the job description.**\n"
   ]
  },
  {
   "cell_type": "code",
   "execution_count": 34,
   "id": "136aa16f-03e9-4438-8a98-01782d733d59",
   "metadata": {},
   "outputs": [
    {
     "data": {
      "text/html": [
       "<div>\n",
       "<style scoped>\n",
       "    .dataframe tbody tr th:only-of-type {\n",
       "        vertical-align: middle;\n",
       "    }\n",
       "\n",
       "    .dataframe tbody tr th {\n",
       "        vertical-align: top;\n",
       "    }\n",
       "\n",
       "    .dataframe thead th {\n",
       "        text-align: right;\n",
       "    }\n",
       "</style>\n",
       "<table border=\"1\" class=\"dataframe\">\n",
       "  <thead>\n",
       "    <tr style=\"text-align: right;\">\n",
       "      <th></th>\n",
       "      <th>Category</th>\n",
       "      <th>Resume</th>\n",
       "      <th>chosen</th>\n",
       "      <th>cleaned_resume</th>\n",
       "      <th>euclidean_distance</th>\n",
       "    </tr>\n",
       "  </thead>\n",
       "  <tbody>\n",
       "    <tr>\n",
       "      <th>8</th>\n",
       "      <td>Data Science</td>\n",
       "      <td>Personal Skills â¢ Ability to quickly grasp t...</td>\n",
       "      <td>1</td>\n",
       "      <td>personal skills ability quickly grasp technica...</td>\n",
       "      <td>0.771770</td>\n",
       "    </tr>\n",
       "    <tr>\n",
       "      <th>7</th>\n",
       "      <td>Data Science</td>\n",
       "      <td>Education Details \\n B.Tech   Rayat and Bahra ...</td>\n",
       "      <td>1</td>\n",
       "      <td>education details btech rayat bahra institute ...</td>\n",
       "      <td>0.774166</td>\n",
       "    </tr>\n",
       "    <tr>\n",
       "      <th>0</th>\n",
       "      <td>Data Science</td>\n",
       "      <td>Skills * Programming Languages: Python (pandas...</td>\n",
       "      <td>1</td>\n",
       "      <td>skills programming languages python pandas num...</td>\n",
       "      <td>0.782548</td>\n",
       "    </tr>\n",
       "    <tr>\n",
       "      <th>9</th>\n",
       "      <td>Data Science</td>\n",
       "      <td>Expertise â Data and Quantitative Analysis â...</td>\n",
       "      <td>1</td>\n",
       "      <td>expertise data quantitative analysis decision ...</td>\n",
       "      <td>0.797826</td>\n",
       "    </tr>\n",
       "    <tr>\n",
       "      <th>6</th>\n",
       "      <td>Data Science</td>\n",
       "      <td>Skills â¢ Python â¢ Tableau â¢ Data Visuali...</td>\n",
       "      <td>0</td>\n",
       "      <td>skills python tableau data visualization r stu...</td>\n",
       "      <td>0.813835</td>\n",
       "    </tr>\n",
       "    <tr>\n",
       "      <th>1</th>\n",
       "      <td>Data Science</td>\n",
       "      <td>Education Details \\nMay 2013 to May 2017 B.E  ...</td>\n",
       "      <td>0</td>\n",
       "      <td>education details may 2013 may 2017 uit-rgpvda...</td>\n",
       "      <td>0.884175</td>\n",
       "    </tr>\n",
       "    <tr>\n",
       "      <th>10</th>\n",
       "      <td>HR</td>\n",
       "      <td>\\n HR CONSULTANT       Summary       Subject m...</td>\n",
       "      <td>0</td>\n",
       "      <td>hr consultant summary subject matter expert hr...</td>\n",
       "      <td>0.889551</td>\n",
       "    </tr>\n",
       "    <tr>\n",
       "      <th>2</th>\n",
       "      <td>Data Science</td>\n",
       "      <td>Areas of Interest Deep Learning, Control Syste...</td>\n",
       "      <td>0</td>\n",
       "      <td>areas interest deep learning control system de...</td>\n",
       "      <td>0.892342</td>\n",
       "    </tr>\n",
       "    <tr>\n",
       "      <th>3</th>\n",
       "      <td>Data Science</td>\n",
       "      <td>Skills â¢ R â¢ Python â¢ SAP HANA â¢ Table...</td>\n",
       "      <td>0</td>\n",
       "      <td>skills r python sap hana tableau sap hana sql ...</td>\n",
       "      <td>0.950595</td>\n",
       "    </tr>\n",
       "    <tr>\n",
       "      <th>5</th>\n",
       "      <td>Data Science</td>\n",
       "      <td>SKILLS C Basics, IOT, Python, MATLAB, Data Sci...</td>\n",
       "      <td>0</td>\n",
       "      <td>skills c basics iot python matlab data science...</td>\n",
       "      <td>0.964305</td>\n",
       "    </tr>\n",
       "    <tr>\n",
       "      <th>4</th>\n",
       "      <td>Data Science</td>\n",
       "      <td>Education Details \\n MCA   YMCAUST,  Faridabad...</td>\n",
       "      <td>0</td>\n",
       "      <td>education details mca ymcaust faridabad haryan...</td>\n",
       "      <td>inf</td>\n",
       "    </tr>\n",
       "  </tbody>\n",
       "</table>\n",
       "</div>"
      ],
      "text/plain": [
       "        Category                                             Resume  chosen  \\\n",
       "8   Data Science  Personal Skills â¢ Ability to quickly grasp t...       1   \n",
       "7   Data Science  Education Details \\n B.Tech   Rayat and Bahra ...       1   \n",
       "0   Data Science  Skills * Programming Languages: Python (pandas...       1   \n",
       "9   Data Science  Expertise â Data and Quantitative Analysis â...       1   \n",
       "6   Data Science  Skills â¢ Python â¢ Tableau â¢ Data Visuali...       0   \n",
       "1   Data Science  Education Details \\nMay 2013 to May 2017 B.E  ...       0   \n",
       "10            HR  \\n HR CONSULTANT       Summary       Subject m...       0   \n",
       "2   Data Science  Areas of Interest Deep Learning, Control Syste...       0   \n",
       "3   Data Science  Skills â¢ R â¢ Python â¢ SAP HANA â¢ Table...       0   \n",
       "5   Data Science  SKILLS C Basics, IOT, Python, MATLAB, Data Sci...       0   \n",
       "4   Data Science  Education Details \\n MCA   YMCAUST,  Faridabad...       0   \n",
       "\n",
       "                                       cleaned_resume  euclidean_distance  \n",
       "8   personal skills ability quickly grasp technica...            0.771770  \n",
       "7   education details btech rayat bahra institute ...            0.774166  \n",
       "0   skills programming languages python pandas num...            0.782548  \n",
       "9   expertise data quantitative analysis decision ...            0.797826  \n",
       "6   skills python tableau data visualization r stu...            0.813835  \n",
       "1   education details may 2013 may 2017 uit-rgpvda...            0.884175  \n",
       "10  hr consultant summary subject matter expert hr...            0.889551  \n",
       "2   areas interest deep learning control system de...            0.892342  \n",
       "3   skills r python sap hana tableau sap hana sql ...            0.950595  \n",
       "5   skills c basics iot python matlab data science...            0.964305  \n",
       "4   education details mca ymcaust faridabad haryan...                 inf  "
      ]
     },
     "execution_count": 34,
     "metadata": {},
     "output_type": "execute_result"
    }
   ],
   "source": [
    "sorted_resumes"
   ]
  },
  {
   "cell_type": "code",
   "execution_count": null,
   "id": "6b7ac0a1-492c-4c34-a16e-db518723d473",
   "metadata": {},
   "outputs": [],
   "source": []
  },
  {
   "cell_type": "markdown",
   "id": "0cc659bc-6b83-4449-81e7-bf6ece885aa0",
   "metadata": {
    "jp-MarkdownHeadingCollapsed": true
   },
   "source": [
    "# try 14 knn metric='euclidean' lower text bert-base-nli-mean-tokens"
   ]
  },
  {
   "cell_type": "code",
   "execution_count": 35,
   "id": "b6018914-9976-4bcd-993b-ceff3b20b572",
   "metadata": {},
   "outputs": [],
   "source": [
    "Data_Science_data = pd.read_csv(\"Data_Science_data.csv\")"
   ]
  },
  {
   "cell_type": "code",
   "execution_count": 36,
   "id": "41a6f19f-6a76-4efa-be21-a2ac394ccf19",
   "metadata": {},
   "outputs": [],
   "source": [
    "# Text preprocessing function\n",
    "def preprocess_text(text):\n",
    "    # Convert to lowercase\n",
    "    text = text.lower()\n",
    "    # Remove special characters (but keep numbers) keep \n",
    "    text = re.sub(r'[^a-zA-Z0-9-@\\s]', '', text)\n",
    "    # Tokenize text\n",
    "    tokens = word_tokenize(text)\n",
    "    # Remove stopwords\n",
    "    stop_words = set(stopwords.words('english'))\n",
    "    filtered_tokens = [word for word in tokens if word not in stop_words]\n",
    "    return ' '.join(filtered_tokens)"
   ]
  },
  {
   "cell_type": "code",
   "execution_count": 37,
   "id": "1edd0f1d-82ed-43e9-b6fb-f9b6be6be488",
   "metadata": {},
   "outputs": [
    {
     "data": {
      "text/html": [
       "<div>\n",
       "<style scoped>\n",
       "    .dataframe tbody tr th:only-of-type {\n",
       "        vertical-align: middle;\n",
       "    }\n",
       "\n",
       "    .dataframe tbody tr th {\n",
       "        vertical-align: top;\n",
       "    }\n",
       "\n",
       "    .dataframe thead th {\n",
       "        text-align: right;\n",
       "    }\n",
       "</style>\n",
       "<table border=\"1\" class=\"dataframe\">\n",
       "  <thead>\n",
       "    <tr style=\"text-align: right;\">\n",
       "      <th></th>\n",
       "      <th>Category</th>\n",
       "      <th>Resume</th>\n",
       "      <th>chosen</th>\n",
       "      <th>cleaned_resume</th>\n",
       "    </tr>\n",
       "  </thead>\n",
       "  <tbody>\n",
       "    <tr>\n",
       "      <th>0</th>\n",
       "      <td>Data Science</td>\n",
       "      <td>Skills * Programming Languages: Python (pandas...</td>\n",
       "      <td>1</td>\n",
       "      <td>skills programming languages python pandas num...</td>\n",
       "    </tr>\n",
       "    <tr>\n",
       "      <th>1</th>\n",
       "      <td>Data Science</td>\n",
       "      <td>Education Details \\nMay 2013 to May 2017 B.E  ...</td>\n",
       "      <td>0</td>\n",
       "      <td>education details may 2013 may 2017 uit-rgpvda...</td>\n",
       "    </tr>\n",
       "    <tr>\n",
       "      <th>2</th>\n",
       "      <td>Data Science</td>\n",
       "      <td>Areas of Interest Deep Learning, Control Syste...</td>\n",
       "      <td>0</td>\n",
       "      <td>areas interest deep learning control system de...</td>\n",
       "    </tr>\n",
       "    <tr>\n",
       "      <th>3</th>\n",
       "      <td>Data Science</td>\n",
       "      <td>Skills â¢ R â¢ Python â¢ SAP HANA â¢ Table...</td>\n",
       "      <td>0</td>\n",
       "      <td>skills r python sap hana tableau sap hana sql ...</td>\n",
       "    </tr>\n",
       "    <tr>\n",
       "      <th>4</th>\n",
       "      <td>Data Science</td>\n",
       "      <td>Education Details \\n MCA   YMCAUST,  Faridabad...</td>\n",
       "      <td>0</td>\n",
       "      <td>education details mca ymcaust faridabad haryan...</td>\n",
       "    </tr>\n",
       "    <tr>\n",
       "      <th>5</th>\n",
       "      <td>Data Science</td>\n",
       "      <td>SKILLS C Basics, IOT, Python, MATLAB, Data Sci...</td>\n",
       "      <td>0</td>\n",
       "      <td>skills c basics iot python matlab data science...</td>\n",
       "    </tr>\n",
       "    <tr>\n",
       "      <th>6</th>\n",
       "      <td>Data Science</td>\n",
       "      <td>Skills â¢ Python â¢ Tableau â¢ Data Visuali...</td>\n",
       "      <td>0</td>\n",
       "      <td>skills python tableau data visualization r stu...</td>\n",
       "    </tr>\n",
       "    <tr>\n",
       "      <th>7</th>\n",
       "      <td>Data Science</td>\n",
       "      <td>Education Details \\n B.Tech   Rayat and Bahra ...</td>\n",
       "      <td>1</td>\n",
       "      <td>education details btech rayat bahra institute ...</td>\n",
       "    </tr>\n",
       "    <tr>\n",
       "      <th>8</th>\n",
       "      <td>Data Science</td>\n",
       "      <td>Personal Skills â¢ Ability to quickly grasp t...</td>\n",
       "      <td>1</td>\n",
       "      <td>personal skills ability quickly grasp technica...</td>\n",
       "    </tr>\n",
       "    <tr>\n",
       "      <th>9</th>\n",
       "      <td>Data Science</td>\n",
       "      <td>Expertise â Data and Quantitative Analysis â...</td>\n",
       "      <td>1</td>\n",
       "      <td>expertise data quantitative analysis decision ...</td>\n",
       "    </tr>\n",
       "    <tr>\n",
       "      <th>10</th>\n",
       "      <td>HR</td>\n",
       "      <td>\\n HR CONSULTANT       Summary       Subject m...</td>\n",
       "      <td>0</td>\n",
       "      <td>hr consultant summary subject matter expert hr...</td>\n",
       "    </tr>\n",
       "  </tbody>\n",
       "</table>\n",
       "</div>"
      ],
      "text/plain": [
       "        Category                                             Resume  chosen  \\\n",
       "0   Data Science  Skills * Programming Languages: Python (pandas...       1   \n",
       "1   Data Science  Education Details \\nMay 2013 to May 2017 B.E  ...       0   \n",
       "2   Data Science  Areas of Interest Deep Learning, Control Syste...       0   \n",
       "3   Data Science  Skills â¢ R â¢ Python â¢ SAP HANA â¢ Table...       0   \n",
       "4   Data Science  Education Details \\n MCA   YMCAUST,  Faridabad...       0   \n",
       "5   Data Science  SKILLS C Basics, IOT, Python, MATLAB, Data Sci...       0   \n",
       "6   Data Science  Skills â¢ Python â¢ Tableau â¢ Data Visuali...       0   \n",
       "7   Data Science  Education Details \\n B.Tech   Rayat and Bahra ...       1   \n",
       "8   Data Science  Personal Skills â¢ Ability to quickly grasp t...       1   \n",
       "9   Data Science  Expertise â Data and Quantitative Analysis â...       1   \n",
       "10            HR  \\n HR CONSULTANT       Summary       Subject m...       0   \n",
       "\n",
       "                                       cleaned_resume  \n",
       "0   skills programming languages python pandas num...  \n",
       "1   education details may 2013 may 2017 uit-rgpvda...  \n",
       "2   areas interest deep learning control system de...  \n",
       "3   skills r python sap hana tableau sap hana sql ...  \n",
       "4   education details mca ymcaust faridabad haryan...  \n",
       "5   skills c basics iot python matlab data science...  \n",
       "6   skills python tableau data visualization r stu...  \n",
       "7   education details btech rayat bahra institute ...  \n",
       "8   personal skills ability quickly grasp technica...  \n",
       "9   expertise data quantitative analysis decision ...  \n",
       "10  hr consultant summary subject matter expert hr...  "
      ]
     },
     "execution_count": 37,
     "metadata": {},
     "output_type": "execute_result"
    }
   ],
   "source": [
    "Data_Science_data['cleaned_resume'] = Data_Science_data['Resume'].apply(preprocess_text)\n",
    "Data_Science_data"
   ]
  },
  {
   "cell_type": "code",
   "execution_count": 38,
   "id": "4ea7d1ce-210f-402c-aabb-95ac4fe0500e",
   "metadata": {},
   "outputs": [
    {
     "data": {
      "application/vnd.jupyter.widget-view+json": {
       "model_id": "8a8421c01eb54018a07f2c384ed8d291",
       "version_major": 2,
       "version_minor": 0
      },
      "text/plain": [
       "Batches:   0%|          | 0/1 [00:00<?, ?it/s]"
      ]
     },
     "metadata": {},
     "output_type": "display_data"
    }
   ],
   "source": [
    "# Load the pre-trained BERT model\n",
    "model = SentenceTransformer('bert-base-nli-mean-tokens')\n",
    "# Generate BERT embeddings for resumes\n",
    "resume_embeddings = model.encode(Data_Science_data['cleaned_resume'].tolist(), show_progress_bar=True)\n",
    "\n",
    "# Convert embeddings to a NumPy array (for efficient computation)\n",
    "resume_embeddings = np.array(resume_embeddings)\n",
    "# Preprocess the job description\n",
    "cleaned_job_desc = preprocess_text(job_description)\n",
    "\n",
    "# Generate BERT embedding for the job description\n",
    "job_desc_embedding = model.encode([cleaned_job_desc])"
   ]
  },
  {
   "cell_type": "code",
   "execution_count": 39,
   "id": "0fb7675b-b98d-42fd-a791-b53f87228da8",
   "metadata": {},
   "outputs": [
    {
     "name": "stdout",
     "output_type": "stream",
     "text": [
      "Evaluation Results:\n",
      "precision: 0.5\n",
      "recall: 0.5\n",
      "ordering_accuracy: 0\n",
      "true_chosen_indices: [8, 9, 0, 7]\n",
      "predicted_top_indices: [6, 10, 8, 9]\n",
      "TP_count: 2\n",
      "FP_count: 2\n",
      "FN_count: 2\n",
      "TN_count: 5\n",
      "TP: {8, 9}\n",
      "FP: {10, 6}\n",
      "FN: {0, 7}\n",
      "TN: {1, 2, 3, 4, 5}\n"
     ]
    }
   ],
   "source": [
    "# Perform KNN search\n",
    "knn = NearestNeighbors(n_neighbors=10, metric='euclidean')  # Using cosine similarity\n",
    "knn.fit(resume_embeddings)\n",
    "\n",
    "# Find the top nearest resumes to the job description\n",
    "distances, indices = knn.kneighbors(job_desc_embedding)\n",
    "\n",
    "# Update the original DataFrame with distances\n",
    "Data_Science_data[\"euclidean_distance\"] = float('inf')  # Initialize with a high value for all rows\n",
    "for idx, dist in zip(indices[0], distances[0]):\n",
    "    Data_Science_data.loc[idx, \"euclidean_distance\"] = dist  # Assign distances to the correct indices\n",
    "\n",
    "# Sort the DataFrame by the new 'knn_distance' column\n",
    "sorted_resumes = Data_Science_data.sort_values(by=\"euclidean_distance\", ascending=True)\n",
    "\n",
    "# Evaluate the ranking\n",
    "evaluation_results = evaluate_resume_ranking_general(\n",
    "    sorted_resumes,\n",
    "    true_label_column=\"chosen\"\n",
    ")\n",
    "# Print the evaluation metrics\n",
    "print(\"Evaluation Results:\")\n",
    "for metric, value in evaluation_results.items():\n",
    "    print(f\"{metric}: {value}\")\n"
   ]
  },
  {
   "cell_type": "code",
   "execution_count": 40,
   "id": "fbb2877e-c5e1-44f3-a435-6e14b1010ddf",
   "metadata": {},
   "outputs": [
    {
     "data": {
      "text/html": [
       "<div>\n",
       "<style scoped>\n",
       "    .dataframe tbody tr th:only-of-type {\n",
       "        vertical-align: middle;\n",
       "    }\n",
       "\n",
       "    .dataframe tbody tr th {\n",
       "        vertical-align: top;\n",
       "    }\n",
       "\n",
       "    .dataframe thead th {\n",
       "        text-align: right;\n",
       "    }\n",
       "</style>\n",
       "<table border=\"1\" class=\"dataframe\">\n",
       "  <thead>\n",
       "    <tr style=\"text-align: right;\">\n",
       "      <th></th>\n",
       "      <th>Category</th>\n",
       "      <th>Resume</th>\n",
       "      <th>chosen</th>\n",
       "      <th>cleaned_resume</th>\n",
       "      <th>euclidean_distance</th>\n",
       "    </tr>\n",
       "  </thead>\n",
       "  <tbody>\n",
       "    <tr>\n",
       "      <th>6</th>\n",
       "      <td>Data Science</td>\n",
       "      <td>Skills â¢ Python â¢ Tableau â¢ Data Visuali...</td>\n",
       "      <td>0</td>\n",
       "      <td>skills python tableau data visualization r stu...</td>\n",
       "      <td>9.792444</td>\n",
       "    </tr>\n",
       "    <tr>\n",
       "      <th>10</th>\n",
       "      <td>HR</td>\n",
       "      <td>\\n HR CONSULTANT       Summary       Subject m...</td>\n",
       "      <td>0</td>\n",
       "      <td>hr consultant summary subject matter expert hr...</td>\n",
       "      <td>10.760959</td>\n",
       "    </tr>\n",
       "    <tr>\n",
       "      <th>8</th>\n",
       "      <td>Data Science</td>\n",
       "      <td>Personal Skills â¢ Ability to quickly grasp t...</td>\n",
       "      <td>1</td>\n",
       "      <td>personal skills ability quickly grasp technica...</td>\n",
       "      <td>11.281734</td>\n",
       "    </tr>\n",
       "    <tr>\n",
       "      <th>9</th>\n",
       "      <td>Data Science</td>\n",
       "      <td>Expertise â Data and Quantitative Analysis â...</td>\n",
       "      <td>1</td>\n",
       "      <td>expertise data quantitative analysis decision ...</td>\n",
       "      <td>12.131325</td>\n",
       "    </tr>\n",
       "    <tr>\n",
       "      <th>3</th>\n",
       "      <td>Data Science</td>\n",
       "      <td>Skills â¢ R â¢ Python â¢ SAP HANA â¢ Table...</td>\n",
       "      <td>0</td>\n",
       "      <td>skills r python sap hana tableau sap hana sql ...</td>\n",
       "      <td>12.859522</td>\n",
       "    </tr>\n",
       "    <tr>\n",
       "      <th>5</th>\n",
       "      <td>Data Science</td>\n",
       "      <td>SKILLS C Basics, IOT, Python, MATLAB, Data Sci...</td>\n",
       "      <td>0</td>\n",
       "      <td>skills c basics iot python matlab data science...</td>\n",
       "      <td>13.394272</td>\n",
       "    </tr>\n",
       "    <tr>\n",
       "      <th>2</th>\n",
       "      <td>Data Science</td>\n",
       "      <td>Areas of Interest Deep Learning, Control Syste...</td>\n",
       "      <td>0</td>\n",
       "      <td>areas interest deep learning control system de...</td>\n",
       "      <td>13.816492</td>\n",
       "    </tr>\n",
       "    <tr>\n",
       "      <th>0</th>\n",
       "      <td>Data Science</td>\n",
       "      <td>Skills * Programming Languages: Python (pandas...</td>\n",
       "      <td>1</td>\n",
       "      <td>skills programming languages python pandas num...</td>\n",
       "      <td>13.831991</td>\n",
       "    </tr>\n",
       "    <tr>\n",
       "      <th>1</th>\n",
       "      <td>Data Science</td>\n",
       "      <td>Education Details \\nMay 2013 to May 2017 B.E  ...</td>\n",
       "      <td>0</td>\n",
       "      <td>education details may 2013 may 2017 uit-rgpvda...</td>\n",
       "      <td>15.309902</td>\n",
       "    </tr>\n",
       "    <tr>\n",
       "      <th>7</th>\n",
       "      <td>Data Science</td>\n",
       "      <td>Education Details \\n B.Tech   Rayat and Bahra ...</td>\n",
       "      <td>1</td>\n",
       "      <td>education details btech rayat bahra institute ...</td>\n",
       "      <td>16.249722</td>\n",
       "    </tr>\n",
       "    <tr>\n",
       "      <th>4</th>\n",
       "      <td>Data Science</td>\n",
       "      <td>Education Details \\n MCA   YMCAUST,  Faridabad...</td>\n",
       "      <td>0</td>\n",
       "      <td>education details mca ymcaust faridabad haryan...</td>\n",
       "      <td>inf</td>\n",
       "    </tr>\n",
       "  </tbody>\n",
       "</table>\n",
       "</div>"
      ],
      "text/plain": [
       "        Category                                             Resume  chosen  \\\n",
       "6   Data Science  Skills â¢ Python â¢ Tableau â¢ Data Visuali...       0   \n",
       "10            HR  \\n HR CONSULTANT       Summary       Subject m...       0   \n",
       "8   Data Science  Personal Skills â¢ Ability to quickly grasp t...       1   \n",
       "9   Data Science  Expertise â Data and Quantitative Analysis â...       1   \n",
       "3   Data Science  Skills â¢ R â¢ Python â¢ SAP HANA â¢ Table...       0   \n",
       "5   Data Science  SKILLS C Basics, IOT, Python, MATLAB, Data Sci...       0   \n",
       "2   Data Science  Areas of Interest Deep Learning, Control Syste...       0   \n",
       "0   Data Science  Skills * Programming Languages: Python (pandas...       1   \n",
       "1   Data Science  Education Details \\nMay 2013 to May 2017 B.E  ...       0   \n",
       "7   Data Science  Education Details \\n B.Tech   Rayat and Bahra ...       1   \n",
       "4   Data Science  Education Details \\n MCA   YMCAUST,  Faridabad...       0   \n",
       "\n",
       "                                       cleaned_resume  euclidean_distance  \n",
       "6   skills python tableau data visualization r stu...            9.792444  \n",
       "10  hr consultant summary subject matter expert hr...           10.760959  \n",
       "8   personal skills ability quickly grasp technica...           11.281734  \n",
       "9   expertise data quantitative analysis decision ...           12.131325  \n",
       "3   skills r python sap hana tableau sap hana sql ...           12.859522  \n",
       "5   skills c basics iot python matlab data science...           13.394272  \n",
       "2   areas interest deep learning control system de...           13.816492  \n",
       "0   skills programming languages python pandas num...           13.831991  \n",
       "1   education details may 2013 may 2017 uit-rgpvda...           15.309902  \n",
       "7   education details btech rayat bahra institute ...           16.249722  \n",
       "4   education details mca ymcaust faridabad haryan...                 inf  "
      ]
     },
     "execution_count": 40,
     "metadata": {},
     "output_type": "execute_result"
    }
   ],
   "source": [
    "sorted_resumes"
   ]
  },
  {
   "cell_type": "code",
   "execution_count": null,
   "id": "4c33db8f-871b-4b84-889d-666d339151e8",
   "metadata": {},
   "outputs": [],
   "source": []
  },
  {
   "cell_type": "markdown",
   "id": "10f33181-966a-4275-a744-89442102cae9",
   "metadata": {
    "jp-MarkdownHeadingCollapsed": true
   },
   "source": [
    "# try 15 knn metric='cosin' lower text wih lemmatizer"
   ]
  },
  {
   "cell_type": "code",
   "execution_count": 41,
   "id": "7e54e8d4-9f20-42ea-bd19-7c81c1eaea88",
   "metadata": {},
   "outputs": [],
   "source": [
    "Data_Science_data = pd.read_csv(\"Data_Science_data.csv\")"
   ]
  },
  {
   "cell_type": "code",
   "execution_count": 43,
   "id": "14f65853-abfa-4a10-b345-092b5bd84c26",
   "metadata": {},
   "outputs": [],
   "source": [
    "# Text preprocessing function\n",
    "def preprocess_text(text):\n",
    "    # Convert to lowercase\n",
    "    text = text.lower()\n",
    "    \n",
    "    # Remove special characters (but keep numbers and certain symbols like - and @)\n",
    "    text = re.sub(r'[^a-zA-Z0-9-@\\s]', '', text)\n",
    "    \n",
    "    # Tokenize text\n",
    "    tokens = word_tokenize(text)\n",
    "    \n",
    "    # Remove stopwords\n",
    "    stop_words = set(stopwords.words('english'))\n",
    "    filtered_tokens = [word for word in tokens if word not in stop_words]\n",
    "    \n",
    "    # Perform lemmatization \n",
    "    lemmatizer = WordNetLemmatizer()\n",
    "    lemmatized_tokens = [lemmatizer.lemmatize(word) for word in filtered_tokens]\n",
    "    \n",
    "    # Remove short tokens \n",
    "    cleaned_tokens = [word for word in lemmatized_tokens if len(word) > 1]\n",
    "    \n",
    "    return ' '.join(cleaned_tokens)\n"
   ]
  },
  {
   "cell_type": "code",
   "execution_count": 44,
   "id": "d19da55e-4de7-414e-9d1d-bd38ff65b2b2",
   "metadata": {},
   "outputs": [
    {
     "data": {
      "text/html": [
       "<div>\n",
       "<style scoped>\n",
       "    .dataframe tbody tr th:only-of-type {\n",
       "        vertical-align: middle;\n",
       "    }\n",
       "\n",
       "    .dataframe tbody tr th {\n",
       "        vertical-align: top;\n",
       "    }\n",
       "\n",
       "    .dataframe thead th {\n",
       "        text-align: right;\n",
       "    }\n",
       "</style>\n",
       "<table border=\"1\" class=\"dataframe\">\n",
       "  <thead>\n",
       "    <tr style=\"text-align: right;\">\n",
       "      <th></th>\n",
       "      <th>Category</th>\n",
       "      <th>Resume</th>\n",
       "      <th>chosen</th>\n",
       "      <th>cleaned_resume</th>\n",
       "    </tr>\n",
       "  </thead>\n",
       "  <tbody>\n",
       "    <tr>\n",
       "      <th>0</th>\n",
       "      <td>Data Science</td>\n",
       "      <td>Skills * Programming Languages: Python (pandas...</td>\n",
       "      <td>1</td>\n",
       "      <td>skill programming language python panda numpy ...</td>\n",
       "    </tr>\n",
       "    <tr>\n",
       "      <th>1</th>\n",
       "      <td>Data Science</td>\n",
       "      <td>Education Details \\nMay 2013 to May 2017 B.E  ...</td>\n",
       "      <td>0</td>\n",
       "      <td>education detail may 2013 may 2017 uit-rgpvdat...</td>\n",
       "    </tr>\n",
       "    <tr>\n",
       "      <th>2</th>\n",
       "      <td>Data Science</td>\n",
       "      <td>Areas of Interest Deep Learning, Control Syste...</td>\n",
       "      <td>0</td>\n",
       "      <td>area interest deep learning control system des...</td>\n",
       "    </tr>\n",
       "    <tr>\n",
       "      <th>3</th>\n",
       "      <td>Data Science</td>\n",
       "      <td>Skills â¢ R â¢ Python â¢ SAP HANA â¢ Table...</td>\n",
       "      <td>0</td>\n",
       "      <td>skill python sap hana tableau sap hana sql sap...</td>\n",
       "    </tr>\n",
       "    <tr>\n",
       "      <th>4</th>\n",
       "      <td>Data Science</td>\n",
       "      <td>Education Details \\n MCA   YMCAUST,  Faridabad...</td>\n",
       "      <td>0</td>\n",
       "      <td>education detail mca ymcaust faridabad haryana...</td>\n",
       "    </tr>\n",
       "    <tr>\n",
       "      <th>5</th>\n",
       "      <td>Data Science</td>\n",
       "      <td>SKILLS C Basics, IOT, Python, MATLAB, Data Sci...</td>\n",
       "      <td>0</td>\n",
       "      <td>skill basic iot python matlab data science mac...</td>\n",
       "    </tr>\n",
       "    <tr>\n",
       "      <th>6</th>\n",
       "      <td>Data Science</td>\n",
       "      <td>Skills â¢ Python â¢ Tableau â¢ Data Visuali...</td>\n",
       "      <td>0</td>\n",
       "      <td>skill python tableau data visualization studio...</td>\n",
       "    </tr>\n",
       "    <tr>\n",
       "      <th>7</th>\n",
       "      <td>Data Science</td>\n",
       "      <td>Education Details \\n B.Tech   Rayat and Bahra ...</td>\n",
       "      <td>1</td>\n",
       "      <td>education detail btech rayat bahra institute e...</td>\n",
       "    </tr>\n",
       "    <tr>\n",
       "      <th>8</th>\n",
       "      <td>Data Science</td>\n",
       "      <td>Personal Skills â¢ Ability to quickly grasp t...</td>\n",
       "      <td>1</td>\n",
       "      <td>personal skill ability quickly grasp technical...</td>\n",
       "    </tr>\n",
       "    <tr>\n",
       "      <th>9</th>\n",
       "      <td>Data Science</td>\n",
       "      <td>Expertise â Data and Quantitative Analysis â...</td>\n",
       "      <td>1</td>\n",
       "      <td>expertise data quantitative analysis decision ...</td>\n",
       "    </tr>\n",
       "    <tr>\n",
       "      <th>10</th>\n",
       "      <td>HR</td>\n",
       "      <td>\\n HR CONSULTANT       Summary       Subject m...</td>\n",
       "      <td>0</td>\n",
       "      <td>hr consultant summary subject matter expert hr...</td>\n",
       "    </tr>\n",
       "  </tbody>\n",
       "</table>\n",
       "</div>"
      ],
      "text/plain": [
       "        Category                                             Resume  chosen  \\\n",
       "0   Data Science  Skills * Programming Languages: Python (pandas...       1   \n",
       "1   Data Science  Education Details \\nMay 2013 to May 2017 B.E  ...       0   \n",
       "2   Data Science  Areas of Interest Deep Learning, Control Syste...       0   \n",
       "3   Data Science  Skills â¢ R â¢ Python â¢ SAP HANA â¢ Table...       0   \n",
       "4   Data Science  Education Details \\n MCA   YMCAUST,  Faridabad...       0   \n",
       "5   Data Science  SKILLS C Basics, IOT, Python, MATLAB, Data Sci...       0   \n",
       "6   Data Science  Skills â¢ Python â¢ Tableau â¢ Data Visuali...       0   \n",
       "7   Data Science  Education Details \\n B.Tech   Rayat and Bahra ...       1   \n",
       "8   Data Science  Personal Skills â¢ Ability to quickly grasp t...       1   \n",
       "9   Data Science  Expertise â Data and Quantitative Analysis â...       1   \n",
       "10            HR  \\n HR CONSULTANT       Summary       Subject m...       0   \n",
       "\n",
       "                                       cleaned_resume  \n",
       "0   skill programming language python panda numpy ...  \n",
       "1   education detail may 2013 may 2017 uit-rgpvdat...  \n",
       "2   area interest deep learning control system des...  \n",
       "3   skill python sap hana tableau sap hana sql sap...  \n",
       "4   education detail mca ymcaust faridabad haryana...  \n",
       "5   skill basic iot python matlab data science mac...  \n",
       "6   skill python tableau data visualization studio...  \n",
       "7   education detail btech rayat bahra institute e...  \n",
       "8   personal skill ability quickly grasp technical...  \n",
       "9   expertise data quantitative analysis decision ...  \n",
       "10  hr consultant summary subject matter expert hr...  "
      ]
     },
     "execution_count": 44,
     "metadata": {},
     "output_type": "execute_result"
    }
   ],
   "source": [
    "Data_Science_data['cleaned_resume'] = Data_Science_data['Resume'].apply(preprocess_text)\n",
    "Data_Science_data"
   ]
  },
  {
   "cell_type": "code",
   "execution_count": 46,
   "id": "13c1572c-538c-49e5-89aa-54c634d3069b",
   "metadata": {},
   "outputs": [
    {
     "data": {
      "application/vnd.jupyter.widget-view+json": {
       "model_id": "c0040300165e4ec89692750533a077f1",
       "version_major": 2,
       "version_minor": 0
      },
      "text/plain": [
       "Batches:   0%|          | 0/1 [00:00<?, ?it/s]"
      ]
     },
     "metadata": {},
     "output_type": "display_data"
    }
   ],
   "source": [
    "# Load the pre-trained BERT model\n",
    "model = SentenceTransformer('all-MiniLM-L6-v2')\n",
    "# Generate BERT embeddings for resumes\n",
    "resume_embeddings = model.encode(Data_Science_data['cleaned_resume'].tolist(), show_progress_bar=True)\n",
    "\n",
    "# Convert embeddings to a NumPy array (for efficient computation)\n",
    "resume_embeddings = np.array(resume_embeddings)\n",
    "# Preprocess the job description\n",
    "cleaned_job_desc = preprocess_text(job_description)\n",
    "\n",
    "# Generate BERT embedding for the job description\n",
    "job_desc_embedding = model.encode([cleaned_job_desc])"
   ]
  },
  {
   "cell_type": "code",
   "execution_count": 47,
   "id": "f1a6cc45-e6ce-463b-bc5a-1df3f1a94ede",
   "metadata": {},
   "outputs": [
    {
     "name": "stdout",
     "output_type": "stream",
     "text": [
      "Evaluation Results:\n",
      "precision: 0.75\n",
      "recall: 0.75\n",
      "ordering_accuracy: 0\n",
      "true_chosen_indices: [7, 8, 9, 0]\n",
      "predicted_top_indices: [7, 8, 9, 6]\n",
      "TP_count: 3\n",
      "FP_count: 1\n",
      "FN_count: 1\n",
      "TN_count: 6\n",
      "TP: {8, 9, 7}\n",
      "FP: {6}\n",
      "FN: {0}\n",
      "TN: {1, 2, 3, 4, 5, 10}\n"
     ]
    }
   ],
   "source": [
    "# Perform KNN search\n",
    "knn = NearestNeighbors(n_neighbors=10, metric='cosine')  # Using cosine similarity\n",
    "knn.fit(resume_embeddings)\n",
    "\n",
    "# Find the top nearest resumes to the job description\n",
    "distances, indices = knn.kneighbors(job_desc_embedding)\n",
    "\n",
    "# Update the original DataFrame with distances\n",
    "Data_Science_data[\"knn_distance\"] = float('inf')  # Initialize with a high value for all rows\n",
    "for idx, dist in zip(indices[0], distances[0]):\n",
    "    Data_Science_data.loc[idx, \"knn_distance\"] = dist  # Assign distances to the correct indices\n",
    "\n",
    "# Sort the DataFrame by the new 'knn_distance' column\n",
    "sorted_resumes = Data_Science_data.sort_values(by=\"knn_distance\", ascending=True)\n",
    "\n",
    "# Evaluate the ranking\n",
    "evaluation_results = evaluate_resume_ranking_general(\n",
    "    sorted_resumes,\n",
    "    true_label_column=\"chosen\"\n",
    ")\n",
    "# Print the evaluation metrics\n",
    "print(\"Evaluation Results:\")\n",
    "for metric, value in evaluation_results.items():\n",
    "    print(f\"{metric}: {value}\")"
   ]
  },
  {
   "cell_type": "code",
   "execution_count": 48,
   "id": "7f5ec5bc-b8cf-461c-97e2-d5360d841277",
   "metadata": {},
   "outputs": [
    {
     "data": {
      "text/html": [
       "<div>\n",
       "<style scoped>\n",
       "    .dataframe tbody tr th:only-of-type {\n",
       "        vertical-align: middle;\n",
       "    }\n",
       "\n",
       "    .dataframe tbody tr th {\n",
       "        vertical-align: top;\n",
       "    }\n",
       "\n",
       "    .dataframe thead th {\n",
       "        text-align: right;\n",
       "    }\n",
       "</style>\n",
       "<table border=\"1\" class=\"dataframe\">\n",
       "  <thead>\n",
       "    <tr style=\"text-align: right;\">\n",
       "      <th></th>\n",
       "      <th>Category</th>\n",
       "      <th>Resume</th>\n",
       "      <th>chosen</th>\n",
       "      <th>cleaned_resume</th>\n",
       "      <th>knn_distance</th>\n",
       "    </tr>\n",
       "  </thead>\n",
       "  <tbody>\n",
       "    <tr>\n",
       "      <th>7</th>\n",
       "      <td>Data Science</td>\n",
       "      <td>Education Details \\n B.Tech   Rayat and Bahra ...</td>\n",
       "      <td>1</td>\n",
       "      <td>education detail btech rayat bahra institute e...</td>\n",
       "      <td>0.275809</td>\n",
       "    </tr>\n",
       "    <tr>\n",
       "      <th>8</th>\n",
       "      <td>Data Science</td>\n",
       "      <td>Personal Skills â¢ Ability to quickly grasp t...</td>\n",
       "      <td>1</td>\n",
       "      <td>personal skill ability quickly grasp technical...</td>\n",
       "      <td>0.295288</td>\n",
       "    </tr>\n",
       "    <tr>\n",
       "      <th>9</th>\n",
       "      <td>Data Science</td>\n",
       "      <td>Expertise â Data and Quantitative Analysis â...</td>\n",
       "      <td>1</td>\n",
       "      <td>expertise data quantitative analysis decision ...</td>\n",
       "      <td>0.299158</td>\n",
       "    </tr>\n",
       "    <tr>\n",
       "      <th>6</th>\n",
       "      <td>Data Science</td>\n",
       "      <td>Skills â¢ Python â¢ Tableau â¢ Data Visuali...</td>\n",
       "      <td>0</td>\n",
       "      <td>skill python tableau data visualization studio...</td>\n",
       "      <td>0.300645</td>\n",
       "    </tr>\n",
       "    <tr>\n",
       "      <th>0</th>\n",
       "      <td>Data Science</td>\n",
       "      <td>Skills * Programming Languages: Python (pandas...</td>\n",
       "      <td>1</td>\n",
       "      <td>skill programming language python panda numpy ...</td>\n",
       "      <td>0.302103</td>\n",
       "    </tr>\n",
       "    <tr>\n",
       "      <th>2</th>\n",
       "      <td>Data Science</td>\n",
       "      <td>Areas of Interest Deep Learning, Control Syste...</td>\n",
       "      <td>0</td>\n",
       "      <td>area interest deep learning control system des...</td>\n",
       "      <td>0.367970</td>\n",
       "    </tr>\n",
       "    <tr>\n",
       "      <th>3</th>\n",
       "      <td>Data Science</td>\n",
       "      <td>Skills â¢ R â¢ Python â¢ SAP HANA â¢ Table...</td>\n",
       "      <td>0</td>\n",
       "      <td>skill python sap hana tableau sap hana sql sap...</td>\n",
       "      <td>0.378930</td>\n",
       "    </tr>\n",
       "    <tr>\n",
       "      <th>1</th>\n",
       "      <td>Data Science</td>\n",
       "      <td>Education Details \\nMay 2013 to May 2017 B.E  ...</td>\n",
       "      <td>0</td>\n",
       "      <td>education detail may 2013 may 2017 uit-rgpvdat...</td>\n",
       "      <td>0.400415</td>\n",
       "    </tr>\n",
       "    <tr>\n",
       "      <th>10</th>\n",
       "      <td>HR</td>\n",
       "      <td>\\n HR CONSULTANT       Summary       Subject m...</td>\n",
       "      <td>0</td>\n",
       "      <td>hr consultant summary subject matter expert hr...</td>\n",
       "      <td>0.405449</td>\n",
       "    </tr>\n",
       "    <tr>\n",
       "      <th>5</th>\n",
       "      <td>Data Science</td>\n",
       "      <td>SKILLS C Basics, IOT, Python, MATLAB, Data Sci...</td>\n",
       "      <td>0</td>\n",
       "      <td>skill basic iot python matlab data science mac...</td>\n",
       "      <td>0.444486</td>\n",
       "    </tr>\n",
       "    <tr>\n",
       "      <th>4</th>\n",
       "      <td>Data Science</td>\n",
       "      <td>Education Details \\n MCA   YMCAUST,  Faridabad...</td>\n",
       "      <td>0</td>\n",
       "      <td>education detail mca ymcaust faridabad haryana...</td>\n",
       "      <td>inf</td>\n",
       "    </tr>\n",
       "  </tbody>\n",
       "</table>\n",
       "</div>"
      ],
      "text/plain": [
       "        Category                                             Resume  chosen  \\\n",
       "7   Data Science  Education Details \\n B.Tech   Rayat and Bahra ...       1   \n",
       "8   Data Science  Personal Skills â¢ Ability to quickly grasp t...       1   \n",
       "9   Data Science  Expertise â Data and Quantitative Analysis â...       1   \n",
       "6   Data Science  Skills â¢ Python â¢ Tableau â¢ Data Visuali...       0   \n",
       "0   Data Science  Skills * Programming Languages: Python (pandas...       1   \n",
       "2   Data Science  Areas of Interest Deep Learning, Control Syste...       0   \n",
       "3   Data Science  Skills â¢ R â¢ Python â¢ SAP HANA â¢ Table...       0   \n",
       "1   Data Science  Education Details \\nMay 2013 to May 2017 B.E  ...       0   \n",
       "10            HR  \\n HR CONSULTANT       Summary       Subject m...       0   \n",
       "5   Data Science  SKILLS C Basics, IOT, Python, MATLAB, Data Sci...       0   \n",
       "4   Data Science  Education Details \\n MCA   YMCAUST,  Faridabad...       0   \n",
       "\n",
       "                                       cleaned_resume  knn_distance  \n",
       "7   education detail btech rayat bahra institute e...      0.275809  \n",
       "8   personal skill ability quickly grasp technical...      0.295288  \n",
       "9   expertise data quantitative analysis decision ...      0.299158  \n",
       "6   skill python tableau data visualization studio...      0.300645  \n",
       "0   skill programming language python panda numpy ...      0.302103  \n",
       "2   area interest deep learning control system des...      0.367970  \n",
       "3   skill python sap hana tableau sap hana sql sap...      0.378930  \n",
       "1   education detail may 2013 may 2017 uit-rgpvdat...      0.400415  \n",
       "10  hr consultant summary subject matter expert hr...      0.405449  \n",
       "5   skill basic iot python matlab data science mac...      0.444486  \n",
       "4   education detail mca ymcaust faridabad haryana...           inf  "
      ]
     },
     "execution_count": 48,
     "metadata": {},
     "output_type": "execute_result"
    }
   ],
   "source": [
    "sorted_resumes"
   ]
  },
  {
   "cell_type": "code",
   "execution_count": null,
   "id": "adae7517-b183-4022-bad2-de9950a62cdb",
   "metadata": {},
   "outputs": [],
   "source": []
  },
  {
   "cell_type": "markdown",
   "id": "ed7d47c8-a21f-41f7-bd95-b50687dd090d",
   "metadata": {},
   "source": [
    "# try 16"
   ]
  },
  {
   "cell_type": "code",
   "execution_count": null,
   "id": "320e93d4-4b0d-47ec-82b5-2d4cdd59f16d",
   "metadata": {},
   "outputs": [],
   "source": []
  }
 ],
 "metadata": {
  "kernelspec": {
   "display_name": "Python 3 (ipykernel)",
   "language": "python",
   "name": "python3"
  },
  "language_info": {
   "codemirror_mode": {
    "name": "ipython",
    "version": 3
   },
   "file_extension": ".py",
   "mimetype": "text/x-python",
   "name": "python",
   "nbconvert_exporter": "python",
   "pygments_lexer": "ipython3",
   "version": "3.9.6"
  }
 },
 "nbformat": 4,
 "nbformat_minor": 5
}
