{
 "cells": [
  {
   "cell_type": "code",
   "execution_count": 24,
   "id": "be604430-9daf-4184-a488-3bb701e55987",
   "metadata": {},
   "outputs": [
    {
     "name": "stderr",
     "output_type": "stream",
     "text": [
      "/Users/ramaalmrahleh/Library/Python/3.9/lib/python/site-packages/urllib3/__init__.py:35: NotOpenSSLWarning: urllib3 v2 only supports OpenSSL 1.1.1+, currently the 'ssl' module is compiled with 'LibreSSL 2.8.3'. See: https://github.com/urllib3/urllib3/issues/3020\n",
      "  warnings.warn(\n",
      "[nltk_data] Downloading package punkt to\n",
      "[nltk_data]     /Users/ramaalmrahleh/nltk_data...\n",
      "[nltk_data]   Package punkt is already up-to-date!\n",
      "[nltk_data] Downloading package stopwords to\n",
      "[nltk_data]     /Users/ramaalmrahleh/nltk_data...\n",
      "[nltk_data]   Package stopwords is already up-to-date!\n"
     ]
    },
    {
     "data": {
      "text/plain": [
       "True"
      ]
     },
     "execution_count": 24,
     "metadata": {},
     "output_type": "execute_result"
    }
   ],
   "source": [
    "import pandas as pd\n",
    "import matplotlib.pyplot as plt\n",
    "import seaborn as sns\n",
    "import numpy as np\n",
    "import re\n",
    "from nltk.corpus import stopwords\n",
    "from nltk.tokenize import word_tokenize\n",
    "from nltk.stem import PorterStemmer\n",
    "from nltk.stem import WordNetLemmatizer\n",
    "from transformers import BertTokenizer\n",
    "from sentence_transformers import SentenceTransformer\n",
    "from sklearn.metrics.pairwise import cosine_similarity\n",
    "from sklearn.metrics import precision_score, recall_score, f1_score, accuracy_score, confusion_matrix\n",
    "\n",
    "# Download stopwords \n",
    "import nltk\n",
    "nltk.download('punkt')\n",
    "nltk.download('stopwords')"
   ]
  },
  {
   "cell_type": "code",
   "execution_count": 3,
   "id": "b455a2e1-15a6-47b9-a40f-786c0e2a7668",
   "metadata": {},
   "outputs": [],
   "source": [
    "data = pd.read_csv(\"resume_dataset.csv\")"
   ]
  },
  {
   "cell_type": "code",
   "execution_count": 4,
   "id": "8a11aaad-4b54-4cee-8da2-d495a1f31156",
   "metadata": {},
   "outputs": [
    {
     "name": "stdout",
     "output_type": "stream",
     "text": [
      "Displaying the distinct categories of resume and the number of records belonging to each category -\n",
      "Category\n",
      "Java Developer               14\n",
      "Database                     11\n",
      "HR                           11\n",
      "Data Science                 10\n",
      "Advocate                     10\n",
      "DotNet Developer              7\n",
      "Hadoop                        7\n",
      "DevOps Engineer               7\n",
      "Automation Testing            7\n",
      "Testing                       7\n",
      "Civil Engineer                6\n",
      "Business Analyst              6\n",
      "SAP Developer                 6\n",
      "Health and fitness            6\n",
      "Python Developer              6\n",
      "Arts                          6\n",
      "Electrical Engineering        5\n",
      "Sales                         5\n",
      "Network Security Engineer     5\n",
      "Mechanical Engineer           5\n",
      "Web Designing                 5\n",
      "ETL Developer                 5\n",
      "Blockchain                    5\n",
      "Operations Manager            4\n",
      "PMO                           3\n",
      "Name: count, dtype: int64\n"
     ]
    }
   ],
   "source": [
    "print (\"Displaying the distinct categories of resume and the number of records belonging to each category -\")\n",
    "print (data['Category'].value_counts())"
   ]
  },
  {
   "cell_type": "code",
   "execution_count": 5,
   "id": "d19ab842-5ed4-48db-b469-486f78825d5d",
   "metadata": {},
   "outputs": [
    {
     "name": "stdout",
     "output_type": "stream",
     "text": [
      "Number of resumes in HR category: 10\n"
     ]
    }
   ],
   "source": [
    "# Filter data for the \"HR\" category\n",
    "Data_Science_data = data[data['Category'] == 'Data Science']\n",
    "print(f\"Number of resumes in HR category: {Data_Science_data.shape[0]}\")"
   ]
  },
  {
   "cell_type": "code",
   "execution_count": 6,
   "id": "89666c0e-ac5d-47f5-a84c-59eb683d62c9",
   "metadata": {},
   "outputs": [
    {
     "data": {
      "text/html": [
       "<div>\n",
       "<style scoped>\n",
       "    .dataframe tbody tr th:only-of-type {\n",
       "        vertical-align: middle;\n",
       "    }\n",
       "\n",
       "    .dataframe tbody tr th {\n",
       "        vertical-align: top;\n",
       "    }\n",
       "\n",
       "    .dataframe thead th {\n",
       "        text-align: right;\n",
       "    }\n",
       "</style>\n",
       "<table border=\"1\" class=\"dataframe\">\n",
       "  <thead>\n",
       "    <tr style=\"text-align: right;\">\n",
       "      <th></th>\n",
       "      <th>Category</th>\n",
       "      <th>Resume</th>\n",
       "    </tr>\n",
       "  </thead>\n",
       "  <tbody>\n",
       "    <tr>\n",
       "      <th>0</th>\n",
       "      <td>Data Science</td>\n",
       "      <td>Skills * Programming Languages: Python (pandas...</td>\n",
       "    </tr>\n",
       "    <tr>\n",
       "      <th>1</th>\n",
       "      <td>Data Science</td>\n",
       "      <td>Education Details \\nMay 2013 to May 2017 B.E  ...</td>\n",
       "    </tr>\n",
       "    <tr>\n",
       "      <th>2</th>\n",
       "      <td>Data Science</td>\n",
       "      <td>Areas of Interest Deep Learning, Control Syste...</td>\n",
       "    </tr>\n",
       "    <tr>\n",
       "      <th>3</th>\n",
       "      <td>Data Science</td>\n",
       "      <td>Skills â¢ R â¢ Python â¢ SAP HANA â¢ Table...</td>\n",
       "    </tr>\n",
       "    <tr>\n",
       "      <th>4</th>\n",
       "      <td>Data Science</td>\n",
       "      <td>Education Details \\n MCA   YMCAUST,  Faridabad...</td>\n",
       "    </tr>\n",
       "    <tr>\n",
       "      <th>5</th>\n",
       "      <td>Data Science</td>\n",
       "      <td>SKILLS C Basics, IOT, Python, MATLAB, Data Sci...</td>\n",
       "    </tr>\n",
       "    <tr>\n",
       "      <th>6</th>\n",
       "      <td>Data Science</td>\n",
       "      <td>Skills â¢ Python â¢ Tableau â¢ Data Visuali...</td>\n",
       "    </tr>\n",
       "    <tr>\n",
       "      <th>7</th>\n",
       "      <td>Data Science</td>\n",
       "      <td>Education Details \\n B.Tech   Rayat and Bahra ...</td>\n",
       "    </tr>\n",
       "    <tr>\n",
       "      <th>8</th>\n",
       "      <td>Data Science</td>\n",
       "      <td>Personal Skills â¢ Ability to quickly grasp t...</td>\n",
       "    </tr>\n",
       "    <tr>\n",
       "      <th>9</th>\n",
       "      <td>Data Science</td>\n",
       "      <td>Expertise â Data and Quantitative Analysis â...</td>\n",
       "    </tr>\n",
       "  </tbody>\n",
       "</table>\n",
       "</div>"
      ],
      "text/plain": [
       "       Category                                             Resume\n",
       "0  Data Science  Skills * Programming Languages: Python (pandas...\n",
       "1  Data Science  Education Details \\nMay 2013 to May 2017 B.E  ...\n",
       "2  Data Science  Areas of Interest Deep Learning, Control Syste...\n",
       "3  Data Science  Skills â¢ R â¢ Python â¢ SAP HANA â¢ Table...\n",
       "4  Data Science  Education Details \\n MCA   YMCAUST,  Faridabad...\n",
       "5  Data Science  SKILLS C Basics, IOT, Python, MATLAB, Data Sci...\n",
       "6  Data Science  Skills â¢ Python â¢ Tableau â¢ Data Visuali...\n",
       "7  Data Science  Education Details \\n B.Tech   Rayat and Bahra ...\n",
       "8  Data Science  Personal Skills â¢ Ability to quickly grasp t...\n",
       "9  Data Science  Expertise â Data and Quantitative Analysis â..."
      ]
     },
     "execution_count": 6,
     "metadata": {},
     "output_type": "execute_result"
    }
   ],
   "source": [
    "Data_Science_data"
   ]
  },
  {
   "cell_type": "code",
   "execution_count": 7,
   "id": "806d68f6-789e-41f3-9aa1-25032b9522a3",
   "metadata": {},
   "outputs": [
    {
     "data": {
      "text/plain": [
       "'Skills * Programming Languages: Python (pandas, numpy, scipy, scikit-learn, matplotlib), Sql, Java, JavaScript/JQuery. * Machine learning: Regression, SVM, NaÃ¯ve Bayes, KNN, Random Forest, Decision Trees, Boosting techniques, Cluster Analysis, Word Embedding, Sentiment Analysis, Natural Language processing, Dimensionality reduction, Topic Modelling (LDA, NMF), PCA & Neural Nets. * Database Visualizations: Mysql, SqlServer, Cassandra, Hbase, ElasticSearch D3.js, DC.js, Plotly, kibana, matplotlib, ggplot, Tableau. * Others: Regular Expression, HTML, CSS, Angular 6, Logstash, Kafka, Python Flask, Git, Docker, computer vision - Open CV and understanding of Deep learning.Education Details \\nData Science Assurance AssociateData Science Assurance Associate - Ernst & Young LLPSkill Details \\nJAVASCRIPT- Exprience - 24 months\\njQuery- Exprience - 24 months\\nPython- Exprience - 24 monthsCompany Details \\ncompany - Ernst & Young LLP\\ndescription - Fraud Investigations and Dispute Services   Assurance\\nTECHNOLOGY ASSISTED REVIEW\\nTAR (Technology Assisted Review) assists in accelerating the review process and run analytics and generate reports.\\n* Core member of a team helped in developing automated review platform tool from scratch for assisting E discovery domain, this tool implements predictive coding and topic modelling by automating reviews, resulting in reduced labor costs and time spent during the lawyers review.\\n* Understand the end to end flow of the solution, doing research and development for classification models, predictive analysis and mining of the information present in text data. Worked on analyzing the outputs and precision monitoring for the entire tool.\\n* TAR assists in predictive coding, topic modelling from the evidence by following EY standards. Developed the classifier models in order to identify \"red flags\" and fraud-related issues.\\n\\nTools & Technologies: Python, scikit-learn, tfidf, word2vec, doc2vec, cosine similarity, NaÃ¯ve Bayes, LDA, NMF for topic modelling, Vader and text blob for sentiment analysis. Matplot lib, Tableau dashboard for reporting.\\n\\nMULTIPLE DATA SCIENCE AND ANALYTIC PROJECTS (USA CLIENTS)\\nTEXT ANALYTICS - MOTOR VEHICLE CUSTOMER REVIEW DATA * Received customer feedback survey data for past one year. Performed sentiment (Positive, Negative & Neutral) and time series analysis on customer comments across all 4 categories.\\n* Created heat map of terms by survey category based on frequency of words * Extracted Positive and Negative words across all the Survey categories and plotted Word cloud.\\n* Created customized tableau dashboards for effective reporting and visualizations.\\nCHATBOT * Developed a user friendly chatbot for one of our Products which handle simple questions about hours of operation, reservation options and so on.\\n* This chat bot serves entire product related questions. Giving overview of tool via QA platform and also give recommendation responses so that user question to build chain of relevant answer.\\n* This too has intelligence to build the pipeline of questions as per user requirement and asks the relevant /recommended questions.\\n\\nTools & Technologies: Python, Natural language processing, NLTK, spacy, topic modelling, Sentiment analysis, Word Embedding, scikit-learn, JavaScript/JQuery, SqlServer\\n\\nINFORMATION GOVERNANCE\\nOrganizations to make informed decisions about all of the information they store. The integrated Information Governance portfolio synthesizes intelligence across unstructured data sources and facilitates action to ensure organizations are best positioned to counter information risk.\\n* Scan data from multiple sources of formats and parse different file formats, extract Meta data information, push results for indexing elastic search and created customized, interactive dashboards using kibana.\\n* Preforming ROT Analysis on the data which give information of data which helps identify content that is either Redundant, Outdated, or Trivial.\\n* Preforming full-text search analysis on elastic search with predefined methods which can tag as (PII) personally identifiable information (social security numbers, addresses, names, etc.) which frequently targeted during cyber-attacks.\\nTools & Technologies: Python, Flask, Elastic Search, Kibana\\n\\nFRAUD ANALYTIC PLATFORM\\nFraud Analytics and investigative platform to review all red flag cases.\\nâ\\x80¢ FAP is a Fraud Analytics and investigative platform with inbuilt case manager and suite of Analytics for various ERP systems.\\n* It can be used by clients to interrogate their Accounting systems for identifying the anomalies which can be indicators of fraud by running advanced analytics\\nTools & Technologies: HTML, JavaScript, SqlServer, JQuery, CSS, Bootstrap, Node.js, D3.js, DC.js'"
      ]
     },
     "execution_count": 7,
     "metadata": {},
     "output_type": "execute_result"
    }
   ],
   "source": [
    "Data_Science_data.iloc[0]['Resume'] #yes"
   ]
  },
  {
   "cell_type": "code",
   "execution_count": 8,
   "id": "d0afd401-2405-4560-a2be-120d30c3cc90",
   "metadata": {},
   "outputs": [
    {
     "data": {
      "text/plain": [
       "'Education Details \\nMay 2013 to May 2017 B.E   UIT-RGPVData ScientistData Scientist - MatelabsSkill Details \\nPython- Exprience - Less than 1 year months\\nStatsmodels- Exprience - 12 months\\nAWS- Exprience - Less than 1 year months\\nMachine learning- Exprience - Less than 1 year months\\nSklearn- Exprience - Less than 1 year months\\nScipy- Exprience - Less than 1 year months\\nKeras- Exprience - Less than 1 year monthsCompany Details \\ncompany - Matelabs\\ndescription - ML Platform for business professionals, dummies and enthusiasts.\\n60/A Koramangala 5th block,\\nAchievements/Tasks behind sukh sagar, Bengaluru,\\nIndia                               Developed and deployed auto preprocessing steps of machine learning mainly missing value\\ntreatment, outlier detection, encoding, scaling, feature selection and dimensionality reduction.\\nDeployed automated classification and regression model.\\nlinkedin.com/in/aditya-rathore-\\nb4600b146                           Reasearch and deployed the time series forecasting model ARIMA, SARIMAX, Holt-winter and\\nProphet.\\nWorked on meta-feature extracting problem.\\ngithub.com/rathorology\\nImplemented a state of the art research paper on outlier detection for mixed attributes.\\ncompany - Matelabs\\ndescription - '"
      ]
     },
     "execution_count": 8,
     "metadata": {},
     "output_type": "execute_result"
    }
   ],
   "source": [
    "Data_Science_data.iloc[1]['Resume']"
   ]
  },
  {
   "cell_type": "code",
   "execution_count": 9,
   "id": "afa444e3-b95a-4992-89eb-457d6b20c63a",
   "metadata": {},
   "outputs": [
    {
     "data": {
      "text/plain": [
       "'Areas of Interest Deep Learning, Control System Design, Programming in-Python, Electric Machinery, Web Development, Analytics Technical Activities q Hindustan Aeronautics Limited, Bangalore - For 4 weeks under the guidance of Mr. Satish, Senior Engineer in the hangar of Mirage 2000 fighter aircraft Technical Skills Programming Matlab, Python and Java, LabView, Python WebFrameWork-Django, Flask, LTSPICE-intermediate Languages and and MIPOWER-intermediate, Github (GitBash), Jupyter Notebook, Xampp, MySQL-Basics, Python Software Packages Interpreters-Anaconda, Python2, Python3, Pycharm, Java IDE-Eclipse Operating Systems Windows, Ubuntu, Debian-Kali Linux Education Details \\nJanuary 2019 B.Tech. Electrical and Electronics Engineering  Manipal Institute of Technology\\nJanuary 2015    DEEKSHA CENTER\\nJanuary 2013    Little Flower Public School\\nAugust 2000    Manipal Academy of HigherDATA SCIENCEDATA SCIENCE AND ELECTRICAL ENTHUSIASTSkill Details \\nData Analysis- Exprience - Less than 1 year months\\nexcel- Exprience - Less than 1 year months\\nMachine Learning- Exprience - Less than 1 year months\\nmathematics- Exprience - Less than 1 year months\\nPython- Exprience - Less than 1 year months\\nMatlab- Exprience - Less than 1 year months\\nElectrical Engineering- Exprience - Less than 1 year months\\nSql- Exprience - Less than 1 year monthsCompany Details \\ncompany - THEMATHCOMPANY\\ndescription - I am currently working with a Casino based operator(name not to be disclosed) in Macau.I need to segment the customers who visit their property based on the value the patrons bring into the company.Basically prove that the segmentation can be done in much better way than the current system which they have with proper numbers to back it up.Henceforth they can implement target marketing strategy to attract their customers who add value to the business.'"
      ]
     },
     "execution_count": 9,
     "metadata": {},
     "output_type": "execute_result"
    }
   ],
   "source": [
    "Data_Science_data.iloc[2]['Resume']"
   ]
  },
  {
   "cell_type": "code",
   "execution_count": 10,
   "id": "1bb1623c-f467-4542-abda-df5dcdc55561",
   "metadata": {},
   "outputs": [
    {
     "data": {
      "text/plain": [
       "\"Skills â\\x80¢ R â\\x80¢ Python â\\x80¢ SAP HANA â\\x80¢ Tableau â\\x80¢ SAP HANA SQL â\\x80¢ SAP HANA PAL â\\x80¢ MS SQL â\\x80¢ SAP Lumira â\\x80¢ C# â\\x80¢ Linear Programming â\\x80¢ Data Modelling â\\x80¢ Advance Analytics â\\x80¢ SCM Analytics â\\x80¢ Retail Analytics â\\x80¢Social Media Analytics â\\x80¢ NLP Education Details \\nJanuary 2017 to January 2018 PGDM Business Analytics  Great Lakes Institute of Management & Illinois Institute of Technology\\nJanuary 2013 Bachelor of Engineering Electronics and Communication Bengaluru, Karnataka New Horizon College of Engineering, Bangalore Visvesvaraya Technological UniversityData Science ConsultantConsultant - Deloitte USISkill Details \\nLINEAR PROGRAMMING- Exprience - 6 months\\nRETAIL- Exprience - 6 months\\nRETAIL MARKETING- Exprience - 6 months\\nSCM- Exprience - 6 months\\nSQL- Exprience - Less than 1 year months\\nDeep Learning- Exprience - Less than 1 year months\\nMachine learning- Exprience - Less than 1 year months\\nPython- Exprience - Less than 1 year months\\nR- Exprience - Less than 1 year monthsCompany Details \\ncompany - Deloitte USI\\ndescription - The project involved analysing historic deals and coming with insights to optimize future deals.\\nRole: Was given raw data, carried out end to end analysis and presented insights to client.\\nKey Responsibilities:\\nâ\\x80¢ Extract data from client systems across geographies.\\nâ\\x80¢ Understand and build reports in tableau. Infer meaningful insights to optimize prices and find out process blockades.\\nTechnical Environment: R, Tableau.\\n\\nIndustry: Cross Industry\\nService Area: Cross Industry - Products\\nProject Name: Handwriting recognition\\nConsultant: 3 months.\\nThe project involved taking handwritten images and converting them to digital text images by object detection and sentence creation.\\nRole: I was developing sentence correction functionality.\\nKey Responsibilities:\\nâ\\x80¢ Gather data large enough to capture all English words\\nâ\\x80¢ Train LSTM models on words.\\nTechnical Environment: Python.\\n\\nIndustry: Finance\\nService Area: Financial Services - BI development Project Name: SWIFT\\nConsultant: 8 months.\\nThe project was to develop an analytics infrastructure on top of SAP S/4, it would user to view\\nfinancial reports to respective departments. Reporting also included forecasting expenses.\\nRole: I was leading the offshore team.\\nKey Responsibilities:\\nâ\\x80¢ Design & Develop data models for reporting.\\nâ\\x80¢ Develop ETL for data flow\\nâ\\x80¢ Validate various reports.\\nTechnical Environment: SAP HANA, Tableau, SAP AO.\\n\\nIndustry: Healthcare Analytics\\nService Area: Life Sciences - Product development Project Name: Clinical Healthcare System\\nConsultant: 2 months.\\nThe project was to develop an analytics infrastructure on top of Argus, it would allow users to query faster and provide advance analytics capabilities.\\nRole: I was involved from design to deploy phase, performed a lot of data restructuring and built\\nmodels for insights.\\nKey Responsibilities:\\nâ\\x80¢ Design & Develop data models for reporting.\\nâ\\x80¢ Develop and deploy analytical models.\\nâ\\x80¢ Validate various reports.\\nTechnical Environment: Data Modelling, SAP HANA, Tableau, NLP.\\n\\nIndustry: FMCG\\nService Area: Trade & Promotion\\nProject Name: Consumption Based Planning for Flowers Foods Consultant; 8 months.\\nThe project involved setting up of CRM and CBP modules.\\nRole: I was involved in key data decomposition activities and setting up the base for future year\\nforecast. Over the course of the project I developed various models and carried out key\\nperformance improvements.\\nKey Responsibilities:\\nâ\\x80¢ Design & Develop HANA models for decomposition.\\nâ\\x80¢ Develop data flow for forecast.\\nâ\\x80¢ Developed various views for reporting of Customer/Sales/Funds.\\nâ\\x80¢ Validate various reports in BOBJ.\\nTechnical Environment: Data Modelling, SAP HANA, BOBJ, Time Series Forecasting.\\n\\nInternal Initiative Industry: FMCG\\nCustomer Segmentation and RFM analysis Consultant; 3 months.\\nThe initiative involved setting up of HANA-Python interface and advance analytics on Python. Over the course I had successfully segmented data into five core segments using K-means and carried out RFM analysis in Python. Also developed algorithm to categorize any new customer under the defined buckets.\\nTechnical Environment: Anaconda3, Python3.6, HANA SPS12\\n\\nIndustry: Telecom Invoice state detection Consultant; 1 months.\\nThe initiative was to reduce the manual effort in verifying closed and open invoices manually, it\\ninvolved development to a decision tree to classify open/closed invoices. This enabled effort\\nreduction by 60%.\\nTechnical Environment: R, SAP PAL, SAP HANA SPS12\\n\\nAccenture Experience\\nIndustry: Analytics - Cross Industry\\nIn Process Analytics for SAP Senior Developer; 19 months.\\nAccenture Solutions Pvt. Ltd., India\\nThe project involved development of SAP analytics tool - In Process Analytics (IPA) . My role was to develop database objects and data models to provide operational insights to clients.\\nRole: I have developed various Finance related KPIs and spearheaded various deployments.\\nIntroduced SAP Predictive analytics to reduce development time and reuse functionalities for KPIs and prepared production planning reports.\\nKey Responsibilities:\\nâ\\x80¢ Involved in information gather phase.\\nâ\\x80¢ Designed and implemented SAP HANA data modelling using Attribute View, Analytic View, and\\nCalculation View.\\nâ\\x80¢ Developed various KPI's individually using complex SQL scripts in Calculation views.\\nâ\\x80¢ Created procedures in HANA Database.\\nâ\\x80¢ Took ownership and developed Dashboard functionality.\\nâ\\x80¢ Involved in building data processing algorithms to be executed in R server for cluster analysis.\\nTechnical Environment: R, SAP HANA, T-SQL.\\nIndustry: Cross Industry\\nAccenture Testing Accelerator for SAP Database Developer; 21 months.\\nAccenture Solutions Pvt. Ltd., India\\nRole: I have taken care of all development activities for the ATAS tool and have also completed\\nvarious deployments of the product.\\nApart from these activities I was also actively involved in maintenance of the database servers\\n(Production & Quality)\\nKey Responsibilities:\\nâ\\x80¢ Analyzing business requirements, understanding the scope, getting requirements clarified\\ninteracting with business and further transform all requirements to generate attribute\\nmapping documents and reviewing mapping specification documentation\\nâ\\x80¢ Create / Update database objects like tables, views, stored procedures, function, and packages\\nâ\\x80¢ Monitored SQL Server Error Logs and Application Logs through SQL Server Agent\\nâ\\x80¢ Prepared Data Flow Diagrams, Entity Relationship Diagrams using UML\\nâ\\x80¢ Responsible for Designing, developing and Normalization of database tables\\nâ\\x80¢ Experience in performance tuning using SQL profiler.\\nâ\\x80¢ Involved in QA, UAT, knowledge transfer and support activities\\nTechnical Environment: SQL Server 2008/2014, Visual Studio 2010, Windows Server, Performance\\nMonitor, SQL Server Profiler, C#, PL-SQL, T-SQL.\""
      ]
     },
     "execution_count": 10,
     "metadata": {},
     "output_type": "execute_result"
    }
   ],
   "source": [
    "Data_Science_data.iloc[3]['Resume']"
   ]
  },
  {
   "cell_type": "code",
   "execution_count": 11,
   "id": "075fc97d-0fc5-4c4f-911c-d350f1910435",
   "metadata": {},
   "outputs": [
    {
     "data": {
      "text/plain": [
       "'Education Details \\n MCA   YMCAUST,  Faridabad,  HaryanaData Science internshipSkill Details \\nData Structure- Exprience - Less than 1 year months\\nC- Exprience - Less than 1 year months\\nData Analysis- Exprience - Less than 1 year months\\nPython- Exprience - Less than 1 year months\\nCore Java- Exprience - Less than 1 year months\\nDatabase Management- Exprience - Less than 1 year monthsCompany Details \\ncompany - Itechpower\\ndescription - '"
      ]
     },
     "execution_count": 11,
     "metadata": {},
     "output_type": "execute_result"
    }
   ],
   "source": [
    "Data_Science_data.iloc[4]['Resume']"
   ]
  },
  {
   "cell_type": "code",
   "execution_count": 12,
   "id": "a97d151a-b662-4af2-9821-8cbdd72c8390",
   "metadata": {},
   "outputs": [
    {
     "data": {
      "text/plain": [
       "\"SKILLS C Basics, IOT, Python, MATLAB, Data Science, Machine Learning, HTML, Microsoft Word, Microsoft Excel, Microsoft Powerpoint. RECOGNITION Academic Secured First place in B.Tech.Education Details \\nAugust 2014 to May 2018 B.Tech.  Ghatkesar, Andhra Pradesh Aurora's Scientific and Technological Institute\\nJune 2012 to May 2014  Secondary Education Warangal, Telangana SR Junior CollegeData ScienceSkill Details \\nMS OFFICE- Exprience - Less than 1 year months\\nC- Exprience - Less than 1 year months\\nmachine learning- Exprience - Less than 1 year months\\ndata science- Exprience - Less than 1 year months\\nMatlab- Exprience - Less than 1 year monthsCompany Details \\ncompany - \\ndescription - \""
      ]
     },
     "execution_count": 12,
     "metadata": {},
     "output_type": "execute_result"
    }
   ],
   "source": [
    "Data_Science_data.iloc[5]['Resume']"
   ]
  },
  {
   "cell_type": "code",
   "execution_count": 13,
   "id": "1b3982da-db86-4682-ac11-5ee2bd0a25bd",
   "metadata": {},
   "outputs": [
    {
     "data": {
      "text/plain": [
       "'Skills â\\x80¢ Python â\\x80¢ Tableau â\\x80¢ Data Visualization â\\x80¢ R Studio â\\x80¢ Machine Learning â\\x80¢ Statistics IABAC Certified Data Scientist with versatile experience over 1+ years in managing business, data science consulting and leading innovation projects, bringing business ideas to working real world solutions. Being a strong advocator of augmented era, where human capabilities are enhanced by machines, Fahed is passionate about bringing business concepts in area of machine learning, AI, robotics etc., to real life solutions.Education Details \\nJanuary 2017 B. Tech Computer Science & Engineering Mohali, Punjab Indo Global College of EngineeringData Science ConsultantData Science Consultant - DatamitesSkill Details \\nMACHINE LEARNING- Exprience - 13 months\\nPYTHON- Exprience - 24 months\\nSOLUTIONS- Exprience - 24 months\\nDATA SCIENCE- Exprience - 24 months\\nDATA VISUALIZATION- Exprience - 24 months\\nTableau- Exprience - 24 monthsCompany Details \\ncompany - Datamites\\ndescription - â\\x80¢ Analyzed and processed complex data sets using advanced querying, visualization and analytics tools.\\nâ\\x80¢ Responsible for loading, extracting and validation of client data.\\nâ\\x80¢ Worked on manipulating, cleaning & processing data using python.\\nâ\\x80¢ Used Tableau for data visualization.\\ncompany - Heretic Solutions Pvt Ltd\\ndescription - â\\x80¢ Worked closely with business to identify issues and used data to propose solutions for effective decision making.\\nâ\\x80¢ Manipulating, cleansing & processing data using Python, Excel and R.\\nâ\\x80¢ Analyzed raw data, drawing conclusions & developing recommendations.\\nâ\\x80¢ Used machine learning tools and statistical techniques to produce solutions to problems.'"
      ]
     },
     "execution_count": 13,
     "metadata": {},
     "output_type": "execute_result"
    }
   ],
   "source": [
    "Data_Science_data.iloc[6]['Resume']"
   ]
  },
  {
   "cell_type": "code",
   "execution_count": 14,
   "id": "f45b9f11-fac8-4c53-9b2a-fb34e09e0bdd",
   "metadata": {},
   "outputs": [
    {
     "data": {
      "text/plain": [
       "'Education Details \\n B.Tech   Rayat and Bahra Institute of Engineering and BiotechnologyData ScienceData ScienceSkill Details \\nNumpy- Exprience - Less than 1 year months\\nMachine Learning- Exprience - Less than 1 year months\\nTensorflow- Exprience - Less than 1 year months\\nScikit- Exprience - Less than 1 year months\\nPython- Exprience - Less than 1 year months\\nGCP- Exprience - Less than 1 year months\\nPandas- Exprience - Less than 1 year months\\nNeural Network- Exprience - Less than 1 year monthsCompany Details \\ncompany - Wipro\\ndescription - Bhawana Aggarwal\\nE-Mail:bhawana.chd@gmail.com\\nPhone: 09876971076\\nVVersatile, high-energy professional targeting challenging assignments in Machine\\nPROFILE SUMMARY\\nâ\\x96ª An IT professional with knowledge and experience of 2 years in Wipro Technologies in Machine\\nLearning, Deep Learning, Data Science, Python, Software Development.\\nâ\\x96ª Skilled in managing end-to-end development and software products / projects from inception, requirement\\nspecs, planning, designing, implementation, configuration and documentation.\\nâ\\x96ª Knowledge on Python , Machine Learning, Deep Learning, data Science, Algorithms, Neural Network,\\nNLP, GCP.\\nâ\\x96ª Knowledge on Python Libraries like Numpy, Pandas, Seaborn , Matplotlib, Cufflinks.\\nâ\\x96ª Knowledge on different algorithms in Machine learning like KNN, Decision Tree, Bias variance Trade off,\\nSupport vector Machine(SVM),Logistic Regression, Neural networks.\\nâ\\x96ª Have knowledge on unsupervised, Supervised and reinforcement data.\\nâ\\x96ª Programming experience in relational platforms like MySQL,Oracle.\\nâ\\x96ª Have knowledge on Some programming language like C++,Java.\\nâ\\x96ª Experience in cloud based environment like Google Cloud.\\nâ\\x96ª Working on different Operating System like Linux, Ubuntu, Windows.\\nâ\\x96ª Good interpersonal and communication skills.\\nâ\\x96ª Problem solving skills with the ability to think laterally, and to think with a medium term and long term\\nperspective\\nâ\\x96ª Flexibility and an open attitude to change.\\nâ\\x96ª Ability to create, define and own frameworks with a strong emphasis on code reusability.\\nTECHNICAL SKILLS\\nProgramming Languages Python, C\\nLibraries Seaborn, Numpy, Pandas, Cufflinks, Matplotlib\\nAlgorithms\\nKNN, Decision Tree, Linear regression, Logistic Regression, Neural Networks, K means clustering,\\nTensorflow, SVM\\nDatabases SQL, Oracle\\nOperating Systems Linux, Window\\nDevelopment Environments NetBeans, Notebooks, Sublime\\nTicketing tools Service Now, Remedy\\nEducation\\nUG Education:\\nB.Tech (Computer Science) from Rayat and Bahra Institute of Engineering and Biotechnology passed with 78.4%in\\n2016.\\nSchooling:\\nXII in 2012 from Moti Ram Arya Sr. Secondary School(Passed with 78.4%)\\nX in 2010 from Valley Public School (Passed with 9.4 CGPA)\\nWORK EXPERINCE\\nTitle : Wipro Neural Intelligence Platform\\nTeam Size : 5\\nBrief: Wiproâ\\x80\\x99s Neural Intelligence Platform harnesses the power of automation and artificial intelligence\\ntechnologiesâ\\x80\\x94natural language processing (NLP), cognitive, machine learning, and analytics. The platform\\ncomprises three layers: a data engagement platform that can easily access and manage multiple structured and\\nunstructured data sources; an â\\x80\\x9cintent assessment and reasoningâ\\x80\\x9d engine that includes sentiment and predictive\\nanalytics; and a deep machine learning engine that can sense, act, and learn over time. The project entailed\\nautomating responses to user queries at the earliest. The Monster Bot using the power of Deep Machine Learning,\\nNLP to handle such queries. User can see the how their queries can be answered quickly like allL1 activities can be\\neliminated.\\nEntity Extractor -> This involves text extraction and NLP for fetching out important information from the text like\\ndates, names, places, contact numbers etc. This involves Regex, Bluemix NLU apiâ\\x80\\x99s and machine learning using\\nTensor flow for further learning of new entities.\\nClassifier ->This involves the classifications of classes, training of dataset and predicting the output using the SKLearn\\nclassifier (MNB, SVM, SGD as Classifier) and SGD for the optimization to map the user queries with the best\\nsuited response and make the system efficient.\\nNER: A Deep Learning NER Model is trained to extract the entities from the text. Entities like Roles, Skills,\\nOrganizations can be extracted from raw text. RNN(LSTM) Bidirectional model is trained for extracting such entities\\nusing Keras TensorFlow framework.\\nOTHER PROJECTS\\nTitle : Diabetes Detection\\nBrief : Developed the software which can detect whether the person is suffering from Diabetes or not and got the third\\nprize in it.\\nTRAINING AND CERTIFICATIONS\\nTitle: Python Training, Machine Learning, Data Science, Deep Learning\\nOrganization: Udemy, Coursera (Machine Learning, Deep Learning)\\nPersonal Profile\\nFatherâ\\x80\\x99s Name :Mr. Tirlok Aggarwal\\nLanguage Known : English & Hindi\\nMarital Status :Single\\nDate of Birth(Gender):1993-12-20(YYYY-MM-DD) (F)\\ncompany - Wipro\\ndescription - Developing programs in Python.\\ncompany - Wipro\\ndescription - Title : Wipro Neural Intelligence Platform\\nTeam Size : 5\\nBrief: Wiproâ\\x80\\x99s Neural Intelligence Platform harnesses the power of automation and artificial intelligence\\ntechnologiesâ\\x80\\x94natural language processing (NLP), cognitive, machine learning, and analytics. The platform\\ncomprises three layers: a data engagement platform that can easily access and manage multiple structured and\\nunstructured data sources; an â\\x80\\x9cintent assessment and reasoningâ\\x80\\x9d engine that includes sentiment and predictive\\nanalytics; and a deep machine learning engine that can sense, act, and learn over time. The project entailed\\nautomating responses to user queries at the earliest. The Monster Bot using the power of Deep Machine Learning,\\nNLP to handle such queries. User can see the how their queries can be answered quickly like allL1 activities can be\\neliminated.\\nEntity Extractor -> This involves text extraction and NLP for fetching out important information from the text like\\ndates, names, places, contact numbers etc. This involves Regex, Bluemix NLU apiâ\\x80\\x99s and machine learning using\\nTensor flow for further learning of new entities.\\nClassifier ->This involves the classifications of classes, training of dataset and predicting the output using the SKLearn\\nclassifier (MNB, SVM, SGD as Classifier) and SGD for the optimization to map the user queries with the best\\nsuited response and make the system efficient.\\nNER: A Deep Learning NER Model is trained to extract the entities from the text. Entities like Roles, Skills,\\nOrganizations can be extracted from raw text. RNN(LSTM) Bidirectional model is trained for extracting such entities\\nusing Keras TensorFlow framework.\\ncompany - Wipro Technologies\\ndescription - An IT professional with knowledge and experience of 2 years in Wipro Technologies in Machine\\nLearning, Deep Learning, Data Science, Python, Software Development.\\nâ\\x96ª Skilled in managing end-to-end development and software products / projects from inception, requirement\\nspecs, planning, designing, implementation, configuration and documentation.\\nâ\\x96ª Knowledge on Python , Machine Learning, Deep Learning, data Science, Algorithms, Neural Network,\\nNLP, GCP.\\nâ\\x96ª Knowledge on Python Libraries like Numpy, Pandas, Seaborn , Matplotlib, Cufflinks.\\nâ\\x96ª Knowledge on different algorithms in Machine learning like KNN, Decision Tree, Bias variance Trade off,\\nSupport vector Machine(SVM),Logistic Regression, Neural networks.\\nâ\\x96ª Have knowledge on unsupervised, Supervised and reinforcement data.\\nâ\\x96ª Programming experience in relational platforms like MySQL,Oracle.\\nâ\\x96ª Have knowledge on Some programming language like C++,Java.\\nâ\\x96ª Experience in cloud based environment like Google Cloud.\\nâ\\x96ª Working on different Operating System like Linux, Ubuntu, Windows.\\nâ\\x96ª Good interpersonal and communication skills.\\nâ\\x96ª Problem solving skills with the ability to think laterally, and to think with a medium term and long term\\nperspective\\nâ\\x96ª Flexibility and an open attitude to change.\\nâ\\x96ª Ability to create, define and own frameworks with a strong emphasis on code reusability.'"
      ]
     },
     "execution_count": 14,
     "metadata": {},
     "output_type": "execute_result"
    }
   ],
   "source": [
    "Data_Science_data.iloc[7]['Resume'] #yes"
   ]
  },
  {
   "cell_type": "code",
   "execution_count": 15,
   "id": "35491920-d21e-4884-94f0-da619c81dbd7",
   "metadata": {},
   "outputs": [
    {
     "data": {
      "text/plain": [
       "'Personal Skills â\\x9e¢ Ability to quickly grasp technical aspects and willingness to learn â\\x9e¢ High energy levels & Result oriented. Education Details \\nJanuary 2018 Master of Engineering Computer Technology & Application Bhopal, Madhya Pradesh Truba Institute of Engineering & Information Technology\\nJanuary 2010 B.E. computer science Bhopal, Madhya Pradesh RKDF Institute of Science and Technology College of Engineering\\nJanuary 2006 Polytechnic Information Technology Vidisha, Madhya Pradesh SATI Engineering College in Vidisha\\nJanuary 2003 M.tech Thesis Detail  BMCH School in Ganj basodaData scienceI have six month experience in Data Science. Key Skills: - Experience in Machine Learning, Deep Leaning, NLP, Python, SQL, Web Scraping Good knowledge in computer subjects and ability to updateSkill Details \\nExperience in Machine Learning, Deep Learning, NLP, Python, SQL, Web Crawling, HTML,CSS.- Exprience - Less than 1 year monthsCompany Details \\ncompany - RNT.AI Technology Solution\\ndescription - Text classification using Machine learning Algorithms with python.\\nPractical knowledge of Deep learning algorithms such as Â\\xa0Recurrent Neural Networks(RNN).\\nDevelop custom data models and algorithms to apply to dataset\\nExperience with Python packages like Pandas, Scikit-learn, Tensor Flow, Numpy, Matplotliv, NLTK.\\nComfort with SQL, Â\\xa0MYSQL\\nSentiment analysis.\\nÂ\\xa0Apply leave Dataset using classification technique like Tf--idf , LSA with cosine similarity using Machine learning Algorithms.\\nWeb crawling using Selenium web driver and Beautiful Soup with python.\\ncompany - Life Insurance Corporation of India Bhopal\\ndescription - Ã¼Â\\xa0Explaining policy features and the benefits\\nÃ¼ Updated knowledge of life insurance products and shared with customers'"
      ]
     },
     "execution_count": 15,
     "metadata": {},
     "output_type": "execute_result"
    }
   ],
   "source": [
    "Data_Science_data.iloc[8]['Resume']"
   ]
  },
  {
   "cell_type": "code",
   "execution_count": 16,
   "id": "9ad4bd21-9064-4fd0-8f13-a1e0c05cbd56",
   "metadata": {},
   "outputs": [
    {
     "data": {
      "text/plain": [
       "'Expertise â\\x88\\x92 Data and Quantitative Analysis â\\x88\\x92 Decision Analytics â\\x88\\x92 Predictive Modeling â\\x88\\x92 Data-Driven Personalization â\\x88\\x92 KPI Dashboards â\\x88\\x92 Big Data Queries and Interpretation â\\x88\\x92 Data Mining and Visualization Tools â\\x88\\x92 Machine Learning Algorithms â\\x88\\x92 Business Intelligence (BI) â\\x88\\x92 Research, Reports and Forecasts Education Details \\n PGP in Data Science  Mumbai, Maharashtra Aegis School of data science & Business\\n B.E. in Electronics & Communication Electronics & Communication Indore, Madhya Pradesh IES IPS AcademyData ScientistData Scientist with PR CanadaSkill Details \\nAlgorithms- Exprience - 6 months\\nBI- Exprience - 6 months\\nBusiness Intelligence- Exprience - 6 months\\nMachine Learning- Exprience - 24 months\\nVisualization- Exprience - 24 months\\nspark- Exprience - 24 months\\npython- Exprience - 36 months\\ntableau- Exprience - 36 months\\nData Analysis- Exprience - 24 monthsCompany Details \\ncompany - Aegis school of Data Science & Business\\ndescription - Mostly working on industry project for providing solution along with Teaching Appointments: Teach undergraduate and graduate-level courses in Spark and Machine Learning as an adjunct faculty member at Aegis School of Data Science, Mumbai (2017 to Present)\\ncompany - Aegis school of Data & Business\\ndescription - Data Science Intern, Nov 2015 to Jan 2016\\n\\nFurnish executive leadership team with insights, analytics, reports and recommendations enabling effective strategic planning across all business units, distribution channels and product lines.\\n\\nâ\\x9e\\x94 Chat Bot using AWS LEX and Tensor flow  Python\\nThe goal of project creates a chat bot for an academic institution or university to handle queries related courses offered by that institute. The objective of this task is to reduce human efforts as well as reduce man made errors. Even by this companies handle their client 24x7. In this case companies are academic institutions and clients are participants or students.\\nâ\\x9e\\x94 Web scraping using Selenium web driver   Python\\nThe task is to scrap the data from the online messaging portal in a text format and have to find the pattern form it.\\nâ\\x9e\\x94 Data Visualization and Data insights   Hadoop Eco System, Hive, PySpark, QlikSense\\nThe goal of this project is to build a Business Solutions to a Internet Service Provider Company, like handling data which is generated per day basis, for that we have to visualize that data and find the usage pattern form it and have a generate a reports.\\nâ\\x9e\\x94 Image Based Fraud Detection   Microsoft Face API, PySpark, Open CV\\nThe main goal of project is Recognize similarity for a face to given Database images. Face recognition is the recognizing a special face from set of different faces. Face is extracted and then compared with the database Image if that Image recognized then the person already applied for loan from somewhere else and now hiding his or her identity, this is how we are going to prevent the frauds in the initial stage itself.\\nâ\\x9e\\x94 Churn Analysis for Internet Service Provider   R, Python, Machine Learning, Hadoop\\nThe objective is to identify the customer who is likely to churn in a given period of time; we have to pretend the customer giving incentive offers.\\nâ\\x9e\\x94 Sentiment Analysis   Python, NLP, Apache Spark service in IBM Bluemix.\\nThis project is highly emphasis on tweets from Twitter data were taken for mobile networks service provider to do a sentiment analysis and analyze whether the expressed opinion was positive, negative or neutral, capture the emotions of the tweets and comparative analysis.\\n\\nQuantifiable Results:\\nâ\\x88\\x92 Mentored 7-12 Data Science Enthusiast each year that have all since gone on to graduate school in Data Science and Business Analytics.\\nâ\\x88\\x92 Reviewed and evaluated 20-40 Research Papers on Data Science for one of the largest Data Science Conference called Data Science Congress by Aegis School of Business Mumbai.\\nâ\\x88\\x92 Heading a solution providing organization called Data Science Delivered into Aegis school of Data Science Mumbai and managed 4-5 live projects using Data Science techniques.\\nâ\\x88\\x92 Working for some social cause with the help of Data Science for Social Goods Committee, where our team developed a product called \"Let\\'s find a missing Child\" for helping society.\\ncompany - IBM India pvt ltd\\ndescription - Mostly worked on blumix and IBM Watson for Data science.'"
      ]
     },
     "execution_count": 16,
     "metadata": {},
     "output_type": "execute_result"
    }
   ],
   "source": [
    "Data_Science_data.iloc[9]['Resume'] #yes"
   ]
  },
  {
   "cell_type": "code",
   "execution_count": 17,
   "id": "8f142c64-dd78-4f55-b2a4-b963ae21a505",
   "metadata": {},
   "outputs": [],
   "source": [
    "job_describtion = \"\"\"\n",
    "Job Title: AI Engineer\n",
    "\n",
    "Job Type: Full-Time\n",
    "\n",
    "Location: Remote\n",
    "\n",
    "About us:\n",
    "micro1 connects exceptional talent to transformative projects. We’re here to provide not just a job, but a platform for you to grow and achieve your career goals. We're proud to work with trusted partners such as Deel, Immutable, O’Gara, and LegalSoft.\n",
    "\n",
    "What We Offer:\n",
    "Work from anywhere\n",
    "Healthcare reimbursement\n",
    "Wi-Fi reimbursement\n",
    "Unlimited learning and more.\n",
    "\n",
    "Job Summary:\n",
    "Join our dynamic team at micro1 as an AI Engineer. You'll have the opportunity to develop cutting-edge machine learning models and AI-driven solutions from anywhere in the world. This role not only offers the chance to work on impactful projects but also provides a supportive environment focused on your career growth.\n",
    "\n",
    "Key Responsibilities:\n",
    "Develop and optimize deep learning models using frameworks like PyTorch and TensorFlow.\n",
    "Collaborate closely with product teams to integrate AI solutions seamlessly.\n",
    "Design and implement Natural Language Processing (NLP) solutions to enhance user experience.\n",
    "Conduct thorough testing and validation of machine learning models.\n",
    "Stay updated with the latest advancements in AI and deep learning technologies.\n",
    "Document processes and findings clearly to support team knowledge sharing.\n",
    "Analyze data sets to extract meaningful insights for business applications.\n",
    "\n",
    "Required Skills and Qualifications:\n",
    "Proficiency in Deep Learning frameworks such as PyTorch and TensorFlow.\n",
    "Strong experience with Natural Language Processing (NLP) models and techniques.\n",
    "Excellent written and verbal communication skills.\n",
    "Demonstrated ability to work independently in a remote setting.\n",
    "Solid understanding of machine learning algorithms and principles.\n",
    "\n",
    "Preferred Qualifications:\n",
    "Experience with Reinforcement Learning.\n",
    "Familiarity with cloud-based AI services and deployment.\"\"\""
   ]
  },
  {
   "cell_type": "code",
   "execution_count": 19,
   "id": "af1b3d64-bea5-4e65-a8fd-711eb6b058df",
   "metadata": {},
   "outputs": [
    {
     "data": {
      "text/html": [
       "<div>\n",
       "<style scoped>\n",
       "    .dataframe tbody tr th:only-of-type {\n",
       "        vertical-align: middle;\n",
       "    }\n",
       "\n",
       "    .dataframe tbody tr th {\n",
       "        vertical-align: top;\n",
       "    }\n",
       "\n",
       "    .dataframe thead th {\n",
       "        text-align: right;\n",
       "    }\n",
       "</style>\n",
       "<table border=\"1\" class=\"dataframe\">\n",
       "  <thead>\n",
       "    <tr style=\"text-align: right;\">\n",
       "      <th></th>\n",
       "      <th>Category</th>\n",
       "      <th>Resume</th>\n",
       "    </tr>\n",
       "  </thead>\n",
       "  <tbody>\n",
       "    <tr>\n",
       "      <th>0</th>\n",
       "      <td>Data Science</td>\n",
       "      <td>Skills * Programming Languages: Python (pandas...</td>\n",
       "    </tr>\n",
       "    <tr>\n",
       "      <th>1</th>\n",
       "      <td>Data Science</td>\n",
       "      <td>Education Details \\nMay 2013 to May 2017 B.E  ...</td>\n",
       "    </tr>\n",
       "    <tr>\n",
       "      <th>2</th>\n",
       "      <td>Data Science</td>\n",
       "      <td>Areas of Interest Deep Learning, Control Syste...</td>\n",
       "    </tr>\n",
       "    <tr>\n",
       "      <th>3</th>\n",
       "      <td>Data Science</td>\n",
       "      <td>Skills â¢ R â¢ Python â¢ SAP HANA â¢ Table...</td>\n",
       "    </tr>\n",
       "    <tr>\n",
       "      <th>4</th>\n",
       "      <td>Data Science</td>\n",
       "      <td>Education Details \\n MCA   YMCAUST,  Faridabad...</td>\n",
       "    </tr>\n",
       "    <tr>\n",
       "      <th>5</th>\n",
       "      <td>Data Science</td>\n",
       "      <td>SKILLS C Basics, IOT, Python, MATLAB, Data Sci...</td>\n",
       "    </tr>\n",
       "    <tr>\n",
       "      <th>6</th>\n",
       "      <td>Data Science</td>\n",
       "      <td>Skills â¢ Python â¢ Tableau â¢ Data Visuali...</td>\n",
       "    </tr>\n",
       "    <tr>\n",
       "      <th>7</th>\n",
       "      <td>Data Science</td>\n",
       "      <td>Education Details \\n B.Tech   Rayat and Bahra ...</td>\n",
       "    </tr>\n",
       "    <tr>\n",
       "      <th>8</th>\n",
       "      <td>Data Science</td>\n",
       "      <td>Personal Skills â¢ Ability to quickly grasp t...</td>\n",
       "    </tr>\n",
       "    <tr>\n",
       "      <th>9</th>\n",
       "      <td>Data Science</td>\n",
       "      <td>Expertise â Data and Quantitative Analysis â...</td>\n",
       "    </tr>\n",
       "  </tbody>\n",
       "</table>\n",
       "</div>"
      ],
      "text/plain": [
       "       Category                                             Resume\n",
       "0  Data Science  Skills * Programming Languages: Python (pandas...\n",
       "1  Data Science  Education Details \\nMay 2013 to May 2017 B.E  ...\n",
       "2  Data Science  Areas of Interest Deep Learning, Control Syste...\n",
       "3  Data Science  Skills â¢ R â¢ Python â¢ SAP HANA â¢ Table...\n",
       "4  Data Science  Education Details \\n MCA   YMCAUST,  Faridabad...\n",
       "5  Data Science  SKILLS C Basics, IOT, Python, MATLAB, Data Sci...\n",
       "6  Data Science  Skills â¢ Python â¢ Tableau â¢ Data Visuali...\n",
       "7  Data Science  Education Details \\n B.Tech   Rayat and Bahra ...\n",
       "8  Data Science  Personal Skills â¢ Ability to quickly grasp t...\n",
       "9  Data Science  Expertise â Data and Quantitative Analysis â..."
      ]
     },
     "execution_count": 19,
     "metadata": {},
     "output_type": "execute_result"
    }
   ],
   "source": [
    "Data_Science_data"
   ]
  },
  {
   "cell_type": "code",
   "execution_count": 22,
   "id": "e3b49ff1-88f5-4ead-a40a-a7a13392a607",
   "metadata": {},
   "outputs": [
    {
     "name": "stdout",
     "output_type": "stream",
     "text": [
      "       Category                                             Resume  chosen\n",
      "0  Data Science  Skills * Programming Languages: Python (pandas...       1\n",
      "1  Data Science  Education Details \\nMay 2013 to May 2017 B.E  ...       0\n",
      "2  Data Science  Areas of Interest Deep Learning, Control Syste...       0\n",
      "3  Data Science  Skills â¢ R â¢ Python â¢ SAP HANA â¢ Table...       0\n",
      "4  Data Science  Education Details \\n MCA   YMCAUST,  Faridabad...       0\n",
      "5  Data Science  SKILLS C Basics, IOT, Python, MATLAB, Data Sci...       0\n",
      "6  Data Science  Skills â¢ Python â¢ Tableau â¢ Data Visuali...       0\n",
      "7  Data Science  Education Details \\n B.Tech   Rayat and Bahra ...       1\n",
      "8  Data Science  Personal Skills â¢ Ability to quickly grasp t...       0\n",
      "9  Data Science  Expertise â Data and Quantitative Analysis â...       1\n"
     ]
    },
    {
     "name": "stderr",
     "output_type": "stream",
     "text": [
      "/var/folders/dm/y1vt4m8j43xbl9qk9zyfh22h0000gn/T/ipykernel_70637/956338072.py:2: SettingWithCopyWarning: \n",
      "A value is trying to be set on a copy of a slice from a DataFrame.\n",
      "Try using .loc[row_indexer,col_indexer] = value instead\n",
      "\n",
      "See the caveats in the documentation: https://pandas.pydata.org/pandas-docs/stable/user_guide/indexing.html#returning-a-view-versus-a-copy\n",
      "  Data_Science_data['chosen'] = Data_Science_data.index.map(lambda x: 1 if x in [0, 7, 9] else 0)\n"
     ]
    }
   ],
   "source": [
    "# Create the 'chosen' feature\n",
    "Data_Science_data['chosen'] = Data_Science_data.index.map(lambda x: 1 if x in [0, 7, 9] else 0)\n",
    "\n",
    "print(Data_Science_data)"
   ]
  },
  {
   "cell_type": "code",
   "execution_count": null,
   "id": "51142c53-e659-4170-96b4-0db48cc0d13b",
   "metadata": {},
   "outputs": [],
   "source": []
  },
  {
   "cell_type": "code",
   "execution_count": null,
   "id": "32cfbd27-df82-4c35-8937-7fdad053c9c0",
   "metadata": {},
   "outputs": [],
   "source": []
  },
  {
   "cell_type": "code",
   "execution_count": 26,
   "id": "80872a76-4e7c-4e80-bcf8-91ec3b724bac",
   "metadata": {},
   "outputs": [],
   "source": [
    "# Text preprocessing function\n",
    "def preprocess_text(text):\n",
    "    # Convert to lowercase , try upper \n",
    "    text = text.lower()\n",
    "    # Remove special characters (but keep numbers) keep \n",
    "    text = re.sub(r'[^a-zA-Z0-9-@\\s]', '', text)\n",
    "    # Tokenize text\n",
    "    tokens = word_tokenize(text)\n",
    "    # Remove stopwords\n",
    "    stop_words = set(stopwords.words('english'))\n",
    "    filtered_tokens = [word for word in tokens if word not in stop_words]\n",
    "    return ' '.join(filtered_tokens)"
   ]
  },
  {
   "cell_type": "code",
   "execution_count": 27,
   "id": "6b77f124-d573-4635-889a-cbc3cf08166c",
   "metadata": {},
   "outputs": [
    {
     "name": "stderr",
     "output_type": "stream",
     "text": [
      "/var/folders/dm/y1vt4m8j43xbl9qk9zyfh22h0000gn/T/ipykernel_70637/1223080857.py:1: SettingWithCopyWarning: \n",
      "A value is trying to be set on a copy of a slice from a DataFrame.\n",
      "Try using .loc[row_indexer,col_indexer] = value instead\n",
      "\n",
      "See the caveats in the documentation: https://pandas.pydata.org/pandas-docs/stable/user_guide/indexing.html#returning-a-view-versus-a-copy\n",
      "  Data_Science_data['cleaned_resume'] = Data_Science_data['Resume'].apply(preprocess_text)\n"
     ]
    },
    {
     "data": {
      "text/html": [
       "<div>\n",
       "<style scoped>\n",
       "    .dataframe tbody tr th:only-of-type {\n",
       "        vertical-align: middle;\n",
       "    }\n",
       "\n",
       "    .dataframe tbody tr th {\n",
       "        vertical-align: top;\n",
       "    }\n",
       "\n",
       "    .dataframe thead th {\n",
       "        text-align: right;\n",
       "    }\n",
       "</style>\n",
       "<table border=\"1\" class=\"dataframe\">\n",
       "  <thead>\n",
       "    <tr style=\"text-align: right;\">\n",
       "      <th></th>\n",
       "      <th>Category</th>\n",
       "      <th>Resume</th>\n",
       "      <th>chosen</th>\n",
       "      <th>cleaned_resume</th>\n",
       "    </tr>\n",
       "  </thead>\n",
       "  <tbody>\n",
       "    <tr>\n",
       "      <th>0</th>\n",
       "      <td>Data Science</td>\n",
       "      <td>Skills * Programming Languages: Python (pandas...</td>\n",
       "      <td>1</td>\n",
       "      <td>skills programming languages python pandas num...</td>\n",
       "    </tr>\n",
       "    <tr>\n",
       "      <th>1</th>\n",
       "      <td>Data Science</td>\n",
       "      <td>Education Details \\nMay 2013 to May 2017 B.E  ...</td>\n",
       "      <td>0</td>\n",
       "      <td>education details may 2013 may 2017 uit-rgpvda...</td>\n",
       "    </tr>\n",
       "    <tr>\n",
       "      <th>2</th>\n",
       "      <td>Data Science</td>\n",
       "      <td>Areas of Interest Deep Learning, Control Syste...</td>\n",
       "      <td>0</td>\n",
       "      <td>areas interest deep learning control system de...</td>\n",
       "    </tr>\n",
       "    <tr>\n",
       "      <th>3</th>\n",
       "      <td>Data Science</td>\n",
       "      <td>Skills â¢ R â¢ Python â¢ SAP HANA â¢ Table...</td>\n",
       "      <td>0</td>\n",
       "      <td>skills r python sap hana tableau sap hana sql ...</td>\n",
       "    </tr>\n",
       "    <tr>\n",
       "      <th>4</th>\n",
       "      <td>Data Science</td>\n",
       "      <td>Education Details \\n MCA   YMCAUST,  Faridabad...</td>\n",
       "      <td>0</td>\n",
       "      <td>education details mca ymcaust faridabad haryan...</td>\n",
       "    </tr>\n",
       "    <tr>\n",
       "      <th>5</th>\n",
       "      <td>Data Science</td>\n",
       "      <td>SKILLS C Basics, IOT, Python, MATLAB, Data Sci...</td>\n",
       "      <td>0</td>\n",
       "      <td>skills c basics iot python matlab data science...</td>\n",
       "    </tr>\n",
       "    <tr>\n",
       "      <th>6</th>\n",
       "      <td>Data Science</td>\n",
       "      <td>Skills â¢ Python â¢ Tableau â¢ Data Visuali...</td>\n",
       "      <td>0</td>\n",
       "      <td>skills python tableau data visualization r stu...</td>\n",
       "    </tr>\n",
       "    <tr>\n",
       "      <th>7</th>\n",
       "      <td>Data Science</td>\n",
       "      <td>Education Details \\n B.Tech   Rayat and Bahra ...</td>\n",
       "      <td>1</td>\n",
       "      <td>education details btech rayat bahra institute ...</td>\n",
       "    </tr>\n",
       "    <tr>\n",
       "      <th>8</th>\n",
       "      <td>Data Science</td>\n",
       "      <td>Personal Skills â¢ Ability to quickly grasp t...</td>\n",
       "      <td>0</td>\n",
       "      <td>personal skills ability quickly grasp technica...</td>\n",
       "    </tr>\n",
       "    <tr>\n",
       "      <th>9</th>\n",
       "      <td>Data Science</td>\n",
       "      <td>Expertise â Data and Quantitative Analysis â...</td>\n",
       "      <td>1</td>\n",
       "      <td>expertise data quantitative analysis decision ...</td>\n",
       "    </tr>\n",
       "  </tbody>\n",
       "</table>\n",
       "</div>"
      ],
      "text/plain": [
       "       Category                                             Resume  chosen  \\\n",
       "0  Data Science  Skills * Programming Languages: Python (pandas...       1   \n",
       "1  Data Science  Education Details \\nMay 2013 to May 2017 B.E  ...       0   \n",
       "2  Data Science  Areas of Interest Deep Learning, Control Syste...       0   \n",
       "3  Data Science  Skills â¢ R â¢ Python â¢ SAP HANA â¢ Table...       0   \n",
       "4  Data Science  Education Details \\n MCA   YMCAUST,  Faridabad...       0   \n",
       "5  Data Science  SKILLS C Basics, IOT, Python, MATLAB, Data Sci...       0   \n",
       "6  Data Science  Skills â¢ Python â¢ Tableau â¢ Data Visuali...       0   \n",
       "7  Data Science  Education Details \\n B.Tech   Rayat and Bahra ...       1   \n",
       "8  Data Science  Personal Skills â¢ Ability to quickly grasp t...       0   \n",
       "9  Data Science  Expertise â Data and Quantitative Analysis â...       1   \n",
       "\n",
       "                                      cleaned_resume  \n",
       "0  skills programming languages python pandas num...  \n",
       "1  education details may 2013 may 2017 uit-rgpvda...  \n",
       "2  areas interest deep learning control system de...  \n",
       "3  skills r python sap hana tableau sap hana sql ...  \n",
       "4  education details mca ymcaust faridabad haryan...  \n",
       "5  skills c basics iot python matlab data science...  \n",
       "6  skills python tableau data visualization r stu...  \n",
       "7  education details btech rayat bahra institute ...  \n",
       "8  personal skills ability quickly grasp technica...  \n",
       "9  expertise data quantitative analysis decision ...  "
      ]
     },
     "execution_count": 27,
     "metadata": {},
     "output_type": "execute_result"
    }
   ],
   "source": [
    "Data_Science_data['cleaned_resume'] = Data_Science_data['Resume'].apply(preprocess_text)\n",
    "Data_Science_data"
   ]
  },
  {
   "cell_type": "code",
   "execution_count": 28,
   "id": "58e43c3d-0b54-4a9c-bb90-4eda812ca6d0",
   "metadata": {},
   "outputs": [],
   "source": [
    "# Load the pre-trained BERT model\n",
    "model = SentenceTransformer('bert-base-nli-mean-tokens')"
   ]
  },
  {
   "cell_type": "code",
   "execution_count": 30,
   "id": "fae3d81f-2d53-427d-b40b-274838fdc21e",
   "metadata": {},
   "outputs": [
    {
     "data": {
      "application/vnd.jupyter.widget-view+json": {
       "model_id": "7af2c5cc742646abb24f3b28f17f5e09",
       "version_major": 2,
       "version_minor": 0
      },
      "text/plain": [
       "Batches:   0%|          | 0/1 [00:00<?, ?it/s]"
      ]
     },
     "metadata": {},
     "output_type": "display_data"
    }
   ],
   "source": [
    "# Generate BERT embeddings for resumes\n",
    "resume_embeddings = model.encode(Data_Science_data['cleaned_resume'].tolist(), show_progress_bar=True)\n",
    "\n",
    "# Convert embeddings to a NumPy array (for efficient computation)\n",
    "resume_embeddings = np.array(resume_embeddings)"
   ]
  },
  {
   "cell_type": "code",
   "execution_count": 32,
   "id": "40039198-b163-42b3-8448-0d1dace4177e",
   "metadata": {},
   "outputs": [],
   "source": [
    "# Preprocess the job description\n",
    "cleaned_job_desc = preprocess_text(job_describtion)\n",
    "\n",
    "# Generate BERT embedding for the job description\n",
    "job_desc_embedding = model.encode([cleaned_job_desc])"
   ]
  },
  {
   "cell_type": "code",
   "execution_count": 33,
   "id": "2d747d0b-53cc-4b44-8109-ebbca41a5f85",
   "metadata": {},
   "outputs": [],
   "source": [
    "def compute_cosine_similarity(job_desc_embedding, resume_embeddings, hr_data):\n",
    "    # Ensure job_desc_embedding is a 2D array (1, N) where N is the embedding size\n",
    "    job_desc_embedding = np.array(job_desc_embedding).reshape(1, -1)\n",
    "    \n",
    "    # Compute cosine similarity between the job description and all resumes\n",
    "    similarity_scores = cosine_similarity(job_desc_embedding, resume_embeddings)\n",
    "\n",
    "    # Get all similarity scores for the job description with respect to each resume\n",
    "    all_similarity_scores = similarity_scores[0]\n",
    "\n",
    "    # Calculate the number of resumes to select (top 5%)\n",
    "    top_5_percent_count = int(len(all_similarity_scores) * 0.05)\n",
    "\n",
    "    # Get the indices of the top 5% most similar resumes\n",
    "    top_5_percent_indices = all_similarity_scores.argsort()[-top_5_percent_count:][::-1]\n",
    "\n",
    "    # Retrieve the top 5% most similar resumes\n",
    "    recommended_resumes = hr_data.iloc[top_5_percent_indices].copy()\n",
    "\n",
    "    # Retrieve the scores for the top 5% resumes\n",
    "    top_5_percent_scores = all_similarity_scores[top_5_percent_indices]\n",
    "\n",
    "    # Assign similarity scores explicitly\n",
    "    recommended_resumes['similarity_score'] = top_5_percent_scores\n",
    "\n",
    "    # Create the 'ai_chosen' column based on top 5% similarity scores in the original hr_data\n",
    "    hr_data['ai_chosen'] = np.where(hr_data.index.isin(top_5_percent_indices), 1, 0)\n",
    "\n",
    "    # Ensure the 'ai_chosen' column is also added to the recommended_resumes DataFrame\n",
    "    recommended_resumes['ai_chosen'] = hr_data.loc[top_5_percent_indices, 'ai_chosen'].values\n",
    "\n",
    "    return recommended_resumes, hr_data, all_similarity_scores, top_5_percent_indices\n"
   ]
  },
  {
   "cell_type": "code",
   "execution_count": 34,
   "id": "25767685-b8f6-4e7c-b476-cb4ab9218f19",
   "metadata": {},
   "outputs": [],
   "source": [
    "def evaluate_model(hr_data, top_5_percent_indices):\n",
    "    # Get human ground truth (chosen column)\n",
    "    y_true = hr_data['chosen'].values\n",
    "    # Get AI predictions (ai_chosen column)\n",
    "    y_pred = hr_data['ai_chosen'].values\n",
    "\n",
    "    # Calculate evaluation metrics\n",
    "    precision = precision_score(y_true, y_pred)\n",
    "    recall = recall_score(y_true, y_pred)\n",
    "    f1 = f1_score(y_true, y_pred)\n",
    "    accuracy = accuracy_score(y_true, y_pred)\n",
    "\n",
    "    # Compute confusion matrix\n",
    "    conf_matrix = confusion_matrix(y_true, y_pred)\n",
    "\n",
    "    # Output evaluation results\n",
    "    print(f\"Precision: {precision:.4f}\")\n",
    "    print(f\"Recall: {recall:.4f}\")\n",
    "    print(f\"F1 Score: {f1:.4f}\")\n",
    "    print(f\"Accuracy: {accuracy:.4f}\")\n",
    "\n",
    "    print(\"\\nConfusion Matrix:\")\n",
    "    print(conf_matrix)\n",
    "\n",
    "    return precision, recall, f1, accuracy, conf_matrix\n"
   ]
  },
  {
   "cell_type": "code",
   "execution_count": 35,
   "id": "72552b98-c6af-4ef0-824d-90572a60445c",
   "metadata": {},
   "outputs": [
    {
     "name": "stdout",
     "output_type": "stream",
     "text": [
      "Precision: 0.3000\n",
      "Recall: 1.0000\n",
      "F1 Score: 0.4615\n",
      "Accuracy: 0.3000\n",
      "\n",
      "Confusion Matrix:\n",
      "[[0 7]\n",
      " [0 3]]\n",
      "\n",
      "Recommended Resumes:\n",
      "                                              Resume  chosen  ai_chosen  \\\n",
      "6  Skills â¢ Python â¢ Tableau â¢ Data Visuali...       0          1   \n",
      "8  Personal Skills â¢ Ability to quickly grasp t...       0          1   \n",
      "9  Expertise â Data and Quantitative Analysis â...       1          1   \n",
      "3  Skills â¢ R â¢ Python â¢ SAP HANA â¢ Table...       0          1   \n",
      "5  SKILLS C Basics, IOT, Python, MATLAB, Data Sci...       0          1   \n",
      "2  Areas of Interest Deep Learning, Control Syste...       0          1   \n",
      "0  Skills * Programming Languages: Python (pandas...       1          1   \n",
      "1  Education Details \\nMay 2013 to May 2017 B.E  ...       0          1   \n",
      "7  Education Details \\n B.Tech   Rayat and Bahra ...       1          1   \n",
      "4  Education Details \\n MCA   YMCAUST,  Faridabad...       0          1   \n",
      "\n",
      "   similarity_score  \n",
      "6          0.803582  \n",
      "8          0.740443  \n",
      "9          0.689926  \n",
      "3          0.648497  \n",
      "5          0.627218  \n",
      "2          0.608804  \n",
      "0          0.605583  \n",
      "1          0.509810  \n",
      "7          0.449183  \n",
      "4          0.411005  \n"
     ]
    },
    {
     "name": "stderr",
     "output_type": "stream",
     "text": [
      "/var/folders/dm/y1vt4m8j43xbl9qk9zyfh22h0000gn/T/ipykernel_70637/3788104696.py:27: SettingWithCopyWarning: \n",
      "A value is trying to be set on a copy of a slice from a DataFrame.\n",
      "Try using .loc[row_indexer,col_indexer] = value instead\n",
      "\n",
      "See the caveats in the documentation: https://pandas.pydata.org/pandas-docs/stable/user_guide/indexing.html#returning-a-view-versus-a-copy\n",
      "  hr_data['ai_chosen'] = np.where(hr_data.index.isin(top_5_percent_indices), 1, 0)\n"
     ]
    }
   ],
   "source": [
    "# Step 1: Compute cosine similarity and get the recommended resumes\n",
    "recommended_resumes, hr_data, all_similarity_scores, top_5_percent_indices = compute_cosine_similarity(job_desc_embedding, resume_embeddings, Data_Science_data)\n",
    "\n",
    "# Step 2: Evaluate the model's performance based on human choices and AI's selections\n",
    "precision, recall, f1, accuracy, conf_matrix = evaluate_model(Data_Science_data, top_5_percent_indices)\n",
    "\n",
    "# Display recommended resumes\n",
    "print(\"\\nRecommended Resumes:\")\n",
    "print(recommended_resumes[[ 'Resume', 'chosen', 'ai_chosen', 'similarity_score']])\n"
   ]
  },
  {
   "cell_type": "code",
   "execution_count": null,
   "id": "7ea00e5a-b0a0-48ee-aef6-f17ddc74e163",
   "metadata": {},
   "outputs": [],
   "source": []
  }
 ],
 "metadata": {
  "kernelspec": {
   "display_name": "Python 3 (ipykernel)",
   "language": "python",
   "name": "python3"
  },
  "language_info": {
   "codemirror_mode": {
    "name": "ipython",
    "version": 3
   },
   "file_extension": ".py",
   "mimetype": "text/x-python",
   "name": "python",
   "nbconvert_exporter": "python",
   "pygments_lexer": "ipython3",
   "version": "3.9.6"
  }
 },
 "nbformat": 4,
 "nbformat_minor": 5
}
